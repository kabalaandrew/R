{
 "cells": [
  {
   "cell_type": "code",
   "execution_count": 34,
   "metadata": {
    "collapsed": false
   },
   "outputs": [],
   "source": [
    "library(dplyr)\n",
    "library(ggplot2)\n",
    "\n",
    "## import datasets\n",
    "df.car_torque <- read.csv(url(\"http://www.sharpsightlabs.com/wp-content/uploads/2014/11/auto-snout_torque_DATA.txt\"))\n",
    "df.car_0_60_times  <- read.csv(url(\"http://www.sharpsightlabs.com/wp-content/uploads/2014/11/auto-snout_0-60-times_DATA.txt\"))\n",
    "df.car_engine_size <- read.csv(url(\"http://www.sharpsightlabs.com/wp-content/uploads/2014/11/auto-snout_engine-size_DATA.txt\"))\n",
    "df.car_horsepower  <- read.csv(url(\"http://www.sharpsightlabs.com/wp-content/uploads/2014/11/auto-snout_horsepower_DATA.txt\"))\n",
    "df.car_top_speed   <- read.csv(url(\"http://www.sharpsightlabs.com/wp-content/uploads/2014/11/auto-snout_top-speed_DATA.txt\"))\n",
    "df.car_power_to_weight <- read.csv(url(\"http://www.sharpsightlabs.com/wp-content/uploads/2014/11/auto-snout_power-to-weight_DATA.txt\"))"
   ]
  },
  {
   "cell_type": "code",
   "execution_count": 35,
   "metadata": {
    "collapsed": false
   },
   "outputs": [
    {
     "data": {
      "text/html": [
       "<table>\n",
       "<thead><tr><th scope=col>car_full_nm</th><th scope=col>torque_lb_ft</th><th scope=col>rpm_torque_measure_point</th></tr></thead>\n",
       "<tbody>\n",
       "\t<tr><td>Bugatti Veyron 16.4 Grand Sport Vitesse - [2012]</td><td>1106                                            </td><td>3000                                            </td></tr>\n",
       "\t<tr><td>SSC Ultimate Aero TT - [2008]                   </td><td>1094                                            </td><td>6150                                            </td></tr>\n",
       "\t<tr><td>SSC Tuatara 6.9L V8 Twin Turbo - [2011]         </td><td>1042                                            </td><td>5000                                            </td></tr>\n",
       "\t<tr><td>Fisker Karma Hybrid - [2011]                    </td><td> 981                                            </td><td>   1                                            </td></tr>\n",
       "\t<tr><td>Hennessey Venom GT - [2010]                     </td><td> 972                                            </td><td>4200                                            </td></tr>\n",
       "\t<tr><td>Bugatti Veyron 8.0 litre W16 - [2005]           </td><td> 922                                            </td><td>2200                                            </td></tr>\n",
       "</tbody>\n",
       "</table>\n"
      ],
      "text/latex": [
       "\\begin{tabular}{r|lll}\n",
       " car\\_full\\_nm & torque\\_lb\\_ft & rpm\\_torque\\_measure\\_point\\\\\n",
       "\\hline\n",
       "\t Bugatti Veyron 16.4 Grand Sport Vitesse - {[}2012{]} & 1106                                                 & 3000                                                \\\\\n",
       "\t SSC Ultimate Aero TT - {[}2008{]}                    & 1094                                                 & 6150                                                \\\\\n",
       "\t SSC Tuatara 6.9L V8 Twin Turbo - {[}2011{]}          & 1042                                                 & 5000                                                \\\\\n",
       "\t Fisker Karma Hybrid - {[}2011{]}                     &  981                                                 &    1                                                \\\\\n",
       "\t Hennessey Venom GT - {[}2010{]}                      &  972                                                 & 4200                                                \\\\\n",
       "\t Bugatti Veyron 8.0 litre W16 - {[}2005{]}            &  922                                                 & 2200                                                \\\\\n",
       "\\end{tabular}\n"
      ],
      "text/markdown": [
       "\n",
       "car_full_nm | torque_lb_ft | rpm_torque_measure_point | \n",
       "|---|---|---|---|---|---|\n",
       "| Bugatti Veyron 16.4 Grand Sport Vitesse - [2012] | 1106                                             | 3000                                             | \n",
       "| SSC Ultimate Aero TT - [2008]                    | 1094                                             | 6150                                             | \n",
       "| SSC Tuatara 6.9L V8 Twin Turbo - [2011]          | 1042                                             | 5000                                             | \n",
       "| Fisker Karma Hybrid - [2011]                     |  981                                             |    1                                             | \n",
       "| Hennessey Venom GT - [2010]                      |  972                                             | 4200                                             | \n",
       "| Bugatti Veyron 8.0 litre W16 - [2005]            |  922                                             | 2200                                             | \n",
       "\n",
       "\n"
      ],
      "text/plain": [
       "  car_full_nm                                      torque_lb_ft\n",
       "1 Bugatti Veyron 16.4 Grand Sport Vitesse - [2012] 1106        \n",
       "2 SSC Ultimate Aero TT - [2008]                    1094        \n",
       "3 SSC Tuatara 6.9L V8 Twin Turbo - [2011]          1042        \n",
       "4 Fisker Karma Hybrid - [2011]                      981        \n",
       "5 Hennessey Venom GT - [2010]                       972        \n",
       "6 Bugatti Veyron 8.0 litre W16 - [2005]             922        \n",
       "  rpm_torque_measure_point\n",
       "1 3000                    \n",
       "2 6150                    \n",
       "3 5000                    \n",
       "4    1                    \n",
       "5 4200                    \n",
       "6 2200                    "
      ]
     },
     "metadata": {},
     "output_type": "display_data"
    },
    {
     "data": {
      "text/html": [
       "<table>\n",
       "<thead><tr><th scope=col>car_full_nm</th><th scope=col>car_0_60_time_seconds</th></tr></thead>\n",
       "<tbody>\n",
       "\t<tr><td>Ariel Atom V8 500 - [2008]                       </td><td>2.3                                              </td></tr>\n",
       "\t<tr><td>Bugatti Veyron 16.4 Grand Sport Vitesse - [2012] </td><td>2.5                                              </td></tr>\n",
       "\t<tr><td>Bugatti Veyron 8.0 litre W16 Super Sport - [2010]</td><td>2.5                                              </td></tr>\n",
       "\t<tr><td>Caparo T1 2.4 V8 - [2006]                        </td><td>2.5                                              </td></tr>\n",
       "\t<tr><td>Caparo T1 3.5l V8 - [2007]                       </td><td>2.5                                              </td></tr>\n",
       "\t<tr><td>Hennessey Venom GT - [2010]                      </td><td>2.5                                              </td></tr>\n",
       "</tbody>\n",
       "</table>\n"
      ],
      "text/latex": [
       "\\begin{tabular}{r|ll}\n",
       " car\\_full\\_nm & car\\_0\\_60\\_time\\_seconds\\\\\n",
       "\\hline\n",
       "\t Ariel Atom V8 500 - {[}2008{]}                        & 2.3                                                  \\\\\n",
       "\t Bugatti Veyron 16.4 Grand Sport Vitesse - {[}2012{]}  & 2.5                                                  \\\\\n",
       "\t Bugatti Veyron 8.0 litre W16 Super Sport - {[}2010{]} & 2.5                                                  \\\\\n",
       "\t Caparo T1 2.4 V8 - {[}2006{]}                         & 2.5                                                  \\\\\n",
       "\t Caparo T1 3.5l V8 - {[}2007{]}                        & 2.5                                                  \\\\\n",
       "\t Hennessey Venom GT - {[}2010{]}                       & 2.5                                                  \\\\\n",
       "\\end{tabular}\n"
      ],
      "text/markdown": [
       "\n",
       "car_full_nm | car_0_60_time_seconds | \n",
       "|---|---|---|---|---|---|\n",
       "| Ariel Atom V8 500 - [2008]                        | 2.3                                               | \n",
       "| Bugatti Veyron 16.4 Grand Sport Vitesse - [2012]  | 2.5                                               | \n",
       "| Bugatti Veyron 8.0 litre W16 Super Sport - [2010] | 2.5                                               | \n",
       "| Caparo T1 2.4 V8 - [2006]                         | 2.5                                               | \n",
       "| Caparo T1 3.5l V8 - [2007]                        | 2.5                                               | \n",
       "| Hennessey Venom GT - [2010]                       | 2.5                                               | \n",
       "\n",
       "\n"
      ],
      "text/plain": [
       "  car_full_nm                                       car_0_60_time_seconds\n",
       "1 Ariel Atom V8 500 - [2008]                        2.3                  \n",
       "2 Bugatti Veyron 16.4 Grand Sport Vitesse - [2012]  2.5                  \n",
       "3 Bugatti Veyron 8.0 litre W16 Super Sport - [2010] 2.5                  \n",
       "4 Caparo T1 2.4 V8 - [2006]                         2.5                  \n",
       "5 Caparo T1 3.5l V8 - [2007]                        2.5                  \n",
       "6 Hennessey Venom GT - [2010]                       2.5                  "
      ]
     },
     "metadata": {},
     "output_type": "display_data"
    },
    {
     "data": {
      "text/html": [
       "<table>\n",
       "<thead><tr><th scope=col>car_full_nm</th><th scope=col>engine_size_cc</th><th scope=col>engine_size_ci</th></tr></thead>\n",
       "<tbody>\n",
       "\t<tr><td>Dodge Viper SRT10 ACR - [2007]       </td><td>8382                                 </td><td>511.5                                </td></tr>\n",
       "\t<tr><td>Dodge Viper SRT-10 8.3 V10 - [2005]  </td><td>8285                                 </td><td>505.5                                </td></tr>\n",
       "\t<tr><td>Dodge Viper SRT-10 8.3 V10 - [2003]  </td><td>8285                                 </td><td>505.5                                </td></tr>\n",
       "\t<tr><td>Dodge Viper SRT/10 8.0L V10 - [1992] </td><td>7997                                 </td><td>488.0                                </td></tr>\n",
       "\t<tr><td>Dodge Viper 8.0L V10 - [1989]        </td><td>7994                                 </td><td>487.8                                </td></tr>\n",
       "\t<tr><td>Bugatti Veyron 8.0 litre W16 - [2005]</td><td>7993                                 </td><td>487.7                                </td></tr>\n",
       "</tbody>\n",
       "</table>\n"
      ],
      "text/latex": [
       "\\begin{tabular}{r|lll}\n",
       " car\\_full\\_nm & engine\\_size\\_cc & engine\\_size\\_ci\\\\\n",
       "\\hline\n",
       "\t Dodge Viper SRT10 ACR - {[}2007{]}        & 8382                                      & 511.5                                    \\\\\n",
       "\t Dodge Viper SRT-10 8.3 V10 - {[}2005{]}   & 8285                                      & 505.5                                    \\\\\n",
       "\t Dodge Viper SRT-10 8.3 V10 - {[}2003{]}   & 8285                                      & 505.5                                    \\\\\n",
       "\t Dodge Viper SRT/10 8.0L V10 - {[}1992{]}  & 7997                                      & 488.0                                    \\\\\n",
       "\t Dodge Viper 8.0L V10 - {[}1989{]}         & 7994                                      & 487.8                                    \\\\\n",
       "\t Bugatti Veyron 8.0 litre W16 - {[}2005{]} & 7993                                      & 487.7                                    \\\\\n",
       "\\end{tabular}\n"
      ],
      "text/markdown": [
       "\n",
       "car_full_nm | engine_size_cc | engine_size_ci | \n",
       "|---|---|---|---|---|---|\n",
       "| Dodge Viper SRT10 ACR - [2007]        | 8382                                  | 511.5                                 | \n",
       "| Dodge Viper SRT-10 8.3 V10 - [2005]   | 8285                                  | 505.5                                 | \n",
       "| Dodge Viper SRT-10 8.3 V10 - [2003]   | 8285                                  | 505.5                                 | \n",
       "| Dodge Viper SRT/10 8.0L V10 - [1992]  | 7997                                  | 488.0                                 | \n",
       "| Dodge Viper 8.0L V10 - [1989]         | 7994                                  | 487.8                                 | \n",
       "| Bugatti Veyron 8.0 litre W16 - [2005] | 7993                                  | 487.7                                 | \n",
       "\n",
       "\n"
      ],
      "text/plain": [
       "  car_full_nm                           engine_size_cc engine_size_ci\n",
       "1 Dodge Viper SRT10 ACR - [2007]        8382           511.5         \n",
       "2 Dodge Viper SRT-10 8.3 V10 - [2005]   8285           505.5         \n",
       "3 Dodge Viper SRT-10 8.3 V10 - [2003]   8285           505.5         \n",
       "4 Dodge Viper SRT/10 8.0L V10 - [1992]  7997           488.0         \n",
       "5 Dodge Viper 8.0L V10 - [1989]         7994           487.8         \n",
       "6 Bugatti Veyron 8.0 litre W16 - [2005] 7993           487.7         "
      ]
     },
     "metadata": {},
     "output_type": "display_data"
    },
    {
     "data": {
      "text/html": [
       "<table>\n",
       "<thead><tr><th scope=col>car_full_nm</th><th scope=col>horsepower_bhp</th><th scope=col>rpm_horsepower_measure_point</th></tr></thead>\n",
       "<tbody>\n",
       "\t<tr><td>Bugatti Veyron 8.0 litre W16 Super Sport - [2010]</td><td>1184                                             </td><td>6400                                             </td></tr>\n",
       "\t<tr><td>Bugatti Veyron 16.4 Grand Sport Vitesse - [2012] </td><td>1184                                             </td><td>6400                                             </td></tr>\n",
       "\t<tr><td>SSC Ultimate Aero TT - [2008]                    </td><td>1183                                             </td><td>6950                                             </td></tr>\n",
       "\t<tr><td>Koenigsegg Agera R 5.0 V8 - [2012]               </td><td>1124                                             </td><td>7100                                             </td></tr>\n",
       "\t<tr><td>Porsche 9FF GT9R - [2009]                        </td><td>1120                                             </td><td>7850                                             </td></tr>\n",
       "\t<tr><td>Koenigsegg Agera 5L V8 - [2011]                  </td><td>1100                                             </td><td>2700                                             </td></tr>\n",
       "</tbody>\n",
       "</table>\n"
      ],
      "text/latex": [
       "\\begin{tabular}{r|lll}\n",
       " car\\_full\\_nm & horsepower\\_bhp & rpm\\_horsepower\\_measure\\_point\\\\\n",
       "\\hline\n",
       "\t Bugatti Veyron 8.0 litre W16 Super Sport - {[}2010{]} & 1184                                                  & 6400                                                 \\\\\n",
       "\t Bugatti Veyron 16.4 Grand Sport Vitesse - {[}2012{]}  & 1184                                                  & 6400                                                 \\\\\n",
       "\t SSC Ultimate Aero TT - {[}2008{]}                     & 1183                                                  & 6950                                                 \\\\\n",
       "\t Koenigsegg Agera R 5.0 V8 - {[}2012{]}                & 1124                                                  & 7100                                                 \\\\\n",
       "\t Porsche 9FF GT9R - {[}2009{]}                         & 1120                                                  & 7850                                                 \\\\\n",
       "\t Koenigsegg Agera 5L V8 - {[}2011{]}                   & 1100                                                  & 2700                                                 \\\\\n",
       "\\end{tabular}\n"
      ],
      "text/markdown": [
       "\n",
       "car_full_nm | horsepower_bhp | rpm_horsepower_measure_point | \n",
       "|---|---|---|---|---|---|\n",
       "| Bugatti Veyron 8.0 litre W16 Super Sport - [2010] | 1184                                              | 6400                                              | \n",
       "| Bugatti Veyron 16.4 Grand Sport Vitesse - [2012]  | 1184                                              | 6400                                              | \n",
       "| SSC Ultimate Aero TT - [2008]                     | 1183                                              | 6950                                              | \n",
       "| Koenigsegg Agera R 5.0 V8 - [2012]                | 1124                                              | 7100                                              | \n",
       "| Porsche 9FF GT9R - [2009]                         | 1120                                              | 7850                                              | \n",
       "| Koenigsegg Agera 5L V8 - [2011]                   | 1100                                              | 2700                                              | \n",
       "\n",
       "\n"
      ],
      "text/plain": [
       "  car_full_nm                                       horsepower_bhp\n",
       "1 Bugatti Veyron 8.0 litre W16 Super Sport - [2010] 1184          \n",
       "2 Bugatti Veyron 16.4 Grand Sport Vitesse - [2012]  1184          \n",
       "3 SSC Ultimate Aero TT - [2008]                     1183          \n",
       "4 Koenigsegg Agera R 5.0 V8 - [2012]                1124          \n",
       "5 Porsche 9FF GT9R - [2009]                         1120          \n",
       "6 Koenigsegg Agera 5L V8 - [2011]                   1100          \n",
       "  rpm_horsepower_measure_point\n",
       "1 6400                        \n",
       "2 6400                        \n",
       "3 6950                        \n",
       "4 7100                        \n",
       "5 7850                        \n",
       "6 2700                        "
      ]
     },
     "metadata": {},
     "output_type": "display_data"
    },
    {
     "data": {
      "text/html": [
       "<table>\n",
       "<thead><tr><th scope=col>car_full_nm</th><th scope=col>top_speed_mph</th><th scope=col>top_speed_kph</th></tr></thead>\n",
       "<tbody>\n",
       "\t<tr><td>SSC Tuatara 6.9L V8 Twin Turbo - [2011]          </td><td>276                                              </td><td>444                                              </td></tr>\n",
       "\t<tr><td>Koenigsegg Agera R 5.0 V8 - [2012]               </td><td>273                                              </td><td>439                                              </td></tr>\n",
       "\t<tr><td>SSC Ultimate Aero TT - [2008]                    </td><td>273                                              </td><td>439                                              </td></tr>\n",
       "\t<tr><td>Koenigsegg Agera 5L V8 - [2011]                  </td><td>261                                              </td><td>420                                              </td></tr>\n",
       "\t<tr><td>Hennessey Venom GT - [2010]                      </td><td>260                                              </td><td>418                                              </td></tr>\n",
       "\t<tr><td>Bugatti Veyron 8.0 litre W16 Super Sport - [2010]</td><td>258                                              </td><td>415                                              </td></tr>\n",
       "</tbody>\n",
       "</table>\n"
      ],
      "text/latex": [
       "\\begin{tabular}{r|lll}\n",
       " car\\_full\\_nm & top\\_speed\\_mph & top\\_speed\\_kph\\\\\n",
       "\\hline\n",
       "\t SSC Tuatara 6.9L V8 Twin Turbo - {[}2011{]}           & 276                                                   & 444                                                  \\\\\n",
       "\t Koenigsegg Agera R 5.0 V8 - {[}2012{]}                & 273                                                   & 439                                                  \\\\\n",
       "\t SSC Ultimate Aero TT - {[}2008{]}                     & 273                                                   & 439                                                  \\\\\n",
       "\t Koenigsegg Agera 5L V8 - {[}2011{]}                   & 261                                                   & 420                                                  \\\\\n",
       "\t Hennessey Venom GT - {[}2010{]}                       & 260                                                   & 418                                                  \\\\\n",
       "\t Bugatti Veyron 8.0 litre W16 Super Sport - {[}2010{]} & 258                                                   & 415                                                  \\\\\n",
       "\\end{tabular}\n"
      ],
      "text/markdown": [
       "\n",
       "car_full_nm | top_speed_mph | top_speed_kph | \n",
       "|---|---|---|---|---|---|\n",
       "| SSC Tuatara 6.9L V8 Twin Turbo - [2011]           | 276                                               | 444                                               | \n",
       "| Koenigsegg Agera R 5.0 V8 - [2012]                | 273                                               | 439                                               | \n",
       "| SSC Ultimate Aero TT - [2008]                     | 273                                               | 439                                               | \n",
       "| Koenigsegg Agera 5L V8 - [2011]                   | 261                                               | 420                                               | \n",
       "| Hennessey Venom GT - [2010]                       | 260                                               | 418                                               | \n",
       "| Bugatti Veyron 8.0 litre W16 Super Sport - [2010] | 258                                               | 415                                               | \n",
       "\n",
       "\n"
      ],
      "text/plain": [
       "  car_full_nm                                       top_speed_mph top_speed_kph\n",
       "1 SSC Tuatara 6.9L V8 Twin Turbo - [2011]           276           444          \n",
       "2 Koenigsegg Agera R 5.0 V8 - [2012]                273           439          \n",
       "3 SSC Ultimate Aero TT - [2008]                     273           439          \n",
       "4 Koenigsegg Agera 5L V8 - [2011]                   261           420          \n",
       "5 Hennessey Venom GT - [2010]                       260           418          \n",
       "6 Bugatti Veyron 8.0 litre W16 Super Sport - [2010] 258           415          "
      ]
     },
     "metadata": {},
     "output_type": "display_data"
    },
    {
     "data": {
      "text/html": [
       "<table>\n",
       "<thead><tr><th scope=col>car_full_nm</th><th scope=col>horsepower_per_ton_bhp</th></tr></thead>\n",
       "<tbody>\n",
       "\t<tr><td>Caparo T1 3.5l V8 - [2007]        </td><td>1045.4                            </td></tr>\n",
       "\t<tr><td>Caparo T1 2.4 V8 - [2006]         </td><td>1021.2                            </td></tr>\n",
       "\t<tr><td>Caterham 7 RST-V8 Levante - [2008]</td><td> 961.5                            </td></tr>\n",
       "\t<tr><td>SSC Ultimate Aero TT - [2008]     </td><td> 946.4                            </td></tr>\n",
       "\t<tr><td>Ariel Atom V8 500 - [2008]        </td><td> 863.6                            </td></tr>\n",
       "\t<tr><td>Hennessey Venom GT - [2010]       </td><td> 844.2                            </td></tr>\n",
       "</tbody>\n",
       "</table>\n"
      ],
      "text/latex": [
       "\\begin{tabular}{r|ll}\n",
       " car\\_full\\_nm & horsepower\\_per\\_ton\\_bhp\\\\\n",
       "\\hline\n",
       "\t Caparo T1 3.5l V8 - {[}2007{]}         & 1045.4                                \\\\\n",
       "\t Caparo T1 2.4 V8 - {[}2006{]}          & 1021.2                                \\\\\n",
       "\t Caterham 7 RST-V8 Levante - {[}2008{]} &  961.5                                \\\\\n",
       "\t SSC Ultimate Aero TT - {[}2008{]}      &  946.4                                \\\\\n",
       "\t Ariel Atom V8 500 - {[}2008{]}         &  863.6                                \\\\\n",
       "\t Hennessey Venom GT - {[}2010{]}        &  844.2                                \\\\\n",
       "\\end{tabular}\n"
      ],
      "text/markdown": [
       "\n",
       "car_full_nm | horsepower_per_ton_bhp | \n",
       "|---|---|---|---|---|---|\n",
       "| Caparo T1 3.5l V8 - [2007]         | 1045.4                             | \n",
       "| Caparo T1 2.4 V8 - [2006]          | 1021.2                             | \n",
       "| Caterham 7 RST-V8 Levante - [2008] |  961.5                             | \n",
       "| SSC Ultimate Aero TT - [2008]      |  946.4                             | \n",
       "| Ariel Atom V8 500 - [2008]         |  863.6                             | \n",
       "| Hennessey Venom GT - [2010]        |  844.2                             | \n",
       "\n",
       "\n"
      ],
      "text/plain": [
       "  car_full_nm                        horsepower_per_ton_bhp\n",
       "1 Caparo T1 3.5l V8 - [2007]         1045.4                \n",
       "2 Caparo T1 2.4 V8 - [2006]          1021.2                \n",
       "3 Caterham 7 RST-V8 Levante - [2008]  961.5                \n",
       "4 SSC Ultimate Aero TT - [2008]       946.4                \n",
       "5 Ariel Atom V8 500 - [2008]          863.6                \n",
       "6 Hennessey Venom GT - [2010]         844.2                "
      ]
     },
     "metadata": {},
     "output_type": "display_data"
    }
   ],
   "source": [
    "#-------------------------\n",
    "# Inspect data with head()\n",
    "#-------------------------\n",
    "head(df.car_torque)\n",
    "head(df.car_0_60_times)\n",
    "head(df.car_engine_size)\n",
    "head(df.car_horsepower)\n",
    "head(df.car_top_speed)\n",
    "head(df.car_power_to_weight)"
   ]
  },
  {
   "cell_type": "markdown",
   "metadata": {},
   "source": [
    "## Examine the data"
   ]
  },
  {
   "cell_type": "code",
   "execution_count": 36,
   "metadata": {
    "collapsed": false
   },
   "outputs": [
    {
     "data": {
      "text/html": [
       "<table>\n",
       "<thead><tr><th scope=col>car_full_nm</th><th scope=col>count</th></tr></thead>\n",
       "<tbody>\n",
       "\t<tr><td>Chevrolet Chevy II Nova SS 283 V8 Turbo Fire - [1964]</td><td>2                                                    </td></tr>\n",
       "\t<tr><td>Koenigsegg CCX 4.7 V8 Supercharged - [2006]          </td><td>2                                                    </td></tr>\n",
       "\t<tr><td>Pontiac Bonneville 6.4L V8 - [1960]                  </td><td>2                                                    </td></tr>\n",
       "</tbody>\n",
       "</table>\n"
      ],
      "text/latex": [
       "\\begin{tabular}{r|ll}\n",
       " car\\_full\\_nm & count\\\\\n",
       "\\hline\n",
       "\t Chevrolet Chevy II Nova SS 283 V8 Turbo Fire - {[}1964{]} & 2                                                        \\\\\n",
       "\t Koenigsegg CCX 4.7 V8 Supercharged - {[}2006{]}           & 2                                                        \\\\\n",
       "\t Pontiac Bonneville 6.4L V8 - {[}1960{]}                   & 2                                                        \\\\\n",
       "\\end{tabular}\n"
      ],
      "text/markdown": [
       "\n",
       "car_full_nm | count | \n",
       "|---|---|---|\n",
       "| Chevrolet Chevy II Nova SS 283 V8 Turbo Fire - [1964] | 2                                                     | \n",
       "| Koenigsegg CCX 4.7 V8 Supercharged - [2006]           | 2                                                     | \n",
       "| Pontiac Bonneville 6.4L V8 - [1960]                   | 2                                                     | \n",
       "\n",
       "\n"
      ],
      "text/plain": [
       "  car_full_nm                                           count\n",
       "1 Chevrolet Chevy II Nova SS 283 V8 Turbo Fire - [1964] 2    \n",
       "2 Koenigsegg CCX 4.7 V8 Supercharged - [2006]           2    \n",
       "3 Pontiac Bonneville 6.4L V8 - [1960]                   2    "
      ]
     },
     "metadata": {},
     "output_type": "display_data"
    },
    {
     "data": {
      "text/html": [
       "<table>\n",
       "<thead><tr><th scope=col>car_full_nm</th><th scope=col>count</th></tr></thead>\n",
       "<tbody>\n",
       "\t<tr><td>Koenigsegg CCX 4.7 V8 Supercharged - [2006]</td><td>2                                          </td></tr>\n",
       "</tbody>\n",
       "</table>\n"
      ],
      "text/latex": [
       "\\begin{tabular}{r|ll}\n",
       " car\\_full\\_nm & count\\\\\n",
       "\\hline\n",
       "\t Koenigsegg CCX 4.7 V8 Supercharged - {[}2006{]} & 2                                              \\\\\n",
       "\\end{tabular}\n"
      ],
      "text/markdown": [
       "\n",
       "car_full_nm | count | \n",
       "|---|\n",
       "| Koenigsegg CCX 4.7 V8 Supercharged - [2006] | 2                                           | \n",
       "\n",
       "\n"
      ],
      "text/plain": [
       "  car_full_nm                                 count\n",
       "1 Koenigsegg CCX 4.7 V8 Supercharged - [2006] 2    "
      ]
     },
     "metadata": {},
     "output_type": "display_data"
    },
    {
     "data": {
      "text/html": [
       "<table>\n",
       "<thead><tr><th scope=col>car_full_nm</th><th scope=col>count</th></tr></thead>\n",
       "<tbody>\n",
       "\t<tr><td>Chevrolet Chevy II Nova SS 283 V8 Turbo Fire - [1964]</td><td>2                                                    </td></tr>\n",
       "\t<tr><td>Koenigsegg CCX 4.7 V8 Supercharged - [2006]          </td><td>2                                                    </td></tr>\n",
       "\t<tr><td>Pontiac Bonneville 6.4L V8 - [1960]                  </td><td>2                                                    </td></tr>\n",
       "</tbody>\n",
       "</table>\n"
      ],
      "text/latex": [
       "\\begin{tabular}{r|ll}\n",
       " car\\_full\\_nm & count\\\\\n",
       "\\hline\n",
       "\t Chevrolet Chevy II Nova SS 283 V8 Turbo Fire - {[}1964{]} & 2                                                        \\\\\n",
       "\t Koenigsegg CCX 4.7 V8 Supercharged - {[}2006{]}           & 2                                                        \\\\\n",
       "\t Pontiac Bonneville 6.4L V8 - {[}1960{]}                   & 2                                                        \\\\\n",
       "\\end{tabular}\n"
      ],
      "text/markdown": [
       "\n",
       "car_full_nm | count | \n",
       "|---|---|---|\n",
       "| Chevrolet Chevy II Nova SS 283 V8 Turbo Fire - [1964] | 2                                                     | \n",
       "| Koenigsegg CCX 4.7 V8 Supercharged - [2006]           | 2                                                     | \n",
       "| Pontiac Bonneville 6.4L V8 - [1960]                   | 2                                                     | \n",
       "\n",
       "\n"
      ],
      "text/plain": [
       "  car_full_nm                                           count\n",
       "1 Chevrolet Chevy II Nova SS 283 V8 Turbo Fire - [1964] 2    \n",
       "2 Koenigsegg CCX 4.7 V8 Supercharged - [2006]           2    \n",
       "3 Pontiac Bonneville 6.4L V8 - [1960]                   2    "
      ]
     },
     "metadata": {},
     "output_type": "display_data"
    },
    {
     "data": {
      "text/html": [
       "<table>\n",
       "<thead><tr><th scope=col>car_full_nm</th><th scope=col>count</th></tr></thead>\n",
       "<tbody>\n",
       "\t<tr><td>Chevrolet Chevy II Nova SS 283 V8 Turbo Fire - [1964]</td><td>2                                                    </td></tr>\n",
       "\t<tr><td>Koenigsegg CCX 4.7 V8 Supercharged - [2006]          </td><td>2                                                    </td></tr>\n",
       "\t<tr><td>Pontiac Bonneville 6.4L V8 - [1960]                  </td><td>2                                                    </td></tr>\n",
       "</tbody>\n",
       "</table>\n"
      ],
      "text/latex": [
       "\\begin{tabular}{r|ll}\n",
       " car\\_full\\_nm & count\\\\\n",
       "\\hline\n",
       "\t Chevrolet Chevy II Nova SS 283 V8 Turbo Fire - {[}1964{]} & 2                                                        \\\\\n",
       "\t Koenigsegg CCX 4.7 V8 Supercharged - {[}2006{]}           & 2                                                        \\\\\n",
       "\t Pontiac Bonneville 6.4L V8 - {[}1960{]}                   & 2                                                        \\\\\n",
       "\\end{tabular}\n"
      ],
      "text/markdown": [
       "\n",
       "car_full_nm | count | \n",
       "|---|---|---|\n",
       "| Chevrolet Chevy II Nova SS 283 V8 Turbo Fire - [1964] | 2                                                     | \n",
       "| Koenigsegg CCX 4.7 V8 Supercharged - [2006]           | 2                                                     | \n",
       "| Pontiac Bonneville 6.4L V8 - [1960]                   | 2                                                     | \n",
       "\n",
       "\n"
      ],
      "text/plain": [
       "  car_full_nm                                           count\n",
       "1 Chevrolet Chevy II Nova SS 283 V8 Turbo Fire - [1964] 2    \n",
       "2 Koenigsegg CCX 4.7 V8 Supercharged - [2006]           2    \n",
       "3 Pontiac Bonneville 6.4L V8 - [1960]                   2    "
      ]
     },
     "metadata": {},
     "output_type": "display_data"
    },
    {
     "data": {
      "text/html": [
       "<table>\n",
       "<thead><tr><th scope=col>car_full_nm</th><th scope=col>count</th></tr></thead>\n",
       "<tbody>\n",
       "\t<tr><td>Chevrolet Chevy II Nova SS 283 V8 Turbo Fire - [1964]</td><td>2                                                    </td></tr>\n",
       "\t<tr><td>Koenigsegg CCX 4.7 V8 Supercharged - [2006]          </td><td>2                                                    </td></tr>\n",
       "\t<tr><td>Pontiac Bonneville 6.4L V8 - [1960]                  </td><td>2                                                    </td></tr>\n",
       "</tbody>\n",
       "</table>\n"
      ],
      "text/latex": [
       "\\begin{tabular}{r|ll}\n",
       " car\\_full\\_nm & count\\\\\n",
       "\\hline\n",
       "\t Chevrolet Chevy II Nova SS 283 V8 Turbo Fire - {[}1964{]} & 2                                                        \\\\\n",
       "\t Koenigsegg CCX 4.7 V8 Supercharged - {[}2006{]}           & 2                                                        \\\\\n",
       "\t Pontiac Bonneville 6.4L V8 - {[}1960{]}                   & 2                                                        \\\\\n",
       "\\end{tabular}\n"
      ],
      "text/markdown": [
       "\n",
       "car_full_nm | count | \n",
       "|---|---|---|\n",
       "| Chevrolet Chevy II Nova SS 283 V8 Turbo Fire - [1964] | 2                                                     | \n",
       "| Koenigsegg CCX 4.7 V8 Supercharged - [2006]           | 2                                                     | \n",
       "| Pontiac Bonneville 6.4L V8 - [1960]                   | 2                                                     | \n",
       "\n",
       "\n"
      ],
      "text/plain": [
       "  car_full_nm                                           count\n",
       "1 Chevrolet Chevy II Nova SS 283 V8 Turbo Fire - [1964] 2    \n",
       "2 Koenigsegg CCX 4.7 V8 Supercharged - [2006]           2    \n",
       "3 Pontiac Bonneville 6.4L V8 - [1960]                   2    "
      ]
     },
     "metadata": {},
     "output_type": "display_data"
    },
    {
     "data": {
      "text/html": [
       "<table>\n",
       "<thead><tr><th scope=col>car_full_nm</th><th scope=col>count</th></tr></thead>\n",
       "<tbody>\n",
       "\t<tr><td>Chevrolet Chevy II Nova SS 283 V8 Turbo Fire - [1964]</td><td>2                                                    </td></tr>\n",
       "\t<tr><td>Koenigsegg CCX 4.7 V8 Supercharged - [2006]          </td><td>2                                                    </td></tr>\n",
       "\t<tr><td>Pontiac Bonneville 6.4L V8 - [1960]                  </td><td>2                                                    </td></tr>\n",
       "</tbody>\n",
       "</table>\n"
      ],
      "text/latex": [
       "\\begin{tabular}{r|ll}\n",
       " car\\_full\\_nm & count\\\\\n",
       "\\hline\n",
       "\t Chevrolet Chevy II Nova SS 283 V8 Turbo Fire - {[}1964{]} & 2                                                        \\\\\n",
       "\t Koenigsegg CCX 4.7 V8 Supercharged - {[}2006{]}           & 2                                                        \\\\\n",
       "\t Pontiac Bonneville 6.4L V8 - {[}1960{]}                   & 2                                                        \\\\\n",
       "\\end{tabular}\n"
      ],
      "text/markdown": [
       "\n",
       "car_full_nm | count | \n",
       "|---|---|---|\n",
       "| Chevrolet Chevy II Nova SS 283 V8 Turbo Fire - [1964] | 2                                                     | \n",
       "| Koenigsegg CCX 4.7 V8 Supercharged - [2006]           | 2                                                     | \n",
       "| Pontiac Bonneville 6.4L V8 - [1960]                   | 2                                                     | \n",
       "\n",
       "\n"
      ],
      "text/plain": [
       "  car_full_nm                                           count\n",
       "1 Chevrolet Chevy II Nova SS 283 V8 Turbo Fire - [1964] 2    \n",
       "2 Koenigsegg CCX 4.7 V8 Supercharged - [2006]           2    \n",
       "3 Pontiac Bonneville 6.4L V8 - [1960]                   2    "
      ]
     },
     "metadata": {},
     "output_type": "display_data"
    }
   ],
   "source": [
    "## Look for duplicates\n",
    "df.car_torque %>% group_by(car_full_nm) %>% summarise(count=n()) %>% filter(count!=1)\n",
    "df.car_0_60_times  %>% group_by(car_full_nm) %>% summarise(count=n()) %>% filter(count!=1)\n",
    "df.car_engine_size %>% group_by(car_full_nm) %>% summarise(count=n()) %>% filter(count!=1)\n",
    "df.car_horsepower  %>% group_by(car_full_nm) %>% summarise(count=n()) %>% filter(count!=1)\n",
    "df.car_top_speed   %>% group_by(car_full_nm) %>% summarise(count=n()) %>% filter(count!=1)\n",
    "df.car_power_to_weight %>% group_by(car_full_nm) %>% summarise(count=n()) %>% filter(count!=1)"
   ]
  },
  {
   "cell_type": "code",
   "execution_count": 37,
   "metadata": {
    "collapsed": true
   },
   "outputs": [],
   "source": [
    "## remove the duplicate records to prepare for joins\n",
    "## we  use the distinct() function\n",
    "df.car_0_60_times  <- distinct(df.car_0_60_times ,car_full_nm)\n",
    "df.car_engine_size <- distinct(df.car_engine_size ,car_full_nm)\n",
    "df.car_horsepower  <- distinct(df.car_horsepower ,car_full_nm)\n",
    "df.car_top_speed   <- distinct(df.car_top_speed ,car_full_nm)\n",
    "df.car_torque      <- distinct(df.car_torque ,car_full_nm)\n",
    "df.car_power_to_weight <- distinct(df.car_power_to_weight, car_full_nm)"
   ]
  },
  {
   "cell_type": "markdown",
   "metadata": {},
   "source": [
    "## Join datasets into one dataframe"
   ]
  },
  {
   "cell_type": "code",
   "execution_count": 38,
   "metadata": {
    "collapsed": false
   },
   "outputs": [
    {
     "name": "stderr",
     "output_type": "stream",
     "text": [
      "Warning message in left_join_impl(x, y, by$x, by$y, suffix$x, suffix$y):\n",
      "\"joining factors with different levels, coercing to character vector\"Warning message in left_join_impl(x, y, by$x, by$y, suffix$x, suffix$y):\n",
      "\"joining factor and character vector, coercing into character vector\"Warning message in left_join_impl(x, y, by$x, by$y, suffix$x, suffix$y):\n",
      "\"joining factor and character vector, coercing into character vector\"Warning message in left_join_impl(x, y, by$x, by$y, suffix$x, suffix$y):\n",
      "\"joining factor and character vector, coercing into character vector\"Warning message in left_join_impl(x, y, by$x, by$y, suffix$x, suffix$y):\n",
      "\"joining factor and character vector, coercing into character vector\""
     ]
    }
   ],
   "source": [
    "#############\n",
    "# JOIN DATA #\n",
    "#############\n",
    "\n",
    "df.car_spec_data <- left_join(df.car_horsepower, df.car_torque, by=\"car_full_nm\")      # count after join: 1578\n",
    "df.car_spec_data <- left_join(df.car_spec_data, df.car_0_60_times, by=\"car_full_nm\")   # count after join: 1578\n",
    "df.car_spec_data <- left_join(df.car_spec_data, df.car_engine_size, by=\"car_full_nm\")  # count after join: 1578\n",
    "df.car_spec_data <- left_join(df.car_spec_data, df.car_top_speed, by=\"car_full_nm\")    # count after join: 1578\n",
    "df.car_spec_data <- left_join(df.car_spec_data, df.car_power_to_weight, by=\"car_full_nm\") # count after join: 1578"
   ]
  },
  {
   "cell_type": "code",
   "execution_count": 39,
   "metadata": {
    "collapsed": false
   },
   "outputs": [],
   "source": [
    "# Test duplicates\n",
    "df.car_spec_data %>% group_by(car_full_nm) %>% summarise(count=n()) %>% filter(count!=1)"
   ]
  },
  {
   "cell_type": "code",
   "execution_count": 41,
   "metadata": {
    "collapsed": false
   },
   "outputs": [
    {
     "name": "stdout",
     "output_type": "stream",
     "text": [
      "'data.frame':\t1578 obs. of  1 variable:\n",
      " $ car_full_nm: chr  \"Bugatti Veyron 8.0 litre W16 Super Sport - [2010]\" \"Bugatti Veyron 16.4 Grand Sport Vitesse - [2012]\" \"SSC Ultimate Aero TT - [2008]\" \"Koenigsegg Agera R 5.0 V8 - [2012]\" ...\n"
     ]
    },
    {
     "data": {
      "text/html": [
       "<table>\n",
       "<thead><tr><th scope=col>car_full_nm</th></tr></thead>\n",
       "<tbody>\n",
       "\t<tr><td>Bugatti Veyron 8.0 litre W16 Super Sport - [2010]</td></tr>\n",
       "\t<tr><td>Bugatti Veyron 16.4 Grand Sport Vitesse - [2012] </td></tr>\n",
       "\t<tr><td>SSC Ultimate Aero TT - [2008]                    </td></tr>\n",
       "\t<tr><td>Koenigsegg Agera R 5.0 V8 - [2012]               </td></tr>\n",
       "\t<tr><td>Porsche 9FF GT9R - [2009]                        </td></tr>\n",
       "\t<tr><td>Koenigsegg Agera 5L V8 - [2011]                  </td></tr>\n",
       "</tbody>\n",
       "</table>\n"
      ],
      "text/latex": [
       "\\begin{tabular}{r|l}\n",
       " car\\_full\\_nm\\\\\n",
       "\\hline\n",
       "\t Bugatti Veyron 8.0 litre W16 Super Sport - {[}2010{]}\\\\\n",
       "\t Bugatti Veyron 16.4 Grand Sport Vitesse - {[}2012{]} \\\\\n",
       "\t SSC Ultimate Aero TT - {[}2008{]}                    \\\\\n",
       "\t Koenigsegg Agera R 5.0 V8 - {[}2012{]}               \\\\\n",
       "\t Porsche 9FF GT9R - {[}2009{]}                        \\\\\n",
       "\t Koenigsegg Agera 5L V8 - {[}2011{]}                  \\\\\n",
       "\\end{tabular}\n"
      ],
      "text/markdown": [
       "\n",
       "car_full_nm | \n",
       "|---|---|---|---|---|---|\n",
       "| Bugatti Veyron 8.0 litre W16 Super Sport - [2010] | \n",
       "| Bugatti Veyron 16.4 Grand Sport Vitesse - [2012]  | \n",
       "| SSC Ultimate Aero TT - [2008]                     | \n",
       "| Koenigsegg Agera R 5.0 V8 - [2012]                | \n",
       "| Porsche 9FF GT9R - [2009]                         | \n",
       "| Koenigsegg Agera 5L V8 - [2011]                   | \n",
       "\n",
       "\n"
      ],
      "text/plain": [
       "  car_full_nm                                      \n",
       "1 Bugatti Veyron 8.0 litre W16 Super Sport - [2010]\n",
       "2 Bugatti Veyron 16.4 Grand Sport Vitesse - [2012] \n",
       "3 SSC Ultimate Aero TT - [2008]                    \n",
       "4 Koenigsegg Agera R 5.0 V8 - [2012]               \n",
       "5 Porsche 9FF GT9R - [2009]                        \n",
       "6 Koenigsegg Agera 5L V8 - [2011]                  "
      ]
     },
     "metadata": {},
     "output_type": "display_data"
    }
   ],
   "source": [
    "# Re-inspect data\n",
    "str(df.car_spec_data)\n",
    "head(df.car_spec_data)"
   ]
  },
  {
   "cell_type": "code",
   "execution_count": 42,
   "metadata": {
    "collapsed": false
   },
   "outputs": [
    {
     "name": "stdout",
     "output_type": "stream",
     "text": [
      " chr [1:1578] \"2010\" \"2012\" \"2008\" \"2012\" \"2009\" \"2011\" ...\n"
     ]
    },
    {
     "data": {
      "text/html": [
       "<table>\n",
       "<thead><tr><th scope=col>car_full_nm</th><th scope=col>year</th><th scope=col>decade</th></tr></thead>\n",
       "<tbody>\n",
       "\t<tr><td>Bugatti Veyron 8.0 litre W16 Super Sport - [2010]</td><td>2010                                             </td><td>2010s                                            </td></tr>\n",
       "\t<tr><td>Bugatti Veyron 16.4 Grand Sport Vitesse - [2012] </td><td>2012                                             </td><td>2010s                                            </td></tr>\n",
       "\t<tr><td>SSC Ultimate Aero TT - [2008]                    </td><td>2008                                             </td><td>2000s                                            </td></tr>\n",
       "\t<tr><td>Koenigsegg Agera R 5.0 V8 - [2012]               </td><td>2012                                             </td><td>2010s                                            </td></tr>\n",
       "\t<tr><td>Porsche 9FF GT9R - [2009]                        </td><td>2009                                             </td><td>2000s                                            </td></tr>\n",
       "\t<tr><td>Koenigsegg Agera 5L V8 - [2011]                  </td><td>2011                                             </td><td>2010s                                            </td></tr>\n",
       "</tbody>\n",
       "</table>\n"
      ],
      "text/latex": [
       "\\begin{tabular}{r|lll}\n",
       " car\\_full\\_nm & year & decade\\\\\n",
       "\\hline\n",
       "\t Bugatti Veyron 8.0 litre W16 Super Sport - {[}2010{]} & 2010                                                  & 2010s                                                \\\\\n",
       "\t Bugatti Veyron 16.4 Grand Sport Vitesse - {[}2012{]}  & 2012                                                  & 2010s                                                \\\\\n",
       "\t SSC Ultimate Aero TT - {[}2008{]}                     & 2008                                                  & 2000s                                                \\\\\n",
       "\t Koenigsegg Agera R 5.0 V8 - {[}2012{]}                & 2012                                                  & 2010s                                                \\\\\n",
       "\t Porsche 9FF GT9R - {[}2009{]}                         & 2009                                                  & 2000s                                                \\\\\n",
       "\t Koenigsegg Agera 5L V8 - {[}2011{]}                   & 2011                                                  & 2010s                                                \\\\\n",
       "\\end{tabular}\n"
      ],
      "text/markdown": [
       "\n",
       "car_full_nm | year | decade | \n",
       "|---|---|---|---|---|---|\n",
       "| Bugatti Veyron 8.0 litre W16 Super Sport - [2010] | 2010                                              | 2010s                                             | \n",
       "| Bugatti Veyron 16.4 Grand Sport Vitesse - [2012]  | 2012                                              | 2010s                                             | \n",
       "| SSC Ultimate Aero TT - [2008]                     | 2008                                              | 2000s                                             | \n",
       "| Koenigsegg Agera R 5.0 V8 - [2012]                | 2012                                              | 2010s                                             | \n",
       "| Porsche 9FF GT9R - [2009]                         | 2009                                              | 2000s                                             | \n",
       "| Koenigsegg Agera 5L V8 - [2011]                   | 2011                                              | 2010s                                             | \n",
       "\n",
       "\n"
      ],
      "text/plain": [
       "  car_full_nm                                       year decade\n",
       "1 Bugatti Veyron 8.0 litre W16 Super Sport - [2010] 2010 2010s \n",
       "2 Bugatti Veyron 16.4 Grand Sport Vitesse - [2012]  2012 2010s \n",
       "3 SSC Ultimate Aero TT - [2008]                     2008 2000s \n",
       "4 Koenigsegg Agera R 5.0 V8 - [2012]                2012 2010s \n",
       "5 Porsche 9FF GT9R - [2009]                         2009 2000s \n",
       "6 Koenigsegg Agera 5L V8 - [2011]                   2011 2010s "
      ]
     },
     "metadata": {},
     "output_type": "display_data"
    },
    {
     "name": "stdout",
     "output_type": "stream",
     "text": [
      "'data.frame':\t1578 obs. of  3 variables:\n",
      " $ car_full_nm: chr  \"Bugatti Veyron 8.0 litre W16 Super Sport - [2010]\" \"Bugatti Veyron 16.4 Grand Sport Vitesse - [2012]\" \"SSC Ultimate Aero TT - [2008]\" \"Koenigsegg Agera R 5.0 V8 - [2012]\" ...\n",
      " $ year       : chr  \"2010\" \"2012\" \"2008\" \"2012\" ...\n",
      " $ decade     : Factor w/ 9 levels \"1930s\",\"1940s\",..: 9 9 8 9 8 9 9 9 8 8 ...\n"
     ]
    }
   ],
   "source": [
    "## Add new variables\n",
    "#####################\n",
    "# ADD NEW VARIABLES\n",
    "#####################\n",
    "\n",
    "#--------------\n",
    "# NEW VAR: year\n",
    "#--------------\n",
    "\n",
    "df.car_spec_data <- mutate(df.car_spec_data, year=sub(\".*\\\\[([0-9]{4})\\\\]\",\"\\\\1\",car_full_nm))\n",
    "\n",
    "str(df.car_spec_data$year)\n",
    "\n",
    "\n",
    "#----------------\n",
    "# NEW VAR: decade\n",
    "#----------------\n",
    "\n",
    "df.car_spec_data <- mutate(df.car_spec_data, \n",
    "                           decade = as.factor(\n",
    "                                    ifelse(substring(df.car_spec_data$year,1,3)=='193','1930s',\n",
    "                                    ifelse(substring(df.car_spec_data$year,1,3)=='194','1940s',\n",
    "                                    ifelse(substring(df.car_spec_data$year,1,3)=='195','1950s',\n",
    "                                    ifelse(substring(df.car_spec_data$year,1,3)=='196','1960s',\n",
    "                                    ifelse(substring(df.car_spec_data$year,1,3)=='197','1970s',\n",
    "                                    ifelse(substring(df.car_spec_data$year,1,3)=='198','1980s',\n",
    "                                    ifelse(substring(df.car_spec_data$year,1,3)=='199','1990s',\n",
    "                                    ifelse(substring(df.car_spec_data$year,1,3)=='200','2000s',\n",
    "                                    ifelse(substring(df.car_spec_data$year,1,3)=='201','2010s',\"ERROR\"\n",
    "                                    )))))))))\n",
    "                                    )\n",
    "                            )\n",
    "\n",
    "head(df.car_spec_data)\n",
    "str(df.car_spec_data)\n"
   ]
  },
  {
   "cell_type": "code",
   "execution_count": 43,
   "metadata": {
    "collapsed": true
   },
   "outputs": [],
   "source": [
    "#-------------------------------\n",
    "# NEW VAR: make_nm \n",
    "#  (i.e., the \"make\" of the car; \n",
    "#  the \"brand name\" of the car) \n",
    "#-------------------------------\n",
    "\n",
    "df.car_spec_data <- mutate(df.car_spec_data, make_nm = gsub(\" .*$\",\"\", df.car_spec_data$car_full_nm))\n"
   ]
  },
  {
   "cell_type": "code",
   "execution_count": 45,
   "metadata": {
    "collapsed": false
   },
   "outputs": [],
   "source": [
    "#--------------------------\n",
    "# NEW VAR: car_weight_tons \n",
    "#--------------------------\n",
    "\n",
    "#df.car_spec_data <- mutate(df.car_spec_data, car_weight_tons = horsepower_bhp / horsepower_per_ton_bhp)\n"
   ]
  },
  {
   "cell_type": "code",
   "execution_count": 46,
   "metadata": {
    "collapsed": false
   },
   "outputs": [
    {
     "ename": "ERROR",
     "evalue": "Error in mutate_impl(.data, dots): object 'torque_lb_ft' not found\n",
     "output_type": "error",
     "traceback": [
      "Error in mutate_impl(.data, dots): object 'torque_lb_ft' not found\nTraceback:\n",
      "1. mutate(df.car_spec_data, torque_per_ton = torque_lb_ft/car_weight_tons)",
      "2. mutate_(.data, .dots = lazyeval::lazy_dots(...))",
      "3. mutate_.data.frame(.data, .dots = lazyeval::lazy_dots(...))",
      "4. as.data.frame(mutate_(tbl_df(.data), .dots = dots))",
      "5. mutate_(tbl_df(.data), .dots = dots)",
      "6. mutate_.tbl_df(tbl_df(.data), .dots = dots)",
      "7. mutate_impl(.data, dots)"
     ]
    }
   ],
   "source": [
    "#--------------------------\n",
    "# NEW VAR: torque_per_ton \n",
    "#--------------------------\n",
    "\n",
    "#df.car_spec_data <- mutate(df.car_spec_data, torque_per_ton = torque_lb_ft / car_weight_tons)\n"
   ]
  },
  {
   "cell_type": "code",
   "execution_count": null,
   "metadata": {
    "collapsed": true
   },
   "outputs": [],
   "source": []
  }
 ],
 "metadata": {
  "kernelspec": {
   "display_name": "R",
   "language": "R",
   "name": "ir"
  },
  "language_info": {
   "codemirror_mode": "r",
   "file_extension": ".r",
   "mimetype": "text/x-r-source",
   "name": "R",
   "pygments_lexer": "r",
   "version": "3.3.2"
  }
 },
 "nbformat": 4,
 "nbformat_minor": 2
}
