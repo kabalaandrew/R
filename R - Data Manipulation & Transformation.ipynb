{
 "cells": [
  {
   "cell_type": "code",
   "execution_count": 1,
   "metadata": {
    "collapsed": false
   },
   "outputs": [
    {
     "data": {
      "text/html": [
       "<ol class=list-inline>\n",
       "\t<li>1.7</li>\n",
       "\t<li>2.3</li>\n",
       "\t<li>2.8</li>\n",
       "\t<li>3.4</li>\n",
       "\t<li>4</li>\n",
       "\t<li>4.1</li>\n",
       "\t<li>4.6</li>\n",
       "\t<li>4.6</li>\n",
       "\t<li>4.6</li>\n",
       "\t<li>4.6</li>\n",
       "</ol>\n"
      ],
      "text/latex": [
       "\\begin{enumerate*}\n",
       "\\item 1.7\n",
       "\\item 2.3\n",
       "\\item 2.8\n",
       "\\item 3.4\n",
       "\\item 4\n",
       "\\item 4.1\n",
       "\\item 4.6\n",
       "\\item 4.6\n",
       "\\item 4.6\n",
       "\\item 4.6\n",
       "\\end{enumerate*}\n"
      ],
      "text/markdown": [
       "1. 1.7\n",
       "2. 2.3\n",
       "3. 2.8\n",
       "4. 3.4\n",
       "5. 4\n",
       "6. 4.1\n",
       "7. 4.6\n",
       "8. 4.6\n",
       "9. 4.6\n",
       "10. 4.6\n",
       "\n",
       "\n"
      ],
      "text/plain": [
       " [1] 1.7 2.3 2.8 3.4 4.0 4.1 4.6 4.6 4.6 4.6"
      ]
     },
     "metadata": {},
     "output_type": "display_data"
    }
   ],
   "source": [
    "sort(airquality$Wind)[1:10]"
   ]
  },
  {
   "cell_type": "code",
   "execution_count": 3,
   "metadata": {
    "collapsed": false
   },
   "outputs": [
    {
     "data": {
      "text/html": [
       "<table>\n",
       "<thead><tr><th></th><th scope=col>Ozone</th><th scope=col>Solar.R</th><th scope=col>Wind</th><th scope=col>Temp</th><th scope=col>Month</th><th scope=col>Day</th></tr></thead>\n",
       "<tbody>\n",
       "\t<tr><th scope=row>53</th><td> NA</td><td> 59</td><td>1.7</td><td>76 </td><td>6  </td><td>22 </td></tr>\n",
       "\t<tr><th scope=row>121</th><td>118</td><td>225</td><td>2.3</td><td>94 </td><td>8  </td><td>29 </td></tr>\n",
       "\t<tr><th scope=row>126</th><td> 73</td><td>183</td><td>2.8</td><td>93 </td><td>9  </td><td> 3 </td></tr>\n",
       "\t<tr><th scope=row>117</th><td>168</td><td>238</td><td>3.4</td><td>81 </td><td>8  </td><td>25 </td></tr>\n",
       "\t<tr><th scope=row>99</th><td>122</td><td>255</td><td>4.0</td><td>89 </td><td>8  </td><td> 7 </td></tr>\n",
       "\t<tr><th scope=row>62</th><td>135</td><td>269</td><td>4.1</td><td>84 </td><td>7  </td><td> 1 </td></tr>\n",
       "\t<tr><th scope=row>54</th><td> NA</td><td> 91</td><td>4.6</td><td>76 </td><td>6  </td><td>23 </td></tr>\n",
       "\t<tr><th scope=row>66</th><td> 64</td><td>175</td><td>4.6</td><td>83 </td><td>7  </td><td> 5 </td></tr>\n",
       "\t<tr><th scope=row>98</th><td> 66</td><td> NA</td><td>4.6</td><td>87 </td><td>8  </td><td> 6 </td></tr>\n",
       "\t<tr><th scope=row>127</th><td> 91</td><td>189</td><td>4.6</td><td>93 </td><td>9  </td><td> 4 </td></tr>\n",
       "</tbody>\n",
       "</table>\n"
      ],
      "text/latex": [
       "\\begin{tabular}{r|llllll}\n",
       "  & Ozone & Solar.R & Wind & Temp & Month & Day\\\\\n",
       "\\hline\n",
       "\t53 &  NA &  59 & 1.7 & 76  & 6   & 22 \\\\\n",
       "\t121 & 118 & 225 & 2.3 & 94  & 8   & 29 \\\\\n",
       "\t126 &  73 & 183 & 2.8 & 93  & 9   &  3 \\\\\n",
       "\t117 & 168 & 238 & 3.4 & 81  & 8   & 25 \\\\\n",
       "\t99 & 122 & 255 & 4.0 & 89  & 8   &  7 \\\\\n",
       "\t62 & 135 & 269 & 4.1 & 84  & 7   &  1 \\\\\n",
       "\t54 &  NA &  91 & 4.6 & 76  & 6   & 23 \\\\\n",
       "\t66 &  64 & 175 & 4.6 & 83  & 7   &  5 \\\\\n",
       "\t98 &  66 &  NA & 4.6 & 87  & 8   &  6 \\\\\n",
       "\t127 &  91 & 189 & 4.6 & 93  & 9   &  4 \\\\\n",
       "\\end{tabular}\n"
      ],
      "text/markdown": [
       "\n",
       "| <!--/--> | Ozone | Solar.R | Wind | Temp | Month | Day | \n",
       "|---|---|---|---|---|---|---|---|---|---|\n",
       "| 53 |  NA |  59 | 1.7 | 76  | 6   | 22  | \n",
       "| 121 | 118 | 225 | 2.3 | 94  | 8   | 29  | \n",
       "| 126 |  73 | 183 | 2.8 | 93  | 9   |  3  | \n",
       "| 117 | 168 | 238 | 3.4 | 81  | 8   | 25  | \n",
       "| 99 | 122 | 255 | 4.0 | 89  | 8   |  7  | \n",
       "| 62 | 135 | 269 | 4.1 | 84  | 7   |  1  | \n",
       "| 54 |  NA |  91 | 4.6 | 76  | 6   | 23  | \n",
       "| 66 |  64 | 175 | 4.6 | 83  | 7   |  5  | \n",
       "| 98 |  66 |  NA | 4.6 | 87  | 8   |  6  | \n",
       "| 127 |  91 | 189 | 4.6 | 93  | 9   |  4  | \n",
       "\n",
       "\n"
      ],
      "text/plain": [
       "    Ozone Solar.R Wind Temp Month Day\n",
       "53   NA    59     1.7  76   6     22 \n",
       "121 118   225     2.3  94   8     29 \n",
       "126  73   183     2.8  93   9      3 \n",
       "117 168   238     3.4  81   8     25 \n",
       "99  122   255     4.0  89   8      7 \n",
       "62  135   269     4.1  84   7      1 \n",
       "54   NA    91     4.6  76   6     23 \n",
       "66   64   175     4.6  83   7      5 \n",
       "98   66    NA     4.6  87   8      6 \n",
       "127  91   189     4.6  93   9      4 "
      ]
     },
     "metadata": {},
     "output_type": "display_data"
    }
   ],
   "source": [
    "# sorting DataFrames\n",
    "sortedByWind <- airquality[order(airquality$Wind), ]\n",
    "head(sortedByWind, 10)"
   ]
  },
  {
   "cell_type": "code",
   "execution_count": 4,
   "metadata": {
    "collapsed": true
   },
   "outputs": [],
   "source": [
    "# merging data\n",
    "library(\"mangoTraining\")"
   ]
  },
  {
   "cell_type": "code",
   "execution_count": 5,
   "metadata": {
    "collapsed": false
   },
   "outputs": [
    {
     "data": {
      "text/html": [
       "<table>\n",
       "<thead><tr><th scope=col>Subject</th><th scope=col>Sex</th><th scope=col>Age</th><th scope=col>Weight</th><th scope=col>Height</th><th scope=col>BMI</th><th scope=col>Smokes</th></tr></thead>\n",
       "<tbody>\n",
       "\t<tr><td>1   </td><td>M   </td><td>43  </td><td>57  </td><td>166 </td><td>20.7</td><td>No  </td></tr>\n",
       "\t<tr><td>2   </td><td>M   </td><td>22  </td><td>71  </td><td>179 </td><td>22.2</td><td>No  </td></tr>\n",
       "\t<tr><td>3   </td><td>F   </td><td>23  </td><td>72  </td><td>170 </td><td>25.1</td><td>No  </td></tr>\n",
       "</tbody>\n",
       "</table>\n"
      ],
      "text/latex": [
       "\\begin{tabular}{r|lllllll}\n",
       " Subject & Sex & Age & Weight & Height & BMI & Smokes\\\\\n",
       "\\hline\n",
       "\t 1    & M    & 43   & 57   & 166  & 20.7 & No  \\\\\n",
       "\t 2    & M    & 22   & 71   & 179  & 22.2 & No  \\\\\n",
       "\t 3    & F    & 23   & 72   & 170  & 25.1 & No  \\\\\n",
       "\\end{tabular}\n"
      ],
      "text/markdown": [
       "\n",
       "Subject | Sex | Age | Weight | Height | BMI | Smokes | \n",
       "|---|---|---|\n",
       "| 1    | M    | 43   | 57   | 166  | 20.7 | No   | \n",
       "| 2    | M    | 22   | 71   | 179  | 22.2 | No   | \n",
       "| 3    | F    | 23   | 72   | 170  | 25.1 | No   | \n",
       "\n",
       "\n"
      ],
      "text/plain": [
       "  Subject Sex Age Weight Height BMI  Smokes\n",
       "1 1       M   43  57     166    20.7 No    \n",
       "2 2       M   22  71     179    22.2 No    \n",
       "3 3       F   23  72     170    25.1 No    "
      ]
     },
     "metadata": {},
     "output_type": "display_data"
    }
   ],
   "source": [
    "head(demoData, 3)"
   ]
  },
  {
   "cell_type": "code",
   "execution_count": 6,
   "metadata": {
    "collapsed": false
   },
   "outputs": [
    {
     "data": {
      "text/html": [
       "<table>\n",
       "<thead><tr><th scope=col>Subject</th><th scope=col>Dose</th><th scope=col>Time</th><th scope=col>Conc</th></tr></thead>\n",
       "<tbody>\n",
       "\t<tr><td>1     </td><td>25    </td><td>0     </td><td>  0.00</td></tr>\n",
       "\t<tr><td>1     </td><td>25    </td><td>1     </td><td>660.13</td></tr>\n",
       "\t<tr><td>1     </td><td>25    </td><td>6     </td><td>178.92</td></tr>\n",
       "</tbody>\n",
       "</table>\n"
      ],
      "text/latex": [
       "\\begin{tabular}{r|llll}\n",
       " Subject & Dose & Time & Conc\\\\\n",
       "\\hline\n",
       "\t 1      & 25     & 0      &   0.00\\\\\n",
       "\t 1      & 25     & 1      & 660.13\\\\\n",
       "\t 1      & 25     & 6      & 178.92\\\\\n",
       "\\end{tabular}\n"
      ],
      "text/markdown": [
       "\n",
       "Subject | Dose | Time | Conc | \n",
       "|---|---|---|\n",
       "| 1      | 25     | 0      |   0.00 | \n",
       "| 1      | 25     | 1      | 660.13 | \n",
       "| 1      | 25     | 6      | 178.92 | \n",
       "\n",
       "\n"
      ],
      "text/plain": [
       "  Subject Dose Time Conc  \n",
       "1 1       25   0      0.00\n",
       "2 1       25   1    660.13\n",
       "3 1       25   6    178.92"
      ]
     },
     "metadata": {},
     "output_type": "display_data"
    }
   ],
   "source": [
    "head(pkData, 3)"
   ]
  },
  {
   "cell_type": "code",
   "execution_count": 7,
   "metadata": {
    "collapsed": true
   },
   "outputs": [],
   "source": [
    "# merging by subject\n",
    "fullpk <- merge(x=demoData, y=pkData, by=\"Subject\")"
   ]
  },
  {
   "cell_type": "code",
   "execution_count": 8,
   "metadata": {
    "collapsed": false
   },
   "outputs": [
    {
     "data": {
      "text/html": [
       "<table>\n",
       "<thead><tr><th scope=col>Subject</th><th scope=col>Sex</th><th scope=col>Age</th><th scope=col>Weight</th><th scope=col>Height</th><th scope=col>BMI</th><th scope=col>Smokes</th><th scope=col>Dose</th><th scope=col>Time</th><th scope=col>Conc</th></tr></thead>\n",
       "<tbody>\n",
       "\t<tr><td>1     </td><td>M     </td><td>43    </td><td>57    </td><td>166   </td><td>20.7  </td><td>No    </td><td>25    </td><td> 0    </td><td>  0.00</td></tr>\n",
       "\t<tr><td>1     </td><td>M     </td><td>43    </td><td>57    </td><td>166   </td><td>20.7  </td><td>No    </td><td>25    </td><td> 1    </td><td>660.13</td></tr>\n",
       "\t<tr><td>1     </td><td>M     </td><td>43    </td><td>57    </td><td>166   </td><td>20.7  </td><td>No    </td><td>25    </td><td> 6    </td><td>178.92</td></tr>\n",
       "\t<tr><td>1     </td><td>M     </td><td>43    </td><td>57    </td><td>166   </td><td>20.7  </td><td>No    </td><td>25    </td><td>12    </td><td> 88.99</td></tr>\n",
       "\t<tr><td>1     </td><td>M     </td><td>43    </td><td>57    </td><td>166   </td><td>20.7  </td><td>No    </td><td>25    </td><td>24    </td><td> 42.71</td></tr>\n",
       "\t<tr><td>2     </td><td>M     </td><td>22    </td><td>71    </td><td>179   </td><td>22.2  </td><td>No    </td><td>25    </td><td> 0    </td><td>  0.00</td></tr>\n",
       "</tbody>\n",
       "</table>\n"
      ],
      "text/latex": [
       "\\begin{tabular}{r|llllllllll}\n",
       " Subject & Sex & Age & Weight & Height & BMI & Smokes & Dose & Time & Conc\\\\\n",
       "\\hline\n",
       "\t 1      & M      & 43     & 57     & 166    & 20.7   & No     & 25     &  0     &   0.00\\\\\n",
       "\t 1      & M      & 43     & 57     & 166    & 20.7   & No     & 25     &  1     & 660.13\\\\\n",
       "\t 1      & M      & 43     & 57     & 166    & 20.7   & No     & 25     &  6     & 178.92\\\\\n",
       "\t 1      & M      & 43     & 57     & 166    & 20.7   & No     & 25     & 12     &  88.99\\\\\n",
       "\t 1      & M      & 43     & 57     & 166    & 20.7   & No     & 25     & 24     &  42.71\\\\\n",
       "\t 2      & M      & 22     & 71     & 179    & 22.2   & No     & 25     &  0     &   0.00\\\\\n",
       "\\end{tabular}\n"
      ],
      "text/markdown": [
       "\n",
       "Subject | Sex | Age | Weight | Height | BMI | Smokes | Dose | Time | Conc | \n",
       "|---|---|---|---|---|---|\n",
       "| 1      | M      | 43     | 57     | 166    | 20.7   | No     | 25     |  0     |   0.00 | \n",
       "| 1      | M      | 43     | 57     | 166    | 20.7   | No     | 25     |  1     | 660.13 | \n",
       "| 1      | M      | 43     | 57     | 166    | 20.7   | No     | 25     |  6     | 178.92 | \n",
       "| 1      | M      | 43     | 57     | 166    | 20.7   | No     | 25     | 12     |  88.99 | \n",
       "| 1      | M      | 43     | 57     | 166    | 20.7   | No     | 25     | 24     |  42.71 | \n",
       "| 2      | M      | 22     | 71     | 179    | 22.2   | No     | 25     |  0     |   0.00 | \n",
       "\n",
       "\n"
      ],
      "text/plain": [
       "  Subject Sex Age Weight Height BMI  Smokes Dose Time Conc  \n",
       "1 1       M   43  57     166    20.7 No     25    0     0.00\n",
       "2 1       M   43  57     166    20.7 No     25    1   660.13\n",
       "3 1       M   43  57     166    20.7 No     25    6   178.92\n",
       "4 1       M   43  57     166    20.7 No     25   12    88.99\n",
       "5 1       M   43  57     166    20.7 No     25   24    42.71\n",
       "6 2       M   22  71     179    22.2 No     25    0     0.00"
      ]
     },
     "metadata": {},
     "output_type": "display_data"
    }
   ],
   "source": [
    "head(fullpk)"
   ]
  },
  {
   "cell_type": "code",
   "execution_count": 9,
   "metadata": {
    "collapsed": true
   },
   "outputs": [],
   "source": [
    "# merging with missing data\n",
    "demoland2 <- demoData[demoData$Subject %in% 1:2, ]\n",
    "pk2and3 <- pkData[pkData$Subject %in% 2:3, ]"
   ]
  },
  {
   "cell_type": "code",
   "execution_count": 10,
   "metadata": {
    "collapsed": false
   },
   "outputs": [
    {
     "data": {
      "text/html": [
       "<table>\n",
       "<thead><tr><th scope=col>Subject</th><th scope=col>Sex</th><th scope=col>Age</th><th scope=col>Weight</th><th scope=col>Height</th><th scope=col>BMI</th><th scope=col>Smokes</th></tr></thead>\n",
       "<tbody>\n",
       "\t<tr><td>1   </td><td>M   </td><td>43  </td><td>57  </td><td>166 </td><td>20.7</td><td>No  </td></tr>\n",
       "\t<tr><td>2   </td><td>M   </td><td>22  </td><td>71  </td><td>179 </td><td>22.2</td><td>No  </td></tr>\n",
       "</tbody>\n",
       "</table>\n"
      ],
      "text/latex": [
       "\\begin{tabular}{r|lllllll}\n",
       " Subject & Sex & Age & Weight & Height & BMI & Smokes\\\\\n",
       "\\hline\n",
       "\t 1    & M    & 43   & 57   & 166  & 20.7 & No  \\\\\n",
       "\t 2    & M    & 22   & 71   & 179  & 22.2 & No  \\\\\n",
       "\\end{tabular}\n"
      ],
      "text/markdown": [
       "\n",
       "Subject | Sex | Age | Weight | Height | BMI | Smokes | \n",
       "|---|---|\n",
       "| 1    | M    | 43   | 57   | 166  | 20.7 | No   | \n",
       "| 2    | M    | 22   | 71   | 179  | 22.2 | No   | \n",
       "\n",
       "\n"
      ],
      "text/plain": [
       "  Subject Sex Age Weight Height BMI  Smokes\n",
       "1 1       M   43  57     166    20.7 No    \n",
       "2 2       M   22  71     179    22.2 No    "
      ]
     },
     "metadata": {},
     "output_type": "display_data"
    }
   ],
   "source": [
    "demoland2"
   ]
  },
  {
   "cell_type": "code",
   "execution_count": 11,
   "metadata": {
    "collapsed": false
   },
   "outputs": [
    {
     "data": {
      "text/html": [
       "<table>\n",
       "<thead><tr><th></th><th scope=col>Subject</th><th scope=col>Dose</th><th scope=col>Time</th><th scope=col>Conc</th></tr></thead>\n",
       "<tbody>\n",
       "\t<tr><th scope=row>6</th><td>2     </td><td>25    </td><td> 0    </td><td>  0.00</td></tr>\n",
       "\t<tr><th scope=row>7</th><td>2     </td><td>25    </td><td> 1    </td><td>445.55</td></tr>\n",
       "\t<tr><th scope=row>8</th><td>2     </td><td>25    </td><td> 6    </td><td>129.31</td></tr>\n",
       "\t<tr><th scope=row>9</th><td>2     </td><td>25    </td><td>12    </td><td> 93.33</td></tr>\n",
       "\t<tr><th scope=row>10</th><td>2     </td><td>25    </td><td>24    </td><td> 46.11</td></tr>\n",
       "\t<tr><th scope=row>11</th><td>3     </td><td>25    </td><td> 0    </td><td>  0.00</td></tr>\n",
       "\t<tr><th scope=row>12</th><td>3     </td><td>25    </td><td> 1    </td><td>500.65</td></tr>\n",
       "\t<tr><th scope=row>13</th><td>3     </td><td>25    </td><td> 6    </td><td>146.04</td></tr>\n",
       "\t<tr><th scope=row>14</th><td>3     </td><td>25    </td><td>12    </td><td>116.93</td></tr>\n",
       "\t<tr><th scope=row>15</th><td>3     </td><td>25    </td><td>24    </td><td> 68.25</td></tr>\n",
       "</tbody>\n",
       "</table>\n"
      ],
      "text/latex": [
       "\\begin{tabular}{r|llll}\n",
       "  & Subject & Dose & Time & Conc\\\\\n",
       "\\hline\n",
       "\t6 & 2      & 25     &  0     &   0.00\\\\\n",
       "\t7 & 2      & 25     &  1     & 445.55\\\\\n",
       "\t8 & 2      & 25     &  6     & 129.31\\\\\n",
       "\t9 & 2      & 25     & 12     &  93.33\\\\\n",
       "\t10 & 2      & 25     & 24     &  46.11\\\\\n",
       "\t11 & 3      & 25     &  0     &   0.00\\\\\n",
       "\t12 & 3      & 25     &  1     & 500.65\\\\\n",
       "\t13 & 3      & 25     &  6     & 146.04\\\\\n",
       "\t14 & 3      & 25     & 12     & 116.93\\\\\n",
       "\t15 & 3      & 25     & 24     &  68.25\\\\\n",
       "\\end{tabular}\n"
      ],
      "text/markdown": [
       "\n",
       "| <!--/--> | Subject | Dose | Time | Conc | \n",
       "|---|---|---|---|---|---|---|---|---|---|\n",
       "| 6 | 2      | 25     |  0     |   0.00 | \n",
       "| 7 | 2      | 25     |  1     | 445.55 | \n",
       "| 8 | 2      | 25     |  6     | 129.31 | \n",
       "| 9 | 2      | 25     | 12     |  93.33 | \n",
       "| 10 | 2      | 25     | 24     |  46.11 | \n",
       "| 11 | 3      | 25     |  0     |   0.00 | \n",
       "| 12 | 3      | 25     |  1     | 500.65 | \n",
       "| 13 | 3      | 25     |  6     | 146.04 | \n",
       "| 14 | 3      | 25     | 12     | 116.93 | \n",
       "| 15 | 3      | 25     | 24     |  68.25 | \n",
       "\n",
       "\n"
      ],
      "text/plain": [
       "   Subject Dose Time Conc  \n",
       "6  2       25    0     0.00\n",
       "7  2       25    1   445.55\n",
       "8  2       25    6   129.31\n",
       "9  2       25   12    93.33\n",
       "10 2       25   24    46.11\n",
       "11 3       25    0     0.00\n",
       "12 3       25    1   500.65\n",
       "13 3       25    6   146.04\n",
       "14 3       25   12   116.93\n",
       "15 3       25   24    68.25"
      ]
     },
     "metadata": {},
     "output_type": "display_data"
    }
   ],
   "source": [
    "pk2and3"
   ]
  },
  {
   "cell_type": "code",
   "execution_count": 13,
   "metadata": {
    "collapsed": false
   },
   "outputs": [
    {
     "data": {
      "text/html": [
       "<table>\n",
       "<thead><tr><th scope=col>Subject</th><th scope=col>Sex</th><th scope=col>Age</th><th scope=col>Weight</th><th scope=col>Height</th><th scope=col>BMI</th><th scope=col>Smokes</th><th scope=col>Dose</th><th scope=col>Time</th><th scope=col>Conc</th></tr></thead>\n",
       "<tbody>\n",
       "\t<tr><td>2     </td><td>M     </td><td>22    </td><td>71    </td><td>179   </td><td>22.2  </td><td>No    </td><td>25    </td><td> 0    </td><td>  0.00</td></tr>\n",
       "\t<tr><td>2     </td><td>M     </td><td>22    </td><td>71    </td><td>179   </td><td>22.2  </td><td>No    </td><td>25    </td><td> 6    </td><td>129.31</td></tr>\n",
       "\t<tr><td>2     </td><td>M     </td><td>22    </td><td>71    </td><td>179   </td><td>22.2  </td><td>No    </td><td>25    </td><td>12    </td><td> 93.33</td></tr>\n",
       "\t<tr><td>2     </td><td>M     </td><td>22    </td><td>71    </td><td>179   </td><td>22.2  </td><td>No    </td><td>25    </td><td>24    </td><td> 46.11</td></tr>\n",
       "\t<tr><td>2     </td><td>M     </td><td>22    </td><td>71    </td><td>179   </td><td>22.2  </td><td>No    </td><td>25    </td><td> 1    </td><td>445.55</td></tr>\n",
       "</tbody>\n",
       "</table>\n"
      ],
      "text/latex": [
       "\\begin{tabular}{r|llllllllll}\n",
       " Subject & Sex & Age & Weight & Height & BMI & Smokes & Dose & Time & Conc\\\\\n",
       "\\hline\n",
       "\t 2      & M      & 22     & 71     & 179    & 22.2   & No     & 25     &  0     &   0.00\\\\\n",
       "\t 2      & M      & 22     & 71     & 179    & 22.2   & No     & 25     &  6     & 129.31\\\\\n",
       "\t 2      & M      & 22     & 71     & 179    & 22.2   & No     & 25     & 12     &  93.33\\\\\n",
       "\t 2      & M      & 22     & 71     & 179    & 22.2   & No     & 25     & 24     &  46.11\\\\\n",
       "\t 2      & M      & 22     & 71     & 179    & 22.2   & No     & 25     &  1     & 445.55\\\\\n",
       "\\end{tabular}\n"
      ],
      "text/markdown": [
       "\n",
       "Subject | Sex | Age | Weight | Height | BMI | Smokes | Dose | Time | Conc | \n",
       "|---|---|---|---|---|\n",
       "| 2      | M      | 22     | 71     | 179    | 22.2   | No     | 25     |  0     |   0.00 | \n",
       "| 2      | M      | 22     | 71     | 179    | 22.2   | No     | 25     |  6     | 129.31 | \n",
       "| 2      | M      | 22     | 71     | 179    | 22.2   | No     | 25     | 12     |  93.33 | \n",
       "| 2      | M      | 22     | 71     | 179    | 22.2   | No     | 25     | 24     |  46.11 | \n",
       "| 2      | M      | 22     | 71     | 179    | 22.2   | No     | 25     |  1     | 445.55 | \n",
       "\n",
       "\n"
      ],
      "text/plain": [
       "  Subject Sex Age Weight Height BMI  Smokes Dose Time Conc  \n",
       "1 2       M   22  71     179    22.2 No     25    0     0.00\n",
       "2 2       M   22  71     179    22.2 No     25    6   129.31\n",
       "3 2       M   22  71     179    22.2 No     25   12    93.33\n",
       "4 2       M   22  71     179    22.2 No     25   24    46.11\n",
       "5 2       M   22  71     179    22.2 No     25    1   445.55"
      ]
     },
     "metadata": {},
     "output_type": "display_data"
    }
   ],
   "source": [
    "# default merge only merges what is in first dataset x\n",
    "merge(demoland2, pk2and3)\n"
   ]
  },
  {
   "cell_type": "code",
   "execution_count": 14,
   "metadata": {
    "collapsed": false
   },
   "outputs": [
    {
     "data": {
      "text/html": [
       "<table>\n",
       "<thead><tr><th scope=col>Subject</th><th scope=col>Sex</th><th scope=col>Age</th><th scope=col>Weight</th><th scope=col>Height</th><th scope=col>BMI</th><th scope=col>Smokes</th><th scope=col>Dose</th><th scope=col>Time</th><th scope=col>Conc</th></tr></thead>\n",
       "<tbody>\n",
       "\t<tr><td>1     </td><td>M     </td><td>43    </td><td>57    </td><td>166   </td><td>20.7  </td><td>No    </td><td>NA    </td><td>NA    </td><td>    NA</td></tr>\n",
       "\t<tr><td>2     </td><td>M     </td><td>22    </td><td>71    </td><td>179   </td><td>22.2  </td><td>No    </td><td>25    </td><td> 0    </td><td>  0.00</td></tr>\n",
       "\t<tr><td>2     </td><td>M     </td><td>22    </td><td>71    </td><td>179   </td><td>22.2  </td><td>No    </td><td>25    </td><td> 6    </td><td>129.31</td></tr>\n",
       "\t<tr><td>2     </td><td>M     </td><td>22    </td><td>71    </td><td>179   </td><td>22.2  </td><td>No    </td><td>25    </td><td>12    </td><td> 93.33</td></tr>\n",
       "\t<tr><td>2     </td><td>M     </td><td>22    </td><td>71    </td><td>179   </td><td>22.2  </td><td>No    </td><td>25    </td><td>24    </td><td> 46.11</td></tr>\n",
       "\t<tr><td>2     </td><td>M     </td><td>22    </td><td>71    </td><td>179   </td><td>22.2  </td><td>No    </td><td>25    </td><td> 1    </td><td>445.55</td></tr>\n",
       "\t<tr><td>3     </td><td>NA    </td><td>NA    </td><td>NA    </td><td> NA   </td><td>  NA  </td><td>NA    </td><td>25    </td><td>12    </td><td>116.93</td></tr>\n",
       "\t<tr><td>3     </td><td>NA    </td><td>NA    </td><td>NA    </td><td> NA   </td><td>  NA  </td><td>NA    </td><td>25    </td><td> 0    </td><td>  0.00</td></tr>\n",
       "\t<tr><td>3     </td><td>NA    </td><td>NA    </td><td>NA    </td><td> NA   </td><td>  NA  </td><td>NA    </td><td>25    </td><td> 1    </td><td>500.65</td></tr>\n",
       "\t<tr><td>3     </td><td>NA    </td><td>NA    </td><td>NA    </td><td> NA   </td><td>  NA  </td><td>NA    </td><td>25    </td><td> 6    </td><td>146.04</td></tr>\n",
       "\t<tr><td>3     </td><td>NA    </td><td>NA    </td><td>NA    </td><td> NA   </td><td>  NA  </td><td>NA    </td><td>25    </td><td>24    </td><td> 68.25</td></tr>\n",
       "</tbody>\n",
       "</table>\n"
      ],
      "text/latex": [
       "\\begin{tabular}{r|llllllllll}\n",
       " Subject & Sex & Age & Weight & Height & BMI & Smokes & Dose & Time & Conc\\\\\n",
       "\\hline\n",
       "\t 1      & M      & 43     & 57     & 166    & 20.7   & No     & NA     & NA     &     NA\\\\\n",
       "\t 2      & M      & 22     & 71     & 179    & 22.2   & No     & 25     &  0     &   0.00\\\\\n",
       "\t 2      & M      & 22     & 71     & 179    & 22.2   & No     & 25     &  6     & 129.31\\\\\n",
       "\t 2      & M      & 22     & 71     & 179    & 22.2   & No     & 25     & 12     &  93.33\\\\\n",
       "\t 2      & M      & 22     & 71     & 179    & 22.2   & No     & 25     & 24     &  46.11\\\\\n",
       "\t 2      & M      & 22     & 71     & 179    & 22.2   & No     & 25     &  1     & 445.55\\\\\n",
       "\t 3      & NA     & NA     & NA     &  NA    &   NA   & NA     & 25     & 12     & 116.93\\\\\n",
       "\t 3      & NA     & NA     & NA     &  NA    &   NA   & NA     & 25     &  0     &   0.00\\\\\n",
       "\t 3      & NA     & NA     & NA     &  NA    &   NA   & NA     & 25     &  1     & 500.65\\\\\n",
       "\t 3      & NA     & NA     & NA     &  NA    &   NA   & NA     & 25     &  6     & 146.04\\\\\n",
       "\t 3      & NA     & NA     & NA     &  NA    &   NA   & NA     & 25     & 24     &  68.25\\\\\n",
       "\\end{tabular}\n"
      ],
      "text/markdown": [
       "\n",
       "Subject | Sex | Age | Weight | Height | BMI | Smokes | Dose | Time | Conc | \n",
       "|---|---|---|---|---|---|---|---|---|---|---|\n",
       "| 1      | M      | 43     | 57     | 166    | 20.7   | No     | NA     | NA     |     NA | \n",
       "| 2      | M      | 22     | 71     | 179    | 22.2   | No     | 25     |  0     |   0.00 | \n",
       "| 2      | M      | 22     | 71     | 179    | 22.2   | No     | 25     |  6     | 129.31 | \n",
       "| 2      | M      | 22     | 71     | 179    | 22.2   | No     | 25     | 12     |  93.33 | \n",
       "| 2      | M      | 22     | 71     | 179    | 22.2   | No     | 25     | 24     |  46.11 | \n",
       "| 2      | M      | 22     | 71     | 179    | 22.2   | No     | 25     |  1     | 445.55 | \n",
       "| 3      | NA     | NA     | NA     |  NA    |   NA   | NA     | 25     | 12     | 116.93 | \n",
       "| 3      | NA     | NA     | NA     |  NA    |   NA   | NA     | 25     |  0     |   0.00 | \n",
       "| 3      | NA     | NA     | NA     |  NA    |   NA   | NA     | 25     |  1     | 500.65 | \n",
       "| 3      | NA     | NA     | NA     |  NA    |   NA   | NA     | 25     |  6     | 146.04 | \n",
       "| 3      | NA     | NA     | NA     |  NA    |   NA   | NA     | 25     | 24     |  68.25 | \n",
       "\n",
       "\n"
      ],
      "text/plain": [
       "   Subject Sex Age Weight Height BMI  Smokes Dose Time Conc  \n",
       "1  1       M   43  57     166    20.7 No     NA   NA       NA\n",
       "2  2       M   22  71     179    22.2 No     25    0     0.00\n",
       "3  2       M   22  71     179    22.2 No     25    6   129.31\n",
       "4  2       M   22  71     179    22.2 No     25   12    93.33\n",
       "5  2       M   22  71     179    22.2 No     25   24    46.11\n",
       "6  2       M   22  71     179    22.2 No     25    1   445.55\n",
       "7  3       NA  NA  NA      NA      NA NA     25   12   116.93\n",
       "8  3       NA  NA  NA      NA      NA NA     25    0     0.00\n",
       "9  3       NA  NA  NA      NA      NA NA     25    1   500.65\n",
       "10 3       NA  NA  NA      NA      NA NA     25    6   146.04\n",
       "11 3       NA  NA  NA      NA      NA NA     25   24    68.25"
      ]
     },
     "metadata": {},
     "output_type": "display_data"
    }
   ],
   "source": [
    "merge(demoland2, pk2and3, all=TRUE)"
   ]
  },
  {
   "cell_type": "code",
   "execution_count": 19,
   "metadata": {
    "collapsed": false
   },
   "outputs": [
    {
     "data": {
      "text/html": [
       "<ol class=list-inline>\n",
       "\t<li>FALSE</li>\n",
       "\t<li>TRUE</li>\n",
       "\t<li>TRUE</li>\n",
       "\t<li>TRUE</li>\n",
       "\t<li>TRUE</li>\n",
       "\t<li>TRUE</li>\n",
       "\t<li>TRUE</li>\n",
       "\t<li>TRUE</li>\n",
       "\t<li>TRUE</li>\n",
       "\t<li>TRUE</li>\n",
       "\t<li>TRUE</li>\n",
       "\t<li>TRUE</li>\n",
       "\t<li>TRUE</li>\n",
       "\t<li>TRUE</li>\n",
       "\t<li>TRUE</li>\n",
       "\t<li>TRUE</li>\n",
       "\t<li>TRUE</li>\n",
       "\t<li>TRUE</li>\n",
       "\t<li>TRUE</li>\n",
       "\t<li>TRUE</li>\n",
       "\t<li>TRUE</li>\n",
       "\t<li>TRUE</li>\n",
       "\t<li>TRUE</li>\n",
       "\t<li>TRUE</li>\n",
       "\t<li>TRUE</li>\n",
       "\t<li>TRUE</li>\n",
       "\t<li>TRUE</li>\n",
       "\t<li>TRUE</li>\n",
       "\t<li>TRUE</li>\n",
       "\t<li>TRUE</li>\n",
       "\t<li>TRUE</li>\n",
       "\t<li>FALSE</li>\n",
       "\t<li>TRUE</li>\n",
       "\t<li>TRUE</li>\n",
       "\t<li>TRUE</li>\n",
       "\t<li>TRUE</li>\n",
       "\t<li>TRUE</li>\n",
       "\t<li>TRUE</li>\n",
       "\t<li>TRUE</li>\n",
       "\t<li>TRUE</li>\n",
       "\t<li>TRUE</li>\n",
       "\t<li>TRUE</li>\n",
       "\t<li>TRUE</li>\n",
       "\t<li>TRUE</li>\n",
       "\t<li>TRUE</li>\n",
       "\t<li>TRUE</li>\n",
       "\t<li>TRUE</li>\n",
       "\t<li>TRUE</li>\n",
       "\t<li>TRUE</li>\n",
       "\t<li>TRUE</li>\n",
       "\t<li>TRUE</li>\n",
       "\t<li>TRUE</li>\n",
       "\t<li>TRUE</li>\n",
       "\t<li>TRUE</li>\n",
       "\t<li>TRUE</li>\n",
       "\t<li>TRUE</li>\n",
       "\t<li>TRUE</li>\n",
       "\t<li>TRUE</li>\n",
       "\t<li>TRUE</li>\n",
       "\t<li>TRUE</li>\n",
       "\t<li>TRUE</li>\n",
       "\t<li>FALSE</li>\n",
       "\t<li>TRUE</li>\n",
       "\t<li>TRUE</li>\n",
       "\t<li>TRUE</li>\n",
       "\t<li>TRUE</li>\n",
       "\t<li>TRUE</li>\n",
       "\t<li>TRUE</li>\n",
       "\t<li>TRUE</li>\n",
       "\t<li>TRUE</li>\n",
       "\t<li>TRUE</li>\n",
       "\t<li>TRUE</li>\n",
       "\t<li>TRUE</li>\n",
       "\t<li>TRUE</li>\n",
       "\t<li>TRUE</li>\n",
       "\t<li>TRUE</li>\n",
       "\t<li>TRUE</li>\n",
       "\t<li>TRUE</li>\n",
       "\t<li>TRUE</li>\n",
       "\t<li>TRUE</li>\n",
       "\t<li>TRUE</li>\n",
       "\t<li>TRUE</li>\n",
       "\t<li>TRUE</li>\n",
       "\t<li>TRUE</li>\n",
       "\t<li>TRUE</li>\n",
       "\t<li>TRUE</li>\n",
       "\t<li>TRUE</li>\n",
       "\t<li>TRUE</li>\n",
       "\t<li>TRUE</li>\n",
       "\t<li>TRUE</li>\n",
       "\t<li>TRUE</li>\n",
       "\t<li>TRUE</li>\n",
       "\t<li>FALSE</li>\n",
       "\t<li>TRUE</li>\n",
       "\t<li>TRUE</li>\n",
       "\t<li>TRUE</li>\n",
       "\t<li>TRUE</li>\n",
       "\t<li>TRUE</li>\n",
       "\t<li>TRUE</li>\n",
       "\t<li>TRUE</li>\n",
       "\t<li>TRUE</li>\n",
       "\t<li>TRUE</li>\n",
       "\t<li>TRUE</li>\n",
       "\t<li>TRUE</li>\n",
       "\t<li>TRUE</li>\n",
       "\t<li>TRUE</li>\n",
       "\t<li>TRUE</li>\n",
       "\t<li>TRUE</li>\n",
       "\t<li>TRUE</li>\n",
       "\t<li>TRUE</li>\n",
       "\t<li>TRUE</li>\n",
       "\t<li>TRUE</li>\n",
       "\t<li>TRUE</li>\n",
       "\t<li>TRUE</li>\n",
       "\t<li>TRUE</li>\n",
       "\t<li>TRUE</li>\n",
       "\t<li>TRUE</li>\n",
       "\t<li>TRUE</li>\n",
       "\t<li>TRUE</li>\n",
       "\t<li>TRUE</li>\n",
       "\t<li>TRUE</li>\n",
       "\t<li>TRUE</li>\n",
       "\t<li>TRUE</li>\n",
       "\t<li>FALSE</li>\n",
       "\t<li>TRUE</li>\n",
       "\t<li>TRUE</li>\n",
       "\t<li>TRUE</li>\n",
       "\t<li>TRUE</li>\n",
       "\t<li>TRUE</li>\n",
       "\t<li>TRUE</li>\n",
       "\t<li>TRUE</li>\n",
       "\t<li>TRUE</li>\n",
       "\t<li>TRUE</li>\n",
       "\t<li>TRUE</li>\n",
       "\t<li>TRUE</li>\n",
       "\t<li>TRUE</li>\n",
       "\t<li>TRUE</li>\n",
       "\t<li>TRUE</li>\n",
       "\t<li>TRUE</li>\n",
       "\t<li>TRUE</li>\n",
       "\t<li>TRUE</li>\n",
       "\t<li>TRUE</li>\n",
       "\t<li>TRUE</li>\n",
       "\t<li>TRUE</li>\n",
       "\t<li>TRUE</li>\n",
       "\t<li>TRUE</li>\n",
       "\t<li>TRUE</li>\n",
       "\t<li>TRUE</li>\n",
       "\t<li>TRUE</li>\n",
       "\t<li>TRUE</li>\n",
       "\t<li>TRUE</li>\n",
       "\t<li>TRUE</li>\n",
       "\t<li>TRUE</li>\n",
       "</ol>\n"
      ],
      "text/latex": [
       "\\begin{enumerate*}\n",
       "\\item FALSE\n",
       "\\item TRUE\n",
       "\\item TRUE\n",
       "\\item TRUE\n",
       "\\item TRUE\n",
       "\\item TRUE\n",
       "\\item TRUE\n",
       "\\item TRUE\n",
       "\\item TRUE\n",
       "\\item TRUE\n",
       "\\item TRUE\n",
       "\\item TRUE\n",
       "\\item TRUE\n",
       "\\item TRUE\n",
       "\\item TRUE\n",
       "\\item TRUE\n",
       "\\item TRUE\n",
       "\\item TRUE\n",
       "\\item TRUE\n",
       "\\item TRUE\n",
       "\\item TRUE\n",
       "\\item TRUE\n",
       "\\item TRUE\n",
       "\\item TRUE\n",
       "\\item TRUE\n",
       "\\item TRUE\n",
       "\\item TRUE\n",
       "\\item TRUE\n",
       "\\item TRUE\n",
       "\\item TRUE\n",
       "\\item TRUE\n",
       "\\item FALSE\n",
       "\\item TRUE\n",
       "\\item TRUE\n",
       "\\item TRUE\n",
       "\\item TRUE\n",
       "\\item TRUE\n",
       "\\item TRUE\n",
       "\\item TRUE\n",
       "\\item TRUE\n",
       "\\item TRUE\n",
       "\\item TRUE\n",
       "\\item TRUE\n",
       "\\item TRUE\n",
       "\\item TRUE\n",
       "\\item TRUE\n",
       "\\item TRUE\n",
       "\\item TRUE\n",
       "\\item TRUE\n",
       "\\item TRUE\n",
       "\\item TRUE\n",
       "\\item TRUE\n",
       "\\item TRUE\n",
       "\\item TRUE\n",
       "\\item TRUE\n",
       "\\item TRUE\n",
       "\\item TRUE\n",
       "\\item TRUE\n",
       "\\item TRUE\n",
       "\\item TRUE\n",
       "\\item TRUE\n",
       "\\item FALSE\n",
       "\\item TRUE\n",
       "\\item TRUE\n",
       "\\item TRUE\n",
       "\\item TRUE\n",
       "\\item TRUE\n",
       "\\item TRUE\n",
       "\\item TRUE\n",
       "\\item TRUE\n",
       "\\item TRUE\n",
       "\\item TRUE\n",
       "\\item TRUE\n",
       "\\item TRUE\n",
       "\\item TRUE\n",
       "\\item TRUE\n",
       "\\item TRUE\n",
       "\\item TRUE\n",
       "\\item TRUE\n",
       "\\item TRUE\n",
       "\\item TRUE\n",
       "\\item TRUE\n",
       "\\item TRUE\n",
       "\\item TRUE\n",
       "\\item TRUE\n",
       "\\item TRUE\n",
       "\\item TRUE\n",
       "\\item TRUE\n",
       "\\item TRUE\n",
       "\\item TRUE\n",
       "\\item TRUE\n",
       "\\item TRUE\n",
       "\\item FALSE\n",
       "\\item TRUE\n",
       "\\item TRUE\n",
       "\\item TRUE\n",
       "\\item TRUE\n",
       "\\item TRUE\n",
       "\\item TRUE\n",
       "\\item TRUE\n",
       "\\item TRUE\n",
       "\\item TRUE\n",
       "\\item TRUE\n",
       "\\item TRUE\n",
       "\\item TRUE\n",
       "\\item TRUE\n",
       "\\item TRUE\n",
       "\\item TRUE\n",
       "\\item TRUE\n",
       "\\item TRUE\n",
       "\\item TRUE\n",
       "\\item TRUE\n",
       "\\item TRUE\n",
       "\\item TRUE\n",
       "\\item TRUE\n",
       "\\item TRUE\n",
       "\\item TRUE\n",
       "\\item TRUE\n",
       "\\item TRUE\n",
       "\\item TRUE\n",
       "\\item TRUE\n",
       "\\item TRUE\n",
       "\\item TRUE\n",
       "\\item FALSE\n",
       "\\item TRUE\n",
       "\\item TRUE\n",
       "\\item TRUE\n",
       "\\item TRUE\n",
       "\\item TRUE\n",
       "\\item TRUE\n",
       "\\item TRUE\n",
       "\\item TRUE\n",
       "\\item TRUE\n",
       "\\item TRUE\n",
       "\\item TRUE\n",
       "\\item TRUE\n",
       "\\item TRUE\n",
       "\\item TRUE\n",
       "\\item TRUE\n",
       "\\item TRUE\n",
       "\\item TRUE\n",
       "\\item TRUE\n",
       "\\item TRUE\n",
       "\\item TRUE\n",
       "\\item TRUE\n",
       "\\item TRUE\n",
       "\\item TRUE\n",
       "\\item TRUE\n",
       "\\item TRUE\n",
       "\\item TRUE\n",
       "\\item TRUE\n",
       "\\item TRUE\n",
       "\\item TRUE\n",
       "\\end{enumerate*}\n"
      ],
      "text/markdown": [
       "1. FALSE\n",
       "2. TRUE\n",
       "3. TRUE\n",
       "4. TRUE\n",
       "5. TRUE\n",
       "6. TRUE\n",
       "7. TRUE\n",
       "8. TRUE\n",
       "9. TRUE\n",
       "10. TRUE\n",
       "11. TRUE\n",
       "12. TRUE\n",
       "13. TRUE\n",
       "14. TRUE\n",
       "15. TRUE\n",
       "16. TRUE\n",
       "17. TRUE\n",
       "18. TRUE\n",
       "19. TRUE\n",
       "20. TRUE\n",
       "21. TRUE\n",
       "22. TRUE\n",
       "23. TRUE\n",
       "24. TRUE\n",
       "25. TRUE\n",
       "26. TRUE\n",
       "27. TRUE\n",
       "28. TRUE\n",
       "29. TRUE\n",
       "30. TRUE\n",
       "31. TRUE\n",
       "32. FALSE\n",
       "33. TRUE\n",
       "34. TRUE\n",
       "35. TRUE\n",
       "36. TRUE\n",
       "37. TRUE\n",
       "38. TRUE\n",
       "39. TRUE\n",
       "40. TRUE\n",
       "41. TRUE\n",
       "42. TRUE\n",
       "43. TRUE\n",
       "44. TRUE\n",
       "45. TRUE\n",
       "46. TRUE\n",
       "47. TRUE\n",
       "48. TRUE\n",
       "49. TRUE\n",
       "50. TRUE\n",
       "51. TRUE\n",
       "52. TRUE\n",
       "53. TRUE\n",
       "54. TRUE\n",
       "55. TRUE\n",
       "56. TRUE\n",
       "57. TRUE\n",
       "58. TRUE\n",
       "59. TRUE\n",
       "60. TRUE\n",
       "61. TRUE\n",
       "62. FALSE\n",
       "63. TRUE\n",
       "64. TRUE\n",
       "65. TRUE\n",
       "66. TRUE\n",
       "67. TRUE\n",
       "68. TRUE\n",
       "69. TRUE\n",
       "70. TRUE\n",
       "71. TRUE\n",
       "72. TRUE\n",
       "73. TRUE\n",
       "74. TRUE\n",
       "75. TRUE\n",
       "76. TRUE\n",
       "77. TRUE\n",
       "78. TRUE\n",
       "79. TRUE\n",
       "80. TRUE\n",
       "81. TRUE\n",
       "82. TRUE\n",
       "83. TRUE\n",
       "84. TRUE\n",
       "85. TRUE\n",
       "86. TRUE\n",
       "87. TRUE\n",
       "88. TRUE\n",
       "89. TRUE\n",
       "90. TRUE\n",
       "91. TRUE\n",
       "92. TRUE\n",
       "93. FALSE\n",
       "94. TRUE\n",
       "95. TRUE\n",
       "96. TRUE\n",
       "97. TRUE\n",
       "98. TRUE\n",
       "99. TRUE\n",
       "100. TRUE\n",
       "101. TRUE\n",
       "102. TRUE\n",
       "103. TRUE\n",
       "104. TRUE\n",
       "105. TRUE\n",
       "106. TRUE\n",
       "107. TRUE\n",
       "108. TRUE\n",
       "109. TRUE\n",
       "110. TRUE\n",
       "111. TRUE\n",
       "112. TRUE\n",
       "113. TRUE\n",
       "114. TRUE\n",
       "115. TRUE\n",
       "116. TRUE\n",
       "117. TRUE\n",
       "118. TRUE\n",
       "119. TRUE\n",
       "120. TRUE\n",
       "121. TRUE\n",
       "122. TRUE\n",
       "123. TRUE\n",
       "124. FALSE\n",
       "125. TRUE\n",
       "126. TRUE\n",
       "127. TRUE\n",
       "128. TRUE\n",
       "129. TRUE\n",
       "130. TRUE\n",
       "131. TRUE\n",
       "132. TRUE\n",
       "133. TRUE\n",
       "134. TRUE\n",
       "135. TRUE\n",
       "136. TRUE\n",
       "137. TRUE\n",
       "138. TRUE\n",
       "139. TRUE\n",
       "140. TRUE\n",
       "141. TRUE\n",
       "142. TRUE\n",
       "143. TRUE\n",
       "144. TRUE\n",
       "145. TRUE\n",
       "146. TRUE\n",
       "147. TRUE\n",
       "148. TRUE\n",
       "149. TRUE\n",
       "150. TRUE\n",
       "151. TRUE\n",
       "152. TRUE\n",
       "153. TRUE\n",
       "\n",
       "\n"
      ],
      "text/plain": [
       "  [1] FALSE  TRUE  TRUE  TRUE  TRUE  TRUE  TRUE  TRUE  TRUE  TRUE  TRUE  TRUE\n",
       " [13]  TRUE  TRUE  TRUE  TRUE  TRUE  TRUE  TRUE  TRUE  TRUE  TRUE  TRUE  TRUE\n",
       " [25]  TRUE  TRUE  TRUE  TRUE  TRUE  TRUE  TRUE FALSE  TRUE  TRUE  TRUE  TRUE\n",
       " [37]  TRUE  TRUE  TRUE  TRUE  TRUE  TRUE  TRUE  TRUE  TRUE  TRUE  TRUE  TRUE\n",
       " [49]  TRUE  TRUE  TRUE  TRUE  TRUE  TRUE  TRUE  TRUE  TRUE  TRUE  TRUE  TRUE\n",
       " [61]  TRUE FALSE  TRUE  TRUE  TRUE  TRUE  TRUE  TRUE  TRUE  TRUE  TRUE  TRUE\n",
       " [73]  TRUE  TRUE  TRUE  TRUE  TRUE  TRUE  TRUE  TRUE  TRUE  TRUE  TRUE  TRUE\n",
       " [85]  TRUE  TRUE  TRUE  TRUE  TRUE  TRUE  TRUE  TRUE FALSE  TRUE  TRUE  TRUE\n",
       " [97]  TRUE  TRUE  TRUE  TRUE  TRUE  TRUE  TRUE  TRUE  TRUE  TRUE  TRUE  TRUE\n",
       "[109]  TRUE  TRUE  TRUE  TRUE  TRUE  TRUE  TRUE  TRUE  TRUE  TRUE  TRUE  TRUE\n",
       "[121]  TRUE  TRUE  TRUE FALSE  TRUE  TRUE  TRUE  TRUE  TRUE  TRUE  TRUE  TRUE\n",
       "[133]  TRUE  TRUE  TRUE  TRUE  TRUE  TRUE  TRUE  TRUE  TRUE  TRUE  TRUE  TRUE\n",
       "[145]  TRUE  TRUE  TRUE  TRUE  TRUE  TRUE  TRUE  TRUE  TRUE"
      ]
     },
     "metadata": {},
     "output_type": "display_data"
    }
   ],
   "source": [
    "# Duplicates\n",
    "isMonthDuplicate <- duplicated(airquality$Month)\n",
    "isMonthDuplicate"
   ]
  },
  {
   "cell_type": "code",
   "execution_count": 23,
   "metadata": {
    "collapsed": false
   },
   "outputs": [
    {
     "data": {
      "text/html": [
       "<table>\n",
       "<thead><tr><th></th><th scope=col>Ozone</th><th scope=col>Solar.R</th><th scope=col>Wind</th><th scope=col>Temp</th><th scope=col>Month</th><th scope=col>Day</th></tr></thead>\n",
       "<tbody>\n",
       "\t<tr><th scope=row>2</th><td> 36 </td><td>118 </td><td> 8.0</td><td>72  </td><td>5   </td><td> 2  </td></tr>\n",
       "\t<tr><th scope=row>3</th><td> 12 </td><td>149 </td><td>12.6</td><td>74  </td><td>5   </td><td> 3  </td></tr>\n",
       "\t<tr><th scope=row>4</th><td> 18 </td><td>313 </td><td>11.5</td><td>62  </td><td>5   </td><td> 4  </td></tr>\n",
       "\t<tr><th scope=row>5</th><td> NA </td><td> NA </td><td>14.3</td><td>56  </td><td>5   </td><td> 5  </td></tr>\n",
       "\t<tr><th scope=row>6</th><td> 28 </td><td> NA </td><td>14.9</td><td>66  </td><td>5   </td><td> 6  </td></tr>\n",
       "\t<tr><th scope=row>7</th><td> 23 </td><td>299 </td><td> 8.6</td><td>65  </td><td>5   </td><td> 7  </td></tr>\n",
       "\t<tr><th scope=row>8</th><td> 19 </td><td> 99 </td><td>13.8</td><td>59  </td><td>5   </td><td> 8  </td></tr>\n",
       "\t<tr><th scope=row>9</th><td>  8 </td><td> 19 </td><td>20.1</td><td>61  </td><td>5   </td><td> 9  </td></tr>\n",
       "\t<tr><th scope=row>10</th><td> NA </td><td>194 </td><td> 8.6</td><td>69  </td><td>5   </td><td>10  </td></tr>\n",
       "\t<tr><th scope=row>11</th><td>  7 </td><td> NA </td><td> 6.9</td><td>74  </td><td>5   </td><td>11  </td></tr>\n",
       "\t<tr><th scope=row>12</th><td> 16 </td><td>256 </td><td> 9.7</td><td>69  </td><td>5   </td><td>12  </td></tr>\n",
       "\t<tr><th scope=row>13</th><td> 11 </td><td>290 </td><td> 9.2</td><td>66  </td><td>5   </td><td>13  </td></tr>\n",
       "\t<tr><th scope=row>14</th><td> 14 </td><td>274 </td><td>10.9</td><td>68  </td><td>5   </td><td>14  </td></tr>\n",
       "\t<tr><th scope=row>15</th><td> 18 </td><td> 65 </td><td>13.2</td><td>58  </td><td>5   </td><td>15  </td></tr>\n",
       "\t<tr><th scope=row>16</th><td> 14 </td><td>334 </td><td>11.5</td><td>64  </td><td>5   </td><td>16  </td></tr>\n",
       "\t<tr><th scope=row>17</th><td> 34 </td><td>307 </td><td>12.0</td><td>66  </td><td>5   </td><td>17  </td></tr>\n",
       "\t<tr><th scope=row>18</th><td>  6 </td><td> 78 </td><td>18.4</td><td>57  </td><td>5   </td><td>18  </td></tr>\n",
       "\t<tr><th scope=row>19</th><td> 30 </td><td>322 </td><td>11.5</td><td>68  </td><td>5   </td><td>19  </td></tr>\n",
       "\t<tr><th scope=row>20</th><td> 11 </td><td> 44 </td><td> 9.7</td><td>62  </td><td>5   </td><td>20  </td></tr>\n",
       "\t<tr><th scope=row>21</th><td>  1 </td><td>  8 </td><td> 9.7</td><td>59  </td><td>5   </td><td>21  </td></tr>\n",
       "\t<tr><th scope=row>22</th><td> 11 </td><td>320 </td><td>16.6</td><td>73  </td><td>5   </td><td>22  </td></tr>\n",
       "\t<tr><th scope=row>23</th><td>  4 </td><td> 25 </td><td> 9.7</td><td>61  </td><td>5   </td><td>23  </td></tr>\n",
       "\t<tr><th scope=row>24</th><td> 32 </td><td> 92 </td><td>12.0</td><td>61  </td><td>5   </td><td>24  </td></tr>\n",
       "\t<tr><th scope=row>25</th><td> NA </td><td> 66 </td><td>16.6</td><td>57  </td><td>5   </td><td>25  </td></tr>\n",
       "\t<tr><th scope=row>26</th><td> NA </td><td>266 </td><td>14.9</td><td>58  </td><td>5   </td><td>26  </td></tr>\n",
       "\t<tr><th scope=row>27</th><td> NA </td><td> NA </td><td> 8.0</td><td>57  </td><td>5   </td><td>27  </td></tr>\n",
       "\t<tr><th scope=row>28</th><td> 23 </td><td> 13 </td><td>12.0</td><td>67  </td><td>5   </td><td>28  </td></tr>\n",
       "\t<tr><th scope=row>29</th><td> 45 </td><td>252 </td><td>14.9</td><td>81  </td><td>5   </td><td>29  </td></tr>\n",
       "\t<tr><th scope=row>30</th><td>115 </td><td>223 </td><td> 5.7</td><td>79  </td><td>5   </td><td>30  </td></tr>\n",
       "\t<tr><th scope=row>31</th><td> 37 </td><td>279 </td><td> 7.4</td><td>76  </td><td>5   </td><td>31  </td></tr>\n",
       "\t<tr><th scope=row>...</th><td>...</td><td>...</td><td>...</td><td>...</td><td>...</td><td>...</td></tr>\n",
       "\t<tr><th scope=row>123</th><td>85  </td><td>188 </td><td> 6.3</td><td>94  </td><td>8   </td><td>31  </td></tr>\n",
       "\t<tr><th scope=row>125</th><td>78  </td><td>197 </td><td> 5.1</td><td>92  </td><td>9   </td><td> 2  </td></tr>\n",
       "\t<tr><th scope=row>126</th><td>73  </td><td>183 </td><td> 2.8</td><td>93  </td><td>9   </td><td> 3  </td></tr>\n",
       "\t<tr><th scope=row>127</th><td>91  </td><td>189 </td><td> 4.6</td><td>93  </td><td>9   </td><td> 4  </td></tr>\n",
       "\t<tr><th scope=row>128</th><td>47  </td><td> 95 </td><td> 7.4</td><td>87  </td><td>9   </td><td> 5  </td></tr>\n",
       "\t<tr><th scope=row>129</th><td>32  </td><td> 92 </td><td>15.5</td><td>84  </td><td>9   </td><td> 6  </td></tr>\n",
       "\t<tr><th scope=row>130</th><td>20  </td><td>252 </td><td>10.9</td><td>80  </td><td>9   </td><td> 7  </td></tr>\n",
       "\t<tr><th scope=row>131</th><td>23  </td><td>220 </td><td>10.3</td><td>78  </td><td>9   </td><td> 8  </td></tr>\n",
       "\t<tr><th scope=row>132</th><td>21  </td><td>230 </td><td>10.9</td><td>75  </td><td>9   </td><td> 9  </td></tr>\n",
       "\t<tr><th scope=row>133</th><td>24  </td><td>259 </td><td> 9.7</td><td>73  </td><td>9   </td><td>10  </td></tr>\n",
       "\t<tr><th scope=row>134</th><td>44  </td><td>236 </td><td>14.9</td><td>81  </td><td>9   </td><td>11  </td></tr>\n",
       "\t<tr><th scope=row>135</th><td>21  </td><td>259 </td><td>15.5</td><td>76  </td><td>9   </td><td>12  </td></tr>\n",
       "\t<tr><th scope=row>136</th><td>28  </td><td>238 </td><td> 6.3</td><td>77  </td><td>9   </td><td>13  </td></tr>\n",
       "\t<tr><th scope=row>137</th><td> 9  </td><td> 24 </td><td>10.9</td><td>71  </td><td>9   </td><td>14  </td></tr>\n",
       "\t<tr><th scope=row>138</th><td>13  </td><td>112 </td><td>11.5</td><td>71  </td><td>9   </td><td>15  </td></tr>\n",
       "\t<tr><th scope=row>139</th><td>46  </td><td>237 </td><td> 6.9</td><td>78  </td><td>9   </td><td>16  </td></tr>\n",
       "\t<tr><th scope=row>140</th><td>18  </td><td>224 </td><td>13.8</td><td>67  </td><td>9   </td><td>17  </td></tr>\n",
       "\t<tr><th scope=row>141</th><td>13  </td><td> 27 </td><td>10.3</td><td>76  </td><td>9   </td><td>18  </td></tr>\n",
       "\t<tr><th scope=row>142</th><td>24  </td><td>238 </td><td>10.3</td><td>68  </td><td>9   </td><td>19  </td></tr>\n",
       "\t<tr><th scope=row>143</th><td>16  </td><td>201 </td><td> 8.0</td><td>82  </td><td>9   </td><td>20  </td></tr>\n",
       "\t<tr><th scope=row>144</th><td>13  </td><td>238 </td><td>12.6</td><td>64  </td><td>9   </td><td>21  </td></tr>\n",
       "\t<tr><th scope=row>145</th><td>23  </td><td> 14 </td><td> 9.2</td><td>71  </td><td>9   </td><td>22  </td></tr>\n",
       "\t<tr><th scope=row>146</th><td>36  </td><td>139 </td><td>10.3</td><td>81  </td><td>9   </td><td>23  </td></tr>\n",
       "\t<tr><th scope=row>147</th><td> 7  </td><td> 49 </td><td>10.3</td><td>69  </td><td>9   </td><td>24  </td></tr>\n",
       "\t<tr><th scope=row>148</th><td>14  </td><td> 20 </td><td>16.6</td><td>63  </td><td>9   </td><td>25  </td></tr>\n",
       "\t<tr><th scope=row>149</th><td>30  </td><td>193 </td><td> 6.9</td><td>70  </td><td>9   </td><td>26  </td></tr>\n",
       "\t<tr><th scope=row>150</th><td>NA  </td><td>145 </td><td>13.2</td><td>77  </td><td>9   </td><td>27  </td></tr>\n",
       "\t<tr><th scope=row>151</th><td>14  </td><td>191 </td><td>14.3</td><td>75  </td><td>9   </td><td>28  </td></tr>\n",
       "\t<tr><th scope=row>152</th><td>18  </td><td>131 </td><td> 8.0</td><td>76  </td><td>9   </td><td>29  </td></tr>\n",
       "\t<tr><th scope=row>153</th><td>20  </td><td>223 </td><td>11.5</td><td>68  </td><td>9   </td><td>30  </td></tr>\n",
       "</tbody>\n",
       "</table>\n"
      ],
      "text/latex": [
       "\\begin{tabular}{r|llllll}\n",
       "  & Ozone & Solar.R & Wind & Temp & Month & Day\\\\\n",
       "\\hline\n",
       "\t2 &  36  & 118  &  8.0 & 72   & 5    &  2  \\\\\n",
       "\t3 &  12  & 149  & 12.6 & 74   & 5    &  3  \\\\\n",
       "\t4 &  18  & 313  & 11.5 & 62   & 5    &  4  \\\\\n",
       "\t5 &  NA  &  NA  & 14.3 & 56   & 5    &  5  \\\\\n",
       "\t6 &  28  &  NA  & 14.9 & 66   & 5    &  6  \\\\\n",
       "\t7 &  23  & 299  &  8.6 & 65   & 5    &  7  \\\\\n",
       "\t8 &  19  &  99  & 13.8 & 59   & 5    &  8  \\\\\n",
       "\t9 &   8  &  19  & 20.1 & 61   & 5    &  9  \\\\\n",
       "\t10 &  NA  & 194  &  8.6 & 69   & 5    & 10  \\\\\n",
       "\t11 &   7  &  NA  &  6.9 & 74   & 5    & 11  \\\\\n",
       "\t12 &  16  & 256  &  9.7 & 69   & 5    & 12  \\\\\n",
       "\t13 &  11  & 290  &  9.2 & 66   & 5    & 13  \\\\\n",
       "\t14 &  14  & 274  & 10.9 & 68   & 5    & 14  \\\\\n",
       "\t15 &  18  &  65  & 13.2 & 58   & 5    & 15  \\\\\n",
       "\t16 &  14  & 334  & 11.5 & 64   & 5    & 16  \\\\\n",
       "\t17 &  34  & 307  & 12.0 & 66   & 5    & 17  \\\\\n",
       "\t18 &   6  &  78  & 18.4 & 57   & 5    & 18  \\\\\n",
       "\t19 &  30  & 322  & 11.5 & 68   & 5    & 19  \\\\\n",
       "\t20 &  11  &  44  &  9.7 & 62   & 5    & 20  \\\\\n",
       "\t21 &   1  &   8  &  9.7 & 59   & 5    & 21  \\\\\n",
       "\t22 &  11  & 320  & 16.6 & 73   & 5    & 22  \\\\\n",
       "\t23 &   4  &  25  &  9.7 & 61   & 5    & 23  \\\\\n",
       "\t24 &  32  &  92  & 12.0 & 61   & 5    & 24  \\\\\n",
       "\t25 &  NA  &  66  & 16.6 & 57   & 5    & 25  \\\\\n",
       "\t26 &  NA  & 266  & 14.9 & 58   & 5    & 26  \\\\\n",
       "\t27 &  NA  &  NA  &  8.0 & 57   & 5    & 27  \\\\\n",
       "\t28 &  23  &  13  & 12.0 & 67   & 5    & 28  \\\\\n",
       "\t29 &  45  & 252  & 14.9 & 81   & 5    & 29  \\\\\n",
       "\t30 & 115  & 223  &  5.7 & 79   & 5    & 30  \\\\\n",
       "\t31 &  37  & 279  &  7.4 & 76   & 5    & 31  \\\\\n",
       "\t... & ... & ... & ... & ... & ... & ...\\\\\n",
       "\t123 & 85   & 188  &  6.3 & 94   & 8    & 31  \\\\\n",
       "\t125 & 78   & 197  &  5.1 & 92   & 9    &  2  \\\\\n",
       "\t126 & 73   & 183  &  2.8 & 93   & 9    &  3  \\\\\n",
       "\t127 & 91   & 189  &  4.6 & 93   & 9    &  4  \\\\\n",
       "\t128 & 47   &  95  &  7.4 & 87   & 9    &  5  \\\\\n",
       "\t129 & 32   &  92  & 15.5 & 84   & 9    &  6  \\\\\n",
       "\t130 & 20   & 252  & 10.9 & 80   & 9    &  7  \\\\\n",
       "\t131 & 23   & 220  & 10.3 & 78   & 9    &  8  \\\\\n",
       "\t132 & 21   & 230  & 10.9 & 75   & 9    &  9  \\\\\n",
       "\t133 & 24   & 259  &  9.7 & 73   & 9    & 10  \\\\\n",
       "\t134 & 44   & 236  & 14.9 & 81   & 9    & 11  \\\\\n",
       "\t135 & 21   & 259  & 15.5 & 76   & 9    & 12  \\\\\n",
       "\t136 & 28   & 238  &  6.3 & 77   & 9    & 13  \\\\\n",
       "\t137 &  9   &  24  & 10.9 & 71   & 9    & 14  \\\\\n",
       "\t138 & 13   & 112  & 11.5 & 71   & 9    & 15  \\\\\n",
       "\t139 & 46   & 237  &  6.9 & 78   & 9    & 16  \\\\\n",
       "\t140 & 18   & 224  & 13.8 & 67   & 9    & 17  \\\\\n",
       "\t141 & 13   &  27  & 10.3 & 76   & 9    & 18  \\\\\n",
       "\t142 & 24   & 238  & 10.3 & 68   & 9    & 19  \\\\\n",
       "\t143 & 16   & 201  &  8.0 & 82   & 9    & 20  \\\\\n",
       "\t144 & 13   & 238  & 12.6 & 64   & 9    & 21  \\\\\n",
       "\t145 & 23   &  14  &  9.2 & 71   & 9    & 22  \\\\\n",
       "\t146 & 36   & 139  & 10.3 & 81   & 9    & 23  \\\\\n",
       "\t147 &  7   &  49  & 10.3 & 69   & 9    & 24  \\\\\n",
       "\t148 & 14   &  20  & 16.6 & 63   & 9    & 25  \\\\\n",
       "\t149 & 30   & 193  &  6.9 & 70   & 9    & 26  \\\\\n",
       "\t150 & NA   & 145  & 13.2 & 77   & 9    & 27  \\\\\n",
       "\t151 & 14   & 191  & 14.3 & 75   & 9    & 28  \\\\\n",
       "\t152 & 18   & 131  &  8.0 & 76   & 9    & 29  \\\\\n",
       "\t153 & 20   & 223  & 11.5 & 68   & 9    & 30  \\\\\n",
       "\\end{tabular}\n"
      ],
      "text/markdown": [
       "\n",
       "| <!--/--> | Ozone | Solar.R | Wind | Temp | Month | Day | \n",
       "|---|---|---|---|---|---|---|---|---|---|---|---|---|---|---|---|---|---|---|---|---|---|---|---|---|---|---|---|---|---|---|---|---|---|---|---|---|---|---|---|---|---|---|---|---|---|---|---|---|---|---|---|---|---|---|---|---|---|---|---|---|\n",
       "| 2 |  36  | 118  |  8.0 | 72   | 5    |  2   | \n",
       "| 3 |  12  | 149  | 12.6 | 74   | 5    |  3   | \n",
       "| 4 |  18  | 313  | 11.5 | 62   | 5    |  4   | \n",
       "| 5 |  NA  |  NA  | 14.3 | 56   | 5    |  5   | \n",
       "| 6 |  28  |  NA  | 14.9 | 66   | 5    |  6   | \n",
       "| 7 |  23  | 299  |  8.6 | 65   | 5    |  7   | \n",
       "| 8 |  19  |  99  | 13.8 | 59   | 5    |  8   | \n",
       "| 9 |   8  |  19  | 20.1 | 61   | 5    |  9   | \n",
       "| 10 |  NA  | 194  |  8.6 | 69   | 5    | 10   | \n",
       "| 11 |   7  |  NA  |  6.9 | 74   | 5    | 11   | \n",
       "| 12 |  16  | 256  |  9.7 | 69   | 5    | 12   | \n",
       "| 13 |  11  | 290  |  9.2 | 66   | 5    | 13   | \n",
       "| 14 |  14  | 274  | 10.9 | 68   | 5    | 14   | \n",
       "| 15 |  18  |  65  | 13.2 | 58   | 5    | 15   | \n",
       "| 16 |  14  | 334  | 11.5 | 64   | 5    | 16   | \n",
       "| 17 |  34  | 307  | 12.0 | 66   | 5    | 17   | \n",
       "| 18 |   6  |  78  | 18.4 | 57   | 5    | 18   | \n",
       "| 19 |  30  | 322  | 11.5 | 68   | 5    | 19   | \n",
       "| 20 |  11  |  44  |  9.7 | 62   | 5    | 20   | \n",
       "| 21 |   1  |   8  |  9.7 | 59   | 5    | 21   | \n",
       "| 22 |  11  | 320  | 16.6 | 73   | 5    | 22   | \n",
       "| 23 |   4  |  25  |  9.7 | 61   | 5    | 23   | \n",
       "| 24 |  32  |  92  | 12.0 | 61   | 5    | 24   | \n",
       "| 25 |  NA  |  66  | 16.6 | 57   | 5    | 25   | \n",
       "| 26 |  NA  | 266  | 14.9 | 58   | 5    | 26   | \n",
       "| 27 |  NA  |  NA  |  8.0 | 57   | 5    | 27   | \n",
       "| 28 |  23  |  13  | 12.0 | 67   | 5    | 28   | \n",
       "| 29 |  45  | 252  | 14.9 | 81   | 5    | 29   | \n",
       "| 30 | 115  | 223  |  5.7 | 79   | 5    | 30   | \n",
       "| 31 |  37  | 279  |  7.4 | 76   | 5    | 31   | \n",
       "| ... | ... | ... | ... | ... | ... | ... | \n",
       "| 123 | 85   | 188  |  6.3 | 94   | 8    | 31   | \n",
       "| 125 | 78   | 197  |  5.1 | 92   | 9    |  2   | \n",
       "| 126 | 73   | 183  |  2.8 | 93   | 9    |  3   | \n",
       "| 127 | 91   | 189  |  4.6 | 93   | 9    |  4   | \n",
       "| 128 | 47   |  95  |  7.4 | 87   | 9    |  5   | \n",
       "| 129 | 32   |  92  | 15.5 | 84   | 9    |  6   | \n",
       "| 130 | 20   | 252  | 10.9 | 80   | 9    |  7   | \n",
       "| 131 | 23   | 220  | 10.3 | 78   | 9    |  8   | \n",
       "| 132 | 21   | 230  | 10.9 | 75   | 9    |  9   | \n",
       "| 133 | 24   | 259  |  9.7 | 73   | 9    | 10   | \n",
       "| 134 | 44   | 236  | 14.9 | 81   | 9    | 11   | \n",
       "| 135 | 21   | 259  | 15.5 | 76   | 9    | 12   | \n",
       "| 136 | 28   | 238  |  6.3 | 77   | 9    | 13   | \n",
       "| 137 |  9   |  24  | 10.9 | 71   | 9    | 14   | \n",
       "| 138 | 13   | 112  | 11.5 | 71   | 9    | 15   | \n",
       "| 139 | 46   | 237  |  6.9 | 78   | 9    | 16   | \n",
       "| 140 | 18   | 224  | 13.8 | 67   | 9    | 17   | \n",
       "| 141 | 13   |  27  | 10.3 | 76   | 9    | 18   | \n",
       "| 142 | 24   | 238  | 10.3 | 68   | 9    | 19   | \n",
       "| 143 | 16   | 201  |  8.0 | 82   | 9    | 20   | \n",
       "| 144 | 13   | 238  | 12.6 | 64   | 9    | 21   | \n",
       "| 145 | 23   |  14  |  9.2 | 71   | 9    | 22   | \n",
       "| 146 | 36   | 139  | 10.3 | 81   | 9    | 23   | \n",
       "| 147 |  7   |  49  | 10.3 | 69   | 9    | 24   | \n",
       "| 148 | 14   |  20  | 16.6 | 63   | 9    | 25   | \n",
       "| 149 | 30   | 193  |  6.9 | 70   | 9    | 26   | \n",
       "| 150 | NA   | 145  | 13.2 | 77   | 9    | 27   | \n",
       "| 151 | 14   | 191  | 14.3 | 75   | 9    | 28   | \n",
       "| 152 | 18   | 131  |  8.0 | 76   | 9    | 29   | \n",
       "| 153 | 20   | 223  | 11.5 | 68   | 9    | 30   | \n",
       "\n",
       "\n"
      ],
      "text/plain": [
       "    Ozone Solar.R Wind Temp Month Day\n",
       "2    36   118      8.0 72   5      2 \n",
       "3    12   149     12.6 74   5      3 \n",
       "4    18   313     11.5 62   5      4 \n",
       "5    NA    NA     14.3 56   5      5 \n",
       "6    28    NA     14.9 66   5      6 \n",
       "7    23   299      8.6 65   5      7 \n",
       "8    19    99     13.8 59   5      8 \n",
       "9     8    19     20.1 61   5      9 \n",
       "10   NA   194      8.6 69   5     10 \n",
       "11    7    NA      6.9 74   5     11 \n",
       "12   16   256      9.7 69   5     12 \n",
       "13   11   290      9.2 66   5     13 \n",
       "14   14   274     10.9 68   5     14 \n",
       "15   18    65     13.2 58   5     15 \n",
       "16   14   334     11.5 64   5     16 \n",
       "17   34   307     12.0 66   5     17 \n",
       "18    6    78     18.4 57   5     18 \n",
       "19   30   322     11.5 68   5     19 \n",
       "20   11    44      9.7 62   5     20 \n",
       "21    1     8      9.7 59   5     21 \n",
       "22   11   320     16.6 73   5     22 \n",
       "23    4    25      9.7 61   5     23 \n",
       "24   32    92     12.0 61   5     24 \n",
       "25   NA    66     16.6 57   5     25 \n",
       "26   NA   266     14.9 58   5     26 \n",
       "27   NA    NA      8.0 57   5     27 \n",
       "28   23    13     12.0 67   5     28 \n",
       "29   45   252     14.9 81   5     29 \n",
       "30  115   223      5.7 79   5     30 \n",
       "31   37   279      7.4 76   5     31 \n",
       "... ...   ...     ...  ...  ...   ...\n",
       "123 85    188      6.3 94   8     31 \n",
       "125 78    197      5.1 92   9      2 \n",
       "126 73    183      2.8 93   9      3 \n",
       "127 91    189      4.6 93   9      4 \n",
       "128 47     95      7.4 87   9      5 \n",
       "129 32     92     15.5 84   9      6 \n",
       "130 20    252     10.9 80   9      7 \n",
       "131 23    220     10.3 78   9      8 \n",
       "132 21    230     10.9 75   9      9 \n",
       "133 24    259      9.7 73   9     10 \n",
       "134 44    236     14.9 81   9     11 \n",
       "135 21    259     15.5 76   9     12 \n",
       "136 28    238      6.3 77   9     13 \n",
       "137  9     24     10.9 71   9     14 \n",
       "138 13    112     11.5 71   9     15 \n",
       "139 46    237      6.9 78   9     16 \n",
       "140 18    224     13.8 67   9     17 \n",
       "141 13     27     10.3 76   9     18 \n",
       "142 24    238     10.3 68   9     19 \n",
       "143 16    201      8.0 82   9     20 \n",
       "144 13    238     12.6 64   9     21 \n",
       "145 23     14      9.2 71   9     22 \n",
       "146 36    139     10.3 81   9     23 \n",
       "147  7     49     10.3 69   9     24 \n",
       "148 14     20     16.6 63   9     25 \n",
       "149 30    193      6.9 70   9     26 \n",
       "150 NA    145     13.2 77   9     27 \n",
       "151 14    191     14.3 75   9     28 \n",
       "152 18    131      8.0 76   9     29 \n",
       "153 20    223     11.5 68   9     30 "
      ]
     },
     "metadata": {},
     "output_type": "display_data"
    }
   ],
   "source": [
    "# List of duplicates by month\n",
    "airquality[isMonthDuplicate, ]"
   ]
  },
  {
   "cell_type": "code",
   "execution_count": 15,
   "metadata": {
    "collapsed": false
   },
   "outputs": [
    {
     "data": {
      "text/html": [
       "<table>\n",
       "<thead><tr><th scope=col>ID</th><th scope=col>Score</th></tr></thead>\n",
       "<tbody>\n",
       "\t<tr><td>1 </td><td>57</td></tr>\n",
       "\t<tr><td>2 </td><td>45</td></tr>\n",
       "\t<tr><td>2 </td><td>45</td></tr>\n",
       "\t<tr><td>3 </td><td>63</td></tr>\n",
       "\t<tr><td>4 </td><td>54</td></tr>\n",
       "</tbody>\n",
       "</table>\n"
      ],
      "text/latex": [
       "\\begin{tabular}{r|ll}\n",
       " ID & Score\\\\\n",
       "\\hline\n",
       "\t 1  & 57\\\\\n",
       "\t 2  & 45\\\\\n",
       "\t 2  & 45\\\\\n",
       "\t 3  & 63\\\\\n",
       "\t 4  & 54\\\\\n",
       "\\end{tabular}\n"
      ],
      "text/markdown": [
       "\n",
       "ID | Score | \n",
       "|---|---|---|---|---|\n",
       "| 1  | 57 | \n",
       "| 2  | 45 | \n",
       "| 2  | 45 | \n",
       "| 3  | 63 | \n",
       "| 4  | 54 | \n",
       "\n",
       "\n"
      ],
      "text/plain": [
       "  ID Score\n",
       "1 1  57   \n",
       "2 2  45   \n",
       "3 2  45   \n",
       "4 3  63   \n",
       "5 4  54   "
      ]
     },
     "metadata": {},
     "output_type": "display_data"
    }
   ],
   "source": [
    "# Duplicates\n",
    "duplicateData <- data.frame(ID=c(1,2,2,3,4), Score=c(57,45,45,63,54))\n",
    "duplicateData"
   ]
  },
  {
   "cell_type": "code",
   "execution_count": 17,
   "metadata": {
    "collapsed": false
   },
   "outputs": [
    {
     "data": {
      "text/html": [
       "<table>\n",
       "<thead><tr><th></th><th scope=col>ID</th><th scope=col>Score</th></tr></thead>\n",
       "<tbody>\n",
       "\t<tr><th scope=row>1</th><td>1 </td><td>57</td></tr>\n",
       "\t<tr><th scope=row>2</th><td>2 </td><td>45</td></tr>\n",
       "\t<tr><th scope=row>4</th><td>3 </td><td>63</td></tr>\n",
       "\t<tr><th scope=row>5</th><td>4 </td><td>54</td></tr>\n",
       "</tbody>\n",
       "</table>\n"
      ],
      "text/latex": [
       "\\begin{tabular}{r|ll}\n",
       "  & ID & Score\\\\\n",
       "\\hline\n",
       "\t1 & 1  & 57\\\\\n",
       "\t2 & 2  & 45\\\\\n",
       "\t4 & 3  & 63\\\\\n",
       "\t5 & 4  & 54\\\\\n",
       "\\end{tabular}\n"
      ],
      "text/markdown": [
       "\n",
       "| <!--/--> | ID | Score | \n",
       "|---|---|---|---|\n",
       "| 1 | 1  | 57 | \n",
       "| 2 | 2  | 45 | \n",
       "| 4 | 3  | 63 | \n",
       "| 5 | 4  | 54 | \n",
       "\n",
       "\n"
      ],
      "text/plain": [
       "  ID Score\n",
       "1 1  57   \n",
       "2 2  45   \n",
       "4 3  63   \n",
       "5 4  54   "
      ]
     },
     "metadata": {},
     "output_type": "display_data"
    }
   ],
   "source": [
    "# removing duplicates\n",
    "duplicateData[!duplicated(duplicateData), ]"
   ]
  },
  {
   "cell_type": "code",
   "execution_count": 24,
   "metadata": {
    "collapsed": false
   },
   "outputs": [
    {
     "data": {
      "text/html": [
       "<table>\n",
       "<thead><tr><th></th><th scope=col>time</th><th scope=col>treatment</th><th scope=col>subject</th><th scope=col>rep</th><th scope=col>potato</th><th scope=col>buttery</th><th scope=col>grassy</th><th scope=col>rancid</th><th scope=col>painty</th></tr></thead>\n",
       "<tbody>\n",
       "\t<tr><th scope=row>61</th><td>1   </td><td>1   </td><td>3   </td><td>1   </td><td> 2.9</td><td>0.0 </td><td>0   </td><td>0.0 </td><td>5.5 </td></tr>\n",
       "\t<tr><th scope=row>25</th><td>1   </td><td>1   </td><td>3   </td><td>2   </td><td>14.0</td><td>0.0 </td><td>0   </td><td>1.1 </td><td>0.0 </td></tr>\n",
       "\t<tr><th scope=row>62</th><td>1   </td><td>1   </td><td>10  </td><td>1   </td><td>11.0</td><td>6.4 </td><td>0   </td><td>0.0 </td><td>0.0 </td></tr>\n",
       "</tbody>\n",
       "</table>\n"
      ],
      "text/latex": [
       "\\begin{tabular}{r|lllllllll}\n",
       "  & time & treatment & subject & rep & potato & buttery & grassy & rancid & painty\\\\\n",
       "\\hline\n",
       "\t61 & 1    & 1    & 3    & 1    &  2.9 & 0.0  & 0    & 0.0  & 5.5 \\\\\n",
       "\t25 & 1    & 1    & 3    & 2    & 14.0 & 0.0  & 0    & 1.1  & 0.0 \\\\\n",
       "\t62 & 1    & 1    & 10   & 1    & 11.0 & 6.4  & 0    & 0.0  & 0.0 \\\\\n",
       "\\end{tabular}\n"
      ],
      "text/markdown": [
       "\n",
       "| <!--/--> | time | treatment | subject | rep | potato | buttery | grassy | rancid | painty | \n",
       "|---|---|---|\n",
       "| 61 | 1    | 1    | 3    | 1    |  2.9 | 0.0  | 0    | 0.0  | 5.5  | \n",
       "| 25 | 1    | 1    | 3    | 2    | 14.0 | 0.0  | 0    | 1.1  | 0.0  | \n",
       "| 62 | 1    | 1    | 10   | 1    | 11.0 | 6.4  | 0    | 0.0  | 0.0  | \n",
       "\n",
       "\n"
      ],
      "text/plain": [
       "   time treatment subject rep potato buttery grassy rancid painty\n",
       "61 1    1         3       1    2.9   0.0     0      0.0    5.5   \n",
       "25 1    1         3       2   14.0   0.0     0      1.1    0.0   \n",
       "62 1    1         10      1   11.0   6.4     0      0.0    0.0   "
      ]
     },
     "metadata": {},
     "output_type": "display_data"
    }
   ],
   "source": [
    "# melting\n",
    "library(reshape)\n",
    "head(french_fries, 3)"
   ]
  },
  {
   "cell_type": "code",
   "execution_count": 25,
   "metadata": {
    "collapsed": false
   },
   "outputs": [
    {
     "data": {
      "text/html": [
       "<table>\n",
       "<thead><tr><th scope=col>time</th><th scope=col>treatment</th><th scope=col>subject</th><th scope=col>rep</th><th scope=col>variable</th><th scope=col>value</th></tr></thead>\n",
       "<tbody>\n",
       "\t<tr><td>1     </td><td>1     </td><td>3     </td><td>1     </td><td>potato</td><td> 2.9  </td></tr>\n",
       "\t<tr><td>1     </td><td>1     </td><td>3     </td><td>2     </td><td>potato</td><td>14.0  </td></tr>\n",
       "\t<tr><td>1     </td><td>1     </td><td>10    </td><td>1     </td><td>potato</td><td>11.0  </td></tr>\n",
       "\t<tr><td>1     </td><td>1     </td><td>10    </td><td>2     </td><td>potato</td><td> 9.9  </td></tr>\n",
       "\t<tr><td>1     </td><td>1     </td><td>15    </td><td>1     </td><td>potato</td><td> 1.2  </td></tr>\n",
       "</tbody>\n",
       "</table>\n"
      ],
      "text/latex": [
       "\\begin{tabular}{r|llllll}\n",
       " time & treatment & subject & rep & variable & value\\\\\n",
       "\\hline\n",
       "\t 1      & 1      & 3      & 1      & potato &  2.9  \\\\\n",
       "\t 1      & 1      & 3      & 2      & potato & 14.0  \\\\\n",
       "\t 1      & 1      & 10     & 1      & potato & 11.0  \\\\\n",
       "\t 1      & 1      & 10     & 2      & potato &  9.9  \\\\\n",
       "\t 1      & 1      & 15     & 1      & potato &  1.2  \\\\\n",
       "\\end{tabular}\n"
      ],
      "text/markdown": [
       "\n",
       "time | treatment | subject | rep | variable | value | \n",
       "|---|---|---|---|---|\n",
       "| 1      | 1      | 3      | 1      | potato |  2.9   | \n",
       "| 1      | 1      | 3      | 2      | potato | 14.0   | \n",
       "| 1      | 1      | 10     | 1      | potato | 11.0   | \n",
       "| 1      | 1      | 10     | 2      | potato |  9.9   | \n",
       "| 1      | 1      | 15     | 1      | potato |  1.2   | \n",
       "\n",
       "\n"
      ],
      "text/plain": [
       "  time treatment subject rep variable value\n",
       "1 1    1         3       1   potato    2.9 \n",
       "2 1    1         3       2   potato   14.0 \n",
       "3 1    1         10      1   potato   11.0 \n",
       "4 1    1         10      2   potato    9.9 \n",
       "5 1    1         15      1   potato    1.2 "
      ]
     },
     "metadata": {},
     "output_type": "display_data"
    }
   ],
   "source": [
    "# melt having identified our ID variables\n",
    "fryMelt <- melt(french_fries, id.vars=c(\"time\",\"treatment\",\"subject\", \"rep\"))\n",
    "head(fryMelt, 5)"
   ]
  },
  {
   "cell_type": "code",
   "execution_count": 27,
   "metadata": {
    "collapsed": false
   },
   "outputs": [
    {
     "data": {
      "text/html": [
       "<table>\n",
       "<thead><tr><th scope=col>time</th><th scope=col>treatment</th><th scope=col>subject</th><th scope=col>variable</th><th scope=col>1</th><th scope=col>2</th></tr></thead>\n",
       "<tbody>\n",
       "\t<tr><td>1      </td><td>1      </td><td>3      </td><td>potato </td><td> 2.9   </td><td>14.0   </td></tr>\n",
       "\t<tr><td>1      </td><td>1      </td><td>3      </td><td>buttery</td><td> 0.0   </td><td> 0.0   </td></tr>\n",
       "\t<tr><td>1      </td><td>1      </td><td>3      </td><td>grassy </td><td> 0.0   </td><td> 0.0   </td></tr>\n",
       "\t<tr><td>1      </td><td>1      </td><td>3      </td><td>rancid </td><td> 0.0   </td><td> 1.1   </td></tr>\n",
       "\t<tr><td>1      </td><td>1      </td><td>3      </td><td>painty </td><td> 5.5   </td><td> 0.0   </td></tr>\n",
       "\t<tr><td>1      </td><td>1      </td><td>10     </td><td>potato </td><td>11.0   </td><td> 9.9   </td></tr>\n",
       "</tbody>\n",
       "</table>\n"
      ],
      "text/latex": [
       "\\begin{tabular}{r|llllll}\n",
       " time & treatment & subject & variable & 1 & 2\\\\\n",
       "\\hline\n",
       "\t 1       & 1       & 3       & potato  &  2.9    & 14.0   \\\\\n",
       "\t 1       & 1       & 3       & buttery &  0.0    &  0.0   \\\\\n",
       "\t 1       & 1       & 3       & grassy  &  0.0    &  0.0   \\\\\n",
       "\t 1       & 1       & 3       & rancid  &  0.0    &  1.1   \\\\\n",
       "\t 1       & 1       & 3       & painty  &  5.5    &  0.0   \\\\\n",
       "\t 1       & 1       & 10      & potato  & 11.0    &  9.9   \\\\\n",
       "\\end{tabular}\n"
      ],
      "text/markdown": [
       "\n",
       "time | treatment | subject | variable | 1 | 2 | \n",
       "|---|---|---|---|---|---|\n",
       "| 1       | 1       | 3       | potato  |  2.9    | 14.0    | \n",
       "| 1       | 1       | 3       | buttery |  0.0    |  0.0    | \n",
       "| 1       | 1       | 3       | grassy  |  0.0    |  0.0    | \n",
       "| 1       | 1       | 3       | rancid  |  0.0    |  1.1    | \n",
       "| 1       | 1       | 3       | painty  |  5.5    |  0.0    | \n",
       "| 1       | 1       | 10      | potato  | 11.0    |  9.9    | \n",
       "\n",
       "\n"
      ],
      "text/plain": [
       "  time treatment subject variable 1    2   \n",
       "1 1    1         3       potato    2.9 14.0\n",
       "2 1    1         3       buttery   0.0  0.0\n",
       "3 1    1         3       grassy    0.0  0.0\n",
       "4 1    1         3       rancid    0.0  1.1\n",
       "5 1    1         3       painty    5.5  0.0\n",
       "6 1    1         10      potato   11.0  9.9"
      ]
     },
     "metadata": {},
     "output_type": "display_data"
    }
   ],
   "source": [
    "#creating a new column based on rep value\n",
    "fryRecast <- cast(fryMelt, ... ~ rep)\n",
    "head(fryRecast)"
   ]
  },
  {
   "cell_type": "code",
   "execution_count": 28,
   "metadata": {
    "collapsed": false
   },
   "outputs": [
    {
     "name": "stderr",
     "output_type": "stream",
     "text": [
      "\n",
      "Attaching package: 'reshape2'\n",
      "\n",
      "The following objects are masked from 'package:reshape':\n",
      "\n",
      "    colsplit, melt, recast\n",
      "\n"
     ]
    },
    {
     "data": {
      "text/html": [
       "<table>\n",
       "<thead><tr><th scope=col>time</th><th scope=col>treatment</th><th scope=col>subject</th><th scope=col>variable</th><th scope=col>(all)</th></tr></thead>\n",
       "<tbody>\n",
       "\t<tr><td>1      </td><td>1      </td><td>3      </td><td>potato </td><td> 8.45  </td></tr>\n",
       "\t<tr><td>1      </td><td>1      </td><td>3      </td><td>buttery</td><td> 0.00  </td></tr>\n",
       "\t<tr><td>1      </td><td>1      </td><td>3      </td><td>grassy </td><td> 0.00  </td></tr>\n",
       "\t<tr><td>1      </td><td>1      </td><td>3      </td><td>rancid </td><td> 0.55  </td></tr>\n",
       "\t<tr><td>1      </td><td>1      </td><td>3      </td><td>painty </td><td> 2.75  </td></tr>\n",
       "\t<tr><td>1      </td><td>1      </td><td>10     </td><td>potato </td><td>10.45  </td></tr>\n",
       "</tbody>\n",
       "</table>\n"
      ],
      "text/latex": [
       "\\begin{tabular}{r|lllll}\n",
       " time & treatment & subject & variable & (all)\\\\\n",
       "\\hline\n",
       "\t 1       & 1       & 3       & potato  &  8.45  \\\\\n",
       "\t 1       & 1       & 3       & buttery &  0.00  \\\\\n",
       "\t 1       & 1       & 3       & grassy  &  0.00  \\\\\n",
       "\t 1       & 1       & 3       & rancid  &  0.55  \\\\\n",
       "\t 1       & 1       & 3       & painty  &  2.75  \\\\\n",
       "\t 1       & 1       & 10      & potato  & 10.45  \\\\\n",
       "\\end{tabular}\n"
      ],
      "text/markdown": [
       "\n",
       "time | treatment | subject | variable | (all) | \n",
       "|---|---|---|---|---|---|\n",
       "| 1       | 1       | 3       | potato  |  8.45   | \n",
       "| 1       | 1       | 3       | buttery |  0.00   | \n",
       "| 1       | 1       | 3       | grassy  |  0.00   | \n",
       "| 1       | 1       | 3       | rancid  |  0.55   | \n",
       "| 1       | 1       | 3       | painty  |  2.75   | \n",
       "| 1       | 1       | 10      | potato  | 10.45   | \n",
       "\n",
       "\n"
      ],
      "text/plain": [
       "  time treatment subject variable (all)\n",
       "1 1    1         3       potato    8.45\n",
       "2 1    1         3       buttery   0.00\n",
       "3 1    1         3       grassy    0.00\n",
       "4 1    1         3       rancid    0.55\n",
       "5 1    1         3       painty    2.75\n",
       "6 1    1         10      potato   10.45"
      ]
     },
     "metadata": {},
     "output_type": "display_data"
    }
   ],
   "source": [
    "library(reshape2)\n",
    "replicateMeans <- cast(fryMelt, time + treatment + subject + variable ~ ., mean)\n",
    "head(replicateMeans)"
   ]
  },
  {
   "cell_type": "code",
   "execution_count": 36,
   "metadata": {
    "collapsed": false
   },
   "outputs": [
    {
     "name": "stderr",
     "output_type": "stream",
     "text": [
      "\n",
      "Attaching package: 'tidyr'\n",
      "\n",
      "The following object is masked from 'package:reshape2':\n",
      "\n",
      "    smiths\n",
      "\n",
      "The following objects are masked from 'package:reshape':\n",
      "\n",
      "    expand, smiths\n",
      "\n"
     ]
    },
    {
     "data": {
      "text/html": [
       "<table>\n",
       "<thead><tr><th scope=col>Date</th><th scope=col>DJI.High</th><th scope=col>DJI.Low</th></tr></thead>\n",
       "<tbody>\n",
       "\t<tr><td>12/31/2014</td><td>18043.22  </td><td>17820.88  </td></tr>\n",
       "\t<tr><td>12/30/2014</td><td>18035.02  </td><td>17959.70  </td></tr>\n",
       "\t<tr><td>12/29/2014</td><td>18073.04  </td><td>18021.57  </td></tr>\n",
       "</tbody>\n",
       "</table>\n"
      ],
      "text/latex": [
       "\\begin{tabular}{r|lll}\n",
       " Date & DJI.High & DJI.Low\\\\\n",
       "\\hline\n",
       "\t 12/31/2014 & 18043.22   & 17820.88  \\\\\n",
       "\t 12/30/2014 & 18035.02   & 17959.70  \\\\\n",
       "\t 12/29/2014 & 18073.04   & 18021.57  \\\\\n",
       "\\end{tabular}\n"
      ],
      "text/markdown": [
       "\n",
       "Date | DJI.High | DJI.Low | \n",
       "|---|---|---|\n",
       "| 12/31/2014 | 18043.22   | 17820.88   | \n",
       "| 12/30/2014 | 18035.02   | 17959.70   | \n",
       "| 12/29/2014 | 18073.04   | 18021.57   | \n",
       "\n",
       "\n"
      ],
      "text/plain": [
       "  Date       DJI.High DJI.Low \n",
       "1 12/31/2014 18043.22 17820.88\n",
       "2 12/30/2014 18035.02 17959.70\n",
       "3 12/29/2014 18073.04 18021.57"
      ]
     },
     "metadata": {},
     "output_type": "display_data"
    }
   ],
   "source": [
    "# gather function # we load the dowJonesData\n",
    "library(tidyr)\n",
    "djiHighLow <- dowJonesData[, c('Date','DJI.High', 'DJI.Low')]\n",
    "head(djiHighLow, 3)"
   ]
  },
  {
   "cell_type": "code",
   "execution_count": 37,
   "metadata": {
    "collapsed": false
   },
   "outputs": [
    {
     "data": {
      "text/html": [
       "<table>\n",
       "<thead><tr><th scope=col>Date</th><th scope=col>DJI</th><th scope=col>Value</th></tr></thead>\n",
       "<tbody>\n",
       "\t<tr><td>12/31/2014</td><td>DJI.High  </td><td>18043.22  </td></tr>\n",
       "\t<tr><td>12/30/2014</td><td>DJI.High  </td><td>18035.02  </td></tr>\n",
       "\t<tr><td>12/29/2014</td><td>DJI.High  </td><td>18073.04  </td></tr>\n",
       "\t<tr><td>12/26/2014</td><td>DJI.High  </td><td>18103.45  </td></tr>\n",
       "\t<tr><td>12/24/2014</td><td>DJI.High  </td><td>18086.24  </td></tr>\n",
       "\t<tr><td>12/23/2014</td><td>DJI.High  </td><td>18069.22  </td></tr>\n",
       "</tbody>\n",
       "</table>\n"
      ],
      "text/latex": [
       "\\begin{tabular}{r|lll}\n",
       " Date & DJI & Value\\\\\n",
       "\\hline\n",
       "\t 12/31/2014 & DJI.High   & 18043.22  \\\\\n",
       "\t 12/30/2014 & DJI.High   & 18035.02  \\\\\n",
       "\t 12/29/2014 & DJI.High   & 18073.04  \\\\\n",
       "\t 12/26/2014 & DJI.High   & 18103.45  \\\\\n",
       "\t 12/24/2014 & DJI.High   & 18086.24  \\\\\n",
       "\t 12/23/2014 & DJI.High   & 18069.22  \\\\\n",
       "\\end{tabular}\n"
      ],
      "text/markdown": [
       "\n",
       "Date | DJI | Value | \n",
       "|---|---|---|---|---|---|\n",
       "| 12/31/2014 | DJI.High   | 18043.22   | \n",
       "| 12/30/2014 | DJI.High   | 18035.02   | \n",
       "| 12/29/2014 | DJI.High   | 18073.04   | \n",
       "| 12/26/2014 | DJI.High   | 18103.45   | \n",
       "| 12/24/2014 | DJI.High   | 18086.24   | \n",
       "| 12/23/2014 | DJI.High   | 18069.22   | \n",
       "\n",
       "\n"
      ],
      "text/plain": [
       "  Date       DJI      Value   \n",
       "1 12/31/2014 DJI.High 18043.22\n",
       "2 12/30/2014 DJI.High 18035.02\n",
       "3 12/29/2014 DJI.High 18073.04\n",
       "4 12/26/2014 DJI.High 18103.45\n",
       "5 12/24/2014 DJI.High 18086.24\n",
       "6 12/23/2014 DJI.High 18069.22"
      ]
     },
     "metadata": {},
     "output_type": "display_data"
    }
   ],
   "source": [
    "# we want to create a single graphic of the high and low values\n",
    "gatheredDJI <- gather(djiHighLow, key=\"DJI\", value=\"Value\", DJI.High, DJI.Low)\n",
    "head(gatheredDJI)"
   ]
  },
  {
   "cell_type": "code",
   "execution_count": 38,
   "metadata": {
    "collapsed": false
   },
   "outputs": [
    {
     "data": {
      "text/html": [
       "<table>\n",
       "<thead><tr><th scope=col>Date</th><th scope=col>DJI.High</th><th scope=col>DJI.Low</th></tr></thead>\n",
       "<tbody>\n",
       "\t<tr><td>01/02/2014</td><td>16573.07  </td><td>16416.49  </td></tr>\n",
       "\t<tr><td>01/03/2014</td><td>16518.74  </td><td>16439.30  </td></tr>\n",
       "\t<tr><td>01/06/2014</td><td>16532.99  </td><td>16405.52  </td></tr>\n",
       "\t<tr><td>01/07/2014</td><td>16562.32  </td><td>16429.02  </td></tr>\n",
       "\t<tr><td>01/08/2014</td><td>16528.88  </td><td>16416.69  </td></tr>\n",
       "\t<tr><td>01/09/2014</td><td>16525.35  </td><td>16378.61  </td></tr>\n",
       "</tbody>\n",
       "</table>\n"
      ],
      "text/latex": [
       "\\begin{tabular}{r|lll}\n",
       " Date & DJI.High & DJI.Low\\\\\n",
       "\\hline\n",
       "\t 01/02/2014 & 16573.07   & 16416.49  \\\\\n",
       "\t 01/03/2014 & 16518.74   & 16439.30  \\\\\n",
       "\t 01/06/2014 & 16532.99   & 16405.52  \\\\\n",
       "\t 01/07/2014 & 16562.32   & 16429.02  \\\\\n",
       "\t 01/08/2014 & 16528.88   & 16416.69  \\\\\n",
       "\t 01/09/2014 & 16525.35   & 16378.61  \\\\\n",
       "\\end{tabular}\n"
      ],
      "text/markdown": [
       "\n",
       "Date | DJI.High | DJI.Low | \n",
       "|---|---|---|---|---|---|\n",
       "| 01/02/2014 | 16573.07   | 16416.49   | \n",
       "| 01/03/2014 | 16518.74   | 16439.30   | \n",
       "| 01/06/2014 | 16532.99   | 16405.52   | \n",
       "| 01/07/2014 | 16562.32   | 16429.02   | \n",
       "| 01/08/2014 | 16528.88   | 16416.69   | \n",
       "| 01/09/2014 | 16525.35   | 16378.61   | \n",
       "\n",
       "\n"
      ],
      "text/plain": [
       "  Date       DJI.High DJI.Low \n",
       "1 01/02/2014 16573.07 16416.49\n",
       "2 01/03/2014 16518.74 16439.30\n",
       "3 01/06/2014 16532.99 16405.52\n",
       "4 01/07/2014 16562.32 16429.02\n",
       "5 01/08/2014 16528.88 16416.69\n",
       "6 01/09/2014 16525.35 16378.61"
      ]
     },
     "metadata": {},
     "output_type": "display_data"
    }
   ],
   "source": [
    "# Spread back to original\n",
    "backToOriginal <- spread(gatheredDJI, key=DJI, value=Value)\n",
    "head(backToOriginal)"
   ]
  },
  {
   "cell_type": "code",
   "execution_count": 39,
   "metadata": {
    "collapsed": false
   },
   "outputs": [
    {
     "data": {
      "text/html": [
       "<table>\n",
       "<thead><tr><th scope=col>Source</th></tr></thead>\n",
       "<tbody>\n",
       "\t<tr><td>reshape_0.8.5</td></tr>\n",
       "\t<tr><td>tidyr_0.2.3  </td></tr>\n",
       "</tbody>\n",
       "</table>\n"
      ],
      "text/latex": [
       "\\begin{tabular}{r|l}\n",
       " Source\\\\\n",
       "\\hline\n",
       "\t reshape\\_0.8.5\\\\\n",
       "\t tidyr\\_0.2.3  \\\\\n",
       "\\end{tabular}\n"
      ],
      "text/markdown": [
       "\n",
       "Source | \n",
       "|---|---|\n",
       "| reshape_0.8.5 | \n",
       "| tidyr_0.2.3   | \n",
       "\n",
       "\n"
      ],
      "text/plain": [
       "  Source       \n",
       "1 reshape_0.8.5\n",
       "2 tidyr_0.2.3  "
      ]
     },
     "metadata": {},
     "output_type": "display_data"
    }
   ],
   "source": [
    "# separating into two variables\n",
    "Packages <- data.frame(Source = c(\"reshape_0.8.5\", \"tidyr_0.2.3\"))\n",
    "Packages"
   ]
  },
  {
   "cell_type": "code",
   "execution_count": 41,
   "metadata": {
    "collapsed": false
   },
   "outputs": [
    {
     "data": {
      "text/html": [
       "<table>\n",
       "<thead><tr><th scope=col>Source</th><th scope=col>Packages</th><th scope=col>Version</th></tr></thead>\n",
       "<tbody>\n",
       "\t<tr><td>reshape_0.8.5</td><td>reshape      </td><td>0.8.5        </td></tr>\n",
       "\t<tr><td>tidyr_0.2.3  </td><td>tidyr        </td><td>0.2.3        </td></tr>\n",
       "</tbody>\n",
       "</table>\n"
      ],
      "text/latex": [
       "\\begin{tabular}{r|lll}\n",
       " Source & Packages & Version\\\\\n",
       "\\hline\n",
       "\t reshape\\_0.8.5 & reshape         & 0.8.5          \\\\\n",
       "\t tidyr\\_0.2.3   & tidyr           & 0.2.3          \\\\\n",
       "\\end{tabular}\n"
      ],
      "text/markdown": [
       "\n",
       "Source | Packages | Version | \n",
       "|---|---|\n",
       "| reshape_0.8.5 | reshape       | 0.8.5         | \n",
       "| tidyr_0.2.3   | tidyr         | 0.2.3         | \n",
       "\n",
       "\n"
      ],
      "text/plain": [
       "  Source        Packages Version\n",
       "1 reshape_0.8.5 reshape  0.8.5  \n",
       "2 tidyr_0.2.3   tidyr    0.2.3  "
      ]
     },
     "metadata": {},
     "output_type": "display_data"
    }
   ],
   "source": [
    "separate(Packages, Source, into = c(\"Packages\", \"Version\"), sep = \"_\", remove=FALSE)\n"
   ]
  },
  {
   "cell_type": "markdown",
   "metadata": {},
   "source": [
    "# Data Aggregation"
   ]
  },
  {
   "cell_type": "markdown",
   "metadata": {},
   "source": [
    "### we want to add a new column to airquality dataset containing difference between wind speed and median wind speed for month"
   ]
  },
  {
   "cell_type": "code",
   "execution_count": 43,
   "metadata": {
    "collapsed": false
   },
   "outputs": [
    {
     "name": "stdout",
     "output_type": "stream",
     "text": [
      "  Ozone Solar.R Wind Temp Month Day\n",
      "1    41     190  7.4   67     5   1\n",
      "2    36     118  8.0   72     5   2\n",
      "3    12     149 12.6   74     5   3\n",
      "4    18     313 11.5   62     5   4\n",
      "5    NA      NA 14.3   56     5   5\n",
      "6    28      NA 14.9   66     5   6\n"
     ]
    }
   ],
   "source": [
    "print(head(airquality))"
   ]
  },
  {
   "cell_type": "code",
   "execution_count": 44,
   "metadata": {
    "collapsed": false
   },
   "outputs": [
    {
     "name": "stdout",
     "output_type": "stream",
     "text": [
      "   5    6    7    8    9 \n",
      "11.5  9.7  8.6  8.6 10.3 \n"
     ]
    }
   ],
   "source": [
    "windMedians <- tapply(airquality$Wind, airquality$Month, median)\n",
    "print(windMedians)"
   ]
  },
  {
   "cell_type": "code",
   "execution_count": 46,
   "metadata": {
    "collapsed": false
   },
   "outputs": [
    {
     "name": "stdout",
     "output_type": "stream",
     "text": [
      "   5    5    5    5    5    5 \n",
      "11.5 11.5 11.5 11.5 11.5 11.5 \n"
     ]
    }
   ],
   "source": [
    "charMonths <- as.character(airquality$Month) # converted character values of month\n",
    "# use character values to reference named elements\n",
    "print(head(windMedians[charMonths]))\n"
   ]
  },
  {
   "cell_type": "code",
   "execution_count": 47,
   "metadata": {
    "collapsed": false
   },
   "outputs": [
    {
     "name": "stdout",
     "output_type": "stream",
     "text": [
      "  Ozone Solar.R Wind Temp Month Day MedianWind DiffWind\n",
      "1    41     190  7.4   67     5   1       11.5     -4.1\n",
      "2    36     118  8.0   72     5   2       11.5     -3.5\n",
      "3    12     149 12.6   74     5   3       11.5      1.1\n"
     ]
    }
   ],
   "source": [
    "# add median wind column\n",
    "airquality$MedianWind <-windMedians[charMonths]  \n",
    "# calculate difference\n",
    "airquality$DiffWind <- airquality$Wind - airquality$MedianWind\n",
    "\n",
    "print(head(airquality, 3))"
   ]
  },
  {
   "cell_type": "markdown",
   "metadata": {},
   "source": [
    "## Using Aggregate with a fornula"
   ]
  },
  {
   "cell_type": "code",
   "execution_count": 49,
   "metadata": {
    "collapsed": false
   },
   "outputs": [
    {
     "name": "stdout",
     "output_type": "stream",
     "text": [
      "  Month Wind\n",
      "1     5 11.5\n",
      "2     6  9.7\n",
      "3     7  8.6\n",
      "4     8  8.6\n",
      "5     9 10.3\n"
     ]
    }
   ],
   "source": [
    "# calculate median wind by Month\n",
    "print(aggregate(Wind ~ Month, data=airquality, FUN=median))"
   ]
  },
  {
   "cell_type": "code",
   "execution_count": 50,
   "metadata": {
    "collapsed": false
   },
   "outputs": [
    {
     "data": {
      "text/html": [
       "<table>\n",
       "<thead><tr><th scope=col>Month</th><th scope=col>cut(Temp, 2)</th><th scope=col>Wind</th></tr></thead>\n",
       "<tbody>\n",
       "\t<tr><td>5        </td><td>(56,76.5]</td><td>11.5     </td></tr>\n",
       "\t<tr><td>6        </td><td>(56,76.5]</td><td> 9.7     </td></tr>\n",
       "\t<tr><td>7        </td><td>(56,76.5]</td><td>10.6     </td></tr>\n",
       "\t<tr><td>8        </td><td>(56,76.5]</td><td>12.6     </td></tr>\n",
       "\t<tr><td>9        </td><td>(56,76.5]</td><td>10.9     </td></tr>\n",
       "\t<tr><td>5        </td><td>(76.5,97]</td><td>10.3     </td></tr>\n",
       "\t<tr><td>6        </td><td>(76.5,97]</td><td> 9.7     </td></tr>\n",
       "\t<tr><td>7        </td><td>(76.5,97]</td><td> 8.6     </td></tr>\n",
       "\t<tr><td>8        </td><td>(76.5,97]</td><td> 8.3     </td></tr>\n",
       "\t<tr><td>9        </td><td>(76.5,97]</td><td> 7.7     </td></tr>\n",
       "</tbody>\n",
       "</table>\n"
      ],
      "text/latex": [
       "\\begin{tabular}{r|lll}\n",
       " Month & cut(Temp, 2) & Wind\\\\\n",
       "\\hline\n",
       "\t 5           & (56,76.5{]} & 11.5       \\\\\n",
       "\t 6           & (56,76.5{]} &  9.7       \\\\\n",
       "\t 7           & (56,76.5{]} & 10.6       \\\\\n",
       "\t 8           & (56,76.5{]} & 12.6       \\\\\n",
       "\t 9           & (56,76.5{]} & 10.9       \\\\\n",
       "\t 5           & (76.5,97{]} & 10.3       \\\\\n",
       "\t 6           & (76.5,97{]} &  9.7       \\\\\n",
       "\t 7           & (76.5,97{]} &  8.6       \\\\\n",
       "\t 8           & (76.5,97{]} &  8.3       \\\\\n",
       "\t 9           & (76.5,97{]} &  7.7       \\\\\n",
       "\\end{tabular}\n"
      ],
      "text/markdown": [
       "\n",
       "Month | cut(Temp, 2) | Wind | \n",
       "|---|---|---|---|---|---|---|---|---|---|\n",
       "| 5         | (56,76.5] | 11.5      | \n",
       "| 6         | (56,76.5] |  9.7      | \n",
       "| 7         | (56,76.5] | 10.6      | \n",
       "| 8         | (56,76.5] | 12.6      | \n",
       "| 9         | (56,76.5] | 10.9      | \n",
       "| 5         | (76.5,97] | 10.3      | \n",
       "| 6         | (76.5,97] |  9.7      | \n",
       "| 7         | (76.5,97] |  8.6      | \n",
       "| 8         | (76.5,97] |  8.3      | \n",
       "| 9         | (76.5,97] |  7.7      | \n",
       "\n",
       "\n"
      ],
      "text/plain": [
       "   Month cut(Temp, 2) Wind\n",
       "1  5     (56,76.5]    11.5\n",
       "2  6     (56,76.5]     9.7\n",
       "3  7     (56,76.5]    10.6\n",
       "4  8     (56,76.5]    12.6\n",
       "5  9     (56,76.5]    10.9\n",
       "6  5     (76.5,97]    10.3\n",
       "7  6     (76.5,97]     9.7\n",
       "8  7     (76.5,97]     8.6\n",
       "9  8     (76.5,97]     8.3\n",
       "10 9     (76.5,97]     7.7"
      ]
     },
     "metadata": {},
     "output_type": "display_data"
    }
   ],
   "source": [
    "# summarizing by multiple variables\n",
    "aggregate(Wind ~ Month + cut(Temp, 2), data=airquality, FUN=median)"
   ]
  },
  {
   "cell_type": "markdown",
   "metadata": {},
   "source": [
    "## Summarizing multiple columns"
   ]
  },
  {
   "cell_type": "code",
   "execution_count": 51,
   "metadata": {
    "collapsed": false
   },
   "outputs": [
    {
     "data": {
      "text/html": [
       "<table>\n",
       "<thead><tr><th scope=col>Month</th><th scope=col>Wind</th><th scope=col>Ozone</th></tr></thead>\n",
       "<tbody>\n",
       "\t<tr><td>5   </td><td>11.5</td><td>18  </td></tr>\n",
       "\t<tr><td>6   </td><td>11.5</td><td>23  </td></tr>\n",
       "\t<tr><td>7   </td><td> 7.7</td><td>60  </td></tr>\n",
       "\t<tr><td>8   </td><td> 8.0</td><td>52  </td></tr>\n",
       "\t<tr><td>9   </td><td>10.3</td><td>23  </td></tr>\n",
       "</tbody>\n",
       "</table>\n"
      ],
      "text/latex": [
       "\\begin{tabular}{r|lll}\n",
       " Month & Wind & Ozone\\\\\n",
       "\\hline\n",
       "\t 5    & 11.5 & 18  \\\\\n",
       "\t 6    & 11.5 & 23  \\\\\n",
       "\t 7    &  7.7 & 60  \\\\\n",
       "\t 8    &  8.0 & 52  \\\\\n",
       "\t 9    & 10.3 & 23  \\\\\n",
       "\\end{tabular}\n"
      ],
      "text/markdown": [
       "\n",
       "Month | Wind | Ozone | \n",
       "|---|---|---|---|---|\n",
       "| 5    | 11.5 | 18   | \n",
       "| 6    | 11.5 | 23   | \n",
       "| 7    |  7.7 | 60   | \n",
       "| 8    |  8.0 | 52   | \n",
       "| 9    | 10.3 | 23   | \n",
       "\n",
       "\n"
      ],
      "text/plain": [
       "  Month Wind Ozone\n",
       "1 5     11.5 18   \n",
       "2 6     11.5 23   \n",
       "3 7      7.7 60   \n",
       "4 8      8.0 52   \n",
       "5 9     10.3 23   "
      ]
     },
     "metadata": {},
     "output_type": "display_data"
    }
   ],
   "source": [
    "# calculate median wind and Ozone by month\n",
    "aggregate(cbind(Wind, Ozone) ~ Month, data=airquality, FUN=median, na.rm=TRUE)"
   ]
  },
  {
   "cell_type": "markdown",
   "metadata": {},
   "source": [
    "## Returning Multiple values"
   ]
  },
  {
   "cell_type": "code",
   "execution_count": 52,
   "metadata": {
    "collapsed": false
   },
   "outputs": [
    {
     "data": {
      "text/html": [
       "<table>\n",
       "<thead><tr><th scope=col>Month</th><th scope=col>Wind</th><th scope=col>Ozone</th></tr></thead>\n",
       "<tbody>\n",
       "\t<tr><td>5   </td><td>11.5</td><td>18  </td></tr>\n",
       "\t<tr><td>6   </td><td>11.5</td><td>23  </td></tr>\n",
       "\t<tr><td>7   </td><td> 7.7</td><td>60  </td></tr>\n",
       "\t<tr><td>8   </td><td> 8.0</td><td>52  </td></tr>\n",
       "\t<tr><td>9   </td><td>10.3</td><td>23  </td></tr>\n",
       "</tbody>\n",
       "</table>\n"
      ],
      "text/latex": [
       "\\begin{tabular}{r|lll}\n",
       " Month & Wind & Ozone\\\\\n",
       "\\hline\n",
       "\t 5    & 11.5 & 18  \\\\\n",
       "\t 6    & 11.5 & 23  \\\\\n",
       "\t 7    &  7.7 & 60  \\\\\n",
       "\t 8    &  8.0 & 52  \\\\\n",
       "\t 9    & 10.3 & 23  \\\\\n",
       "\\end{tabular}\n"
      ],
      "text/markdown": [
       "\n",
       "Month | Wind | Ozone | \n",
       "|---|---|---|---|---|\n",
       "| 5    | 11.5 | 18   | \n",
       "| 6    | 11.5 | 23   | \n",
       "| 7    |  7.7 | 60   | \n",
       "| 8    |  8.0 | 52   | \n",
       "| 9    | 10.3 | 23   | \n",
       "\n",
       "\n"
      ],
      "text/plain": [
       "  Month Wind Ozone\n",
       "1 5     11.5 18   \n",
       "2 6     11.5 23   \n",
       "3 7      7.7 60   \n",
       "4 8      8.0 52   \n",
       "5 9     10.3 23   "
      ]
     },
     "metadata": {},
     "output_type": "display_data"
    }
   ],
   "source": [
    "aggregate(cbind(Wind, Ozone) ~ Month, data=airquality, FUN=median)"
   ]
  },
  {
   "cell_type": "code",
   "execution_count": 53,
   "metadata": {
    "collapsed": false
   },
   "outputs": [
    {
     "name": "stdout",
     "output_type": "stream",
     "text": [
      "  Month Wind.1 Wind.2 Ozone.1 Ozone.2\n",
      "1     5    5.7   20.1       1     115\n",
      "2     6    8.0   20.7      12      71\n",
      "3     7    4.1   14.9       7     135\n",
      "4     8    2.3   15.5       9     168\n",
      "5     9    2.8   16.6       7      96\n"
     ]
    }
   ],
   "source": [
    "print(aggregate(cbind(Wind, Ozone) ~ Month, data=airquality, FUN=range))"
   ]
  },
  {
   "cell_type": "code",
   "execution_count": null,
   "metadata": {
    "collapsed": true
   },
   "outputs": [],
   "source": []
  }
 ],
 "metadata": {
  "kernelspec": {
   "display_name": "R",
   "language": "R",
   "name": "ir"
  },
  "language_info": {
   "codemirror_mode": "r",
   "file_extension": ".r",
   "mimetype": "text/x-r-source",
   "name": "R",
   "pygments_lexer": "r",
   "version": "3.3.2"
  }
 },
 "nbformat": 4,
 "nbformat_minor": 2
}
