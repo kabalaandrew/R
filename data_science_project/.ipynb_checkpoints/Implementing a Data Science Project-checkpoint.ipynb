{
 "cells": [
  {
   "cell_type": "markdown",
   "metadata": {},
   "source": [
    "## Project Description, Resources & Checklist"
   ]
  },
  {
   "cell_type": "markdown",
   "metadata": {},
   "source": [
    "1. Is it a supervised or an unsupervised machine learning project\n",
    "2. Is it a classification or regression task\n",
    "3. Identify the target feature or features to be clustered\n",
    "4. What are the available solutions to the problem\n",
    "5. How do I intend to measure performance of my model\n",
    "6. How will my solution be deployed and utilized?"
   ]
  },
  {
   "cell_type": "markdown",
   "metadata": {},
   "source": [
    "## Data loading"
   ]
  },
  {
   "cell_type": "code",
   "execution_count": 1,
   "metadata": {
    "collapsed": false
   },
   "outputs": [
    {
     "name": "stderr",
     "output_type": "stream",
     "text": [
      "\n",
      "Attaching package: 'dplyr'\n",
      "\n",
      "The following objects are masked from 'package:stats':\n",
      "\n",
      "    filter, lag\n",
      "\n",
      "The following objects are masked from 'package:base':\n",
      "\n",
      "    intersect, setdiff, setequal, union\n",
      "\n",
      "Warning message:\n",
      "\"package 'pastecs' was built under R version 3.3.3\"Loading required package: boot\n",
      "\n",
      "Attaching package: 'pastecs'\n",
      "\n",
      "The following objects are masked from 'package:dplyr':\n",
      "\n",
      "    first, last\n",
      "\n"
     ]
    }
   ],
   "source": [
    "library(dplyr)\n",
    "library(pastecs)\n",
    "library(ggplot2)"
   ]
  },
  {
   "cell_type": "code",
   "execution_count": 2,
   "metadata": {
    "collapsed": false
   },
   "outputs": [
    {
     "name": "stdout",
     "output_type": "stream",
     "text": [
      "'data.frame':\t30861 obs. of  4 variables:\n",
      " $ Province        : Factor w/ 9 levels \"Eastern Cape\",..: 1 1 1 1 1 1 1 1 1 1 ...\n",
      " $ Police_Station  : Factor w/ 1143 levels \"Aberdeen\",\"Acornhoek\",..: 1 1 1 1 1 1 1 1 1 1 ...\n",
      " $ Crime_Category  : Factor w/ 27 levels \"All theft not mentioned elsewhere\",..: 1 2 3 4 5 6 7 8 9 10 ...\n",
      " $ Period_2015_2016: int  51 4 87 5 0 15 74 0 8 48 ...\n"
     ]
    }
   ],
   "source": [
    "## Dataset A - Crime reported and police station\n",
    "dataset_A <- read.csv(\"Dataset_A.csv\")\n",
    "\n",
    "# structure of dataset\n",
    "str(dataset_A)"
   ]
  },
  {
   "cell_type": "code",
   "execution_count": 3,
   "metadata": {
    "collapsed": false
   },
   "outputs": [
    {
     "name": "stderr",
     "output_type": "stream",
     "text": [
      "\n",
      "Attaching package: 'tidyr'\n",
      "\n",
      "The following object is masked from 'package:pastecs':\n",
      "\n",
      "    extract\n",
      "\n"
     ]
    },
    {
     "data": {
      "text/html": [
       "<table>\n",
       "<thead><tr><th scope=col>Province</th><th scope=col>Police_Station</th><th scope=col>All theft not mentioned elsewhere</th><th scope=col>Arson</th><th scope=col>Assault with the intent to inflict grievous bodily harm</th><th scope=col>Attempted murder</th><th scope=col>Bank robbery</th><th scope=col>Burglary at non-residential premises</th><th scope=col>Burglary at residential premises</th><th scope=col>Carjacking</th><th scope=col>...</th><th scope=col>Robbery at residential premises</th><th scope=col>Robbery of cash in transit</th><th scope=col>Robbery with aggravating circumstances</th><th scope=col>Sexual Offences</th><th scope=col>Sexual offences as result of police action</th><th scope=col>Shoplifting</th><th scope=col>Stock-theft</th><th scope=col>Theft of motor vehicle and motorcycle</th><th scope=col>Theft out of or from motor vehicle</th><th scope=col>Truck hijacking</th></tr></thead>\n",
       "<tbody>\n",
       "\t<tr><td>Eastern Cape</td><td>Aberdeen    </td><td>51          </td><td>4           </td><td> 87         </td><td> 5          </td><td>0           </td><td>15          </td><td> 74         </td><td>0           </td><td>...         </td><td> 2          </td><td>0           </td><td> 8          </td><td>14          </td><td>0           </td><td>0           </td><td>20          </td><td>2           </td><td> 7          </td><td>0           </td></tr>\n",
       "\t<tr><td>Eastern Cape</td><td>Addo        </td><td>97          </td><td>2           </td><td>150         </td><td>25          </td><td>0           </td><td>87          </td><td>144         </td><td>0           </td><td>...         </td><td>12          </td><td>1           </td><td>41          </td><td>55          </td><td>0           </td><td>0           </td><td>21          </td><td>8           </td><td>11          </td><td>0           </td></tr>\n",
       "\t<tr><td>Eastern Cape</td><td>Adelaide    </td><td>47          </td><td>2           </td><td> 75         </td><td> 0          </td><td>0           </td><td>22          </td><td> 85         </td><td>0           </td><td>...         </td><td> 2          </td><td>0           </td><td>12          </td><td>18          </td><td>0           </td><td>7           </td><td>22          </td><td>4           </td><td>12          </td><td>0           </td></tr>\n",
       "\t<tr><td>Eastern Cape</td><td>Afsondering </td><td>11          </td><td>1           </td><td> 54         </td><td> 5          </td><td>0           </td><td> 7          </td><td> 29         </td><td>0           </td><td>...         </td><td> 6          </td><td>0           </td><td>13          </td><td>28          </td><td>0           </td><td>0           </td><td>97          </td><td>0           </td><td> 6          </td><td>0           </td></tr>\n",
       "\t<tr><td>Eastern Cape</td><td>Alexandria  </td><td>76          </td><td>0           </td><td> 86         </td><td>17          </td><td>0           </td><td>27          </td><td>116         </td><td>2           </td><td>...         </td><td> 6          </td><td>0           </td><td>36          </td><td>41          </td><td>0           </td><td>5           </td><td>35          </td><td>6           </td><td>13          </td><td>3           </td></tr>\n",
       "</tbody>\n",
       "</table>\n"
      ],
      "text/latex": [
       "\\begin{tabular}{r|lllllllllllllllllllllllllllll}\n",
       " Province & Police\\_Station & All theft not mentioned elsewhere & Arson & Assault with the intent to inflict grievous bodily harm & Attempted murder & Bank robbery & Burglary at non-residential premises & Burglary at residential premises & Carjacking & ... & Robbery at residential premises & Robbery of cash in transit & Robbery with aggravating circumstances & Sexual Offences & Sexual offences as result of police action & Shoplifting & Stock-theft & Theft of motor vehicle and motorcycle & Theft out of or from motor vehicle & Truck hijacking\\\\\n",
       "\\hline\n",
       "\t Eastern Cape & Aberdeen     & 51           & 4            &  87          &  5           & 0            & 15           &  74          & 0            & ...          &  2           & 0            &  8           & 14           & 0            & 0            & 20           & 2            &  7           & 0           \\\\\n",
       "\t Eastern Cape & Addo         & 97           & 2            & 150          & 25           & 0            & 87           & 144          & 0            & ...          & 12           & 1            & 41           & 55           & 0            & 0            & 21           & 8            & 11           & 0           \\\\\n",
       "\t Eastern Cape & Adelaide     & 47           & 2            &  75          &  0           & 0            & 22           &  85          & 0            & ...          &  2           & 0            & 12           & 18           & 0            & 7            & 22           & 4            & 12           & 0           \\\\\n",
       "\t Eastern Cape & Afsondering  & 11           & 1            &  54          &  5           & 0            &  7           &  29          & 0            & ...          &  6           & 0            & 13           & 28           & 0            & 0            & 97           & 0            &  6           & 0           \\\\\n",
       "\t Eastern Cape & Alexandria   & 76           & 0            &  86          & 17           & 0            & 27           & 116          & 2            & ...          &  6           & 0            & 36           & 41           & 0            & 5            & 35           & 6            & 13           & 3           \\\\\n",
       "\\end{tabular}\n"
      ],
      "text/markdown": [
       "\n",
       "Province | Police_Station | All theft not mentioned elsewhere | Arson | Assault with the intent to inflict grievous bodily harm | Attempted murder | Bank robbery | Burglary at non-residential premises | Burglary at residential premises | Carjacking | ... | Robbery at residential premises | Robbery of cash in transit | Robbery with aggravating circumstances | Sexual Offences | Sexual offences as result of police action | Shoplifting | Stock-theft | Theft of motor vehicle and motorcycle | Theft out of or from motor vehicle | Truck hijacking | \n",
       "|---|---|---|---|---|\n",
       "| Eastern Cape | Aberdeen     | 51           | 4            |  87          |  5           | 0            | 15           |  74          | 0            | ...          |  2           | 0            |  8           | 14           | 0            | 0            | 20           | 2            |  7           | 0            | \n",
       "| Eastern Cape | Addo         | 97           | 2            | 150          | 25           | 0            | 87           | 144          | 0            | ...          | 12           | 1            | 41           | 55           | 0            | 0            | 21           | 8            | 11           | 0            | \n",
       "| Eastern Cape | Adelaide     | 47           | 2            |  75          |  0           | 0            | 22           |  85          | 0            | ...          |  2           | 0            | 12           | 18           | 0            | 7            | 22           | 4            | 12           | 0            | \n",
       "| Eastern Cape | Afsondering  | 11           | 1            |  54          |  5           | 0            |  7           |  29          | 0            | ...          |  6           | 0            | 13           | 28           | 0            | 0            | 97           | 0            |  6           | 0            | \n",
       "| Eastern Cape | Alexandria   | 76           | 0            |  86          | 17           | 0            | 27           | 116          | 2            | ...          |  6           | 0            | 36           | 41           | 0            | 5            | 35           | 6            | 13           | 3            | \n",
       "\n",
       "\n"
      ],
      "text/plain": [
       "  Province     Police_Station All theft not mentioned elsewhere Arson\n",
       "1 Eastern Cape Aberdeen       51                                4    \n",
       "2 Eastern Cape Addo           97                                2    \n",
       "3 Eastern Cape Adelaide       47                                2    \n",
       "4 Eastern Cape Afsondering    11                                1    \n",
       "5 Eastern Cape Alexandria     76                                0    \n",
       "  Assault with the intent to inflict grievous bodily harm Attempted murder\n",
       "1  87                                                      5              \n",
       "2 150                                                     25              \n",
       "3  75                                                      0              \n",
       "4  54                                                      5              \n",
       "5  86                                                     17              \n",
       "  Bank robbery Burglary at non-residential premises\n",
       "1 0            15                                  \n",
       "2 0            87                                  \n",
       "3 0            22                                  \n",
       "4 0             7                                  \n",
       "5 0            27                                  \n",
       "  Burglary at residential premises Carjacking ...\n",
       "1  74                              0          ...\n",
       "2 144                              0          ...\n",
       "3  85                              0          ...\n",
       "4  29                              0          ...\n",
       "5 116                              2          ...\n",
       "  Robbery at residential premises Robbery of cash in transit\n",
       "1  2                              0                         \n",
       "2 12                              1                         \n",
       "3  2                              0                         \n",
       "4  6                              0                         \n",
       "5  6                              0                         \n",
       "  Robbery with aggravating circumstances Sexual Offences\n",
       "1  8                                     14             \n",
       "2 41                                     55             \n",
       "3 12                                     18             \n",
       "4 13                                     28             \n",
       "5 36                                     41             \n",
       "  Sexual offences as result of police action Shoplifting Stock-theft\n",
       "1 0                                          0           20         \n",
       "2 0                                          0           21         \n",
       "3 0                                          7           22         \n",
       "4 0                                          0           97         \n",
       "5 0                                          5           35         \n",
       "  Theft of motor vehicle and motorcycle Theft out of or from motor vehicle\n",
       "1 2                                      7                                \n",
       "2 8                                     11                                \n",
       "3 4                                     12                                \n",
       "4 0                                      6                                \n",
       "5 6                                     13                                \n",
       "  Truck hijacking\n",
       "1 0              \n",
       "2 0              \n",
       "3 0              \n",
       "4 0              \n",
       "5 3              "
      ]
     },
     "metadata": {},
     "output_type": "display_data"
    }
   ],
   "source": [
    "## Reshaping the dataframe to wide format\n",
    "library(tidyr)\n",
    "dataset_A_wide <- spread(dataset_A, Crime_Category, Period_2015_2016 )\n",
    "head(dataset_A_wide, n=5)"
   ]
  },
  {
   "cell_type": "code",
   "execution_count": 4,
   "metadata": {
    "collapsed": false
   },
   "outputs": [
    {
     "name": "stdout",
     "output_type": "stream",
     "text": [
      "'data.frame':\t1143 obs. of  29 variables:\n",
      " $ Province                                               : Factor w/ 9 levels \"Eastern Cape\",..: 1 1 1 1 1 1 1 1 1 1 ...\n",
      " $ Police_Station                                         : Factor w/ 1143 levels \"Aberdeen\",\"Acornhoek\",..: 1 4 5 6 14 15 16 17 18 35 ...\n",
      " $ All theft not mentioned elsewhere                      : int  51 97 47 11 76 505 183 16 205 12 ...\n",
      " $ Arson                                                  : int  4 2 2 1 0 4 3 0 1 3 ...\n",
      " $ Assault with the intent to inflict grievous bodily harm: int  87 150 75 54 86 137 299 28 140 87 ...\n",
      " $ Attempted murder                                       : int  5 25 0 5 17 14 7 1 0 4 ...\n",
      " $ Bank robbery                                           : int  0 0 0 0 0 0 0 0 0 0 ...\n",
      " $ Burglary at non-residential premises                   : int  15 87 22 7 27 259 62 6 69 0 ...\n",
      " $ Burglary at residential premises                       : int  74 144 85 29 116 259 245 12 141 46 ...\n",
      " $ Carjacking                                             : int  0 0 0 0 2 24 4 0 1 0 ...\n",
      " $ Commercial crime                                       : int  8 6 24 0 14 103 54 0 37 1 ...\n",
      " $ Common assault                                         : int  48 48 22 12 81 174 35 44 70 5 ...\n",
      " $ Common robbery                                         : int  10 9 6 0 5 103 35 0 23 2 ...\n",
      " $ Driving under the influence of alcohol or drugs        : int  2 9 4 1 14 67 30 0 37 0 ...\n",
      " $ Drug-related crime                                     : int  22 59 39 10 37 151 90 7 90 7 ...\n",
      " $ Illegal possession of firearms and ammunition          : int  0 4 0 0 1 25 8 0 1 4 ...\n",
      " $ Malicious damage to property                           : int  32 39 19 21 33 246 77 4 50 9 ...\n",
      " $ Murder                                                 : int  9 20 10 9 9 22 19 2 6 8 ...\n",
      " $ Robbery at non-residential premises                    : int  1 5 0 4 8 67 17 1 4 1 ...\n",
      " $ Robbery at residential premises                        : int  2 12 2 6 6 34 18 0 2 1 ...\n",
      " $ Robbery of cash in transit                             : int  0 1 0 0 0 0 0 0 0 0 ...\n",
      " $ Robbery with aggravating circumstances                 : int  8 41 12 13 36 325 112 1 33 15 ...\n",
      " $ Sexual Offences                                        : int  14 55 18 28 41 53 64 6 25 26 ...\n",
      " $ Sexual offences as result of police action             : int  0 0 0 0 0 1 0 0 0 0 ...\n",
      " $ Shoplifting                                            : int  0 0 7 0 5 223 32 0 74 0 ...\n",
      " $ Stock-theft                                            : int  20 21 22 97 35 2 82 3 47 43 ...\n",
      " $ Theft of motor vehicle and motorcycle                  : int  2 8 4 0 6 89 1 1 15 1 ...\n",
      " $ Theft out of or from motor vehicle                     : int  7 11 12 6 13 429 28 0 71 1 ...\n",
      " $ Truck hijacking                                        : int  0 0 0 0 3 1 1 0 0 0 ...\n"
     ]
    }
   ],
   "source": [
    "# structure of the wide dataset\n",
    "str(dataset_A_wide)"
   ]
  },
  {
   "cell_type": "code",
   "execution_count": 5,
   "metadata": {
    "collapsed": false
   },
   "outputs": [
    {
     "data": {
      "text/html": [
       "1143"
      ],
      "text/latex": [
       "1143"
      ],
      "text/markdown": [
       "1143"
      ],
      "text/plain": [
       "[1] 1143"
      ]
     },
     "metadata": {},
     "output_type": "display_data"
    }
   ],
   "source": [
    "# check the dataset for duplicates\n",
    "length(duplicated(dataset_A_wide$Police_Station))"
   ]
  },
  {
   "cell_type": "code",
   "execution_count": 6,
   "metadata": {
    "collapsed": false
   },
   "outputs": [
    {
     "name": "stderr",
     "output_type": "stream",
     "text": [
      "Loading required package: rJava\n",
      "Warning message:\n",
      "\"package 'rJava' was built under R version 3.3.3\"Loading required package: xlsxjars\n",
      "Warning message in read.table(\"Dataset_B.xlsx\"):\n",
      "\"line 1 appears to contain embedded nulls\"Warning message in read.table(\"Dataset_B.xlsx\"):\n",
      "\"incomplete final line found by readTableHeader on 'Dataset_B.xlsx'\""
     ]
    }
   ],
   "source": [
    "# dataset B - Police stations and population they cover\n",
    "library(xlsx)\n",
    "dataset_B <- read.table(\"Dataset_B.xlsx\")\n",
    "\n"
   ]
  },
  {
   "cell_type": "code",
   "execution_count": null,
   "metadata": {
    "collapsed": false
   },
   "outputs": [],
   "source": [
    "head(dataset_B, 4)"
   ]
  },
  {
   "cell_type": "code",
   "execution_count": null,
   "metadata": {
    "collapsed": true
   },
   "outputs": [],
   "source": []
  }
 ],
 "metadata": {
  "kernelspec": {
   "display_name": "R",
   "language": "R",
   "name": "ir"
  },
  "language_info": {
   "codemirror_mode": "r",
   "file_extension": ".r",
   "mimetype": "text/x-r-source",
   "name": "R",
   "pygments_lexer": "r",
   "version": "3.3.2"
  }
 },
 "nbformat": 4,
 "nbformat_minor": 2
}
