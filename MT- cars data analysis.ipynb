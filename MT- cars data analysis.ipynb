{
 "cells": [
  {
   "cell_type": "markdown",
   "metadata": {},
   "source": [
    "Source: https://rstudio-pubs-static.s3.amazonaws.com/45786_b5e54c2d3c824f51abd2d559506cf81f.html"
   ]
  },
  {
   "cell_type": "markdown",
   "metadata": {},
   "source": [
    "# Research Questions\n",
    "Question 1: is a car with automatic or manual transmission better in term of miles per gallons (mpg)?\n",
    "\n",
    "Question 2: quantify the mpg difference between automatic and manual transmission."
   ]
  },
  {
   "cell_type": "markdown",
   "metadata": {},
   "source": [
    "## Analysis structure:\n",
    "I will address both issues from different angles employing a set of methodologies that can be broadly grouped as follows:\n",
    "Univariate analysis on target variable (mpg).\n",
    "Bivariate analysis on target variable and relevant covariates.\n",
    "Multivariate analysis: estimation a set of regression models for the conditional mean of mpg. For model selection, I compare the Best Fit and Forward Stepwise Selection procedures"
   ]
  },
  {
   "cell_type": "markdown",
   "metadata": {},
   "source": [
    "## Chapter 1. Univariate analysis\n",
    "In this chapter I focus on analyzing the target variable (mpg) alone by splitting the observations into two groups, i.e. cars wtih automatic or manual transmission. I will execute 3 analysis:\n",
    "1. Compute sample means by group (i.e. transmission automatic vs. manual).\n",
    "\n",
    "2. Validate if the difference of the group means is statistically significant by computing a 95% confidence interval for means difference.\n",
    "    \n",
    "    3.Verify the robustness of this result by executing a permutation test with Monte Carlo trials that shuffle the allocation group > mpg."
   ]
  },
  {
   "cell_type": "code",
   "execution_count": 1,
   "metadata": {
    "collapsed": true
   },
   "outputs": [],
   "source": [
    "## Sample means by Group\n",
    "cars_auto = subset(mtcars, am==0)\n",
    "cars_manual = subset(mtcars, am==1)"
   ]
  },
  {
   "cell_type": "code",
   "execution_count": 4,
   "metadata": {
    "collapsed": false
   },
   "outputs": [
    {
     "name": "stdout",
     "output_type": "stream",
     "text": [
      "[1] 17.14737\n",
      "[1] \"====================\"\n",
      "[1] 24.39231\n"
     ]
    }
   ],
   "source": [
    "##sample mean mpg by group\n",
    "print(mean(cars_auto$mpg))\n",
    "print(\"====================\")\n",
    "print(mean(cars_manual$mpg))"
   ]
  },
  {
   "cell_type": "code",
   "execution_count": 5,
   "metadata": {
    "collapsed": false
   },
   "outputs": [
    {
     "name": "stdout",
     "output_type": "stream",
     "text": [
      "[1] 3.833966\n",
      "[1] \"====================\"\n",
      "[1] 6.166504\n"
     ]
    }
   ],
   "source": [
    "##sample sd mpg by group\n",
    "print(sd(cars_auto$mpg))\n",
    "print(\"====================\")\n",
    "print(sd(cars_manual$mpg))"
   ]
  },
  {
   "cell_type": "code",
   "execution_count": 6,
   "metadata": {
    "collapsed": false
   },
   "outputs": [
    {
     "data": {
      "text/html": [
       "0.422510270576569"
      ],
      "text/latex": [
       "0.422510270576569"
      ],
      "text/markdown": [
       "0.422510270576569"
      ],
      "text/plain": [
       "[1] 0.4225103"
      ]
     },
     "metadata": {},
     "output_type": "display_data"
    }
   ],
   "source": [
    "## % increase in mpg based on sample mean\n",
    "(mean(cars_manual$mpg)-mean(cars_auto$mpg))/mean(cars_auto$mpg)"
   ]
  },
  {
   "cell_type": "code",
   "execution_count": null,
   "metadata": {
    "collapsed": true
   },
   "outputs": [],
   "source": []
  },
  {
   "cell_type": "code",
   "execution_count": 7,
   "metadata": {
    "collapsed": false
   },
   "outputs": [
    {
     "data": {
      "image/png": "[encoded data removed]",
      "text/plain": [
       "Plot with title \"Distribution - mpg for Manual transmission\""
      ]
     },
     "metadata": {},
     "output_type": "display_data"
    }
   ],
   "source": [
    "## mpg plots\n",
    "par(mfrow=c(2,1))\n",
    "hist(cars_auto$mpg, main=\"Distribution - mpg for Automatic transmission\", xlab=\"mpg\")\n",
    "abline(v=mean(cars_auto$mpg), col=\"red\")\n",
    "hist(cars_manual$mpg, main=\"Distribution - mpg for Manual transmission\", xlab=\"mpg\")\n",
    "abline(v=mean(cars_manual$mpg), col=\"red\")"
   ]
  },
  {
   "cell_type": "markdown",
   "metadata": {},
   "source": [
    "## Conclusions:\n",
    "\n",
    "mpg empirical mean of cars with manual transmission is greater than cars with automatic transmission, however has also higher variance.\n",
    "\n",
    "Based on this result alone can be concluded that on average cars with manual transmission have 42% mileage than cars with automatic transmission. >>> is correct to conclude this?"
   ]
  },
  {
   "cell_type": "markdown",
   "metadata": {},
   "source": [
    "# 95% confidence interval for the difference of the group means\n",
    "\n",
    "The analysis on sample means concludes that sample mean of mpg for car with manual trasmission is greater than automatic:\n",
    "\n",
    "Now I test if this difference (i.e. in the sample means) is statistically significant (from zero).\n",
    "\n",
    "I execute a t.test for unpaired samples: I assume inequality in variances for the two groups for the calculation of the pooled variance."
   ]
  },
  {
   "cell_type": "code",
   "execution_count": 10,
   "metadata": {
    "collapsed": false
   },
   "outputs": [
    {
     "data": {
      "text/plain": [
       "\n",
       "\tWelch Two Sample t-test\n",
       "\n",
       "data:  cars_manual$mpg and cars_auto$mpg\n",
       "t = 3.7671, df = 18.332, p-value = 0.001374\n",
       "alternative hypothesis: true difference in means is not equal to 0\n",
       "95 percent confidence interval:\n",
       "  3.209684 11.280194\n",
       "sample estimates:\n",
       "mean of x mean of y \n",
       " 24.39231  17.14737 \n"
      ]
     },
     "metadata": {},
     "output_type": "display_data"
    }
   ],
   "source": [
    "## question: Is the sample mean difference significant?\n",
    "t.test(cars_manual$mpg, cars_auto$mpg, paired=F, var.equal=F)"
   ]
  },
  {
   "cell_type": "markdown",
   "metadata": {},
   "source": [
    "Conclusions:\n",
    "\n",
    "The 95% interval does not contain 0\n",
    "\n",
    "The sample mean difference is significant at 95% (p-value 0.001%)."
   ]
  },
  {
   "cell_type": "markdown",
   "metadata": {},
   "source": [
    "# 1.3 Permutation test on groups association\n",
    "\n",
    "I test the robustness of result obtained in the previous step.\n",
    "\n",
    "I execute a permutation test by shuffling the allocation mean > groups with 100000 trials of Montecarlo simulation.\n",
    "\n",
    "Code:"
   ]
  },
  {
   "cell_type": "code",
   "execution_count": 15,
   "metadata": {
    "collapsed": false
   },
   "outputs": [
    {
     "data": {
      "text/html": [
       "<ol class=list-inline>\n",
       "\t<li>21</li>\n",
       "\t<li>21</li>\n",
       "\t<li>22.8</li>\n",
       "\t<li>21.4</li>\n",
       "\t<li>18.7</li>\n",
       "\t<li>18.1</li>\n",
       "\t<li>14.3</li>\n",
       "\t<li>24.4</li>\n",
       "\t<li>22.8</li>\n",
       "\t<li>19.2</li>\n",
       "\t<li>17.8</li>\n",
       "\t<li>16.4</li>\n",
       "\t<li>17.3</li>\n",
       "\t<li>15.2</li>\n",
       "\t<li>10.4</li>\n",
       "\t<li>10.4</li>\n",
       "\t<li>14.7</li>\n",
       "\t<li>32.4</li>\n",
       "\t<li>30.4</li>\n",
       "\t<li>33.9</li>\n",
       "\t<li>21.5</li>\n",
       "\t<li>15.5</li>\n",
       "\t<li>15.2</li>\n",
       "\t<li>13.3</li>\n",
       "\t<li>19.2</li>\n",
       "\t<li>27.3</li>\n",
       "\t<li>26</li>\n",
       "\t<li>30.4</li>\n",
       "\t<li>15.8</li>\n",
       "\t<li>19.7</li>\n",
       "\t<li>15</li>\n",
       "\t<li>21.4</li>\n",
       "</ol>\n"
      ],
      "text/latex": [
       "\\begin{enumerate*}\n",
       "\\item 21\n",
       "\\item 21\n",
       "\\item 22.8\n",
       "\\item 21.4\n",
       "\\item 18.7\n",
       "\\item 18.1\n",
       "\\item 14.3\n",
       "\\item 24.4\n",
       "\\item 22.8\n",
       "\\item 19.2\n",
       "\\item 17.8\n",
       "\\item 16.4\n",
       "\\item 17.3\n",
       "\\item 15.2\n",
       "\\item 10.4\n",
       "\\item 10.4\n",
       "\\item 14.7\n",
       "\\item 32.4\n",
       "\\item 30.4\n",
       "\\item 33.9\n",
       "\\item 21.5\n",
       "\\item 15.5\n",
       "\\item 15.2\n",
       "\\item 13.3\n",
       "\\item 19.2\n",
       "\\item 27.3\n",
       "\\item 26\n",
       "\\item 30.4\n",
       "\\item 15.8\n",
       "\\item 19.7\n",
       "\\item 15\n",
       "\\item 21.4\n",
       "\\end{enumerate*}\n"
      ],
      "text/markdown": [
       "1. 21\n",
       "2. 21\n",
       "3. 22.8\n",
       "4. 21.4\n",
       "5. 18.7\n",
       "6. 18.1\n",
       "7. 14.3\n",
       "8. 24.4\n",
       "9. 22.8\n",
       "10. 19.2\n",
       "11. 17.8\n",
       "12. 16.4\n",
       "13. 17.3\n",
       "14. 15.2\n",
       "15. 10.4\n",
       "16. 10.4\n",
       "17. 14.7\n",
       "18. 32.4\n",
       "19. 30.4\n",
       "20. 33.9\n",
       "21. 21.5\n",
       "22. 15.5\n",
       "23. 15.2\n",
       "24. 13.3\n",
       "25. 19.2\n",
       "26. 27.3\n",
       "27. 26\n",
       "28. 30.4\n",
       "29. 15.8\n",
       "30. 19.7\n",
       "31. 15\n",
       "32. 21.4\n",
       "\n",
       "\n"
      ],
      "text/plain": [
       " [1] 21.0 21.0 22.8 21.4 18.7 18.1 14.3 24.4 22.8 19.2 17.8 16.4 17.3 15.2 10.4\n",
       "[16] 10.4 14.7 32.4 30.4 33.9 21.5 15.5 15.2 13.3 19.2 27.3 26.0 30.4 15.8 19.7\n",
       "[31] 15.0 21.4"
      ]
     },
     "metadata": {},
     "output_type": "display_data"
    },
    {
     "data": {
      "text/html": [
       "<ol class=list-inline>\n",
       "\t<li>1</li>\n",
       "\t<li>1</li>\n",
       "\t<li>1</li>\n",
       "\t<li>0</li>\n",
       "\t<li>0</li>\n",
       "\t<li>0</li>\n",
       "\t<li>0</li>\n",
       "\t<li>0</li>\n",
       "\t<li>0</li>\n",
       "\t<li>0</li>\n",
       "\t<li>0</li>\n",
       "\t<li>0</li>\n",
       "\t<li>0</li>\n",
       "\t<li>0</li>\n",
       "\t<li>0</li>\n",
       "\t<li>0</li>\n",
       "\t<li>0</li>\n",
       "\t<li>1</li>\n",
       "\t<li>1</li>\n",
       "\t<li>1</li>\n",
       "\t<li>0</li>\n",
       "\t<li>0</li>\n",
       "\t<li>0</li>\n",
       "\t<li>0</li>\n",
       "\t<li>0</li>\n",
       "\t<li>1</li>\n",
       "\t<li>1</li>\n",
       "\t<li>1</li>\n",
       "\t<li>1</li>\n",
       "\t<li>1</li>\n",
       "\t<li>1</li>\n",
       "\t<li>1</li>\n",
       "</ol>\n"
      ],
      "text/latex": [
       "\\begin{enumerate*}\n",
       "\\item 1\n",
       "\\item 1\n",
       "\\item 1\n",
       "\\item 0\n",
       "\\item 0\n",
       "\\item 0\n",
       "\\item 0\n",
       "\\item 0\n",
       "\\item 0\n",
       "\\item 0\n",
       "\\item 0\n",
       "\\item 0\n",
       "\\item 0\n",
       "\\item 0\n",
       "\\item 0\n",
       "\\item 0\n",
       "\\item 0\n",
       "\\item 1\n",
       "\\item 1\n",
       "\\item 1\n",
       "\\item 0\n",
       "\\item 0\n",
       "\\item 0\n",
       "\\item 0\n",
       "\\item 0\n",
       "\\item 1\n",
       "\\item 1\n",
       "\\item 1\n",
       "\\item 1\n",
       "\\item 1\n",
       "\\item 1\n",
       "\\item 1\n",
       "\\end{enumerate*}\n"
      ],
      "text/markdown": [
       "1. 1\n",
       "2. 1\n",
       "3. 1\n",
       "4. 0\n",
       "5. 0\n",
       "6. 0\n",
       "7. 0\n",
       "8. 0\n",
       "9. 0\n",
       "10. 0\n",
       "11. 0\n",
       "12. 0\n",
       "13. 0\n",
       "14. 0\n",
       "15. 0\n",
       "16. 0\n",
       "17. 0\n",
       "18. 1\n",
       "19. 1\n",
       "20. 1\n",
       "21. 0\n",
       "22. 0\n",
       "23. 0\n",
       "24. 0\n",
       "25. 0\n",
       "26. 1\n",
       "27. 1\n",
       "28. 1\n",
       "29. 1\n",
       "30. 1\n",
       "31. 1\n",
       "32. 1\n",
       "\n",
       "\n"
      ],
      "text/plain": [
       " [1] 1 1 1 0 0 0 0 0 0 0 0 0 0 0 0 0 0 1 1 1 0 0 0 0 0 1 1 1 1 1 1 1"
      ]
     },
     "metadata": {},
     "output_type": "display_data"
    },
    {
     "data": {
      "text/html": [
       "<strong>1:</strong> 0"
      ],
      "text/latex": [
       "\\textbf{1:} 0"
      ],
      "text/markdown": [
       "**1:** 0"
      ],
      "text/plain": [
       "1 \n",
       "0 "
      ]
     },
     "metadata": {},
     "output_type": "display_data"
    }
   ],
   "source": [
    "#### Permutation test ####\n",
    "# what if I shuffle the am groups and calculate the mean?\n",
    "\n",
    "# get target variable and group vectors\n",
    "y = mtcars$mpg\n",
    "group = mtcars$am\n",
    "y; group\n",
    "\n",
    "# baseline group means and difference\n",
    "baselineMeans = tapply(mtcars$mpg, mtcars$am, mean)\n",
    "baselineMeansDiff = baselineMeans[2] - baselineMeans[1]\n",
    "\n",
    "tStat = function(w, g) mean(w[g == 1]) - mean(w[g == 0])\n",
    "observedDiff = tStat(y, group)\n",
    "\n",
    "# check if function works - should be 0:\n",
    "baselineMeansDiff - observedDiff\n",
    "\n",
    "# execute shuffle:\n",
    "permutations = sapply(1:100000, function(i) tStat(y, sample(group)))"
   ]
  },
  {
   "cell_type": "code",
   "execution_count": 16,
   "metadata": {
    "collapsed": false
   },
   "outputs": [
    {
     "data": {
      "image/png": "[encoded data removed]",
      "text/plain": [
       "Plot with title \"Shuffled group mean trials\""
      ]
     },
     "metadata": {},
     "output_type": "display_data"
    }
   ],
   "source": [
    "# shuffle experiment results plots:\n",
    "par(mfrow = c(2, 1), mar = c(4, 4, 2, 2))\n",
    "hist(permutations, main = \"Distribution of shuffled group mean differences\") # distribution of difference of averages of permuted groups\n",
    "plot(permutations, type = \"b\", main = \"Shuffled group mean trials\", xlab = \"trial\", ylab = \"shuffled group mean differences\", ylim = c(-14, 14))\n",
    "abline(h = observedDiff, col = \"red\", lwd = 3)"
   ]
  },
  {
   "cell_type": "code",
   "execution_count": 17,
   "metadata": {
    "collapsed": false
   },
   "outputs": [
    {
     "data": {
      "text/html": [
       "0.00018"
      ],
      "text/latex": [
       "0.00018"
      ],
      "text/markdown": [
       "0.00018"
      ],
      "text/plain": [
       "[1] 0.00018"
      ]
     },
     "metadata": {},
     "output_type": "display_data"
    }
   ],
   "source": [
    "# there is not even 1 case where by chance I get a difference value greater than the observed!\n",
    "mean(permutations > observedDiff)"
   ]
  },
  {
   "cell_type": "markdown",
   "metadata": {},
   "source": [
    "# CONCLUSIONS:\n",
    "\n",
    "Out of 100000 trials only the 0.002% have breached the observed values for the difference in group empirical means.\n",
    "\n",
    "We can conclude that the empirical means difference of groups is robust with regards to random reshuffling and in not likely to be generated by pure chance. is this correct?"
   ]
  },
  {
   "cell_type": "code",
   "execution_count": null,
   "metadata": {
    "collapsed": true
   },
   "outputs": [],
   "source": []
  }
 ],
 "metadata": {
  "kernelspec": {
   "display_name": "R",
   "language": "R",
   "name": "ir"
  },
  "language_info": {
   "codemirror_mode": "r",
   "file_extension": ".r",
   "mimetype": "text/x-r-source",
   "name": "R",
   "pygments_lexer": "r",
   "version": "3.3.2"
  }
 },
 "nbformat": 4,
 "nbformat_minor": 2
}
