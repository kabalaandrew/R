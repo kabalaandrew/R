{
 "cells": [
  {
   "cell_type": "markdown",
   "metadata": {},
   "source": [
    "# Creating Vectors"
   ]
  },
  {
   "cell_type": "code",
   "execution_count": 1,
   "metadata": {
    "collapsed": true
   },
   "outputs": [],
   "source": [
    "x <- c(0.5, 0.6) # numeric\n",
    "y <- c(TRUE, FALSE) ## Logical\n",
    "z <- c(\"a\", \"b\", \"c\") #Character\n"
   ]
  },
  {
   "cell_type": "markdown",
   "metadata": {},
   "source": [
    "## Explicit Coercion\n"
   ]
  },
  {
   "cell_type": "code",
   "execution_count": 5,
   "metadata": {
    "collapsed": false
   },
   "outputs": [
    {
     "data": {
      "text/html": [
       "'integer'"
      ],
      "text/latex": [
       "'integer'"
      ],
      "text/markdown": [
       "'integer'"
      ],
      "text/plain": [
       "[1] \"integer\""
      ]
     },
     "metadata": {},
     "output_type": "display_data"
    }
   ],
   "source": [
    "x <- 0:6\n",
    "class(x)"
   ]
  },
  {
   "cell_type": "code",
   "execution_count": 6,
   "metadata": {
    "collapsed": false
   },
   "outputs": [
    {
     "data": {
      "text/html": [
       "<ol class=list-inline>\n",
       "\t<li>0</li>\n",
       "\t<li>1</li>\n",
       "\t<li>2</li>\n",
       "\t<li>3</li>\n",
       "\t<li>4</li>\n",
       "\t<li>5</li>\n",
       "\t<li>6</li>\n",
       "</ol>\n"
      ],
      "text/latex": [
       "\\begin{enumerate*}\n",
       "\\item 0\n",
       "\\item 1\n",
       "\\item 2\n",
       "\\item 3\n",
       "\\item 4\n",
       "\\item 5\n",
       "\\item 6\n",
       "\\end{enumerate*}\n"
      ],
      "text/markdown": [
       "1. 0\n",
       "2. 1\n",
       "3. 2\n",
       "4. 3\n",
       "5. 4\n",
       "6. 5\n",
       "7. 6\n",
       "\n",
       "\n"
      ],
      "text/plain": [
       "[1] 0 1 2 3 4 5 6"
      ]
     },
     "metadata": {},
     "output_type": "display_data"
    }
   ],
   "source": [
    "as.numeric(x)"
   ]
  },
  {
   "cell_type": "code",
   "execution_count": 7,
   "metadata": {
    "collapsed": false
   },
   "outputs": [
    {
     "data": {
      "text/html": [
       "<ol class=list-inline>\n",
       "\t<li>FALSE</li>\n",
       "\t<li>TRUE</li>\n",
       "\t<li>TRUE</li>\n",
       "\t<li>TRUE</li>\n",
       "\t<li>TRUE</li>\n",
       "\t<li>TRUE</li>\n",
       "\t<li>TRUE</li>\n",
       "</ol>\n"
      ],
      "text/latex": [
       "\\begin{enumerate*}\n",
       "\\item FALSE\n",
       "\\item TRUE\n",
       "\\item TRUE\n",
       "\\item TRUE\n",
       "\\item TRUE\n",
       "\\item TRUE\n",
       "\\item TRUE\n",
       "\\end{enumerate*}\n"
      ],
      "text/markdown": [
       "1. FALSE\n",
       "2. TRUE\n",
       "3. TRUE\n",
       "4. TRUE\n",
       "5. TRUE\n",
       "6. TRUE\n",
       "7. TRUE\n",
       "\n",
       "\n"
      ],
      "text/plain": [
       "[1] FALSE  TRUE  TRUE  TRUE  TRUE  TRUE  TRUE"
      ]
     },
     "metadata": {},
     "output_type": "display_data"
    }
   ],
   "source": [
    "as.logical(x)"
   ]
  },
  {
   "cell_type": "code",
   "execution_count": 8,
   "metadata": {
    "collapsed": false
   },
   "outputs": [
    {
     "data": {
      "text/html": [
       "<ol class=list-inline>\n",
       "\t<li>'0'</li>\n",
       "\t<li>'1'</li>\n",
       "\t<li>'2'</li>\n",
       "\t<li>'3'</li>\n",
       "\t<li>'4'</li>\n",
       "\t<li>'5'</li>\n",
       "\t<li>'6'</li>\n",
       "</ol>\n"
      ],
      "text/latex": [
       "\\begin{enumerate*}\n",
       "\\item '0'\n",
       "\\item '1'\n",
       "\\item '2'\n",
       "\\item '3'\n",
       "\\item '4'\n",
       "\\item '5'\n",
       "\\item '6'\n",
       "\\end{enumerate*}\n"
      ],
      "text/markdown": [
       "1. '0'\n",
       "2. '1'\n",
       "3. '2'\n",
       "4. '3'\n",
       "5. '4'\n",
       "6. '5'\n",
       "7. '6'\n",
       "\n",
       "\n"
      ],
      "text/plain": [
       "[1] \"0\" \"1\" \"2\" \"3\" \"4\" \"5\" \"6\""
      ]
     },
     "metadata": {},
     "output_type": "display_data"
    }
   ],
   "source": [
    "as.character(x)"
   ]
  },
  {
   "cell_type": "markdown",
   "metadata": {},
   "source": [
    "## Matrices"
   ]
  },
  {
   "cell_type": "code",
   "execution_count": 9,
   "metadata": {
    "collapsed": false,
    "scrolled": true
   },
   "outputs": [
    {
     "data": {
      "text/html": [
       "<table>\n",
       "<tbody>\n",
       "\t<tr><td>NA</td><td>NA</td><td>NA</td></tr>\n",
       "\t<tr><td>NA</td><td>NA</td><td>NA</td></tr>\n",
       "</tbody>\n",
       "</table>\n"
      ],
      "text/latex": [
       "\\begin{tabular}{lll}\n",
       "\t NA & NA & NA\\\\\n",
       "\t NA & NA & NA\\\\\n",
       "\\end{tabular}\n"
      ],
      "text/markdown": [
       "\n",
       "| NA | NA | NA | \n",
       "| NA | NA | NA | \n",
       "\n",
       "\n"
      ],
      "text/plain": [
       "     [,1] [,2] [,3]\n",
       "[1,] NA   NA   NA  \n",
       "[2,] NA   NA   NA  "
      ]
     },
     "metadata": {},
     "output_type": "display_data"
    }
   ],
   "source": [
    "m <- matrix(nrow=2, ncol=3)\n",
    "m"
   ]
  },
  {
   "cell_type": "code",
   "execution_count": 10,
   "metadata": {
    "collapsed": false
   },
   "outputs": [
    {
     "data": {
      "text/html": [
       "<ol class=list-inline>\n",
       "\t<li>2</li>\n",
       "\t<li>3</li>\n",
       "</ol>\n"
      ],
      "text/latex": [
       "\\begin{enumerate*}\n",
       "\\item 2\n",
       "\\item 3\n",
       "\\end{enumerate*}\n"
      ],
      "text/markdown": [
       "1. 2\n",
       "2. 3\n",
       "\n",
       "\n"
      ],
      "text/plain": [
       "[1] 2 3"
      ]
     },
     "metadata": {},
     "output_type": "display_data"
    }
   ],
   "source": [
    "dim(m)"
   ]
  },
  {
   "cell_type": "code",
   "execution_count": 11,
   "metadata": {
    "collapsed": false
   },
   "outputs": [
    {
     "data": {
      "text/html": [
       "<strong>$dim</strong> = <ol class=list-inline>\n",
       "\t<li>2</li>\n",
       "\t<li>3</li>\n",
       "</ol>\n"
      ],
      "text/latex": [
       "\\textbf{\\$dim} = \\begin{enumerate*}\n",
       "\\item 2\n",
       "\\item 3\n",
       "\\end{enumerate*}\n"
      ],
      "text/markdown": [
       "**$dim** = 1. 2\n",
       "2. 3\n",
       "\n",
       "\n"
      ],
      "text/plain": [
       "$dim\n",
       "[1] 2 3\n"
      ]
     },
     "metadata": {},
     "output_type": "display_data"
    }
   ],
   "source": [
    "attributes(m)"
   ]
  },
  {
   "cell_type": "markdown",
   "metadata": {},
   "source": [
    "Matrices are constructed columnwise"
   ]
  },
  {
   "cell_type": "markdown",
   "metadata": {},
   "source": [
    "m <- matrix(1:6, nrow=2, ncol=3)\n",
    "m"
   ]
  },
  {
   "cell_type": "markdown",
   "metadata": {},
   "source": [
    "matrix can also be constructed from Vectors using the dim() command"
   ]
  },
  {
   "cell_type": "code",
   "execution_count": 13,
   "metadata": {
    "collapsed": false
   },
   "outputs": [
    {
     "data": {
      "text/html": [
       "<ol class=list-inline>\n",
       "\t<li>1</li>\n",
       "\t<li>2</li>\n",
       "\t<li>3</li>\n",
       "\t<li>4</li>\n",
       "\t<li>5</li>\n",
       "\t<li>6</li>\n",
       "\t<li>7</li>\n",
       "\t<li>8</li>\n",
       "\t<li>9</li>\n",
       "\t<li>10</li>\n",
       "</ol>\n"
      ],
      "text/latex": [
       "\\begin{enumerate*}\n",
       "\\item 1\n",
       "\\item 2\n",
       "\\item 3\n",
       "\\item 4\n",
       "\\item 5\n",
       "\\item 6\n",
       "\\item 7\n",
       "\\item 8\n",
       "\\item 9\n",
       "\\item 10\n",
       "\\end{enumerate*}\n"
      ],
      "text/markdown": [
       "1. 1\n",
       "2. 2\n",
       "3. 3\n",
       "4. 4\n",
       "5. 5\n",
       "6. 6\n",
       "7. 7\n",
       "8. 8\n",
       "9. 9\n",
       "10. 10\n",
       "\n",
       "\n"
      ],
      "text/plain": [
       " [1]  1  2  3  4  5  6  7  8  9 10"
      ]
     },
     "metadata": {},
     "output_type": "display_data"
    }
   ],
   "source": [
    "m <- 1:10\n",
    "m"
   ]
  },
  {
   "cell_type": "code",
   "execution_count": 15,
   "metadata": {
    "collapsed": false
   },
   "outputs": [
    {
     "data": {
      "text/html": [
       "<table>\n",
       "<tbody>\n",
       "\t<tr><td>1 </td><td>3 </td><td>5 </td><td>7 </td><td> 9</td></tr>\n",
       "\t<tr><td>2 </td><td>4 </td><td>6 </td><td>8 </td><td>10</td></tr>\n",
       "</tbody>\n",
       "</table>\n"
      ],
      "text/latex": [
       "\\begin{tabular}{lllll}\n",
       "\t 1  & 3  & 5  & 7  &  9\\\\\n",
       "\t 2  & 4  & 6  & 8  & 10\\\\\n",
       "\\end{tabular}\n"
      ],
      "text/markdown": [
       "\n",
       "| 1  | 3  | 5  | 7  |  9 | \n",
       "| 2  | 4  | 6  | 8  | 10 | \n",
       "\n",
       "\n"
      ],
      "text/plain": [
       "     [,1] [,2] [,3] [,4] [,5]\n",
       "[1,] 1    3    5    7     9  \n",
       "[2,] 2    4    6    8    10  "
      ]
     },
     "metadata": {},
     "output_type": "display_data"
    }
   ],
   "source": [
    "dim(m) <- c(2,5)\n",
    "m"
   ]
  },
  {
   "cell_type": "markdown",
   "metadata": {},
   "source": [
    "matrices can be created using column binding and row binding"
   ]
  },
  {
   "cell_type": "code",
   "execution_count": 16,
   "metadata": {
    "collapsed": false
   },
   "outputs": [
    {
     "data": {
      "text/html": [
       "<table>\n",
       "<thead><tr><th scope=col>x</th><th scope=col>y</th></tr></thead>\n",
       "<tbody>\n",
       "\t<tr><td>1 </td><td>10</td></tr>\n",
       "\t<tr><td>2 </td><td>11</td></tr>\n",
       "\t<tr><td>3 </td><td>12</td></tr>\n",
       "</tbody>\n",
       "</table>\n"
      ],
      "text/latex": [
       "\\begin{tabular}{ll}\n",
       " x & y\\\\\n",
       "\\hline\n",
       "\t 1  & 10\\\\\n",
       "\t 2  & 11\\\\\n",
       "\t 3  & 12\\\\\n",
       "\\end{tabular}\n"
      ],
      "text/markdown": [
       "\n",
       "x | y | \n",
       "|---|---|---|\n",
       "| 1  | 10 | \n",
       "| 2  | 11 | \n",
       "| 3  | 12 | \n",
       "\n",
       "\n"
      ],
      "text/plain": [
       "     x y \n",
       "[1,] 1 10\n",
       "[2,] 2 11\n",
       "[3,] 3 12"
      ]
     },
     "metadata": {},
     "output_type": "display_data"
    }
   ],
   "source": [
    "x <- 1:3\n",
    "y <- 10:12\n",
    "cbind(x,y)"
   ]
  },
  {
   "cell_type": "code",
   "execution_count": 17,
   "metadata": {
    "collapsed": false
   },
   "outputs": [
    {
     "data": {
      "text/html": [
       "<table>\n",
       "<tbody>\n",
       "\t<tr><th scope=row>x</th><td> 1</td><td> 2</td><td> 3</td></tr>\n",
       "\t<tr><th scope=row>y</th><td>10</td><td>11</td><td>12</td></tr>\n",
       "</tbody>\n",
       "</table>\n"
      ],
      "text/latex": [
       "\\begin{tabular}{r|lll}\n",
       "\tx &  1 &  2 &  3\\\\\n",
       "\ty & 10 & 11 & 12\\\\\n",
       "\\end{tabular}\n"
      ],
      "text/markdown": [
       "\n",
       "| x |  1 |  2 |  3 | \n",
       "| y | 10 | 11 | 12 | \n",
       "\n",
       "\n"
      ],
      "text/plain": [
       "  [,1] [,2] [,3]\n",
       "x  1    2    3  \n",
       "y 10   11   12  "
      ]
     },
     "metadata": {},
     "output_type": "display_data"
    }
   ],
   "source": [
    "rbind(x,y)"
   ]
  },
  {
   "cell_type": "markdown",
   "metadata": {},
   "source": [
    "## Factors"
   ]
  },
  {
   "cell_type": "markdown",
   "metadata": {},
   "source": [
    "Factors are used to represent categorical data and can be unordered or ordered. One can think of\n",
    "a factor as an integer vector where each integer has a label. Factors are important in statistical\n",
    "modeling and are treated specially by modelling functions like lm() and glm().\n",
    "Using factors with labels is better than using integers because factors are self-describing. Having a\n",
    "variable that has values “Male” and “Female” is better than a variable that has values 1 and 2.\n",
    "Factor objects can be created with the factor() function."
   ]
  },
  {
   "cell_type": "code",
   "execution_count": 18,
   "metadata": {
    "collapsed": false
   },
   "outputs": [
    {
     "data": {
      "text/html": [
       "<ol class=list-inline>\n",
       "\t<li>Yes</li>\n",
       "\t<li>Yes</li>\n",
       "\t<li>No</li>\n",
       "\t<li>Yes</li>\n",
       "\t<li>No</li>\n",
       "</ol>\n"
      ],
      "text/latex": [
       "\\begin{enumerate*}\n",
       "\\item Yes\n",
       "\\item Yes\n",
       "\\item No\n",
       "\\item Yes\n",
       "\\item No\n",
       "\\end{enumerate*}\n"
      ],
      "text/markdown": [
       "1. Yes\n",
       "2. Yes\n",
       "3. No\n",
       "4. Yes\n",
       "5. No\n",
       "\n",
       "\n"
      ],
      "text/plain": [
       "[1] Yes Yes No  Yes No \n",
       "Levels: No Yes"
      ]
     },
     "metadata": {},
     "output_type": "display_data"
    }
   ],
   "source": [
    "x <- factor(c(\"Yes\",\"Yes\",\"No\",\"Yes\",\"No\"))\n",
    "x"
   ]
  },
  {
   "cell_type": "code",
   "execution_count": 19,
   "metadata": {
    "collapsed": false
   },
   "outputs": [
    {
     "data": {
      "text/html": [
       "<ol class=list-inline>\n",
       "\t<li>'No'</li>\n",
       "\t<li>'Yes'</li>\n",
       "</ol>\n"
      ],
      "text/latex": [
       "\\begin{enumerate*}\n",
       "\\item 'No'\n",
       "\\item 'Yes'\n",
       "\\end{enumerate*}\n"
      ],
      "text/markdown": [
       "1. 'No'\n",
       "2. 'Yes'\n",
       "\n",
       "\n"
      ],
      "text/plain": [
       "[1] \"No\"  \"Yes\""
      ]
     },
     "metadata": {},
     "output_type": "display_data"
    }
   ],
   "source": [
    "levels(x)"
   ]
  },
  {
   "cell_type": "code",
   "execution_count": 21,
   "metadata": {
    "collapsed": false
   },
   "outputs": [
    {
     "data": {
      "text/plain": [
       "x\n",
       " No Yes \n",
       "  2   3 "
      ]
     },
     "metadata": {},
     "output_type": "display_data"
    }
   ],
   "source": [
    "table(x)"
   ]
  },
  {
   "cell_type": "markdown",
   "metadata": {},
   "source": [
    "Often factors will be automatically created for you when you read a dataset in using a function like\n",
    "read.table(). Those functions often default to creating factors when they encounter data that look\n",
    "like characters or strings.\n",
    "The order of the levels of a factor can be set using the levels argument to factor(). This can be\n",
    "important in linear modelling because the first level is used as the baseline level."
   ]
  },
  {
   "cell_type": "code",
   "execution_count": 23,
   "metadata": {
    "collapsed": false
   },
   "outputs": [
    {
     "data": {
      "text/html": [
       "<ol class=list-inline>\n",
       "\t<li>'Yes'</li>\n",
       "\t<li>'No'</li>\n",
       "</ol>\n"
      ],
      "text/latex": [
       "\\begin{enumerate*}\n",
       "\\item 'Yes'\n",
       "\\item 'No'\n",
       "\\end{enumerate*}\n"
      ],
      "text/markdown": [
       "1. 'Yes'\n",
       "2. 'No'\n",
       "\n",
       "\n"
      ],
      "text/plain": [
       "[1] \"Yes\" \"No\" "
      ]
     },
     "metadata": {},
     "output_type": "display_data"
    }
   ],
   "source": [
    "x <- factor(c(\"Yes\",\"Yes\",\"No\",\"Yes\",\"No\"), levels=c(\"Yes\",\"No\"))\n",
    "levels(x)"
   ]
  },
  {
   "cell_type": "markdown",
   "metadata": {},
   "source": [
    "## Missing Values"
   ]
  },
  {
   "cell_type": "markdown",
   "metadata": {},
   "source": [
    "Missing values are denoted by NA or NaN for q undefined mathematical operations.\n",
    " is.na() is used to test objects if they are NA\n",
    "• is.nan() is used to test for NaN\n",
    "• NA values have a class also, so there are integer NA, character NA, etc.\n",
    "• A NaN value is also NA but the converse is not true"
   ]
  },
  {
   "cell_type": "code",
   "execution_count": 24,
   "metadata": {
    "collapsed": false,
    "scrolled": true
   },
   "outputs": [
    {
     "data": {
      "text/html": [
       "<ol class=list-inline>\n",
       "\t<li>FALSE</li>\n",
       "\t<li>FALSE</li>\n",
       "\t<li>TRUE</li>\n",
       "\t<li>FALSE</li>\n",
       "\t<li>FALSE</li>\n",
       "</ol>\n"
      ],
      "text/latex": [
       "\\begin{enumerate*}\n",
       "\\item FALSE\n",
       "\\item FALSE\n",
       "\\item TRUE\n",
       "\\item FALSE\n",
       "\\item FALSE\n",
       "\\end{enumerate*}\n"
      ],
      "text/markdown": [
       "1. FALSE\n",
       "2. FALSE\n",
       "3. TRUE\n",
       "4. FALSE\n",
       "5. FALSE\n",
       "\n",
       "\n"
      ],
      "text/plain": [
       "[1] FALSE FALSE  TRUE FALSE FALSE"
      ]
     },
     "metadata": {},
     "output_type": "display_data"
    }
   ],
   "source": [
    "# create a vector with NAs in it\n",
    "x <- c(1,2,NA,10,3)\n",
    "# return logical vector indicating which elements are NA\n",
    "is.na(x)\n"
   ]
  },
  {
   "cell_type": "markdown",
   "metadata": {},
   "source": [
    "## Data Frames"
   ]
  },
  {
   "cell_type": "code",
   "execution_count": 25,
   "metadata": {
    "collapsed": false
   },
   "outputs": [
    {
     "data": {
      "text/html": [
       "<table>\n",
       "<thead><tr><th scope=col>f00</th><th scope=col>bar</th></tr></thead>\n",
       "<tbody>\n",
       "\t<tr><td>1    </td><td> TRUE</td></tr>\n",
       "\t<tr><td>2    </td><td> TRUE</td></tr>\n",
       "\t<tr><td>3    </td><td>FALSE</td></tr>\n",
       "\t<tr><td>4    </td><td>FALSE</td></tr>\n",
       "</tbody>\n",
       "</table>\n"
      ],
      "text/latex": [
       "\\begin{tabular}{r|ll}\n",
       " f00 & bar\\\\\n",
       "\\hline\n",
       "\t 1     &  TRUE\\\\\n",
       "\t 2     &  TRUE\\\\\n",
       "\t 3     & FALSE\\\\\n",
       "\t 4     & FALSE\\\\\n",
       "\\end{tabular}\n"
      ],
      "text/markdown": [
       "\n",
       "f00 | bar | \n",
       "|---|---|---|---|\n",
       "| 1     |  TRUE | \n",
       "| 2     |  TRUE | \n",
       "| 3     | FALSE | \n",
       "| 4     | FALSE | \n",
       "\n",
       "\n"
      ],
      "text/plain": [
       "  f00 bar  \n",
       "1 1    TRUE\n",
       "2 2    TRUE\n",
       "3 3   FALSE\n",
       "4 4   FALSE"
      ]
     },
     "metadata": {},
     "output_type": "display_data"
    }
   ],
   "source": [
    "x <- data.frame(f00=1:4, bar=c(T,T,F,F))\n",
    "x"
   ]
  },
  {
   "cell_type": "code",
   "execution_count": 26,
   "metadata": {
    "collapsed": false
   },
   "outputs": [
    {
     "data": {
      "text/html": [
       "4"
      ],
      "text/latex": [
       "4"
      ],
      "text/markdown": [
       "4"
      ],
      "text/plain": [
       "[1] 4"
      ]
     },
     "metadata": {},
     "output_type": "display_data"
    },
    {
     "data": {
      "text/html": [
       "2"
      ],
      "text/latex": [
       "2"
      ],
      "text/markdown": [
       "2"
      ],
      "text/plain": [
       "[1] 2"
      ]
     },
     "metadata": {},
     "output_type": "display_data"
    }
   ],
   "source": [
    "nrow(x)\n",
    "ncol(x)"
   ]
  },
  {
   "cell_type": "markdown",
   "metadata": {},
   "source": [
    "## Names"
   ]
  },
  {
   "cell_type": "code",
   "execution_count": 27,
   "metadata": {
    "collapsed": false
   },
   "outputs": [
    {
     "data": {
      "text/plain": [
       "NULL"
      ]
     },
     "metadata": {},
     "output_type": "display_data"
    }
   ],
   "source": [
    "x <- 1:3\n",
    "names(x)"
   ]
  },
  {
   "cell_type": "code",
   "execution_count": 28,
   "metadata": {
    "collapsed": false
   },
   "outputs": [
    {
     "data": {
      "text/html": [
       "<dl class=dl-horizontal>\n",
       "\t<dt>New York</dt>\n",
       "\t\t<dd>1</dd>\n",
       "\t<dt>Seattle</dt>\n",
       "\t\t<dd>2</dd>\n",
       "\t<dt>Los Angeles</dt>\n",
       "\t\t<dd>3</dd>\n",
       "</dl>\n"
      ],
      "text/latex": [
       "\\begin{description*}\n",
       "\\item[New York] 1\n",
       "\\item[Seattle] 2\n",
       "\\item[Los Angeles] 3\n",
       "\\end{description*}\n"
      ],
      "text/markdown": [
       "New York\n",
       ":   1Seattle\n",
       ":   2Los Angeles\n",
       ":   3\n",
       "\n"
      ],
      "text/plain": [
       "   New York     Seattle Los Angeles \n",
       "          1           2           3 "
      ]
     },
     "metadata": {},
     "output_type": "display_data"
    }
   ],
   "source": [
    "names(x) <- c(\"New York\", \"Seattle\", \"Los Angeles\")\n",
    "x"
   ]
  },
  {
   "cell_type": "markdown",
   "metadata": {},
   "source": [
    "## Reading Data Files with read.table()"
   ]
  },
  {
   "cell_type": "code",
   "execution_count": null,
   "metadata": {
    "collapsed": true
   },
   "outputs": [],
   "source": []
  },
  {
   "cell_type": "markdown",
   "metadata": {},
   "source": [
    "## Subsetting a Vector"
   ]
  },
  {
   "cell_type": "code",
   "execution_count": 30,
   "metadata": {
    "collapsed": false
   },
   "outputs": [
    {
     "data": {
      "text/html": [
       "'a'"
      ],
      "text/latex": [
       "'a'"
      ],
      "text/markdown": [
       "'a'"
      ],
      "text/plain": [
       "[1] \"a\""
      ]
     },
     "metadata": {},
     "output_type": "display_data"
    },
    {
     "data": {
      "text/html": [
       "'b'"
      ],
      "text/latex": [
       "'b'"
      ],
      "text/markdown": [
       "'b'"
      ],
      "text/plain": [
       "[1] \"b\""
      ]
     },
     "metadata": {},
     "output_type": "display_data"
    }
   ],
   "source": [
    "x <- c(\"a\",\"b\",\"c\",\"c\",\"d\",\"a\")\n",
    "x[1] # first element\n",
    "x[2]  # second element"
   ]
  },
  {
   "cell_type": "code",
   "execution_count": 31,
   "metadata": {
    "collapsed": false
   },
   "outputs": [
    {
     "data": {
      "text/html": [
       "<ol class=list-inline>\n",
       "\t<li>'a'</li>\n",
       "\t<li>'b'</li>\n",
       "\t<li>'c'</li>\n",
       "\t<li>'c'</li>\n",
       "</ol>\n"
      ],
      "text/latex": [
       "\\begin{enumerate*}\n",
       "\\item 'a'\n",
       "\\item 'b'\n",
       "\\item 'c'\n",
       "\\item 'c'\n",
       "\\end{enumerate*}\n"
      ],
      "text/markdown": [
       "1. 'a'\n",
       "2. 'b'\n",
       "3. 'c'\n",
       "4. 'c'\n",
       "\n",
       "\n"
      ],
      "text/plain": [
       "[1] \"a\" \"b\" \"c\" \"c\""
      ]
     },
     "metadata": {},
     "output_type": "display_data"
    }
   ],
   "source": [
    "x[1:4]  # first to 4th element"
   ]
  },
  {
   "cell_type": "code",
   "execution_count": 33,
   "metadata": {
    "collapsed": false
   },
   "outputs": [
    {
     "data": {
      "text/html": [
       "<ol class=list-inline>\n",
       "\t<li>FALSE</li>\n",
       "\t<li>TRUE</li>\n",
       "\t<li>TRUE</li>\n",
       "\t<li>TRUE</li>\n",
       "\t<li>TRUE</li>\n",
       "\t<li>FALSE</li>\n",
       "</ol>\n"
      ],
      "text/latex": [
       "\\begin{enumerate*}\n",
       "\\item FALSE\n",
       "\\item TRUE\n",
       "\\item TRUE\n",
       "\\item TRUE\n",
       "\\item TRUE\n",
       "\\item FALSE\n",
       "\\end{enumerate*}\n"
      ],
      "text/markdown": [
       "1. FALSE\n",
       "2. TRUE\n",
       "3. TRUE\n",
       "4. TRUE\n",
       "5. TRUE\n",
       "6. FALSE\n",
       "\n",
       "\n"
      ],
      "text/plain": [
       "[1] FALSE  TRUE  TRUE  TRUE  TRUE FALSE"
      ]
     },
     "metadata": {},
     "output_type": "display_data"
    }
   ],
   "source": [
    "u <- x > \"a\"\n",
    "u"
   ]
  },
  {
   "cell_type": "markdown",
   "metadata": {},
   "source": [
    "## Removing NA values"
   ]
  },
  {
   "cell_type": "code",
   "execution_count": 34,
   "metadata": {
    "collapsed": false
   },
   "outputs": [
    {
     "name": "stdout",
     "output_type": "stream",
     "text": [
      "[1] FALSE FALSE  TRUE FALSE  TRUE FALSE\n"
     ]
    }
   ],
   "source": [
    "x <- c(1, 2, NA, 4, NA, 5)\n",
    "bad <- is.na(x)\n",
    "print(bad)"
   ]
  },
  {
   "cell_type": "code",
   "execution_count": 35,
   "metadata": {
    "collapsed": false
   },
   "outputs": [
    {
     "data": {
      "text/html": [
       "<ol class=list-inline>\n",
       "\t<li>1</li>\n",
       "\t<li>2</li>\n",
       "\t<li>4</li>\n",
       "\t<li>5</li>\n",
       "</ol>\n"
      ],
      "text/latex": [
       "\\begin{enumerate*}\n",
       "\\item 1\n",
       "\\item 2\n",
       "\\item 4\n",
       "\\item 5\n",
       "\\end{enumerate*}\n"
      ],
      "text/markdown": [
       "1. 1\n",
       "2. 2\n",
       "3. 4\n",
       "4. 5\n",
       "\n",
       "\n"
      ],
      "text/plain": [
       "[1] 1 2 4 5"
      ]
     },
     "metadata": {},
     "output_type": "display_data"
    }
   ],
   "source": [
    "x[!bad]"
   ]
  },
  {
   "cell_type": "code",
   "execution_count": 36,
   "metadata": {
    "collapsed": false
   },
   "outputs": [
    {
     "data": {
      "text/html": [
       "<table>\n",
       "<thead><tr><th scope=col>Ozone</th><th scope=col>Solar.R</th><th scope=col>Wind</th><th scope=col>Temp</th><th scope=col>Month</th><th scope=col>Day</th></tr></thead>\n",
       "<tbody>\n",
       "\t<tr><td>41  </td><td>190 </td><td> 7.4</td><td>67  </td><td>5   </td><td>1   </td></tr>\n",
       "\t<tr><td>36  </td><td>118 </td><td> 8.0</td><td>72  </td><td>5   </td><td>2   </td></tr>\n",
       "\t<tr><td>12  </td><td>149 </td><td>12.6</td><td>74  </td><td>5   </td><td>3   </td></tr>\n",
       "\t<tr><td>18  </td><td>313 </td><td>11.5</td><td>62  </td><td>5   </td><td>4   </td></tr>\n",
       "\t<tr><td>NA  </td><td> NA </td><td>14.3</td><td>56  </td><td>5   </td><td>5   </td></tr>\n",
       "\t<tr><td>28  </td><td> NA </td><td>14.9</td><td>66  </td><td>5   </td><td>6   </td></tr>\n",
       "</tbody>\n",
       "</table>\n"
      ],
      "text/latex": [
       "\\begin{tabular}{r|llllll}\n",
       " Ozone & Solar.R & Wind & Temp & Month & Day\\\\\n",
       "\\hline\n",
       "\t 41   & 190  &  7.4 & 67   & 5    & 1   \\\\\n",
       "\t 36   & 118  &  8.0 & 72   & 5    & 2   \\\\\n",
       "\t 12   & 149  & 12.6 & 74   & 5    & 3   \\\\\n",
       "\t 18   & 313  & 11.5 & 62   & 5    & 4   \\\\\n",
       "\t NA   &  NA  & 14.3 & 56   & 5    & 5   \\\\\n",
       "\t 28   &  NA  & 14.9 & 66   & 5    & 6   \\\\\n",
       "\\end{tabular}\n"
      ],
      "text/markdown": [
       "\n",
       "Ozone | Solar.R | Wind | Temp | Month | Day | \n",
       "|---|---|---|---|---|---|\n",
       "| 41   | 190  |  7.4 | 67   | 5    | 1    | \n",
       "| 36   | 118  |  8.0 | 72   | 5    | 2    | \n",
       "| 12   | 149  | 12.6 | 74   | 5    | 3    | \n",
       "| 18   | 313  | 11.5 | 62   | 5    | 4    | \n",
       "| NA   |  NA  | 14.3 | 56   | 5    | 5    | \n",
       "| 28   |  NA  | 14.9 | 66   | 5    | 6    | \n",
       "\n",
       "\n"
      ],
      "text/plain": [
       "  Ozone Solar.R Wind Temp Month Day\n",
       "1 41    190      7.4 67   5     1  \n",
       "2 36    118      8.0 72   5     2  \n",
       "3 12    149     12.6 74   5     3  \n",
       "4 18    313     11.5 62   5     4  \n",
       "5 NA     NA     14.3 56   5     5  \n",
       "6 28     NA     14.9 66   5     6  "
      ]
     },
     "metadata": {},
     "output_type": "display_data"
    }
   ],
   "source": [
    "head(airquality)"
   ]
  },
  {
   "cell_type": "code",
   "execution_count": 38,
   "metadata": {
    "collapsed": false
   },
   "outputs": [
    {
     "data": {
      "text/html": [
       "<table>\n",
       "<thead><tr><th></th><th scope=col>Ozone</th><th scope=col>Solar.R</th><th scope=col>Wind</th><th scope=col>Temp</th><th scope=col>Month</th><th scope=col>Day</th></tr></thead>\n",
       "<tbody>\n",
       "\t<tr><th scope=row>1</th><td>41  </td><td>190 </td><td> 7.4</td><td>67  </td><td>5   </td><td>1   </td></tr>\n",
       "\t<tr><th scope=row>2</th><td>36  </td><td>118 </td><td> 8.0</td><td>72  </td><td>5   </td><td>2   </td></tr>\n",
       "\t<tr><th scope=row>3</th><td>12  </td><td>149 </td><td>12.6</td><td>74  </td><td>5   </td><td>3   </td></tr>\n",
       "\t<tr><th scope=row>4</th><td>18  </td><td>313 </td><td>11.5</td><td>62  </td><td>5   </td><td>4   </td></tr>\n",
       "\t<tr><th scope=row>7</th><td>23  </td><td>299 </td><td> 8.6</td><td>65  </td><td>5   </td><td>7   </td></tr>\n",
       "\t<tr><th scope=row>8</th><td>19  </td><td> 99 </td><td>13.8</td><td>59  </td><td>5   </td><td>8   </td></tr>\n",
       "</tbody>\n",
       "</table>\n"
      ],
      "text/latex": [
       "\\begin{tabular}{r|llllll}\n",
       "  & Ozone & Solar.R & Wind & Temp & Month & Day\\\\\n",
       "\\hline\n",
       "\t1 & 41   & 190  &  7.4 & 67   & 5    & 1   \\\\\n",
       "\t2 & 36   & 118  &  8.0 & 72   & 5    & 2   \\\\\n",
       "\t3 & 12   & 149  & 12.6 & 74   & 5    & 3   \\\\\n",
       "\t4 & 18   & 313  & 11.5 & 62   & 5    & 4   \\\\\n",
       "\t7 & 23   & 299  &  8.6 & 65   & 5    & 7   \\\\\n",
       "\t8 & 19   &  99  & 13.8 & 59   & 5    & 8   \\\\\n",
       "\\end{tabular}\n"
      ],
      "text/markdown": [
       "\n",
       "| <!--/--> | Ozone | Solar.R | Wind | Temp | Month | Day | \n",
       "|---|---|---|---|---|---|\n",
       "| 1 | 41   | 190  |  7.4 | 67   | 5    | 1    | \n",
       "| 2 | 36   | 118  |  8.0 | 72   | 5    | 2    | \n",
       "| 3 | 12   | 149  | 12.6 | 74   | 5    | 3    | \n",
       "| 4 | 18   | 313  | 11.5 | 62   | 5    | 4    | \n",
       "| 7 | 23   | 299  |  8.6 | 65   | 5    | 7    | \n",
       "| 8 | 19   |  99  | 13.8 | 59   | 5    | 8    | \n",
       "\n",
       "\n"
      ],
      "text/plain": [
       "  Ozone Solar.R Wind Temp Month Day\n",
       "1 41    190      7.4 67   5     1  \n",
       "2 36    118      8.0 72   5     2  \n",
       "3 12    149     12.6 74   5     3  \n",
       "4 18    313     11.5 62   5     4  \n",
       "7 23    299      8.6 65   5     7  \n",
       "8 19     99     13.8 59   5     8  "
      ]
     },
     "metadata": {},
     "output_type": "display_data"
    }
   ],
   "source": [
    "# we can use complete.cases on dataframes to eliminate missing values which returns logicals\n",
    "good <- complete.cases(airquality)\n",
    "head(airquality[good,])"
   ]
  },
  {
   "cell_type": "markdown",
   "metadata": {},
   "source": [
    "## Vectorized operations"
   ]
  },
  {
   "cell_type": "markdown",
   "metadata": {},
   "source": [
    "Many operations in R are vectorized, meaning that operations occur in parallel in certain R objects.\n",
    "This allows you to write code that is efficient, concise, and easier to read than in non-vectorized\n",
    "languages."
   ]
  },
  {
   "cell_type": "code",
   "execution_count": 40,
   "metadata": {
    "collapsed": false
   },
   "outputs": [
    {
     "data": {
      "text/html": [
       "<ol class=list-inline>\n",
       "\t<li>7</li>\n",
       "\t<li>9</li>\n",
       "\t<li>11</li>\n",
       "\t<li>13</li>\n",
       "</ol>\n"
      ],
      "text/latex": [
       "\\begin{enumerate*}\n",
       "\\item 7\n",
       "\\item 9\n",
       "\\item 11\n",
       "\\item 13\n",
       "\\end{enumerate*}\n"
      ],
      "text/markdown": [
       "1. 7\n",
       "2. 9\n",
       "3. 11\n",
       "4. 13\n",
       "\n",
       "\n"
      ],
      "text/plain": [
       "[1]  7  9 11 13"
      ]
     },
     "metadata": {},
     "output_type": "display_data"
    }
   ],
   "source": [
    "x <- 1:4\n",
    "y <- 6:9\n",
    "z <- x+y\n",
    "z"
   ]
  },
  {
   "cell_type": "code",
   "execution_count": 41,
   "metadata": {
    "collapsed": false
   },
   "outputs": [
    {
     "data": {
      "text/html": [
       "<ol class=list-inline>\n",
       "\t<li>FALSE</li>\n",
       "\t<li>FALSE</li>\n",
       "\t<li>TRUE</li>\n",
       "\t<li>TRUE</li>\n",
       "</ol>\n"
      ],
      "text/latex": [
       "\\begin{enumerate*}\n",
       "\\item FALSE\n",
       "\\item FALSE\n",
       "\\item TRUE\n",
       "\\item TRUE\n",
       "\\end{enumerate*}\n"
      ],
      "text/markdown": [
       "1. FALSE\n",
       "2. FALSE\n",
       "3. TRUE\n",
       "4. TRUE\n",
       "\n",
       "\n"
      ],
      "text/plain": [
       "[1] FALSE FALSE  TRUE  TRUE"
      ]
     },
     "metadata": {},
     "output_type": "display_data"
    }
   ],
   "source": [
    "x > 2"
   ]
  },
  {
   "cell_type": "markdown",
   "metadata": {},
   "source": [
    "## Managing DataFrames with the DPLYR package"
   ]
  },
  {
   "cell_type": "markdown",
   "metadata": {},
   "source": [
    "Some of the key “verbs” provided by the dplyr package are\n",
    "1. select: return a subset of the columns of a data frame, using a f lexible notation\n",
    "2. filter: extract a subset of rows from a data frame based on logical conditions\n",
    "3. arrange: reorder rows of a data frame\n",
    "4. rename: rename variables in a data frame\n",
    "5. mutate: add new variables/columns or transform existing variables\n",
    "6. summarise / summarize: generate summary statistics of different variables in the data frame,\n",
    "possibly within strata\n",
    "7• %>%: the “pipe” operator is used to connect multiple verb actions together into a pipeline"
   ]
  },
  {
   "cell_type": "markdown",
   "metadata": {},
   "source": [
    "## Common dplyr Function Properties"
   ]
  },
  {
   "cell_type": "markdown",
   "metadata": {},
   "source": [
    "All of the functions that we will discuss in this Chapter will have a few common characteristics. In\n",
    "particular,\n",
    "1. The first argument is a data frame.\n",
    "2. The subsequent arguments describe what to do with the data frame specified in the first\n",
    "argument, and you can refer to columns in the data frame directly without using the $ operator\n",
    "( just use the column names).\n",
    "3. The return result of a function is a new data frame\n",
    "4. Data frames must be properly formatted and annotated for this to all be useful. In particular,\n",
    "the data must be tidy⁵². In short, there should be one observation per row, and each column\n",
    "should represent a feature or characteristic of that observation."
   ]
  },
  {
   "cell_type": "code",
   "execution_count": 42,
   "metadata": {
    "collapsed": false
   },
   "outputs": [
    {
     "name": "stderr",
     "output_type": "stream",
     "text": [
      "\n",
      "Attaching package: 'dplyr'\n",
      "\n",
      "The following objects are masked from 'package:stats':\n",
      "\n",
      "    filter, lag\n",
      "\n",
      "The following objects are masked from 'package:base':\n",
      "\n",
      "    intersect, setdiff, setequal, union\n",
      "\n"
     ]
    }
   ],
   "source": [
    "library(dplyr)"
   ]
  },
  {
   "cell_type": "code",
   "execution_count": 43,
   "metadata": {
    "collapsed": false
   },
   "outputs": [
    {
     "data": {
      "text/html": [
       "<ol class=list-inline>\n",
       "\t<li>6940</li>\n",
       "\t<li>8</li>\n",
       "</ol>\n"
      ],
      "text/latex": [
       "\\begin{enumerate*}\n",
       "\\item 6940\n",
       "\\item 8\n",
       "\\end{enumerate*}\n"
      ],
      "text/markdown": [
       "1. 6940\n",
       "2. 8\n",
       "\n",
       "\n"
      ],
      "text/plain": [
       "[1] 6940    8"
      ]
     },
     "metadata": {},
     "output_type": "display_data"
    }
   ],
   "source": [
    "chicago <- readRDS(\"chicago.rds\")\n",
    "dim(chicago)"
   ]
  },
  {
   "cell_type": "code",
   "execution_count": 45,
   "metadata": {
    "collapsed": false
   },
   "outputs": [
    {
     "name": "stdout",
     "output_type": "stream",
     "text": [
      "'data.frame':\t6940 obs. of  8 variables:\n",
      " $ city      : chr  \"chic\" \"chic\" \"chic\" \"chic\" ...\n",
      " $ tmpd      : num  31.5 33 33 29 32 40 34.5 29 26.5 32.5 ...\n",
      " $ dptp      : num  31.5 29.9 27.4 28.6 28.9 ...\n",
      " $ date      : Date, format: \"1987-01-01\" \"1987-01-02\" ...\n",
      " $ pm25tmean2: num  NA NA NA NA NA NA NA NA NA NA ...\n",
      " $ pm10tmean2: num  34 NA 34.2 47 NA ...\n",
      " $ o3tmean2  : num  4.25 3.3 3.33 4.38 4.75 ...\n",
      " $ no2tmean2 : num  20 23.2 23.8 30.4 30.3 ...\n"
     ]
    }
   ],
   "source": [
    "# display structure of dataFrame\n",
    "str(chicago)"
   ]
  },
  {
   "cell_type": "markdown",
   "metadata": {},
   "source": [
    "The select() function can be used to select columns of a data frame that you want to focus on.\n",
    "Often you’ll have a large data frame containing “all” of the data, but any given analysis might only\n",
    "use a subset of variables or observations. The select() function allows you to get the few columns\n",
    "you might need.\n",
    "Suppose we wanted to take the first 3 columns only. There are a few ways to do this. We could for\n",
    "example use numerical indices. But we can also use the names directly."
   ]
  },
  {
   "cell_type": "code",
   "execution_count": 46,
   "metadata": {
    "collapsed": false
   },
   "outputs": [
    {
     "data": {
      "text/html": [
       "<ol class=list-inline>\n",
       "\t<li>'city'</li>\n",
       "\t<li>'tmpd'</li>\n",
       "\t<li>'dptp'</li>\n",
       "</ol>\n"
      ],
      "text/latex": [
       "\\begin{enumerate*}\n",
       "\\item 'city'\n",
       "\\item 'tmpd'\n",
       "\\item 'dptp'\n",
       "\\end{enumerate*}\n"
      ],
      "text/markdown": [
       "1. 'city'\n",
       "2. 'tmpd'\n",
       "3. 'dptp'\n",
       "\n",
       "\n"
      ],
      "text/plain": [
       "[1] \"city\" \"tmpd\" \"dptp\""
      ]
     },
     "metadata": {},
     "output_type": "display_data"
    }
   ],
   "source": [
    "names(chicago)[1:3]"
   ]
  },
  {
   "cell_type": "code",
   "execution_count": 48,
   "metadata": {
    "collapsed": false
   },
   "outputs": [
    {
     "data": {
      "text/html": [
       "<table>\n",
       "<thead><tr><th scope=col>city</th><th scope=col>tmpd</th><th scope=col>dptp</th></tr></thead>\n",
       "<tbody>\n",
       "\t<tr><td>chic  </td><td>31.5  </td><td>31.500</td></tr>\n",
       "\t<tr><td>chic  </td><td>33.0  </td><td>29.875</td></tr>\n",
       "\t<tr><td>chic  </td><td>33.0  </td><td>27.375</td></tr>\n",
       "\t<tr><td>chic  </td><td>29.0  </td><td>28.625</td></tr>\n",
       "\t<tr><td>chic  </td><td>32.0  </td><td>28.875</td></tr>\n",
       "\t<tr><td>chic  </td><td>40.0  </td><td>35.125</td></tr>\n",
       "</tbody>\n",
       "</table>\n"
      ],
      "text/latex": [
       "\\begin{tabular}{r|lll}\n",
       " city & tmpd & dptp\\\\\n",
       "\\hline\n",
       "\t chic   & 31.5   & 31.500\\\\\n",
       "\t chic   & 33.0   & 29.875\\\\\n",
       "\t chic   & 33.0   & 27.375\\\\\n",
       "\t chic   & 29.0   & 28.625\\\\\n",
       "\t chic   & 32.0   & 28.875\\\\\n",
       "\t chic   & 40.0   & 35.125\\\\\n",
       "\\end{tabular}\n"
      ],
      "text/markdown": [
       "\n",
       "city | tmpd | dptp | \n",
       "|---|---|---|---|---|---|\n",
       "| chic   | 31.5   | 31.500 | \n",
       "| chic   | 33.0   | 29.875 | \n",
       "| chic   | 33.0   | 27.375 | \n",
       "| chic   | 29.0   | 28.625 | \n",
       "| chic   | 32.0   | 28.875 | \n",
       "| chic   | 40.0   | 35.125 | \n",
       "\n",
       "\n"
      ],
      "text/plain": [
       "  city tmpd dptp  \n",
       "1 chic 31.5 31.500\n",
       "2 chic 33.0 29.875\n",
       "3 chic 33.0 27.375\n",
       "4 chic 29.0 28.625\n",
       "5 chic 32.0 28.875\n",
       "6 chic 40.0 35.125"
      ]
     },
     "metadata": {},
     "output_type": "display_data"
    }
   ],
   "source": [
    "subset <- select(chicago, city:dptp)\n",
    "head(subset)"
   ]
  },
  {
   "cell_type": "markdown",
   "metadata": {},
   "source": [
    "Note that the : normally cannot be used with names or strings, but inside the select() function\n",
    "you can use it to specify a range of variable names.\n",
    "You can also omit variables using the select() function by using the negative sign. With select()\n",
    "you can do"
   ]
  },
  {
   "cell_type": "code",
   "execution_count": 49,
   "metadata": {
    "collapsed": false
   },
   "outputs": [
    {
     "data": {
      "text/html": [
       "<table>\n",
       "<thead><tr><th scope=col>date</th><th scope=col>pm25tmean2</th><th scope=col>pm10tmean2</th><th scope=col>o3tmean2</th><th scope=col>no2tmean2</th></tr></thead>\n",
       "<tbody>\n",
       "\t<tr><td>1987-01-01</td><td>NA        </td><td>34.00000  </td><td> 4.250000 </td><td>19.98810  </td></tr>\n",
       "\t<tr><td>1987-01-02</td><td>NA        </td><td>      NA  </td><td> 3.304348 </td><td>23.19099  </td></tr>\n",
       "\t<tr><td>1987-01-03</td><td>NA        </td><td>34.16667  </td><td> 3.333333 </td><td>23.81548  </td></tr>\n",
       "\t<tr><td>1987-01-04</td><td>NA        </td><td>47.00000  </td><td> 4.375000 </td><td>30.43452  </td></tr>\n",
       "\t<tr><td>1987-01-05</td><td>NA        </td><td>      NA  </td><td> 4.750000 </td><td>30.33333  </td></tr>\n",
       "\t<tr><td>1987-01-06</td><td>NA        </td><td>48.00000  </td><td> 5.833333 </td><td>25.77233  </td></tr>\n",
       "\t<tr><td>1987-01-07</td><td>NA        </td><td>41.00000  </td><td> 9.291667 </td><td>20.58171  </td></tr>\n",
       "\t<tr><td>1987-01-08</td><td>NA        </td><td>36.00000  </td><td>11.291667 </td><td>17.03723  </td></tr>\n",
       "\t<tr><td>1987-01-09</td><td>NA        </td><td>33.28571  </td><td> 4.500000 </td><td>23.38889  </td></tr>\n",
       "\t<tr><td>1987-01-10</td><td>NA        </td><td>      NA  </td><td> 4.958333 </td><td>19.54167  </td></tr>\n",
       "\t<tr><td>1987-01-11</td><td>NA        </td><td>22.00000  </td><td>17.541667 </td><td>13.70139  </td></tr>\n",
       "\t<tr><td>1987-01-12</td><td>NA        </td><td>26.00000  </td><td> 8.000000 </td><td>33.02083  </td></tr>\n",
       "\t<tr><td>1987-01-13</td><td>NA        </td><td>53.00000  </td><td> 4.958333 </td><td>38.06142  </td></tr>\n",
       "\t<tr><td>1987-01-14</td><td>NA        </td><td>43.00000  </td><td> 4.208333 </td><td>32.19444  </td></tr>\n",
       "\t<tr><td>1987-01-15</td><td>NA        </td><td>28.83333  </td><td> 4.458333 </td><td>18.87131  </td></tr>\n",
       "\t<tr><td>1987-01-16</td><td>NA        </td><td>19.00000  </td><td> 7.916667 </td><td>19.46667  </td></tr>\n",
       "\t<tr><td>1987-01-17</td><td>NA        </td><td>      NA  </td><td> 5.833333 </td><td>20.70833  </td></tr>\n",
       "\t<tr><td>1987-01-18</td><td>NA        </td><td>39.00000  </td><td> 6.375000 </td><td>21.03333  </td></tr>\n",
       "\t<tr><td>1987-01-19</td><td>NA        </td><td>32.00000  </td><td>14.875000 </td><td>17.17409  </td></tr>\n",
       "\t<tr><td>1987-01-20</td><td>NA        </td><td>38.00000  </td><td> 7.250000 </td><td>21.61021  </td></tr>\n",
       "\t<tr><td>1987-01-21</td><td>NA        </td><td>32.85714  </td><td> 8.913043 </td><td>24.52083  </td></tr>\n",
       "\t<tr><td>1987-01-22</td><td>NA        </td><td>52.00000  </td><td>10.500000 </td><td>16.98798  </td></tr>\n",
       "\t<tr><td>1987-01-23</td><td>NA        </td><td>55.00000  </td><td>14.625000 </td><td>14.66250  </td></tr>\n",
       "\t<tr><td>1987-01-24</td><td>NA        </td><td>38.00000  </td><td>10.083333 </td><td>18.69167  </td></tr>\n",
       "\t<tr><td>1987-01-25</td><td>NA        </td><td>      NA  </td><td> 6.666667 </td><td>26.30417  </td></tr>\n",
       "\t<tr><td>1987-01-26</td><td>NA        </td><td>71.00000  </td><td> 4.583333 </td><td>32.42143  </td></tr>\n",
       "\t<tr><td>1987-01-27</td><td>NA        </td><td>39.33333  </td><td> 6.000000 </td><td>30.69306  </td></tr>\n",
       "\t<tr><td>1987-01-28</td><td>NA        </td><td>47.00000  </td><td> 6.875000 </td><td>29.12943  </td></tr>\n",
       "\t<tr><td>1987-01-29</td><td>NA        </td><td>35.00000  </td><td> 2.916667 </td><td>28.14529  </td></tr>\n",
       "\t<tr><td>1987-01-30</td><td>NA        </td><td>59.00000  </td><td> 8.791667 </td><td>19.79861  </td></tr>\n",
       "\t<tr><td>...</td><td>...</td><td>...</td><td>...</td><td>...</td></tr>\n",
       "\t<tr><td>2005-12-02</td><td>      NA  </td><td>19.50     </td><td> 9.156250 </td><td>23.29167  </td></tr>\n",
       "\t<tr><td>2005-12-03</td><td>13.34286  </td><td>20.00     </td><td>10.333333 </td><td>25.19444  </td></tr>\n",
       "\t<tr><td>2005-12-04</td><td>15.30000  </td><td>15.50     </td><td>13.177083 </td><td>21.70833  </td></tr>\n",
       "\t<tr><td>2005-12-05</td><td>      NA  </td><td>30.00     </td><td> 6.447917 </td><td>28.38889  </td></tr>\n",
       "\t<tr><td>2005-12-06</td><td>24.61667  </td><td>33.00     </td><td> 4.701540 </td><td>29.08333  </td></tr>\n",
       "\t<tr><td>2005-12-07</td><td>37.80000  </td><td>39.00     </td><td> 3.916214 </td><td>34.30952  </td></tr>\n",
       "\t<tr><td>2005-12-08</td><td>24.30000  </td><td>31.00     </td><td> 5.995265 </td><td>34.22222  </td></tr>\n",
       "\t<tr><td>2005-12-09</td><td>25.45000  </td><td>22.00     </td><td> 5.958333 </td><td>31.41667  </td></tr>\n",
       "\t<tr><td>2005-12-10</td><td>18.20000  </td><td>30.00     </td><td> 9.135417 </td><td>28.70833  </td></tr>\n",
       "\t<tr><td>2005-12-11</td><td>10.60000  </td><td>14.00     </td><td>11.333333 </td><td>22.55556  </td></tr>\n",
       "\t<tr><td>2005-12-12</td><td>19.22500  </td><td>28.75     </td><td> 5.031250 </td><td>39.74621  </td></tr>\n",
       "\t<tr><td>2005-12-13</td><td>26.50000  </td><td>21.00     </td><td> 6.628623 </td><td>29.56944  </td></tr>\n",
       "\t<tr><td>2005-12-14</td><td>26.90000  </td><td>16.00     </td><td> 3.802083 </td><td>30.63384  </td></tr>\n",
       "\t<tr><td>2005-12-15</td><td>14.40000  </td><td>16.50     </td><td> 4.895833 </td><td>25.43056  </td></tr>\n",
       "\t<tr><td>2005-12-16</td><td>11.00000  </td><td>22.00     </td><td>11.166667 </td><td>16.87500  </td></tr>\n",
       "\t<tr><td>2005-12-17</td><td>13.80000  </td><td>20.00     </td><td> 8.593750 </td><td>20.73611  </td></tr>\n",
       "\t<tr><td>2005-12-18</td><td>12.20000  </td><td>17.50     </td><td>13.552083 </td><td>19.11111  </td></tr>\n",
       "\t<tr><td>2005-12-19</td><td>21.15000  </td><td>21.00     </td><td> 8.058877 </td><td>31.79167  </td></tr>\n",
       "\t<tr><td>2005-12-20</td><td>25.75000  </td><td>32.00     </td><td> 3.849185 </td><td>32.89773  </td></tr>\n",
       "\t<tr><td>2005-12-21</td><td>37.92857  </td><td>59.50     </td><td> 3.663949 </td><td>34.86111  </td></tr>\n",
       "\t<tr><td>2005-12-22</td><td>36.65000  </td><td>42.50     </td><td> 5.385417 </td><td>33.73026  </td></tr>\n",
       "\t<tr><td>2005-12-23</td><td>32.90000  </td><td>34.50     </td><td> 6.906250 </td><td>29.08333  </td></tr>\n",
       "\t<tr><td>2005-12-24</td><td>30.77143  </td><td>25.20     </td><td> 1.770833 </td><td>31.98611  </td></tr>\n",
       "\t<tr><td>2005-12-25</td><td> 6.70000  </td><td> 8.00     </td><td>14.354167 </td><td>13.79167  </td></tr>\n",
       "\t<tr><td>2005-12-26</td><td> 8.40000  </td><td> 8.50     </td><td>14.041667 </td><td>16.81944  </td></tr>\n",
       "\t<tr><td>2005-12-27</td><td>23.56000  </td><td>27.00     </td><td> 4.468750 </td><td>23.50000  </td></tr>\n",
       "\t<tr><td>2005-12-28</td><td>17.75000  </td><td>27.50     </td><td> 3.260417 </td><td>19.28563  </td></tr>\n",
       "\t<tr><td>2005-12-29</td><td> 7.45000  </td><td>23.50     </td><td> 6.794837 </td><td>19.97222  </td></tr>\n",
       "\t<tr><td>2005-12-30</td><td>15.05714  </td><td>19.20     </td><td> 3.034420 </td><td>22.80556  </td></tr>\n",
       "\t<tr><td>2005-12-31</td><td>15.00000  </td><td>23.50     </td><td> 2.531250 </td><td>13.25000  </td></tr>\n",
       "</tbody>\n",
       "</table>\n"
      ],
      "text/latex": [
       "\\begin{tabular}{r|lllll}\n",
       " date & pm25tmean2 & pm10tmean2 & o3tmean2 & no2tmean2\\\\\n",
       "\\hline\n",
       "\t 1987-01-01 & NA         & 34.00000   &  4.250000  & 19.98810  \\\\\n",
       "\t 1987-01-02 & NA         &       NA   &  3.304348  & 23.19099  \\\\\n",
       "\t 1987-01-03 & NA         & 34.16667   &  3.333333  & 23.81548  \\\\\n",
       "\t 1987-01-04 & NA         & 47.00000   &  4.375000  & 30.43452  \\\\\n",
       "\t 1987-01-05 & NA         &       NA   &  4.750000  & 30.33333  \\\\\n",
       "\t 1987-01-06 & NA         & 48.00000   &  5.833333  & 25.77233  \\\\\n",
       "\t 1987-01-07 & NA         & 41.00000   &  9.291667  & 20.58171  \\\\\n",
       "\t 1987-01-08 & NA         & 36.00000   & 11.291667  & 17.03723  \\\\\n",
       "\t 1987-01-09 & NA         & 33.28571   &  4.500000  & 23.38889  \\\\\n",
       "\t 1987-01-10 & NA         &       NA   &  4.958333  & 19.54167  \\\\\n",
       "\t 1987-01-11 & NA         & 22.00000   & 17.541667  & 13.70139  \\\\\n",
       "\t 1987-01-12 & NA         & 26.00000   &  8.000000  & 33.02083  \\\\\n",
       "\t 1987-01-13 & NA         & 53.00000   &  4.958333  & 38.06142  \\\\\n",
       "\t 1987-01-14 & NA         & 43.00000   &  4.208333  & 32.19444  \\\\\n",
       "\t 1987-01-15 & NA         & 28.83333   &  4.458333  & 18.87131  \\\\\n",
       "\t 1987-01-16 & NA         & 19.00000   &  7.916667  & 19.46667  \\\\\n",
       "\t 1987-01-17 & NA         &       NA   &  5.833333  & 20.70833  \\\\\n",
       "\t 1987-01-18 & NA         & 39.00000   &  6.375000  & 21.03333  \\\\\n",
       "\t 1987-01-19 & NA         & 32.00000   & 14.875000  & 17.17409  \\\\\n",
       "\t 1987-01-20 & NA         & 38.00000   &  7.250000  & 21.61021  \\\\\n",
       "\t 1987-01-21 & NA         & 32.85714   &  8.913043  & 24.52083  \\\\\n",
       "\t 1987-01-22 & NA         & 52.00000   & 10.500000  & 16.98798  \\\\\n",
       "\t 1987-01-23 & NA         & 55.00000   & 14.625000  & 14.66250  \\\\\n",
       "\t 1987-01-24 & NA         & 38.00000   & 10.083333  & 18.69167  \\\\\n",
       "\t 1987-01-25 & NA         &       NA   &  6.666667  & 26.30417  \\\\\n",
       "\t 1987-01-26 & NA         & 71.00000   &  4.583333  & 32.42143  \\\\\n",
       "\t 1987-01-27 & NA         & 39.33333   &  6.000000  & 30.69306  \\\\\n",
       "\t 1987-01-28 & NA         & 47.00000   &  6.875000  & 29.12943  \\\\\n",
       "\t 1987-01-29 & NA         & 35.00000   &  2.916667  & 28.14529  \\\\\n",
       "\t 1987-01-30 & NA         & 59.00000   &  8.791667  & 19.79861  \\\\\n",
       "\t ... & ... & ... & ... & ...\\\\\n",
       "\t 2005-12-02 &       NA   & 19.50      &  9.156250  & 23.29167  \\\\\n",
       "\t 2005-12-03 & 13.34286   & 20.00      & 10.333333  & 25.19444  \\\\\n",
       "\t 2005-12-04 & 15.30000   & 15.50      & 13.177083  & 21.70833  \\\\\n",
       "\t 2005-12-05 &       NA   & 30.00      &  6.447917  & 28.38889  \\\\\n",
       "\t 2005-12-06 & 24.61667   & 33.00      &  4.701540  & 29.08333  \\\\\n",
       "\t 2005-12-07 & 37.80000   & 39.00      &  3.916214  & 34.30952  \\\\\n",
       "\t 2005-12-08 & 24.30000   & 31.00      &  5.995265  & 34.22222  \\\\\n",
       "\t 2005-12-09 & 25.45000   & 22.00      &  5.958333  & 31.41667  \\\\\n",
       "\t 2005-12-10 & 18.20000   & 30.00      &  9.135417  & 28.70833  \\\\\n",
       "\t 2005-12-11 & 10.60000   & 14.00      & 11.333333  & 22.55556  \\\\\n",
       "\t 2005-12-12 & 19.22500   & 28.75      &  5.031250  & 39.74621  \\\\\n",
       "\t 2005-12-13 & 26.50000   & 21.00      &  6.628623  & 29.56944  \\\\\n",
       "\t 2005-12-14 & 26.90000   & 16.00      &  3.802083  & 30.63384  \\\\\n",
       "\t 2005-12-15 & 14.40000   & 16.50      &  4.895833  & 25.43056  \\\\\n",
       "\t 2005-12-16 & 11.00000   & 22.00      & 11.166667  & 16.87500  \\\\\n",
       "\t 2005-12-17 & 13.80000   & 20.00      &  8.593750  & 20.73611  \\\\\n",
       "\t 2005-12-18 & 12.20000   & 17.50      & 13.552083  & 19.11111  \\\\\n",
       "\t 2005-12-19 & 21.15000   & 21.00      &  8.058877  & 31.79167  \\\\\n",
       "\t 2005-12-20 & 25.75000   & 32.00      &  3.849185  & 32.89773  \\\\\n",
       "\t 2005-12-21 & 37.92857   & 59.50      &  3.663949  & 34.86111  \\\\\n",
       "\t 2005-12-22 & 36.65000   & 42.50      &  5.385417  & 33.73026  \\\\\n",
       "\t 2005-12-23 & 32.90000   & 34.50      &  6.906250  & 29.08333  \\\\\n",
       "\t 2005-12-24 & 30.77143   & 25.20      &  1.770833  & 31.98611  \\\\\n",
       "\t 2005-12-25 &  6.70000   &  8.00      & 14.354167  & 13.79167  \\\\\n",
       "\t 2005-12-26 &  8.40000   &  8.50      & 14.041667  & 16.81944  \\\\\n",
       "\t 2005-12-27 & 23.56000   & 27.00      &  4.468750  & 23.50000  \\\\\n",
       "\t 2005-12-28 & 17.75000   & 27.50      &  3.260417  & 19.28563  \\\\\n",
       "\t 2005-12-29 &  7.45000   & 23.50      &  6.794837  & 19.97222  \\\\\n",
       "\t 2005-12-30 & 15.05714   & 19.20      &  3.034420  & 22.80556  \\\\\n",
       "\t 2005-12-31 & 15.00000   & 23.50      &  2.531250  & 13.25000  \\\\\n",
       "\\end{tabular}\n"
      ],
      "text/markdown": [
       "\n",
       "date | pm25tmean2 | pm10tmean2 | o3tmean2 | no2tmean2 | \n",
       "|---|---|---|---|---|---|---|---|---|---|---|---|---|---|---|---|---|---|---|---|---|---|---|---|---|---|---|---|---|---|---|---|---|---|---|---|---|---|---|---|---|---|---|---|---|---|---|---|---|---|---|---|---|---|---|---|---|---|---|---|---|\n",
       "| 1987-01-01 | NA         | 34.00000   |  4.250000  | 19.98810   | \n",
       "| 1987-01-02 | NA         |       NA   |  3.304348  | 23.19099   | \n",
       "| 1987-01-03 | NA         | 34.16667   |  3.333333  | 23.81548   | \n",
       "| 1987-01-04 | NA         | 47.00000   |  4.375000  | 30.43452   | \n",
       "| 1987-01-05 | NA         |       NA   |  4.750000  | 30.33333   | \n",
       "| 1987-01-06 | NA         | 48.00000   |  5.833333  | 25.77233   | \n",
       "| 1987-01-07 | NA         | 41.00000   |  9.291667  | 20.58171   | \n",
       "| 1987-01-08 | NA         | 36.00000   | 11.291667  | 17.03723   | \n",
       "| 1987-01-09 | NA         | 33.28571   |  4.500000  | 23.38889   | \n",
       "| 1987-01-10 | NA         |       NA   |  4.958333  | 19.54167   | \n",
       "| 1987-01-11 | NA         | 22.00000   | 17.541667  | 13.70139   | \n",
       "| 1987-01-12 | NA         | 26.00000   |  8.000000  | 33.02083   | \n",
       "| 1987-01-13 | NA         | 53.00000   |  4.958333  | 38.06142   | \n",
       "| 1987-01-14 | NA         | 43.00000   |  4.208333  | 32.19444   | \n",
       "| 1987-01-15 | NA         | 28.83333   |  4.458333  | 18.87131   | \n",
       "| 1987-01-16 | NA         | 19.00000   |  7.916667  | 19.46667   | \n",
       "| 1987-01-17 | NA         |       NA   |  5.833333  | 20.70833   | \n",
       "| 1987-01-18 | NA         | 39.00000   |  6.375000  | 21.03333   | \n",
       "| 1987-01-19 | NA         | 32.00000   | 14.875000  | 17.17409   | \n",
       "| 1987-01-20 | NA         | 38.00000   |  7.250000  | 21.61021   | \n",
       "| 1987-01-21 | NA         | 32.85714   |  8.913043  | 24.52083   | \n",
       "| 1987-01-22 | NA         | 52.00000   | 10.500000  | 16.98798   | \n",
       "| 1987-01-23 | NA         | 55.00000   | 14.625000  | 14.66250   | \n",
       "| 1987-01-24 | NA         | 38.00000   | 10.083333  | 18.69167   | \n",
       "| 1987-01-25 | NA         |       NA   |  6.666667  | 26.30417   | \n",
       "| 1987-01-26 | NA         | 71.00000   |  4.583333  | 32.42143   | \n",
       "| 1987-01-27 | NA         | 39.33333   |  6.000000  | 30.69306   | \n",
       "| 1987-01-28 | NA         | 47.00000   |  6.875000  | 29.12943   | \n",
       "| 1987-01-29 | NA         | 35.00000   |  2.916667  | 28.14529   | \n",
       "| 1987-01-30 | NA         | 59.00000   |  8.791667  | 19.79861   | \n",
       "| ... | ... | ... | ... | ... | \n",
       "| 2005-12-02 |       NA   | 19.50      |  9.156250  | 23.29167   | \n",
       "| 2005-12-03 | 13.34286   | 20.00      | 10.333333  | 25.19444   | \n",
       "| 2005-12-04 | 15.30000   | 15.50      | 13.177083  | 21.70833   | \n",
       "| 2005-12-05 |       NA   | 30.00      |  6.447917  | 28.38889   | \n",
       "| 2005-12-06 | 24.61667   | 33.00      |  4.701540  | 29.08333   | \n",
       "| 2005-12-07 | 37.80000   | 39.00      |  3.916214  | 34.30952   | \n",
       "| 2005-12-08 | 24.30000   | 31.00      |  5.995265  | 34.22222   | \n",
       "| 2005-12-09 | 25.45000   | 22.00      |  5.958333  | 31.41667   | \n",
       "| 2005-12-10 | 18.20000   | 30.00      |  9.135417  | 28.70833   | \n",
       "| 2005-12-11 | 10.60000   | 14.00      | 11.333333  | 22.55556   | \n",
       "| 2005-12-12 | 19.22500   | 28.75      |  5.031250  | 39.74621   | \n",
       "| 2005-12-13 | 26.50000   | 21.00      |  6.628623  | 29.56944   | \n",
       "| 2005-12-14 | 26.90000   | 16.00      |  3.802083  | 30.63384   | \n",
       "| 2005-12-15 | 14.40000   | 16.50      |  4.895833  | 25.43056   | \n",
       "| 2005-12-16 | 11.00000   | 22.00      | 11.166667  | 16.87500   | \n",
       "| 2005-12-17 | 13.80000   | 20.00      |  8.593750  | 20.73611   | \n",
       "| 2005-12-18 | 12.20000   | 17.50      | 13.552083  | 19.11111   | \n",
       "| 2005-12-19 | 21.15000   | 21.00      |  8.058877  | 31.79167   | \n",
       "| 2005-12-20 | 25.75000   | 32.00      |  3.849185  | 32.89773   | \n",
       "| 2005-12-21 | 37.92857   | 59.50      |  3.663949  | 34.86111   | \n",
       "| 2005-12-22 | 36.65000   | 42.50      |  5.385417  | 33.73026   | \n",
       "| 2005-12-23 | 32.90000   | 34.50      |  6.906250  | 29.08333   | \n",
       "| 2005-12-24 | 30.77143   | 25.20      |  1.770833  | 31.98611   | \n",
       "| 2005-12-25 |  6.70000   |  8.00      | 14.354167  | 13.79167   | \n",
       "| 2005-12-26 |  8.40000   |  8.50      | 14.041667  | 16.81944   | \n",
       "| 2005-12-27 | 23.56000   | 27.00      |  4.468750  | 23.50000   | \n",
       "| 2005-12-28 | 17.75000   | 27.50      |  3.260417  | 19.28563   | \n",
       "| 2005-12-29 |  7.45000   | 23.50      |  6.794837  | 19.97222   | \n",
       "| 2005-12-30 | 15.05714   | 19.20      |  3.034420  | 22.80556   | \n",
       "| 2005-12-31 | 15.00000   | 23.50      |  2.531250  | 13.25000   | \n",
       "\n",
       "\n"
      ],
      "text/plain": [
       "     date       pm25tmean2 pm10tmean2 o3tmean2  no2tmean2\n",
       "1    1987-01-01 NA         34.00000    4.250000 19.98810 \n",
       "2    1987-01-02 NA               NA    3.304348 23.19099 \n",
       "3    1987-01-03 NA         34.16667    3.333333 23.81548 \n",
       "4    1987-01-04 NA         47.00000    4.375000 30.43452 \n",
       "5    1987-01-05 NA               NA    4.750000 30.33333 \n",
       "6    1987-01-06 NA         48.00000    5.833333 25.77233 \n",
       "7    1987-01-07 NA         41.00000    9.291667 20.58171 \n",
       "8    1987-01-08 NA         36.00000   11.291667 17.03723 \n",
       "9    1987-01-09 NA         33.28571    4.500000 23.38889 \n",
       "10   1987-01-10 NA               NA    4.958333 19.54167 \n",
       "11   1987-01-11 NA         22.00000   17.541667 13.70139 \n",
       "12   1987-01-12 NA         26.00000    8.000000 33.02083 \n",
       "13   1987-01-13 NA         53.00000    4.958333 38.06142 \n",
       "14   1987-01-14 NA         43.00000    4.208333 32.19444 \n",
       "15   1987-01-15 NA         28.83333    4.458333 18.87131 \n",
       "16   1987-01-16 NA         19.00000    7.916667 19.46667 \n",
       "17   1987-01-17 NA               NA    5.833333 20.70833 \n",
       "18   1987-01-18 NA         39.00000    6.375000 21.03333 \n",
       "19   1987-01-19 NA         32.00000   14.875000 17.17409 \n",
       "20   1987-01-20 NA         38.00000    7.250000 21.61021 \n",
       "21   1987-01-21 NA         32.85714    8.913043 24.52083 \n",
       "22   1987-01-22 NA         52.00000   10.500000 16.98798 \n",
       "23   1987-01-23 NA         55.00000   14.625000 14.66250 \n",
       "24   1987-01-24 NA         38.00000   10.083333 18.69167 \n",
       "25   1987-01-25 NA               NA    6.666667 26.30417 \n",
       "26   1987-01-26 NA         71.00000    4.583333 32.42143 \n",
       "27   1987-01-27 NA         39.33333    6.000000 30.69306 \n",
       "28   1987-01-28 NA         47.00000    6.875000 29.12943 \n",
       "29   1987-01-29 NA         35.00000    2.916667 28.14529 \n",
       "30   1987-01-30 NA         59.00000    8.791667 19.79861 \n",
       "...  ...        ...        ...        ...       ...      \n",
       "6911 2005-12-02       NA   19.50       9.156250 23.29167 \n",
       "6912 2005-12-03 13.34286   20.00      10.333333 25.19444 \n",
       "6913 2005-12-04 15.30000   15.50      13.177083 21.70833 \n",
       "6914 2005-12-05       NA   30.00       6.447917 28.38889 \n",
       "6915 2005-12-06 24.61667   33.00       4.701540 29.08333 \n",
       "6916 2005-12-07 37.80000   39.00       3.916214 34.30952 \n",
       "6917 2005-12-08 24.30000   31.00       5.995265 34.22222 \n",
       "6918 2005-12-09 25.45000   22.00       5.958333 31.41667 \n",
       "6919 2005-12-10 18.20000   30.00       9.135417 28.70833 \n",
       "6920 2005-12-11 10.60000   14.00      11.333333 22.55556 \n",
       "6921 2005-12-12 19.22500   28.75       5.031250 39.74621 \n",
       "6922 2005-12-13 26.50000   21.00       6.628623 29.56944 \n",
       "6923 2005-12-14 26.90000   16.00       3.802083 30.63384 \n",
       "6924 2005-12-15 14.40000   16.50       4.895833 25.43056 \n",
       "6925 2005-12-16 11.00000   22.00      11.166667 16.87500 \n",
       "6926 2005-12-17 13.80000   20.00       8.593750 20.73611 \n",
       "6927 2005-12-18 12.20000   17.50      13.552083 19.11111 \n",
       "6928 2005-12-19 21.15000   21.00       8.058877 31.79167 \n",
       "6929 2005-12-20 25.75000   32.00       3.849185 32.89773 \n",
       "6930 2005-12-21 37.92857   59.50       3.663949 34.86111 \n",
       "6931 2005-12-22 36.65000   42.50       5.385417 33.73026 \n",
       "6932 2005-12-23 32.90000   34.50       6.906250 29.08333 \n",
       "6933 2005-12-24 30.77143   25.20       1.770833 31.98611 \n",
       "6934 2005-12-25  6.70000    8.00      14.354167 13.79167 \n",
       "6935 2005-12-26  8.40000    8.50      14.041667 16.81944 \n",
       "6936 2005-12-27 23.56000   27.00       4.468750 23.50000 \n",
       "6937 2005-12-28 17.75000   27.50       3.260417 19.28563 \n",
       "6938 2005-12-29  7.45000   23.50       6.794837 19.97222 \n",
       "6939 2005-12-30 15.05714   19.20       3.034420 22.80556 \n",
       "6940 2005-12-31 15.00000   23.50       2.531250 13.25000 "
      ]
     },
     "metadata": {},
     "output_type": "display_data"
    }
   ],
   "source": [
    "select(chicago, -(city:dptp))"
   ]
  },
  {
   "cell_type": "markdown",
   "metadata": {},
   "source": [
    "The select() function also allows a special syntax that allows you to specify variable names based\n",
    "on patterns. So, for example, if you wanted to keep every variable that ends with a “2”, we could do"
   ]
  },
  {
   "cell_type": "code",
   "execution_count": 50,
   "metadata": {
    "collapsed": false
   },
   "outputs": [
    {
     "name": "stdout",
     "output_type": "stream",
     "text": [
      "'data.frame':\t6940 obs. of  4 variables:\n",
      " $ pm25tmean2: num  NA NA NA NA NA NA NA NA NA NA ...\n",
      " $ pm10tmean2: num  34 NA 34.2 47 NA ...\n",
      " $ o3tmean2  : num  4.25 3.3 3.33 4.38 4.75 ...\n",
      " $ no2tmean2 : num  20 23.2 23.8 30.4 30.3 ...\n"
     ]
    }
   ],
   "source": [
    "# selecting variables which end with 2\n",
    "subset <- select(chicago, ends_with(\"2\"))\n",
    "str(subset)"
   ]
  },
  {
   "cell_type": "markdown",
   "metadata": {},
   "source": [
    "### Filter()"
   ]
  },
  {
   "cell_type": "markdown",
   "metadata": {},
   "source": [
    "The filter() function is used to extract subsets of rows from a data frame. This function is similar\n",
    "to the existing subset() function in R but is quite a bit faster in my experience.\n",
    "Suppose we wanted to extract the rows of the chicago data frame where the levels of PM2.5 are\n",
    "greater than 30 (which is a reasonably high level), we could do"
   ]
  },
  {
   "cell_type": "code",
   "execution_count": 52,
   "metadata": {
    "collapsed": false
   },
   "outputs": [
    {
     "name": "stdout",
     "output_type": "stream",
     "text": [
      "'data.frame':\t194 obs. of  8 variables:\n",
      " $ city      : chr  \"chic\" \"chic\" \"chic\" \"chic\" ...\n",
      " $ tmpd      : num  23 28 55 59 57 57 75 61 73 78 ...\n",
      " $ dptp      : num  21.9 25.8 51.3 53.7 52 56 65.8 59 60.3 67.1 ...\n",
      " $ date      : Date, format: \"1998-01-17\" \"1998-01-23\" ...\n",
      " $ pm25tmean2: num  38.1 34 39.4 35.4 33.3 ...\n",
      " $ pm10tmean2: num  32.5 38.7 34 28.5 35 ...\n",
      " $ o3tmean2  : num  3.18 1.75 10.79 14.3 20.66 ...\n",
      " $ no2tmean2 : num  25.3 29.4 25.3 31.4 26.8 ...\n"
     ]
    }
   ],
   "source": [
    "# select those where mean is > 30\n",
    "chic.f <- filter(chicago, pm25tmean2 > 30)\n",
    "str(chic.f)"
   ]
  },
  {
   "cell_type": "code",
   "execution_count": 57,
   "metadata": {
    "collapsed": false
   },
   "outputs": [
    {
     "data": {
      "text/plain": [
       "   Min. 1st Qu.  Median    Mean 3rd Qu.    Max. \n",
       "  30.05   32.12   35.04   36.63   39.53   61.50 "
      ]
     },
     "metadata": {},
     "output_type": "display_data"
    }
   ],
   "source": [
    "summary(chic.f$pm25tmean2)"
   ]
  },
  {
   "cell_type": "markdown",
   "metadata": {},
   "source": [
    "We can place an arbitrarily complex logical sequence inside of filter(), so we could for example\n",
    "extract the rows where PM2.5 is greater than 30 and temperature is greater than 80 degrees\n",
    "Fahrenheit."
   ]
  },
  {
   "cell_type": "code",
   "execution_count": 61,
   "metadata": {
    "collapsed": false
   },
   "outputs": [
    {
     "data": {
      "text/html": [
       "<table>\n",
       "<thead><tr><th scope=col>date</th><th scope=col>tmpd</th><th scope=col>pm25tmean2</th></tr></thead>\n",
       "<tbody>\n",
       "\t<tr><td>1998-08-23</td><td>81        </td><td>39.60000  </td></tr>\n",
       "\t<tr><td>1998-09-06</td><td>81        </td><td>31.50000  </td></tr>\n",
       "\t<tr><td>2001-07-20</td><td>82        </td><td>32.30000  </td></tr>\n",
       "\t<tr><td>2001-08-01</td><td>84        </td><td>43.70000  </td></tr>\n",
       "\t<tr><td>2001-08-08</td><td>85        </td><td>38.83750  </td></tr>\n",
       "\t<tr><td>2001-08-09</td><td>84        </td><td>38.20000  </td></tr>\n",
       "\t<tr><td>2002-06-20</td><td>82        </td><td>33.00000  </td></tr>\n",
       "\t<tr><td>2002-06-23</td><td>82        </td><td>42.50000  </td></tr>\n",
       "\t<tr><td>2002-07-08</td><td>81        </td><td>33.10000  </td></tr>\n",
       "\t<tr><td>2002-07-18</td><td>82        </td><td>38.85000  </td></tr>\n",
       "\t<tr><td>2003-06-25</td><td>82        </td><td>33.90000  </td></tr>\n",
       "\t<tr><td>2003-07-04</td><td>84        </td><td>32.90000  </td></tr>\n",
       "\t<tr><td>2005-06-24</td><td>86        </td><td>31.85714  </td></tr>\n",
       "\t<tr><td>2005-06-27</td><td>82        </td><td>51.53750  </td></tr>\n",
       "\t<tr><td>2005-06-28</td><td>85        </td><td>31.20000  </td></tr>\n",
       "\t<tr><td>2005-07-17</td><td>84        </td><td>32.70000  </td></tr>\n",
       "\t<tr><td>2005-08-03</td><td>84        </td><td>37.90000  </td></tr>\n",
       "</tbody>\n",
       "</table>\n"
      ],
      "text/latex": [
       "\\begin{tabular}{r|lll}\n",
       " date & tmpd & pm25tmean2\\\\\n",
       "\\hline\n",
       "\t 1998-08-23 & 81         & 39.60000  \\\\\n",
       "\t 1998-09-06 & 81         & 31.50000  \\\\\n",
       "\t 2001-07-20 & 82         & 32.30000  \\\\\n",
       "\t 2001-08-01 & 84         & 43.70000  \\\\\n",
       "\t 2001-08-08 & 85         & 38.83750  \\\\\n",
       "\t 2001-08-09 & 84         & 38.20000  \\\\\n",
       "\t 2002-06-20 & 82         & 33.00000  \\\\\n",
       "\t 2002-06-23 & 82         & 42.50000  \\\\\n",
       "\t 2002-07-08 & 81         & 33.10000  \\\\\n",
       "\t 2002-07-18 & 82         & 38.85000  \\\\\n",
       "\t 2003-06-25 & 82         & 33.90000  \\\\\n",
       "\t 2003-07-04 & 84         & 32.90000  \\\\\n",
       "\t 2005-06-24 & 86         & 31.85714  \\\\\n",
       "\t 2005-06-27 & 82         & 51.53750  \\\\\n",
       "\t 2005-06-28 & 85         & 31.20000  \\\\\n",
       "\t 2005-07-17 & 84         & 32.70000  \\\\\n",
       "\t 2005-08-03 & 84         & 37.90000  \\\\\n",
       "\\end{tabular}\n"
      ],
      "text/markdown": [
       "\n",
       "date | tmpd | pm25tmean2 | \n",
       "|---|---|---|---|---|---|---|---|---|---|---|---|---|---|---|---|---|\n",
       "| 1998-08-23 | 81         | 39.60000   | \n",
       "| 1998-09-06 | 81         | 31.50000   | \n",
       "| 2001-07-20 | 82         | 32.30000   | \n",
       "| 2001-08-01 | 84         | 43.70000   | \n",
       "| 2001-08-08 | 85         | 38.83750   | \n",
       "| 2001-08-09 | 84         | 38.20000   | \n",
       "| 2002-06-20 | 82         | 33.00000   | \n",
       "| 2002-06-23 | 82         | 42.50000   | \n",
       "| 2002-07-08 | 81         | 33.10000   | \n",
       "| 2002-07-18 | 82         | 38.85000   | \n",
       "| 2003-06-25 | 82         | 33.90000   | \n",
       "| 2003-07-04 | 84         | 32.90000   | \n",
       "| 2005-06-24 | 86         | 31.85714   | \n",
       "| 2005-06-27 | 82         | 51.53750   | \n",
       "| 2005-06-28 | 85         | 31.20000   | \n",
       "| 2005-07-17 | 84         | 32.70000   | \n",
       "| 2005-08-03 | 84         | 37.90000   | \n",
       "\n",
       "\n"
      ],
      "text/plain": [
       "   date       tmpd pm25tmean2\n",
       "1  1998-08-23 81   39.60000  \n",
       "2  1998-09-06 81   31.50000  \n",
       "3  2001-07-20 82   32.30000  \n",
       "4  2001-08-01 84   43.70000  \n",
       "5  2001-08-08 85   38.83750  \n",
       "6  2001-08-09 84   38.20000  \n",
       "7  2002-06-20 82   33.00000  \n",
       "8  2002-06-23 82   42.50000  \n",
       "9  2002-07-08 81   33.10000  \n",
       "10 2002-07-18 82   38.85000  \n",
       "11 2003-06-25 82   33.90000  \n",
       "12 2003-07-04 84   32.90000  \n",
       "13 2005-06-24 86   31.85714  \n",
       "14 2005-06-27 82   51.53750  \n",
       "15 2005-06-28 85   31.20000  \n",
       "16 2005-07-17 84   32.70000  \n",
       "17 2005-08-03 84   37.90000  "
      ]
     },
     "metadata": {},
     "output_type": "display_data"
    }
   ],
   "source": [
    "chic.f <- filter(chicago, pm25tmean2>30 & tmpd>80)\n",
    "select(chic.f, date, tmpd, pm25tmean2)"
   ]
  },
  {
   "cell_type": "markdown",
   "metadata": {},
   "source": [
    "### arrange()"
   ]
  },
  {
   "cell_type": "markdown",
   "metadata": {},
   "source": [
    "The arrange() function is used to reorder rows of a data frame according to one of the variables/columns.\n",
    "Reordering rows of a data frame (while preserving corresponding order of other columns)\n",
    "is normally a pain to do in R. The arrange() function simplifies the process quite a bit.\n",
    "Here we can order the rows of the data frame by date, so that the first row is the earliest (oldest)\n",
    "observation and the last row is the latest (most recent) observation."
   ]
  },
  {
   "cell_type": "code",
   "execution_count": 62,
   "metadata": {
    "collapsed": false
   },
   "outputs": [
    {
     "data": {
      "text/html": [
       "<table>\n",
       "<thead><tr><th scope=col>date</th><th scope=col>pm25tmean2</th></tr></thead>\n",
       "<tbody>\n",
       "\t<tr><td>1987-01-01</td><td>NA        </td></tr>\n",
       "\t<tr><td>1987-01-02</td><td>NA        </td></tr>\n",
       "\t<tr><td>1987-01-03</td><td>NA        </td></tr>\n",
       "</tbody>\n",
       "</table>\n"
      ],
      "text/latex": [
       "\\begin{tabular}{r|ll}\n",
       " date & pm25tmean2\\\\\n",
       "\\hline\n",
       "\t 1987-01-01 & NA        \\\\\n",
       "\t 1987-01-02 & NA        \\\\\n",
       "\t 1987-01-03 & NA        \\\\\n",
       "\\end{tabular}\n"
      ],
      "text/markdown": [
       "\n",
       "date | pm25tmean2 | \n",
       "|---|---|---|\n",
       "| 1987-01-01 | NA         | \n",
       "| 1987-01-02 | NA         | \n",
       "| 1987-01-03 | NA         | \n",
       "\n",
       "\n"
      ],
      "text/plain": [
       "  date       pm25tmean2\n",
       "1 1987-01-01 NA        \n",
       "2 1987-01-02 NA        \n",
       "3 1987-01-03 NA        "
      ]
     },
     "metadata": {},
     "output_type": "display_data"
    }
   ],
   "source": [
    "# arranging by date and selecting first 3 rows\n",
    "chicago <- arrange(chicago, date)\n",
    "head(select(chicago, date, pm25tmean2), 3)"
   ]
  },
  {
   "cell_type": "markdown",
   "metadata": {},
   "source": [
    "### rename()\n",
    "Renaming a variable in a data frame in R is surprisingly hard to do! The rename() function designed to make this process easier.\n",
    "Here you can see the names of the first five variables in the chicago data frame."
   ]
  },
  {
   "cell_type": "code",
   "execution_count": 63,
   "metadata": {
    "collapsed": false
   },
   "outputs": [
    {
     "data": {
      "text/html": [
       "<table>\n",
       "<thead><tr><th scope=col>city</th><th scope=col>tmpd</th><th scope=col>dptp</th><th scope=col>date</th><th scope=col>pm25tmean2</th></tr></thead>\n",
       "<tbody>\n",
       "\t<tr><td>chic      </td><td>31.5      </td><td>31.500    </td><td>1987-01-01</td><td>NA        </td></tr>\n",
       "\t<tr><td>chic      </td><td>33.0      </td><td>29.875    </td><td>1987-01-02</td><td>NA        </td></tr>\n",
       "\t<tr><td>chic      </td><td>33.0      </td><td>27.375    </td><td>1987-01-03</td><td>NA        </td></tr>\n",
       "</tbody>\n",
       "</table>\n"
      ],
      "text/latex": [
       "\\begin{tabular}{r|lllll}\n",
       " city & tmpd & dptp & date & pm25tmean2\\\\\n",
       "\\hline\n",
       "\t chic       & 31.5       & 31.500     & 1987-01-01 & NA        \\\\\n",
       "\t chic       & 33.0       & 29.875     & 1987-01-02 & NA        \\\\\n",
       "\t chic       & 33.0       & 27.375     & 1987-01-03 & NA        \\\\\n",
       "\\end{tabular}\n"
      ],
      "text/markdown": [
       "\n",
       "city | tmpd | dptp | date | pm25tmean2 | \n",
       "|---|---|---|\n",
       "| chic       | 31.5       | 31.500     | 1987-01-01 | NA         | \n",
       "| chic       | 33.0       | 29.875     | 1987-01-02 | NA         | \n",
       "| chic       | 33.0       | 27.375     | 1987-01-03 | NA         | \n",
       "\n",
       "\n"
      ],
      "text/plain": [
       "  city tmpd dptp   date       pm25tmean2\n",
       "1 chic 31.5 31.500 1987-01-01 NA        \n",
       "2 chic 33.0 29.875 1987-01-02 NA        \n",
       "3 chic 33.0 27.375 1987-01-03 NA        "
      ]
     },
     "metadata": {},
     "output_type": "display_data"
    }
   ],
   "source": [
    "head(chicago[ ,1:5],3)"
   ]
  },
  {
   "cell_type": "code",
   "execution_count": 64,
   "metadata": {
    "collapsed": false
   },
   "outputs": [
    {
     "data": {
      "text/html": [
       "<table>\n",
       "<thead><tr><th scope=col>city</th><th scope=col>tmpd</th><th scope=col>dewpoint</th><th scope=col>date</th><th scope=col>pm25</th></tr></thead>\n",
       "<tbody>\n",
       "\t<tr><td>chic      </td><td>31.5      </td><td>31.500    </td><td>1987-01-01</td><td>NA        </td></tr>\n",
       "\t<tr><td>chic      </td><td>33.0      </td><td>29.875    </td><td>1987-01-02</td><td>NA        </td></tr>\n",
       "\t<tr><td>chic      </td><td>33.0      </td><td>27.375    </td><td>1987-01-03</td><td>NA        </td></tr>\n",
       "</tbody>\n",
       "</table>\n"
      ],
      "text/latex": [
       "\\begin{tabular}{r|lllll}\n",
       " city & tmpd & dewpoint & date & pm25\\\\\n",
       "\\hline\n",
       "\t chic       & 31.5       & 31.500     & 1987-01-01 & NA        \\\\\n",
       "\t chic       & 33.0       & 29.875     & 1987-01-02 & NA        \\\\\n",
       "\t chic       & 33.0       & 27.375     & 1987-01-03 & NA        \\\\\n",
       "\\end{tabular}\n"
      ],
      "text/markdown": [
       "\n",
       "city | tmpd | dewpoint | date | pm25 | \n",
       "|---|---|---|\n",
       "| chic       | 31.5       | 31.500     | 1987-01-01 | NA         | \n",
       "| chic       | 33.0       | 29.875     | 1987-01-02 | NA         | \n",
       "| chic       | 33.0       | 27.375     | 1987-01-03 | NA         | \n",
       "\n",
       "\n"
      ],
      "text/plain": [
       "  city tmpd dewpoint date       pm25\n",
       "1 chic 31.5 31.500   1987-01-01 NA  \n",
       "2 chic 33.0 29.875   1987-01-02 NA  \n",
       "3 chic 33.0 27.375   1987-01-03 NA  "
      ]
     },
     "metadata": {},
     "output_type": "display_data"
    }
   ],
   "source": [
    "chicago <- rename(chicago, dewpoint=dptp, pm25 = pm25tmean2)\n",
    "head(chicago[ ,1:5],3)"
   ]
  },
  {
   "cell_type": "markdown",
   "metadata": {},
   "source": [
    "The syntax inside the rename() function is to have the new name on the left-hand side of the = sign\n",
    "and the old name on the right-hand side."
   ]
  },
  {
   "cell_type": "markdown",
   "metadata": {},
   "source": [
    "### mutate()\n",
    "The mutate() function exists to compute transformations of variables in a data frame. Often, you\n",
    "want to create new variables that are derived from existing variables and mutate() provides a clean\n",
    "interface for doing that.\n",
    "For example, with air pollution data, we often want to detrend the data by subtracting the mean\n",
    "from the data. That way we can look at whether a given day’s air pollution level is higher than or\n",
    "less than average (as opposed to looking at its absolute level).\n",
    "Here we create a pm25detrend variable that subtracts the mean from the pm25 variable."
   ]
  },
  {
   "cell_type": "code",
   "execution_count": 72,
   "metadata": {
    "collapsed": false,
    "scrolled": true
   },
   "outputs": [
    {
     "data": {
      "text/html": [
       "<table>\n",
       "<thead><tr><th scope=col>city</th><th scope=col>tmpd</th><th scope=col>dewpoint</th><th scope=col>date</th><th scope=col>pm25</th><th scope=col>pm10tmean2</th><th scope=col>o3tmean2</th><th scope=col>no2tmean2</th><th scope=col>pm25detrend</th></tr></thead>\n",
       "<tbody>\n",
       "\t<tr><td>chic      </td><td>31.5      </td><td>31.500    </td><td>1987-01-01</td><td>NA        </td><td>34.00000  </td><td>4.250000  </td><td>19.98810  </td><td>NA        </td></tr>\n",
       "\t<tr><td>chic      </td><td>33.0      </td><td>29.875    </td><td>1987-01-02</td><td>NA        </td><td>      NA  </td><td>3.304348  </td><td>23.19099  </td><td>NA        </td></tr>\n",
       "\t<tr><td>chic      </td><td>33.0      </td><td>27.375    </td><td>1987-01-03</td><td>NA        </td><td>34.16667  </td><td>3.333333  </td><td>23.81548  </td><td>NA        </td></tr>\n",
       "\t<tr><td>chic      </td><td>29.0      </td><td>28.625    </td><td>1987-01-04</td><td>NA        </td><td>47.00000  </td><td>4.375000  </td><td>30.43452  </td><td>NA        </td></tr>\n",
       "\t<tr><td>chic      </td><td>32.0      </td><td>28.875    </td><td>1987-01-05</td><td>NA        </td><td>      NA  </td><td>4.750000  </td><td>30.33333  </td><td>NA        </td></tr>\n",
       "\t<tr><td>chic      </td><td>40.0      </td><td>35.125    </td><td>1987-01-06</td><td>NA        </td><td>48.00000  </td><td>5.833333  </td><td>25.77233  </td><td>NA        </td></tr>\n",
       "</tbody>\n",
       "</table>\n"
      ],
      "text/latex": [
       "\\begin{tabular}{r|lllllllll}\n",
       " city & tmpd & dewpoint & date & pm25 & pm10tmean2 & o3tmean2 & no2tmean2 & pm25detrend\\\\\n",
       "\\hline\n",
       "\t chic       & 31.5       & 31.500     & 1987-01-01 & NA         & 34.00000   & 4.250000   & 19.98810   & NA        \\\\\n",
       "\t chic       & 33.0       & 29.875     & 1987-01-02 & NA         &       NA   & 3.304348   & 23.19099   & NA        \\\\\n",
       "\t chic       & 33.0       & 27.375     & 1987-01-03 & NA         & 34.16667   & 3.333333   & 23.81548   & NA        \\\\\n",
       "\t chic       & 29.0       & 28.625     & 1987-01-04 & NA         & 47.00000   & 4.375000   & 30.43452   & NA        \\\\\n",
       "\t chic       & 32.0       & 28.875     & 1987-01-05 & NA         &       NA   & 4.750000   & 30.33333   & NA        \\\\\n",
       "\t chic       & 40.0       & 35.125     & 1987-01-06 & NA         & 48.00000   & 5.833333   & 25.77233   & NA        \\\\\n",
       "\\end{tabular}\n"
      ],
      "text/markdown": [
       "\n",
       "city | tmpd | dewpoint | date | pm25 | pm10tmean2 | o3tmean2 | no2tmean2 | pm25detrend | \n",
       "|---|---|---|---|---|---|\n",
       "| chic       | 31.5       | 31.500     | 1987-01-01 | NA         | 34.00000   | 4.250000   | 19.98810   | NA         | \n",
       "| chic       | 33.0       | 29.875     | 1987-01-02 | NA         |       NA   | 3.304348   | 23.19099   | NA         | \n",
       "| chic       | 33.0       | 27.375     | 1987-01-03 | NA         | 34.16667   | 3.333333   | 23.81548   | NA         | \n",
       "| chic       | 29.0       | 28.625     | 1987-01-04 | NA         | 47.00000   | 4.375000   | 30.43452   | NA         | \n",
       "| chic       | 32.0       | 28.875     | 1987-01-05 | NA         |       NA   | 4.750000   | 30.33333   | NA         | \n",
       "| chic       | 40.0       | 35.125     | 1987-01-06 | NA         | 48.00000   | 5.833333   | 25.77233   | NA         | \n",
       "\n",
       "\n"
      ],
      "text/plain": [
       "  city tmpd dewpoint date       pm25 pm10tmean2 o3tmean2 no2tmean2 pm25detrend\n",
       "1 chic 31.5 31.500   1987-01-01 NA   34.00000   4.250000 19.98810  NA         \n",
       "2 chic 33.0 29.875   1987-01-02 NA         NA   3.304348 23.19099  NA         \n",
       "3 chic 33.0 27.375   1987-01-03 NA   34.16667   3.333333 23.81548  NA         \n",
       "4 chic 29.0 28.625   1987-01-04 NA   47.00000   4.375000 30.43452  NA         \n",
       "5 chic 32.0 28.875   1987-01-05 NA         NA   4.750000 30.33333  NA         \n",
       "6 chic 40.0 35.125   1987-01-06 NA   48.00000   5.833333 25.77233  NA         "
      ]
     },
     "metadata": {},
     "output_type": "display_data"
    }
   ],
   "source": [
    "chicago <- mutate(chicago, pm25detrend = pm25 - mean(pm25, na.rm=TRUE))\n",
    "head(chicago)"
   ]
  },
  {
   "cell_type": "markdown",
   "metadata": {},
   "source": [
    "### group_by()\n",
    "The group_by() function is used to generate summary statistics from the data frame within strata\n",
    "defined by a variable. For example, in this air pollution dataset, you might want to know what the\n",
    "average annual level of PM2.5 is. So the stratum is the year, and that is something we can derive\n",
    "from the date variable. In conjunction with the group_by() function we often use the summarize()\n",
    "function (or summarise() for some parts of the world).\n",
    "The general operation here is a combination of splitting a data frame into separate pieces defined by\n",
    "a variable or group of variables (group_by()), and then applying a summary function across those\n",
    "subsets (summarize()).\n",
    "First, we can create a year varible using as.POSIXlt()."
   ]
  },
  {
   "cell_type": "code",
   "execution_count": 74,
   "metadata": {
    "collapsed": false
   },
   "outputs": [],
   "source": [
    "chicago <- mutate(chicago, year=as.POSIXlt(date)$year + 1900)\n",
    "\n",
    "years <- group_by(chicago, year)"
   ]
  },
  {
   "cell_type": "code",
   "execution_count": 79,
   "metadata": {
    "collapsed": false
   },
   "outputs": [
    {
     "data": {
      "text/html": [
       "<table>\n",
       "<thead><tr><th scope=col>year</th><th scope=col>pm25</th><th scope=col>o3</th><th scope=col>n02</th></tr></thead>\n",
       "<tbody>\n",
       "\t<tr><td>1987    </td><td>     NaN</td><td>62.96966</td><td>23.49369</td></tr>\n",
       "\t<tr><td>1988    </td><td>     NaN</td><td>61.67708</td><td>24.52296</td></tr>\n",
       "\t<tr><td>1989    </td><td>     NaN</td><td>59.72727</td><td>26.14062</td></tr>\n",
       "\t<tr><td>1990    </td><td>     NaN</td><td>52.22917</td><td>22.59583</td></tr>\n",
       "\t<tr><td>1991    </td><td>     NaN</td><td>63.10417</td><td>21.38194</td></tr>\n",
       "\t<tr><td>1992    </td><td>     NaN</td><td>50.82870</td><td>24.78921</td></tr>\n",
       "\t<tr><td>1993    </td><td>     NaN</td><td>44.30093</td><td>25.76993</td></tr>\n",
       "\t<tr><td>1994    </td><td>     NaN</td><td>52.17844</td><td>28.47500</td></tr>\n",
       "\t<tr><td>1995    </td><td>     NaN</td><td>66.58750</td><td>27.26042</td></tr>\n",
       "\t<tr><td>1996    </td><td>     NaN</td><td>58.39583</td><td>26.38715</td></tr>\n",
       "\t<tr><td>1997    </td><td>     NaN</td><td>56.54167</td><td>25.48143</td></tr>\n",
       "\t<tr><td>1998    </td><td>18.26467</td><td>50.66250</td><td>24.58649</td></tr>\n",
       "\t<tr><td>1999    </td><td>18.49646</td><td>57.48864</td><td>24.66667</td></tr>\n",
       "\t<tr><td>2000    </td><td>16.93806</td><td>55.76103</td><td>23.46082</td></tr>\n",
       "\t<tr><td>2001    </td><td>16.92632</td><td>51.81984</td><td>25.06522</td></tr>\n",
       "\t<tr><td>2002    </td><td>15.27335</td><td>54.88043</td><td>22.73750</td></tr>\n",
       "\t<tr><td>2003    </td><td>15.23183</td><td>56.16608</td><td>24.62500</td></tr>\n",
       "\t<tr><td>2004    </td><td>14.62864</td><td>44.48240</td><td>23.39130</td></tr>\n",
       "\t<tr><td>2005    </td><td>16.18556</td><td>58.84126</td><td>22.62387</td></tr>\n",
       "</tbody>\n",
       "</table>\n"
      ],
      "text/latex": [
       "\\begin{tabular}{r|llll}\n",
       " year & pm25 & o3 & n02\\\\\n",
       "\\hline\n",
       "\t 1987     &      NaN & 62.96966 & 23.49369\\\\\n",
       "\t 1988     &      NaN & 61.67708 & 24.52296\\\\\n",
       "\t 1989     &      NaN & 59.72727 & 26.14062\\\\\n",
       "\t 1990     &      NaN & 52.22917 & 22.59583\\\\\n",
       "\t 1991     &      NaN & 63.10417 & 21.38194\\\\\n",
       "\t 1992     &      NaN & 50.82870 & 24.78921\\\\\n",
       "\t 1993     &      NaN & 44.30093 & 25.76993\\\\\n",
       "\t 1994     &      NaN & 52.17844 & 28.47500\\\\\n",
       "\t 1995     &      NaN & 66.58750 & 27.26042\\\\\n",
       "\t 1996     &      NaN & 58.39583 & 26.38715\\\\\n",
       "\t 1997     &      NaN & 56.54167 & 25.48143\\\\\n",
       "\t 1998     & 18.26467 & 50.66250 & 24.58649\\\\\n",
       "\t 1999     & 18.49646 & 57.48864 & 24.66667\\\\\n",
       "\t 2000     & 16.93806 & 55.76103 & 23.46082\\\\\n",
       "\t 2001     & 16.92632 & 51.81984 & 25.06522\\\\\n",
       "\t 2002     & 15.27335 & 54.88043 & 22.73750\\\\\n",
       "\t 2003     & 15.23183 & 56.16608 & 24.62500\\\\\n",
       "\t 2004     & 14.62864 & 44.48240 & 23.39130\\\\\n",
       "\t 2005     & 16.18556 & 58.84126 & 22.62387\\\\\n",
       "\\end{tabular}\n"
      ],
      "text/markdown": [
       "\n",
       "year | pm25 | o3 | n02 | \n",
       "|---|---|---|---|---|---|---|---|---|---|---|---|---|---|---|---|---|---|---|\n",
       "| 1987     |      NaN | 62.96966 | 23.49369 | \n",
       "| 1988     |      NaN | 61.67708 | 24.52296 | \n",
       "| 1989     |      NaN | 59.72727 | 26.14062 | \n",
       "| 1990     |      NaN | 52.22917 | 22.59583 | \n",
       "| 1991     |      NaN | 63.10417 | 21.38194 | \n",
       "| 1992     |      NaN | 50.82870 | 24.78921 | \n",
       "| 1993     |      NaN | 44.30093 | 25.76993 | \n",
       "| 1994     |      NaN | 52.17844 | 28.47500 | \n",
       "| 1995     |      NaN | 66.58750 | 27.26042 | \n",
       "| 1996     |      NaN | 58.39583 | 26.38715 | \n",
       "| 1997     |      NaN | 56.54167 | 25.48143 | \n",
       "| 1998     | 18.26467 | 50.66250 | 24.58649 | \n",
       "| 1999     | 18.49646 | 57.48864 | 24.66667 | \n",
       "| 2000     | 16.93806 | 55.76103 | 23.46082 | \n",
       "| 2001     | 16.92632 | 51.81984 | 25.06522 | \n",
       "| 2002     | 15.27335 | 54.88043 | 22.73750 | \n",
       "| 2003     | 15.23183 | 56.16608 | 24.62500 | \n",
       "| 2004     | 14.62864 | 44.48240 | 23.39130 | \n",
       "| 2005     | 16.18556 | 58.84126 | 22.62387 | \n",
       "\n",
       "\n"
      ],
      "text/plain": [
       "   year pm25     o3       n02     \n",
       "1  1987      NaN 62.96966 23.49369\n",
       "2  1988      NaN 61.67708 24.52296\n",
       "3  1989      NaN 59.72727 26.14062\n",
       "4  1990      NaN 52.22917 22.59583\n",
       "5  1991      NaN 63.10417 21.38194\n",
       "6  1992      NaN 50.82870 24.78921\n",
       "7  1993      NaN 44.30093 25.76993\n",
       "8  1994      NaN 52.17844 28.47500\n",
       "9  1995      NaN 66.58750 27.26042\n",
       "10 1996      NaN 58.39583 26.38715\n",
       "11 1997      NaN 56.54167 25.48143\n",
       "12 1998 18.26467 50.66250 24.58649\n",
       "13 1999 18.49646 57.48864 24.66667\n",
       "14 2000 16.93806 55.76103 23.46082\n",
       "15 2001 16.92632 51.81984 25.06522\n",
       "16 2002 15.27335 54.88043 22.73750\n",
       "17 2003 15.23183 56.16608 24.62500\n",
       "18 2004 14.62864 44.48240 23.39130\n",
       "19 2005 16.18556 58.84126 22.62387"
      ]
     },
     "metadata": {},
     "output_type": "display_data"
    }
   ],
   "source": [
    "\n",
    "summarize(years, pm25 = mean(pm25, na.rm=TRUE), o3 = max(o3tmean2, na.rm=TRUE), n02 = median(no2tmean2, na.rm=TRUE))"
   ]
  },
  {
   "cell_type": "markdown",
   "metadata": {},
   "source": [
    "### %>% Pipeline operator\n",
    "The pipeline operater %>% is very handy for stringing together multiple dplyr functions in a sequence\n",
    "of operations. Notice above that every time we wanted to apply more than one function, the sequence\n",
    "gets buried in a sequence of nested function calls that is difficult to read, i.e."
   ]
  },
  {
   "cell_type": "markdown",
   "metadata": {},
   "source": [
    "#### first(x) %>% second(x) %>% third(x)\n",
    "Another example might be computing the average pollutant level by month. This could be useful to\n",
    "see if there are any seasonal trends in the data."
   ]
  },
  {
   "cell_type": "code",
   "execution_count": 81,
   "metadata": {
    "collapsed": false
   },
   "outputs": [
    {
     "data": {
      "text/html": [
       "<table>\n",
       "<thead><tr><th scope=col>month</th><th scope=col>pm25</th><th scope=col>o3</th><th scope=col>no2</th></tr></thead>\n",
       "<tbody>\n",
       "\t<tr><td> 1      </td><td>17.76996</td><td>28.22222</td><td>25.35417</td></tr>\n",
       "\t<tr><td> 2      </td><td>20.37513</td><td>37.37500</td><td>26.78034</td></tr>\n",
       "\t<tr><td> 3      </td><td>17.40818</td><td>39.05000</td><td>26.76984</td></tr>\n",
       "\t<tr><td> 4      </td><td>13.85879</td><td>47.94907</td><td>25.03125</td></tr>\n",
       "\t<tr><td> 5      </td><td>14.07420</td><td>52.75000</td><td>24.22222</td></tr>\n",
       "\t<tr><td> 6      </td><td>15.86461</td><td>66.58750</td><td>25.01140</td></tr>\n",
       "\t<tr><td> 7      </td><td>16.57087</td><td>59.54167</td><td>22.38442</td></tr>\n",
       "\t<tr><td> 8      </td><td>16.93380</td><td>53.96701</td><td>22.98333</td></tr>\n",
       "\t<tr><td> 9      </td><td>15.91279</td><td>57.48864</td><td>24.47917</td></tr>\n",
       "\t<tr><td>10      </td><td>14.23557</td><td>47.09275</td><td>24.15217</td></tr>\n",
       "\t<tr><td>11      </td><td>15.15794</td><td>29.45833</td><td>23.56537</td></tr>\n",
       "\t<tr><td>12      </td><td>17.52221</td><td>27.70833</td><td>24.45773</td></tr>\n",
       "</tbody>\n",
       "</table>\n"
      ],
      "text/latex": [
       "\\begin{tabular}{r|llll}\n",
       " month & pm25 & o3 & no2\\\\\n",
       "\\hline\n",
       "\t  1       & 17.76996 & 28.22222 & 25.35417\\\\\n",
       "\t  2       & 20.37513 & 37.37500 & 26.78034\\\\\n",
       "\t  3       & 17.40818 & 39.05000 & 26.76984\\\\\n",
       "\t  4       & 13.85879 & 47.94907 & 25.03125\\\\\n",
       "\t  5       & 14.07420 & 52.75000 & 24.22222\\\\\n",
       "\t  6       & 15.86461 & 66.58750 & 25.01140\\\\\n",
       "\t  7       & 16.57087 & 59.54167 & 22.38442\\\\\n",
       "\t  8       & 16.93380 & 53.96701 & 22.98333\\\\\n",
       "\t  9       & 15.91279 & 57.48864 & 24.47917\\\\\n",
       "\t 10       & 14.23557 & 47.09275 & 24.15217\\\\\n",
       "\t 11       & 15.15794 & 29.45833 & 23.56537\\\\\n",
       "\t 12       & 17.52221 & 27.70833 & 24.45773\\\\\n",
       "\\end{tabular}\n"
      ],
      "text/markdown": [
       "\n",
       "month | pm25 | o3 | no2 | \n",
       "|---|---|---|---|---|---|---|---|---|---|---|---|\n",
       "|  1       | 17.76996 | 28.22222 | 25.35417 | \n",
       "|  2       | 20.37513 | 37.37500 | 26.78034 | \n",
       "|  3       | 17.40818 | 39.05000 | 26.76984 | \n",
       "|  4       | 13.85879 | 47.94907 | 25.03125 | \n",
       "|  5       | 14.07420 | 52.75000 | 24.22222 | \n",
       "|  6       | 15.86461 | 66.58750 | 25.01140 | \n",
       "|  7       | 16.57087 | 59.54167 | 22.38442 | \n",
       "|  8       | 16.93380 | 53.96701 | 22.98333 | \n",
       "|  9       | 15.91279 | 57.48864 | 24.47917 | \n",
       "| 10       | 14.23557 | 47.09275 | 24.15217 | \n",
       "| 11       | 15.15794 | 29.45833 | 23.56537 | \n",
       "| 12       | 17.52221 | 27.70833 | 24.45773 | \n",
       "\n",
       "\n"
      ],
      "text/plain": [
       "   month pm25     o3       no2     \n",
       "1   1    17.76996 28.22222 25.35417\n",
       "2   2    20.37513 37.37500 26.78034\n",
       "3   3    17.40818 39.05000 26.76984\n",
       "4   4    13.85879 47.94907 25.03125\n",
       "5   5    14.07420 52.75000 24.22222\n",
       "6   6    15.86461 66.58750 25.01140\n",
       "7   7    16.57087 59.54167 22.38442\n",
       "8   8    16.93380 53.96701 22.98333\n",
       "9   9    15.91279 57.48864 24.47917\n",
       "10 10    14.23557 47.09275 24.15217\n",
       "11 11    15.15794 29.45833 23.56537\n",
       "12 12    17.52221 27.70833 24.45773"
      ]
     },
     "metadata": {},
     "output_type": "display_data"
    }
   ],
   "source": [
    "mutate(chicago, month = as.POSIXlt(date)$mon + 1) %>% group_by(month) %>% summarize(\n",
    "pm25 = mean(pm25, na.rm=TRUE), o3=max(o3tmean2, na.rm=TRUE), no2=median(no2tmean2, na.rm=TRUE))"
   ]
  },
  {
   "cell_type": "markdown",
   "metadata": {},
   "source": [
    "### Summary \n",
    "The dplyr package provides a concise set of operations for managing data frames. With these\n",
    "functions we can do a number of complex operations in just a few lines of code. In particular,\n",
    "we can often conduct the beginnings of an exploratory analysis with the powerful combination of\n",
    "group_by() and summarize().\n",
    "Once you learn the dplyr grammar there are a few additional benefits\n",
    "1. dplyr can work with other data frame “backends” such as SQL databases. There is an SQL\n",
    "interface for relational databases via the DBI package\n",
    "2. dplyr can be integrated with the data.table package for large fast tables\n",
    "The dplyr package is handy way to both simplify and speed up your data frame management code.\n",
    "It’s rare that you get such a combination at the same time!"
   ]
  },
  {
   "cell_type": "code",
   "execution_count": null,
   "metadata": {
    "collapsed": true
   },
   "outputs": [],
   "source": []
  }
 ],
 "metadata": {
  "kernelspec": {
   "display_name": "R",
   "language": "R",
   "name": "ir"
  },
  "language_info": {
   "codemirror_mode": "r",
   "file_extension": ".r",
   "mimetype": "text/x-r-source",
   "name": "R",
   "pygments_lexer": "r",
   "version": "3.3.2"
  }
 },
 "nbformat": 4,
 "nbformat_minor": 2
}
