{
 "cells": [
  {
   "cell_type": "markdown",
   "metadata": {},
   "source": [
    "# Creating Vectors"
   ]
  },
  {
   "cell_type": "code",
   "execution_count": 4,
   "metadata": {
    "collapsed": true
   },
   "outputs": [],
   "source": [
    "x <- c(0.5, 0.6) # numeric\n",
    "y <- c(TRUE, FALSE) ## Logical\n",
    "z <- c(\"a\", \"b\", \"c\") #Character\n"
   ]
  },
  {
   "cell_type": "markdown",
   "metadata": {},
   "source": [
    "## Explicit Coercion\n"
   ]
  },
  {
   "cell_type": "code",
   "execution_count": 5,
   "metadata": {
    "collapsed": false
   },
   "outputs": [
    {
     "data": {
      "text/html": [
       "'integer'"
      ],
      "text/latex": [
       "'integer'"
      ],
      "text/markdown": [
       "'integer'"
      ],
      "text/plain": [
       "[1] \"integer\""
      ]
     },
     "metadata": {},
     "output_type": "display_data"
    }
   ],
   "source": [
    "x <- 0:6\n",
    "class(x)"
   ]
  },
  {
   "cell_type": "code",
   "execution_count": 6,
   "metadata": {
    "collapsed": false
   },
   "outputs": [
    {
     "data": {
      "text/html": [
       "<ol class=list-inline>\n",
       "\t<li>0</li>\n",
       "\t<li>1</li>\n",
       "\t<li>2</li>\n",
       "\t<li>3</li>\n",
       "\t<li>4</li>\n",
       "\t<li>5</li>\n",
       "\t<li>6</li>\n",
       "</ol>\n"
      ],
      "text/latex": [
       "\\begin{enumerate*}\n",
       "\\item 0\n",
       "\\item 1\n",
       "\\item 2\n",
       "\\item 3\n",
       "\\item 4\n",
       "\\item 5\n",
       "\\item 6\n",
       "\\end{enumerate*}\n"
      ],
      "text/markdown": [
       "1. 0\n",
       "2. 1\n",
       "3. 2\n",
       "4. 3\n",
       "5. 4\n",
       "6. 5\n",
       "7. 6\n",
       "\n",
       "\n"
      ],
      "text/plain": [
       "[1] 0 1 2 3 4 5 6"
      ]
     },
     "metadata": {},
     "output_type": "display_data"
    }
   ],
   "source": [
    "as.numeric(x)"
   ]
  },
  {
   "cell_type": "code",
   "execution_count": 7,
   "metadata": {
    "collapsed": false
   },
   "outputs": [
    {
     "data": {
      "text/html": [
       "<ol class=list-inline>\n",
       "\t<li>FALSE</li>\n",
       "\t<li>TRUE</li>\n",
       "\t<li>TRUE</li>\n",
       "\t<li>TRUE</li>\n",
       "\t<li>TRUE</li>\n",
       "\t<li>TRUE</li>\n",
       "\t<li>TRUE</li>\n",
       "</ol>\n"
      ],
      "text/latex": [
       "\\begin{enumerate*}\n",
       "\\item FALSE\n",
       "\\item TRUE\n",
       "\\item TRUE\n",
       "\\item TRUE\n",
       "\\item TRUE\n",
       "\\item TRUE\n",
       "\\item TRUE\n",
       "\\end{enumerate*}\n"
      ],
      "text/markdown": [
       "1. FALSE\n",
       "2. TRUE\n",
       "3. TRUE\n",
       "4. TRUE\n",
       "5. TRUE\n",
       "6. TRUE\n",
       "7. TRUE\n",
       "\n",
       "\n"
      ],
      "text/plain": [
       "[1] FALSE  TRUE  TRUE  TRUE  TRUE  TRUE  TRUE"
      ]
     },
     "metadata": {},
     "output_type": "display_data"
    }
   ],
   "source": [
    "as.logical(x)"
   ]
  },
  {
   "cell_type": "code",
   "execution_count": 8,
   "metadata": {
    "collapsed": false
   },
   "outputs": [
    {
     "data": {
      "text/html": [
       "<ol class=list-inline>\n",
       "\t<li>'0'</li>\n",
       "\t<li>'1'</li>\n",
       "\t<li>'2'</li>\n",
       "\t<li>'3'</li>\n",
       "\t<li>'4'</li>\n",
       "\t<li>'5'</li>\n",
       "\t<li>'6'</li>\n",
       "</ol>\n"
      ],
      "text/latex": [
       "\\begin{enumerate*}\n",
       "\\item '0'\n",
       "\\item '1'\n",
       "\\item '2'\n",
       "\\item '3'\n",
       "\\item '4'\n",
       "\\item '5'\n",
       "\\item '6'\n",
       "\\end{enumerate*}\n"
      ],
      "text/markdown": [
       "1. '0'\n",
       "2. '1'\n",
       "3. '2'\n",
       "4. '3'\n",
       "5. '4'\n",
       "6. '5'\n",
       "7. '6'\n",
       "\n",
       "\n"
      ],
      "text/plain": [
       "[1] \"0\" \"1\" \"2\" \"3\" \"4\" \"5\" \"6\""
      ]
     },
     "metadata": {},
     "output_type": "display_data"
    }
   ],
   "source": [
    "as.character(x)"
   ]
  },
  {
   "cell_type": "markdown",
   "metadata": {},
   "source": [
    "## Matrices"
   ]
  },
  {
   "cell_type": "code",
   "execution_count": 9,
   "metadata": {
    "collapsed": false,
    "scrolled": true
   },
   "outputs": [
    {
     "data": {
      "text/html": [
       "<table>\n",
       "<tbody>\n",
       "\t<tr><td>NA</td><td>NA</td><td>NA</td></tr>\n",
       "\t<tr><td>NA</td><td>NA</td><td>NA</td></tr>\n",
       "</tbody>\n",
       "</table>\n"
      ],
      "text/latex": [
       "\\begin{tabular}{lll}\n",
       "\t NA & NA & NA\\\\\n",
       "\t NA & NA & NA\\\\\n",
       "\\end{tabular}\n"
      ],
      "text/markdown": [
       "\n",
       "| NA | NA | NA | \n",
       "| NA | NA | NA | \n",
       "\n",
       "\n"
      ],
      "text/plain": [
       "     [,1] [,2] [,3]\n",
       "[1,] NA   NA   NA  \n",
       "[2,] NA   NA   NA  "
      ]
     },
     "metadata": {},
     "output_type": "display_data"
    }
   ],
   "source": [
    "m <- matrix(nrow=2, ncol=3)\n",
    "m"
   ]
  },
  {
   "cell_type": "code",
   "execution_count": 10,
   "metadata": {
    "collapsed": false
   },
   "outputs": [
    {
     "data": {
      "text/html": [
       "<ol class=list-inline>\n",
       "\t<li>2</li>\n",
       "\t<li>3</li>\n",
       "</ol>\n"
      ],
      "text/latex": [
       "\\begin{enumerate*}\n",
       "\\item 2\n",
       "\\item 3\n",
       "\\end{enumerate*}\n"
      ],
      "text/markdown": [
       "1. 2\n",
       "2. 3\n",
       "\n",
       "\n"
      ],
      "text/plain": [
       "[1] 2 3"
      ]
     },
     "metadata": {},
     "output_type": "display_data"
    }
   ],
   "source": [
    "dim(m)"
   ]
  },
  {
   "cell_type": "code",
   "execution_count": 11,
   "metadata": {
    "collapsed": false
   },
   "outputs": [
    {
     "data": {
      "text/html": [
       "<strong>$dim</strong> = <ol class=list-inline>\n",
       "\t<li>2</li>\n",
       "\t<li>3</li>\n",
       "</ol>\n"
      ],
      "text/latex": [
       "\\textbf{\\$dim} = \\begin{enumerate*}\n",
       "\\item 2\n",
       "\\item 3\n",
       "\\end{enumerate*}\n"
      ],
      "text/markdown": [
       "**$dim** = 1. 2\n",
       "2. 3\n",
       "\n",
       "\n"
      ],
      "text/plain": [
       "$dim\n",
       "[1] 2 3\n"
      ]
     },
     "metadata": {},
     "output_type": "display_data"
    }
   ],
   "source": [
    "attributes(m)"
   ]
  },
  {
   "cell_type": "markdown",
   "metadata": {},
   "source": [
    "Matrices are constructed columnwise"
   ]
  },
  {
   "cell_type": "markdown",
   "metadata": {},
   "source": [
    "m <- matrix(1:6, nrow=2, ncol=3)\n",
    "m"
   ]
  },
  {
   "cell_type": "markdown",
   "metadata": {},
   "source": [
    "matrix can also be constructed from Vectors using the dim() command"
   ]
  },
  {
   "cell_type": "code",
   "execution_count": 12,
   "metadata": {
    "collapsed": false
   },
   "outputs": [
    {
     "data": {
      "text/html": [
       "<ol class=list-inline>\n",
       "\t<li>1</li>\n",
       "\t<li>2</li>\n",
       "\t<li>3</li>\n",
       "\t<li>4</li>\n",
       "\t<li>5</li>\n",
       "\t<li>6</li>\n",
       "\t<li>7</li>\n",
       "\t<li>8</li>\n",
       "\t<li>9</li>\n",
       "\t<li>10</li>\n",
       "</ol>\n"
      ],
      "text/latex": [
       "\\begin{enumerate*}\n",
       "\\item 1\n",
       "\\item 2\n",
       "\\item 3\n",
       "\\item 4\n",
       "\\item 5\n",
       "\\item 6\n",
       "\\item 7\n",
       "\\item 8\n",
       "\\item 9\n",
       "\\item 10\n",
       "\\end{enumerate*}\n"
      ],
      "text/markdown": [
       "1. 1\n",
       "2. 2\n",
       "3. 3\n",
       "4. 4\n",
       "5. 5\n",
       "6. 6\n",
       "7. 7\n",
       "8. 8\n",
       "9. 9\n",
       "10. 10\n",
       "\n",
       "\n"
      ],
      "text/plain": [
       " [1]  1  2  3  4  5  6  7  8  9 10"
      ]
     },
     "metadata": {},
     "output_type": "display_data"
    }
   ],
   "source": [
    "m <- 1:10\n",
    "m"
   ]
  },
  {
   "cell_type": "code",
   "execution_count": 13,
   "metadata": {
    "collapsed": false
   },
   "outputs": [
    {
     "data": {
      "text/html": [
       "<table>\n",
       "<tbody>\n",
       "\t<tr><td>1 </td><td>3 </td><td>5 </td><td>7 </td><td> 9</td></tr>\n",
       "\t<tr><td>2 </td><td>4 </td><td>6 </td><td>8 </td><td>10</td></tr>\n",
       "</tbody>\n",
       "</table>\n"
      ],
      "text/latex": [
       "\\begin{tabular}{lllll}\n",
       "\t 1  & 3  & 5  & 7  &  9\\\\\n",
       "\t 2  & 4  & 6  & 8  & 10\\\\\n",
       "\\end{tabular}\n"
      ],
      "text/markdown": [
       "\n",
       "| 1  | 3  | 5  | 7  |  9 | \n",
       "| 2  | 4  | 6  | 8  | 10 | \n",
       "\n",
       "\n"
      ],
      "text/plain": [
       "     [,1] [,2] [,3] [,4] [,5]\n",
       "[1,] 1    3    5    7     9  \n",
       "[2,] 2    4    6    8    10  "
      ]
     },
     "metadata": {},
     "output_type": "display_data"
    }
   ],
   "source": [
    "dim(m) <- c(2,5)\n",
    "m"
   ]
  },
  {
   "cell_type": "markdown",
   "metadata": {},
   "source": [
    "matrices can be created using column binding and row binding"
   ]
  },
  {
   "cell_type": "code",
   "execution_count": 14,
   "metadata": {
    "collapsed": false
   },
   "outputs": [
    {
     "data": {
      "text/html": [
       "<table>\n",
       "<thead><tr><th scope=col>x</th><th scope=col>y</th></tr></thead>\n",
       "<tbody>\n",
       "\t<tr><td>1 </td><td>10</td></tr>\n",
       "\t<tr><td>2 </td><td>11</td></tr>\n",
       "\t<tr><td>3 </td><td>12</td></tr>\n",
       "</tbody>\n",
       "</table>\n"
      ],
      "text/latex": [
       "\\begin{tabular}{ll}\n",
       " x & y\\\\\n",
       "\\hline\n",
       "\t 1  & 10\\\\\n",
       "\t 2  & 11\\\\\n",
       "\t 3  & 12\\\\\n",
       "\\end{tabular}\n"
      ],
      "text/markdown": [
       "\n",
       "x | y | \n",
       "|---|---|---|\n",
       "| 1  | 10 | \n",
       "| 2  | 11 | \n",
       "| 3  | 12 | \n",
       "\n",
       "\n"
      ],
      "text/plain": [
       "     x y \n",
       "[1,] 1 10\n",
       "[2,] 2 11\n",
       "[3,] 3 12"
      ]
     },
     "metadata": {},
     "output_type": "display_data"
    }
   ],
   "source": [
    "x <- 1:3\n",
    "y <- 10:12\n",
    "cbind(x,y)"
   ]
  },
  {
   "cell_type": "code",
   "execution_count": 15,
   "metadata": {
    "collapsed": false
   },
   "outputs": [
    {
     "data": {
      "text/html": [
       "<table>\n",
       "<tbody>\n",
       "\t<tr><th scope=row>x</th><td> 1</td><td> 2</td><td> 3</td></tr>\n",
       "\t<tr><th scope=row>y</th><td>10</td><td>11</td><td>12</td></tr>\n",
       "</tbody>\n",
       "</table>\n"
      ],
      "text/latex": [
       "\\begin{tabular}{r|lll}\n",
       "\tx &  1 &  2 &  3\\\\\n",
       "\ty & 10 & 11 & 12\\\\\n",
       "\\end{tabular}\n"
      ],
      "text/markdown": [
       "\n",
       "| x |  1 |  2 |  3 | \n",
       "| y | 10 | 11 | 12 | \n",
       "\n",
       "\n"
      ],
      "text/plain": [
       "  [,1] [,2] [,3]\n",
       "x  1    2    3  \n",
       "y 10   11   12  "
      ]
     },
     "metadata": {},
     "output_type": "display_data"
    }
   ],
   "source": [
    "rbind(x,y)"
   ]
  },
  {
   "cell_type": "markdown",
   "metadata": {},
   "source": [
    "## Factors"
   ]
  },
  {
   "cell_type": "markdown",
   "metadata": {},
   "source": [
    "Factors are used to represent categorical data and can be unordered or ordered. One can think of\n",
    "a factor as an integer vector where each integer has a label. Factors are important in statistical\n",
    "modeling and are treated specially by modelling functions like lm() and glm().\n",
    "Using factors with labels is better than using integers because factors are self-describing. Having a\n",
    "variable that has values “Male” and “Female” is better than a variable that has values 1 and 2.\n",
    "Factor objects can be created with the factor() function."
   ]
  },
  {
   "cell_type": "code",
   "execution_count": 16,
   "metadata": {
    "collapsed": false
   },
   "outputs": [
    {
     "data": {
      "text/html": [
       "<ol class=list-inline>\n",
       "\t<li>Yes</li>\n",
       "\t<li>Yes</li>\n",
       "\t<li>No</li>\n",
       "\t<li>Yes</li>\n",
       "\t<li>No</li>\n",
       "</ol>\n"
      ],
      "text/latex": [
       "\\begin{enumerate*}\n",
       "\\item Yes\n",
       "\\item Yes\n",
       "\\item No\n",
       "\\item Yes\n",
       "\\item No\n",
       "\\end{enumerate*}\n"
      ],
      "text/markdown": [
       "1. Yes\n",
       "2. Yes\n",
       "3. No\n",
       "4. Yes\n",
       "5. No\n",
       "\n",
       "\n"
      ],
      "text/plain": [
       "[1] Yes Yes No  Yes No \n",
       "Levels: No Yes"
      ]
     },
     "metadata": {},
     "output_type": "display_data"
    }
   ],
   "source": [
    "x <- factor(c(\"Yes\",\"Yes\",\"No\",\"Yes\",\"No\"))\n",
    "x"
   ]
  },
  {
   "cell_type": "code",
   "execution_count": 17,
   "metadata": {
    "collapsed": false
   },
   "outputs": [
    {
     "data": {
      "text/html": [
       "<ol class=list-inline>\n",
       "\t<li>'No'</li>\n",
       "\t<li>'Yes'</li>\n",
       "</ol>\n"
      ],
      "text/latex": [
       "\\begin{enumerate*}\n",
       "\\item 'No'\n",
       "\\item 'Yes'\n",
       "\\end{enumerate*}\n"
      ],
      "text/markdown": [
       "1. 'No'\n",
       "2. 'Yes'\n",
       "\n",
       "\n"
      ],
      "text/plain": [
       "[1] \"No\"  \"Yes\""
      ]
     },
     "metadata": {},
     "output_type": "display_data"
    }
   ],
   "source": [
    "levels(x)"
   ]
  },
  {
   "cell_type": "code",
   "execution_count": 18,
   "metadata": {
    "collapsed": false
   },
   "outputs": [
    {
     "data": {
      "text/plain": [
       "x\n",
       " No Yes \n",
       "  2   3 "
      ]
     },
     "metadata": {},
     "output_type": "display_data"
    }
   ],
   "source": [
    "table(x)"
   ]
  },
  {
   "cell_type": "markdown",
   "metadata": {},
   "source": [
    "Often factors will be automatically created for you when you read a dataset in using a function like\n",
    "read.table(). Those functions often default to creating factors when they encounter data that look\n",
    "like characters or strings.\n",
    "The order of the levels of a factor can be set using the levels argument to factor(). This can be\n",
    "important in linear modelling because the first level is used as the baseline level."
   ]
  },
  {
   "cell_type": "code",
   "execution_count": 19,
   "metadata": {
    "collapsed": false
   },
   "outputs": [
    {
     "data": {
      "text/html": [
       "<ol class=list-inline>\n",
       "\t<li>'Yes'</li>\n",
       "\t<li>'No'</li>\n",
       "</ol>\n"
      ],
      "text/latex": [
       "\\begin{enumerate*}\n",
       "\\item 'Yes'\n",
       "\\item 'No'\n",
       "\\end{enumerate*}\n"
      ],
      "text/markdown": [
       "1. 'Yes'\n",
       "2. 'No'\n",
       "\n",
       "\n"
      ],
      "text/plain": [
       "[1] \"Yes\" \"No\" "
      ]
     },
     "metadata": {},
     "output_type": "display_data"
    }
   ],
   "source": [
    "x <- factor(c(\"Yes\",\"Yes\",\"No\",\"Yes\",\"No\"), levels=c(\"Yes\",\"No\"))\n",
    "levels(x)"
   ]
  },
  {
   "cell_type": "markdown",
   "metadata": {},
   "source": [
    "## Missing Values"
   ]
  },
  {
   "cell_type": "markdown",
   "metadata": {},
   "source": [
    "Missing values are denoted by NA or NaN for q undefined mathematical operations.\n",
    " is.na() is used to test objects if they are NA\n",
    "• is.nan() is used to test for NaN\n",
    "• NA values have a class also, so there are integer NA, character NA, etc.\n",
    "• A NaN value is also NA but the converse is not true"
   ]
  },
  {
   "cell_type": "code",
   "execution_count": 20,
   "metadata": {
    "collapsed": false,
    "scrolled": true
   },
   "outputs": [
    {
     "data": {
      "text/html": [
       "<ol class=list-inline>\n",
       "\t<li>FALSE</li>\n",
       "\t<li>FALSE</li>\n",
       "\t<li>TRUE</li>\n",
       "\t<li>FALSE</li>\n",
       "\t<li>FALSE</li>\n",
       "</ol>\n"
      ],
      "text/latex": [
       "\\begin{enumerate*}\n",
       "\\item FALSE\n",
       "\\item FALSE\n",
       "\\item TRUE\n",
       "\\item FALSE\n",
       "\\item FALSE\n",
       "\\end{enumerate*}\n"
      ],
      "text/markdown": [
       "1. FALSE\n",
       "2. FALSE\n",
       "3. TRUE\n",
       "4. FALSE\n",
       "5. FALSE\n",
       "\n",
       "\n"
      ],
      "text/plain": [
       "[1] FALSE FALSE  TRUE FALSE FALSE"
      ]
     },
     "metadata": {},
     "output_type": "display_data"
    }
   ],
   "source": [
    "# create a vector with NAs in it\n",
    "x <- c(1,2,NA,10,3)\n",
    "# return logical vector indicating which elements are NA\n",
    "is.na(x)\n"
   ]
  },
  {
   "cell_type": "markdown",
   "metadata": {},
   "source": [
    "## Data Frames"
   ]
  },
  {
   "cell_type": "code",
   "execution_count": 21,
   "metadata": {
    "collapsed": false
   },
   "outputs": [
    {
     "data": {
      "text/html": [
       "<table>\n",
       "<thead><tr><th scope=col>f00</th><th scope=col>bar</th></tr></thead>\n",
       "<tbody>\n",
       "\t<tr><td>1    </td><td> TRUE</td></tr>\n",
       "\t<tr><td>2    </td><td> TRUE</td></tr>\n",
       "\t<tr><td>3    </td><td>FALSE</td></tr>\n",
       "\t<tr><td>4    </td><td>FALSE</td></tr>\n",
       "</tbody>\n",
       "</table>\n"
      ],
      "text/latex": [
       "\\begin{tabular}{r|ll}\n",
       " f00 & bar\\\\\n",
       "\\hline\n",
       "\t 1     &  TRUE\\\\\n",
       "\t 2     &  TRUE\\\\\n",
       "\t 3     & FALSE\\\\\n",
       "\t 4     & FALSE\\\\\n",
       "\\end{tabular}\n"
      ],
      "text/markdown": [
       "\n",
       "f00 | bar | \n",
       "|---|---|---|---|\n",
       "| 1     |  TRUE | \n",
       "| 2     |  TRUE | \n",
       "| 3     | FALSE | \n",
       "| 4     | FALSE | \n",
       "\n",
       "\n"
      ],
      "text/plain": [
       "  f00 bar  \n",
       "1 1    TRUE\n",
       "2 2    TRUE\n",
       "3 3   FALSE\n",
       "4 4   FALSE"
      ]
     },
     "metadata": {},
     "output_type": "display_data"
    }
   ],
   "source": [
    "x <- data.frame(f00=1:4, bar=c(T,T,F,F))\n",
    "x"
   ]
  },
  {
   "cell_type": "code",
   "execution_count": 22,
   "metadata": {
    "collapsed": false
   },
   "outputs": [
    {
     "data": {
      "text/html": [
       "4"
      ],
      "text/latex": [
       "4"
      ],
      "text/markdown": [
       "4"
      ],
      "text/plain": [
       "[1] 4"
      ]
     },
     "metadata": {},
     "output_type": "display_data"
    },
    {
     "data": {
      "text/html": [
       "2"
      ],
      "text/latex": [
       "2"
      ],
      "text/markdown": [
       "2"
      ],
      "text/plain": [
       "[1] 2"
      ]
     },
     "metadata": {},
     "output_type": "display_data"
    }
   ],
   "source": [
    "nrow(x)\n",
    "ncol(x)"
   ]
  },
  {
   "cell_type": "markdown",
   "metadata": {},
   "source": [
    "## Names"
   ]
  },
  {
   "cell_type": "code",
   "execution_count": 23,
   "metadata": {
    "collapsed": false
   },
   "outputs": [
    {
     "data": {
      "text/plain": [
       "NULL"
      ]
     },
     "metadata": {},
     "output_type": "display_data"
    }
   ],
   "source": [
    "x <- 1:3\n",
    "names(x)"
   ]
  },
  {
   "cell_type": "code",
   "execution_count": 24,
   "metadata": {
    "collapsed": false
   },
   "outputs": [
    {
     "data": {
      "text/html": [
       "<dl class=dl-horizontal>\n",
       "\t<dt>New York</dt>\n",
       "\t\t<dd>1</dd>\n",
       "\t<dt>Seattle</dt>\n",
       "\t\t<dd>2</dd>\n",
       "\t<dt>Los Angeles</dt>\n",
       "\t\t<dd>3</dd>\n",
       "</dl>\n"
      ],
      "text/latex": [
       "\\begin{description*}\n",
       "\\item[New York] 1\n",
       "\\item[Seattle] 2\n",
       "\\item[Los Angeles] 3\n",
       "\\end{description*}\n"
      ],
      "text/markdown": [
       "New York\n",
       ":   1Seattle\n",
       ":   2Los Angeles\n",
       ":   3\n",
       "\n"
      ],
      "text/plain": [
       "   New York     Seattle Los Angeles \n",
       "          1           2           3 "
      ]
     },
     "metadata": {},
     "output_type": "display_data"
    }
   ],
   "source": [
    "names(x) <- c(\"New York\", \"Seattle\", \"Los Angeles\")\n",
    "x"
   ]
  },
  {
   "cell_type": "markdown",
   "metadata": {},
   "source": [
    "## Reading Data Files with read.table()"
   ]
  },
  {
   "cell_type": "code",
   "execution_count": null,
   "metadata": {
    "collapsed": true
   },
   "outputs": [],
   "source": []
  },
  {
   "cell_type": "markdown",
   "metadata": {},
   "source": [
    "## Subsetting a Vector"
   ]
  },
  {
   "cell_type": "code",
   "execution_count": 25,
   "metadata": {
    "collapsed": false
   },
   "outputs": [
    {
     "data": {
      "text/html": [
       "'a'"
      ],
      "text/latex": [
       "'a'"
      ],
      "text/markdown": [
       "'a'"
      ],
      "text/plain": [
       "[1] \"a\""
      ]
     },
     "metadata": {},
     "output_type": "display_data"
    },
    {
     "data": {
      "text/html": [
       "'b'"
      ],
      "text/latex": [
       "'b'"
      ],
      "text/markdown": [
       "'b'"
      ],
      "text/plain": [
       "[1] \"b\""
      ]
     },
     "metadata": {},
     "output_type": "display_data"
    }
   ],
   "source": [
    "x <- c(\"a\",\"b\",\"c\",\"c\",\"d\",\"a\")\n",
    "x[1] # first element\n",
    "x[2]  # second element"
   ]
  },
  {
   "cell_type": "code",
   "execution_count": 26,
   "metadata": {
    "collapsed": false
   },
   "outputs": [
    {
     "data": {
      "text/html": [
       "<ol class=list-inline>\n",
       "\t<li>'a'</li>\n",
       "\t<li>'b'</li>\n",
       "\t<li>'c'</li>\n",
       "\t<li>'c'</li>\n",
       "</ol>\n"
      ],
      "text/latex": [
       "\\begin{enumerate*}\n",
       "\\item 'a'\n",
       "\\item 'b'\n",
       "\\item 'c'\n",
       "\\item 'c'\n",
       "\\end{enumerate*}\n"
      ],
      "text/markdown": [
       "1. 'a'\n",
       "2. 'b'\n",
       "3. 'c'\n",
       "4. 'c'\n",
       "\n",
       "\n"
      ],
      "text/plain": [
       "[1] \"a\" \"b\" \"c\" \"c\""
      ]
     },
     "metadata": {},
     "output_type": "display_data"
    }
   ],
   "source": [
    "x[1:4]  # first to 4th element"
   ]
  },
  {
   "cell_type": "code",
   "execution_count": 27,
   "metadata": {
    "collapsed": false
   },
   "outputs": [
    {
     "data": {
      "text/html": [
       "<ol class=list-inline>\n",
       "\t<li>FALSE</li>\n",
       "\t<li>TRUE</li>\n",
       "\t<li>TRUE</li>\n",
       "\t<li>TRUE</li>\n",
       "\t<li>TRUE</li>\n",
       "\t<li>FALSE</li>\n",
       "</ol>\n"
      ],
      "text/latex": [
       "\\begin{enumerate*}\n",
       "\\item FALSE\n",
       "\\item TRUE\n",
       "\\item TRUE\n",
       "\\item TRUE\n",
       "\\item TRUE\n",
       "\\item FALSE\n",
       "\\end{enumerate*}\n"
      ],
      "text/markdown": [
       "1. FALSE\n",
       "2. TRUE\n",
       "3. TRUE\n",
       "4. TRUE\n",
       "5. TRUE\n",
       "6. FALSE\n",
       "\n",
       "\n"
      ],
      "text/plain": [
       "[1] FALSE  TRUE  TRUE  TRUE  TRUE FALSE"
      ]
     },
     "metadata": {},
     "output_type": "display_data"
    }
   ],
   "source": [
    "u <- x > \"a\"\n",
    "u"
   ]
  },
  {
   "cell_type": "markdown",
   "metadata": {},
   "source": [
    "## Removing NA values"
   ]
  },
  {
   "cell_type": "code",
   "execution_count": 28,
   "metadata": {
    "collapsed": false
   },
   "outputs": [
    {
     "name": "stdout",
     "output_type": "stream",
     "text": [
      "[1] FALSE FALSE  TRUE FALSE  TRUE FALSE\n"
     ]
    }
   ],
   "source": [
    "x <- c(1, 2, NA, 4, NA, 5)\n",
    "bad <- is.na(x)\n",
    "print(bad)"
   ]
  },
  {
   "cell_type": "code",
   "execution_count": 29,
   "metadata": {
    "collapsed": false
   },
   "outputs": [
    {
     "data": {
      "text/html": [
       "<ol class=list-inline>\n",
       "\t<li>1</li>\n",
       "\t<li>2</li>\n",
       "\t<li>4</li>\n",
       "\t<li>5</li>\n",
       "</ol>\n"
      ],
      "text/latex": [
       "\\begin{enumerate*}\n",
       "\\item 1\n",
       "\\item 2\n",
       "\\item 4\n",
       "\\item 5\n",
       "\\end{enumerate*}\n"
      ],
      "text/markdown": [
       "1. 1\n",
       "2. 2\n",
       "3. 4\n",
       "4. 5\n",
       "\n",
       "\n"
      ],
      "text/plain": [
       "[1] 1 2 4 5"
      ]
     },
     "metadata": {},
     "output_type": "display_data"
    }
   ],
   "source": [
    "x[!bad]"
   ]
  },
  {
   "cell_type": "code",
   "execution_count": 30,
   "metadata": {
    "collapsed": false
   },
   "outputs": [
    {
     "data": {
      "text/html": [
       "<table>\n",
       "<thead><tr><th scope=col>Ozone</th><th scope=col>Solar.R</th><th scope=col>Wind</th><th scope=col>Temp</th><th scope=col>Month</th><th scope=col>Day</th></tr></thead>\n",
       "<tbody>\n",
       "\t<tr><td>41  </td><td>190 </td><td> 7.4</td><td>67  </td><td>5   </td><td>1   </td></tr>\n",
       "\t<tr><td>36  </td><td>118 </td><td> 8.0</td><td>72  </td><td>5   </td><td>2   </td></tr>\n",
       "\t<tr><td>12  </td><td>149 </td><td>12.6</td><td>74  </td><td>5   </td><td>3   </td></tr>\n",
       "\t<tr><td>18  </td><td>313 </td><td>11.5</td><td>62  </td><td>5   </td><td>4   </td></tr>\n",
       "\t<tr><td>NA  </td><td> NA </td><td>14.3</td><td>56  </td><td>5   </td><td>5   </td></tr>\n",
       "\t<tr><td>28  </td><td> NA </td><td>14.9</td><td>66  </td><td>5   </td><td>6   </td></tr>\n",
       "</tbody>\n",
       "</table>\n"
      ],
      "text/latex": [
       "\\begin{tabular}{r|llllll}\n",
       " Ozone & Solar.R & Wind & Temp & Month & Day\\\\\n",
       "\\hline\n",
       "\t 41   & 190  &  7.4 & 67   & 5    & 1   \\\\\n",
       "\t 36   & 118  &  8.0 & 72   & 5    & 2   \\\\\n",
       "\t 12   & 149  & 12.6 & 74   & 5    & 3   \\\\\n",
       "\t 18   & 313  & 11.5 & 62   & 5    & 4   \\\\\n",
       "\t NA   &  NA  & 14.3 & 56   & 5    & 5   \\\\\n",
       "\t 28   &  NA  & 14.9 & 66   & 5    & 6   \\\\\n",
       "\\end{tabular}\n"
      ],
      "text/markdown": [
       "\n",
       "Ozone | Solar.R | Wind | Temp | Month | Day | \n",
       "|---|---|---|---|---|---|\n",
       "| 41   | 190  |  7.4 | 67   | 5    | 1    | \n",
       "| 36   | 118  |  8.0 | 72   | 5    | 2    | \n",
       "| 12   | 149  | 12.6 | 74   | 5    | 3    | \n",
       "| 18   | 313  | 11.5 | 62   | 5    | 4    | \n",
       "| NA   |  NA  | 14.3 | 56   | 5    | 5    | \n",
       "| 28   |  NA  | 14.9 | 66   | 5    | 6    | \n",
       "\n",
       "\n"
      ],
      "text/plain": [
       "  Ozone Solar.R Wind Temp Month Day\n",
       "1 41    190      7.4 67   5     1  \n",
       "2 36    118      8.0 72   5     2  \n",
       "3 12    149     12.6 74   5     3  \n",
       "4 18    313     11.5 62   5     4  \n",
       "5 NA     NA     14.3 56   5     5  \n",
       "6 28     NA     14.9 66   5     6  "
      ]
     },
     "metadata": {},
     "output_type": "display_data"
    }
   ],
   "source": [
    "head(airquality)"
   ]
  },
  {
   "cell_type": "code",
   "execution_count": 31,
   "metadata": {
    "collapsed": false
   },
   "outputs": [
    {
     "data": {
      "text/html": [
       "<table>\n",
       "<thead><tr><th></th><th scope=col>Ozone</th><th scope=col>Solar.R</th><th scope=col>Wind</th><th scope=col>Temp</th><th scope=col>Month</th><th scope=col>Day</th></tr></thead>\n",
       "<tbody>\n",
       "\t<tr><th scope=row>1</th><td>41  </td><td>190 </td><td> 7.4</td><td>67  </td><td>5   </td><td>1   </td></tr>\n",
       "\t<tr><th scope=row>2</th><td>36  </td><td>118 </td><td> 8.0</td><td>72  </td><td>5   </td><td>2   </td></tr>\n",
       "\t<tr><th scope=row>3</th><td>12  </td><td>149 </td><td>12.6</td><td>74  </td><td>5   </td><td>3   </td></tr>\n",
       "\t<tr><th scope=row>4</th><td>18  </td><td>313 </td><td>11.5</td><td>62  </td><td>5   </td><td>4   </td></tr>\n",
       "\t<tr><th scope=row>7</th><td>23  </td><td>299 </td><td> 8.6</td><td>65  </td><td>5   </td><td>7   </td></tr>\n",
       "\t<tr><th scope=row>8</th><td>19  </td><td> 99 </td><td>13.8</td><td>59  </td><td>5   </td><td>8   </td></tr>\n",
       "</tbody>\n",
       "</table>\n"
      ],
      "text/latex": [
       "\\begin{tabular}{r|llllll}\n",
       "  & Ozone & Solar.R & Wind & Temp & Month & Day\\\\\n",
       "\\hline\n",
       "\t1 & 41   & 190  &  7.4 & 67   & 5    & 1   \\\\\n",
       "\t2 & 36   & 118  &  8.0 & 72   & 5    & 2   \\\\\n",
       "\t3 & 12   & 149  & 12.6 & 74   & 5    & 3   \\\\\n",
       "\t4 & 18   & 313  & 11.5 & 62   & 5    & 4   \\\\\n",
       "\t7 & 23   & 299  &  8.6 & 65   & 5    & 7   \\\\\n",
       "\t8 & 19   &  99  & 13.8 & 59   & 5    & 8   \\\\\n",
       "\\end{tabular}\n"
      ],
      "text/markdown": [
       "\n",
       "| <!--/--> | Ozone | Solar.R | Wind | Temp | Month | Day | \n",
       "|---|---|---|---|---|---|\n",
       "| 1 | 41   | 190  |  7.4 | 67   | 5    | 1    | \n",
       "| 2 | 36   | 118  |  8.0 | 72   | 5    | 2    | \n",
       "| 3 | 12   | 149  | 12.6 | 74   | 5    | 3    | \n",
       "| 4 | 18   | 313  | 11.5 | 62   | 5    | 4    | \n",
       "| 7 | 23   | 299  |  8.6 | 65   | 5    | 7    | \n",
       "| 8 | 19   |  99  | 13.8 | 59   | 5    | 8    | \n",
       "\n",
       "\n"
      ],
      "text/plain": [
       "  Ozone Solar.R Wind Temp Month Day\n",
       "1 41    190      7.4 67   5     1  \n",
       "2 36    118      8.0 72   5     2  \n",
       "3 12    149     12.6 74   5     3  \n",
       "4 18    313     11.5 62   5     4  \n",
       "7 23    299      8.6 65   5     7  \n",
       "8 19     99     13.8 59   5     8  "
      ]
     },
     "metadata": {},
     "output_type": "display_data"
    }
   ],
   "source": [
    "# we can use complete.cases on dataframes to eliminate missing values which returns logicals\n",
    "good <- complete.cases(airquality)\n",
    "head(airquality[good,])"
   ]
  },
  {
   "cell_type": "markdown",
   "metadata": {},
   "source": [
    "## Vectorized operations"
   ]
  },
  {
   "cell_type": "markdown",
   "metadata": {},
   "source": [
    "Many operations in R are vectorized, meaning that operations occur in parallel in certain R objects.\n",
    "This allows you to write code that is efficient, concise, and easier to read than in non-vectorized\n",
    "languages."
   ]
  },
  {
   "cell_type": "code",
   "execution_count": 32,
   "metadata": {
    "collapsed": false
   },
   "outputs": [
    {
     "data": {
      "text/html": [
       "<ol class=list-inline>\n",
       "\t<li>7</li>\n",
       "\t<li>9</li>\n",
       "\t<li>11</li>\n",
       "\t<li>13</li>\n",
       "</ol>\n"
      ],
      "text/latex": [
       "\\begin{enumerate*}\n",
       "\\item 7\n",
       "\\item 9\n",
       "\\item 11\n",
       "\\item 13\n",
       "\\end{enumerate*}\n"
      ],
      "text/markdown": [
       "1. 7\n",
       "2. 9\n",
       "3. 11\n",
       "4. 13\n",
       "\n",
       "\n"
      ],
      "text/plain": [
       "[1]  7  9 11 13"
      ]
     },
     "metadata": {},
     "output_type": "display_data"
    }
   ],
   "source": [
    "x <- 1:4\n",
    "y <- 6:9\n",
    "z <- x+y\n",
    "z"
   ]
  },
  {
   "cell_type": "code",
   "execution_count": 33,
   "metadata": {
    "collapsed": false
   },
   "outputs": [
    {
     "data": {
      "text/html": [
       "<ol class=list-inline>\n",
       "\t<li>FALSE</li>\n",
       "\t<li>FALSE</li>\n",
       "\t<li>TRUE</li>\n",
       "\t<li>TRUE</li>\n",
       "</ol>\n"
      ],
      "text/latex": [
       "\\begin{enumerate*}\n",
       "\\item FALSE\n",
       "\\item FALSE\n",
       "\\item TRUE\n",
       "\\item TRUE\n",
       "\\end{enumerate*}\n"
      ],
      "text/markdown": [
       "1. FALSE\n",
       "2. FALSE\n",
       "3. TRUE\n",
       "4. TRUE\n",
       "\n",
       "\n"
      ],
      "text/plain": [
       "[1] FALSE FALSE  TRUE  TRUE"
      ]
     },
     "metadata": {},
     "output_type": "display_data"
    }
   ],
   "source": [
    "x > 2"
   ]
  },
  {
   "cell_type": "markdown",
   "metadata": {},
   "source": [
    "## Managing DataFrames with the DPLYR package"
   ]
  },
  {
   "cell_type": "markdown",
   "metadata": {},
   "source": [
    "Some of the key “verbs” provided by the dplyr package are\n",
    "1. select: return a subset of the columns of a data frame, using a f lexible notation\n",
    "2. filter: extract a subset of rows from a data frame based on logical conditions\n",
    "3. arrange: reorder rows of a data frame\n",
    "4. rename: rename variables in a data frame\n",
    "5. mutate: add new variables/columns or transform existing variables\n",
    "6. summarise / summarize: generate summary statistics of different variables in the data frame,\n",
    "possibly within strata\n",
    "7• %>%: the “pipe” operator is used to connect multiple verb actions together into a pipeline"
   ]
  },
  {
   "cell_type": "markdown",
   "metadata": {},
   "source": [
    "## Common dplyr Function Properties"
   ]
  },
  {
   "cell_type": "markdown",
   "metadata": {},
   "source": [
    "All of the functions that we will discuss in this Chapter will have a few common characteristics. In\n",
    "particular,\n",
    "1. The first argument is a data frame.\n",
    "2. The subsequent arguments describe what to do with the data frame specified in the first\n",
    "argument, and you can refer to columns in the data frame directly without using the $ operator\n",
    "( just use the column names).\n",
    "3. The return result of a function is a new data frame\n",
    "4. Data frames must be properly formatted and annotated for this to all be useful. In particular,\n",
    "the data must be tidy⁵². In short, there should be one observation per row, and each column\n",
    "should represent a feature or characteristic of that observation."
   ]
  },
  {
   "cell_type": "code",
   "execution_count": 34,
   "metadata": {
    "collapsed": false
   },
   "outputs": [
    {
     "name": "stderr",
     "output_type": "stream",
     "text": [
      "\n",
      "Attaching package: 'dplyr'\n",
      "\n",
      "The following objects are masked from 'package:stats':\n",
      "\n",
      "    filter, lag\n",
      "\n",
      "The following objects are masked from 'package:base':\n",
      "\n",
      "    intersect, setdiff, setequal, union\n",
      "\n"
     ]
    }
   ],
   "source": [
    "library(dplyr)"
   ]
  },
  {
   "cell_type": "code",
   "execution_count": 35,
   "metadata": {
    "collapsed": false
   },
   "outputs": [
    {
     "data": {
      "text/html": [
       "<ol class=list-inline>\n",
       "\t<li>6940</li>\n",
       "\t<li>8</li>\n",
       "</ol>\n"
      ],
      "text/latex": [
       "\\begin{enumerate*}\n",
       "\\item 6940\n",
       "\\item 8\n",
       "\\end{enumerate*}\n"
      ],
      "text/markdown": [
       "1. 6940\n",
       "2. 8\n",
       "\n",
       "\n"
      ],
      "text/plain": [
       "[1] 6940    8"
      ]
     },
     "metadata": {},
     "output_type": "display_data"
    }
   ],
   "source": [
    "chicago <- readRDS(\"chicago.rds\")\n",
    "dim(chicago)"
   ]
  },
  {
   "cell_type": "code",
   "execution_count": 36,
   "metadata": {
    "collapsed": false
   },
   "outputs": [
    {
     "name": "stdout",
     "output_type": "stream",
     "text": [
      "'data.frame':\t6940 obs. of  8 variables:\n",
      " $ city      : chr  \"chic\" \"chic\" \"chic\" \"chic\" ...\n",
      " $ tmpd      : num  31.5 33 33 29 32 40 34.5 29 26.5 32.5 ...\n",
      " $ dptp      : num  31.5 29.9 27.4 28.6 28.9 ...\n",
      " $ date      : Date, format: \"1987-01-01\" \"1987-01-02\" ...\n",
      " $ pm25tmean2: num  NA NA NA NA NA NA NA NA NA NA ...\n",
      " $ pm10tmean2: num  34 NA 34.2 47 NA ...\n",
      " $ o3tmean2  : num  4.25 3.3 3.33 4.38 4.75 ...\n",
      " $ no2tmean2 : num  20 23.2 23.8 30.4 30.3 ...\n"
     ]
    }
   ],
   "source": [
    "# display structure of dataFrame\n",
    "str(chicago)"
   ]
  },
  {
   "cell_type": "markdown",
   "metadata": {},
   "source": [
    "The select() function can be used to select columns of a data frame that you want to focus on.\n",
    "Often you’ll have a large data frame containing “all” of the data, but any given analysis might only\n",
    "use a subset of variables or observations. The select() function allows you to get the few columns\n",
    "you might need.\n",
    "Suppose we wanted to take the first 3 columns only. There are a few ways to do this. We could for\n",
    "example use numerical indices. But we can also use the names directly."
   ]
  },
  {
   "cell_type": "code",
   "execution_count": 37,
   "metadata": {
    "collapsed": false
   },
   "outputs": [
    {
     "data": {
      "text/html": [
       "<ol class=list-inline>\n",
       "\t<li>'city'</li>\n",
       "\t<li>'tmpd'</li>\n",
       "\t<li>'dptp'</li>\n",
       "</ol>\n"
      ],
      "text/latex": [
       "\\begin{enumerate*}\n",
       "\\item 'city'\n",
       "\\item 'tmpd'\n",
       "\\item 'dptp'\n",
       "\\end{enumerate*}\n"
      ],
      "text/markdown": [
       "1. 'city'\n",
       "2. 'tmpd'\n",
       "3. 'dptp'\n",
       "\n",
       "\n"
      ],
      "text/plain": [
       "[1] \"city\" \"tmpd\" \"dptp\""
      ]
     },
     "metadata": {},
     "output_type": "display_data"
    }
   ],
   "source": [
    "names(chicago)[1:3]"
   ]
  },
  {
   "cell_type": "code",
   "execution_count": 38,
   "metadata": {
    "collapsed": false
   },
   "outputs": [
    {
     "data": {
      "text/html": [
       "<table>\n",
       "<thead><tr><th scope=col>city</th><th scope=col>tmpd</th><th scope=col>dptp</th></tr></thead>\n",
       "<tbody>\n",
       "\t<tr><td>chic  </td><td>31.5  </td><td>31.500</td></tr>\n",
       "\t<tr><td>chic  </td><td>33.0  </td><td>29.875</td></tr>\n",
       "\t<tr><td>chic  </td><td>33.0  </td><td>27.375</td></tr>\n",
       "\t<tr><td>chic  </td><td>29.0  </td><td>28.625</td></tr>\n",
       "\t<tr><td>chic  </td><td>32.0  </td><td>28.875</td></tr>\n",
       "\t<tr><td>chic  </td><td>40.0  </td><td>35.125</td></tr>\n",
       "</tbody>\n",
       "</table>\n"
      ],
      "text/latex": [
       "\\begin{tabular}{r|lll}\n",
       " city & tmpd & dptp\\\\\n",
       "\\hline\n",
       "\t chic   & 31.5   & 31.500\\\\\n",
       "\t chic   & 33.0   & 29.875\\\\\n",
       "\t chic   & 33.0   & 27.375\\\\\n",
       "\t chic   & 29.0   & 28.625\\\\\n",
       "\t chic   & 32.0   & 28.875\\\\\n",
       "\t chic   & 40.0   & 35.125\\\\\n",
       "\\end{tabular}\n"
      ],
      "text/markdown": [
       "\n",
       "city | tmpd | dptp | \n",
       "|---|---|---|---|---|---|\n",
       "| chic   | 31.5   | 31.500 | \n",
       "| chic   | 33.0   | 29.875 | \n",
       "| chic   | 33.0   | 27.375 | \n",
       "| chic   | 29.0   | 28.625 | \n",
       "| chic   | 32.0   | 28.875 | \n",
       "| chic   | 40.0   | 35.125 | \n",
       "\n",
       "\n"
      ],
      "text/plain": [
       "  city tmpd dptp  \n",
       "1 chic 31.5 31.500\n",
       "2 chic 33.0 29.875\n",
       "3 chic 33.0 27.375\n",
       "4 chic 29.0 28.625\n",
       "5 chic 32.0 28.875\n",
       "6 chic 40.0 35.125"
      ]
     },
     "metadata": {},
     "output_type": "display_data"
    }
   ],
   "source": [
    "subset <- select(chicago, city:dptp)\n",
    "head(subset)"
   ]
  },
  {
   "cell_type": "markdown",
   "metadata": {},
   "source": [
    "Note that the : normally cannot be used with names or strings, but inside the select() function\n",
    "you can use it to specify a range of variable names.\n",
    "You can also omit variables using the select() function by using the negative sign. With select()\n",
    "you can do"
   ]
  },
  {
   "cell_type": "code",
   "execution_count": 39,
   "metadata": {
    "collapsed": false
   },
   "outputs": [
    {
     "data": {
      "text/html": [
       "<table>\n",
       "<thead><tr><th scope=col>date</th><th scope=col>pm25tmean2</th><th scope=col>pm10tmean2</th><th scope=col>o3tmean2</th><th scope=col>no2tmean2</th></tr></thead>\n",
       "<tbody>\n",
       "\t<tr><td>1987-01-01</td><td>NA        </td><td>34.00000  </td><td> 4.250000 </td><td>19.98810  </td></tr>\n",
       "\t<tr><td>1987-01-02</td><td>NA        </td><td>      NA  </td><td> 3.304348 </td><td>23.19099  </td></tr>\n",
       "\t<tr><td>1987-01-03</td><td>NA        </td><td>34.16667  </td><td> 3.333333 </td><td>23.81548  </td></tr>\n",
       "\t<tr><td>1987-01-04</td><td>NA        </td><td>47.00000  </td><td> 4.375000 </td><td>30.43452  </td></tr>\n",
       "\t<tr><td>1987-01-05</td><td>NA        </td><td>      NA  </td><td> 4.750000 </td><td>30.33333  </td></tr>\n",
       "\t<tr><td>1987-01-06</td><td>NA        </td><td>48.00000  </td><td> 5.833333 </td><td>25.77233  </td></tr>\n",
       "\t<tr><td>1987-01-07</td><td>NA        </td><td>41.00000  </td><td> 9.291667 </td><td>20.58171  </td></tr>\n",
       "\t<tr><td>1987-01-08</td><td>NA        </td><td>36.00000  </td><td>11.291667 </td><td>17.03723  </td></tr>\n",
       "\t<tr><td>1987-01-09</td><td>NA        </td><td>33.28571  </td><td> 4.500000 </td><td>23.38889  </td></tr>\n",
       "\t<tr><td>1987-01-10</td><td>NA        </td><td>      NA  </td><td> 4.958333 </td><td>19.54167  </td></tr>\n",
       "\t<tr><td>1987-01-11</td><td>NA        </td><td>22.00000  </td><td>17.541667 </td><td>13.70139  </td></tr>\n",
       "\t<tr><td>1987-01-12</td><td>NA        </td><td>26.00000  </td><td> 8.000000 </td><td>33.02083  </td></tr>\n",
       "\t<tr><td>1987-01-13</td><td>NA        </td><td>53.00000  </td><td> 4.958333 </td><td>38.06142  </td></tr>\n",
       "\t<tr><td>1987-01-14</td><td>NA        </td><td>43.00000  </td><td> 4.208333 </td><td>32.19444  </td></tr>\n",
       "\t<tr><td>1987-01-15</td><td>NA        </td><td>28.83333  </td><td> 4.458333 </td><td>18.87131  </td></tr>\n",
       "\t<tr><td>1987-01-16</td><td>NA        </td><td>19.00000  </td><td> 7.916667 </td><td>19.46667  </td></tr>\n",
       "\t<tr><td>1987-01-17</td><td>NA        </td><td>      NA  </td><td> 5.833333 </td><td>20.70833  </td></tr>\n",
       "\t<tr><td>1987-01-18</td><td>NA        </td><td>39.00000  </td><td> 6.375000 </td><td>21.03333  </td></tr>\n",
       "\t<tr><td>1987-01-19</td><td>NA        </td><td>32.00000  </td><td>14.875000 </td><td>17.17409  </td></tr>\n",
       "\t<tr><td>1987-01-20</td><td>NA        </td><td>38.00000  </td><td> 7.250000 </td><td>21.61021  </td></tr>\n",
       "\t<tr><td>1987-01-21</td><td>NA        </td><td>32.85714  </td><td> 8.913043 </td><td>24.52083  </td></tr>\n",
       "\t<tr><td>1987-01-22</td><td>NA        </td><td>52.00000  </td><td>10.500000 </td><td>16.98798  </td></tr>\n",
       "\t<tr><td>1987-01-23</td><td>NA        </td><td>55.00000  </td><td>14.625000 </td><td>14.66250  </td></tr>\n",
       "\t<tr><td>1987-01-24</td><td>NA        </td><td>38.00000  </td><td>10.083333 </td><td>18.69167  </td></tr>\n",
       "\t<tr><td>1987-01-25</td><td>NA        </td><td>      NA  </td><td> 6.666667 </td><td>26.30417  </td></tr>\n",
       "\t<tr><td>1987-01-26</td><td>NA        </td><td>71.00000  </td><td> 4.583333 </td><td>32.42143  </td></tr>\n",
       "\t<tr><td>1987-01-27</td><td>NA        </td><td>39.33333  </td><td> 6.000000 </td><td>30.69306  </td></tr>\n",
       "\t<tr><td>1987-01-28</td><td>NA        </td><td>47.00000  </td><td> 6.875000 </td><td>29.12943  </td></tr>\n",
       "\t<tr><td>1987-01-29</td><td>NA        </td><td>35.00000  </td><td> 2.916667 </td><td>28.14529  </td></tr>\n",
       "\t<tr><td>1987-01-30</td><td>NA        </td><td>59.00000  </td><td> 8.791667 </td><td>19.79861  </td></tr>\n",
       "\t<tr><td>...</td><td>...</td><td>...</td><td>...</td><td>...</td></tr>\n",
       "\t<tr><td>2005-12-02</td><td>      NA  </td><td>19.50     </td><td> 9.156250 </td><td>23.29167  </td></tr>\n",
       "\t<tr><td>2005-12-03</td><td>13.34286  </td><td>20.00     </td><td>10.333333 </td><td>25.19444  </td></tr>\n",
       "\t<tr><td>2005-12-04</td><td>15.30000  </td><td>15.50     </td><td>13.177083 </td><td>21.70833  </td></tr>\n",
       "\t<tr><td>2005-12-05</td><td>      NA  </td><td>30.00     </td><td> 6.447917 </td><td>28.38889  </td></tr>\n",
       "\t<tr><td>2005-12-06</td><td>24.61667  </td><td>33.00     </td><td> 4.701540 </td><td>29.08333  </td></tr>\n",
       "\t<tr><td>2005-12-07</td><td>37.80000  </td><td>39.00     </td><td> 3.916214 </td><td>34.30952  </td></tr>\n",
       "\t<tr><td>2005-12-08</td><td>24.30000  </td><td>31.00     </td><td> 5.995265 </td><td>34.22222  </td></tr>\n",
       "\t<tr><td>2005-12-09</td><td>25.45000  </td><td>22.00     </td><td> 5.958333 </td><td>31.41667  </td></tr>\n",
       "\t<tr><td>2005-12-10</td><td>18.20000  </td><td>30.00     </td><td> 9.135417 </td><td>28.70833  </td></tr>\n",
       "\t<tr><td>2005-12-11</td><td>10.60000  </td><td>14.00     </td><td>11.333333 </td><td>22.55556  </td></tr>\n",
       "\t<tr><td>2005-12-12</td><td>19.22500  </td><td>28.75     </td><td> 5.031250 </td><td>39.74621  </td></tr>\n",
       "\t<tr><td>2005-12-13</td><td>26.50000  </td><td>21.00     </td><td> 6.628623 </td><td>29.56944  </td></tr>\n",
       "\t<tr><td>2005-12-14</td><td>26.90000  </td><td>16.00     </td><td> 3.802083 </td><td>30.63384  </td></tr>\n",
       "\t<tr><td>2005-12-15</td><td>14.40000  </td><td>16.50     </td><td> 4.895833 </td><td>25.43056  </td></tr>\n",
       "\t<tr><td>2005-12-16</td><td>11.00000  </td><td>22.00     </td><td>11.166667 </td><td>16.87500  </td></tr>\n",
       "\t<tr><td>2005-12-17</td><td>13.80000  </td><td>20.00     </td><td> 8.593750 </td><td>20.73611  </td></tr>\n",
       "\t<tr><td>2005-12-18</td><td>12.20000  </td><td>17.50     </td><td>13.552083 </td><td>19.11111  </td></tr>\n",
       "\t<tr><td>2005-12-19</td><td>21.15000  </td><td>21.00     </td><td> 8.058877 </td><td>31.79167  </td></tr>\n",
       "\t<tr><td>2005-12-20</td><td>25.75000  </td><td>32.00     </td><td> 3.849185 </td><td>32.89773  </td></tr>\n",
       "\t<tr><td>2005-12-21</td><td>37.92857  </td><td>59.50     </td><td> 3.663949 </td><td>34.86111  </td></tr>\n",
       "\t<tr><td>2005-12-22</td><td>36.65000  </td><td>42.50     </td><td> 5.385417 </td><td>33.73026  </td></tr>\n",
       "\t<tr><td>2005-12-23</td><td>32.90000  </td><td>34.50     </td><td> 6.906250 </td><td>29.08333  </td></tr>\n",
       "\t<tr><td>2005-12-24</td><td>30.77143  </td><td>25.20     </td><td> 1.770833 </td><td>31.98611  </td></tr>\n",
       "\t<tr><td>2005-12-25</td><td> 6.70000  </td><td> 8.00     </td><td>14.354167 </td><td>13.79167  </td></tr>\n",
       "\t<tr><td>2005-12-26</td><td> 8.40000  </td><td> 8.50     </td><td>14.041667 </td><td>16.81944  </td></tr>\n",
       "\t<tr><td>2005-12-27</td><td>23.56000  </td><td>27.00     </td><td> 4.468750 </td><td>23.50000  </td></tr>\n",
       "\t<tr><td>2005-12-28</td><td>17.75000  </td><td>27.50     </td><td> 3.260417 </td><td>19.28563  </td></tr>\n",
       "\t<tr><td>2005-12-29</td><td> 7.45000  </td><td>23.50     </td><td> 6.794837 </td><td>19.97222  </td></tr>\n",
       "\t<tr><td>2005-12-30</td><td>15.05714  </td><td>19.20     </td><td> 3.034420 </td><td>22.80556  </td></tr>\n",
       "\t<tr><td>2005-12-31</td><td>15.00000  </td><td>23.50     </td><td> 2.531250 </td><td>13.25000  </td></tr>\n",
       "</tbody>\n",
       "</table>\n"
      ],
      "text/latex": [
       "\\begin{tabular}{r|lllll}\n",
       " date & pm25tmean2 & pm10tmean2 & o3tmean2 & no2tmean2\\\\\n",
       "\\hline\n",
       "\t 1987-01-01 & NA         & 34.00000   &  4.250000  & 19.98810  \\\\\n",
       "\t 1987-01-02 & NA         &       NA   &  3.304348  & 23.19099  \\\\\n",
       "\t 1987-01-03 & NA         & 34.16667   &  3.333333  & 23.81548  \\\\\n",
       "\t 1987-01-04 & NA         & 47.00000   &  4.375000  & 30.43452  \\\\\n",
       "\t 1987-01-05 & NA         &       NA   &  4.750000  & 30.33333  \\\\\n",
       "\t 1987-01-06 & NA         & 48.00000   &  5.833333  & 25.77233  \\\\\n",
       "\t 1987-01-07 & NA         & 41.00000   &  9.291667  & 20.58171  \\\\\n",
       "\t 1987-01-08 & NA         & 36.00000   & 11.291667  & 17.03723  \\\\\n",
       "\t 1987-01-09 & NA         & 33.28571   &  4.500000  & 23.38889  \\\\\n",
       "\t 1987-01-10 & NA         &       NA   &  4.958333  & 19.54167  \\\\\n",
       "\t 1987-01-11 & NA         & 22.00000   & 17.541667  & 13.70139  \\\\\n",
       "\t 1987-01-12 & NA         & 26.00000   &  8.000000  & 33.02083  \\\\\n",
       "\t 1987-01-13 & NA         & 53.00000   &  4.958333  & 38.06142  \\\\\n",
       "\t 1987-01-14 & NA         & 43.00000   &  4.208333  & 32.19444  \\\\\n",
       "\t 1987-01-15 & NA         & 28.83333   &  4.458333  & 18.87131  \\\\\n",
       "\t 1987-01-16 & NA         & 19.00000   &  7.916667  & 19.46667  \\\\\n",
       "\t 1987-01-17 & NA         &       NA   &  5.833333  & 20.70833  \\\\\n",
       "\t 1987-01-18 & NA         & 39.00000   &  6.375000  & 21.03333  \\\\\n",
       "\t 1987-01-19 & NA         & 32.00000   & 14.875000  & 17.17409  \\\\\n",
       "\t 1987-01-20 & NA         & 38.00000   &  7.250000  & 21.61021  \\\\\n",
       "\t 1987-01-21 & NA         & 32.85714   &  8.913043  & 24.52083  \\\\\n",
       "\t 1987-01-22 & NA         & 52.00000   & 10.500000  & 16.98798  \\\\\n",
       "\t 1987-01-23 & NA         & 55.00000   & 14.625000  & 14.66250  \\\\\n",
       "\t 1987-01-24 & NA         & 38.00000   & 10.083333  & 18.69167  \\\\\n",
       "\t 1987-01-25 & NA         &       NA   &  6.666667  & 26.30417  \\\\\n",
       "\t 1987-01-26 & NA         & 71.00000   &  4.583333  & 32.42143  \\\\\n",
       "\t 1987-01-27 & NA         & 39.33333   &  6.000000  & 30.69306  \\\\\n",
       "\t 1987-01-28 & NA         & 47.00000   &  6.875000  & 29.12943  \\\\\n",
       "\t 1987-01-29 & NA         & 35.00000   &  2.916667  & 28.14529  \\\\\n",
       "\t 1987-01-30 & NA         & 59.00000   &  8.791667  & 19.79861  \\\\\n",
       "\t ... & ... & ... & ... & ...\\\\\n",
       "\t 2005-12-02 &       NA   & 19.50      &  9.156250  & 23.29167  \\\\\n",
       "\t 2005-12-03 & 13.34286   & 20.00      & 10.333333  & 25.19444  \\\\\n",
       "\t 2005-12-04 & 15.30000   & 15.50      & 13.177083  & 21.70833  \\\\\n",
       "\t 2005-12-05 &       NA   & 30.00      &  6.447917  & 28.38889  \\\\\n",
       "\t 2005-12-06 & 24.61667   & 33.00      &  4.701540  & 29.08333  \\\\\n",
       "\t 2005-12-07 & 37.80000   & 39.00      &  3.916214  & 34.30952  \\\\\n",
       "\t 2005-12-08 & 24.30000   & 31.00      &  5.995265  & 34.22222  \\\\\n",
       "\t 2005-12-09 & 25.45000   & 22.00      &  5.958333  & 31.41667  \\\\\n",
       "\t 2005-12-10 & 18.20000   & 30.00      &  9.135417  & 28.70833  \\\\\n",
       "\t 2005-12-11 & 10.60000   & 14.00      & 11.333333  & 22.55556  \\\\\n",
       "\t 2005-12-12 & 19.22500   & 28.75      &  5.031250  & 39.74621  \\\\\n",
       "\t 2005-12-13 & 26.50000   & 21.00      &  6.628623  & 29.56944  \\\\\n",
       "\t 2005-12-14 & 26.90000   & 16.00      &  3.802083  & 30.63384  \\\\\n",
       "\t 2005-12-15 & 14.40000   & 16.50      &  4.895833  & 25.43056  \\\\\n",
       "\t 2005-12-16 & 11.00000   & 22.00      & 11.166667  & 16.87500  \\\\\n",
       "\t 2005-12-17 & 13.80000   & 20.00      &  8.593750  & 20.73611  \\\\\n",
       "\t 2005-12-18 & 12.20000   & 17.50      & 13.552083  & 19.11111  \\\\\n",
       "\t 2005-12-19 & 21.15000   & 21.00      &  8.058877  & 31.79167  \\\\\n",
       "\t 2005-12-20 & 25.75000   & 32.00      &  3.849185  & 32.89773  \\\\\n",
       "\t 2005-12-21 & 37.92857   & 59.50      &  3.663949  & 34.86111  \\\\\n",
       "\t 2005-12-22 & 36.65000   & 42.50      &  5.385417  & 33.73026  \\\\\n",
       "\t 2005-12-23 & 32.90000   & 34.50      &  6.906250  & 29.08333  \\\\\n",
       "\t 2005-12-24 & 30.77143   & 25.20      &  1.770833  & 31.98611  \\\\\n",
       "\t 2005-12-25 &  6.70000   &  8.00      & 14.354167  & 13.79167  \\\\\n",
       "\t 2005-12-26 &  8.40000   &  8.50      & 14.041667  & 16.81944  \\\\\n",
       "\t 2005-12-27 & 23.56000   & 27.00      &  4.468750  & 23.50000  \\\\\n",
       "\t 2005-12-28 & 17.75000   & 27.50      &  3.260417  & 19.28563  \\\\\n",
       "\t 2005-12-29 &  7.45000   & 23.50      &  6.794837  & 19.97222  \\\\\n",
       "\t 2005-12-30 & 15.05714   & 19.20      &  3.034420  & 22.80556  \\\\\n",
       "\t 2005-12-31 & 15.00000   & 23.50      &  2.531250  & 13.25000  \\\\\n",
       "\\end{tabular}\n"
      ],
      "text/markdown": [
       "\n",
       "date | pm25tmean2 | pm10tmean2 | o3tmean2 | no2tmean2 | \n",
       "|---|---|---|---|---|---|---|---|---|---|---|---|---|---|---|---|---|---|---|---|---|---|---|---|---|---|---|---|---|---|---|---|---|---|---|---|---|---|---|---|---|---|---|---|---|---|---|---|---|---|---|---|---|---|---|---|---|---|---|---|---|\n",
       "| 1987-01-01 | NA         | 34.00000   |  4.250000  | 19.98810   | \n",
       "| 1987-01-02 | NA         |       NA   |  3.304348  | 23.19099   | \n",
       "| 1987-01-03 | NA         | 34.16667   |  3.333333  | 23.81548   | \n",
       "| 1987-01-04 | NA         | 47.00000   |  4.375000  | 30.43452   | \n",
       "| 1987-01-05 | NA         |       NA   |  4.750000  | 30.33333   | \n",
       "| 1987-01-06 | NA         | 48.00000   |  5.833333  | 25.77233   | \n",
       "| 1987-01-07 | NA         | 41.00000   |  9.291667  | 20.58171   | \n",
       "| 1987-01-08 | NA         | 36.00000   | 11.291667  | 17.03723   | \n",
       "| 1987-01-09 | NA         | 33.28571   |  4.500000  | 23.38889   | \n",
       "| 1987-01-10 | NA         |       NA   |  4.958333  | 19.54167   | \n",
       "| 1987-01-11 | NA         | 22.00000   | 17.541667  | 13.70139   | \n",
       "| 1987-01-12 | NA         | 26.00000   |  8.000000  | 33.02083   | \n",
       "| 1987-01-13 | NA         | 53.00000   |  4.958333  | 38.06142   | \n",
       "| 1987-01-14 | NA         | 43.00000   |  4.208333  | 32.19444   | \n",
       "| 1987-01-15 | NA         | 28.83333   |  4.458333  | 18.87131   | \n",
       "| 1987-01-16 | NA         | 19.00000   |  7.916667  | 19.46667   | \n",
       "| 1987-01-17 | NA         |       NA   |  5.833333  | 20.70833   | \n",
       "| 1987-01-18 | NA         | 39.00000   |  6.375000  | 21.03333   | \n",
       "| 1987-01-19 | NA         | 32.00000   | 14.875000  | 17.17409   | \n",
       "| 1987-01-20 | NA         | 38.00000   |  7.250000  | 21.61021   | \n",
       "| 1987-01-21 | NA         | 32.85714   |  8.913043  | 24.52083   | \n",
       "| 1987-01-22 | NA         | 52.00000   | 10.500000  | 16.98798   | \n",
       "| 1987-01-23 | NA         | 55.00000   | 14.625000  | 14.66250   | \n",
       "| 1987-01-24 | NA         | 38.00000   | 10.083333  | 18.69167   | \n",
       "| 1987-01-25 | NA         |       NA   |  6.666667  | 26.30417   | \n",
       "| 1987-01-26 | NA         | 71.00000   |  4.583333  | 32.42143   | \n",
       "| 1987-01-27 | NA         | 39.33333   |  6.000000  | 30.69306   | \n",
       "| 1987-01-28 | NA         | 47.00000   |  6.875000  | 29.12943   | \n",
       "| 1987-01-29 | NA         | 35.00000   |  2.916667  | 28.14529   | \n",
       "| 1987-01-30 | NA         | 59.00000   |  8.791667  | 19.79861   | \n",
       "| ... | ... | ... | ... | ... | \n",
       "| 2005-12-02 |       NA   | 19.50      |  9.156250  | 23.29167   | \n",
       "| 2005-12-03 | 13.34286   | 20.00      | 10.333333  | 25.19444   | \n",
       "| 2005-12-04 | 15.30000   | 15.50      | 13.177083  | 21.70833   | \n",
       "| 2005-12-05 |       NA   | 30.00      |  6.447917  | 28.38889   | \n",
       "| 2005-12-06 | 24.61667   | 33.00      |  4.701540  | 29.08333   | \n",
       "| 2005-12-07 | 37.80000   | 39.00      |  3.916214  | 34.30952   | \n",
       "| 2005-12-08 | 24.30000   | 31.00      |  5.995265  | 34.22222   | \n",
       "| 2005-12-09 | 25.45000   | 22.00      |  5.958333  | 31.41667   | \n",
       "| 2005-12-10 | 18.20000   | 30.00      |  9.135417  | 28.70833   | \n",
       "| 2005-12-11 | 10.60000   | 14.00      | 11.333333  | 22.55556   | \n",
       "| 2005-12-12 | 19.22500   | 28.75      |  5.031250  | 39.74621   | \n",
       "| 2005-12-13 | 26.50000   | 21.00      |  6.628623  | 29.56944   | \n",
       "| 2005-12-14 | 26.90000   | 16.00      |  3.802083  | 30.63384   | \n",
       "| 2005-12-15 | 14.40000   | 16.50      |  4.895833  | 25.43056   | \n",
       "| 2005-12-16 | 11.00000   | 22.00      | 11.166667  | 16.87500   | \n",
       "| 2005-12-17 | 13.80000   | 20.00      |  8.593750  | 20.73611   | \n",
       "| 2005-12-18 | 12.20000   | 17.50      | 13.552083  | 19.11111   | \n",
       "| 2005-12-19 | 21.15000   | 21.00      |  8.058877  | 31.79167   | \n",
       "| 2005-12-20 | 25.75000   | 32.00      |  3.849185  | 32.89773   | \n",
       "| 2005-12-21 | 37.92857   | 59.50      |  3.663949  | 34.86111   | \n",
       "| 2005-12-22 | 36.65000   | 42.50      |  5.385417  | 33.73026   | \n",
       "| 2005-12-23 | 32.90000   | 34.50      |  6.906250  | 29.08333   | \n",
       "| 2005-12-24 | 30.77143   | 25.20      |  1.770833  | 31.98611   | \n",
       "| 2005-12-25 |  6.70000   |  8.00      | 14.354167  | 13.79167   | \n",
       "| 2005-12-26 |  8.40000   |  8.50      | 14.041667  | 16.81944   | \n",
       "| 2005-12-27 | 23.56000   | 27.00      |  4.468750  | 23.50000   | \n",
       "| 2005-12-28 | 17.75000   | 27.50      |  3.260417  | 19.28563   | \n",
       "| 2005-12-29 |  7.45000   | 23.50      |  6.794837  | 19.97222   | \n",
       "| 2005-12-30 | 15.05714   | 19.20      |  3.034420  | 22.80556   | \n",
       "| 2005-12-31 | 15.00000   | 23.50      |  2.531250  | 13.25000   | \n",
       "\n",
       "\n"
      ],
      "text/plain": [
       "     date       pm25tmean2 pm10tmean2 o3tmean2  no2tmean2\n",
       "1    1987-01-01 NA         34.00000    4.250000 19.98810 \n",
       "2    1987-01-02 NA               NA    3.304348 23.19099 \n",
       "3    1987-01-03 NA         34.16667    3.333333 23.81548 \n",
       "4    1987-01-04 NA         47.00000    4.375000 30.43452 \n",
       "5    1987-01-05 NA               NA    4.750000 30.33333 \n",
       "6    1987-01-06 NA         48.00000    5.833333 25.77233 \n",
       "7    1987-01-07 NA         41.00000    9.291667 20.58171 \n",
       "8    1987-01-08 NA         36.00000   11.291667 17.03723 \n",
       "9    1987-01-09 NA         33.28571    4.500000 23.38889 \n",
       "10   1987-01-10 NA               NA    4.958333 19.54167 \n",
       "11   1987-01-11 NA         22.00000   17.541667 13.70139 \n",
       "12   1987-01-12 NA         26.00000    8.000000 33.02083 \n",
       "13   1987-01-13 NA         53.00000    4.958333 38.06142 \n",
       "14   1987-01-14 NA         43.00000    4.208333 32.19444 \n",
       "15   1987-01-15 NA         28.83333    4.458333 18.87131 \n",
       "16   1987-01-16 NA         19.00000    7.916667 19.46667 \n",
       "17   1987-01-17 NA               NA    5.833333 20.70833 \n",
       "18   1987-01-18 NA         39.00000    6.375000 21.03333 \n",
       "19   1987-01-19 NA         32.00000   14.875000 17.17409 \n",
       "20   1987-01-20 NA         38.00000    7.250000 21.61021 \n",
       "21   1987-01-21 NA         32.85714    8.913043 24.52083 \n",
       "22   1987-01-22 NA         52.00000   10.500000 16.98798 \n",
       "23   1987-01-23 NA         55.00000   14.625000 14.66250 \n",
       "24   1987-01-24 NA         38.00000   10.083333 18.69167 \n",
       "25   1987-01-25 NA               NA    6.666667 26.30417 \n",
       "26   1987-01-26 NA         71.00000    4.583333 32.42143 \n",
       "27   1987-01-27 NA         39.33333    6.000000 30.69306 \n",
       "28   1987-01-28 NA         47.00000    6.875000 29.12943 \n",
       "29   1987-01-29 NA         35.00000    2.916667 28.14529 \n",
       "30   1987-01-30 NA         59.00000    8.791667 19.79861 \n",
       "...  ...        ...        ...        ...       ...      \n",
       "6911 2005-12-02       NA   19.50       9.156250 23.29167 \n",
       "6912 2005-12-03 13.34286   20.00      10.333333 25.19444 \n",
       "6913 2005-12-04 15.30000   15.50      13.177083 21.70833 \n",
       "6914 2005-12-05       NA   30.00       6.447917 28.38889 \n",
       "6915 2005-12-06 24.61667   33.00       4.701540 29.08333 \n",
       "6916 2005-12-07 37.80000   39.00       3.916214 34.30952 \n",
       "6917 2005-12-08 24.30000   31.00       5.995265 34.22222 \n",
       "6918 2005-12-09 25.45000   22.00       5.958333 31.41667 \n",
       "6919 2005-12-10 18.20000   30.00       9.135417 28.70833 \n",
       "6920 2005-12-11 10.60000   14.00      11.333333 22.55556 \n",
       "6921 2005-12-12 19.22500   28.75       5.031250 39.74621 \n",
       "6922 2005-12-13 26.50000   21.00       6.628623 29.56944 \n",
       "6923 2005-12-14 26.90000   16.00       3.802083 30.63384 \n",
       "6924 2005-12-15 14.40000   16.50       4.895833 25.43056 \n",
       "6925 2005-12-16 11.00000   22.00      11.166667 16.87500 \n",
       "6926 2005-12-17 13.80000   20.00       8.593750 20.73611 \n",
       "6927 2005-12-18 12.20000   17.50      13.552083 19.11111 \n",
       "6928 2005-12-19 21.15000   21.00       8.058877 31.79167 \n",
       "6929 2005-12-20 25.75000   32.00       3.849185 32.89773 \n",
       "6930 2005-12-21 37.92857   59.50       3.663949 34.86111 \n",
       "6931 2005-12-22 36.65000   42.50       5.385417 33.73026 \n",
       "6932 2005-12-23 32.90000   34.50       6.906250 29.08333 \n",
       "6933 2005-12-24 30.77143   25.20       1.770833 31.98611 \n",
       "6934 2005-12-25  6.70000    8.00      14.354167 13.79167 \n",
       "6935 2005-12-26  8.40000    8.50      14.041667 16.81944 \n",
       "6936 2005-12-27 23.56000   27.00       4.468750 23.50000 \n",
       "6937 2005-12-28 17.75000   27.50       3.260417 19.28563 \n",
       "6938 2005-12-29  7.45000   23.50       6.794837 19.97222 \n",
       "6939 2005-12-30 15.05714   19.20       3.034420 22.80556 \n",
       "6940 2005-12-31 15.00000   23.50       2.531250 13.25000 "
      ]
     },
     "metadata": {},
     "output_type": "display_data"
    }
   ],
   "source": [
    "select(chicago, -(city:dptp))"
   ]
  },
  {
   "cell_type": "markdown",
   "metadata": {},
   "source": [
    "The select() function also allows a special syntax that allows you to specify variable names based\n",
    "on patterns. So, for example, if you wanted to keep every variable that ends with a “2”, we could do"
   ]
  },
  {
   "cell_type": "code",
   "execution_count": 40,
   "metadata": {
    "collapsed": false
   },
   "outputs": [
    {
     "name": "stdout",
     "output_type": "stream",
     "text": [
      "'data.frame':\t6940 obs. of  4 variables:\n",
      " $ pm25tmean2: num  NA NA NA NA NA NA NA NA NA NA ...\n",
      " $ pm10tmean2: num  34 NA 34.2 47 NA ...\n",
      " $ o3tmean2  : num  4.25 3.3 3.33 4.38 4.75 ...\n",
      " $ no2tmean2 : num  20 23.2 23.8 30.4 30.3 ...\n"
     ]
    }
   ],
   "source": [
    "# selecting variables which end with 2\n",
    "subset <- select(chicago, ends_with(\"2\"))\n",
    "str(subset)"
   ]
  },
  {
   "cell_type": "markdown",
   "metadata": {},
   "source": [
    "### Filter()"
   ]
  },
  {
   "cell_type": "markdown",
   "metadata": {},
   "source": [
    "The filter() function is used to extract subsets of rows from a data frame. This function is similar\n",
    "to the existing subset() function in R but is quite a bit faster in my experience.\n",
    "Suppose we wanted to extract the rows of the chicago data frame where the levels of PM2.5 are\n",
    "greater than 30 (which is a reasonably high level), we could do"
   ]
  },
  {
   "cell_type": "code",
   "execution_count": 41,
   "metadata": {
    "collapsed": false
   },
   "outputs": [
    {
     "name": "stdout",
     "output_type": "stream",
     "text": [
      "'data.frame':\t194 obs. of  8 variables:\n",
      " $ city      : chr  \"chic\" \"chic\" \"chic\" \"chic\" ...\n",
      " $ tmpd      : num  23 28 55 59 57 57 75 61 73 78 ...\n",
      " $ dptp      : num  21.9 25.8 51.3 53.7 52 56 65.8 59 60.3 67.1 ...\n",
      " $ date      : Date, format: \"1998-01-17\" \"1998-01-23\" ...\n",
      " $ pm25tmean2: num  38.1 34 39.4 35.4 33.3 ...\n",
      " $ pm10tmean2: num  32.5 38.7 34 28.5 35 ...\n",
      " $ o3tmean2  : num  3.18 1.75 10.79 14.3 20.66 ...\n",
      " $ no2tmean2 : num  25.3 29.4 25.3 31.4 26.8 ...\n"
     ]
    }
   ],
   "source": [
    "# select those where mean is > 30\n",
    "chic.f <- filter(chicago, pm25tmean2 > 30)\n",
    "str(chic.f)"
   ]
  },
  {
   "cell_type": "code",
   "execution_count": 42,
   "metadata": {
    "collapsed": false
   },
   "outputs": [
    {
     "data": {
      "text/plain": [
       "   Min. 1st Qu.  Median    Mean 3rd Qu.    Max. \n",
       "  30.05   32.12   35.04   36.63   39.53   61.50 "
      ]
     },
     "metadata": {},
     "output_type": "display_data"
    }
   ],
   "source": [
    "summary(chic.f$pm25tmean2)"
   ]
  },
  {
   "cell_type": "markdown",
   "metadata": {},
   "source": [
    "We can place an arbitrarily complex logical sequence inside of filter(), so we could for example\n",
    "extract the rows where PM2.5 is greater than 30 and temperature is greater than 80 degrees\n",
    "Fahrenheit."
   ]
  },
  {
   "cell_type": "code",
   "execution_count": 43,
   "metadata": {
    "collapsed": false
   },
   "outputs": [
    {
     "data": {
      "text/html": [
       "<table>\n",
       "<thead><tr><th scope=col>date</th><th scope=col>tmpd</th><th scope=col>pm25tmean2</th></tr></thead>\n",
       "<tbody>\n",
       "\t<tr><td>1998-08-23</td><td>81        </td><td>39.60000  </td></tr>\n",
       "\t<tr><td>1998-09-06</td><td>81        </td><td>31.50000  </td></tr>\n",
       "\t<tr><td>2001-07-20</td><td>82        </td><td>32.30000  </td></tr>\n",
       "\t<tr><td>2001-08-01</td><td>84        </td><td>43.70000  </td></tr>\n",
       "\t<tr><td>2001-08-08</td><td>85        </td><td>38.83750  </td></tr>\n",
       "\t<tr><td>2001-08-09</td><td>84        </td><td>38.20000  </td></tr>\n",
       "\t<tr><td>2002-06-20</td><td>82        </td><td>33.00000  </td></tr>\n",
       "\t<tr><td>2002-06-23</td><td>82        </td><td>42.50000  </td></tr>\n",
       "\t<tr><td>2002-07-08</td><td>81        </td><td>33.10000  </td></tr>\n",
       "\t<tr><td>2002-07-18</td><td>82        </td><td>38.85000  </td></tr>\n",
       "\t<tr><td>2003-06-25</td><td>82        </td><td>33.90000  </td></tr>\n",
       "\t<tr><td>2003-07-04</td><td>84        </td><td>32.90000  </td></tr>\n",
       "\t<tr><td>2005-06-24</td><td>86        </td><td>31.85714  </td></tr>\n",
       "\t<tr><td>2005-06-27</td><td>82        </td><td>51.53750  </td></tr>\n",
       "\t<tr><td>2005-06-28</td><td>85        </td><td>31.20000  </td></tr>\n",
       "\t<tr><td>2005-07-17</td><td>84        </td><td>32.70000  </td></tr>\n",
       "\t<tr><td>2005-08-03</td><td>84        </td><td>37.90000  </td></tr>\n",
       "</tbody>\n",
       "</table>\n"
      ],
      "text/latex": [
       "\\begin{tabular}{r|lll}\n",
       " date & tmpd & pm25tmean2\\\\\n",
       "\\hline\n",
       "\t 1998-08-23 & 81         & 39.60000  \\\\\n",
       "\t 1998-09-06 & 81         & 31.50000  \\\\\n",
       "\t 2001-07-20 & 82         & 32.30000  \\\\\n",
       "\t 2001-08-01 & 84         & 43.70000  \\\\\n",
       "\t 2001-08-08 & 85         & 38.83750  \\\\\n",
       "\t 2001-08-09 & 84         & 38.20000  \\\\\n",
       "\t 2002-06-20 & 82         & 33.00000  \\\\\n",
       "\t 2002-06-23 & 82         & 42.50000  \\\\\n",
       "\t 2002-07-08 & 81         & 33.10000  \\\\\n",
       "\t 2002-07-18 & 82         & 38.85000  \\\\\n",
       "\t 2003-06-25 & 82         & 33.90000  \\\\\n",
       "\t 2003-07-04 & 84         & 32.90000  \\\\\n",
       "\t 2005-06-24 & 86         & 31.85714  \\\\\n",
       "\t 2005-06-27 & 82         & 51.53750  \\\\\n",
       "\t 2005-06-28 & 85         & 31.20000  \\\\\n",
       "\t 2005-07-17 & 84         & 32.70000  \\\\\n",
       "\t 2005-08-03 & 84         & 37.90000  \\\\\n",
       "\\end{tabular}\n"
      ],
      "text/markdown": [
       "\n",
       "date | tmpd | pm25tmean2 | \n",
       "|---|---|---|---|---|---|---|---|---|---|---|---|---|---|---|---|---|\n",
       "| 1998-08-23 | 81         | 39.60000   | \n",
       "| 1998-09-06 | 81         | 31.50000   | \n",
       "| 2001-07-20 | 82         | 32.30000   | \n",
       "| 2001-08-01 | 84         | 43.70000   | \n",
       "| 2001-08-08 | 85         | 38.83750   | \n",
       "| 2001-08-09 | 84         | 38.20000   | \n",
       "| 2002-06-20 | 82         | 33.00000   | \n",
       "| 2002-06-23 | 82         | 42.50000   | \n",
       "| 2002-07-08 | 81         | 33.10000   | \n",
       "| 2002-07-18 | 82         | 38.85000   | \n",
       "| 2003-06-25 | 82         | 33.90000   | \n",
       "| 2003-07-04 | 84         | 32.90000   | \n",
       "| 2005-06-24 | 86         | 31.85714   | \n",
       "| 2005-06-27 | 82         | 51.53750   | \n",
       "| 2005-06-28 | 85         | 31.20000   | \n",
       "| 2005-07-17 | 84         | 32.70000   | \n",
       "| 2005-08-03 | 84         | 37.90000   | \n",
       "\n",
       "\n"
      ],
      "text/plain": [
       "   date       tmpd pm25tmean2\n",
       "1  1998-08-23 81   39.60000  \n",
       "2  1998-09-06 81   31.50000  \n",
       "3  2001-07-20 82   32.30000  \n",
       "4  2001-08-01 84   43.70000  \n",
       "5  2001-08-08 85   38.83750  \n",
       "6  2001-08-09 84   38.20000  \n",
       "7  2002-06-20 82   33.00000  \n",
       "8  2002-06-23 82   42.50000  \n",
       "9  2002-07-08 81   33.10000  \n",
       "10 2002-07-18 82   38.85000  \n",
       "11 2003-06-25 82   33.90000  \n",
       "12 2003-07-04 84   32.90000  \n",
       "13 2005-06-24 86   31.85714  \n",
       "14 2005-06-27 82   51.53750  \n",
       "15 2005-06-28 85   31.20000  \n",
       "16 2005-07-17 84   32.70000  \n",
       "17 2005-08-03 84   37.90000  "
      ]
     },
     "metadata": {},
     "output_type": "display_data"
    }
   ],
   "source": [
    "chic.f <- filter(chicago, pm25tmean2>30 & tmpd>80)\n",
    "select(chic.f, date, tmpd, pm25tmean2)"
   ]
  },
  {
   "cell_type": "markdown",
   "metadata": {},
   "source": [
    "### arrange()"
   ]
  },
  {
   "cell_type": "markdown",
   "metadata": {},
   "source": [
    "The arrange() function is used to reorder rows of a data frame according to one of the variables/columns.\n",
    "Reordering rows of a data frame (while preserving corresponding order of other columns)\n",
    "is normally a pain to do in R. The arrange() function simplifies the process quite a bit.\n",
    "Here we can order the rows of the data frame by date, so that the first row is the earliest (oldest)\n",
    "observation and the last row is the latest (most recent) observation."
   ]
  },
  {
   "cell_type": "code",
   "execution_count": 44,
   "metadata": {
    "collapsed": false
   },
   "outputs": [
    {
     "data": {
      "text/html": [
       "<table>\n",
       "<thead><tr><th scope=col>date</th><th scope=col>pm25tmean2</th></tr></thead>\n",
       "<tbody>\n",
       "\t<tr><td>1987-01-01</td><td>NA        </td></tr>\n",
       "\t<tr><td>1987-01-02</td><td>NA        </td></tr>\n",
       "\t<tr><td>1987-01-03</td><td>NA        </td></tr>\n",
       "</tbody>\n",
       "</table>\n"
      ],
      "text/latex": [
       "\\begin{tabular}{r|ll}\n",
       " date & pm25tmean2\\\\\n",
       "\\hline\n",
       "\t 1987-01-01 & NA        \\\\\n",
       "\t 1987-01-02 & NA        \\\\\n",
       "\t 1987-01-03 & NA        \\\\\n",
       "\\end{tabular}\n"
      ],
      "text/markdown": [
       "\n",
       "date | pm25tmean2 | \n",
       "|---|---|---|\n",
       "| 1987-01-01 | NA         | \n",
       "| 1987-01-02 | NA         | \n",
       "| 1987-01-03 | NA         | \n",
       "\n",
       "\n"
      ],
      "text/plain": [
       "  date       pm25tmean2\n",
       "1 1987-01-01 NA        \n",
       "2 1987-01-02 NA        \n",
       "3 1987-01-03 NA        "
      ]
     },
     "metadata": {},
     "output_type": "display_data"
    }
   ],
   "source": [
    "# arranging by date and selecting first 3 rows\n",
    "chicago <- arrange(chicago, date)\n",
    "head(select(chicago, date, pm25tmean2), 3)"
   ]
  },
  {
   "cell_type": "markdown",
   "metadata": {},
   "source": [
    "### rename()\n",
    "Renaming a variable in a data frame in R is surprisingly hard to do! The rename() function designed to make this process easier.\n",
    "Here you can see the names of the first five variables in the chicago data frame."
   ]
  },
  {
   "cell_type": "code",
   "execution_count": 45,
   "metadata": {
    "collapsed": false
   },
   "outputs": [
    {
     "data": {
      "text/html": [
       "<table>\n",
       "<thead><tr><th scope=col>city</th><th scope=col>tmpd</th><th scope=col>dptp</th><th scope=col>date</th><th scope=col>pm25tmean2</th></tr></thead>\n",
       "<tbody>\n",
       "\t<tr><td>chic      </td><td>31.5      </td><td>31.500    </td><td>1987-01-01</td><td>NA        </td></tr>\n",
       "\t<tr><td>chic      </td><td>33.0      </td><td>29.875    </td><td>1987-01-02</td><td>NA        </td></tr>\n",
       "\t<tr><td>chic      </td><td>33.0      </td><td>27.375    </td><td>1987-01-03</td><td>NA        </td></tr>\n",
       "</tbody>\n",
       "</table>\n"
      ],
      "text/latex": [
       "\\begin{tabular}{r|lllll}\n",
       " city & tmpd & dptp & date & pm25tmean2\\\\\n",
       "\\hline\n",
       "\t chic       & 31.5       & 31.500     & 1987-01-01 & NA        \\\\\n",
       "\t chic       & 33.0       & 29.875     & 1987-01-02 & NA        \\\\\n",
       "\t chic       & 33.0       & 27.375     & 1987-01-03 & NA        \\\\\n",
       "\\end{tabular}\n"
      ],
      "text/markdown": [
       "\n",
       "city | tmpd | dptp | date | pm25tmean2 | \n",
       "|---|---|---|\n",
       "| chic       | 31.5       | 31.500     | 1987-01-01 | NA         | \n",
       "| chic       | 33.0       | 29.875     | 1987-01-02 | NA         | \n",
       "| chic       | 33.0       | 27.375     | 1987-01-03 | NA         | \n",
       "\n",
       "\n"
      ],
      "text/plain": [
       "  city tmpd dptp   date       pm25tmean2\n",
       "1 chic 31.5 31.500 1987-01-01 NA        \n",
       "2 chic 33.0 29.875 1987-01-02 NA        \n",
       "3 chic 33.0 27.375 1987-01-03 NA        "
      ]
     },
     "metadata": {},
     "output_type": "display_data"
    }
   ],
   "source": [
    "head(chicago[ ,1:5],3)"
   ]
  },
  {
   "cell_type": "code",
   "execution_count": 46,
   "metadata": {
    "collapsed": false
   },
   "outputs": [
    {
     "data": {
      "text/html": [
       "<table>\n",
       "<thead><tr><th scope=col>city</th><th scope=col>tmpd</th><th scope=col>dewpoint</th><th scope=col>date</th><th scope=col>pm25</th></tr></thead>\n",
       "<tbody>\n",
       "\t<tr><td>chic      </td><td>31.5      </td><td>31.500    </td><td>1987-01-01</td><td>NA        </td></tr>\n",
       "\t<tr><td>chic      </td><td>33.0      </td><td>29.875    </td><td>1987-01-02</td><td>NA        </td></tr>\n",
       "\t<tr><td>chic      </td><td>33.0      </td><td>27.375    </td><td>1987-01-03</td><td>NA        </td></tr>\n",
       "</tbody>\n",
       "</table>\n"
      ],
      "text/latex": [
       "\\begin{tabular}{r|lllll}\n",
       " city & tmpd & dewpoint & date & pm25\\\\\n",
       "\\hline\n",
       "\t chic       & 31.5       & 31.500     & 1987-01-01 & NA        \\\\\n",
       "\t chic       & 33.0       & 29.875     & 1987-01-02 & NA        \\\\\n",
       "\t chic       & 33.0       & 27.375     & 1987-01-03 & NA        \\\\\n",
       "\\end{tabular}\n"
      ],
      "text/markdown": [
       "\n",
       "city | tmpd | dewpoint | date | pm25 | \n",
       "|---|---|---|\n",
       "| chic       | 31.5       | 31.500     | 1987-01-01 | NA         | \n",
       "| chic       | 33.0       | 29.875     | 1987-01-02 | NA         | \n",
       "| chic       | 33.0       | 27.375     | 1987-01-03 | NA         | \n",
       "\n",
       "\n"
      ],
      "text/plain": [
       "  city tmpd dewpoint date       pm25\n",
       "1 chic 31.5 31.500   1987-01-01 NA  \n",
       "2 chic 33.0 29.875   1987-01-02 NA  \n",
       "3 chic 33.0 27.375   1987-01-03 NA  "
      ]
     },
     "metadata": {},
     "output_type": "display_data"
    }
   ],
   "source": [
    "chicago <- rename(chicago, dewpoint=dptp, pm25 = pm25tmean2)\n",
    "head(chicago[ ,1:5],3)"
   ]
  },
  {
   "cell_type": "markdown",
   "metadata": {},
   "source": [
    "The syntax inside the rename() function is to have the new name on the left-hand side of the = sign\n",
    "and the old name on the right-hand side."
   ]
  },
  {
   "cell_type": "markdown",
   "metadata": {},
   "source": [
    "### mutate()\n",
    "The mutate() function exists to compute transformations of variables in a data frame. Often, you\n",
    "want to create new variables that are derived from existing variables and mutate() provides a clean\n",
    "interface for doing that.\n",
    "For example, with air pollution data, we often want to detrend the data by subtracting the mean\n",
    "from the data. That way we can look at whether a given day’s air pollution level is higher than or\n",
    "less than average (as opposed to looking at its absolute level).\n",
    "Here we create a pm25detrend variable that subtracts the mean from the pm25 variable."
   ]
  },
  {
   "cell_type": "code",
   "execution_count": 47,
   "metadata": {
    "collapsed": false,
    "scrolled": true
   },
   "outputs": [
    {
     "data": {
      "text/html": [
       "<table>\n",
       "<thead><tr><th scope=col>city</th><th scope=col>tmpd</th><th scope=col>dewpoint</th><th scope=col>date</th><th scope=col>pm25</th><th scope=col>pm10tmean2</th><th scope=col>o3tmean2</th><th scope=col>no2tmean2</th><th scope=col>pm25detrend</th></tr></thead>\n",
       "<tbody>\n",
       "\t<tr><td>chic      </td><td>31.5      </td><td>31.500    </td><td>1987-01-01</td><td>NA        </td><td>34.00000  </td><td>4.250000  </td><td>19.98810  </td><td>NA        </td></tr>\n",
       "\t<tr><td>chic      </td><td>33.0      </td><td>29.875    </td><td>1987-01-02</td><td>NA        </td><td>      NA  </td><td>3.304348  </td><td>23.19099  </td><td>NA        </td></tr>\n",
       "\t<tr><td>chic      </td><td>33.0      </td><td>27.375    </td><td>1987-01-03</td><td>NA        </td><td>34.16667  </td><td>3.333333  </td><td>23.81548  </td><td>NA        </td></tr>\n",
       "\t<tr><td>chic      </td><td>29.0      </td><td>28.625    </td><td>1987-01-04</td><td>NA        </td><td>47.00000  </td><td>4.375000  </td><td>30.43452  </td><td>NA        </td></tr>\n",
       "\t<tr><td>chic      </td><td>32.0      </td><td>28.875    </td><td>1987-01-05</td><td>NA        </td><td>      NA  </td><td>4.750000  </td><td>30.33333  </td><td>NA        </td></tr>\n",
       "\t<tr><td>chic      </td><td>40.0      </td><td>35.125    </td><td>1987-01-06</td><td>NA        </td><td>48.00000  </td><td>5.833333  </td><td>25.77233  </td><td>NA        </td></tr>\n",
       "</tbody>\n",
       "</table>\n"
      ],
      "text/latex": [
       "\\begin{tabular}{r|lllllllll}\n",
       " city & tmpd & dewpoint & date & pm25 & pm10tmean2 & o3tmean2 & no2tmean2 & pm25detrend\\\\\n",
       "\\hline\n",
       "\t chic       & 31.5       & 31.500     & 1987-01-01 & NA         & 34.00000   & 4.250000   & 19.98810   & NA        \\\\\n",
       "\t chic       & 33.0       & 29.875     & 1987-01-02 & NA         &       NA   & 3.304348   & 23.19099   & NA        \\\\\n",
       "\t chic       & 33.0       & 27.375     & 1987-01-03 & NA         & 34.16667   & 3.333333   & 23.81548   & NA        \\\\\n",
       "\t chic       & 29.0       & 28.625     & 1987-01-04 & NA         & 47.00000   & 4.375000   & 30.43452   & NA        \\\\\n",
       "\t chic       & 32.0       & 28.875     & 1987-01-05 & NA         &       NA   & 4.750000   & 30.33333   & NA        \\\\\n",
       "\t chic       & 40.0       & 35.125     & 1987-01-06 & NA         & 48.00000   & 5.833333   & 25.77233   & NA        \\\\\n",
       "\\end{tabular}\n"
      ],
      "text/markdown": [
       "\n",
       "city | tmpd | dewpoint | date | pm25 | pm10tmean2 | o3tmean2 | no2tmean2 | pm25detrend | \n",
       "|---|---|---|---|---|---|\n",
       "| chic       | 31.5       | 31.500     | 1987-01-01 | NA         | 34.00000   | 4.250000   | 19.98810   | NA         | \n",
       "| chic       | 33.0       | 29.875     | 1987-01-02 | NA         |       NA   | 3.304348   | 23.19099   | NA         | \n",
       "| chic       | 33.0       | 27.375     | 1987-01-03 | NA         | 34.16667   | 3.333333   | 23.81548   | NA         | \n",
       "| chic       | 29.0       | 28.625     | 1987-01-04 | NA         | 47.00000   | 4.375000   | 30.43452   | NA         | \n",
       "| chic       | 32.0       | 28.875     | 1987-01-05 | NA         |       NA   | 4.750000   | 30.33333   | NA         | \n",
       "| chic       | 40.0       | 35.125     | 1987-01-06 | NA         | 48.00000   | 5.833333   | 25.77233   | NA         | \n",
       "\n",
       "\n"
      ],
      "text/plain": [
       "  city tmpd dewpoint date       pm25 pm10tmean2 o3tmean2 no2tmean2 pm25detrend\n",
       "1 chic 31.5 31.500   1987-01-01 NA   34.00000   4.250000 19.98810  NA         \n",
       "2 chic 33.0 29.875   1987-01-02 NA         NA   3.304348 23.19099  NA         \n",
       "3 chic 33.0 27.375   1987-01-03 NA   34.16667   3.333333 23.81548  NA         \n",
       "4 chic 29.0 28.625   1987-01-04 NA   47.00000   4.375000 30.43452  NA         \n",
       "5 chic 32.0 28.875   1987-01-05 NA         NA   4.750000 30.33333  NA         \n",
       "6 chic 40.0 35.125   1987-01-06 NA   48.00000   5.833333 25.77233  NA         "
      ]
     },
     "metadata": {},
     "output_type": "display_data"
    }
   ],
   "source": [
    "chicago <- mutate(chicago, pm25detrend = pm25 - mean(pm25, na.rm=TRUE))\n",
    "head(chicago)"
   ]
  },
  {
   "cell_type": "markdown",
   "metadata": {},
   "source": [
    "### group_by()\n",
    "The group_by() function is used to generate summary statistics from the data frame within strata\n",
    "defined by a variable. For example, in this air pollution dataset, you might want to know what the\n",
    "average annual level of PM2.5 is. So the stratum is the year, and that is something we can derive\n",
    "from the date variable. In conjunction with the group_by() function we often use the summarize()\n",
    "function (or summarise() for some parts of the world).\n",
    "The general operation here is a combination of splitting a data frame into separate pieces defined by\n",
    "a variable or group of variables (group_by()), and then applying a summary function across those\n",
    "subsets (summarize()).\n",
    "First, we can create a year varible using as.POSIXlt()."
   ]
  },
  {
   "cell_type": "code",
   "execution_count": 48,
   "metadata": {
    "collapsed": false
   },
   "outputs": [],
   "source": [
    "chicago <- mutate(chicago, year=as.POSIXlt(date)$year + 1900)\n",
    "\n",
    "years <- group_by(chicago, year)"
   ]
  },
  {
   "cell_type": "code",
   "execution_count": 49,
   "metadata": {
    "collapsed": false
   },
   "outputs": [
    {
     "data": {
      "text/html": [
       "<table>\n",
       "<thead><tr><th scope=col>year</th><th scope=col>pm25</th><th scope=col>o3</th><th scope=col>n02</th></tr></thead>\n",
       "<tbody>\n",
       "\t<tr><td>1987    </td><td>     NaN</td><td>62.96966</td><td>23.49369</td></tr>\n",
       "\t<tr><td>1988    </td><td>     NaN</td><td>61.67708</td><td>24.52296</td></tr>\n",
       "\t<tr><td>1989    </td><td>     NaN</td><td>59.72727</td><td>26.14062</td></tr>\n",
       "\t<tr><td>1990    </td><td>     NaN</td><td>52.22917</td><td>22.59583</td></tr>\n",
       "\t<tr><td>1991    </td><td>     NaN</td><td>63.10417</td><td>21.38194</td></tr>\n",
       "\t<tr><td>1992    </td><td>     NaN</td><td>50.82870</td><td>24.78921</td></tr>\n",
       "\t<tr><td>1993    </td><td>     NaN</td><td>44.30093</td><td>25.76993</td></tr>\n",
       "\t<tr><td>1994    </td><td>     NaN</td><td>52.17844</td><td>28.47500</td></tr>\n",
       "\t<tr><td>1995    </td><td>     NaN</td><td>66.58750</td><td>27.26042</td></tr>\n",
       "\t<tr><td>1996    </td><td>     NaN</td><td>58.39583</td><td>26.38715</td></tr>\n",
       "\t<tr><td>1997    </td><td>     NaN</td><td>56.54167</td><td>25.48143</td></tr>\n",
       "\t<tr><td>1998    </td><td>18.26467</td><td>50.66250</td><td>24.58649</td></tr>\n",
       "\t<tr><td>1999    </td><td>18.49646</td><td>57.48864</td><td>24.66667</td></tr>\n",
       "\t<tr><td>2000    </td><td>16.93806</td><td>55.76103</td><td>23.46082</td></tr>\n",
       "\t<tr><td>2001    </td><td>16.92632</td><td>51.81984</td><td>25.06522</td></tr>\n",
       "\t<tr><td>2002    </td><td>15.27335</td><td>54.88043</td><td>22.73750</td></tr>\n",
       "\t<tr><td>2003    </td><td>15.23183</td><td>56.16608</td><td>24.62500</td></tr>\n",
       "\t<tr><td>2004    </td><td>14.62864</td><td>44.48240</td><td>23.39130</td></tr>\n",
       "\t<tr><td>2005    </td><td>16.18556</td><td>58.84126</td><td>22.62387</td></tr>\n",
       "</tbody>\n",
       "</table>\n"
      ],
      "text/latex": [
       "\\begin{tabular}{r|llll}\n",
       " year & pm25 & o3 & n02\\\\\n",
       "\\hline\n",
       "\t 1987     &      NaN & 62.96966 & 23.49369\\\\\n",
       "\t 1988     &      NaN & 61.67708 & 24.52296\\\\\n",
       "\t 1989     &      NaN & 59.72727 & 26.14062\\\\\n",
       "\t 1990     &      NaN & 52.22917 & 22.59583\\\\\n",
       "\t 1991     &      NaN & 63.10417 & 21.38194\\\\\n",
       "\t 1992     &      NaN & 50.82870 & 24.78921\\\\\n",
       "\t 1993     &      NaN & 44.30093 & 25.76993\\\\\n",
       "\t 1994     &      NaN & 52.17844 & 28.47500\\\\\n",
       "\t 1995     &      NaN & 66.58750 & 27.26042\\\\\n",
       "\t 1996     &      NaN & 58.39583 & 26.38715\\\\\n",
       "\t 1997     &      NaN & 56.54167 & 25.48143\\\\\n",
       "\t 1998     & 18.26467 & 50.66250 & 24.58649\\\\\n",
       "\t 1999     & 18.49646 & 57.48864 & 24.66667\\\\\n",
       "\t 2000     & 16.93806 & 55.76103 & 23.46082\\\\\n",
       "\t 2001     & 16.92632 & 51.81984 & 25.06522\\\\\n",
       "\t 2002     & 15.27335 & 54.88043 & 22.73750\\\\\n",
       "\t 2003     & 15.23183 & 56.16608 & 24.62500\\\\\n",
       "\t 2004     & 14.62864 & 44.48240 & 23.39130\\\\\n",
       "\t 2005     & 16.18556 & 58.84126 & 22.62387\\\\\n",
       "\\end{tabular}\n"
      ],
      "text/markdown": [
       "\n",
       "year | pm25 | o3 | n02 | \n",
       "|---|---|---|---|---|---|---|---|---|---|---|---|---|---|---|---|---|---|---|\n",
       "| 1987     |      NaN | 62.96966 | 23.49369 | \n",
       "| 1988     |      NaN | 61.67708 | 24.52296 | \n",
       "| 1989     |      NaN | 59.72727 | 26.14062 | \n",
       "| 1990     |      NaN | 52.22917 | 22.59583 | \n",
       "| 1991     |      NaN | 63.10417 | 21.38194 | \n",
       "| 1992     |      NaN | 50.82870 | 24.78921 | \n",
       "| 1993     |      NaN | 44.30093 | 25.76993 | \n",
       "| 1994     |      NaN | 52.17844 | 28.47500 | \n",
       "| 1995     |      NaN | 66.58750 | 27.26042 | \n",
       "| 1996     |      NaN | 58.39583 | 26.38715 | \n",
       "| 1997     |      NaN | 56.54167 | 25.48143 | \n",
       "| 1998     | 18.26467 | 50.66250 | 24.58649 | \n",
       "| 1999     | 18.49646 | 57.48864 | 24.66667 | \n",
       "| 2000     | 16.93806 | 55.76103 | 23.46082 | \n",
       "| 2001     | 16.92632 | 51.81984 | 25.06522 | \n",
       "| 2002     | 15.27335 | 54.88043 | 22.73750 | \n",
       "| 2003     | 15.23183 | 56.16608 | 24.62500 | \n",
       "| 2004     | 14.62864 | 44.48240 | 23.39130 | \n",
       "| 2005     | 16.18556 | 58.84126 | 22.62387 | \n",
       "\n",
       "\n"
      ],
      "text/plain": [
       "   year pm25     o3       n02     \n",
       "1  1987      NaN 62.96966 23.49369\n",
       "2  1988      NaN 61.67708 24.52296\n",
       "3  1989      NaN 59.72727 26.14062\n",
       "4  1990      NaN 52.22917 22.59583\n",
       "5  1991      NaN 63.10417 21.38194\n",
       "6  1992      NaN 50.82870 24.78921\n",
       "7  1993      NaN 44.30093 25.76993\n",
       "8  1994      NaN 52.17844 28.47500\n",
       "9  1995      NaN 66.58750 27.26042\n",
       "10 1996      NaN 58.39583 26.38715\n",
       "11 1997      NaN 56.54167 25.48143\n",
       "12 1998 18.26467 50.66250 24.58649\n",
       "13 1999 18.49646 57.48864 24.66667\n",
       "14 2000 16.93806 55.76103 23.46082\n",
       "15 2001 16.92632 51.81984 25.06522\n",
       "16 2002 15.27335 54.88043 22.73750\n",
       "17 2003 15.23183 56.16608 24.62500\n",
       "18 2004 14.62864 44.48240 23.39130\n",
       "19 2005 16.18556 58.84126 22.62387"
      ]
     },
     "metadata": {},
     "output_type": "display_data"
    }
   ],
   "source": [
    "\n",
    "summarize(years, pm25 = mean(pm25, na.rm=TRUE), o3 = max(o3tmean2, na.rm=TRUE), n02 = median(no2tmean2, na.rm=TRUE))"
   ]
  },
  {
   "cell_type": "markdown",
   "metadata": {},
   "source": [
    "### %>% Pipeline operator\n",
    "The pipeline operater %>% is very handy for stringing together multiple dplyr functions in a sequence\n",
    "of operations. Notice above that every time we wanted to apply more than one function, the sequence\n",
    "gets buried in a sequence of nested function calls that is difficult to read, i.e."
   ]
  },
  {
   "cell_type": "markdown",
   "metadata": {},
   "source": [
    "#### first(x) %>% second(x) %>% third(x)\n",
    "Another example might be computing the average pollutant level by month. This could be useful to\n",
    "see if there are any seasonal trends in the data."
   ]
  },
  {
   "cell_type": "code",
   "execution_count": 50,
   "metadata": {
    "collapsed": false
   },
   "outputs": [
    {
     "data": {
      "text/html": [
       "<table>\n",
       "<thead><tr><th scope=col>month</th><th scope=col>pm25</th><th scope=col>o3</th><th scope=col>no2</th></tr></thead>\n",
       "<tbody>\n",
       "\t<tr><td> 1      </td><td>17.76996</td><td>28.22222</td><td>25.35417</td></tr>\n",
       "\t<tr><td> 2      </td><td>20.37513</td><td>37.37500</td><td>26.78034</td></tr>\n",
       "\t<tr><td> 3      </td><td>17.40818</td><td>39.05000</td><td>26.76984</td></tr>\n",
       "\t<tr><td> 4      </td><td>13.85879</td><td>47.94907</td><td>25.03125</td></tr>\n",
       "\t<tr><td> 5      </td><td>14.07420</td><td>52.75000</td><td>24.22222</td></tr>\n",
       "\t<tr><td> 6      </td><td>15.86461</td><td>66.58750</td><td>25.01140</td></tr>\n",
       "\t<tr><td> 7      </td><td>16.57087</td><td>59.54167</td><td>22.38442</td></tr>\n",
       "\t<tr><td> 8      </td><td>16.93380</td><td>53.96701</td><td>22.98333</td></tr>\n",
       "\t<tr><td> 9      </td><td>15.91279</td><td>57.48864</td><td>24.47917</td></tr>\n",
       "\t<tr><td>10      </td><td>14.23557</td><td>47.09275</td><td>24.15217</td></tr>\n",
       "\t<tr><td>11      </td><td>15.15794</td><td>29.45833</td><td>23.56537</td></tr>\n",
       "\t<tr><td>12      </td><td>17.52221</td><td>27.70833</td><td>24.45773</td></tr>\n",
       "</tbody>\n",
       "</table>\n"
      ],
      "text/latex": [
       "\\begin{tabular}{r|llll}\n",
       " month & pm25 & o3 & no2\\\\\n",
       "\\hline\n",
       "\t  1       & 17.76996 & 28.22222 & 25.35417\\\\\n",
       "\t  2       & 20.37513 & 37.37500 & 26.78034\\\\\n",
       "\t  3       & 17.40818 & 39.05000 & 26.76984\\\\\n",
       "\t  4       & 13.85879 & 47.94907 & 25.03125\\\\\n",
       "\t  5       & 14.07420 & 52.75000 & 24.22222\\\\\n",
       "\t  6       & 15.86461 & 66.58750 & 25.01140\\\\\n",
       "\t  7       & 16.57087 & 59.54167 & 22.38442\\\\\n",
       "\t  8       & 16.93380 & 53.96701 & 22.98333\\\\\n",
       "\t  9       & 15.91279 & 57.48864 & 24.47917\\\\\n",
       "\t 10       & 14.23557 & 47.09275 & 24.15217\\\\\n",
       "\t 11       & 15.15794 & 29.45833 & 23.56537\\\\\n",
       "\t 12       & 17.52221 & 27.70833 & 24.45773\\\\\n",
       "\\end{tabular}\n"
      ],
      "text/markdown": [
       "\n",
       "month | pm25 | o3 | no2 | \n",
       "|---|---|---|---|---|---|---|---|---|---|---|---|\n",
       "|  1       | 17.76996 | 28.22222 | 25.35417 | \n",
       "|  2       | 20.37513 | 37.37500 | 26.78034 | \n",
       "|  3       | 17.40818 | 39.05000 | 26.76984 | \n",
       "|  4       | 13.85879 | 47.94907 | 25.03125 | \n",
       "|  5       | 14.07420 | 52.75000 | 24.22222 | \n",
       "|  6       | 15.86461 | 66.58750 | 25.01140 | \n",
       "|  7       | 16.57087 | 59.54167 | 22.38442 | \n",
       "|  8       | 16.93380 | 53.96701 | 22.98333 | \n",
       "|  9       | 15.91279 | 57.48864 | 24.47917 | \n",
       "| 10       | 14.23557 | 47.09275 | 24.15217 | \n",
       "| 11       | 15.15794 | 29.45833 | 23.56537 | \n",
       "| 12       | 17.52221 | 27.70833 | 24.45773 | \n",
       "\n",
       "\n"
      ],
      "text/plain": [
       "   month pm25     o3       no2     \n",
       "1   1    17.76996 28.22222 25.35417\n",
       "2   2    20.37513 37.37500 26.78034\n",
       "3   3    17.40818 39.05000 26.76984\n",
       "4   4    13.85879 47.94907 25.03125\n",
       "5   5    14.07420 52.75000 24.22222\n",
       "6   6    15.86461 66.58750 25.01140\n",
       "7   7    16.57087 59.54167 22.38442\n",
       "8   8    16.93380 53.96701 22.98333\n",
       "9   9    15.91279 57.48864 24.47917\n",
       "10 10    14.23557 47.09275 24.15217\n",
       "11 11    15.15794 29.45833 23.56537\n",
       "12 12    17.52221 27.70833 24.45773"
      ]
     },
     "metadata": {},
     "output_type": "display_data"
    }
   ],
   "source": [
    "mutate(chicago, month = as.POSIXlt(date)$mon + 1) %>% group_by(month) %>% summarize(\n",
    "pm25 = mean(pm25, na.rm=TRUE), o3=max(o3tmean2, na.rm=TRUE), no2=median(no2tmean2, na.rm=TRUE))"
   ]
  },
  {
   "cell_type": "markdown",
   "metadata": {},
   "source": [
    "### Summary \n",
    "The dplyr package provides a concise set of operations for managing data frames. With these\n",
    "functions we can do a number of complex operations in just a few lines of code. In particular,\n",
    "we can often conduct the beginnings of an exploratory analysis with the powerful combination of\n",
    "group_by() and summarize().\n",
    "Once you learn the dplyr grammar there are a few additional benefits\n",
    "1. dplyr can work with other data frame “backends” such as SQL databases. There is an SQL\n",
    "interface for relational databases via the DBI package\n",
    "2. dplyr can be integrated with the data.table package for large fast tables\n",
    "The dplyr package is handy way to both simplify and speed up your data frame management code.\n",
    "It’s rare that you get such a combination at the same time!"
   ]
  },
  {
   "cell_type": "code",
   "execution_count": 51,
   "metadata": {
    "collapsed": false
   },
   "outputs": [
    {
     "data": {
      "text/html": [
       "<table>\n",
       "<thead><tr><th></th><th scope=col>Year</th><th scope=col>Month</th><th scope=col>DayofMonth</th><th scope=col>DayOfWeek</th><th scope=col>DepTime</th><th scope=col>ArrTime</th><th scope=col>UniqueCarrier</th><th scope=col>FlightNum</th><th scope=col>TailNum</th><th scope=col>ActualElapsedTime</th><th scope=col>...</th><th scope=col>ArrDelay</th><th scope=col>DepDelay</th><th scope=col>Origin</th><th scope=col>Dest</th><th scope=col>Distance</th><th scope=col>TaxiIn</th><th scope=col>TaxiOut</th><th scope=col>Cancelled</th><th scope=col>CancellationCode</th><th scope=col>Diverted</th></tr></thead>\n",
       "<tbody>\n",
       "\t<tr><th scope=row>5424</th><td>2011  </td><td>1     </td><td>1     </td><td>6     </td><td>1400  </td><td>1500  </td><td>AA    </td><td>428   </td><td>N576AA</td><td>60    </td><td>...   </td><td>-10   </td><td> 0    </td><td>IAH   </td><td>DFW   </td><td>224   </td><td>7     </td><td>13    </td><td>0     </td><td>      </td><td>0     </td></tr>\n",
       "\t<tr><th scope=row>5425</th><td>2011  </td><td>1     </td><td>2     </td><td>7     </td><td>1401  </td><td>1501  </td><td>AA    </td><td>428   </td><td>N557AA</td><td>60    </td><td>...   </td><td> -9   </td><td> 1    </td><td>IAH   </td><td>DFW   </td><td>224   </td><td>6     </td><td> 9    </td><td>0     </td><td>      </td><td>0     </td></tr>\n",
       "\t<tr><th scope=row>5426</th><td>2011  </td><td>1     </td><td>3     </td><td>1     </td><td>1352  </td><td>1502  </td><td>AA    </td><td>428   </td><td>N541AA</td><td>70    </td><td>...   </td><td> -8   </td><td>-8    </td><td>IAH   </td><td>DFW   </td><td>224   </td><td>5     </td><td>17    </td><td>0     </td><td>      </td><td>0     </td></tr>\n",
       "\t<tr><th scope=row>5427</th><td>2011  </td><td>1     </td><td>4     </td><td>2     </td><td>1403  </td><td>1513  </td><td>AA    </td><td>428   </td><td>N403AA</td><td>70    </td><td>...   </td><td>  3   </td><td> 3    </td><td>IAH   </td><td>DFW   </td><td>224   </td><td>9     </td><td>22    </td><td>0     </td><td>      </td><td>0     </td></tr>\n",
       "\t<tr><th scope=row>5428</th><td>2011  </td><td>1     </td><td>5     </td><td>3     </td><td>1405  </td><td>1507  </td><td>AA    </td><td>428   </td><td>N492AA</td><td>62    </td><td>...   </td><td> -3   </td><td> 5    </td><td>IAH   </td><td>DFW   </td><td>224   </td><td>9     </td><td> 9    </td><td>0     </td><td>      </td><td>0     </td></tr>\n",
       "\t<tr><th scope=row>5429</th><td>2011  </td><td>1     </td><td>6     </td><td>4     </td><td>1359  </td><td>1503  </td><td>AA    </td><td>428   </td><td>N262AA</td><td>64    </td><td>...   </td><td> -7   </td><td>-1    </td><td>IAH   </td><td>DFW   </td><td>224   </td><td>6     </td><td>13    </td><td>0     </td><td>      </td><td>0     </td></tr>\n",
       "</tbody>\n",
       "</table>\n"
      ],
      "text/latex": [
       "\\begin{tabular}{r|lllllllllllllllllllll}\n",
       "  & Year & Month & DayofMonth & DayOfWeek & DepTime & ArrTime & UniqueCarrier & FlightNum & TailNum & ActualElapsedTime & ... & ArrDelay & DepDelay & Origin & Dest & Distance & TaxiIn & TaxiOut & Cancelled & CancellationCode & Diverted\\\\\n",
       "\\hline\n",
       "\t5424 & 2011   & 1      & 1      & 6      & 1400   & 1500   & AA     & 428    & N576AA & 60     & ...    & -10    &  0     & IAH    & DFW    & 224    & 7      & 13     & 0      &        & 0     \\\\\n",
       "\t5425 & 2011   & 1      & 2      & 7      & 1401   & 1501   & AA     & 428    & N557AA & 60     & ...    &  -9    &  1     & IAH    & DFW    & 224    & 6      &  9     & 0      &        & 0     \\\\\n",
       "\t5426 & 2011   & 1      & 3      & 1      & 1352   & 1502   & AA     & 428    & N541AA & 70     & ...    &  -8    & -8     & IAH    & DFW    & 224    & 5      & 17     & 0      &        & 0     \\\\\n",
       "\t5427 & 2011   & 1      & 4      & 2      & 1403   & 1513   & AA     & 428    & N403AA & 70     & ...    &   3    &  3     & IAH    & DFW    & 224    & 9      & 22     & 0      &        & 0     \\\\\n",
       "\t5428 & 2011   & 1      & 5      & 3      & 1405   & 1507   & AA     & 428    & N492AA & 62     & ...    &  -3    &  5     & IAH    & DFW    & 224    & 9      &  9     & 0      &        & 0     \\\\\n",
       "\t5429 & 2011   & 1      & 6      & 4      & 1359   & 1503   & AA     & 428    & N262AA & 64     & ...    &  -7    & -1     & IAH    & DFW    & 224    & 6      & 13     & 0      &        & 0     \\\\\n",
       "\\end{tabular}\n"
      ],
      "text/markdown": [
       "\n",
       "| <!--/--> | Year | Month | DayofMonth | DayOfWeek | DepTime | ArrTime | UniqueCarrier | FlightNum | TailNum | ActualElapsedTime | ... | ArrDelay | DepDelay | Origin | Dest | Distance | TaxiIn | TaxiOut | Cancelled | CancellationCode | Diverted | \n",
       "|---|---|---|---|---|---|\n",
       "| 5424 | 2011   | 1      | 1      | 6      | 1400   | 1500   | AA     | 428    | N576AA | 60     | ...    | -10    |  0     | IAH    | DFW    | 224    | 7      | 13     | 0      |        | 0      | \n",
       "| 5425 | 2011   | 1      | 2      | 7      | 1401   | 1501   | AA     | 428    | N557AA | 60     | ...    |  -9    |  1     | IAH    | DFW    | 224    | 6      |  9     | 0      |        | 0      | \n",
       "| 5426 | 2011   | 1      | 3      | 1      | 1352   | 1502   | AA     | 428    | N541AA | 70     | ...    |  -8    | -8     | IAH    | DFW    | 224    | 5      | 17     | 0      |        | 0      | \n",
       "| 5427 | 2011   | 1      | 4      | 2      | 1403   | 1513   | AA     | 428    | N403AA | 70     | ...    |   3    |  3     | IAH    | DFW    | 224    | 9      | 22     | 0      |        | 0      | \n",
       "| 5428 | 2011   | 1      | 5      | 3      | 1405   | 1507   | AA     | 428    | N492AA | 62     | ...    |  -3    |  5     | IAH    | DFW    | 224    | 9      |  9     | 0      |        | 0      | \n",
       "| 5429 | 2011   | 1      | 6      | 4      | 1359   | 1503   | AA     | 428    | N262AA | 64     | ...    |  -7    | -1     | IAH    | DFW    | 224    | 6      | 13     | 0      |        | 0      | \n",
       "\n",
       "\n"
      ],
      "text/plain": [
       "     Year Month DayofMonth DayOfWeek DepTime ArrTime UniqueCarrier FlightNum\n",
       "5424 2011 1     1          6         1400    1500    AA            428      \n",
       "5425 2011 1     2          7         1401    1501    AA            428      \n",
       "5426 2011 1     3          1         1352    1502    AA            428      \n",
       "5427 2011 1     4          2         1403    1513    AA            428      \n",
       "5428 2011 1     5          3         1405    1507    AA            428      \n",
       "5429 2011 1     6          4         1359    1503    AA            428      \n",
       "     TailNum ActualElapsedTime ... ArrDelay DepDelay Origin Dest Distance\n",
       "5424 N576AA  60                ... -10       0       IAH    DFW  224     \n",
       "5425 N557AA  60                ...  -9       1       IAH    DFW  224     \n",
       "5426 N541AA  70                ...  -8      -8       IAH    DFW  224     \n",
       "5427 N403AA  70                ...   3       3       IAH    DFW  224     \n",
       "5428 N492AA  62                ...  -3       5       IAH    DFW  224     \n",
       "5429 N262AA  64                ...  -7      -1       IAH    DFW  224     \n",
       "     TaxiIn TaxiOut Cancelled CancellationCode Diverted\n",
       "5424 7      13      0                          0       \n",
       "5425 6       9      0                          0       \n",
       "5426 5      17      0                          0       \n",
       "5427 9      22      0                          0       \n",
       "5428 9       9      0                          0       \n",
       "5429 6      13      0                          0       "
      ]
     },
     "metadata": {},
     "output_type": "display_data"
    }
   ],
   "source": [
    "library(hflights)\n",
    "head(hflights)"
   ]
  },
  {
   "cell_type": "code",
   "execution_count": 52,
   "metadata": {
    "collapsed": false
   },
   "outputs": [
    {
     "data": {
      "text/html": [
       "<ol class=list-inline>\n",
       "\t<li>'tbl_df'</li>\n",
       "\t<li>'tbl'</li>\n",
       "\t<li>'data.frame'</li>\n",
       "</ol>\n"
      ],
      "text/latex": [
       "\\begin{enumerate*}\n",
       "\\item 'tbl\\_df'\n",
       "\\item 'tbl'\n",
       "\\item 'data.frame'\n",
       "\\end{enumerate*}\n"
      ],
      "text/markdown": [
       "1. 'tbl_df'\n",
       "2. 'tbl'\n",
       "3. 'data.frame'\n",
       "\n",
       "\n"
      ],
      "text/plain": [
       "[1] \"tbl_df\"     \"tbl\"        \"data.frame\""
      ]
     },
     "metadata": {},
     "output_type": "display_data"
    }
   ],
   "source": [
    "hflights_df <- tbl_df(hflights)\n",
    "class(hflights_df)"
   ]
  },
  {
   "cell_type": "code",
   "execution_count": 53,
   "metadata": {
    "collapsed": false
   },
   "outputs": [
    {
     "data": {
      "text/html": [
       "<table>\n",
       "<thead><tr><th></th><th scope=col>Year</th><th scope=col>Month</th><th scope=col>DayofMonth</th><th scope=col>DayOfWeek</th><th scope=col>DepTime</th><th scope=col>ArrTime</th><th scope=col>UniqueCarrier</th><th scope=col>FlightNum</th><th scope=col>TailNum</th><th scope=col>ActualElapsedTime</th><th scope=col>...</th><th scope=col>ArrDelay</th><th scope=col>DepDelay</th><th scope=col>Origin</th><th scope=col>Dest</th><th scope=col>Distance</th><th scope=col>TaxiIn</th><th scope=col>TaxiOut</th><th scope=col>Cancelled</th><th scope=col>CancellationCode</th><th scope=col>Diverted</th></tr></thead>\n",
       "<tbody>\n",
       "\t<tr><th scope=row>5424</th><td>2011  </td><td>1     </td><td> 1    </td><td>6     </td><td>1400  </td><td>1500  </td><td>AA    </td><td>428   </td><td>N576AA</td><td>60    </td><td>...   </td><td>-10   </td><td> 0    </td><td>IAH   </td><td>DFW   </td><td>224   </td><td> 7    </td><td>13    </td><td>0     </td><td>      </td><td>0     </td></tr>\n",
       "\t<tr><th scope=row>5425</th><td>2011  </td><td>1     </td><td> 2    </td><td>7     </td><td>1401  </td><td>1501  </td><td>AA    </td><td>428   </td><td>N557AA</td><td>60    </td><td>...   </td><td> -9   </td><td> 1    </td><td>IAH   </td><td>DFW   </td><td>224   </td><td> 6    </td><td> 9    </td><td>0     </td><td>      </td><td>0     </td></tr>\n",
       "\t<tr><th scope=row>5426</th><td>2011  </td><td>1     </td><td> 3    </td><td>1     </td><td>1352  </td><td>1502  </td><td>AA    </td><td>428   </td><td>N541AA</td><td>70    </td><td>...   </td><td> -8   </td><td>-8    </td><td>IAH   </td><td>DFW   </td><td>224   </td><td> 5    </td><td>17    </td><td>0     </td><td>      </td><td>0     </td></tr>\n",
       "\t<tr><th scope=row>5427</th><td>2011  </td><td>1     </td><td> 4    </td><td>2     </td><td>1403  </td><td>1513  </td><td>AA    </td><td>428   </td><td>N403AA</td><td>70    </td><td>...   </td><td>  3   </td><td> 3    </td><td>IAH   </td><td>DFW   </td><td>224   </td><td> 9    </td><td>22    </td><td>0     </td><td>      </td><td>0     </td></tr>\n",
       "\t<tr><th scope=row>5428</th><td>2011  </td><td>1     </td><td> 5    </td><td>3     </td><td>1405  </td><td>1507  </td><td>AA    </td><td>428   </td><td>N492AA</td><td>62    </td><td>...   </td><td> -3   </td><td> 5    </td><td>IAH   </td><td>DFW   </td><td>224   </td><td> 9    </td><td> 9    </td><td>0     </td><td>      </td><td>0     </td></tr>\n",
       "\t<tr><th scope=row>5429</th><td>2011  </td><td>1     </td><td> 6    </td><td>4     </td><td>1359  </td><td>1503  </td><td>AA    </td><td>428   </td><td>N262AA</td><td>64    </td><td>...   </td><td> -7   </td><td>-1    </td><td>IAH   </td><td>DFW   </td><td>224   </td><td> 6    </td><td>13    </td><td>0     </td><td>      </td><td>0     </td></tr>\n",
       "\t<tr><th scope=row>5430</th><td>2011  </td><td>1     </td><td> 7    </td><td>5     </td><td>1359  </td><td>1509  </td><td>AA    </td><td>428   </td><td>N493AA</td><td>70    </td><td>...   </td><td> -1   </td><td>-1    </td><td>IAH   </td><td>DFW   </td><td>224   </td><td>12    </td><td>15    </td><td>0     </td><td>      </td><td>0     </td></tr>\n",
       "\t<tr><th scope=row>5431</th><td>2011  </td><td>1     </td><td> 8    </td><td>6     </td><td>1355  </td><td>1454  </td><td>AA    </td><td>428   </td><td>N477AA</td><td>59    </td><td>...   </td><td>-16   </td><td>-5    </td><td>IAH   </td><td>DFW   </td><td>224   </td><td> 7    </td><td>12    </td><td>0     </td><td>      </td><td>0     </td></tr>\n",
       "\t<tr><th scope=row>5432</th><td>2011  </td><td>1     </td><td> 9    </td><td>7     </td><td>1443  </td><td>1554  </td><td>AA    </td><td>428   </td><td>N476AA</td><td>71    </td><td>...   </td><td> 44   </td><td>43    </td><td>IAH   </td><td>DFW   </td><td>224   </td><td> 8    </td><td>22    </td><td>0     </td><td>      </td><td>0     </td></tr>\n",
       "\t<tr><th scope=row>5433</th><td>2011  </td><td>1     </td><td>10    </td><td>1     </td><td>1443  </td><td>1553  </td><td>AA    </td><td>428   </td><td>N504AA</td><td>70    </td><td>...   </td><td> 43   </td><td>43    </td><td>IAH   </td><td>DFW   </td><td>224   </td><td> 6    </td><td>19    </td><td>0     </td><td>      </td><td>0     </td></tr>\n",
       "\t<tr><th scope=row>5434</th><td>2011  </td><td>1     </td><td>11    </td><td>2     </td><td>1429  </td><td>1539  </td><td>AA    </td><td>428   </td><td>N565AA</td><td>70    </td><td>...   </td><td> 29   </td><td>29    </td><td>IAH   </td><td>DFW   </td><td>224   </td><td> 8    </td><td>20    </td><td>0     </td><td>      </td><td>0     </td></tr>\n",
       "\t<tr><th scope=row>5435</th><td>2011  </td><td>1     </td><td>12    </td><td>3     </td><td>1419  </td><td>1515  </td><td>AA    </td><td>428   </td><td>N577AA</td><td>56    </td><td>...   </td><td>  5   </td><td>19    </td><td>IAH   </td><td>DFW   </td><td>224   </td><td> 4    </td><td>11    </td><td>0     </td><td>      </td><td>0     </td></tr>\n",
       "\t<tr><th scope=row>5436</th><td>2011  </td><td>1     </td><td>13    </td><td>4     </td><td>1358  </td><td>1501  </td><td>AA    </td><td>428   </td><td>N476AA</td><td>63    </td><td>...   </td><td> -9   </td><td>-2    </td><td>IAH   </td><td>DFW   </td><td>224   </td><td> 6    </td><td>13    </td><td>0     </td><td>      </td><td>0     </td></tr>\n",
       "\t<tr><th scope=row>5437</th><td>2011  </td><td>1     </td><td>14    </td><td>5     </td><td>1357  </td><td>1504  </td><td>AA    </td><td>428   </td><td>N552AA</td><td>67    </td><td>...   </td><td> -6   </td><td>-3    </td><td>IAH   </td><td>DFW   </td><td>224   </td><td> 5    </td><td>15    </td><td>0     </td><td>      </td><td>0     </td></tr>\n",
       "\t<tr><th scope=row>5438</th><td>2011  </td><td>1     </td><td>15    </td><td>6     </td><td>1359  </td><td>1459  </td><td>AA    </td><td>428   </td><td>N462AA</td><td>60    </td><td>...   </td><td>-11   </td><td>-1    </td><td>IAH   </td><td>DFW   </td><td>224   </td><td> 6    </td><td>10    </td><td>0     </td><td>      </td><td>0     </td></tr>\n",
       "\t<tr><th scope=row>5439</th><td>2011  </td><td>1     </td><td>16    </td><td>7     </td><td>1359  </td><td>1509  </td><td>AA    </td><td>428   </td><td>N555AA</td><td>70    </td><td>...   </td><td> -1   </td><td>-1    </td><td>IAH   </td><td>DFW   </td><td>224   </td><td>12    </td><td>17    </td><td>0     </td><td>      </td><td>0     </td></tr>\n",
       "\t<tr><th scope=row>5440</th><td>2011  </td><td>1     </td><td>17    </td><td>1     </td><td>1530  </td><td>1634  </td><td>AA    </td><td>428   </td><td>N518AA</td><td>64    </td><td>...   </td><td> 84   </td><td>90    </td><td>IAH   </td><td>DFW   </td><td>224   </td><td> 8    </td><td> 8    </td><td>0     </td><td>      </td><td>0     </td></tr>\n",
       "\t<tr><th scope=row>5441</th><td>2011  </td><td>1     </td><td>18    </td><td>2     </td><td>1408  </td><td>1508  </td><td>AA    </td><td>428   </td><td>N507AA</td><td>60    </td><td>...   </td><td> -2   </td><td> 8    </td><td>IAH   </td><td>DFW   </td><td>224   </td><td> 7    </td><td>11    </td><td>0     </td><td>      </td><td>0     </td></tr>\n",
       "\t<tr><th scope=row>5442</th><td>2011  </td><td>1     </td><td>19    </td><td>3     </td><td>1356  </td><td>1503  </td><td>AA    </td><td>428   </td><td>N523AA</td><td>67    </td><td>...   </td><td> -7   </td><td>-4    </td><td>IAH   </td><td>DFW   </td><td>224   </td><td>10    </td><td>11    </td><td>0     </td><td>      </td><td>0     </td></tr>\n",
       "\t<tr><th scope=row>5443</th><td>2011  </td><td>1     </td><td>20    </td><td>4     </td><td>1507  </td><td>1622  </td><td>AA    </td><td>428   </td><td>N425AA</td><td>75    </td><td>...   </td><td> 72   </td><td>67    </td><td>IAH   </td><td>DFW   </td><td>224   </td><td> 9    </td><td>24    </td><td>0     </td><td>      </td><td>0     </td></tr>\n",
       "\t<tr><th scope=row>5444</th><td>2011  </td><td>1     </td><td>21    </td><td>5     </td><td>1357  </td><td>1459  </td><td>AA    </td><td>428   </td><td>N251AA</td><td>62    </td><td>...   </td><td>-11   </td><td>-3    </td><td>IAH   </td><td>DFW   </td><td>224   </td><td> 6    </td><td> 9    </td><td>0     </td><td>      </td><td>0     </td></tr>\n",
       "\t<tr><th scope=row>5445</th><td>2011  </td><td>1     </td><td>22    </td><td>6     </td><td>1355  </td><td>1456  </td><td>AA    </td><td>428   </td><td>N551AA</td><td>61    </td><td>...   </td><td>-14   </td><td>-5    </td><td>IAH   </td><td>DFW   </td><td>224   </td><td> 9    </td><td> 8    </td><td>0     </td><td>      </td><td>0     </td></tr>\n",
       "\t<tr><th scope=row>5446</th><td>2011  </td><td>1     </td><td>23    </td><td>7     </td><td>1356  </td><td>1501  </td><td>AA    </td><td>428   </td><td>N479AA</td><td>65    </td><td>...   </td><td> -9   </td><td>-4    </td><td>IAH   </td><td>DFW   </td><td>224   </td><td> 7    </td><td>18    </td><td>0     </td><td>      </td><td>0     </td></tr>\n",
       "\t<tr><th scope=row>5447</th><td>2011  </td><td>1     </td><td>24    </td><td>1     </td><td>1356  </td><td>1513  </td><td>AA    </td><td>428   </td><td>N531AA</td><td>77    </td><td>...   </td><td>  3   </td><td>-4    </td><td>IAH   </td><td>DFW   </td><td>224   </td><td> 6    </td><td>28    </td><td>0     </td><td>      </td><td>0     </td></tr>\n",
       "\t<tr><th scope=row>5448</th><td>2011  </td><td>1     </td><td>25    </td><td>2     </td><td>1352  </td><td>1452  </td><td>AA    </td><td>428   </td><td>N561AA</td><td>60    </td><td>...   </td><td>-18   </td><td>-8    </td><td>IAH   </td><td>DFW   </td><td>224   </td><td> 7    </td><td>13    </td><td>0     </td><td>      </td><td>0     </td></tr>\n",
       "\t<tr><th scope=row>5449</th><td>2011  </td><td>1     </td><td>26    </td><td>3     </td><td>1353  </td><td>1455  </td><td>AA    </td><td>428   </td><td>N541AA</td><td>62    </td><td>...   </td><td>-15   </td><td>-7    </td><td>IAH   </td><td>DFW   </td><td>224   </td><td> 8    </td><td>14    </td><td>0     </td><td>      </td><td>0     </td></tr>\n",
       "\t<tr><th scope=row>5450</th><td>2011  </td><td>1     </td><td>27    </td><td>4     </td><td>1356  </td><td>1458  </td><td>AA    </td><td>428   </td><td>N512AA</td><td>62    </td><td>...   </td><td>-12   </td><td>-4    </td><td>IAH   </td><td>DFW   </td><td>224   </td><td>12    </td><td>10    </td><td>0     </td><td>      </td><td>0     </td></tr>\n",
       "\t<tr><th scope=row>5451</th><td>2011  </td><td>1     </td><td>28    </td><td>5     </td><td>1359  </td><td>1505  </td><td>AA    </td><td>428   </td><td>N4UBAA</td><td>66    </td><td>...   </td><td> -5   </td><td>-1    </td><td>IAH   </td><td>DFW   </td><td>224   </td><td> 8    </td><td>12    </td><td>0     </td><td>      </td><td>0     </td></tr>\n",
       "\t<tr><th scope=row>5452</th><td>2011  </td><td>1     </td><td>29    </td><td>6     </td><td>1355  </td><td>1455  </td><td>AA    </td><td>428   </td><td>N491AA</td><td>60    </td><td>...   </td><td>-15   </td><td>-5    </td><td>IAH   </td><td>DFW   </td><td>224   </td><td> 7    </td><td> 7    </td><td>0     </td><td>      </td><td>0     </td></tr>\n",
       "\t<tr><th scope=row>5453</th><td>2011  </td><td>1     </td><td>30    </td><td>7     </td><td>1359  </td><td>1456  </td><td>AA    </td><td>428   </td><td>N561AA</td><td>57    </td><td>...   </td><td>-14   </td><td>-1    </td><td>IAH   </td><td>DFW   </td><td>224   </td><td> 7    </td><td>11    </td><td>0     </td><td>      </td><td>0     </td></tr>\n",
       "\t<tr><th scope=row>...</th><td>...</td><td>...</td><td>...</td><td>...</td><td>...</td><td>...</td><td>...</td><td>...</td><td>...</td><td>...</td><td>   </td><td>...</td><td>...</td><td>...</td><td>...</td><td>...</td><td>...</td><td>...</td><td>...</td><td>...</td><td>...</td></tr>\n",
       "\t<tr><th scope=row>6083230</th><td>2011  </td><td>12    </td><td>6     </td><td>2     </td><td> 752  </td><td> 857  </td><td>WN    </td><td>1628  </td><td>N435WN</td><td> 65   </td><td>...   </td><td>  2   </td><td>-3    </td><td>HOU   </td><td>MSY   </td><td> 302  </td><td> 4    </td><td>11    </td><td>0     </td><td>      </td><td>0     </td></tr>\n",
       "\t<tr><th scope=row>6083231</th><td>2011  </td><td>12    </td><td>6     </td><td>2     </td><td> 651  </td><td> 746  </td><td>WN    </td><td>2534  </td><td>N232WN</td><td> 55   </td><td>...   </td><td> -9   </td><td>-4    </td><td>HOU   </td><td>MSY   </td><td> 302  </td><td> 5    </td><td> 7    </td><td>0     </td><td>      </td><td>0     </td></tr>\n",
       "\t<tr><th scope=row>6083232</th><td>2011  </td><td>12    </td><td>6     </td><td>2     </td><td>1728  </td><td>1932  </td><td>WN    </td><td> 902  </td><td>N724SW</td><td>244   </td><td>...   </td><td>  7   </td><td>23    </td><td>HOU   </td><td>OAK   </td><td>1642  </td><td> 5    </td><td> 8    </td><td>0     </td><td>      </td><td>0     </td></tr>\n",
       "\t<tr><th scope=row>6083233</th><td>2011  </td><td>12    </td><td>6     </td><td>2     </td><td>1115  </td><td>1315  </td><td>WN    </td><td>1167  </td><td>N455WN</td><td>240   </td><td>...   </td><td>-15   </td><td> 5    </td><td>HOU   </td><td>OAK   </td><td>1642  </td><td> 6    </td><td> 9    </td><td>0     </td><td>      </td><td>0     </td></tr>\n",
       "\t<tr><th scope=row>6083234</th><td>2011  </td><td>12    </td><td>6     </td><td>2     </td><td>1753  </td><td>1911  </td><td>WN    </td><td> 513  </td><td>N362SW</td><td> 78   </td><td>...   </td><td> 31   </td><td>33    </td><td>HOU   </td><td>OKC   </td><td> 419  </td><td> 4    </td><td>15    </td><td>0     </td><td>      </td><td>0     </td></tr>\n",
       "\t<tr><th scope=row>6083235</th><td>2011  </td><td>12    </td><td>6     </td><td>2     </td><td>1222  </td><td>1335  </td><td>WN    </td><td> 581  </td><td>N646SW</td><td> 73   </td><td>...   </td><td>-10   </td><td>-3    </td><td>HOU   </td><td>OKC   </td><td> 419  </td><td> 3    </td><td> 9    </td><td>0     </td><td>      </td><td>0     </td></tr>\n",
       "\t<tr><th scope=row>6083236</th><td>2011  </td><td>12    </td><td>6     </td><td>2     </td><td> 836  </td><td> 946  </td><td>WN    </td><td>1223  </td><td>N394SW</td><td> 70   </td><td>...   </td><td> -9   </td><td> 1    </td><td>HOU   </td><td>OKC   </td><td> 419  </td><td> 4    </td><td> 8    </td><td>0     </td><td>      </td><td>0     </td></tr>\n",
       "\t<tr><th scope=row>6083237</th><td>2011  </td><td>12    </td><td>6     </td><td>2     </td><td>1352  </td><td>1749  </td><td>WN    </td><td>3085  </td><td>N510SW</td><td>177   </td><td>...   </td><td> 59   </td><td>72    </td><td>HOU   </td><td>PHL   </td><td>1336  </td><td> 5    </td><td> 9    </td><td>0     </td><td>      </td><td>0     </td></tr>\n",
       "\t<tr><th scope=row>6083238</th><td>2011  </td><td>12    </td><td>6     </td><td>2     </td><td>1850  </td><td>2046  </td><td>WN    </td><td>  39  </td><td>N754SW</td><td>176   </td><td>...   </td><td> 71   </td><td>70    </td><td>HOU   </td><td>PHX   </td><td>1020  </td><td> 4    </td><td>15    </td><td>0     </td><td>      </td><td>0     </td></tr>\n",
       "\t<tr><th scope=row>6083239</th><td>2011  </td><td>12    </td><td>6     </td><td>2     </td><td> 707  </td><td> 903  </td><td>WN    </td><td> 424  </td><td>N769SW</td><td>176   </td><td>...   </td><td> -2   </td><td>-3    </td><td>HOU   </td><td>PHX   </td><td>1020  </td><td> 4    </td><td>10    </td><td>0     </td><td>      </td><td>0     </td></tr>\n",
       "\t<tr><th scope=row>6083240</th><td>2011  </td><td>12    </td><td>6     </td><td>2     </td><td>1335  </td><td>1528  </td><td>WN    </td><td>1098  </td><td>N448WN</td><td>173   </td><td>...   </td><td> 18   </td><td>20    </td><td>HOU   </td><td>PHX   </td><td>1020  </td><td> 4    </td><td>10    </td><td>0     </td><td>      </td><td>0     </td></tr>\n",
       "\t<tr><th scope=row>6083241</th><td>2011  </td><td>12    </td><td>6     </td><td>2     </td><td>1005  </td><td>1158  </td><td>WN    </td><td>1403  </td><td>N430WN</td><td>173   </td><td>...   </td><td> 13   </td><td>15    </td><td>HOU   </td><td>PHX   </td><td>1020  </td><td> 3    </td><td> 7    </td><td>0     </td><td>      </td><td>0     </td></tr>\n",
       "\t<tr><th scope=row>6083242</th><td>2011  </td><td>12    </td><td>6     </td><td>2     </td><td>1723  </td><td>1845  </td><td>WN    </td><td>  33  </td><td>N698SW</td><td>202   </td><td>...   </td><td> 70   </td><td>78    </td><td>HOU   </td><td>SAN   </td><td>1313  </td><td> 3    </td><td> 7    </td><td>0     </td><td>      </td><td>0     </td></tr>\n",
       "\t<tr><th scope=row>6083243</th><td>2011  </td><td>12    </td><td>6     </td><td>2     </td><td>1139  </td><td>1304  </td><td>WN    </td><td>1212  </td><td>N226WN</td><td>205   </td><td>...   </td><td> -6   </td><td>-1    </td><td>HOU   </td><td>SAN   </td><td>1313  </td><td> 2    </td><td>10    </td><td>0     </td><td>      </td><td>0     </td></tr>\n",
       "\t<tr><th scope=row>6083244</th><td>2011  </td><td>12    </td><td>6     </td><td>2     </td><td>2023  </td><td>2109  </td><td>WN    </td><td> 207  </td><td>N354SW</td><td> 46   </td><td>...   </td><td> 29   </td><td>43    </td><td>HOU   </td><td>SAT   </td><td> 192  </td><td> 4    </td><td> 4    </td><td>0     </td><td>      </td><td>0     </td></tr>\n",
       "\t<tr><th scope=row>6083245</th><td>2011  </td><td>12    </td><td>6     </td><td>2     </td><td>1542  </td><td>1637  </td><td>WN    </td><td> 405  </td><td>N617SW</td><td> 55   </td><td>...   </td><td> 12   </td><td>12    </td><td>HOU   </td><td>SAT   </td><td> 192  </td><td> 4    </td><td> 8    </td><td>0     </td><td>      </td><td>0     </td></tr>\n",
       "\t<tr><th scope=row>6083246</th><td>2011  </td><td>12    </td><td>6     </td><td>2     </td><td>1728  </td><td>1825  </td><td>WN    </td><td> 628  </td><td>N389SW</td><td> 57   </td><td>...   </td><td>  5   </td><td> 3    </td><td>HOU   </td><td>SAT   </td><td> 192  </td><td> 4    </td><td>14    </td><td>0     </td><td>      </td><td>0     </td></tr>\n",
       "\t<tr><th scope=row>6083247</th><td>2011  </td><td>12    </td><td>6     </td><td>2     </td><td>1252  </td><td>1349  </td><td>WN    </td><td> 994  </td><td>N713SW</td><td> 57   </td><td>...   </td><td>  9   </td><td> 7    </td><td>HOU   </td><td>SAT   </td><td> 192  </td><td> 5    </td><td> 9    </td><td>0     </td><td>      </td><td>0     </td></tr>\n",
       "\t<tr><th scope=row>6083248</th><td>2011  </td><td>12    </td><td>6     </td><td>2     </td><td> 857  </td><td> 955  </td><td>WN    </td><td>1231  </td><td>N284WN</td><td> 58   </td><td>...   </td><td>  0   </td><td>-3    </td><td>HOU   </td><td>SAT   </td><td> 192  </td><td> 5    </td><td> 9    </td><td>0     </td><td>      </td><td>0     </td></tr>\n",
       "\t<tr><th scope=row>6083249</th><td>2011  </td><td>12    </td><td>6     </td><td>2     </td><td>1939  </td><td>2119  </td><td>WN    </td><td> 124  </td><td>N522SW</td><td>100   </td><td>...   </td><td> 14   </td><td>39    </td><td>HOU   </td><td>STL   </td><td> 687  </td><td> 4    </td><td>15    </td><td>0     </td><td>      </td><td>0     </td></tr>\n",
       "\t<tr><th scope=row>6083250</th><td>2011  </td><td>12    </td><td>6     </td><td>2     </td><td> 556  </td><td> 745  </td><td>WN    </td><td> 280  </td><td>N728SW</td><td>109   </td><td>...   </td><td>-10   </td><td>-4    </td><td>HOU   </td><td>STL   </td><td> 687  </td><td>13    </td><td> 9    </td><td>0     </td><td>      </td><td>0     </td></tr>\n",
       "\t<tr><th scope=row>6083251</th><td>2011  </td><td>12    </td><td>6     </td><td>2     </td><td>1026  </td><td>1208  </td><td>WN    </td><td> 782  </td><td>N476WN</td><td>102   </td><td>...   </td><td>-12   </td><td> 1    </td><td>HOU   </td><td>STL   </td><td> 687  </td><td> 4    </td><td>12    </td><td>0     </td><td>      </td><td>0     </td></tr>\n",
       "\t<tr><th scope=row>6083252</th><td>2011  </td><td>12    </td><td>6     </td><td>2     </td><td>1611  </td><td>1746  </td><td>WN    </td><td>1050  </td><td>N655WN</td><td> 95   </td><td>...   </td><td> -9   </td><td>16    </td><td>HOU   </td><td>STL   </td><td> 687  </td><td> 3    </td><td> 9    </td><td>0     </td><td>      </td><td>0     </td></tr>\n",
       "\t<tr><th scope=row>6083253</th><td>2011  </td><td>12    </td><td>6     </td><td>2     </td><td> 758  </td><td>1051  </td><td>WN    </td><td> 201  </td><td>N903WN</td><td>113   </td><td>...   </td><td> -4   </td><td>-2    </td><td>HOU   </td><td>TPA   </td><td> 781  </td><td> 3    </td><td>10    </td><td>0     </td><td>      </td><td>0     </td></tr>\n",
       "\t<tr><th scope=row>6083254</th><td>2011  </td><td>12    </td><td>6     </td><td>2     </td><td>1307  </td><td>1600  </td><td>WN    </td><td> 471  </td><td>N632SW</td><td>113   </td><td>...   </td><td>  0   </td><td> 7    </td><td>HOU   </td><td>TPA   </td><td> 781  </td><td> 5    </td><td>10    </td><td>0     </td><td>      </td><td>0     </td></tr>\n",
       "\t<tr><th scope=row>6083255</th><td>2011  </td><td>12    </td><td>6     </td><td>2     </td><td>1818  </td><td>2111  </td><td>WN    </td><td>1191  </td><td>N284WN</td><td>113   </td><td>...   </td><td> -9   </td><td> 8    </td><td>HOU   </td><td>TPA   </td><td> 781  </td><td> 5    </td><td>11    </td><td>0     </td><td>      </td><td>0     </td></tr>\n",
       "\t<tr><th scope=row>6083256</th><td>2011  </td><td>12    </td><td>6     </td><td>2     </td><td>2047  </td><td>2334  </td><td>WN    </td><td>1674  </td><td>N366SW</td><td>107   </td><td>...   </td><td>  4   </td><td> 7    </td><td>HOU   </td><td>TPA   </td><td> 781  </td><td> 4    </td><td> 9    </td><td>0     </td><td>      </td><td>0     </td></tr>\n",
       "\t<tr><th scope=row>6083257</th><td>2011  </td><td>12    </td><td>6     </td><td>2     </td><td> 912  </td><td>1031  </td><td>WN    </td><td> 127  </td><td>N777QC</td><td> 79   </td><td>...   </td><td> -4   </td><td>-3    </td><td>HOU   </td><td>TUL   </td><td> 453  </td><td> 4    </td><td>14    </td><td>0     </td><td>      </td><td>0     </td></tr>\n",
       "\t<tr><th scope=row>6083258</th><td>2011  </td><td>12    </td><td>6     </td><td>2     </td><td> 656  </td><td> 812  </td><td>WN    </td><td> 621  </td><td>N727SW</td><td> 76   </td><td>...   </td><td>-13   </td><td>-4    </td><td>HOU   </td><td>TUL   </td><td> 453  </td><td> 3    </td><td> 9    </td><td>0     </td><td>      </td><td>0     </td></tr>\n",
       "\t<tr><th scope=row>6083259</th><td>2011  </td><td>12    </td><td>6     </td><td>2     </td><td>1600  </td><td>1713  </td><td>WN    </td><td>1597  </td><td>N745SW</td><td> 73   </td><td>...   </td><td>-12   </td><td> 0    </td><td>HOU   </td><td>TUL   </td><td> 453  </td><td> 3    </td><td>11    </td><td>0     </td><td>      </td><td>0     </td></tr>\n",
       "</tbody>\n",
       "</table>\n"
      ],
      "text/latex": [
       "\\begin{tabular}{r|lllllllllllllllllllll}\n",
       "  & Year & Month & DayofMonth & DayOfWeek & DepTime & ArrTime & UniqueCarrier & FlightNum & TailNum & ActualElapsedTime & ... & ArrDelay & DepDelay & Origin & Dest & Distance & TaxiIn & TaxiOut & Cancelled & CancellationCode & Diverted\\\\\n",
       "\\hline\n",
       "\t5424 & 2011   & 1      &  1     & 6      & 1400   & 1500   & AA     & 428    & N576AA & 60     & ...    & -10    &  0     & IAH    & DFW    & 224    &  7     & 13     & 0      &        & 0     \\\\\n",
       "\t5425 & 2011   & 1      &  2     & 7      & 1401   & 1501   & AA     & 428    & N557AA & 60     & ...    &  -9    &  1     & IAH    & DFW    & 224    &  6     &  9     & 0      &        & 0     \\\\\n",
       "\t5426 & 2011   & 1      &  3     & 1      & 1352   & 1502   & AA     & 428    & N541AA & 70     & ...    &  -8    & -8     & IAH    & DFW    & 224    &  5     & 17     & 0      &        & 0     \\\\\n",
       "\t5427 & 2011   & 1      &  4     & 2      & 1403   & 1513   & AA     & 428    & N403AA & 70     & ...    &   3    &  3     & IAH    & DFW    & 224    &  9     & 22     & 0      &        & 0     \\\\\n",
       "\t5428 & 2011   & 1      &  5     & 3      & 1405   & 1507   & AA     & 428    & N492AA & 62     & ...    &  -3    &  5     & IAH    & DFW    & 224    &  9     &  9     & 0      &        & 0     \\\\\n",
       "\t5429 & 2011   & 1      &  6     & 4      & 1359   & 1503   & AA     & 428    & N262AA & 64     & ...    &  -7    & -1     & IAH    & DFW    & 224    &  6     & 13     & 0      &        & 0     \\\\\n",
       "\t5430 & 2011   & 1      &  7     & 5      & 1359   & 1509   & AA     & 428    & N493AA & 70     & ...    &  -1    & -1     & IAH    & DFW    & 224    & 12     & 15     & 0      &        & 0     \\\\\n",
       "\t5431 & 2011   & 1      &  8     & 6      & 1355   & 1454   & AA     & 428    & N477AA & 59     & ...    & -16    & -5     & IAH    & DFW    & 224    &  7     & 12     & 0      &        & 0     \\\\\n",
       "\t5432 & 2011   & 1      &  9     & 7      & 1443   & 1554   & AA     & 428    & N476AA & 71     & ...    &  44    & 43     & IAH    & DFW    & 224    &  8     & 22     & 0      &        & 0     \\\\\n",
       "\t5433 & 2011   & 1      & 10     & 1      & 1443   & 1553   & AA     & 428    & N504AA & 70     & ...    &  43    & 43     & IAH    & DFW    & 224    &  6     & 19     & 0      &        & 0     \\\\\n",
       "\t5434 & 2011   & 1      & 11     & 2      & 1429   & 1539   & AA     & 428    & N565AA & 70     & ...    &  29    & 29     & IAH    & DFW    & 224    &  8     & 20     & 0      &        & 0     \\\\\n",
       "\t5435 & 2011   & 1      & 12     & 3      & 1419   & 1515   & AA     & 428    & N577AA & 56     & ...    &   5    & 19     & IAH    & DFW    & 224    &  4     & 11     & 0      &        & 0     \\\\\n",
       "\t5436 & 2011   & 1      & 13     & 4      & 1358   & 1501   & AA     & 428    & N476AA & 63     & ...    &  -9    & -2     & IAH    & DFW    & 224    &  6     & 13     & 0      &        & 0     \\\\\n",
       "\t5437 & 2011   & 1      & 14     & 5      & 1357   & 1504   & AA     & 428    & N552AA & 67     & ...    &  -6    & -3     & IAH    & DFW    & 224    &  5     & 15     & 0      &        & 0     \\\\\n",
       "\t5438 & 2011   & 1      & 15     & 6      & 1359   & 1459   & AA     & 428    & N462AA & 60     & ...    & -11    & -1     & IAH    & DFW    & 224    &  6     & 10     & 0      &        & 0     \\\\\n",
       "\t5439 & 2011   & 1      & 16     & 7      & 1359   & 1509   & AA     & 428    & N555AA & 70     & ...    &  -1    & -1     & IAH    & DFW    & 224    & 12     & 17     & 0      &        & 0     \\\\\n",
       "\t5440 & 2011   & 1      & 17     & 1      & 1530   & 1634   & AA     & 428    & N518AA & 64     & ...    &  84    & 90     & IAH    & DFW    & 224    &  8     &  8     & 0      &        & 0     \\\\\n",
       "\t5441 & 2011   & 1      & 18     & 2      & 1408   & 1508   & AA     & 428    & N507AA & 60     & ...    &  -2    &  8     & IAH    & DFW    & 224    &  7     & 11     & 0      &        & 0     \\\\\n",
       "\t5442 & 2011   & 1      & 19     & 3      & 1356   & 1503   & AA     & 428    & N523AA & 67     & ...    &  -7    & -4     & IAH    & DFW    & 224    & 10     & 11     & 0      &        & 0     \\\\\n",
       "\t5443 & 2011   & 1      & 20     & 4      & 1507   & 1622   & AA     & 428    & N425AA & 75     & ...    &  72    & 67     & IAH    & DFW    & 224    &  9     & 24     & 0      &        & 0     \\\\\n",
       "\t5444 & 2011   & 1      & 21     & 5      & 1357   & 1459   & AA     & 428    & N251AA & 62     & ...    & -11    & -3     & IAH    & DFW    & 224    &  6     &  9     & 0      &        & 0     \\\\\n",
       "\t5445 & 2011   & 1      & 22     & 6      & 1355   & 1456   & AA     & 428    & N551AA & 61     & ...    & -14    & -5     & IAH    & DFW    & 224    &  9     &  8     & 0      &        & 0     \\\\\n",
       "\t5446 & 2011   & 1      & 23     & 7      & 1356   & 1501   & AA     & 428    & N479AA & 65     & ...    &  -9    & -4     & IAH    & DFW    & 224    &  7     & 18     & 0      &        & 0     \\\\\n",
       "\t5447 & 2011   & 1      & 24     & 1      & 1356   & 1513   & AA     & 428    & N531AA & 77     & ...    &   3    & -4     & IAH    & DFW    & 224    &  6     & 28     & 0      &        & 0     \\\\\n",
       "\t5448 & 2011   & 1      & 25     & 2      & 1352   & 1452   & AA     & 428    & N561AA & 60     & ...    & -18    & -8     & IAH    & DFW    & 224    &  7     & 13     & 0      &        & 0     \\\\\n",
       "\t5449 & 2011   & 1      & 26     & 3      & 1353   & 1455   & AA     & 428    & N541AA & 62     & ...    & -15    & -7     & IAH    & DFW    & 224    &  8     & 14     & 0      &        & 0     \\\\\n",
       "\t5450 & 2011   & 1      & 27     & 4      & 1356   & 1458   & AA     & 428    & N512AA & 62     & ...    & -12    & -4     & IAH    & DFW    & 224    & 12     & 10     & 0      &        & 0     \\\\\n",
       "\t5451 & 2011   & 1      & 28     & 5      & 1359   & 1505   & AA     & 428    & N4UBAA & 66     & ...    &  -5    & -1     & IAH    & DFW    & 224    &  8     & 12     & 0      &        & 0     \\\\\n",
       "\t5452 & 2011   & 1      & 29     & 6      & 1355   & 1455   & AA     & 428    & N491AA & 60     & ...    & -15    & -5     & IAH    & DFW    & 224    &  7     &  7     & 0      &        & 0     \\\\\n",
       "\t5453 & 2011   & 1      & 30     & 7      & 1359   & 1456   & AA     & 428    & N561AA & 57     & ...    & -14    & -1     & IAH    & DFW    & 224    &  7     & 11     & 0      &        & 0     \\\\\n",
       "\t... & ... & ... & ... & ... & ... & ... & ... & ... & ... & ... &     & ... & ... & ... & ... & ... & ... & ... & ... & ... & ...\\\\\n",
       "\t6083230 & 2011   & 12     & 6      & 2      &  752   &  857   & WN     & 1628   & N435WN &  65    & ...    &   2    & -3     & HOU    & MSY    &  302   &  4     & 11     & 0      &        & 0     \\\\\n",
       "\t6083231 & 2011   & 12     & 6      & 2      &  651   &  746   & WN     & 2534   & N232WN &  55    & ...    &  -9    & -4     & HOU    & MSY    &  302   &  5     &  7     & 0      &        & 0     \\\\\n",
       "\t6083232 & 2011   & 12     & 6      & 2      & 1728   & 1932   & WN     &  902   & N724SW & 244    & ...    &   7    & 23     & HOU    & OAK    & 1642   &  5     &  8     & 0      &        & 0     \\\\\n",
       "\t6083233 & 2011   & 12     & 6      & 2      & 1115   & 1315   & WN     & 1167   & N455WN & 240    & ...    & -15    &  5     & HOU    & OAK    & 1642   &  6     &  9     & 0      &        & 0     \\\\\n",
       "\t6083234 & 2011   & 12     & 6      & 2      & 1753   & 1911   & WN     &  513   & N362SW &  78    & ...    &  31    & 33     & HOU    & OKC    &  419   &  4     & 15     & 0      &        & 0     \\\\\n",
       "\t6083235 & 2011   & 12     & 6      & 2      & 1222   & 1335   & WN     &  581   & N646SW &  73    & ...    & -10    & -3     & HOU    & OKC    &  419   &  3     &  9     & 0      &        & 0     \\\\\n",
       "\t6083236 & 2011   & 12     & 6      & 2      &  836   &  946   & WN     & 1223   & N394SW &  70    & ...    &  -9    &  1     & HOU    & OKC    &  419   &  4     &  8     & 0      &        & 0     \\\\\n",
       "\t6083237 & 2011   & 12     & 6      & 2      & 1352   & 1749   & WN     & 3085   & N510SW & 177    & ...    &  59    & 72     & HOU    & PHL    & 1336   &  5     &  9     & 0      &        & 0     \\\\\n",
       "\t6083238 & 2011   & 12     & 6      & 2      & 1850   & 2046   & WN     &   39   & N754SW & 176    & ...    &  71    & 70     & HOU    & PHX    & 1020   &  4     & 15     & 0      &        & 0     \\\\\n",
       "\t6083239 & 2011   & 12     & 6      & 2      &  707   &  903   & WN     &  424   & N769SW & 176    & ...    &  -2    & -3     & HOU    & PHX    & 1020   &  4     & 10     & 0      &        & 0     \\\\\n",
       "\t6083240 & 2011   & 12     & 6      & 2      & 1335   & 1528   & WN     & 1098   & N448WN & 173    & ...    &  18    & 20     & HOU    & PHX    & 1020   &  4     & 10     & 0      &        & 0     \\\\\n",
       "\t6083241 & 2011   & 12     & 6      & 2      & 1005   & 1158   & WN     & 1403   & N430WN & 173    & ...    &  13    & 15     & HOU    & PHX    & 1020   &  3     &  7     & 0      &        & 0     \\\\\n",
       "\t6083242 & 2011   & 12     & 6      & 2      & 1723   & 1845   & WN     &   33   & N698SW & 202    & ...    &  70    & 78     & HOU    & SAN    & 1313   &  3     &  7     & 0      &        & 0     \\\\\n",
       "\t6083243 & 2011   & 12     & 6      & 2      & 1139   & 1304   & WN     & 1212   & N226WN & 205    & ...    &  -6    & -1     & HOU    & SAN    & 1313   &  2     & 10     & 0      &        & 0     \\\\\n",
       "\t6083244 & 2011   & 12     & 6      & 2      & 2023   & 2109   & WN     &  207   & N354SW &  46    & ...    &  29    & 43     & HOU    & SAT    &  192   &  4     &  4     & 0      &        & 0     \\\\\n",
       "\t6083245 & 2011   & 12     & 6      & 2      & 1542   & 1637   & WN     &  405   & N617SW &  55    & ...    &  12    & 12     & HOU    & SAT    &  192   &  4     &  8     & 0      &        & 0     \\\\\n",
       "\t6083246 & 2011   & 12     & 6      & 2      & 1728   & 1825   & WN     &  628   & N389SW &  57    & ...    &   5    &  3     & HOU    & SAT    &  192   &  4     & 14     & 0      &        & 0     \\\\\n",
       "\t6083247 & 2011   & 12     & 6      & 2      & 1252   & 1349   & WN     &  994   & N713SW &  57    & ...    &   9    &  7     & HOU    & SAT    &  192   &  5     &  9     & 0      &        & 0     \\\\\n",
       "\t6083248 & 2011   & 12     & 6      & 2      &  857   &  955   & WN     & 1231   & N284WN &  58    & ...    &   0    & -3     & HOU    & SAT    &  192   &  5     &  9     & 0      &        & 0     \\\\\n",
       "\t6083249 & 2011   & 12     & 6      & 2      & 1939   & 2119   & WN     &  124   & N522SW & 100    & ...    &  14    & 39     & HOU    & STL    &  687   &  4     & 15     & 0      &        & 0     \\\\\n",
       "\t6083250 & 2011   & 12     & 6      & 2      &  556   &  745   & WN     &  280   & N728SW & 109    & ...    & -10    & -4     & HOU    & STL    &  687   & 13     &  9     & 0      &        & 0     \\\\\n",
       "\t6083251 & 2011   & 12     & 6      & 2      & 1026   & 1208   & WN     &  782   & N476WN & 102    & ...    & -12    &  1     & HOU    & STL    &  687   &  4     & 12     & 0      &        & 0     \\\\\n",
       "\t6083252 & 2011   & 12     & 6      & 2      & 1611   & 1746   & WN     & 1050   & N655WN &  95    & ...    &  -9    & 16     & HOU    & STL    &  687   &  3     &  9     & 0      &        & 0     \\\\\n",
       "\t6083253 & 2011   & 12     & 6      & 2      &  758   & 1051   & WN     &  201   & N903WN & 113    & ...    &  -4    & -2     & HOU    & TPA    &  781   &  3     & 10     & 0      &        & 0     \\\\\n",
       "\t6083254 & 2011   & 12     & 6      & 2      & 1307   & 1600   & WN     &  471   & N632SW & 113    & ...    &   0    &  7     & HOU    & TPA    &  781   &  5     & 10     & 0      &        & 0     \\\\\n",
       "\t6083255 & 2011   & 12     & 6      & 2      & 1818   & 2111   & WN     & 1191   & N284WN & 113    & ...    &  -9    &  8     & HOU    & TPA    &  781   &  5     & 11     & 0      &        & 0     \\\\\n",
       "\t6083256 & 2011   & 12     & 6      & 2      & 2047   & 2334   & WN     & 1674   & N366SW & 107    & ...    &   4    &  7     & HOU    & TPA    &  781   &  4     &  9     & 0      &        & 0     \\\\\n",
       "\t6083257 & 2011   & 12     & 6      & 2      &  912   & 1031   & WN     &  127   & N777QC &  79    & ...    &  -4    & -3     & HOU    & TUL    &  453   &  4     & 14     & 0      &        & 0     \\\\\n",
       "\t6083258 & 2011   & 12     & 6      & 2      &  656   &  812   & WN     &  621   & N727SW &  76    & ...    & -13    & -4     & HOU    & TUL    &  453   &  3     &  9     & 0      &        & 0     \\\\\n",
       "\t6083259 & 2011   & 12     & 6      & 2      & 1600   & 1713   & WN     & 1597   & N745SW &  73    & ...    & -12    &  0     & HOU    & TUL    &  453   &  3     & 11     & 0      &        & 0     \\\\\n",
       "\\end{tabular}\n"
      ],
      "text/markdown": [
       "\n",
       "| <!--/--> | Year | Month | DayofMonth | DayOfWeek | DepTime | ArrTime | UniqueCarrier | FlightNum | TailNum | ActualElapsedTime | ... | ArrDelay | DepDelay | Origin | Dest | Distance | TaxiIn | TaxiOut | Cancelled | CancellationCode | Diverted | \n",
       "|---|---|---|---|---|---|---|---|---|---|---|---|---|---|---|---|---|---|---|---|---|---|---|---|---|---|---|---|---|---|---|---|---|---|---|---|---|---|---|---|---|---|---|---|---|---|---|---|---|---|---|---|---|---|---|---|---|---|---|---|---|\n",
       "| 5424 | 2011   | 1      |  1     | 6      | 1400   | 1500   | AA     | 428    | N576AA | 60     | ...    | -10    |  0     | IAH    | DFW    | 224    |  7     | 13     | 0      |        | 0      | \n",
       "| 5425 | 2011   | 1      |  2     | 7      | 1401   | 1501   | AA     | 428    | N557AA | 60     | ...    |  -9    |  1     | IAH    | DFW    | 224    |  6     |  9     | 0      |        | 0      | \n",
       "| 5426 | 2011   | 1      |  3     | 1      | 1352   | 1502   | AA     | 428    | N541AA | 70     | ...    |  -8    | -8     | IAH    | DFW    | 224    |  5     | 17     | 0      |        | 0      | \n",
       "| 5427 | 2011   | 1      |  4     | 2      | 1403   | 1513   | AA     | 428    | N403AA | 70     | ...    |   3    |  3     | IAH    | DFW    | 224    |  9     | 22     | 0      |        | 0      | \n",
       "| 5428 | 2011   | 1      |  5     | 3      | 1405   | 1507   | AA     | 428    | N492AA | 62     | ...    |  -3    |  5     | IAH    | DFW    | 224    |  9     |  9     | 0      |        | 0      | \n",
       "| 5429 | 2011   | 1      |  6     | 4      | 1359   | 1503   | AA     | 428    | N262AA | 64     | ...    |  -7    | -1     | IAH    | DFW    | 224    |  6     | 13     | 0      |        | 0      | \n",
       "| 5430 | 2011   | 1      |  7     | 5      | 1359   | 1509   | AA     | 428    | N493AA | 70     | ...    |  -1    | -1     | IAH    | DFW    | 224    | 12     | 15     | 0      |        | 0      | \n",
       "| 5431 | 2011   | 1      |  8     | 6      | 1355   | 1454   | AA     | 428    | N477AA | 59     | ...    | -16    | -5     | IAH    | DFW    | 224    |  7     | 12     | 0      |        | 0      | \n",
       "| 5432 | 2011   | 1      |  9     | 7      | 1443   | 1554   | AA     | 428    | N476AA | 71     | ...    |  44    | 43     | IAH    | DFW    | 224    |  8     | 22     | 0      |        | 0      | \n",
       "| 5433 | 2011   | 1      | 10     | 1      | 1443   | 1553   | AA     | 428    | N504AA | 70     | ...    |  43    | 43     | IAH    | DFW    | 224    |  6     | 19     | 0      |        | 0      | \n",
       "| 5434 | 2011   | 1      | 11     | 2      | 1429   | 1539   | AA     | 428    | N565AA | 70     | ...    |  29    | 29     | IAH    | DFW    | 224    |  8     | 20     | 0      |        | 0      | \n",
       "| 5435 | 2011   | 1      | 12     | 3      | 1419   | 1515   | AA     | 428    | N577AA | 56     | ...    |   5    | 19     | IAH    | DFW    | 224    |  4     | 11     | 0      |        | 0      | \n",
       "| 5436 | 2011   | 1      | 13     | 4      | 1358   | 1501   | AA     | 428    | N476AA | 63     | ...    |  -9    | -2     | IAH    | DFW    | 224    |  6     | 13     | 0      |        | 0      | \n",
       "| 5437 | 2011   | 1      | 14     | 5      | 1357   | 1504   | AA     | 428    | N552AA | 67     | ...    |  -6    | -3     | IAH    | DFW    | 224    |  5     | 15     | 0      |        | 0      | \n",
       "| 5438 | 2011   | 1      | 15     | 6      | 1359   | 1459   | AA     | 428    | N462AA | 60     | ...    | -11    | -1     | IAH    | DFW    | 224    |  6     | 10     | 0      |        | 0      | \n",
       "| 5439 | 2011   | 1      | 16     | 7      | 1359   | 1509   | AA     | 428    | N555AA | 70     | ...    |  -1    | -1     | IAH    | DFW    | 224    | 12     | 17     | 0      |        | 0      | \n",
       "| 5440 | 2011   | 1      | 17     | 1      | 1530   | 1634   | AA     | 428    | N518AA | 64     | ...    |  84    | 90     | IAH    | DFW    | 224    |  8     |  8     | 0      |        | 0      | \n",
       "| 5441 | 2011   | 1      | 18     | 2      | 1408   | 1508   | AA     | 428    | N507AA | 60     | ...    |  -2    |  8     | IAH    | DFW    | 224    |  7     | 11     | 0      |        | 0      | \n",
       "| 5442 | 2011   | 1      | 19     | 3      | 1356   | 1503   | AA     | 428    | N523AA | 67     | ...    |  -7    | -4     | IAH    | DFW    | 224    | 10     | 11     | 0      |        | 0      | \n",
       "| 5443 | 2011   | 1      | 20     | 4      | 1507   | 1622   | AA     | 428    | N425AA | 75     | ...    |  72    | 67     | IAH    | DFW    | 224    |  9     | 24     | 0      |        | 0      | \n",
       "| 5444 | 2011   | 1      | 21     | 5      | 1357   | 1459   | AA     | 428    | N251AA | 62     | ...    | -11    | -3     | IAH    | DFW    | 224    |  6     |  9     | 0      |        | 0      | \n",
       "| 5445 | 2011   | 1      | 22     | 6      | 1355   | 1456   | AA     | 428    | N551AA | 61     | ...    | -14    | -5     | IAH    | DFW    | 224    |  9     |  8     | 0      |        | 0      | \n",
       "| 5446 | 2011   | 1      | 23     | 7      | 1356   | 1501   | AA     | 428    | N479AA | 65     | ...    |  -9    | -4     | IAH    | DFW    | 224    |  7     | 18     | 0      |        | 0      | \n",
       "| 5447 | 2011   | 1      | 24     | 1      | 1356   | 1513   | AA     | 428    | N531AA | 77     | ...    |   3    | -4     | IAH    | DFW    | 224    |  6     | 28     | 0      |        | 0      | \n",
       "| 5448 | 2011   | 1      | 25     | 2      | 1352   | 1452   | AA     | 428    | N561AA | 60     | ...    | -18    | -8     | IAH    | DFW    | 224    |  7     | 13     | 0      |        | 0      | \n",
       "| 5449 | 2011   | 1      | 26     | 3      | 1353   | 1455   | AA     | 428    | N541AA | 62     | ...    | -15    | -7     | IAH    | DFW    | 224    |  8     | 14     | 0      |        | 0      | \n",
       "| 5450 | 2011   | 1      | 27     | 4      | 1356   | 1458   | AA     | 428    | N512AA | 62     | ...    | -12    | -4     | IAH    | DFW    | 224    | 12     | 10     | 0      |        | 0      | \n",
       "| 5451 | 2011   | 1      | 28     | 5      | 1359   | 1505   | AA     | 428    | N4UBAA | 66     | ...    |  -5    | -1     | IAH    | DFW    | 224    |  8     | 12     | 0      |        | 0      | \n",
       "| 5452 | 2011   | 1      | 29     | 6      | 1355   | 1455   | AA     | 428    | N491AA | 60     | ...    | -15    | -5     | IAH    | DFW    | 224    |  7     |  7     | 0      |        | 0      | \n",
       "| 5453 | 2011   | 1      | 30     | 7      | 1359   | 1456   | AA     | 428    | N561AA | 57     | ...    | -14    | -1     | IAH    | DFW    | 224    |  7     | 11     | 0      |        | 0      | \n",
       "| ... | ... | ... | ... | ... | ... | ... | ... | ... | ... | ... |     | ... | ... | ... | ... | ... | ... | ... | ... | ... | ... | \n",
       "| 6083230 | 2011   | 12     | 6      | 2      |  752   |  857   | WN     | 1628   | N435WN |  65    | ...    |   2    | -3     | HOU    | MSY    |  302   |  4     | 11     | 0      |        | 0      | \n",
       "| 6083231 | 2011   | 12     | 6      | 2      |  651   |  746   | WN     | 2534   | N232WN |  55    | ...    |  -9    | -4     | HOU    | MSY    |  302   |  5     |  7     | 0      |        | 0      | \n",
       "| 6083232 | 2011   | 12     | 6      | 2      | 1728   | 1932   | WN     |  902   | N724SW | 244    | ...    |   7    | 23     | HOU    | OAK    | 1642   |  5     |  8     | 0      |        | 0      | \n",
       "| 6083233 | 2011   | 12     | 6      | 2      | 1115   | 1315   | WN     | 1167   | N455WN | 240    | ...    | -15    |  5     | HOU    | OAK    | 1642   |  6     |  9     | 0      |        | 0      | \n",
       "| 6083234 | 2011   | 12     | 6      | 2      | 1753   | 1911   | WN     |  513   | N362SW |  78    | ...    |  31    | 33     | HOU    | OKC    |  419   |  4     | 15     | 0      |        | 0      | \n",
       "| 6083235 | 2011   | 12     | 6      | 2      | 1222   | 1335   | WN     |  581   | N646SW |  73    | ...    | -10    | -3     | HOU    | OKC    |  419   |  3     |  9     | 0      |        | 0      | \n",
       "| 6083236 | 2011   | 12     | 6      | 2      |  836   |  946   | WN     | 1223   | N394SW |  70    | ...    |  -9    |  1     | HOU    | OKC    |  419   |  4     |  8     | 0      |        | 0      | \n",
       "| 6083237 | 2011   | 12     | 6      | 2      | 1352   | 1749   | WN     | 3085   | N510SW | 177    | ...    |  59    | 72     | HOU    | PHL    | 1336   |  5     |  9     | 0      |        | 0      | \n",
       "| 6083238 | 2011   | 12     | 6      | 2      | 1850   | 2046   | WN     |   39   | N754SW | 176    | ...    |  71    | 70     | HOU    | PHX    | 1020   |  4     | 15     | 0      |        | 0      | \n",
       "| 6083239 | 2011   | 12     | 6      | 2      |  707   |  903   | WN     |  424   | N769SW | 176    | ...    |  -2    | -3     | HOU    | PHX    | 1020   |  4     | 10     | 0      |        | 0      | \n",
       "| 6083240 | 2011   | 12     | 6      | 2      | 1335   | 1528   | WN     | 1098   | N448WN | 173    | ...    |  18    | 20     | HOU    | PHX    | 1020   |  4     | 10     | 0      |        | 0      | \n",
       "| 6083241 | 2011   | 12     | 6      | 2      | 1005   | 1158   | WN     | 1403   | N430WN | 173    | ...    |  13    | 15     | HOU    | PHX    | 1020   |  3     |  7     | 0      |        | 0      | \n",
       "| 6083242 | 2011   | 12     | 6      | 2      | 1723   | 1845   | WN     |   33   | N698SW | 202    | ...    |  70    | 78     | HOU    | SAN    | 1313   |  3     |  7     | 0      |        | 0      | \n",
       "| 6083243 | 2011   | 12     | 6      | 2      | 1139   | 1304   | WN     | 1212   | N226WN | 205    | ...    |  -6    | -1     | HOU    | SAN    | 1313   |  2     | 10     | 0      |        | 0      | \n",
       "| 6083244 | 2011   | 12     | 6      | 2      | 2023   | 2109   | WN     |  207   | N354SW |  46    | ...    |  29    | 43     | HOU    | SAT    |  192   |  4     |  4     | 0      |        | 0      | \n",
       "| 6083245 | 2011   | 12     | 6      | 2      | 1542   | 1637   | WN     |  405   | N617SW |  55    | ...    |  12    | 12     | HOU    | SAT    |  192   |  4     |  8     | 0      |        | 0      | \n",
       "| 6083246 | 2011   | 12     | 6      | 2      | 1728   | 1825   | WN     |  628   | N389SW |  57    | ...    |   5    |  3     | HOU    | SAT    |  192   |  4     | 14     | 0      |        | 0      | \n",
       "| 6083247 | 2011   | 12     | 6      | 2      | 1252   | 1349   | WN     |  994   | N713SW |  57    | ...    |   9    |  7     | HOU    | SAT    |  192   |  5     |  9     | 0      |        | 0      | \n",
       "| 6083248 | 2011   | 12     | 6      | 2      |  857   |  955   | WN     | 1231   | N284WN |  58    | ...    |   0    | -3     | HOU    | SAT    |  192   |  5     |  9     | 0      |        | 0      | \n",
       "| 6083249 | 2011   | 12     | 6      | 2      | 1939   | 2119   | WN     |  124   | N522SW | 100    | ...    |  14    | 39     | HOU    | STL    |  687   |  4     | 15     | 0      |        | 0      | \n",
       "| 6083250 | 2011   | 12     | 6      | 2      |  556   |  745   | WN     |  280   | N728SW | 109    | ...    | -10    | -4     | HOU    | STL    |  687   | 13     |  9     | 0      |        | 0      | \n",
       "| 6083251 | 2011   | 12     | 6      | 2      | 1026   | 1208   | WN     |  782   | N476WN | 102    | ...    | -12    |  1     | HOU    | STL    |  687   |  4     | 12     | 0      |        | 0      | \n",
       "| 6083252 | 2011   | 12     | 6      | 2      | 1611   | 1746   | WN     | 1050   | N655WN |  95    | ...    |  -9    | 16     | HOU    | STL    |  687   |  3     |  9     | 0      |        | 0      | \n",
       "| 6083253 | 2011   | 12     | 6      | 2      |  758   | 1051   | WN     |  201   | N903WN | 113    | ...    |  -4    | -2     | HOU    | TPA    |  781   |  3     | 10     | 0      |        | 0      | \n",
       "| 6083254 | 2011   | 12     | 6      | 2      | 1307   | 1600   | WN     |  471   | N632SW | 113    | ...    |   0    |  7     | HOU    | TPA    |  781   |  5     | 10     | 0      |        | 0      | \n",
       "| 6083255 | 2011   | 12     | 6      | 2      | 1818   | 2111   | WN     | 1191   | N284WN | 113    | ...    |  -9    |  8     | HOU    | TPA    |  781   |  5     | 11     | 0      |        | 0      | \n",
       "| 6083256 | 2011   | 12     | 6      | 2      | 2047   | 2334   | WN     | 1674   | N366SW | 107    | ...    |   4    |  7     | HOU    | TPA    |  781   |  4     |  9     | 0      |        | 0      | \n",
       "| 6083257 | 2011   | 12     | 6      | 2      |  912   | 1031   | WN     |  127   | N777QC |  79    | ...    |  -4    | -3     | HOU    | TUL    |  453   |  4     | 14     | 0      |        | 0      | \n",
       "| 6083258 | 2011   | 12     | 6      | 2      |  656   |  812   | WN     |  621   | N727SW |  76    | ...    | -13    | -4     | HOU    | TUL    |  453   |  3     |  9     | 0      |        | 0      | \n",
       "| 6083259 | 2011   | 12     | 6      | 2      | 1600   | 1713   | WN     | 1597   | N745SW |  73    | ...    | -12    |  0     | HOU    | TUL    |  453   |  3     | 11     | 0      |        | 0      | \n",
       "\n",
       "\n"
      ],
      "text/plain": [
       "        Year Month DayofMonth DayOfWeek DepTime ArrTime UniqueCarrier FlightNum\n",
       "5424    2011 1      1         6         1400    1500    AA            428      \n",
       "5425    2011 1      2         7         1401    1501    AA            428      \n",
       "5426    2011 1      3         1         1352    1502    AA            428      \n",
       "5427    2011 1      4         2         1403    1513    AA            428      \n",
       "5428    2011 1      5         3         1405    1507    AA            428      \n",
       "5429    2011 1      6         4         1359    1503    AA            428      \n",
       "5430    2011 1      7         5         1359    1509    AA            428      \n",
       "5431    2011 1      8         6         1355    1454    AA            428      \n",
       "5432    2011 1      9         7         1443    1554    AA            428      \n",
       "5433    2011 1     10         1         1443    1553    AA            428      \n",
       "5434    2011 1     11         2         1429    1539    AA            428      \n",
       "5435    2011 1     12         3         1419    1515    AA            428      \n",
       "5436    2011 1     13         4         1358    1501    AA            428      \n",
       "5437    2011 1     14         5         1357    1504    AA            428      \n",
       "5438    2011 1     15         6         1359    1459    AA            428      \n",
       "5439    2011 1     16         7         1359    1509    AA            428      \n",
       "5440    2011 1     17         1         1530    1634    AA            428      \n",
       "5441    2011 1     18         2         1408    1508    AA            428      \n",
       "5442    2011 1     19         3         1356    1503    AA            428      \n",
       "5443    2011 1     20         4         1507    1622    AA            428      \n",
       "5444    2011 1     21         5         1357    1459    AA            428      \n",
       "5445    2011 1     22         6         1355    1456    AA            428      \n",
       "5446    2011 1     23         7         1356    1501    AA            428      \n",
       "5447    2011 1     24         1         1356    1513    AA            428      \n",
       "5448    2011 1     25         2         1352    1452    AA            428      \n",
       "5449    2011 1     26         3         1353    1455    AA            428      \n",
       "5450    2011 1     27         4         1356    1458    AA            428      \n",
       "5451    2011 1     28         5         1359    1505    AA            428      \n",
       "5452    2011 1     29         6         1355    1455    AA            428      \n",
       "5453    2011 1     30         7         1359    1456    AA            428      \n",
       "...     ...  ...   ...        ...       ...     ...     ...           ...      \n",
       "6083230 2011 12    6          2          752     857    WN            1628     \n",
       "6083231 2011 12    6          2          651     746    WN            2534     \n",
       "6083232 2011 12    6          2         1728    1932    WN             902     \n",
       "6083233 2011 12    6          2         1115    1315    WN            1167     \n",
       "6083234 2011 12    6          2         1753    1911    WN             513     \n",
       "6083235 2011 12    6          2         1222    1335    WN             581     \n",
       "6083236 2011 12    6          2          836     946    WN            1223     \n",
       "6083237 2011 12    6          2         1352    1749    WN            3085     \n",
       "6083238 2011 12    6          2         1850    2046    WN              39     \n",
       "6083239 2011 12    6          2          707     903    WN             424     \n",
       "6083240 2011 12    6          2         1335    1528    WN            1098     \n",
       "6083241 2011 12    6          2         1005    1158    WN            1403     \n",
       "6083242 2011 12    6          2         1723    1845    WN              33     \n",
       "6083243 2011 12    6          2         1139    1304    WN            1212     \n",
       "6083244 2011 12    6          2         2023    2109    WN             207     \n",
       "6083245 2011 12    6          2         1542    1637    WN             405     \n",
       "6083246 2011 12    6          2         1728    1825    WN             628     \n",
       "6083247 2011 12    6          2         1252    1349    WN             994     \n",
       "6083248 2011 12    6          2          857     955    WN            1231     \n",
       "6083249 2011 12    6          2         1939    2119    WN             124     \n",
       "6083250 2011 12    6          2          556     745    WN             280     \n",
       "6083251 2011 12    6          2         1026    1208    WN             782     \n",
       "6083252 2011 12    6          2         1611    1746    WN            1050     \n",
       "6083253 2011 12    6          2          758    1051    WN             201     \n",
       "6083254 2011 12    6          2         1307    1600    WN             471     \n",
       "6083255 2011 12    6          2         1818    2111    WN            1191     \n",
       "6083256 2011 12    6          2         2047    2334    WN            1674     \n",
       "6083257 2011 12    6          2          912    1031    WN             127     \n",
       "6083258 2011 12    6          2          656     812    WN             621     \n",
       "6083259 2011 12    6          2         1600    1713    WN            1597     \n",
       "        TailNum ActualElapsedTime ... ArrDelay DepDelay Origin Dest Distance\n",
       "5424    N576AA  60                ... -10       0       IAH    DFW  224     \n",
       "5425    N557AA  60                ...  -9       1       IAH    DFW  224     \n",
       "5426    N541AA  70                ...  -8      -8       IAH    DFW  224     \n",
       "5427    N403AA  70                ...   3       3       IAH    DFW  224     \n",
       "5428    N492AA  62                ...  -3       5       IAH    DFW  224     \n",
       "5429    N262AA  64                ...  -7      -1       IAH    DFW  224     \n",
       "5430    N493AA  70                ...  -1      -1       IAH    DFW  224     \n",
       "5431    N477AA  59                ... -16      -5       IAH    DFW  224     \n",
       "5432    N476AA  71                ...  44      43       IAH    DFW  224     \n",
       "5433    N504AA  70                ...  43      43       IAH    DFW  224     \n",
       "5434    N565AA  70                ...  29      29       IAH    DFW  224     \n",
       "5435    N577AA  56                ...   5      19       IAH    DFW  224     \n",
       "5436    N476AA  63                ...  -9      -2       IAH    DFW  224     \n",
       "5437    N552AA  67                ...  -6      -3       IAH    DFW  224     \n",
       "5438    N462AA  60                ... -11      -1       IAH    DFW  224     \n",
       "5439    N555AA  70                ...  -1      -1       IAH    DFW  224     \n",
       "5440    N518AA  64                ...  84      90       IAH    DFW  224     \n",
       "5441    N507AA  60                ...  -2       8       IAH    DFW  224     \n",
       "5442    N523AA  67                ...  -7      -4       IAH    DFW  224     \n",
       "5443    N425AA  75                ...  72      67       IAH    DFW  224     \n",
       "5444    N251AA  62                ... -11      -3       IAH    DFW  224     \n",
       "5445    N551AA  61                ... -14      -5       IAH    DFW  224     \n",
       "5446    N479AA  65                ...  -9      -4       IAH    DFW  224     \n",
       "5447    N531AA  77                ...   3      -4       IAH    DFW  224     \n",
       "5448    N561AA  60                ... -18      -8       IAH    DFW  224     \n",
       "5449    N541AA  62                ... -15      -7       IAH    DFW  224     \n",
       "5450    N512AA  62                ... -12      -4       IAH    DFW  224     \n",
       "5451    N4UBAA  66                ...  -5      -1       IAH    DFW  224     \n",
       "5452    N491AA  60                ... -15      -5       IAH    DFW  224     \n",
       "5453    N561AA  57                ... -14      -1       IAH    DFW  224     \n",
       "...     ...     ...                   ...      ...      ...    ...  ...     \n",
       "6083230 N435WN   65               ...   2      -3       HOU    MSY   302    \n",
       "6083231 N232WN   55               ...  -9      -4       HOU    MSY   302    \n",
       "6083232 N724SW  244               ...   7      23       HOU    OAK  1642    \n",
       "6083233 N455WN  240               ... -15       5       HOU    OAK  1642    \n",
       "6083234 N362SW   78               ...  31      33       HOU    OKC   419    \n",
       "6083235 N646SW   73               ... -10      -3       HOU    OKC   419    \n",
       "6083236 N394SW   70               ...  -9       1       HOU    OKC   419    \n",
       "6083237 N510SW  177               ...  59      72       HOU    PHL  1336    \n",
       "6083238 N754SW  176               ...  71      70       HOU    PHX  1020    \n",
       "6083239 N769SW  176               ...  -2      -3       HOU    PHX  1020    \n",
       "6083240 N448WN  173               ...  18      20       HOU    PHX  1020    \n",
       "6083241 N430WN  173               ...  13      15       HOU    PHX  1020    \n",
       "6083242 N698SW  202               ...  70      78       HOU    SAN  1313    \n",
       "6083243 N226WN  205               ...  -6      -1       HOU    SAN  1313    \n",
       "6083244 N354SW   46               ...  29      43       HOU    SAT   192    \n",
       "6083245 N617SW   55               ...  12      12       HOU    SAT   192    \n",
       "6083246 N389SW   57               ...   5       3       HOU    SAT   192    \n",
       "6083247 N713SW   57               ...   9       7       HOU    SAT   192    \n",
       "6083248 N284WN   58               ...   0      -3       HOU    SAT   192    \n",
       "6083249 N522SW  100               ...  14      39       HOU    STL   687    \n",
       "6083250 N728SW  109               ... -10      -4       HOU    STL   687    \n",
       "6083251 N476WN  102               ... -12       1       HOU    STL   687    \n",
       "6083252 N655WN   95               ...  -9      16       HOU    STL   687    \n",
       "6083253 N903WN  113               ...  -4      -2       HOU    TPA   781    \n",
       "6083254 N632SW  113               ...   0       7       HOU    TPA   781    \n",
       "6083255 N284WN  113               ...  -9       8       HOU    TPA   781    \n",
       "6083256 N366SW  107               ...   4       7       HOU    TPA   781    \n",
       "6083257 N777QC   79               ...  -4      -3       HOU    TUL   453    \n",
       "6083258 N727SW   76               ... -13      -4       HOU    TUL   453    \n",
       "6083259 N745SW   73               ... -12       0       HOU    TUL   453    \n",
       "        TaxiIn TaxiOut Cancelled CancellationCode Diverted\n",
       "5424     7     13      0                          0       \n",
       "5425     6      9      0                          0       \n",
       "5426     5     17      0                          0       \n",
       "5427     9     22      0                          0       \n",
       "5428     9      9      0                          0       \n",
       "5429     6     13      0                          0       \n",
       "5430    12     15      0                          0       \n",
       "5431     7     12      0                          0       \n",
       "5432     8     22      0                          0       \n",
       "5433     6     19      0                          0       \n",
       "5434     8     20      0                          0       \n",
       "5435     4     11      0                          0       \n",
       "5436     6     13      0                          0       \n",
       "5437     5     15      0                          0       \n",
       "5438     6     10      0                          0       \n",
       "5439    12     17      0                          0       \n",
       "5440     8      8      0                          0       \n",
       "5441     7     11      0                          0       \n",
       "5442    10     11      0                          0       \n",
       "5443     9     24      0                          0       \n",
       "5444     6      9      0                          0       \n",
       "5445     9      8      0                          0       \n",
       "5446     7     18      0                          0       \n",
       "5447     6     28      0                          0       \n",
       "5448     7     13      0                          0       \n",
       "5449     8     14      0                          0       \n",
       "5450    12     10      0                          0       \n",
       "5451     8     12      0                          0       \n",
       "5452     7      7      0                          0       \n",
       "5453     7     11      0                          0       \n",
       "...     ...    ...     ...       ...              ...     \n",
       "6083230  4     11      0                          0       \n",
       "6083231  5      7      0                          0       \n",
       "6083232  5      8      0                          0       \n",
       "6083233  6      9      0                          0       \n",
       "6083234  4     15      0                          0       \n",
       "6083235  3      9      0                          0       \n",
       "6083236  4      8      0                          0       \n",
       "6083237  5      9      0                          0       \n",
       "6083238  4     15      0                          0       \n",
       "6083239  4     10      0                          0       \n",
       "6083240  4     10      0                          0       \n",
       "6083241  3      7      0                          0       \n",
       "6083242  3      7      0                          0       \n",
       "6083243  2     10      0                          0       \n",
       "6083244  4      4      0                          0       \n",
       "6083245  4      8      0                          0       \n",
       "6083246  4     14      0                          0       \n",
       "6083247  5      9      0                          0       \n",
       "6083248  5      9      0                          0       \n",
       "6083249  4     15      0                          0       \n",
       "6083250 13      9      0                          0       \n",
       "6083251  4     12      0                          0       \n",
       "6083252  3      9      0                          0       \n",
       "6083253  3     10      0                          0       \n",
       "6083254  5     10      0                          0       \n",
       "6083255  5     11      0                          0       \n",
       "6083256  4      9      0                          0       \n",
       "6083257  4     14      0                          0       \n",
       "6083258  3      9      0                          0       \n",
       "6083259  3     11      0                          0       "
      ]
     },
     "metadata": {},
     "output_type": "display_data"
    }
   ],
   "source": [
    "hflights_df"
   ]
  },
  {
   "cell_type": "code",
   "execution_count": 54,
   "metadata": {
    "collapsed": false
   },
   "outputs": [
    {
     "data": {
      "text/html": [
       "<table>\n",
       "<thead><tr><th scope=col>Year</th><th scope=col>Month</th><th scope=col>DayofMonth</th><th scope=col>DayOfWeek</th><th scope=col>DepTime</th><th scope=col>ArrTime</th><th scope=col>UniqueCarrier</th><th scope=col>FlightNum</th><th scope=col>TailNum</th><th scope=col>ActualElapsedTime</th><th scope=col>...</th><th scope=col>ArrDelay</th><th scope=col>DepDelay</th><th scope=col>Origin</th><th scope=col>Dest</th><th scope=col>Distance</th><th scope=col>TaxiIn</th><th scope=col>TaxiOut</th><th scope=col>Cancelled</th><th scope=col>CancellationCode</th><th scope=col>Diverted</th></tr></thead>\n",
       "<tbody>\n",
       "\t<tr><td>2011  </td><td>1     </td><td>1     </td><td>6     </td><td>1400  </td><td>1500  </td><td>AA    </td><td>428   </td><td>N576AA</td><td>60    </td><td>...   </td><td>-10   </td><td> 0    </td><td>IAH   </td><td>DFW   </td><td>224   </td><td>7     </td><td>13    </td><td>0     </td><td>      </td><td>0     </td></tr>\n",
       "\t<tr><td>2011  </td><td>1     </td><td>2     </td><td>7     </td><td>1401  </td><td>1501  </td><td>AA    </td><td>428   </td><td>N557AA</td><td>60    </td><td>...   </td><td> -9   </td><td> 1    </td><td>IAH   </td><td>DFW   </td><td>224   </td><td>6     </td><td> 9    </td><td>0     </td><td>      </td><td>0     </td></tr>\n",
       "\t<tr><td>2011  </td><td>1     </td><td>3     </td><td>1     </td><td>1352  </td><td>1502  </td><td>AA    </td><td>428   </td><td>N541AA</td><td>70    </td><td>...   </td><td> -8   </td><td>-8    </td><td>IAH   </td><td>DFW   </td><td>224   </td><td>5     </td><td>17    </td><td>0     </td><td>      </td><td>0     </td></tr>\n",
       "\t<tr><td>2011  </td><td>1     </td><td>4     </td><td>2     </td><td>1403  </td><td>1513  </td><td>AA    </td><td>428   </td><td>N403AA</td><td>70    </td><td>...   </td><td>  3   </td><td> 3    </td><td>IAH   </td><td>DFW   </td><td>224   </td><td>9     </td><td>22    </td><td>0     </td><td>      </td><td>0     </td></tr>\n",
       "\t<tr><td>2011  </td><td>1     </td><td>5     </td><td>3     </td><td>1405  </td><td>1507  </td><td>AA    </td><td>428   </td><td>N492AA</td><td>62    </td><td>...   </td><td> -3   </td><td> 5    </td><td>IAH   </td><td>DFW   </td><td>224   </td><td>9     </td><td> 9    </td><td>0     </td><td>      </td><td>0     </td></tr>\n",
       "\t<tr><td>2011  </td><td>1     </td><td>6     </td><td>4     </td><td>1359  </td><td>1503  </td><td>AA    </td><td>428   </td><td>N262AA</td><td>64    </td><td>...   </td><td> -7   </td><td>-1    </td><td>IAH   </td><td>DFW   </td><td>224   </td><td>6     </td><td>13    </td><td>0     </td><td>      </td><td>0     </td></tr>\n",
       "</tbody>\n",
       "</table>\n"
      ],
      "text/latex": [
       "\\begin{tabular}{r|lllllllllllllllllllll}\n",
       " Year & Month & DayofMonth & DayOfWeek & DepTime & ArrTime & UniqueCarrier & FlightNum & TailNum & ActualElapsedTime & ... & ArrDelay & DepDelay & Origin & Dest & Distance & TaxiIn & TaxiOut & Cancelled & CancellationCode & Diverted\\\\\n",
       "\\hline\n",
       "\t 2011   & 1      & 1      & 6      & 1400   & 1500   & AA     & 428    & N576AA & 60     & ...    & -10    &  0     & IAH    & DFW    & 224    & 7      & 13     & 0      &        & 0     \\\\\n",
       "\t 2011   & 1      & 2      & 7      & 1401   & 1501   & AA     & 428    & N557AA & 60     & ...    &  -9    &  1     & IAH    & DFW    & 224    & 6      &  9     & 0      &        & 0     \\\\\n",
       "\t 2011   & 1      & 3      & 1      & 1352   & 1502   & AA     & 428    & N541AA & 70     & ...    &  -8    & -8     & IAH    & DFW    & 224    & 5      & 17     & 0      &        & 0     \\\\\n",
       "\t 2011   & 1      & 4      & 2      & 1403   & 1513   & AA     & 428    & N403AA & 70     & ...    &   3    &  3     & IAH    & DFW    & 224    & 9      & 22     & 0      &        & 0     \\\\\n",
       "\t 2011   & 1      & 5      & 3      & 1405   & 1507   & AA     & 428    & N492AA & 62     & ...    &  -3    &  5     & IAH    & DFW    & 224    & 9      &  9     & 0      &        & 0     \\\\\n",
       "\t 2011   & 1      & 6      & 4      & 1359   & 1503   & AA     & 428    & N262AA & 64     & ...    &  -7    & -1     & IAH    & DFW    & 224    & 6      & 13     & 0      &        & 0     \\\\\n",
       "\\end{tabular}\n"
      ],
      "text/markdown": [
       "\n",
       "Year | Month | DayofMonth | DayOfWeek | DepTime | ArrTime | UniqueCarrier | FlightNum | TailNum | ActualElapsedTime | ... | ArrDelay | DepDelay | Origin | Dest | Distance | TaxiIn | TaxiOut | Cancelled | CancellationCode | Diverted | \n",
       "|---|---|---|---|---|---|\n",
       "| 2011   | 1      | 1      | 6      | 1400   | 1500   | AA     | 428    | N576AA | 60     | ...    | -10    |  0     | IAH    | DFW    | 224    | 7      | 13     | 0      |        | 0      | \n",
       "| 2011   | 1      | 2      | 7      | 1401   | 1501   | AA     | 428    | N557AA | 60     | ...    |  -9    |  1     | IAH    | DFW    | 224    | 6      |  9     | 0      |        | 0      | \n",
       "| 2011   | 1      | 3      | 1      | 1352   | 1502   | AA     | 428    | N541AA | 70     | ...    |  -8    | -8     | IAH    | DFW    | 224    | 5      | 17     | 0      |        | 0      | \n",
       "| 2011   | 1      | 4      | 2      | 1403   | 1513   | AA     | 428    | N403AA | 70     | ...    |   3    |  3     | IAH    | DFW    | 224    | 9      | 22     | 0      |        | 0      | \n",
       "| 2011   | 1      | 5      | 3      | 1405   | 1507   | AA     | 428    | N492AA | 62     | ...    |  -3    |  5     | IAH    | DFW    | 224    | 9      |  9     | 0      |        | 0      | \n",
       "| 2011   | 1      | 6      | 4      | 1359   | 1503   | AA     | 428    | N262AA | 64     | ...    |  -7    | -1     | IAH    | DFW    | 224    | 6      | 13     | 0      |        | 0      | \n",
       "\n",
       "\n"
      ],
      "text/plain": [
       "  Year Month DayofMonth DayOfWeek DepTime ArrTime UniqueCarrier FlightNum\n",
       "1 2011 1     1          6         1400    1500    AA            428      \n",
       "2 2011 1     2          7         1401    1501    AA            428      \n",
       "3 2011 1     3          1         1352    1502    AA            428      \n",
       "4 2011 1     4          2         1403    1513    AA            428      \n",
       "5 2011 1     5          3         1405    1507    AA            428      \n",
       "6 2011 1     6          4         1359    1503    AA            428      \n",
       "  TailNum ActualElapsedTime ... ArrDelay DepDelay Origin Dest Distance TaxiIn\n",
       "1 N576AA  60                ... -10       0       IAH    DFW  224      7     \n",
       "2 N557AA  60                ...  -9       1       IAH    DFW  224      6     \n",
       "3 N541AA  70                ...  -8      -8       IAH    DFW  224      5     \n",
       "4 N403AA  70                ...   3       3       IAH    DFW  224      9     \n",
       "5 N492AA  62                ...  -3       5       IAH    DFW  224      9     \n",
       "6 N262AA  64                ...  -7      -1       IAH    DFW  224      6     \n",
       "  TaxiOut Cancelled CancellationCode Diverted\n",
       "1 13      0                          0       \n",
       "2  9      0                          0       \n",
       "3 17      0                          0       \n",
       "4 22      0                          0       \n",
       "5  9      0                          0       \n",
       "6 13      0                          0       "
      ]
     },
     "metadata": {},
     "output_type": "display_data"
    }
   ],
   "source": [
    "## group data by plane\n",
    "planes <- group_by(hflights_df,TailNum)\n",
    "head(planes)"
   ]
  },
  {
   "cell_type": "code",
   "execution_count": 55,
   "metadata": {
    "collapsed": false
   },
   "outputs": [
    {
     "data": {
      "text/html": [
       "<table>\n",
       "<thead><tr><th scope=col>TailNum</th><th scope=col>count</th><th scope=col>dist</th><th scope=col>delay</th></tr></thead>\n",
       "<tbody>\n",
       "\t<tr><td>          </td><td>795       </td><td> 938.7157 </td><td>       NaN</td></tr>\n",
       "\t<tr><td>N0EGMQ    </td><td> 40       </td><td>1095.2500 </td><td>  1.918919</td></tr>\n",
       "\t<tr><td>N10156    </td><td>317       </td><td> 801.7192 </td><td>  8.199357</td></tr>\n",
       "\t<tr><td>N10575    </td><td> 94       </td><td> 631.5319 </td><td> 18.148936</td></tr>\n",
       "\t<tr><td>N11106    </td><td>308       </td><td> 774.9805 </td><td> 10.101639</td></tr>\n",
       "\t<tr><td>N11107    </td><td>345       </td><td> 768.1130 </td><td>  8.052786</td></tr>\n",
       "\t<tr><td>N11109    </td><td>331       </td><td> 772.4532 </td><td> 10.280000</td></tr>\n",
       "\t<tr><td>N11113    </td><td>282       </td><td> 772.8298 </td><td>  4.057143</td></tr>\n",
       "\t<tr><td>N11119    </td><td>130       </td><td> 790.2385 </td><td>  7.396825</td></tr>\n",
       "\t<tr><td>N11121    </td><td>333       </td><td> 774.8018 </td><td>  6.740854</td></tr>\n",
       "\t<tr><td>N11127    </td><td>330       </td><td> 792.8606 </td><td>  8.417683</td></tr>\n",
       "\t<tr><td>N11137    </td><td>296       </td><td> 770.7703 </td><td>  9.782313</td></tr>\n",
       "\t<tr><td>N11140    </td><td>194       </td><td> 789.4330 </td><td> 10.590426</td></tr>\n",
       "\t<tr><td>N11150    </td><td>266       </td><td> 799.5075 </td><td>  7.415094</td></tr>\n",
       "\t<tr><td>N11155    </td><td>172       </td><td> 740.5756 </td><td> 10.858824</td></tr>\n",
       "\t<tr><td>N11164    </td><td>188       </td><td> 776.6862 </td><td>  6.641711</td></tr>\n",
       "\t<tr><td>N11165    </td><td>130       </td><td> 760.2462 </td><td>  8.968750</td></tr>\n",
       "\t<tr><td>N11176    </td><td>109       </td><td> 749.7064 </td><td>  6.915888</td></tr>\n",
       "\t<tr><td>N11181    </td><td>197       </td><td> 784.0457 </td><td> 13.165803</td></tr>\n",
       "\t<tr><td>N11184    </td><td>245       </td><td> 782.8857 </td><td>  7.471074</td></tr>\n",
       "\t<tr><td>N11187    </td><td>213       </td><td> 771.2582 </td><td>  8.409524</td></tr>\n",
       "\t<tr><td>N11189    </td><td>220       </td><td> 788.3318 </td><td>  8.870968</td></tr>\n",
       "\t<tr><td>N11191    </td><td>184       </td><td> 771.4076 </td><td>  6.554945</td></tr>\n",
       "\t<tr><td>N11192    </td><td>257       </td><td> 762.5953 </td><td>  7.535156</td></tr>\n",
       "\t<tr><td>N11193    </td><td>235       </td><td> 769.8511 </td><td> 11.070175</td></tr>\n",
       "\t<tr><td>N11194    </td><td>281       </td><td> 785.9253 </td><td>  6.677419</td></tr>\n",
       "\t<tr><td>N11199    </td><td>275       </td><td> 771.0618 </td><td>  8.301471</td></tr>\n",
       "\t<tr><td>N11206    </td><td>220       </td><td>1153.9682 </td><td>  6.009091</td></tr>\n",
       "\t<tr><td>N112US    </td><td>  2       </td><td> 912.0000 </td><td>-16.000000</td></tr>\n",
       "\t<tr><td>N11535    </td><td>290       </td><td> 600.8069 </td><td>  8.148936</td></tr>\n",
       "\t<tr><td>...</td><td>...</td><td>...</td><td>...</td></tr>\n",
       "\t<tr><td>N986CA    </td><td>38        </td><td> 565.2632 </td><td> 22.361111</td></tr>\n",
       "\t<tr><td>N986DL    </td><td>13        </td><td> 690.0769 </td><td> -2.692308</td></tr>\n",
       "\t<tr><td>N986SW    </td><td>62        </td><td> 601.5968 </td><td> 19.084746</td></tr>\n",
       "\t<tr><td>N987AT    </td><td>14        </td><td> 696.0000 </td><td> -6.857143</td></tr>\n",
       "\t<tr><td>N987DL    </td><td>11        </td><td> 690.2727 </td><td> 12.300000</td></tr>\n",
       "\t<tr><td>N988AT    </td><td>17        </td><td> 659.6471 </td><td>  6.235294</td></tr>\n",
       "\t<tr><td>N988CA    </td><td>19        </td><td> 537.7895 </td><td> 27.000000</td></tr>\n",
       "\t<tr><td>N988DL    </td><td>13        </td><td> 689.0000 </td><td>  5.692308</td></tr>\n",
       "\t<tr><td>N989AT    </td><td>12        </td><td> 678.8333 </td><td>  4.416667</td></tr>\n",
       "\t<tr><td>N989DL    </td><td>11        </td><td> 689.0000 </td><td>  5.636364</td></tr>\n",
       "\t<tr><td>N990AT    </td><td>28        </td><td> 688.6429 </td><td> -2.964286</td></tr>\n",
       "\t<tr><td>N990DL    </td><td> 7        </td><td> 689.0000 </td><td>-12.142857</td></tr>\n",
       "\t<tr><td>N991AT    </td><td>10        </td><td> 675.4000 </td><td> -7.111111</td></tr>\n",
       "\t<tr><td>N991DL    </td><td>12        </td><td> 689.0000 </td><td> 16.000000</td></tr>\n",
       "\t<tr><td>N992AT    </td><td>19        </td><td> 685.1579 </td><td>  3.526316</td></tr>\n",
       "\t<tr><td>N992DL    </td><td>12        </td><td> 689.0000 </td><td> -4.750000</td></tr>\n",
       "\t<tr><td>N993AT    </td><td>15        </td><td> 696.0000 </td><td> -2.866667</td></tr>\n",
       "\t<tr><td>N993DL    </td><td> 9        </td><td> 689.0000 </td><td>  1.777778</td></tr>\n",
       "\t<tr><td>N994AT    </td><td>19        </td><td> 696.0000 </td><td>  6.842105</td></tr>\n",
       "\t<tr><td>N994DL    </td><td> 8        </td><td> 689.0000 </td><td> 10.625000</td></tr>\n",
       "\t<tr><td>N995AT    </td><td>13        </td><td> 680.1538 </td><td>  3.666667</td></tr>\n",
       "\t<tr><td>N995DL    </td><td>12        </td><td> 689.0000 </td><td> 19.166667</td></tr>\n",
       "\t<tr><td>N996AT    </td><td>20        </td><td> 696.0000 </td><td>  1.850000</td></tr>\n",
       "\t<tr><td>N996DL    </td><td> 6        </td><td> 689.0000 </td><td>  8.000000</td></tr>\n",
       "\t<tr><td>N997AT    </td><td>12        </td><td> 696.0000 </td><td> 31.000000</td></tr>\n",
       "\t<tr><td>N997DL    </td><td>11        </td><td> 689.6364 </td><td> -2.545455</td></tr>\n",
       "\t<tr><td>N998AT    </td><td>19        </td><td> 696.0000 </td><td> -1.210526</td></tr>\n",
       "\t<tr><td>N998DL    </td><td> 6        </td><td> 689.0000 </td><td> -7.333333</td></tr>\n",
       "\t<tr><td>N999DN    </td><td> 7        </td><td> 739.2857 </td><td> -7.285714</td></tr>\n",
       "\t<tr><td>N9EAMQ    </td><td>44        </td><td>1162.3182 </td><td> 12.545455</td></tr>\n",
       "</tbody>\n",
       "</table>\n"
      ],
      "text/latex": [
       "\\begin{tabular}{r|llll}\n",
       " TailNum & count & dist & delay\\\\\n",
       "\\hline\n",
       "\t            & 795        &  938.7157  &        NaN\\\\\n",
       "\t N0EGMQ     &  40        & 1095.2500  &   1.918919\\\\\n",
       "\t N10156     & 317        &  801.7192  &   8.199357\\\\\n",
       "\t N10575     &  94        &  631.5319  &  18.148936\\\\\n",
       "\t N11106     & 308        &  774.9805  &  10.101639\\\\\n",
       "\t N11107     & 345        &  768.1130  &   8.052786\\\\\n",
       "\t N11109     & 331        &  772.4532  &  10.280000\\\\\n",
       "\t N11113     & 282        &  772.8298  &   4.057143\\\\\n",
       "\t N11119     & 130        &  790.2385  &   7.396825\\\\\n",
       "\t N11121     & 333        &  774.8018  &   6.740854\\\\\n",
       "\t N11127     & 330        &  792.8606  &   8.417683\\\\\n",
       "\t N11137     & 296        &  770.7703  &   9.782313\\\\\n",
       "\t N11140     & 194        &  789.4330  &  10.590426\\\\\n",
       "\t N11150     & 266        &  799.5075  &   7.415094\\\\\n",
       "\t N11155     & 172        &  740.5756  &  10.858824\\\\\n",
       "\t N11164     & 188        &  776.6862  &   6.641711\\\\\n",
       "\t N11165     & 130        &  760.2462  &   8.968750\\\\\n",
       "\t N11176     & 109        &  749.7064  &   6.915888\\\\\n",
       "\t N11181     & 197        &  784.0457  &  13.165803\\\\\n",
       "\t N11184     & 245        &  782.8857  &   7.471074\\\\\n",
       "\t N11187     & 213        &  771.2582  &   8.409524\\\\\n",
       "\t N11189     & 220        &  788.3318  &   8.870968\\\\\n",
       "\t N11191     & 184        &  771.4076  &   6.554945\\\\\n",
       "\t N11192     & 257        &  762.5953  &   7.535156\\\\\n",
       "\t N11193     & 235        &  769.8511  &  11.070175\\\\\n",
       "\t N11194     & 281        &  785.9253  &   6.677419\\\\\n",
       "\t N11199     & 275        &  771.0618  &   8.301471\\\\\n",
       "\t N11206     & 220        & 1153.9682  &   6.009091\\\\\n",
       "\t N112US     &   2        &  912.0000  & -16.000000\\\\\n",
       "\t N11535     & 290        &  600.8069  &   8.148936\\\\\n",
       "\t ... & ... & ... & ...\\\\\n",
       "\t N986CA     & 38         &  565.2632  &  22.361111\\\\\n",
       "\t N986DL     & 13         &  690.0769  &  -2.692308\\\\\n",
       "\t N986SW     & 62         &  601.5968  &  19.084746\\\\\n",
       "\t N987AT     & 14         &  696.0000  &  -6.857143\\\\\n",
       "\t N987DL     & 11         &  690.2727  &  12.300000\\\\\n",
       "\t N988AT     & 17         &  659.6471  &   6.235294\\\\\n",
       "\t N988CA     & 19         &  537.7895  &  27.000000\\\\\n",
       "\t N988DL     & 13         &  689.0000  &   5.692308\\\\\n",
       "\t N989AT     & 12         &  678.8333  &   4.416667\\\\\n",
       "\t N989DL     & 11         &  689.0000  &   5.636364\\\\\n",
       "\t N990AT     & 28         &  688.6429  &  -2.964286\\\\\n",
       "\t N990DL     &  7         &  689.0000  & -12.142857\\\\\n",
       "\t N991AT     & 10         &  675.4000  &  -7.111111\\\\\n",
       "\t N991DL     & 12         &  689.0000  &  16.000000\\\\\n",
       "\t N992AT     & 19         &  685.1579  &   3.526316\\\\\n",
       "\t N992DL     & 12         &  689.0000  &  -4.750000\\\\\n",
       "\t N993AT     & 15         &  696.0000  &  -2.866667\\\\\n",
       "\t N993DL     &  9         &  689.0000  &   1.777778\\\\\n",
       "\t N994AT     & 19         &  696.0000  &   6.842105\\\\\n",
       "\t N994DL     &  8         &  689.0000  &  10.625000\\\\\n",
       "\t N995AT     & 13         &  680.1538  &   3.666667\\\\\n",
       "\t N995DL     & 12         &  689.0000  &  19.166667\\\\\n",
       "\t N996AT     & 20         &  696.0000  &   1.850000\\\\\n",
       "\t N996DL     &  6         &  689.0000  &   8.000000\\\\\n",
       "\t N997AT     & 12         &  696.0000  &  31.000000\\\\\n",
       "\t N997DL     & 11         &  689.6364  &  -2.545455\\\\\n",
       "\t N998AT     & 19         &  696.0000  &  -1.210526\\\\\n",
       "\t N998DL     &  6         &  689.0000  &  -7.333333\\\\\n",
       "\t N999DN     &  7         &  739.2857  &  -7.285714\\\\\n",
       "\t N9EAMQ     & 44         & 1162.3182  &  12.545455\\\\\n",
       "\\end{tabular}\n"
      ],
      "text/markdown": [
       "\n",
       "TailNum | count | dist | delay | \n",
       "|---|---|---|---|---|---|---|---|---|---|---|---|---|---|---|---|---|---|---|---|---|---|---|---|---|---|---|---|---|---|---|---|---|---|---|---|---|---|---|---|---|---|---|---|---|---|---|---|---|---|---|---|---|---|---|---|---|---|---|---|---|\n",
       "|            | 795        |  938.7157  |        NaN | \n",
       "| N0EGMQ     |  40        | 1095.2500  |   1.918919 | \n",
       "| N10156     | 317        |  801.7192  |   8.199357 | \n",
       "| N10575     |  94        |  631.5319  |  18.148936 | \n",
       "| N11106     | 308        |  774.9805  |  10.101639 | \n",
       "| N11107     | 345        |  768.1130  |   8.052786 | \n",
       "| N11109     | 331        |  772.4532  |  10.280000 | \n",
       "| N11113     | 282        |  772.8298  |   4.057143 | \n",
       "| N11119     | 130        |  790.2385  |   7.396825 | \n",
       "| N11121     | 333        |  774.8018  |   6.740854 | \n",
       "| N11127     | 330        |  792.8606  |   8.417683 | \n",
       "| N11137     | 296        |  770.7703  |   9.782313 | \n",
       "| N11140     | 194        |  789.4330  |  10.590426 | \n",
       "| N11150     | 266        |  799.5075  |   7.415094 | \n",
       "| N11155     | 172        |  740.5756  |  10.858824 | \n",
       "| N11164     | 188        |  776.6862  |   6.641711 | \n",
       "| N11165     | 130        |  760.2462  |   8.968750 | \n",
       "| N11176     | 109        |  749.7064  |   6.915888 | \n",
       "| N11181     | 197        |  784.0457  |  13.165803 | \n",
       "| N11184     | 245        |  782.8857  |   7.471074 | \n",
       "| N11187     | 213        |  771.2582  |   8.409524 | \n",
       "| N11189     | 220        |  788.3318  |   8.870968 | \n",
       "| N11191     | 184        |  771.4076  |   6.554945 | \n",
       "| N11192     | 257        |  762.5953  |   7.535156 | \n",
       "| N11193     | 235        |  769.8511  |  11.070175 | \n",
       "| N11194     | 281        |  785.9253  |   6.677419 | \n",
       "| N11199     | 275        |  771.0618  |   8.301471 | \n",
       "| N11206     | 220        | 1153.9682  |   6.009091 | \n",
       "| N112US     |   2        |  912.0000  | -16.000000 | \n",
       "| N11535     | 290        |  600.8069  |   8.148936 | \n",
       "| ... | ... | ... | ... | \n",
       "| N986CA     | 38         |  565.2632  |  22.361111 | \n",
       "| N986DL     | 13         |  690.0769  |  -2.692308 | \n",
       "| N986SW     | 62         |  601.5968  |  19.084746 | \n",
       "| N987AT     | 14         |  696.0000  |  -6.857143 | \n",
       "| N987DL     | 11         |  690.2727  |  12.300000 | \n",
       "| N988AT     | 17         |  659.6471  |   6.235294 | \n",
       "| N988CA     | 19         |  537.7895  |  27.000000 | \n",
       "| N988DL     | 13         |  689.0000  |   5.692308 | \n",
       "| N989AT     | 12         |  678.8333  |   4.416667 | \n",
       "| N989DL     | 11         |  689.0000  |   5.636364 | \n",
       "| N990AT     | 28         |  688.6429  |  -2.964286 | \n",
       "| N990DL     |  7         |  689.0000  | -12.142857 | \n",
       "| N991AT     | 10         |  675.4000  |  -7.111111 | \n",
       "| N991DL     | 12         |  689.0000  |  16.000000 | \n",
       "| N992AT     | 19         |  685.1579  |   3.526316 | \n",
       "| N992DL     | 12         |  689.0000  |  -4.750000 | \n",
       "| N993AT     | 15         |  696.0000  |  -2.866667 | \n",
       "| N993DL     |  9         |  689.0000  |   1.777778 | \n",
       "| N994AT     | 19         |  696.0000  |   6.842105 | \n",
       "| N994DL     |  8         |  689.0000  |  10.625000 | \n",
       "| N995AT     | 13         |  680.1538  |   3.666667 | \n",
       "| N995DL     | 12         |  689.0000  |  19.166667 | \n",
       "| N996AT     | 20         |  696.0000  |   1.850000 | \n",
       "| N996DL     |  6         |  689.0000  |   8.000000 | \n",
       "| N997AT     | 12         |  696.0000  |  31.000000 | \n",
       "| N997DL     | 11         |  689.6364  |  -2.545455 | \n",
       "| N998AT     | 19         |  696.0000  |  -1.210526 | \n",
       "| N998DL     |  6         |  689.0000  |  -7.333333 | \n",
       "| N999DN     |  7         |  739.2857  |  -7.285714 | \n",
       "| N9EAMQ     | 44         | 1162.3182  |  12.545455 | \n",
       "\n",
       "\n"
      ],
      "text/plain": [
       "     TailNum count dist      delay     \n",
       "1            795    938.7157        NaN\n",
       "2    N0EGMQ   40   1095.2500   1.918919\n",
       "3    N10156  317    801.7192   8.199357\n",
       "4    N10575   94    631.5319  18.148936\n",
       "5    N11106  308    774.9805  10.101639\n",
       "6    N11107  345    768.1130   8.052786\n",
       "7    N11109  331    772.4532  10.280000\n",
       "8    N11113  282    772.8298   4.057143\n",
       "9    N11119  130    790.2385   7.396825\n",
       "10   N11121  333    774.8018   6.740854\n",
       "11   N11127  330    792.8606   8.417683\n",
       "12   N11137  296    770.7703   9.782313\n",
       "13   N11140  194    789.4330  10.590426\n",
       "14   N11150  266    799.5075   7.415094\n",
       "15   N11155  172    740.5756  10.858824\n",
       "16   N11164  188    776.6862   6.641711\n",
       "17   N11165  130    760.2462   8.968750\n",
       "18   N11176  109    749.7064   6.915888\n",
       "19   N11181  197    784.0457  13.165803\n",
       "20   N11184  245    782.8857   7.471074\n",
       "21   N11187  213    771.2582   8.409524\n",
       "22   N11189  220    788.3318   8.870968\n",
       "23   N11191  184    771.4076   6.554945\n",
       "24   N11192  257    762.5953   7.535156\n",
       "25   N11193  235    769.8511  11.070175\n",
       "26   N11194  281    785.9253   6.677419\n",
       "27   N11199  275    771.0618   8.301471\n",
       "28   N11206  220   1153.9682   6.009091\n",
       "29   N112US    2    912.0000 -16.000000\n",
       "30   N11535  290    600.8069   8.148936\n",
       "...  ...     ...   ...       ...       \n",
       "3291 N986CA  38     565.2632  22.361111\n",
       "3292 N986DL  13     690.0769  -2.692308\n",
       "3293 N986SW  62     601.5968  19.084746\n",
       "3294 N987AT  14     696.0000  -6.857143\n",
       "3295 N987DL  11     690.2727  12.300000\n",
       "3296 N988AT  17     659.6471   6.235294\n",
       "3297 N988CA  19     537.7895  27.000000\n",
       "3298 N988DL  13     689.0000   5.692308\n",
       "3299 N989AT  12     678.8333   4.416667\n",
       "3300 N989DL  11     689.0000   5.636364\n",
       "3301 N990AT  28     688.6429  -2.964286\n",
       "3302 N990DL   7     689.0000 -12.142857\n",
       "3303 N991AT  10     675.4000  -7.111111\n",
       "3304 N991DL  12     689.0000  16.000000\n",
       "3305 N992AT  19     685.1579   3.526316\n",
       "3306 N992DL  12     689.0000  -4.750000\n",
       "3307 N993AT  15     696.0000  -2.866667\n",
       "3308 N993DL   9     689.0000   1.777778\n",
       "3309 N994AT  19     696.0000   6.842105\n",
       "3310 N994DL   8     689.0000  10.625000\n",
       "3311 N995AT  13     680.1538   3.666667\n",
       "3312 N995DL  12     689.0000  19.166667\n",
       "3313 N996AT  20     696.0000   1.850000\n",
       "3314 N996DL   6     689.0000   8.000000\n",
       "3315 N997AT  12     696.0000  31.000000\n",
       "3316 N997DL  11     689.6364  -2.545455\n",
       "3317 N998AT  19     696.0000  -1.210526\n",
       "3318 N998DL   6     689.0000  -7.333333\n",
       "3319 N999DN   7     739.2857  -7.285714\n",
       "3320 N9EAMQ  44    1162.3182  12.545455"
      ]
     },
     "metadata": {},
     "output_type": "display_data"
    }
   ],
   "source": [
    "# summary statistics by plane\n",
    "delay2 <- summarize(planes, count=n(), dist=mean(Distance, na.rm=TRUE), delay=mean(ArrDelay, na.rm=T))\n",
    "delay2"
   ]
  },
  {
   "cell_type": "markdown",
   "metadata": {},
   "source": [
    "### aggregate functions\n",
    "The function n() is one of several aggregate functions that are useful to employ with summarise on grouped data. Besides the typical ones like mean, max, etc., there are also n_distinct, first, last, nth()"
   ]
  },
  {
   "cell_type": "code",
   "execution_count": 56,
   "metadata": {
    "collapsed": false
   },
   "outputs": [
    {
     "data": {
      "text/html": [
       "<table>\n",
       "<thead><tr><th scope=col>Dest</th><th scope=col>planes</th><th scope=col>flights</th></tr></thead>\n",
       "<tbody>\n",
       "\t<tr><td>ABQ </td><td> 716</td><td>2812</td></tr>\n",
       "\t<tr><td>AEX </td><td> 215</td><td> 724</td></tr>\n",
       "\t<tr><td>AGS </td><td>   1</td><td>   1</td></tr>\n",
       "\t<tr><td>AMA </td><td> 158</td><td>1297</td></tr>\n",
       "\t<tr><td>ANC </td><td>  38</td><td> 125</td></tr>\n",
       "\t<tr><td>ASE </td><td>  60</td><td> 125</td></tr>\n",
       "\t<tr><td>ATL </td><td> 983</td><td>7886</td></tr>\n",
       "\t<tr><td>AUS </td><td>1015</td><td>5022</td></tr>\n",
       "\t<tr><td>AVL </td><td> 142</td><td> 350</td></tr>\n",
       "\t<tr><td>BFL </td><td>  70</td><td> 504</td></tr>\n",
       "\t<tr><td>BHM </td><td> 616</td><td>2736</td></tr>\n",
       "\t<tr><td>BKG </td><td>  63</td><td> 110</td></tr>\n",
       "\t<tr><td>BNA </td><td> 736</td><td>3481</td></tr>\n",
       "\t<tr><td>BOS </td><td> 231</td><td>1752</td></tr>\n",
       "\t<tr><td>BPT </td><td>   3</td><td>   3</td></tr>\n",
       "\t<tr><td>BRO </td><td> 235</td><td>1692</td></tr>\n",
       "\t<tr><td>BTR </td><td> 194</td><td>1762</td></tr>\n",
       "\t<tr><td>BWI </td><td> 673</td><td>2551</td></tr>\n",
       "\t<tr><td>CAE </td><td> 194</td><td> 561</td></tr>\n",
       "\t<tr><td>CHS </td><td> 424</td><td>1200</td></tr>\n",
       "\t<tr><td>CID </td><td> 124</td><td> 410</td></tr>\n",
       "\t<tr><td>CLE </td><td> 240</td><td>2140</td></tr>\n",
       "\t<tr><td>CLT </td><td> 520</td><td>4735</td></tr>\n",
       "\t<tr><td>CMH </td><td> 374</td><td>1348</td></tr>\n",
       "\t<tr><td>COS </td><td> 265</td><td>1657</td></tr>\n",
       "\t<tr><td>CRP </td><td> 722</td><td>4813</td></tr>\n",
       "\t<tr><td>CRW </td><td> 106</td><td> 357</td></tr>\n",
       "\t<tr><td>CVG </td><td> 297</td><td>1535</td></tr>\n",
       "\t<tr><td>DAL </td><td> 806</td><td>9820</td></tr>\n",
       "\t<tr><td>DAY </td><td> 181</td><td> 451</td></tr>\n",
       "\t<tr><td>...</td><td>...</td><td>...</td></tr>\n",
       "\t<tr><td>PBI </td><td>327 </td><td>1253</td></tr>\n",
       "\t<tr><td>PDX </td><td>205 </td><td>1235</td></tr>\n",
       "\t<tr><td>PHL </td><td>508 </td><td>2367</td></tr>\n",
       "\t<tr><td>PHX </td><td>914 </td><td>5096</td></tr>\n",
       "\t<tr><td>PIT </td><td>391 </td><td>1664</td></tr>\n",
       "\t<tr><td>PNS </td><td>244 </td><td>1539</td></tr>\n",
       "\t<tr><td>PSP </td><td> 46 </td><td> 106</td></tr>\n",
       "\t<tr><td>RDU </td><td>416 </td><td>1740</td></tr>\n",
       "\t<tr><td>RIC </td><td>117 </td><td> 900</td></tr>\n",
       "\t<tr><td>RNO </td><td>102 </td><td> 243</td></tr>\n",
       "\t<tr><td>RSW </td><td>362 </td><td> 948</td></tr>\n",
       "\t<tr><td>SAN </td><td>588 </td><td>2936</td></tr>\n",
       "\t<tr><td>SAT </td><td>950 </td><td>4893</td></tr>\n",
       "\t<tr><td>SAV </td><td>199 </td><td> 863</td></tr>\n",
       "\t<tr><td>SDF </td><td>217 </td><td>1279</td></tr>\n",
       "\t<tr><td>SEA </td><td>286 </td><td>2615</td></tr>\n",
       "\t<tr><td>SFO </td><td>378 </td><td>2818</td></tr>\n",
       "\t<tr><td>SHV </td><td>212 </td><td> 787</td></tr>\n",
       "\t<tr><td>SJC </td><td>173 </td><td> 885</td></tr>\n",
       "\t<tr><td>SJU </td><td>115 </td><td> 391</td></tr>\n",
       "\t<tr><td>SLC </td><td>368 </td><td>2033</td></tr>\n",
       "\t<tr><td>SMF </td><td>184 </td><td>1014</td></tr>\n",
       "\t<tr><td>SNA </td><td> 67 </td><td>1661</td></tr>\n",
       "\t<tr><td>STL </td><td>788 </td><td>2509</td></tr>\n",
       "\t<tr><td>TPA </td><td>697 </td><td>3085</td></tr>\n",
       "\t<tr><td>TUL </td><td>771 </td><td>2924</td></tr>\n",
       "\t<tr><td>TUS </td><td>226 </td><td>1565</td></tr>\n",
       "\t<tr><td>TYS </td><td>227 </td><td>1210</td></tr>\n",
       "\t<tr><td>VPS </td><td>224 </td><td> 880</td></tr>\n",
       "\t<tr><td>XNA </td><td>177 </td><td>1172</td></tr>\n",
       "</tbody>\n",
       "</table>\n"
      ],
      "text/latex": [
       "\\begin{tabular}{r|lll}\n",
       " Dest & planes & flights\\\\\n",
       "\\hline\n",
       "\t ABQ  &  716 & 2812\\\\\n",
       "\t AEX  &  215 &  724\\\\\n",
       "\t AGS  &    1 &    1\\\\\n",
       "\t AMA  &  158 & 1297\\\\\n",
       "\t ANC  &   38 &  125\\\\\n",
       "\t ASE  &   60 &  125\\\\\n",
       "\t ATL  &  983 & 7886\\\\\n",
       "\t AUS  & 1015 & 5022\\\\\n",
       "\t AVL  &  142 &  350\\\\\n",
       "\t BFL  &   70 &  504\\\\\n",
       "\t BHM  &  616 & 2736\\\\\n",
       "\t BKG  &   63 &  110\\\\\n",
       "\t BNA  &  736 & 3481\\\\\n",
       "\t BOS  &  231 & 1752\\\\\n",
       "\t BPT  &    3 &    3\\\\\n",
       "\t BRO  &  235 & 1692\\\\\n",
       "\t BTR  &  194 & 1762\\\\\n",
       "\t BWI  &  673 & 2551\\\\\n",
       "\t CAE  &  194 &  561\\\\\n",
       "\t CHS  &  424 & 1200\\\\\n",
       "\t CID  &  124 &  410\\\\\n",
       "\t CLE  &  240 & 2140\\\\\n",
       "\t CLT  &  520 & 4735\\\\\n",
       "\t CMH  &  374 & 1348\\\\\n",
       "\t COS  &  265 & 1657\\\\\n",
       "\t CRP  &  722 & 4813\\\\\n",
       "\t CRW  &  106 &  357\\\\\n",
       "\t CVG  &  297 & 1535\\\\\n",
       "\t DAL  &  806 & 9820\\\\\n",
       "\t DAY  &  181 &  451\\\\\n",
       "\t ... & ... & ...\\\\\n",
       "\t PBI  & 327  & 1253\\\\\n",
       "\t PDX  & 205  & 1235\\\\\n",
       "\t PHL  & 508  & 2367\\\\\n",
       "\t PHX  & 914  & 5096\\\\\n",
       "\t PIT  & 391  & 1664\\\\\n",
       "\t PNS  & 244  & 1539\\\\\n",
       "\t PSP  &  46  &  106\\\\\n",
       "\t RDU  & 416  & 1740\\\\\n",
       "\t RIC  & 117  &  900\\\\\n",
       "\t RNO  & 102  &  243\\\\\n",
       "\t RSW  & 362  &  948\\\\\n",
       "\t SAN  & 588  & 2936\\\\\n",
       "\t SAT  & 950  & 4893\\\\\n",
       "\t SAV  & 199  &  863\\\\\n",
       "\t SDF  & 217  & 1279\\\\\n",
       "\t SEA  & 286  & 2615\\\\\n",
       "\t SFO  & 378  & 2818\\\\\n",
       "\t SHV  & 212  &  787\\\\\n",
       "\t SJC  & 173  &  885\\\\\n",
       "\t SJU  & 115  &  391\\\\\n",
       "\t SLC  & 368  & 2033\\\\\n",
       "\t SMF  & 184  & 1014\\\\\n",
       "\t SNA  &  67  & 1661\\\\\n",
       "\t STL  & 788  & 2509\\\\\n",
       "\t TPA  & 697  & 3085\\\\\n",
       "\t TUL  & 771  & 2924\\\\\n",
       "\t TUS  & 226  & 1565\\\\\n",
       "\t TYS  & 227  & 1210\\\\\n",
       "\t VPS  & 224  &  880\\\\\n",
       "\t XNA  & 177  & 1172\\\\\n",
       "\\end{tabular}\n"
      ],
      "text/markdown": [
       "\n",
       "Dest | planes | flights | \n",
       "|---|---|---|---|---|---|---|---|---|---|---|---|---|---|---|---|---|---|---|---|---|---|---|---|---|---|---|---|---|---|---|---|---|---|---|---|---|---|---|---|---|---|---|---|---|---|---|---|---|---|---|---|---|---|---|---|---|---|---|---|---|\n",
       "| ABQ  |  716 | 2812 | \n",
       "| AEX  |  215 |  724 | \n",
       "| AGS  |    1 |    1 | \n",
       "| AMA  |  158 | 1297 | \n",
       "| ANC  |   38 |  125 | \n",
       "| ASE  |   60 |  125 | \n",
       "| ATL  |  983 | 7886 | \n",
       "| AUS  | 1015 | 5022 | \n",
       "| AVL  |  142 |  350 | \n",
       "| BFL  |   70 |  504 | \n",
       "| BHM  |  616 | 2736 | \n",
       "| BKG  |   63 |  110 | \n",
       "| BNA  |  736 | 3481 | \n",
       "| BOS  |  231 | 1752 | \n",
       "| BPT  |    3 |    3 | \n",
       "| BRO  |  235 | 1692 | \n",
       "| BTR  |  194 | 1762 | \n",
       "| BWI  |  673 | 2551 | \n",
       "| CAE  |  194 |  561 | \n",
       "| CHS  |  424 | 1200 | \n",
       "| CID  |  124 |  410 | \n",
       "| CLE  |  240 | 2140 | \n",
       "| CLT  |  520 | 4735 | \n",
       "| CMH  |  374 | 1348 | \n",
       "| COS  |  265 | 1657 | \n",
       "| CRP  |  722 | 4813 | \n",
       "| CRW  |  106 |  357 | \n",
       "| CVG  |  297 | 1535 | \n",
       "| DAL  |  806 | 9820 | \n",
       "| DAY  |  181 |  451 | \n",
       "| ... | ... | ... | \n",
       "| PBI  | 327  | 1253 | \n",
       "| PDX  | 205  | 1235 | \n",
       "| PHL  | 508  | 2367 | \n",
       "| PHX  | 914  | 5096 | \n",
       "| PIT  | 391  | 1664 | \n",
       "| PNS  | 244  | 1539 | \n",
       "| PSP  |  46  |  106 | \n",
       "| RDU  | 416  | 1740 | \n",
       "| RIC  | 117  |  900 | \n",
       "| RNO  | 102  |  243 | \n",
       "| RSW  | 362  |  948 | \n",
       "| SAN  | 588  | 2936 | \n",
       "| SAT  | 950  | 4893 | \n",
       "| SAV  | 199  |  863 | \n",
       "| SDF  | 217  | 1279 | \n",
       "| SEA  | 286  | 2615 | \n",
       "| SFO  | 378  | 2818 | \n",
       "| SHV  | 212  |  787 | \n",
       "| SJC  | 173  |  885 | \n",
       "| SJU  | 115  |  391 | \n",
       "| SLC  | 368  | 2033 | \n",
       "| SMF  | 184  | 1014 | \n",
       "| SNA  |  67  | 1661 | \n",
       "| STL  | 788  | 2509 | \n",
       "| TPA  | 697  | 3085 | \n",
       "| TUL  | 771  | 2924 | \n",
       "| TUS  | 226  | 1565 | \n",
       "| TYS  | 227  | 1210 | \n",
       "| VPS  | 224  |  880 | \n",
       "| XNA  | 177  | 1172 | \n",
       "\n",
       "\n"
      ],
      "text/plain": [
       "    Dest planes flights\n",
       "1   ABQ   716   2812   \n",
       "2   AEX   215    724   \n",
       "3   AGS     1      1   \n",
       "4   AMA   158   1297   \n",
       "5   ANC    38    125   \n",
       "6   ASE    60    125   \n",
       "7   ATL   983   7886   \n",
       "8   AUS  1015   5022   \n",
       "9   AVL   142    350   \n",
       "10  BFL    70    504   \n",
       "11  BHM   616   2736   \n",
       "12  BKG    63    110   \n",
       "13  BNA   736   3481   \n",
       "14  BOS   231   1752   \n",
       "15  BPT     3      3   \n",
       "16  BRO   235   1692   \n",
       "17  BTR   194   1762   \n",
       "18  BWI   673   2551   \n",
       "19  CAE   194    561   \n",
       "20  CHS   424   1200   \n",
       "21  CID   124    410   \n",
       "22  CLE   240   2140   \n",
       "23  CLT   520   4735   \n",
       "24  CMH   374   1348   \n",
       "25  COS   265   1657   \n",
       "26  CRP   722   4813   \n",
       "27  CRW   106    357   \n",
       "28  CVG   297   1535   \n",
       "29  DAL   806   9820   \n",
       "30  DAY   181    451   \n",
       "... ...  ...    ...    \n",
       "87  PBI  327    1253   \n",
       "88  PDX  205    1235   \n",
       "89  PHL  508    2367   \n",
       "90  PHX  914    5096   \n",
       "91  PIT  391    1664   \n",
       "92  PNS  244    1539   \n",
       "93  PSP   46     106   \n",
       "94  RDU  416    1740   \n",
       "95  RIC  117     900   \n",
       "96  RNO  102     243   \n",
       "97  RSW  362     948   \n",
       "98  SAN  588    2936   \n",
       "99  SAT  950    4893   \n",
       "100 SAV  199     863   \n",
       "101 SDF  217    1279   \n",
       "102 SEA  286    2615   \n",
       "103 SFO  378    2818   \n",
       "104 SHV  212     787   \n",
       "105 SJC  173     885   \n",
       "106 SJU  115     391   \n",
       "107 SLC  368    2033   \n",
       "108 SMF  184    1014   \n",
       "109 SNA   67    1661   \n",
       "110 STL  788    2509   \n",
       "111 TPA  697    3085   \n",
       "112 TUL  771    2924   \n",
       "113 TUS  226    1565   \n",
       "114 TYS  227    1210   \n",
       "115 VPS  224     880   \n",
       "116 XNA  177    1172   "
      ]
     },
     "metadata": {},
     "output_type": "display_data"
    }
   ],
   "source": [
    "destinations <- group_by(hflights_df, Dest)\n",
    "summarise(destinations, planes=n_distinct(TailNum), flights=n())\n"
   ]
  },
  {
   "cell_type": "markdown",
   "metadata": {},
   "source": [
    "### Grouping by multiple variables\n",
    "When we do this we have the ability to easily compute summary stats by different combinations of the grouping variables.\n",
    "\n",
    "Suppose we group the data into daily flights."
   ]
  },
  {
   "cell_type": "code",
   "execution_count": 57,
   "metadata": {
    "collapsed": false
   },
   "outputs": [
    {
     "data": {
      "text/html": [
       "<table>\n",
       "<thead><tr><th scope=col>Year</th><th scope=col>Month</th><th scope=col>DayofMonth</th><th scope=col>number_flights</th></tr></thead>\n",
       "<tbody>\n",
       "\t<tr><td>2011</td><td>1   </td><td> 1  </td><td>552 </td></tr>\n",
       "\t<tr><td>2011</td><td>1   </td><td> 2  </td><td>678 </td></tr>\n",
       "\t<tr><td>2011</td><td>1   </td><td> 3  </td><td>702 </td></tr>\n",
       "\t<tr><td>2011</td><td>1   </td><td> 4  </td><td>583 </td></tr>\n",
       "\t<tr><td>2011</td><td>1   </td><td> 5  </td><td>590 </td></tr>\n",
       "\t<tr><td>2011</td><td>1   </td><td> 6  </td><td>660 </td></tr>\n",
       "\t<tr><td>2011</td><td>1   </td><td> 7  </td><td>661 </td></tr>\n",
       "\t<tr><td>2011</td><td>1   </td><td> 8  </td><td>500 </td></tr>\n",
       "\t<tr><td>2011</td><td>1   </td><td> 9  </td><td>602 </td></tr>\n",
       "\t<tr><td>2011</td><td>1   </td><td>10  </td><td>659 </td></tr>\n",
       "\t<tr><td>2011</td><td>1   </td><td>11  </td><td>583 </td></tr>\n",
       "\t<tr><td>2011</td><td>1   </td><td>12  </td><td>589 </td></tr>\n",
       "\t<tr><td>2011</td><td>1   </td><td>13  </td><td>662 </td></tr>\n",
       "\t<tr><td>2011</td><td>1   </td><td>14  </td><td>661 </td></tr>\n",
       "\t<tr><td>2011</td><td>1   </td><td>15  </td><td>487 </td></tr>\n",
       "\t<tr><td>2011</td><td>1   </td><td>16  </td><td>601 </td></tr>\n",
       "\t<tr><td>2011</td><td>1   </td><td>17  </td><td>658 </td></tr>\n",
       "\t<tr><td>2011</td><td>1   </td><td>18  </td><td>581 </td></tr>\n",
       "\t<tr><td>2011</td><td>1   </td><td>19  </td><td>589 </td></tr>\n",
       "\t<tr><td>2011</td><td>1   </td><td>20  </td><td>663 </td></tr>\n",
       "\t<tr><td>2011</td><td>1   </td><td>21  </td><td>661 </td></tr>\n",
       "\t<tr><td>2011</td><td>1   </td><td>22  </td><td>488 </td></tr>\n",
       "\t<tr><td>2011</td><td>1   </td><td>23  </td><td>602 </td></tr>\n",
       "\t<tr><td>2011</td><td>1   </td><td>24  </td><td>657 </td></tr>\n",
       "\t<tr><td>2011</td><td>1   </td><td>25  </td><td>581 </td></tr>\n",
       "\t<tr><td>2011</td><td>1   </td><td>26  </td><td>589 </td></tr>\n",
       "\t<tr><td>2011</td><td>1   </td><td>27  </td><td>663 </td></tr>\n",
       "\t<tr><td>2011</td><td>1   </td><td>28  </td><td>661 </td></tr>\n",
       "\t<tr><td>2011</td><td>1   </td><td>29  </td><td>488 </td></tr>\n",
       "\t<tr><td>2011</td><td>1   </td><td>30  </td><td>602 </td></tr>\n",
       "\t<tr><td>...</td><td>...</td><td>...</td><td>...</td></tr>\n",
       "\t<tr><td>2011</td><td>12  </td><td> 2  </td><td>663 </td></tr>\n",
       "\t<tr><td>2011</td><td>12  </td><td> 3  </td><td>497 </td></tr>\n",
       "\t<tr><td>2011</td><td>12  </td><td> 4  </td><td>588 </td></tr>\n",
       "\t<tr><td>2011</td><td>12  </td><td> 5  </td><td>645 </td></tr>\n",
       "\t<tr><td>2011</td><td>12  </td><td> 6  </td><td>565 </td></tr>\n",
       "\t<tr><td>2011</td><td>12  </td><td> 7  </td><td>581 </td></tr>\n",
       "\t<tr><td>2011</td><td>12  </td><td> 8  </td><td>655 </td></tr>\n",
       "\t<tr><td>2011</td><td>12  </td><td> 9  </td><td>655 </td></tr>\n",
       "\t<tr><td>2011</td><td>12  </td><td>10  </td><td>486 </td></tr>\n",
       "\t<tr><td>2011</td><td>12  </td><td>11  </td><td>587 </td></tr>\n",
       "\t<tr><td>2011</td><td>12  </td><td>12  </td><td>646 </td></tr>\n",
       "\t<tr><td>2011</td><td>12  </td><td>13  </td><td>566 </td></tr>\n",
       "\t<tr><td>2011</td><td>12  </td><td>14  </td><td>583 </td></tr>\n",
       "\t<tr><td>2011</td><td>12  </td><td>15  </td><td>663 </td></tr>\n",
       "\t<tr><td>2011</td><td>12  </td><td>16  </td><td>669 </td></tr>\n",
       "\t<tr><td>2011</td><td>12  </td><td>17  </td><td>565 </td></tr>\n",
       "\t<tr><td>2011</td><td>12  </td><td>18  </td><td>625 </td></tr>\n",
       "\t<tr><td>2011</td><td>12  </td><td>19  </td><td>635 </td></tr>\n",
       "\t<tr><td>2011</td><td>12  </td><td>20  </td><td>640 </td></tr>\n",
       "\t<tr><td>2011</td><td>12  </td><td>21  </td><td>664 </td></tr>\n",
       "\t<tr><td>2011</td><td>12  </td><td>22  </td><td>672 </td></tr>\n",
       "\t<tr><td>2011</td><td>12  </td><td>23  </td><td>672 </td></tr>\n",
       "\t<tr><td>2011</td><td>12  </td><td>24  </td><td>498 </td></tr>\n",
       "\t<tr><td>2011</td><td>12  </td><td>25  </td><td>566 </td></tr>\n",
       "\t<tr><td>2011</td><td>12  </td><td>26  </td><td>675 </td></tr>\n",
       "\t<tr><td>2011</td><td>12  </td><td>27  </td><td>672 </td></tr>\n",
       "\t<tr><td>2011</td><td>12  </td><td>28  </td><td>673 </td></tr>\n",
       "\t<tr><td>2011</td><td>12  </td><td>29  </td><td>667 </td></tr>\n",
       "\t<tr><td>2011</td><td>12  </td><td>30  </td><td>671 </td></tr>\n",
       "\t<tr><td>2011</td><td>12  </td><td>31  </td><td>509 </td></tr>\n",
       "</tbody>\n",
       "</table>\n"
      ],
      "text/latex": [
       "\\begin{tabular}{r|llll}\n",
       " Year & Month & DayofMonth & number\\_flights\\\\\n",
       "\\hline\n",
       "\t 2011 & 1    &  1   & 552 \\\\\n",
       "\t 2011 & 1    &  2   & 678 \\\\\n",
       "\t 2011 & 1    &  3   & 702 \\\\\n",
       "\t 2011 & 1    &  4   & 583 \\\\\n",
       "\t 2011 & 1    &  5   & 590 \\\\\n",
       "\t 2011 & 1    &  6   & 660 \\\\\n",
       "\t 2011 & 1    &  7   & 661 \\\\\n",
       "\t 2011 & 1    &  8   & 500 \\\\\n",
       "\t 2011 & 1    &  9   & 602 \\\\\n",
       "\t 2011 & 1    & 10   & 659 \\\\\n",
       "\t 2011 & 1    & 11   & 583 \\\\\n",
       "\t 2011 & 1    & 12   & 589 \\\\\n",
       "\t 2011 & 1    & 13   & 662 \\\\\n",
       "\t 2011 & 1    & 14   & 661 \\\\\n",
       "\t 2011 & 1    & 15   & 487 \\\\\n",
       "\t 2011 & 1    & 16   & 601 \\\\\n",
       "\t 2011 & 1    & 17   & 658 \\\\\n",
       "\t 2011 & 1    & 18   & 581 \\\\\n",
       "\t 2011 & 1    & 19   & 589 \\\\\n",
       "\t 2011 & 1    & 20   & 663 \\\\\n",
       "\t 2011 & 1    & 21   & 661 \\\\\n",
       "\t 2011 & 1    & 22   & 488 \\\\\n",
       "\t 2011 & 1    & 23   & 602 \\\\\n",
       "\t 2011 & 1    & 24   & 657 \\\\\n",
       "\t 2011 & 1    & 25   & 581 \\\\\n",
       "\t 2011 & 1    & 26   & 589 \\\\\n",
       "\t 2011 & 1    & 27   & 663 \\\\\n",
       "\t 2011 & 1    & 28   & 661 \\\\\n",
       "\t 2011 & 1    & 29   & 488 \\\\\n",
       "\t 2011 & 1    & 30   & 602 \\\\\n",
       "\t ... & ... & ... & ...\\\\\n",
       "\t 2011 & 12   &  2   & 663 \\\\\n",
       "\t 2011 & 12   &  3   & 497 \\\\\n",
       "\t 2011 & 12   &  4   & 588 \\\\\n",
       "\t 2011 & 12   &  5   & 645 \\\\\n",
       "\t 2011 & 12   &  6   & 565 \\\\\n",
       "\t 2011 & 12   &  7   & 581 \\\\\n",
       "\t 2011 & 12   &  8   & 655 \\\\\n",
       "\t 2011 & 12   &  9   & 655 \\\\\n",
       "\t 2011 & 12   & 10   & 486 \\\\\n",
       "\t 2011 & 12   & 11   & 587 \\\\\n",
       "\t 2011 & 12   & 12   & 646 \\\\\n",
       "\t 2011 & 12   & 13   & 566 \\\\\n",
       "\t 2011 & 12   & 14   & 583 \\\\\n",
       "\t 2011 & 12   & 15   & 663 \\\\\n",
       "\t 2011 & 12   & 16   & 669 \\\\\n",
       "\t 2011 & 12   & 17   & 565 \\\\\n",
       "\t 2011 & 12   & 18   & 625 \\\\\n",
       "\t 2011 & 12   & 19   & 635 \\\\\n",
       "\t 2011 & 12   & 20   & 640 \\\\\n",
       "\t 2011 & 12   & 21   & 664 \\\\\n",
       "\t 2011 & 12   & 22   & 672 \\\\\n",
       "\t 2011 & 12   & 23   & 672 \\\\\n",
       "\t 2011 & 12   & 24   & 498 \\\\\n",
       "\t 2011 & 12   & 25   & 566 \\\\\n",
       "\t 2011 & 12   & 26   & 675 \\\\\n",
       "\t 2011 & 12   & 27   & 672 \\\\\n",
       "\t 2011 & 12   & 28   & 673 \\\\\n",
       "\t 2011 & 12   & 29   & 667 \\\\\n",
       "\t 2011 & 12   & 30   & 671 \\\\\n",
       "\t 2011 & 12   & 31   & 509 \\\\\n",
       "\\end{tabular}\n"
      ],
      "text/markdown": [
       "\n",
       "Year | Month | DayofMonth | number_flights | \n",
       "|---|---|---|---|---|---|---|---|---|---|---|---|---|---|---|---|---|---|---|---|---|---|---|---|---|---|---|---|---|---|---|---|---|---|---|---|---|---|---|---|---|---|---|---|---|---|---|---|---|---|---|---|---|---|---|---|---|---|---|---|---|\n",
       "| 2011 | 1    |  1   | 552  | \n",
       "| 2011 | 1    |  2   | 678  | \n",
       "| 2011 | 1    |  3   | 702  | \n",
       "| 2011 | 1    |  4   | 583  | \n",
       "| 2011 | 1    |  5   | 590  | \n",
       "| 2011 | 1    |  6   | 660  | \n",
       "| 2011 | 1    |  7   | 661  | \n",
       "| 2011 | 1    |  8   | 500  | \n",
       "| 2011 | 1    |  9   | 602  | \n",
       "| 2011 | 1    | 10   | 659  | \n",
       "| 2011 | 1    | 11   | 583  | \n",
       "| 2011 | 1    | 12   | 589  | \n",
       "| 2011 | 1    | 13   | 662  | \n",
       "| 2011 | 1    | 14   | 661  | \n",
       "| 2011 | 1    | 15   | 487  | \n",
       "| 2011 | 1    | 16   | 601  | \n",
       "| 2011 | 1    | 17   | 658  | \n",
       "| 2011 | 1    | 18   | 581  | \n",
       "| 2011 | 1    | 19   | 589  | \n",
       "| 2011 | 1    | 20   | 663  | \n",
       "| 2011 | 1    | 21   | 661  | \n",
       "| 2011 | 1    | 22   | 488  | \n",
       "| 2011 | 1    | 23   | 602  | \n",
       "| 2011 | 1    | 24   | 657  | \n",
       "| 2011 | 1    | 25   | 581  | \n",
       "| 2011 | 1    | 26   | 589  | \n",
       "| 2011 | 1    | 27   | 663  | \n",
       "| 2011 | 1    | 28   | 661  | \n",
       "| 2011 | 1    | 29   | 488  | \n",
       "| 2011 | 1    | 30   | 602  | \n",
       "| ... | ... | ... | ... | \n",
       "| 2011 | 12   |  2   | 663  | \n",
       "| 2011 | 12   |  3   | 497  | \n",
       "| 2011 | 12   |  4   | 588  | \n",
       "| 2011 | 12   |  5   | 645  | \n",
       "| 2011 | 12   |  6   | 565  | \n",
       "| 2011 | 12   |  7   | 581  | \n",
       "| 2011 | 12   |  8   | 655  | \n",
       "| 2011 | 12   |  9   | 655  | \n",
       "| 2011 | 12   | 10   | 486  | \n",
       "| 2011 | 12   | 11   | 587  | \n",
       "| 2011 | 12   | 12   | 646  | \n",
       "| 2011 | 12   | 13   | 566  | \n",
       "| 2011 | 12   | 14   | 583  | \n",
       "| 2011 | 12   | 15   | 663  | \n",
       "| 2011 | 12   | 16   | 669  | \n",
       "| 2011 | 12   | 17   | 565  | \n",
       "| 2011 | 12   | 18   | 625  | \n",
       "| 2011 | 12   | 19   | 635  | \n",
       "| 2011 | 12   | 20   | 640  | \n",
       "| 2011 | 12   | 21   | 664  | \n",
       "| 2011 | 12   | 22   | 672  | \n",
       "| 2011 | 12   | 23   | 672  | \n",
       "| 2011 | 12   | 24   | 498  | \n",
       "| 2011 | 12   | 25   | 566  | \n",
       "| 2011 | 12   | 26   | 675  | \n",
       "| 2011 | 12   | 27   | 672  | \n",
       "| 2011 | 12   | 28   | 673  | \n",
       "| 2011 | 12   | 29   | 667  | \n",
       "| 2011 | 12   | 30   | 671  | \n",
       "| 2011 | 12   | 31   | 509  | \n",
       "\n",
       "\n"
      ],
      "text/plain": [
       "    Year Month DayofMonth number_flights\n",
       "1   2011 1      1         552           \n",
       "2   2011 1      2         678           \n",
       "3   2011 1      3         702           \n",
       "4   2011 1      4         583           \n",
       "5   2011 1      5         590           \n",
       "6   2011 1      6         660           \n",
       "7   2011 1      7         661           \n",
       "8   2011 1      8         500           \n",
       "9   2011 1      9         602           \n",
       "10  2011 1     10         659           \n",
       "11  2011 1     11         583           \n",
       "12  2011 1     12         589           \n",
       "13  2011 1     13         662           \n",
       "14  2011 1     14         661           \n",
       "15  2011 1     15         487           \n",
       "16  2011 1     16         601           \n",
       "17  2011 1     17         658           \n",
       "18  2011 1     18         581           \n",
       "19  2011 1     19         589           \n",
       "20  2011 1     20         663           \n",
       "21  2011 1     21         661           \n",
       "22  2011 1     22         488           \n",
       "23  2011 1     23         602           \n",
       "24  2011 1     24         657           \n",
       "25  2011 1     25         581           \n",
       "26  2011 1     26         589           \n",
       "27  2011 1     27         663           \n",
       "28  2011 1     28         661           \n",
       "29  2011 1     29         488           \n",
       "30  2011 1     30         602           \n",
       "... ...  ...   ...        ...           \n",
       "336 2011 12     2         663           \n",
       "337 2011 12     3         497           \n",
       "338 2011 12     4         588           \n",
       "339 2011 12     5         645           \n",
       "340 2011 12     6         565           \n",
       "341 2011 12     7         581           \n",
       "342 2011 12     8         655           \n",
       "343 2011 12     9         655           \n",
       "344 2011 12    10         486           \n",
       "345 2011 12    11         587           \n",
       "346 2011 12    12         646           \n",
       "347 2011 12    13         566           \n",
       "348 2011 12    14         583           \n",
       "349 2011 12    15         663           \n",
       "350 2011 12    16         669           \n",
       "351 2011 12    17         565           \n",
       "352 2011 12    18         625           \n",
       "353 2011 12    19         635           \n",
       "354 2011 12    20         640           \n",
       "355 2011 12    21         664           \n",
       "356 2011 12    22         672           \n",
       "357 2011 12    23         672           \n",
       "358 2011 12    24         498           \n",
       "359 2011 12    25         566           \n",
       "360 2011 12    26         675           \n",
       "361 2011 12    27         672           \n",
       "362 2011 12    28         673           \n",
       "363 2011 12    29         667           \n",
       "364 2011 12    30         671           \n",
       "365 2011 12    31         509           "
      ]
     },
     "metadata": {},
     "output_type": "display_data"
    }
   ],
   "source": [
    "daily <- group_by(hflights_df, Year, Month, DayofMonth)\n",
    "# no of flights per day\n",
    "per_day <- summarize(daily, number_flights=n())\n",
    "per_day"
   ]
  },
  {
   "cell_type": "code",
   "execution_count": 58,
   "metadata": {
    "collapsed": false
   },
   "outputs": [
    {
     "data": {
      "text/html": [
       "<table>\n",
       "<thead><tr><th scope=col>Year</th><th scope=col>Month</th><th scope=col>number_flights</th></tr></thead>\n",
       "<tbody>\n",
       "\t<tr><td>2011 </td><td> 1   </td><td>18910</td></tr>\n",
       "\t<tr><td>2011 </td><td> 2   </td><td>17128</td></tr>\n",
       "\t<tr><td>2011 </td><td> 3   </td><td>19470</td></tr>\n",
       "\t<tr><td>2011 </td><td> 4   </td><td>18593</td></tr>\n",
       "\t<tr><td>2011 </td><td> 5   </td><td>19172</td></tr>\n",
       "\t<tr><td>2011 </td><td> 6   </td><td>19600</td></tr>\n",
       "\t<tr><td>2011 </td><td> 7   </td><td>20548</td></tr>\n",
       "\t<tr><td>2011 </td><td> 8   </td><td>20176</td></tr>\n",
       "\t<tr><td>2011 </td><td> 9   </td><td>18065</td></tr>\n",
       "\t<tr><td>2011 </td><td>10   </td><td>18696</td></tr>\n",
       "\t<tr><td>2011 </td><td>11   </td><td>18021</td></tr>\n",
       "\t<tr><td>2011 </td><td>12   </td><td>19117</td></tr>\n",
       "</tbody>\n",
       "</table>\n"
      ],
      "text/latex": [
       "\\begin{tabular}{r|lll}\n",
       " Year & Month & number\\_flights\\\\\n",
       "\\hline\n",
       "\t 2011  &  1    & 18910\\\\\n",
       "\t 2011  &  2    & 17128\\\\\n",
       "\t 2011  &  3    & 19470\\\\\n",
       "\t 2011  &  4    & 18593\\\\\n",
       "\t 2011  &  5    & 19172\\\\\n",
       "\t 2011  &  6    & 19600\\\\\n",
       "\t 2011  &  7    & 20548\\\\\n",
       "\t 2011  &  8    & 20176\\\\\n",
       "\t 2011  &  9    & 18065\\\\\n",
       "\t 2011  & 10    & 18696\\\\\n",
       "\t 2011  & 11    & 18021\\\\\n",
       "\t 2011  & 12    & 19117\\\\\n",
       "\\end{tabular}\n"
      ],
      "text/markdown": [
       "\n",
       "Year | Month | number_flights | \n",
       "|---|---|---|---|---|---|---|---|---|---|---|---|\n",
       "| 2011  |  1    | 18910 | \n",
       "| 2011  |  2    | 17128 | \n",
       "| 2011  |  3    | 19470 | \n",
       "| 2011  |  4    | 18593 | \n",
       "| 2011  |  5    | 19172 | \n",
       "| 2011  |  6    | 19600 | \n",
       "| 2011  |  7    | 20548 | \n",
       "| 2011  |  8    | 20176 | \n",
       "| 2011  |  9    | 18065 | \n",
       "| 2011  | 10    | 18696 | \n",
       "| 2011  | 11    | 18021 | \n",
       "| 2011  | 12    | 19117 | \n",
       "\n",
       "\n"
      ],
      "text/plain": [
       "   Year Month number_flights\n",
       "1  2011  1    18910         \n",
       "2  2011  2    17128         \n",
       "3  2011  3    19470         \n",
       "4  2011  4    18593         \n",
       "5  2011  5    19172         \n",
       "6  2011  6    19600         \n",
       "7  2011  7    20548         \n",
       "8  2011  8    20176         \n",
       "9  2011  9    18065         \n",
       "10 2011 10    18696         \n",
       "11 2011 11    18021         \n",
       "12 2011 12    19117         "
      ]
     },
     "metadata": {},
     "output_type": "display_data"
    }
   ],
   "source": [
    "per_month <- summarize(per_day, number_flights=sum(number_flights))\n",
    "per_month"
   ]
  },
  {
   "cell_type": "markdown",
   "metadata": {},
   "source": [
    "### Chanining\n",
    "There is a nice way to pass the result of one function to another. This is possible because so many dplyr functions take a data table as input and output another data table.\n",
    "\n",
    "For example:"
   ]
  },
  {
   "cell_type": "code",
   "execution_count": 59,
   "metadata": {
    "collapsed": false
   },
   "outputs": [
    {
     "data": {
      "text/html": [
       "<table>\n",
       "<thead><tr><th scope=col>Year</th><th scope=col>Month</th><th scope=col>DayofMonth</th><th scope=col>arr</th><th scope=col>dep</th></tr></thead>\n",
       "<tbody>\n",
       "\t<tr><td>2011    </td><td> 2      </td><td> 4      </td><td>44.08088</td><td>47.17216</td></tr>\n",
       "\t<tr><td>2011    </td><td> 3      </td><td> 3      </td><td>35.12898</td><td>38.20064</td></tr>\n",
       "\t<tr><td>2011    </td><td> 3      </td><td>14      </td><td>46.63830</td><td>36.13657</td></tr>\n",
       "\t<tr><td>2011    </td><td> 4      </td><td> 4      </td><td>38.71651</td><td>27.94915</td></tr>\n",
       "\t<tr><td>2011    </td><td> 4      </td><td>25      </td><td>37.79845</td><td>22.25574</td></tr>\n",
       "\t<tr><td>2011    </td><td> 5      </td><td>12      </td><td>69.52046</td><td>64.52039</td></tr>\n",
       "\t<tr><td>2011    </td><td> 5      </td><td>20      </td><td>37.02857</td><td>26.55090</td></tr>\n",
       "\t<tr><td>2011    </td><td> 6      </td><td>22      </td><td>65.51852</td><td>62.30979</td></tr>\n",
       "\t<tr><td>2011    </td><td> 7      </td><td>29      </td><td>29.55755</td><td>31.86944</td></tr>\n",
       "\t<tr><td>2011    </td><td> 9      </td><td>29      </td><td>39.19649</td><td>32.49528</td></tr>\n",
       "\t<tr><td>2011    </td><td>10      </td><td> 9      </td><td>61.90172</td><td>59.52586</td></tr>\n",
       "\t<tr><td>2011    </td><td>11      </td><td>15      </td><td>43.68134</td><td>39.23333</td></tr>\n",
       "\t<tr><td>2011    </td><td>12      </td><td>29      </td><td>26.30096</td><td>30.78855</td></tr>\n",
       "\t<tr><td>2011    </td><td>12      </td><td>31      </td><td>46.48465</td><td>54.17137</td></tr>\n",
       "</tbody>\n",
       "</table>\n"
      ],
      "text/latex": [
       "\\begin{tabular}{r|lllll}\n",
       " Year & Month & DayofMonth & arr & dep\\\\\n",
       "\\hline\n",
       "\t 2011     &  2       &  4       & 44.08088 & 47.17216\\\\\n",
       "\t 2011     &  3       &  3       & 35.12898 & 38.20064\\\\\n",
       "\t 2011     &  3       & 14       & 46.63830 & 36.13657\\\\\n",
       "\t 2011     &  4       &  4       & 38.71651 & 27.94915\\\\\n",
       "\t 2011     &  4       & 25       & 37.79845 & 22.25574\\\\\n",
       "\t 2011     &  5       & 12       & 69.52046 & 64.52039\\\\\n",
       "\t 2011     &  5       & 20       & 37.02857 & 26.55090\\\\\n",
       "\t 2011     &  6       & 22       & 65.51852 & 62.30979\\\\\n",
       "\t 2011     &  7       & 29       & 29.55755 & 31.86944\\\\\n",
       "\t 2011     &  9       & 29       & 39.19649 & 32.49528\\\\\n",
       "\t 2011     & 10       &  9       & 61.90172 & 59.52586\\\\\n",
       "\t 2011     & 11       & 15       & 43.68134 & 39.23333\\\\\n",
       "\t 2011     & 12       & 29       & 26.30096 & 30.78855\\\\\n",
       "\t 2011     & 12       & 31       & 46.48465 & 54.17137\\\\\n",
       "\\end{tabular}\n"
      ],
      "text/markdown": [
       "\n",
       "Year | Month | DayofMonth | arr | dep | \n",
       "|---|---|---|---|---|---|---|---|---|---|---|---|---|---|\n",
       "| 2011     |  2       |  4       | 44.08088 | 47.17216 | \n",
       "| 2011     |  3       |  3       | 35.12898 | 38.20064 | \n",
       "| 2011     |  3       | 14       | 46.63830 | 36.13657 | \n",
       "| 2011     |  4       |  4       | 38.71651 | 27.94915 | \n",
       "| 2011     |  4       | 25       | 37.79845 | 22.25574 | \n",
       "| 2011     |  5       | 12       | 69.52046 | 64.52039 | \n",
       "| 2011     |  5       | 20       | 37.02857 | 26.55090 | \n",
       "| 2011     |  6       | 22       | 65.51852 | 62.30979 | \n",
       "| 2011     |  7       | 29       | 29.55755 | 31.86944 | \n",
       "| 2011     |  9       | 29       | 39.19649 | 32.49528 | \n",
       "| 2011     | 10       |  9       | 61.90172 | 59.52586 | \n",
       "| 2011     | 11       | 15       | 43.68134 | 39.23333 | \n",
       "| 2011     | 12       | 29       | 26.30096 | 30.78855 | \n",
       "| 2011     | 12       | 31       | 46.48465 | 54.17137 | \n",
       "\n",
       "\n"
      ],
      "text/plain": [
       "   Year Month DayofMonth arr      dep     \n",
       "1  2011  2     4         44.08088 47.17216\n",
       "2  2011  3     3         35.12898 38.20064\n",
       "3  2011  3    14         46.63830 36.13657\n",
       "4  2011  4     4         38.71651 27.94915\n",
       "5  2011  4    25         37.79845 22.25574\n",
       "6  2011  5    12         69.52046 64.52039\n",
       "7  2011  5    20         37.02857 26.55090\n",
       "8  2011  6    22         65.51852 62.30979\n",
       "9  2011  7    29         29.55755 31.86944\n",
       "10 2011  9    29         39.19649 32.49528\n",
       "11 2011 10     9         61.90172 59.52586\n",
       "12 2011 11    15         43.68134 39.23333\n",
       "13 2011 12    29         26.30096 30.78855\n",
       "14 2011 12    31         46.48465 54.17137"
      ]
     },
     "metadata": {},
     "output_type": "display_data"
    }
   ],
   "source": [
    "a1 <- group_by(hflights, Year, Month, DayofMonth)\n",
    "a2 <- select(a1, Year:DayofMonth, ArrDelay, DepDelay)\n",
    "a3 <- summarize(a2, arr=mean(ArrDelay, na.rm=T), dep=mean(DepDelay, na.rm=T))\n",
    "a4 <- filter(a3, arr>30 | dep>30)\n",
    "a4"
   ]
  },
  {
   "cell_type": "code",
   "execution_count": 60,
   "metadata": {
    "collapsed": false
   },
   "outputs": [
    {
     "data": {
      "text/html": [
       "<table>\n",
       "<thead><tr><th scope=col>Year</th><th scope=col>Month</th><th scope=col>DayofMonth</th><th scope=col>arr</th><th scope=col>dep</th></tr></thead>\n",
       "<tbody>\n",
       "\t<tr><td>2011    </td><td> 2      </td><td> 4      </td><td>44.08088</td><td>47.17216</td></tr>\n",
       "\t<tr><td>2011    </td><td> 3      </td><td> 3      </td><td>35.12898</td><td>38.20064</td></tr>\n",
       "\t<tr><td>2011    </td><td> 3      </td><td>14      </td><td>46.63830</td><td>36.13657</td></tr>\n",
       "\t<tr><td>2011    </td><td> 4      </td><td> 4      </td><td>38.71651</td><td>27.94915</td></tr>\n",
       "\t<tr><td>2011    </td><td> 4      </td><td>25      </td><td>37.79845</td><td>22.25574</td></tr>\n",
       "\t<tr><td>2011    </td><td> 5      </td><td>12      </td><td>69.52046</td><td>64.52039</td></tr>\n",
       "\t<tr><td>2011    </td><td> 5      </td><td>20      </td><td>37.02857</td><td>26.55090</td></tr>\n",
       "\t<tr><td>2011    </td><td> 6      </td><td>22      </td><td>65.51852</td><td>62.30979</td></tr>\n",
       "\t<tr><td>2011    </td><td> 7      </td><td>29      </td><td>29.55755</td><td>31.86944</td></tr>\n",
       "\t<tr><td>2011    </td><td> 9      </td><td>29      </td><td>39.19649</td><td>32.49528</td></tr>\n",
       "\t<tr><td>2011    </td><td>10      </td><td> 9      </td><td>61.90172</td><td>59.52586</td></tr>\n",
       "\t<tr><td>2011    </td><td>11      </td><td>15      </td><td>43.68134</td><td>39.23333</td></tr>\n",
       "\t<tr><td>2011    </td><td>12      </td><td>29      </td><td>26.30096</td><td>30.78855</td></tr>\n",
       "\t<tr><td>2011    </td><td>12      </td><td>31      </td><td>46.48465</td><td>54.17137</td></tr>\n",
       "</tbody>\n",
       "</table>\n"
      ],
      "text/latex": [
       "\\begin{tabular}{r|lllll}\n",
       " Year & Month & DayofMonth & arr & dep\\\\\n",
       "\\hline\n",
       "\t 2011     &  2       &  4       & 44.08088 & 47.17216\\\\\n",
       "\t 2011     &  3       &  3       & 35.12898 & 38.20064\\\\\n",
       "\t 2011     &  3       & 14       & 46.63830 & 36.13657\\\\\n",
       "\t 2011     &  4       &  4       & 38.71651 & 27.94915\\\\\n",
       "\t 2011     &  4       & 25       & 37.79845 & 22.25574\\\\\n",
       "\t 2011     &  5       & 12       & 69.52046 & 64.52039\\\\\n",
       "\t 2011     &  5       & 20       & 37.02857 & 26.55090\\\\\n",
       "\t 2011     &  6       & 22       & 65.51852 & 62.30979\\\\\n",
       "\t 2011     &  7       & 29       & 29.55755 & 31.86944\\\\\n",
       "\t 2011     &  9       & 29       & 39.19649 & 32.49528\\\\\n",
       "\t 2011     & 10       &  9       & 61.90172 & 59.52586\\\\\n",
       "\t 2011     & 11       & 15       & 43.68134 & 39.23333\\\\\n",
       "\t 2011     & 12       & 29       & 26.30096 & 30.78855\\\\\n",
       "\t 2011     & 12       & 31       & 46.48465 & 54.17137\\\\\n",
       "\\end{tabular}\n"
      ],
      "text/markdown": [
       "\n",
       "Year | Month | DayofMonth | arr | dep | \n",
       "|---|---|---|---|---|---|---|---|---|---|---|---|---|---|\n",
       "| 2011     |  2       |  4       | 44.08088 | 47.17216 | \n",
       "| 2011     |  3       |  3       | 35.12898 | 38.20064 | \n",
       "| 2011     |  3       | 14       | 46.63830 | 36.13657 | \n",
       "| 2011     |  4       |  4       | 38.71651 | 27.94915 | \n",
       "| 2011     |  4       | 25       | 37.79845 | 22.25574 | \n",
       "| 2011     |  5       | 12       | 69.52046 | 64.52039 | \n",
       "| 2011     |  5       | 20       | 37.02857 | 26.55090 | \n",
       "| 2011     |  6       | 22       | 65.51852 | 62.30979 | \n",
       "| 2011     |  7       | 29       | 29.55755 | 31.86944 | \n",
       "| 2011     |  9       | 29       | 39.19649 | 32.49528 | \n",
       "| 2011     | 10       |  9       | 61.90172 | 59.52586 | \n",
       "| 2011     | 11       | 15       | 43.68134 | 39.23333 | \n",
       "| 2011     | 12       | 29       | 26.30096 | 30.78855 | \n",
       "| 2011     | 12       | 31       | 46.48465 | 54.17137 | \n",
       "\n",
       "\n"
      ],
      "text/plain": [
       "   Year Month DayofMonth arr      dep     \n",
       "1  2011  2     4         44.08088 47.17216\n",
       "2  2011  3     3         35.12898 38.20064\n",
       "3  2011  3    14         46.63830 36.13657\n",
       "4  2011  4     4         38.71651 27.94915\n",
       "5  2011  4    25         37.79845 22.25574\n",
       "6  2011  5    12         69.52046 64.52039\n",
       "7  2011  5    20         37.02857 26.55090\n",
       "8  2011  6    22         65.51852 62.30979\n",
       "9  2011  7    29         29.55755 31.86944\n",
       "10 2011  9    29         39.19649 32.49528\n",
       "11 2011 10     9         61.90172 59.52586\n",
       "12 2011 11    15         43.68134 39.23333\n",
       "13 2011 12    29         26.30096 30.78855\n",
       "14 2011 12    31         46.48465 54.17137"
      ]
     },
     "metadata": {},
     "output_type": "display_data"
    }
   ],
   "source": [
    "hflights %>% group_by(Year, Month, DayofMonth) %>% select(Year:DayofMonth, ArrDelay, DepDelay) %>% summarize(\n",
    "arr=mean(ArrDelay, na.rm=T), dep=mean(DepDelay, na.rm=T)) %>% filter(arr>30 | dep>30)"
   ]
  },
  {
   "cell_type": "markdown",
   "metadata": {},
   "source": [
    "# Control Structures"
   ]
  },
  {
   "cell_type": "code",
   "execution_count": 61,
   "metadata": {
    "collapsed": false
   },
   "outputs": [
    {
     "data": {
      "text/html": [
       "8.03297603037208"
      ],
      "text/latex": [
       "8.03297603037208"
      ],
      "text/markdown": [
       "8.03297603037208"
      ],
      "text/plain": [
       "[1] 8.032976"
      ]
     },
     "metadata": {},
     "output_type": "display_data"
    },
    {
     "data": {
      "text/html": [
       "10"
      ],
      "text/latex": [
       "10"
      ],
      "text/markdown": [
       "10"
      ],
      "text/plain": [
       "[1] 10"
      ]
     },
     "metadata": {},
     "output_type": "display_data"
    }
   ],
   "source": [
    "# using if else, generate a uniform random number\n",
    "x <- runif(1,0,10)\n",
    "if(x>3) {\n",
    "    y <- 10\n",
    "    } else {\n",
    "    y <- 0\n",
    "}\n",
    "\n",
    "x\n",
    "y"
   ]
  },
  {
   "cell_type": "code",
   "execution_count": 62,
   "metadata": {
    "collapsed": false
   },
   "outputs": [
    {
     "name": "stdout",
     "output_type": "stream",
     "text": [
      "[1] 1\n",
      "[1] 2\n",
      "[1] 3\n",
      "[1] 4\n",
      "[1] 5\n",
      "[1] 6\n",
      "[1] 7\n",
      "[1] 8\n",
      "[1] 9\n",
      "[1] 10\n"
     ]
    }
   ],
   "source": [
    "## for loops\n",
    "for(i in 1:10) {\n",
    "    print(i)\n",
    "}"
   ]
  },
  {
   "cell_type": "code",
   "execution_count": 63,
   "metadata": {
    "collapsed": false
   },
   "outputs": [
    {
     "name": "stdout",
     "output_type": "stream",
     "text": [
      "[1] \"a\"\n",
      "[1] \"b\"\n",
      "[1] \"c\"\n",
      "[1] \"d\"\n"
     ]
    }
   ],
   "source": [
    "x <- c(\"a\",\"b\",\"c\",\"d\")\n",
    "for (i in 1:4) {\n",
    "    print(x[i])\n",
    "}"
   ]
  },
  {
   "cell_type": "markdown",
   "metadata": {},
   "source": [
    "# Simulation"
   ]
  },
  {
   "cell_type": "markdown",
   "metadata": {},
   "source": [
    "1. rnorm: generate random Normal variates with a given mean and standard deviation\n",
    "2. dnorm: evaluate the Normal probability density (with a given mean/SD) at a point (or vector\n",
    "of points)\n",
    "3. pnorm: evaluate the cumulative distribution function for a Normal distribution\n",
    "4. rpois: generate random Poisson variates with a given rate"
   ]
  },
  {
   "cell_type": "code",
   "execution_count": 64,
   "metadata": {
    "collapsed": false
   },
   "outputs": [
    {
     "data": {
      "text/html": [
       "<ol class=list-inline>\n",
       "\t<li>1.79801419215431</li>\n",
       "\t<li>-1.3060305753056</li>\n",
       "\t<li>0.116184230767437</li>\n",
       "\t<li>0.413751582296688</li>\n",
       "\t<li>-1.26574486488355</li>\n",
       "\t<li>0.520567596669839</li>\n",
       "\t<li>-1.23636801177694</li>\n",
       "\t<li>-1.44631668489009</li>\n",
       "\t<li>-0.204169828446759</li>\n",
       "\t<li>-0.0846755370657154</li>\n",
       "</ol>\n"
      ],
      "text/latex": [
       "\\begin{enumerate*}\n",
       "\\item 1.79801419215431\n",
       "\\item -1.3060305753056\n",
       "\\item 0.116184230767437\n",
       "\\item 0.413751582296688\n",
       "\\item -1.26574486488355\n",
       "\\item 0.520567596669839\n",
       "\\item -1.23636801177694\n",
       "\\item -1.44631668489009\n",
       "\\item -0.204169828446759\n",
       "\\item -0.0846755370657154\n",
       "\\end{enumerate*}\n"
      ],
      "text/markdown": [
       "1. 1.79801419215431\n",
       "2. -1.3060305753056\n",
       "3. 0.116184230767437\n",
       "4. 0.413751582296688\n",
       "5. -1.26574486488355\n",
       "6. 0.520567596669839\n",
       "7. -1.23636801177694\n",
       "8. -1.44631668489009\n",
       "9. -0.204169828446759\n",
       "10. -0.0846755370657154\n",
       "\n",
       "\n"
      ],
      "text/plain": [
       " [1]  1.79801419 -1.30603058  0.11618423  0.41375158 -1.26574486  0.52056760\n",
       " [7] -1.23636801 -1.44631668 -0.20416983 -0.08467554"
      ]
     },
     "metadata": {},
     "output_type": "display_data"
    }
   ],
   "source": [
    "## simulate standard normal random numbers\n",
    "x <- rnorm(10)\n",
    "x"
   ]
  },
  {
   "cell_type": "code",
   "execution_count": 65,
   "metadata": {
    "collapsed": false
   },
   "outputs": [
    {
     "data": {
      "text/plain": [
       "   Min. 1st Qu.  Median    Mean 3rd Qu.    Max. \n",
       "-1.4460 -1.2580 -0.1444 -0.2695  0.3394  1.7980 "
      ]
     },
     "metadata": {},
     "output_type": "display_data"
    }
   ],
   "source": [
    "summary(x)"
   ]
  },
  {
   "cell_type": "code",
   "execution_count": 66,
   "metadata": {
    "collapsed": false
   },
   "outputs": [
    {
     "data": {
      "text/plain": [
       "   Min. 1st Qu.  Median    Mean 3rd Qu.    Max. \n",
       "  17.55   18.61   19.99   19.84   21.06   21.99 "
      ]
     },
     "metadata": {},
     "output_type": "display_data"
    }
   ],
   "source": [
    "## modify mean 20 and SD of 2\n",
    "x <- rnorm(10,20,2)\n",
    "summary(x)"
   ]
  },
  {
   "cell_type": "markdown",
   "metadata": {},
   "source": [
    "If you wanted to know what was the probability of a random Normal variable of being less than,\n",
    "say, 2, you could use the pnorm() function to do that calculation."
   ]
  },
  {
   "cell_type": "code",
   "execution_count": 67,
   "metadata": {
    "collapsed": false
   },
   "outputs": [
    {
     "data": {
      "text/html": [
       "0.977249868051821"
      ],
      "text/latex": [
       "0.977249868051821"
      ],
      "text/markdown": [
       "0.977249868051821"
      ],
      "text/plain": [
       "[1] 0.9772499"
      ]
     },
     "metadata": {},
     "output_type": "display_data"
    }
   ],
   "source": [
    "pnorm(2)"
   ]
  },
  {
   "cell_type": "code",
   "execution_count": 68,
   "metadata": {
    "collapsed": false
   },
   "outputs": [
    {
     "data": {
      "text/html": [
       "<table>\n",
       "<thead><tr><th scope=col>Ozone</th><th scope=col>Solar.R</th><th scope=col>Wind</th><th scope=col>Temp</th><th scope=col>Month</th><th scope=col>Day</th></tr></thead>\n",
       "<tbody>\n",
       "\t<tr><td>41  </td><td>190 </td><td> 7.4</td><td>67  </td><td>5   </td><td>1   </td></tr>\n",
       "\t<tr><td>36  </td><td>118 </td><td> 8.0</td><td>72  </td><td>5   </td><td>2   </td></tr>\n",
       "\t<tr><td>12  </td><td>149 </td><td>12.6</td><td>74  </td><td>5   </td><td>3   </td></tr>\n",
       "\t<tr><td>18  </td><td>313 </td><td>11.5</td><td>62  </td><td>5   </td><td>4   </td></tr>\n",
       "\t<tr><td>NA  </td><td> NA </td><td>14.3</td><td>56  </td><td>5   </td><td>5   </td></tr>\n",
       "\t<tr><td>28  </td><td> NA </td><td>14.9</td><td>66  </td><td>5   </td><td>6   </td></tr>\n",
       "</tbody>\n",
       "</table>\n"
      ],
      "text/latex": [
       "\\begin{tabular}{r|llllll}\n",
       " Ozone & Solar.R & Wind & Temp & Month & Day\\\\\n",
       "\\hline\n",
       "\t 41   & 190  &  7.4 & 67   & 5    & 1   \\\\\n",
       "\t 36   & 118  &  8.0 & 72   & 5    & 2   \\\\\n",
       "\t 12   & 149  & 12.6 & 74   & 5    & 3   \\\\\n",
       "\t 18   & 313  & 11.5 & 62   & 5    & 4   \\\\\n",
       "\t NA   &  NA  & 14.3 & 56   & 5    & 5   \\\\\n",
       "\t 28   &  NA  & 14.9 & 66   & 5    & 6   \\\\\n",
       "\\end{tabular}\n"
      ],
      "text/markdown": [
       "\n",
       "Ozone | Solar.R | Wind | Temp | Month | Day | \n",
       "|---|---|---|---|---|---|\n",
       "| 41   | 190  |  7.4 | 67   | 5    | 1    | \n",
       "| 36   | 118  |  8.0 | 72   | 5    | 2    | \n",
       "| 12   | 149  | 12.6 | 74   | 5    | 3    | \n",
       "| 18   | 313  | 11.5 | 62   | 5    | 4    | \n",
       "| NA   |  NA  | 14.3 | 56   | 5    | 5    | \n",
       "| 28   |  NA  | 14.9 | 66   | 5    | 6    | \n",
       "\n",
       "\n"
      ],
      "text/plain": [
       "  Ozone Solar.R Wind Temp Month Day\n",
       "1 41    190      7.4 67   5     1  \n",
       "2 36    118      8.0 72   5     2  \n",
       "3 12    149     12.6 74   5     3  \n",
       "4 18    313     11.5 62   5     4  \n",
       "5 NA     NA     14.3 56   5     5  \n",
       "6 28     NA     14.9 66   5     6  "
      ]
     },
     "metadata": {},
     "output_type": "display_data"
    }
   ],
   "source": [
    "## sampling rows from a dataframe\n",
    "library(datasets)\n",
    "data(airquality)\n",
    "head(airquality)"
   ]
  },
  {
   "cell_type": "code",
   "execution_count": 69,
   "metadata": {
    "collapsed": false
   },
   "outputs": [
    {
     "data": {
      "text/html": [
       "<table>\n",
       "<thead><tr><th></th><th scope=col>Ozone</th><th scope=col>Solar.R</th><th scope=col>Wind</th><th scope=col>Temp</th><th scope=col>Month</th><th scope=col>Day</th></tr></thead>\n",
       "<tbody>\n",
       "\t<tr><th scope=row>142</th><td>24  </td><td>238 </td><td>10.3</td><td>68  </td><td>9   </td><td>19  </td></tr>\n",
       "\t<tr><th scope=row>135</th><td>21  </td><td>259 </td><td>15.5</td><td>76  </td><td>9   </td><td>12  </td></tr>\n",
       "\t<tr><th scope=row>61</th><td>NA  </td><td>138 </td><td> 8.0</td><td>83  </td><td>6   </td><td>30  </td></tr>\n",
       "\t<tr><th scope=row>39</th><td>NA  </td><td>273 </td><td> 6.9</td><td>87  </td><td>6   </td><td> 8  </td></tr>\n",
       "\t<tr><th scope=row>124</th><td>96  </td><td>167 </td><td> 6.9</td><td>91  </td><td>9   </td><td> 1  </td></tr>\n",
       "\t<tr><th scope=row>147</th><td> 7  </td><td> 49 </td><td>10.3</td><td>69  </td><td>9   </td><td>24  </td></tr>\n",
       "</tbody>\n",
       "</table>\n"
      ],
      "text/latex": [
       "\\begin{tabular}{r|llllll}\n",
       "  & Ozone & Solar.R & Wind & Temp & Month & Day\\\\\n",
       "\\hline\n",
       "\t142 & 24   & 238  & 10.3 & 68   & 9    & 19  \\\\\n",
       "\t135 & 21   & 259  & 15.5 & 76   & 9    & 12  \\\\\n",
       "\t61 & NA   & 138  &  8.0 & 83   & 6    & 30  \\\\\n",
       "\t39 & NA   & 273  &  6.9 & 87   & 6    &  8  \\\\\n",
       "\t124 & 96   & 167  &  6.9 & 91   & 9    &  1  \\\\\n",
       "\t147 &  7   &  49  & 10.3 & 69   & 9    & 24  \\\\\n",
       "\\end{tabular}\n"
      ],
      "text/markdown": [
       "\n",
       "| <!--/--> | Ozone | Solar.R | Wind | Temp | Month | Day | \n",
       "|---|---|---|---|---|---|\n",
       "| 142 | 24   | 238  | 10.3 | 68   | 9    | 19   | \n",
       "| 135 | 21   | 259  | 15.5 | 76   | 9    | 12   | \n",
       "| 61 | NA   | 138  |  8.0 | 83   | 6    | 30   | \n",
       "| 39 | NA   | 273  |  6.9 | 87   | 6    |  8   | \n",
       "| 124 | 96   | 167  |  6.9 | 91   | 9    |  1   | \n",
       "| 147 |  7   |  49  | 10.3 | 69   | 9    | 24   | \n",
       "\n",
       "\n"
      ],
      "text/plain": [
       "    Ozone Solar.R Wind Temp Month Day\n",
       "142 24    238     10.3 68   9     19 \n",
       "135 21    259     15.5 76   9     12 \n",
       "61  NA    138      8.0 83   6     30 \n",
       "39  NA    273      6.9 87   6      8 \n",
       "124 96    167      6.9 91   9      1 \n",
       "147  7     49     10.3 69   9     24 "
      ]
     },
     "metadata": {},
     "output_type": "display_data"
    }
   ],
   "source": [
    "# create index vector and sample from rows of index vector\n",
    "idx <- seq_len(nrow(airquality))\n",
    "\n",
    "# sample from the index vector\n",
    "samp <- sample(idx, 6)\n",
    "\n",
    "airquality[samp, ]"
   ]
  },
  {
   "cell_type": "markdown",
   "metadata": {},
   "source": [
    "## case Study"
   ]
  },
  {
   "cell_type": "code",
   "execution_count": 70,
   "metadata": {
    "collapsed": false
   },
   "outputs": [
    {
     "data": {
      "text/html": [
       "<ol class=list-inline>\n",
       "\t<li>117421</li>\n",
       "\t<li>28</li>\n",
       "</ol>\n"
      ],
      "text/latex": [
       "\\begin{enumerate*}\n",
       "\\item 117421\n",
       "\\item 28\n",
       "\\end{enumerate*}\n"
      ],
      "text/markdown": [
       "1. 117421\n",
       "2. 28\n",
       "\n",
       "\n"
      ],
      "text/plain": [
       "[1] 117421     28"
      ]
     },
     "metadata": {},
     "output_type": "display_data"
    }
   ],
   "source": [
    "# reading the 1999 data\n",
    "pm0 <- read.table(\"RD_501_88101_1999-0.txt\", comment.char = \"#\", header=FALSE, sep=\"|\", na.strings=\"\")\n",
    "dim(pm0)\n"
   ]
  },
  {
   "cell_type": "code",
   "execution_count": 71,
   "metadata": {
    "collapsed": false
   },
   "outputs": [
    {
     "data": {
      "text/html": [
       "<table>\n",
       "<thead><tr><th scope=col>V1</th><th scope=col>V2</th><th scope=col>V3</th><th scope=col>V4</th><th scope=col>V5</th><th scope=col>V6</th><th scope=col>V7</th><th scope=col>V8</th><th scope=col>V9</th><th scope=col>V10</th></tr></thead>\n",
       "<tbody>\n",
       "\t<tr><td>RD   </td><td>I    </td><td>1    </td><td>27   </td><td>1    </td><td>88101</td><td>1    </td><td>7    </td><td>105  </td><td>120  </td></tr>\n",
       "\t<tr><td>RD   </td><td>I    </td><td>1    </td><td>27   </td><td>1    </td><td>88101</td><td>1    </td><td>7    </td><td>105  </td><td>120  </td></tr>\n",
       "\t<tr><td>RD   </td><td>I    </td><td>1    </td><td>27   </td><td>1    </td><td>88101</td><td>1    </td><td>7    </td><td>105  </td><td>120  </td></tr>\n",
       "\t<tr><td>RD   </td><td>I    </td><td>1    </td><td>27   </td><td>1    </td><td>88101</td><td>1    </td><td>7    </td><td>105  </td><td>120  </td></tr>\n",
       "\t<tr><td>RD   </td><td>I    </td><td>1    </td><td>27   </td><td>1    </td><td>88101</td><td>1    </td><td>7    </td><td>105  </td><td>120  </td></tr>\n",
       "\t<tr><td>RD   </td><td>I    </td><td>1    </td><td>27   </td><td>1    </td><td>88101</td><td>1    </td><td>7    </td><td>105  </td><td>120  </td></tr>\n",
       "</tbody>\n",
       "</table>\n"
      ],
      "text/latex": [
       "\\begin{tabular}{r|llllllllll}\n",
       " V1 & V2 & V3 & V4 & V5 & V6 & V7 & V8 & V9 & V10\\\\\n",
       "\\hline\n",
       "\t RD    & I     & 1     & 27    & 1     & 88101 & 1     & 7     & 105   & 120  \\\\\n",
       "\t RD    & I     & 1     & 27    & 1     & 88101 & 1     & 7     & 105   & 120  \\\\\n",
       "\t RD    & I     & 1     & 27    & 1     & 88101 & 1     & 7     & 105   & 120  \\\\\n",
       "\t RD    & I     & 1     & 27    & 1     & 88101 & 1     & 7     & 105   & 120  \\\\\n",
       "\t RD    & I     & 1     & 27    & 1     & 88101 & 1     & 7     & 105   & 120  \\\\\n",
       "\t RD    & I     & 1     & 27    & 1     & 88101 & 1     & 7     & 105   & 120  \\\\\n",
       "\\end{tabular}\n"
      ],
      "text/markdown": [
       "\n",
       "V1 | V2 | V3 | V4 | V5 | V6 | V7 | V8 | V9 | V10 | \n",
       "|---|---|---|---|---|---|\n",
       "| RD    | I     | 1     | 27    | 1     | 88101 | 1     | 7     | 105   | 120   | \n",
       "| RD    | I     | 1     | 27    | 1     | 88101 | 1     | 7     | 105   | 120   | \n",
       "| RD    | I     | 1     | 27    | 1     | 88101 | 1     | 7     | 105   | 120   | \n",
       "| RD    | I     | 1     | 27    | 1     | 88101 | 1     | 7     | 105   | 120   | \n",
       "| RD    | I     | 1     | 27    | 1     | 88101 | 1     | 7     | 105   | 120   | \n",
       "| RD    | I     | 1     | 27    | 1     | 88101 | 1     | 7     | 105   | 120   | \n",
       "\n",
       "\n"
      ],
      "text/plain": [
       "  V1 V2 V3 V4 V5 V6    V7 V8 V9  V10\n",
       "1 RD I  1  27 1  88101 1  7  105 120\n",
       "2 RD I  1  27 1  88101 1  7  105 120\n",
       "3 RD I  1  27 1  88101 1  7  105 120\n",
       "4 RD I  1  27 1  88101 1  7  105 120\n",
       "5 RD I  1  27 1  88101 1  7  105 120\n",
       "6 RD I  1  27 1  88101 1  7  105 120"
      ]
     },
     "metadata": {},
     "output_type": "display_data"
    }
   ],
   "source": [
    "head(pm0[,1:10])"
   ]
  },
  {
   "cell_type": "code",
   "execution_count": 72,
   "metadata": {
    "collapsed": false
   },
   "outputs": [
    {
     "data": {
      "text/html": [
       "<table>\n",
       "<thead><tr><th scope=col>X..RD</th><th scope=col>Action.Code</th><th scope=col>State.Code</th><th scope=col>County.Code</th><th scope=col>Site.ID</th><th scope=col>Parameter</th><th scope=col>POC</th><th scope=col>Sample.Duration</th><th scope=col>Unit</th><th scope=col>Method</th><th scope=col>Date</th><th scope=col>Start.Time</th><th scope=col>Sample.Value</th></tr></thead>\n",
       "<tbody>\n",
       "\t<tr><td>RD      </td><td>I       </td><td>1       </td><td>27      </td><td>1       </td><td>88101   </td><td>1       </td><td>7       </td><td>105     </td><td>120     </td><td>19990103</td><td>00:00   </td><td>    NA  </td></tr>\n",
       "\t<tr><td>RD      </td><td>I       </td><td>1       </td><td>27      </td><td>1       </td><td>88101   </td><td>1       </td><td>7       </td><td>105     </td><td>120     </td><td>19990106</td><td>00:00   </td><td>    NA  </td></tr>\n",
       "\t<tr><td>RD      </td><td>I       </td><td>1       </td><td>27      </td><td>1       </td><td>88101   </td><td>1       </td><td>7       </td><td>105     </td><td>120     </td><td>19990109</td><td>00:00   </td><td>    NA  </td></tr>\n",
       "\t<tr><td>RD      </td><td>I       </td><td>1       </td><td>27      </td><td>1       </td><td>88101   </td><td>1       </td><td>7       </td><td>105     </td><td>120     </td><td>19990112</td><td>00:00   </td><td> 8.841  </td></tr>\n",
       "\t<tr><td>RD      </td><td>I       </td><td>1       </td><td>27      </td><td>1       </td><td>88101   </td><td>1       </td><td>7       </td><td>105     </td><td>120     </td><td>19990115</td><td>00:00   </td><td>14.920  </td></tr>\n",
       "\t<tr><td>RD      </td><td>I       </td><td>1       </td><td>27      </td><td>1       </td><td>88101   </td><td>1       </td><td>7       </td><td>105     </td><td>120     </td><td>19990118</td><td>00:00   </td><td> 3.878  </td></tr>\n",
       "</tbody>\n",
       "</table>\n"
      ],
      "text/latex": [
       "\\begin{tabular}{r|lllllllllllll}\n",
       " X..RD & Action.Code & State.Code & County.Code & Site.ID & Parameter & POC & Sample.Duration & Unit & Method & Date & Start.Time & Sample.Value\\\\\n",
       "\\hline\n",
       "\t RD       & I        & 1        & 27       & 1        & 88101    & 1        & 7        & 105      & 120      & 19990103 & 00:00    &     NA  \\\\\n",
       "\t RD       & I        & 1        & 27       & 1        & 88101    & 1        & 7        & 105      & 120      & 19990106 & 00:00    &     NA  \\\\\n",
       "\t RD       & I        & 1        & 27       & 1        & 88101    & 1        & 7        & 105      & 120      & 19990109 & 00:00    &     NA  \\\\\n",
       "\t RD       & I        & 1        & 27       & 1        & 88101    & 1        & 7        & 105      & 120      & 19990112 & 00:00    &  8.841  \\\\\n",
       "\t RD       & I        & 1        & 27       & 1        & 88101    & 1        & 7        & 105      & 120      & 19990115 & 00:00    & 14.920  \\\\\n",
       "\t RD       & I        & 1        & 27       & 1        & 88101    & 1        & 7        & 105      & 120      & 19990118 & 00:00    &  3.878  \\\\\n",
       "\\end{tabular}\n"
      ],
      "text/markdown": [
       "\n",
       "X..RD | Action.Code | State.Code | County.Code | Site.ID | Parameter | POC | Sample.Duration | Unit | Method | Date | Start.Time | Sample.Value | \n",
       "|---|---|---|---|---|---|\n",
       "| RD       | I        | 1        | 27       | 1        | 88101    | 1        | 7        | 105      | 120      | 19990103 | 00:00    |     NA   | \n",
       "| RD       | I        | 1        | 27       | 1        | 88101    | 1        | 7        | 105      | 120      | 19990106 | 00:00    |     NA   | \n",
       "| RD       | I        | 1        | 27       | 1        | 88101    | 1        | 7        | 105      | 120      | 19990109 | 00:00    |     NA   | \n",
       "| RD       | I        | 1        | 27       | 1        | 88101    | 1        | 7        | 105      | 120      | 19990112 | 00:00    |  8.841   | \n",
       "| RD       | I        | 1        | 27       | 1        | 88101    | 1        | 7        | 105      | 120      | 19990115 | 00:00    | 14.920   | \n",
       "| RD       | I        | 1        | 27       | 1        | 88101    | 1        | 7        | 105      | 120      | 19990118 | 00:00    |  3.878   | \n",
       "\n",
       "\n"
      ],
      "text/plain": [
       "  X..RD Action.Code State.Code County.Code Site.ID Parameter POC\n",
       "1 RD    I           1          27          1       88101     1  \n",
       "2 RD    I           1          27          1       88101     1  \n",
       "3 RD    I           1          27          1       88101     1  \n",
       "4 RD    I           1          27          1       88101     1  \n",
       "5 RD    I           1          27          1       88101     1  \n",
       "6 RD    I           1          27          1       88101     1  \n",
       "  Sample.Duration Unit Method Date     Start.Time Sample.Value\n",
       "1 7               105  120    19990103 00:00          NA      \n",
       "2 7               105  120    19990106 00:00          NA      \n",
       "3 7               105  120    19990109 00:00          NA      \n",
       "4 7               105  120    19990112 00:00       8.841      \n",
       "5 7               105  120    19990115 00:00      14.920      \n",
       "6 7               105  120    19990118 00:00       3.878      "
      ]
     },
     "metadata": {},
     "output_type": "display_data"
    }
   ],
   "source": [
    "cnames <- readLines(\"RD_501_88101_1999-0.txt\", 1)\n",
    "cnames <- strsplit(cnames, \"|\", fixed = TRUE)\n",
    "names(pm0) <- make.names(cnames[[1]])\n",
    "head(pm0[, 1:13])\n",
    "\n"
   ]
  },
  {
   "cell_type": "code",
   "execution_count": 73,
   "metadata": {
    "collapsed": false
   },
   "outputs": [
    {
     "data": {
      "text/plain": [
       "   Min. 1st Qu.  Median    Mean 3rd Qu.    Max.    NA's \n",
       "   0.00    7.20   11.50   13.74   17.90  157.10   13217 "
      ]
     },
     "metadata": {},
     "output_type": "display_data"
    }
   ],
   "source": [
    "x0 <- pm0$Sample.Value\n",
    "summary(x0)"
   ]
  },
  {
   "cell_type": "code",
   "execution_count": 74,
   "metadata": {
    "collapsed": false
   },
   "outputs": [
    {
     "data": {
      "text/html": [
       "0.112560785549433"
      ],
      "text/latex": [
       "0.112560785549433"
      ],
      "text/markdown": [
       "0.112560785549433"
      ],
      "text/plain": [
       "[1] 0.1125608"
      ]
     },
     "metadata": {},
     "output_type": "display_data"
    }
   ],
   "source": [
    "# lets check proportion of missing values\n",
    "mean(is.na(x0))"
   ]
  },
  {
   "cell_type": "code",
   "execution_count": 75,
   "metadata": {
    "collapsed": false
   },
   "outputs": [
    {
     "name": "stderr",
     "output_type": "stream",
     "text": [
      "Warning message in scan(file = file, what = what, sep = sep, quote = quote, dec = dec, :\n",
      "\"EOF within quoted string\""
     ]
    }
   ],
   "source": [
    "# Reading the 2012 data\n",
    "pm1 <- read.table(\"RD_501_88101_2012-0.txt\", comment.char = \"#\", header = FALSE, sep = \"|\", na.strings = \"\", nrow = 1304290)\n",
    "\n",
    "cnames <- readLines(\"RD_501_88101_2012-0.txt\", 1)\n",
    "cnames <- strsplit(cnames, \"|\", fixed = TRUE)\n",
    "names(pm1) <- make.names(cnames[[1]])\n",
    "x1 <- pm1$Sample.Value"
   ]
  },
  {
   "cell_type": "code",
   "execution_count": 76,
   "metadata": {
    "collapsed": false
   },
   "outputs": [
    {
     "data": {
      "text/plain": [
       "NULL"
      ]
     },
     "metadata": {},
     "output_type": "display_data"
    }
   ],
   "source": [
    "x1"
   ]
  },
  {
   "cell_type": "code",
   "execution_count": 77,
   "metadata": {
    "collapsed": false
   },
   "outputs": [
    {
     "name": "stderr",
     "output_type": "stream",
     "text": [
      "Warning message in bplt(at[i], wid = width[i], stats = z$stats[, i], out = z$out[z$group == :\n",
      "\"Outlier (-Inf) in boxplot 1 is not drawn\""
     ]
    },
    {
     "data": {
      "image/png": "[encoded data removed]",
      "text/plain": [
       "plot without title"
      ]
     },
     "metadata": {},
     "output_type": "display_data"
    }
   ],
   "source": [
    "boxplot(log2(x0))\n"
   ]
  },
  {
   "cell_type": "markdown",
   "metadata": {},
   "source": [
    "## Graphs in R"
   ]
  },
  {
   "cell_type": "markdown",
   "metadata": {},
   "source": [
    "## Box plots\n"
   ]
  },
  {
   "cell_type": "code",
   "execution_count": 78,
   "metadata": {
    "collapsed": false
   },
   "outputs": [
    {
     "data": {
      "text/html": [
       "<table>\n",
       "<thead><tr><th></th><th scope=col>mpg</th><th scope=col>cyl</th><th scope=col>disp</th><th scope=col>hp</th><th scope=col>drat</th><th scope=col>wt</th><th scope=col>qsec</th><th scope=col>vs</th><th scope=col>am</th><th scope=col>gear</th><th scope=col>carb</th></tr></thead>\n",
       "<tbody>\n",
       "\t<tr><th scope=row>Mazda RX4</th><td>21.0 </td><td>6    </td><td>160  </td><td>110  </td><td>3.90 </td><td>2.620</td><td>16.46</td><td>0    </td><td>1    </td><td>4    </td><td>4    </td></tr>\n",
       "\t<tr><th scope=row>Mazda RX4 Wag</th><td>21.0 </td><td>6    </td><td>160  </td><td>110  </td><td>3.90 </td><td>2.875</td><td>17.02</td><td>0    </td><td>1    </td><td>4    </td><td>4    </td></tr>\n",
       "\t<tr><th scope=row>Datsun 710</th><td>22.8 </td><td>4    </td><td>108  </td><td> 93  </td><td>3.85 </td><td>2.320</td><td>18.61</td><td>1    </td><td>1    </td><td>4    </td><td>1    </td></tr>\n",
       "\t<tr><th scope=row>Hornet 4 Drive</th><td>21.4 </td><td>6    </td><td>258  </td><td>110  </td><td>3.08 </td><td>3.215</td><td>19.44</td><td>1    </td><td>0    </td><td>3    </td><td>1    </td></tr>\n",
       "\t<tr><th scope=row>Hornet Sportabout</th><td>18.7 </td><td>8    </td><td>360  </td><td>175  </td><td>3.15 </td><td>3.440</td><td>17.02</td><td>0    </td><td>0    </td><td>3    </td><td>2    </td></tr>\n",
       "\t<tr><th scope=row>Valiant</th><td>18.1 </td><td>6    </td><td>225  </td><td>105  </td><td>2.76 </td><td>3.460</td><td>20.22</td><td>1    </td><td>0    </td><td>3    </td><td>1    </td></tr>\n",
       "</tbody>\n",
       "</table>\n"
      ],
      "text/latex": [
       "\\begin{tabular}{r|lllllllllll}\n",
       "  & mpg & cyl & disp & hp & drat & wt & qsec & vs & am & gear & carb\\\\\n",
       "\\hline\n",
       "\tMazda RX4 & 21.0  & 6     & 160   & 110   & 3.90  & 2.620 & 16.46 & 0     & 1     & 4     & 4    \\\\\n",
       "\tMazda RX4 Wag & 21.0  & 6     & 160   & 110   & 3.90  & 2.875 & 17.02 & 0     & 1     & 4     & 4    \\\\\n",
       "\tDatsun 710 & 22.8  & 4     & 108   &  93   & 3.85  & 2.320 & 18.61 & 1     & 1     & 4     & 1    \\\\\n",
       "\tHornet 4 Drive & 21.4  & 6     & 258   & 110   & 3.08  & 3.215 & 19.44 & 1     & 0     & 3     & 1    \\\\\n",
       "\tHornet Sportabout & 18.7  & 8     & 360   & 175   & 3.15  & 3.440 & 17.02 & 0     & 0     & 3     & 2    \\\\\n",
       "\tValiant & 18.1  & 6     & 225   & 105   & 2.76  & 3.460 & 20.22 & 1     & 0     & 3     & 1    \\\\\n",
       "\\end{tabular}\n"
      ],
      "text/markdown": [
       "\n",
       "| <!--/--> | mpg | cyl | disp | hp | drat | wt | qsec | vs | am | gear | carb | \n",
       "|---|---|---|---|---|---|\n",
       "| Mazda RX4 | 21.0  | 6     | 160   | 110   | 3.90  | 2.620 | 16.46 | 0     | 1     | 4     | 4     | \n",
       "| Mazda RX4 Wag | 21.0  | 6     | 160   | 110   | 3.90  | 2.875 | 17.02 | 0     | 1     | 4     | 4     | \n",
       "| Datsun 710 | 22.8  | 4     | 108   |  93   | 3.85  | 2.320 | 18.61 | 1     | 1     | 4     | 1     | \n",
       "| Hornet 4 Drive | 21.4  | 6     | 258   | 110   | 3.08  | 3.215 | 19.44 | 1     | 0     | 3     | 1     | \n",
       "| Hornet Sportabout | 18.7  | 8     | 360   | 175   | 3.15  | 3.440 | 17.02 | 0     | 0     | 3     | 2     | \n",
       "| Valiant | 18.1  | 6     | 225   | 105   | 2.76  | 3.460 | 20.22 | 1     | 0     | 3     | 1     | \n",
       "\n",
       "\n"
      ],
      "text/plain": [
       "                  mpg  cyl disp hp  drat wt    qsec  vs am gear carb\n",
       "Mazda RX4         21.0 6   160  110 3.90 2.620 16.46 0  1  4    4   \n",
       "Mazda RX4 Wag     21.0 6   160  110 3.90 2.875 17.02 0  1  4    4   \n",
       "Datsun 710        22.8 4   108   93 3.85 2.320 18.61 1  1  4    1   \n",
       "Hornet 4 Drive    21.4 6   258  110 3.08 3.215 19.44 1  0  3    1   \n",
       "Hornet Sportabout 18.7 8   360  175 3.15 3.440 17.02 0  0  3    2   \n",
       "Valiant           18.1 6   225  105 2.76 3.460 20.22 1  0  3    1   "
      ]
     },
     "metadata": {},
     "output_type": "display_data"
    }
   ],
   "source": [
    "attach(mtcars)\n",
    "head(mtcars)"
   ]
  },
  {
   "cell_type": "code",
   "execution_count": 79,
   "metadata": {
    "collapsed": false
   },
   "outputs": [
    {
     "data": {
      "image/png": "[encoded data removed]",
      "text/plain": [
       "Plot with title \"Effect of Cylinder count\""
      ]
     },
     "metadata": {},
     "output_type": "display_data"
    }
   ],
   "source": [
    "par(bty=\"n\") # remove box around the boxplot\n",
    "boxplot(mpg~cyl, ylab=\"Miles per gallon\", main = \"Effect of Cylinder count\",\n",
    "       xlab=\"cylinder count\", cex.main=1.2, col.main=\"sienna2\", \n",
    "        names=c(\"4\",\"6\",\"8\"), col=c(\"grey\",\"skyblue\", \"forestgreen\"))\n",
    "\n",
    "## incorporating means in our boxplot\n",
    "means = by(mpg, cyl, mean)\n",
    "points(means, col=\"red\", pch=20)"
   ]
  },
  {
   "cell_type": "markdown",
   "metadata": {},
   "source": [
    "## Histogram"
   ]
  },
  {
   "cell_type": "code",
   "execution_count": 80,
   "metadata": {
    "collapsed": false
   },
   "outputs": [
    {
     "data": {
      "image/png": "[encoded data removed]",
      "text/plain": [
       "Plot with title \"Histogram of a\""
      ]
     },
     "metadata": {},
     "output_type": "display_data"
    }
   ],
   "source": [
    "set.seed(2)\n",
    "a = rnorm(1000,7,5)\n",
    "b=rnorm(1000,7,6)\n",
    "ab=data.frame(a,b)\n",
    "\n",
    "#simple histogtam\n",
    "hist(a)"
   ]
  },
  {
   "cell_type": "markdown",
   "metadata": {},
   "source": [
    "## ggplot2"
   ]
  },
  {
   "cell_type": "code",
   "execution_count": 81,
   "metadata": {
    "collapsed": false
   },
   "outputs": [
    {
     "name": "stderr",
     "output_type": "stream",
     "text": [
      "\n",
      "Attaching package: 'ggplot2'\n",
      "\n",
      "The following object is masked from 'mtcars':\n",
      "\n",
      "    mpg\n",
      "\n",
      "`stat_bin()` using `bins = 30`. Pick better value with `binwidth`.\n"
     ]
    },
    {
     "data": {},
     "metadata": {},
     "output_type": "display_data"
    },
    {
     "data": {
      "image/png": "[encoded data removed]",
      "text/plain": [
       "plot without title"
      ]
     },
     "metadata": {},
     "output_type": "display_data"
    }
   ],
   "source": [
    "library(ggplot2)\n",
    "x=runif(1000)\n",
    "qplot(x)"
   ]
  },
  {
   "cell_type": "code",
   "execution_count": 82,
   "metadata": {
    "collapsed": false
   },
   "outputs": [
    {
     "data": {
      "text/html": [
       "<table>\n",
       "<thead><tr><th scope=col>Sepal.Length</th><th scope=col>Sepal.Width</th><th scope=col>Petal.Length</th><th scope=col>Petal.Width</th><th scope=col>Species</th></tr></thead>\n",
       "<tbody>\n",
       "\t<tr><td>5.1   </td><td>3.5   </td><td>1.4   </td><td>0.2   </td><td>setosa</td></tr>\n",
       "\t<tr><td>4.9   </td><td>3.0   </td><td>1.4   </td><td>0.2   </td><td>setosa</td></tr>\n",
       "\t<tr><td>4.7   </td><td>3.2   </td><td>1.3   </td><td>0.2   </td><td>setosa</td></tr>\n",
       "\t<tr><td>4.6   </td><td>3.1   </td><td>1.5   </td><td>0.2   </td><td>setosa</td></tr>\n",
       "\t<tr><td>5.0   </td><td>3.6   </td><td>1.4   </td><td>0.2   </td><td>setosa</td></tr>\n",
       "\t<tr><td>5.4   </td><td>3.9   </td><td>1.7   </td><td>0.4   </td><td>setosa</td></tr>\n",
       "</tbody>\n",
       "</table>\n"
      ],
      "text/latex": [
       "\\begin{tabular}{r|lllll}\n",
       " Sepal.Length & Sepal.Width & Petal.Length & Petal.Width & Species\\\\\n",
       "\\hline\n",
       "\t 5.1    & 3.5    & 1.4    & 0.2    & setosa\\\\\n",
       "\t 4.9    & 3.0    & 1.4    & 0.2    & setosa\\\\\n",
       "\t 4.7    & 3.2    & 1.3    & 0.2    & setosa\\\\\n",
       "\t 4.6    & 3.1    & 1.5    & 0.2    & setosa\\\\\n",
       "\t 5.0    & 3.6    & 1.4    & 0.2    & setosa\\\\\n",
       "\t 5.4    & 3.9    & 1.7    & 0.4    & setosa\\\\\n",
       "\\end{tabular}\n"
      ],
      "text/markdown": [
       "\n",
       "Sepal.Length | Sepal.Width | Petal.Length | Petal.Width | Species | \n",
       "|---|---|---|---|---|---|\n",
       "| 5.1    | 3.5    | 1.4    | 0.2    | setosa | \n",
       "| 4.9    | 3.0    | 1.4    | 0.2    | setosa | \n",
       "| 4.7    | 3.2    | 1.3    | 0.2    | setosa | \n",
       "| 4.6    | 3.1    | 1.5    | 0.2    | setosa | \n",
       "| 5.0    | 3.6    | 1.4    | 0.2    | setosa | \n",
       "| 5.4    | 3.9    | 1.7    | 0.4    | setosa | \n",
       "\n",
       "\n"
      ],
      "text/plain": [
       "  Sepal.Length Sepal.Width Petal.Length Petal.Width Species\n",
       "1 5.1          3.5         1.4          0.2         setosa \n",
       "2 4.9          3.0         1.4          0.2         setosa \n",
       "3 4.7          3.2         1.3          0.2         setosa \n",
       "4 4.6          3.1         1.5          0.2         setosa \n",
       "5 5.0          3.6         1.4          0.2         setosa \n",
       "6 5.4          3.9         1.7          0.4         setosa "
      ]
     },
     "metadata": {},
     "output_type": "display_data"
    }
   ],
   "source": [
    "head(iris)"
   ]
  },
  {
   "cell_type": "code",
   "execution_count": 83,
   "metadata": {
    "collapsed": false
   },
   "outputs": [
    {
     "data": {},
     "metadata": {},
     "output_type": "display_data"
    },
    {
     "data": {
      "image/png": "[encoded data removed]",
      "text/plain": [
       "plot without title"
      ]
     },
     "metadata": {},
     "output_type": "display_data"
    }
   ],
   "source": [
    "# line plot for time series\n",
    "qplot(x=Sepal.Length, y=Sepal.Width, data=iris, color=Species, geom=\"line\")"
   ]
  },
  {
   "cell_type": "code",
   "execution_count": 84,
   "metadata": {
    "collapsed": false
   },
   "outputs": [
    {
     "data": {},
     "metadata": {},
     "output_type": "display_data"
    },
    {
     "data": {
      "image/png": "[encoded data removed]",
      "text/plain": [
       "plot without title"
      ]
     },
     "metadata": {},
     "output_type": "display_data"
    }
   ],
   "source": [
    "# we can also just add the geom\n",
    "\n",
    "qplot(x=Sepal.Length, y=Sepal.Width, data=iris, color=Species) + geom_line()"
   ]
  },
  {
   "cell_type": "code",
   "execution_count": 85,
   "metadata": {
    "collapsed": false
   },
   "outputs": [
    {
     "data": {},
     "metadata": {},
     "output_type": "display_data"
    },
    {
     "data": {
      "image/png": "[encoded data removed]",
      "text/plain": [
       "plot without title"
      ]
     },
     "metadata": {},
     "output_type": "display_data"
    }
   ],
   "source": [
    "# Creating a scatterplot\n",
    "qplot(x=Sepal.Length, y=Sepal.Width, data=iris, color=Species, geom=\"point\")"
   ]
  },
  {
   "cell_type": "code",
   "execution_count": 86,
   "metadata": {
    "collapsed": false
   },
   "outputs": [
    {
     "name": "stderr",
     "output_type": "stream",
     "text": [
      "`geom_smooth()` using method = 'loess'\n"
     ]
    },
    {
     "data": {},
     "metadata": {},
     "output_type": "display_data"
    },
    {
     "data": {
      "image/png": "[encoded data removed]",
      "text/plain": [
       "plot without title"
      ]
     },
     "metadata": {},
     "output_type": "display_data"
    }
   ],
   "source": [
    "## smoothers\n",
    "qplot(x=Sepal.Length, y=Sepal.Width, data=iris, color=Species, geom=\"smooth\")"
   ]
  },
  {
   "cell_type": "code",
   "execution_count": 87,
   "metadata": {
    "collapsed": false
   },
   "outputs": [
    {
     "data": {
      "text/html": [
       "<table>\n",
       "<thead><tr><th scope=col>Sepal.Length</th><th scope=col>Sepal.Width</th><th scope=col>Petal.Length</th><th scope=col>Petal.Width</th><th scope=col>Species</th></tr></thead>\n",
       "<tbody>\n",
       "\t<tr><td>5.1   </td><td>3.5   </td><td>1.4   </td><td>0.2   </td><td>setosa</td></tr>\n",
       "\t<tr><td>4.9   </td><td>3.0   </td><td>1.4   </td><td>0.2   </td><td>setosa</td></tr>\n",
       "\t<tr><td>4.7   </td><td>3.2   </td><td>1.3   </td><td>0.2   </td><td>setosa</td></tr>\n",
       "\t<tr><td>4.6   </td><td>3.1   </td><td>1.5   </td><td>0.2   </td><td>setosa</td></tr>\n",
       "\t<tr><td>5.0   </td><td>3.6   </td><td>1.4   </td><td>0.2   </td><td>setosa</td></tr>\n",
       "\t<tr><td>5.4   </td><td>3.9   </td><td>1.7   </td><td>0.4   </td><td>setosa</td></tr>\n",
       "</tbody>\n",
       "</table>\n"
      ],
      "text/latex": [
       "\\begin{tabular}{r|lllll}\n",
       " Sepal.Length & Sepal.Width & Petal.Length & Petal.Width & Species\\\\\n",
       "\\hline\n",
       "\t 5.1    & 3.5    & 1.4    & 0.2    & setosa\\\\\n",
       "\t 4.9    & 3.0    & 1.4    & 0.2    & setosa\\\\\n",
       "\t 4.7    & 3.2    & 1.3    & 0.2    & setosa\\\\\n",
       "\t 4.6    & 3.1    & 1.5    & 0.2    & setosa\\\\\n",
       "\t 5.0    & 3.6    & 1.4    & 0.2    & setosa\\\\\n",
       "\t 5.4    & 3.9    & 1.7    & 0.4    & setosa\\\\\n",
       "\\end{tabular}\n"
      ],
      "text/markdown": [
       "\n",
       "Sepal.Length | Sepal.Width | Petal.Length | Petal.Width | Species | \n",
       "|---|---|---|---|---|---|\n",
       "| 5.1    | 3.5    | 1.4    | 0.2    | setosa | \n",
       "| 4.9    | 3.0    | 1.4    | 0.2    | setosa | \n",
       "| 4.7    | 3.2    | 1.3    | 0.2    | setosa | \n",
       "| 4.6    | 3.1    | 1.5    | 0.2    | setosa | \n",
       "| 5.0    | 3.6    | 1.4    | 0.2    | setosa | \n",
       "| 5.4    | 3.9    | 1.7    | 0.4    | setosa | \n",
       "\n",
       "\n"
      ],
      "text/plain": [
       "  Sepal.Length Sepal.Width Petal.Length Petal.Width Species\n",
       "1 5.1          3.5         1.4          0.2         setosa \n",
       "2 4.9          3.0         1.4          0.2         setosa \n",
       "3 4.7          3.2         1.3          0.2         setosa \n",
       "4 4.6          3.1         1.5          0.2         setosa \n",
       "5 5.0          3.6         1.4          0.2         setosa \n",
       "6 5.4          3.9         1.7          0.4         setosa "
      ]
     },
     "metadata": {},
     "output_type": "display_data"
    }
   ],
   "source": [
    "# boxplots\n",
    "head(iris) #categorical variables for boxplots"
   ]
  },
  {
   "cell_type": "code",
   "execution_count": 88,
   "metadata": {
    "collapsed": false
   },
   "outputs": [
    {
     "data": {},
     "metadata": {},
     "output_type": "display_data"
    },
    {
     "data": {
      "image/png": "[encoded data removed]",
      "text/plain": [
       "plot without title"
      ]
     },
     "metadata": {},
     "output_type": "display_data"
    }
   ],
   "source": [
    "qplot(Species, Sepal.Length, data=iris, geom=\"boxplot\")"
   ]
  },
  {
   "cell_type": "code",
   "execution_count": 89,
   "metadata": {
    "collapsed": false
   },
   "outputs": [
    {
     "data": {},
     "metadata": {},
     "output_type": "display_data"
    },
    {
     "data": {
      "image/png": "[encoded data removed]",
      "text/plain": [
       "plot without title"
      ]
     },
     "metadata": {},
     "output_type": "display_data"
    }
   ],
   "source": [
    "# jitter shows same info\n",
    "qplot(Species, Sepal.Length, data=iris, geom=\"jitter\")"
   ]
  },
  {
   "cell_type": "code",
   "execution_count": 90,
   "metadata": {
    "collapsed": false
   },
   "outputs": [
    {
     "name": "stderr",
     "output_type": "stream",
     "text": [
      "`stat_bin()` using `bins = 30`. Pick better value with `binwidth`.\n"
     ]
    },
    {
     "data": {},
     "metadata": {},
     "output_type": "display_data"
    },
    {
     "data": {
      "image/png": "[encoded data removed]",
      "text/plain": [
       "plot without title"
      ]
     },
     "metadata": {},
     "output_type": "display_data"
    }
   ],
   "source": [
    "# Histograms\n",
    "x = rnorm(1000)\n",
    "qplot(x, geom=\"histogram\")"
   ]
  },
  {
   "cell_type": "code",
   "execution_count": 91,
   "metadata": {
    "collapsed": false
   },
   "outputs": [
    {
     "name": "stderr",
     "output_type": "stream",
     "text": [
      "Warning message:\n",
      "\"Removed 4 rows containing non-finite values (stat_bin).\""
     ]
    },
    {
     "data": {},
     "metadata": {},
     "output_type": "display_data"
    },
    {
     "data": {
      "image/png": "[encoded data removed]",
      "text/plain": [
       "plot without title"
      ]
     },
     "metadata": {},
     "output_type": "display_data"
    }
   ],
   "source": [
    "# using binwidth\n",
    "qplot(x, geom=\"histogram\", binwidth=0.5, xlim=c(-3,3))"
   ]
  },
  {
   "cell_type": "code",
   "execution_count": 92,
   "metadata": {
    "collapsed": false
   },
   "outputs": [
    {
     "data": {},
     "metadata": {},
     "output_type": "display_data"
    },
    {
     "data": {
      "image/png": "[encoded data removed]",
      "text/plain": [
       "plot without title"
      ]
     },
     "metadata": {},
     "output_type": "display_data"
    }
   ],
   "source": [
    "# density plots\n",
    "qplot(x, geom=\"density\")"
   ]
  },
  {
   "cell_type": "code",
   "execution_count": 93,
   "metadata": {
    "collapsed": false
   },
   "outputs": [
    {
     "data": {},
     "metadata": {},
     "output_type": "display_data"
    },
    {
     "data": {
      "image/png": "[encoded data removed]",
      "text/plain": [
       "plot without title"
      ]
     },
     "metadata": {},
     "output_type": "display_data"
    }
   ],
   "source": [
    "# density plot stratified by species\n",
    "qplot(Sepal.Length, data=iris, geom=\"density\", color=Species)"
   ]
  },
  {
   "cell_type": "code",
   "execution_count": 94,
   "metadata": {
    "collapsed": false
   },
   "outputs": [
    {
     "data": {},
     "metadata": {},
     "output_type": "display_data"
    },
    {
     "data": {
      "image/png": "[encoded data removed]",
      "text/plain": [
       "plot without title"
      ]
     },
     "metadata": {},
     "output_type": "display_data"
    }
   ],
   "source": [
    "## Facets show several similar plots with different subsets on one sheet for easy comparison\n",
    "## facetting can be used instead of aesthetics to show differences in datasets\n",
    "# in one column\n",
    "qplot(Sepal.Length, data=iris, geom=\"density\", facets=Species~.)"
   ]
  },
  {
   "cell_type": "code",
   "execution_count": 95,
   "metadata": {
    "collapsed": false
   },
   "outputs": [
    {
     "data": {},
     "metadata": {},
     "output_type": "display_data"
    },
    {
     "data": {
      "image/png": "[encoded data removed]",
      "text/plain": [
       "plot without title"
      ]
     },
     "metadata": {},
     "output_type": "display_data"
    }
   ],
   "source": [
    "# in one row\n",
    "qplot(Sepal.Length, data=iris, geom=\"density\", facets=.~Species)"
   ]
  },
  {
   "cell_type": "code",
   "execution_count": 96,
   "metadata": {
    "collapsed": false
   },
   "outputs": [
    {
     "data": {},
     "metadata": {},
     "output_type": "display_data"
    },
    {
     "data": {
      "image/png": "[encoded data removed]",
      "text/plain": [
       "plot without title"
      ]
     },
     "metadata": {},
     "output_type": "display_data"
    }
   ],
   "source": [
    "## Aesthetic attributes - Colour, size, shape, alpha(transpatency)\n",
    "## plotting sepal length vs sepal wwidth and stratify by species\n",
    "qplot(x=Sepal.Length, y=Sepal.Width, data=iris, color=Species)"
   ]
  },
  {
   "cell_type": "code",
   "execution_count": 97,
   "metadata": {
    "collapsed": false
   },
   "outputs": [
    {
     "name": "stderr",
     "output_type": "stream",
     "text": [
      "Warning message:\n",
      "\"Using size for a discrete variable is not advised.\""
     ]
    },
    {
     "data": {},
     "metadata": {},
     "output_type": "display_data"
    },
    {
     "data": {
      "image/png": "[encoded data removed]",
      "text/plain": [
       "plot without title"
      ]
     },
     "metadata": {},
     "output_type": "display_data"
    }
   ],
   "source": [
    "qplot(x=Sepal.Length, y=Sepal.Width, data=iris, size=Species)"
   ]
  },
  {
   "cell_type": "code",
   "execution_count": 98,
   "metadata": {
    "collapsed": false
   },
   "outputs": [
    {
     "data": {},
     "metadata": {},
     "output_type": "display_data"
    },
    {
     "data": {
      "image/png": "[encoded data removed]",
      "text/plain": [
       "plot without title"
      ]
     },
     "metadata": {},
     "output_type": "display_data"
    }
   ],
   "source": [
    "qplot(x=Sepal.Length, y=Sepal.Width, data=iris, shape=Species)"
   ]
  },
  {
   "cell_type": "code",
   "execution_count": 99,
   "metadata": {
    "collapsed": false
   },
   "outputs": [
    {
     "data": {},
     "metadata": {},
     "output_type": "display_data"
    },
    {
     "data": {
      "image/png": "[encoded data removed]",
      "text/plain": [
       "plot without title"
      ]
     },
     "metadata": {},
     "output_type": "display_data"
    }
   ],
   "source": [
    "qplot(x=Sepal.Length, y=Sepal.Width, data=iris, alpha=Species)"
   ]
  },
  {
   "cell_type": "code",
   "execution_count": 100,
   "metadata": {
    "collapsed": false
   },
   "outputs": [
    {
     "name": "stderr",
     "output_type": "stream",
     "text": [
      "Warning message:\n",
      "\"Using size for a discrete variable is not advised.\""
     ]
    },
    {
     "data": {},
     "metadata": {},
     "output_type": "display_data"
    },
    {
     "data": {
      "image/png": "[encoded data removed]",
      "text/plain": [
       "plot without title"
      ]
     },
     "metadata": {},
     "output_type": "display_data"
    }
   ],
   "source": [
    "# combining the 3 Aesthetics \n",
    "qplot(x=Sepal.Length, y=Sepal.Width, data=iris, color=Species, size=Species, shape=Species)"
   ]
  },
  {
   "cell_type": "code",
   "execution_count": 101,
   "metadata": {
    "collapsed": true
   },
   "outputs": [],
   "source": [
    "## GGPLOT\n",
    "## basic setup\n",
    "## ggplot(data, aes()) + layer(geom, geom_params, stats, stats_params, data, mapping,position\n",
    "## every layer can be specified on its own\n",
    "## some available geoms: histogram, jitter, area, density, quantile, smooth\n",
    "# stats are statistical transformations"
   ]
  },
  {
   "cell_type": "code",
   "execution_count": 102,
   "metadata": {
    "collapsed": false
   },
   "outputs": [
    {
     "data": {
      "text/html": [
       "<table>\n",
       "<thead><tr><th scope=col>x</th><th scope=col>y</th><th scope=col>group</th></tr></thead>\n",
       "<tbody>\n",
       "\t<tr><td>1 </td><td>11</td><td>F </td></tr>\n",
       "\t<tr><td>2 </td><td>12</td><td>F </td></tr>\n",
       "\t<tr><td>3 </td><td>13</td><td>M </td></tr>\n",
       "\t<tr><td>4 </td><td>14</td><td>M </td></tr>\n",
       "\t<tr><td>5 </td><td>15</td><td>F </td></tr>\n",
       "</tbody>\n",
       "</table>\n"
      ],
      "text/latex": [
       "\\begin{tabular}{r|lll}\n",
       " x & y & group\\\\\n",
       "\\hline\n",
       "\t 1  & 11 & F \\\\\n",
       "\t 2  & 12 & F \\\\\n",
       "\t 3  & 13 & M \\\\\n",
       "\t 4  & 14 & M \\\\\n",
       "\t 5  & 15 & F \\\\\n",
       "\\end{tabular}\n"
      ],
      "text/markdown": [
       "\n",
       "x | y | group | \n",
       "|---|---|---|---|---|\n",
       "| 1  | 11 | F  | \n",
       "| 2  | 12 | F  | \n",
       "| 3  | 13 | M  | \n",
       "| 4  | 14 | M  | \n",
       "| 5  | 15 | F  | \n",
       "\n",
       "\n"
      ],
      "text/plain": [
       "  x y  group\n",
       "1 1 11 F    \n",
       "2 2 12 F    \n",
       "3 3 13 M    \n",
       "4 4 14 M    \n",
       "5 5 15 F    "
      ]
     },
     "metadata": {},
     "output_type": "display_data"
    }
   ],
   "source": [
    "#NB: ggplot works with dataframes\n",
    "mydata <- data.frame(x=1:5, y=11:15, group=c(\"F\",\"F\",\"M\",\"M\",\"F\"))\n",
    "mydata"
   ]
  },
  {
   "cell_type": "code",
   "execution_count": 103,
   "metadata": {
    "collapsed": false
   },
   "outputs": [
    {
     "data": {},
     "metadata": {},
     "output_type": "display_data"
    },
    {
     "data": {
      "image/png": "[encoded data removed]",
      "text/plain": [
       "plot without title"
      ]
     },
     "metadata": {},
     "output_type": "display_data"
    }
   ],
   "source": [
    "## scatterplots with ggplot\n",
    "## we specify the dataset, and the aesthetics and the points to be mapped\n",
    "p <- ggplot(data=mydata, aes(x=x,y=y))  # geom is missing\n",
    "p+geom_point()"
   ]
  },
  {
   "cell_type": "code",
   "execution_count": 104,
   "metadata": {
    "collapsed": false
   },
   "outputs": [
    {
     "data": {},
     "metadata": {},
     "output_type": "display_data"
    },
    {
     "data": {
      "image/png": "[encoded data removed]",
      "text/plain": [
       "plot without title"
      ]
     },
     "metadata": {},
     "output_type": "display_data"
    }
   ],
   "source": [
    "# now we want to put in the grouping factor(inc legend)\n",
    "p + geom_point(aes(color=group))"
   ]
  },
  {
   "cell_type": "code",
   "execution_count": 105,
   "metadata": {
    "collapsed": false
   },
   "outputs": [
    {
     "data": {},
     "metadata": {},
     "output_type": "display_data"
    },
    {
     "data": {
      "image/png": "[encoded data removed]",
      "text/plain": [
       "plot without title"
      ]
     },
     "metadata": {},
     "output_type": "display_data"
    }
   ],
   "source": [
    "## adjusting the point shape (numbers are the same as in base)\n",
    "p + geom_point(aes(color=group), shape=3)"
   ]
  },
  {
   "cell_type": "code",
   "execution_count": 106,
   "metadata": {
    "collapsed": false
   },
   "outputs": [
    {
     "data": {},
     "metadata": {},
     "output_type": "display_data"
    },
    {
     "data": {
      "image/png": "[encoded data removed]",
      "text/plain": [
       "plot without title"
      ]
     },
     "metadata": {},
     "output_type": "display_data"
    }
   ],
   "source": [
    "# adjust color according to the group\n",
    "p + geom_point(aes(color=group), shape=3) + scale_color_manual(values=c(123,569))"
   ]
  },
  {
   "cell_type": "code",
   "execution_count": 107,
   "metadata": {
    "collapsed": false
   },
   "outputs": [
    {
     "data": {},
     "metadata": {},
     "output_type": "display_data"
    },
    {
     "data": {
      "image/png": "[encoded data removed]",
      "text/plain": [
       "plot without title"
      ]
     },
     "metadata": {},
     "output_type": "display_data"
    }
   ],
   "source": [
    "## manually set the shape according to the group\n",
    "p + geom_point(aes(shape=group)) + scale_shape_manual(values=c(1,4))"
   ]
  },
  {
   "cell_type": "markdown",
   "metadata": {},
   "source": [
    "## Formatting text with ggplot"
   ]
  },
  {
   "cell_type": "code",
   "execution_count": 108,
   "metadata": {
    "collapsed": false
   },
   "outputs": [
    {
     "data": {},
     "metadata": {},
     "output_type": "display_data"
    },
    {
     "data": {
      "image/png": "[encoded data removed]",
      "text/plain": [
       "plot without title"
      ]
     },
     "metadata": {},
     "output_type": "display_data"
    }
   ],
   "source": [
    "## adding a title\n",
    "p + geom_point()+ggtitle(\"Test dataset\")"
   ]
  },
  {
   "cell_type": "code",
   "execution_count": 109,
   "metadata": {
    "collapsed": false
   },
   "outputs": [
    {
     "data": {},
     "metadata": {},
     "output_type": "display_data"
    },
    {
     "data": {
      "image/png": "[encoded data removed]",
      "text/plain": [
       "plot without title"
      ]
     },
     "metadata": {},
     "output_type": "display_data"
    }
   ],
   "source": [
    "## using the labs call\n",
    "p + geom_point() + labs(title=\"Test dataset\")"
   ]
  },
  {
   "cell_type": "code",
   "execution_count": 110,
   "metadata": {
    "collapsed": false
   },
   "outputs": [
    {
     "data": {},
     "metadata": {},
     "output_type": "display_data"
    },
    {
     "data": {
      "image/png": "[encoded data removed]",
      "text/plain": [
       "plot without title"
      ]
     },
     "metadata": {},
     "output_type": "display_data"
    }
   ],
   "source": [
    "# formatting the axis labels\n",
    "p + geom_point() + theme(axis.title=element_text(size=20, lineheight=9, color=\"forestgreen\"))"
   ]
  },
  {
   "cell_type": "code",
   "execution_count": 111,
   "metadata": {
    "collapsed": false
   },
   "outputs": [
    {
     "data": {},
     "metadata": {},
     "output_type": "display_data"
    },
    {
     "data": {
      "image/png": "[encoded data removed]",
      "text/plain": [
       "plot without title"
      ]
     },
     "metadata": {},
     "output_type": "display_data"
    }
   ],
   "source": [
    "# insert text into the plot with annotate\n",
    "p+geom_point()+annotate(\"text\",x=3,y=12, label=\"qqplot test\", size=7, color=\"765\")"
   ]
  },
  {
   "cell_type": "code",
   "execution_count": 112,
   "metadata": {
    "collapsed": false
   },
   "outputs": [
    {
     "data": {},
     "metadata": {},
     "output_type": "display_data"
    },
    {
     "data": {
      "image/png": "[encoded data removed]",
      "text/plain": [
       "plot without title"
      ]
     },
     "metadata": {},
     "output_type": "display_data"
    }
   ],
   "source": [
    "## adding lines - horizontal and vertical and abline\n",
    "p+geom_point()+geom_hline(yintercept=13, color=\"red\")+geom_vline(xintercept=3, color=767) +\n",
    "geom_abline(intercept=9, slope=1.75, color=342, linetype=\"dashed\")"
   ]
  },
  {
   "cell_type": "markdown",
   "metadata": {
    "collapsed": true
   },
   "source": [
    "# Histograms with ggplot2"
   ]
  },
  {
   "cell_type": "code",
   "execution_count": 113,
   "metadata": {
    "collapsed": false
   },
   "outputs": [
    {
     "data": {
      "text/html": [
       "<table>\n",
       "<thead><tr><th scope=col>randomValues</th><th scope=col>index</th></tr></thead>\n",
       "<tbody>\n",
       "\t<tr><td> 0.07635787</td><td>1          </td></tr>\n",
       "\t<tr><td>-0.04214003</td><td>2          </td></tr>\n",
       "\t<tr><td>-1.51933937</td><td>3          </td></tr>\n",
       "</tbody>\n",
       "</table>\n"
      ],
      "text/latex": [
       "\\begin{tabular}{r|ll}\n",
       " randomValues & index\\\\\n",
       "\\hline\n",
       "\t  0.07635787 & 1          \\\\\n",
       "\t -0.04214003 & 2          \\\\\n",
       "\t -1.51933937 & 3          \\\\\n",
       "\\end{tabular}\n"
      ],
      "text/markdown": [
       "\n",
       "randomValues | index | \n",
       "|---|---|---|\n",
       "|  0.07635787 | 1           | \n",
       "| -0.04214003 | 2           | \n",
       "| -1.51933937 | 3           | \n",
       "\n",
       "\n"
      ],
      "text/plain": [
       "  randomValues index\n",
       "1  0.07635787  1    \n",
       "2 -0.04214003  2    \n",
       "3 -1.51933937  3    "
      ]
     },
     "metadata": {},
     "output_type": "display_data"
    }
   ],
   "source": [
    "histdata = data.frame(randomValues=rnorm(1000), index=1:1000)\n",
    "head(histdata,3)"
   ]
  },
  {
   "cell_type": "code",
   "execution_count": 114,
   "metadata": {
    "collapsed": false
   },
   "outputs": [
    {
     "name": "stderr",
     "output_type": "stream",
     "text": [
      "`stat_bin()` using `bins = 30`. Pick better value with `binwidth`.\n"
     ]
    },
    {
     "data": {},
     "metadata": {},
     "output_type": "display_data"
    },
    {
     "data": {
      "image/png": "[encoded data removed]",
      "text/plain": [
       "plot without title"
      ]
     },
     "metadata": {},
     "output_type": "display_data"
    }
   ],
   "source": [
    "# basic histogram\n",
    "ggplot(histdata, aes(x=randomValues)) + geom_histogram()"
   ]
  },
  {
   "cell_type": "code",
   "execution_count": 116,
   "metadata": {
    "collapsed": false
   },
   "outputs": [
    {
     "data": {},
     "metadata": {},
     "output_type": "display_data"
    },
    {
     "data": {
      "image/png": "[encoded data removed]",
      "text/plain": [
       "plot without title"
      ]
     },
     "metadata": {},
     "output_type": "display_data"
    }
   ],
   "source": [
    "# using binwidth argument to specify bin width\n",
    "ggplot(histdata, aes(x=randomValues)) + geom_histogram(binwidth=1, fill=\"forestgreen\", colour=\"red\")"
   ]
  },
  {
   "cell_type": "code",
   "execution_count": 117,
   "metadata": {
    "collapsed": false
   },
   "outputs": [
    {
     "data": {},
     "metadata": {},
     "output_type": "display_data"
    },
    {
     "data": {
      "image/png": "[encoded data removed]",
      "text/plain": [
       "plot without title"
      ]
     },
     "metadata": {},
     "output_type": "display_data"
    }
   ],
   "source": [
    "# a density plot gives similar information\n",
    "ggplot(histdata, aes(x=randomValues)) + geom_density()"
   ]
  },
  {
   "cell_type": "code",
   "execution_count": 118,
   "metadata": {
    "collapsed": false
   },
   "outputs": [
    {
     "data": {},
     "metadata": {},
     "output_type": "display_data"
    },
    {
     "data": {
      "image/png": "[encoded data removed]",
      "text/plain": [
       "plot without title"
      ]
     },
     "metadata": {},
     "output_type": "display_data"
    }
   ],
   "source": [
    "ggplot(histdata, aes(x=randomValues)) + geom_line(stat=\"density\")"
   ]
  },
  {
   "cell_type": "code",
   "execution_count": 121,
   "metadata": {
    "collapsed": false
   },
   "outputs": [
    {
     "data": {},
     "metadata": {},
     "output_type": "display_data"
    },
    {
     "data": {
      "image/png": "[encoded data removed]",
      "text/plain": [
       "plot without title"
      ]
     },
     "metadata": {},
     "output_type": "display_data"
    }
   ],
   "source": [
    "# combine histogram and density plot\n",
    "ggplot(histdata, \n",
    "       aes(x=randomValues, y=..density..)) + geom_histogram(binwidth=1, fill=\"skyblue\", color=\"red\") +\n",
    "geom_density()"
   ]
  },
  {
   "cell_type": "code",
   "execution_count": 124,
   "metadata": {
    "collapsed": false
   },
   "outputs": [
    {
     "data": {},
     "metadata": {},
     "output_type": "display_data"
    },
    {
     "data": {
      "image/png": "[encoded data removed]",
      "text/plain": [
       "plot without title"
      ]
     },
     "metadata": {},
     "output_type": "display_data"
    }
   ],
   "source": [
    "# ways to compare data in histograms\n",
    "## grouped histograms by using facet\n",
    "ggplot(iris, aes(Sepal.Length)) + geom_histogram(binwidth=0.1,) + facet_grid(Species~.)"
   ]
  },
  {
   "cell_type": "code",
   "execution_count": 125,
   "metadata": {
    "collapsed": false
   },
   "outputs": [
    {
     "data": {},
     "metadata": {},
     "output_type": "display_data"
    },
    {
     "data": {
      "image/png": "[encoded data removed]",
      "text/plain": [
       "plot without title"
      ]
     },
     "metadata": {},
     "output_type": "display_data"
    }
   ],
   "source": [
    "# grouped histograms using different color fills\n",
    "ggplot(iris, aes(Sepal.Length, fill=Species)) + geom_histogram(binwidth=0.1)"
   ]
  },
  {
   "cell_type": "code",
   "execution_count": 127,
   "metadata": {
    "collapsed": false
   },
   "outputs": [
    {
     "data": {},
     "metadata": {},
     "output_type": "display_data"
    },
    {
     "data": {
      "image/png": "[encoded data removed]",
      "text/plain": [
       "plot without title"
      ]
     },
     "metadata": {},
     "output_type": "display_data"
    }
   ],
   "source": [
    "## Boxplot with gglpot\n",
    "ggplot(iris, aes(y=Sepal.Length, x=Species)) + geom_boxplot()"
   ]
  },
  {
   "cell_type": "code",
   "execution_count": 128,
   "metadata": {
    "collapsed": false
   },
   "outputs": [
    {
     "data": {},
     "metadata": {},
     "output_type": "display_data"
    },
    {
     "data": {
      "image/png": "[encoded data removed]",
      "text/plain": [
       "plot without title"
      ]
     },
     "metadata": {},
     "output_type": "display_data"
    }
   ],
   "source": [
    "# modifying the outlier shape\n",
    "ggplot(iris, aes(y=Sepal.Length, x=Species)) + geom_boxplot(outlier.size=2.5, outlier.shape=13)"
   ]
  },
  {
   "cell_type": "code",
   "execution_count": 133,
   "metadata": {
    "collapsed": false
   },
   "outputs": [
    {
     "data": {},
     "metadata": {},
     "output_type": "display_data"
    },
    {
     "data": {
      "image/png": "[encoded data removed]",
      "text/plain": [
       "plot without title"
      ]
     },
     "metadata": {},
     "output_type": "display_data"
    }
   ],
   "source": [
    "# incorporating means in a boxplot\n",
    "ggplot(iris, aes(y=Sepal.Length, x=Species)) + geom_boxplot(fill=\"skyblue\") +\n",
    "stat_summary(fun.y=\"mean\", geom=\"point\", shape=21, size=4, fill=\"sienna2\")"
   ]
  },
  {
   "cell_type": "code",
   "execution_count": 134,
   "metadata": {
    "collapsed": false
   },
   "outputs": [
    {
     "data": {},
     "metadata": {},
     "output_type": "display_data"
    },
    {
     "data": {
      "image/png": "[encoded data removed]",
      "text/plain": [
       "plot without title"
      ]
     },
     "metadata": {},
     "output_type": "display_data"
    }
   ],
   "source": [
    "## difference between mapping and setting\n",
    "# mapping: you need to specify the aes - the values u want to visualize\n",
    "\n",
    "\n",
    "# setting the coloration\n",
    "ggplot(iris, aes(Sepal.Length, Sepal.Width, color=Species)) + geom_point(color=\"grey2\")"
   ]
  },
  {
   "cell_type": "code",
   "execution_count": 138,
   "metadata": {
    "collapsed": false
   },
   "outputs": [
    {
     "data": {},
     "metadata": {},
     "output_type": "display_data"
    },
    {
     "data": {
      "image/png": "[encoded data removed]",
      "text/plain": [
       "plot without title"
      ]
     },
     "metadata": {},
     "output_type": "display_data"
    }
   ],
   "source": [
    "## mapping\n",
    "ggplot(iris, aes(Sepal.Length, Sepal.Width, color=Species)) + geom_point(aes(color=\"grey2\"))"
   ]
  },
  {
   "cell_type": "code",
   "execution_count": null,
   "metadata": {
    "collapsed": true
   },
   "outputs": [],
   "source": []
  }
 ],
 "metadata": {
  "kernelspec": {
   "display_name": "R",
   "language": "R",
   "name": "ir"
  },
  "language_info": {
   "codemirror_mode": "r",
   "file_extension": ".r",
   "mimetype": "text/x-r-source",
   "name": "R",
   "pygments_lexer": "r",
   "version": "3.3.2"
  }
 },
 "nbformat": 4,
 "nbformat_minor": 2
}
