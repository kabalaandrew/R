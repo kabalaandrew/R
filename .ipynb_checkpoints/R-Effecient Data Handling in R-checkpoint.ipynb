{
 "cells": [
  {
   "cell_type": "code",
   "execution_count": 1,
   "metadata": {
    "collapsed": false
   },
   "outputs": [
    {
     "name": "stderr",
     "output_type": "stream",
     "text": [
      "\n",
      "Attaching package: 'dplyr'\n",
      "\n",
      "The following objects are masked from 'package:stats':\n",
      "\n",
      "    filter, lag\n",
      "\n",
      "The following objects are masked from 'package:base':\n",
      "\n",
      "    intersect, setdiff, setequal, union\n",
      "\n"
     ]
    },
    {
     "name": "stdout",
     "output_type": "stream",
     "text": [
      "                   mpg cyl disp  hp drat    wt  qsec vs am gear carb\n",
      "Mazda RX4         21.0   6  160 110 3.90 2.620 16.46  0  1    4    4\n",
      "Mazda RX4 Wag     21.0   6  160 110 3.90 2.875 17.02  0  1    4    4\n",
      "Datsun 710        22.8   4  108  93 3.85 2.320 18.61  1  1    4    1\n",
      "Hornet 4 Drive    21.4   6  258 110 3.08 3.215 19.44  1  0    3    1\n",
      "Hornet Sportabout 18.7   8  360 175 3.15 3.440 17.02  0  0    3    2\n",
      "Valiant           18.1   6  225 105 2.76 3.460 20.22  1  0    3    1\n"
     ]
    }
   ],
   "source": [
    "library(dplyr)\n",
    "#create a tb_df object\n",
    "print(head(mtcars))"
   ]
  },
  {
   "cell_type": "code",
   "execution_count": 2,
   "metadata": {
    "collapsed": false
   },
   "outputs": [
    {
     "data": {
      "text/html": [
       "<table>\n",
       "<thead><tr><th scope=col>mpg</th><th scope=col>cyl</th><th scope=col>disp</th><th scope=col>hp</th><th scope=col>drat</th><th scope=col>wt</th><th scope=col>qsec</th><th scope=col>vs</th><th scope=col>am</th><th scope=col>gear</th><th scope=col>carb</th></tr></thead>\n",
       "<tbody>\n",
       "\t<tr><td>22.8 </td><td>4    </td><td>108.0</td><td> 93  </td><td>3.85 </td><td>2.320</td><td>18.61</td><td>1    </td><td>1    </td><td>4    </td><td>1    </td></tr>\n",
       "\t<tr><td>24.4 </td><td>4    </td><td>146.7</td><td> 62  </td><td>3.69 </td><td>3.190</td><td>20.00</td><td>1    </td><td>0    </td><td>4    </td><td>2    </td></tr>\n",
       "\t<tr><td>22.8 </td><td>4    </td><td>140.8</td><td> 95  </td><td>3.92 </td><td>3.150</td><td>22.90</td><td>1    </td><td>0    </td><td>4    </td><td>2    </td></tr>\n",
       "\t<tr><td>32.4 </td><td>4    </td><td> 78.7</td><td> 66  </td><td>4.08 </td><td>2.200</td><td>19.47</td><td>1    </td><td>1    </td><td>4    </td><td>1    </td></tr>\n",
       "\t<tr><td>30.4 </td><td>4    </td><td> 75.7</td><td> 52  </td><td>4.93 </td><td>1.615</td><td>18.52</td><td>1    </td><td>1    </td><td>4    </td><td>2    </td></tr>\n",
       "\t<tr><td>33.9 </td><td>4    </td><td> 71.1</td><td> 65  </td><td>4.22 </td><td>1.835</td><td>19.90</td><td>1    </td><td>1    </td><td>4    </td><td>1    </td></tr>\n",
       "\t<tr><td>21.5 </td><td>4    </td><td>120.1</td><td> 97  </td><td>3.70 </td><td>2.465</td><td>20.01</td><td>1    </td><td>0    </td><td>3    </td><td>1    </td></tr>\n",
       "\t<tr><td>27.3 </td><td>4    </td><td> 79.0</td><td> 66  </td><td>4.08 </td><td>1.935</td><td>18.90</td><td>1    </td><td>1    </td><td>4    </td><td>1    </td></tr>\n",
       "\t<tr><td>26.0 </td><td>4    </td><td>120.3</td><td> 91  </td><td>4.43 </td><td>2.140</td><td>16.70</td><td>0    </td><td>1    </td><td>5    </td><td>2    </td></tr>\n",
       "\t<tr><td>30.4 </td><td>4    </td><td> 95.1</td><td>113  </td><td>3.77 </td><td>1.513</td><td>16.90</td><td>1    </td><td>1    </td><td>5    </td><td>2    </td></tr>\n",
       "\t<tr><td>21.4 </td><td>4    </td><td>121.0</td><td>109  </td><td>4.11 </td><td>2.780</td><td>18.60</td><td>1    </td><td>1    </td><td>4    </td><td>2    </td></tr>\n",
       "</tbody>\n",
       "</table>\n"
      ],
      "text/latex": [
       "\\begin{tabular}{r|lllllllllll}\n",
       " mpg & cyl & disp & hp & drat & wt & qsec & vs & am & gear & carb\\\\\n",
       "\\hline\n",
       "\t 22.8  & 4     & 108.0 &  93   & 3.85  & 2.320 & 18.61 & 1     & 1     & 4     & 1    \\\\\n",
       "\t 24.4  & 4     & 146.7 &  62   & 3.69  & 3.190 & 20.00 & 1     & 0     & 4     & 2    \\\\\n",
       "\t 22.8  & 4     & 140.8 &  95   & 3.92  & 3.150 & 22.90 & 1     & 0     & 4     & 2    \\\\\n",
       "\t 32.4  & 4     &  78.7 &  66   & 4.08  & 2.200 & 19.47 & 1     & 1     & 4     & 1    \\\\\n",
       "\t 30.4  & 4     &  75.7 &  52   & 4.93  & 1.615 & 18.52 & 1     & 1     & 4     & 2    \\\\\n",
       "\t 33.9  & 4     &  71.1 &  65   & 4.22  & 1.835 & 19.90 & 1     & 1     & 4     & 1    \\\\\n",
       "\t 21.5  & 4     & 120.1 &  97   & 3.70  & 2.465 & 20.01 & 1     & 0     & 3     & 1    \\\\\n",
       "\t 27.3  & 4     &  79.0 &  66   & 4.08  & 1.935 & 18.90 & 1     & 1     & 4     & 1    \\\\\n",
       "\t 26.0  & 4     & 120.3 &  91   & 4.43  & 2.140 & 16.70 & 0     & 1     & 5     & 2    \\\\\n",
       "\t 30.4  & 4     &  95.1 & 113   & 3.77  & 1.513 & 16.90 & 1     & 1     & 5     & 2    \\\\\n",
       "\t 21.4  & 4     & 121.0 & 109   & 4.11  & 2.780 & 18.60 & 1     & 1     & 4     & 2    \\\\\n",
       "\\end{tabular}\n"
      ],
      "text/markdown": [
       "\n",
       "mpg | cyl | disp | hp | drat | wt | qsec | vs | am | gear | carb | \n",
       "|---|---|---|---|---|---|---|---|---|---|---|\n",
       "| 22.8  | 4     | 108.0 |  93   | 3.85  | 2.320 | 18.61 | 1     | 1     | 4     | 1     | \n",
       "| 24.4  | 4     | 146.7 |  62   | 3.69  | 3.190 | 20.00 | 1     | 0     | 4     | 2     | \n",
       "| 22.8  | 4     | 140.8 |  95   | 3.92  | 3.150 | 22.90 | 1     | 0     | 4     | 2     | \n",
       "| 32.4  | 4     |  78.7 |  66   | 4.08  | 2.200 | 19.47 | 1     | 1     | 4     | 1     | \n",
       "| 30.4  | 4     |  75.7 |  52   | 4.93  | 1.615 | 18.52 | 1     | 1     | 4     | 2     | \n",
       "| 33.9  | 4     |  71.1 |  65   | 4.22  | 1.835 | 19.90 | 1     | 1     | 4     | 1     | \n",
       "| 21.5  | 4     | 120.1 |  97   | 3.70  | 2.465 | 20.01 | 1     | 0     | 3     | 1     | \n",
       "| 27.3  | 4     |  79.0 |  66   | 4.08  | 1.935 | 18.90 | 1     | 1     | 4     | 1     | \n",
       "| 26.0  | 4     | 120.3 |  91   | 4.43  | 2.140 | 16.70 | 0     | 1     | 5     | 2     | \n",
       "| 30.4  | 4     |  95.1 | 113   | 3.77  | 1.513 | 16.90 | 1     | 1     | 5     | 2     | \n",
       "| 21.4  | 4     | 121.0 | 109   | 4.11  | 2.780 | 18.60 | 1     | 1     | 4     | 2     | \n",
       "\n",
       "\n"
      ],
      "text/plain": [
       "   mpg  cyl disp  hp  drat wt    qsec  vs am gear carb\n",
       "1  22.8 4   108.0  93 3.85 2.320 18.61 1  1  4    1   \n",
       "2  24.4 4   146.7  62 3.69 3.190 20.00 1  0  4    2   \n",
       "3  22.8 4   140.8  95 3.92 3.150 22.90 1  0  4    2   \n",
       "4  32.4 4    78.7  66 4.08 2.200 19.47 1  1  4    1   \n",
       "5  30.4 4    75.7  52 4.93 1.615 18.52 1  1  4    2   \n",
       "6  33.9 4    71.1  65 4.22 1.835 19.90 1  1  4    1   \n",
       "7  21.5 4   120.1  97 3.70 2.465 20.01 1  0  3    1   \n",
       "8  27.3 4    79.0  66 4.08 1.935 18.90 1  1  4    1   \n",
       "9  26.0 4   120.3  91 4.43 2.140 16.70 0  1  5    2   \n",
       "10 30.4 4    95.1 113 3.77 1.513 16.90 1  1  5    2   \n",
       "11 21.4 4   121.0 109 4.11 2.780 18.60 1  1  4    2   "
      ]
     },
     "metadata": {},
     "output_type": "display_data"
    }
   ],
   "source": [
    "# create dplyr table object\n",
    "carData <- tbl_df(mtcars)\n",
    "\n",
    "# subscripting data\n",
    "cy14 <- filter(carData, cyl==4)\n",
    "cy14"
   ]
  },
  {
   "cell_type": "code",
   "execution_count": 3,
   "metadata": {
    "collapsed": false
   },
   "outputs": [
    {
     "data": {
      "text/html": [
       "<table>\n",
       "<thead><tr><th scope=col>mpg</th><th scope=col>cyl</th><th scope=col>disp</th><th scope=col>hp</th><th scope=col>drat</th><th scope=col>wt</th><th scope=col>qsec</th><th scope=col>vs</th><th scope=col>am</th><th scope=col>gear</th><th scope=col>carb</th></tr></thead>\n",
       "<tbody>\n",
       "\t<tr><td>26.0 </td><td>4    </td><td>120.3</td><td> 91  </td><td>4.43 </td><td>2.140</td><td>16.7 </td><td>0    </td><td>1    </td><td>5    </td><td>2    </td></tr>\n",
       "\t<tr><td>30.4 </td><td>4    </td><td> 95.1</td><td>113  </td><td>3.77 </td><td>1.513</td><td>16.9 </td><td>1    </td><td>1    </td><td>5    </td><td>2    </td></tr>\n",
       "</tbody>\n",
       "</table>\n"
      ],
      "text/latex": [
       "\\begin{tabular}{r|lllllllllll}\n",
       " mpg & cyl & disp & hp & drat & wt & qsec & vs & am & gear & carb\\\\\n",
       "\\hline\n",
       "\t 26.0  & 4     & 120.3 &  91   & 4.43  & 2.140 & 16.7  & 0     & 1     & 5     & 2    \\\\\n",
       "\t 30.4  & 4     &  95.1 & 113   & 3.77  & 1.513 & 16.9  & 1     & 1     & 5     & 2    \\\\\n",
       "\\end{tabular}\n"
      ],
      "text/markdown": [
       "\n",
       "mpg | cyl | disp | hp | drat | wt | qsec | vs | am | gear | carb | \n",
       "|---|---|\n",
       "| 26.0  | 4     | 120.3 |  91   | 4.43  | 2.140 | 16.7  | 0     | 1     | 5     | 2     | \n",
       "| 30.4  | 4     |  95.1 | 113   | 3.77  | 1.513 | 16.9  | 1     | 1     | 5     | 2     | \n",
       "\n",
       "\n"
      ],
      "text/plain": [
       "  mpg  cyl disp  hp  drat wt    qsec vs am gear carb\n",
       "1 26.0 4   120.3  91 4.43 2.140 16.7 0  1  5    2   \n",
       "2 30.4 4    95.1 113 3.77 1.513 16.9 1  1  5    2   "
      ]
     },
     "metadata": {},
     "output_type": "display_data"
    }
   ],
   "source": [
    "filter(carData, cyl==4, gear==5)"
   ]
  },
  {
   "cell_type": "code",
   "execution_count": 4,
   "metadata": {
    "collapsed": false
   },
   "outputs": [
    {
     "data": {
      "text/html": [
       "<table>\n",
       "<thead><tr><th></th><th scope=col>mpg</th><th scope=col>wt</th><th scope=col>cyl</th></tr></thead>\n",
       "<tbody>\n",
       "\t<tr><th scope=row>Mazda RX4</th><td>21.0 </td><td>2.620</td><td>6    </td></tr>\n",
       "\t<tr><th scope=row>Mazda RX4 Wag</th><td>21.0 </td><td>2.875</td><td>6    </td></tr>\n",
       "\t<tr><th scope=row>Datsun 710</th><td>22.8 </td><td>2.320</td><td>4    </td></tr>\n",
       "\t<tr><th scope=row>Hornet 4 Drive</th><td>21.4 </td><td>3.215</td><td>6    </td></tr>\n",
       "\t<tr><th scope=row>Hornet Sportabout</th><td>18.7 </td><td>3.440</td><td>8    </td></tr>\n",
       "\t<tr><th scope=row>Valiant</th><td>18.1 </td><td>3.460</td><td>6    </td></tr>\n",
       "\t<tr><th scope=row>Duster 360</th><td>14.3 </td><td>3.570</td><td>8    </td></tr>\n",
       "\t<tr><th scope=row>Merc 240D</th><td>24.4 </td><td>3.190</td><td>4    </td></tr>\n",
       "\t<tr><th scope=row>Merc 230</th><td>22.8 </td><td>3.150</td><td>4    </td></tr>\n",
       "\t<tr><th scope=row>Merc 280</th><td>19.2 </td><td>3.440</td><td>6    </td></tr>\n",
       "\t<tr><th scope=row>Merc 280C</th><td>17.8 </td><td>3.440</td><td>6    </td></tr>\n",
       "\t<tr><th scope=row>Merc 450SE</th><td>16.4 </td><td>4.070</td><td>8    </td></tr>\n",
       "\t<tr><th scope=row>Merc 450SL</th><td>17.3 </td><td>3.730</td><td>8    </td></tr>\n",
       "\t<tr><th scope=row>Merc 450SLC</th><td>15.2 </td><td>3.780</td><td>8    </td></tr>\n",
       "\t<tr><th scope=row>Cadillac Fleetwood</th><td>10.4 </td><td>5.250</td><td>8    </td></tr>\n",
       "\t<tr><th scope=row>Lincoln Continental</th><td>10.4 </td><td>5.424</td><td>8    </td></tr>\n",
       "\t<tr><th scope=row>Chrysler Imperial</th><td>14.7 </td><td>5.345</td><td>8    </td></tr>\n",
       "\t<tr><th scope=row>Fiat 128</th><td>32.4 </td><td>2.200</td><td>4    </td></tr>\n",
       "\t<tr><th scope=row>Honda Civic</th><td>30.4 </td><td>1.615</td><td>4    </td></tr>\n",
       "\t<tr><th scope=row>Toyota Corolla</th><td>33.9 </td><td>1.835</td><td>4    </td></tr>\n",
       "\t<tr><th scope=row>Toyota Corona</th><td>21.5 </td><td>2.465</td><td>4    </td></tr>\n",
       "\t<tr><th scope=row>Dodge Challenger</th><td>15.5 </td><td>3.520</td><td>8    </td></tr>\n",
       "\t<tr><th scope=row>AMC Javelin</th><td>15.2 </td><td>3.435</td><td>8    </td></tr>\n",
       "\t<tr><th scope=row>Camaro Z28</th><td>13.3 </td><td>3.840</td><td>8    </td></tr>\n",
       "\t<tr><th scope=row>Pontiac Firebird</th><td>19.2 </td><td>3.845</td><td>8    </td></tr>\n",
       "\t<tr><th scope=row>Fiat X1-9</th><td>27.3 </td><td>1.935</td><td>4    </td></tr>\n",
       "\t<tr><th scope=row>Porsche 914-2</th><td>26.0 </td><td>2.140</td><td>4    </td></tr>\n",
       "\t<tr><th scope=row>Lotus Europa</th><td>30.4 </td><td>1.513</td><td>4    </td></tr>\n",
       "\t<tr><th scope=row>Ford Pantera L</th><td>15.8 </td><td>3.170</td><td>8    </td></tr>\n",
       "\t<tr><th scope=row>Ferrari Dino</th><td>19.7 </td><td>2.770</td><td>6    </td></tr>\n",
       "\t<tr><th scope=row>Maserati Bora</th><td>15.0 </td><td>3.570</td><td>8    </td></tr>\n",
       "\t<tr><th scope=row>Volvo 142E</th><td>21.4 </td><td>2.780</td><td>4    </td></tr>\n",
       "</tbody>\n",
       "</table>\n"
      ],
      "text/latex": [
       "\\begin{tabular}{r|lll}\n",
       "  & mpg & wt & cyl\\\\\n",
       "\\hline\n",
       "\tMazda RX4 & 21.0  & 2.620 & 6    \\\\\n",
       "\tMazda RX4 Wag & 21.0  & 2.875 & 6    \\\\\n",
       "\tDatsun 710 & 22.8  & 2.320 & 4    \\\\\n",
       "\tHornet 4 Drive & 21.4  & 3.215 & 6    \\\\\n",
       "\tHornet Sportabout & 18.7  & 3.440 & 8    \\\\\n",
       "\tValiant & 18.1  & 3.460 & 6    \\\\\n",
       "\tDuster 360 & 14.3  & 3.570 & 8    \\\\\n",
       "\tMerc 240D & 24.4  & 3.190 & 4    \\\\\n",
       "\tMerc 230 & 22.8  & 3.150 & 4    \\\\\n",
       "\tMerc 280 & 19.2  & 3.440 & 6    \\\\\n",
       "\tMerc 280C & 17.8  & 3.440 & 6    \\\\\n",
       "\tMerc 450SE & 16.4  & 4.070 & 8    \\\\\n",
       "\tMerc 450SL & 17.3  & 3.730 & 8    \\\\\n",
       "\tMerc 450SLC & 15.2  & 3.780 & 8    \\\\\n",
       "\tCadillac Fleetwood & 10.4  & 5.250 & 8    \\\\\n",
       "\tLincoln Continental & 10.4  & 5.424 & 8    \\\\\n",
       "\tChrysler Imperial & 14.7  & 5.345 & 8    \\\\\n",
       "\tFiat 128 & 32.4  & 2.200 & 4    \\\\\n",
       "\tHonda Civic & 30.4  & 1.615 & 4    \\\\\n",
       "\tToyota Corolla & 33.9  & 1.835 & 4    \\\\\n",
       "\tToyota Corona & 21.5  & 2.465 & 4    \\\\\n",
       "\tDodge Challenger & 15.5  & 3.520 & 8    \\\\\n",
       "\tAMC Javelin & 15.2  & 3.435 & 8    \\\\\n",
       "\tCamaro Z28 & 13.3  & 3.840 & 8    \\\\\n",
       "\tPontiac Firebird & 19.2  & 3.845 & 8    \\\\\n",
       "\tFiat X1-9 & 27.3  & 1.935 & 4    \\\\\n",
       "\tPorsche 914-2 & 26.0  & 2.140 & 4    \\\\\n",
       "\tLotus Europa & 30.4  & 1.513 & 4    \\\\\n",
       "\tFord Pantera L & 15.8  & 3.170 & 8    \\\\\n",
       "\tFerrari Dino & 19.7  & 2.770 & 6    \\\\\n",
       "\tMaserati Bora & 15.0  & 3.570 & 8    \\\\\n",
       "\tVolvo 142E & 21.4  & 2.780 & 4    \\\\\n",
       "\\end{tabular}\n"
      ],
      "text/markdown": [
       "\n",
       "| <!--/--> | mpg | wt | cyl | \n",
       "|---|---|---|---|---|---|---|---|---|---|---|---|---|---|---|---|---|---|---|---|---|---|---|---|---|---|---|---|---|---|---|---|\n",
       "| Mazda RX4 | 21.0  | 2.620 | 6     | \n",
       "| Mazda RX4 Wag | 21.0  | 2.875 | 6     | \n",
       "| Datsun 710 | 22.8  | 2.320 | 4     | \n",
       "| Hornet 4 Drive | 21.4  | 3.215 | 6     | \n",
       "| Hornet Sportabout | 18.7  | 3.440 | 8     | \n",
       "| Valiant | 18.1  | 3.460 | 6     | \n",
       "| Duster 360 | 14.3  | 3.570 | 8     | \n",
       "| Merc 240D | 24.4  | 3.190 | 4     | \n",
       "| Merc 230 | 22.8  | 3.150 | 4     | \n",
       "| Merc 280 | 19.2  | 3.440 | 6     | \n",
       "| Merc 280C | 17.8  | 3.440 | 6     | \n",
       "| Merc 450SE | 16.4  | 4.070 | 8     | \n",
       "| Merc 450SL | 17.3  | 3.730 | 8     | \n",
       "| Merc 450SLC | 15.2  | 3.780 | 8     | \n",
       "| Cadillac Fleetwood | 10.4  | 5.250 | 8     | \n",
       "| Lincoln Continental | 10.4  | 5.424 | 8     | \n",
       "| Chrysler Imperial | 14.7  | 5.345 | 8     | \n",
       "| Fiat 128 | 32.4  | 2.200 | 4     | \n",
       "| Honda Civic | 30.4  | 1.615 | 4     | \n",
       "| Toyota Corolla | 33.9  | 1.835 | 4     | \n",
       "| Toyota Corona | 21.5  | 2.465 | 4     | \n",
       "| Dodge Challenger | 15.5  | 3.520 | 8     | \n",
       "| AMC Javelin | 15.2  | 3.435 | 8     | \n",
       "| Camaro Z28 | 13.3  | 3.840 | 8     | \n",
       "| Pontiac Firebird | 19.2  | 3.845 | 8     | \n",
       "| Fiat X1-9 | 27.3  | 1.935 | 4     | \n",
       "| Porsche 914-2 | 26.0  | 2.140 | 4     | \n",
       "| Lotus Europa | 30.4  | 1.513 | 4     | \n",
       "| Ford Pantera L | 15.8  | 3.170 | 8     | \n",
       "| Ferrari Dino | 19.7  | 2.770 | 6     | \n",
       "| Maserati Bora | 15.0  | 3.570 | 8     | \n",
       "| Volvo 142E | 21.4  | 2.780 | 4     | \n",
       "\n",
       "\n"
      ],
      "text/plain": [
       "                    mpg  wt    cyl\n",
       "Mazda RX4           21.0 2.620 6  \n",
       "Mazda RX4 Wag       21.0 2.875 6  \n",
       "Datsun 710          22.8 2.320 4  \n",
       "Hornet 4 Drive      21.4 3.215 6  \n",
       "Hornet Sportabout   18.7 3.440 8  \n",
       "Valiant             18.1 3.460 6  \n",
       "Duster 360          14.3 3.570 8  \n",
       "Merc 240D           24.4 3.190 4  \n",
       "Merc 230            22.8 3.150 4  \n",
       "Merc 280            19.2 3.440 6  \n",
       "Merc 280C           17.8 3.440 6  \n",
       "Merc 450SE          16.4 4.070 8  \n",
       "Merc 450SL          17.3 3.730 8  \n",
       "Merc 450SLC         15.2 3.780 8  \n",
       "Cadillac Fleetwood  10.4 5.250 8  \n",
       "Lincoln Continental 10.4 5.424 8  \n",
       "Chrysler Imperial   14.7 5.345 8  \n",
       "Fiat 128            32.4 2.200 4  \n",
       "Honda Civic         30.4 1.615 4  \n",
       "Toyota Corolla      33.9 1.835 4  \n",
       "Toyota Corona       21.5 2.465 4  \n",
       "Dodge Challenger    15.5 3.520 8  \n",
       "AMC Javelin         15.2 3.435 8  \n",
       "Camaro Z28          13.3 3.840 8  \n",
       "Pontiac Firebird    19.2 3.845 8  \n",
       "Fiat X1-9           27.3 1.935 4  \n",
       "Porsche 914-2       26.0 2.140 4  \n",
       "Lotus Europa        30.4 1.513 4  \n",
       "Ford Pantera L      15.8 3.170 8  \n",
       "Ferrari Dino        19.7 2.770 6  \n",
       "Maserati Bora       15.0 3.570 8  \n",
       "Volvo 142E          21.4 2.780 4  "
      ]
     },
     "metadata": {},
     "output_type": "display_data"
    }
   ],
   "source": [
    "select(carData, mpg, wt, cyl)"
   ]
  },
  {
   "cell_type": "code",
   "execution_count": 5,
   "metadata": {
    "collapsed": false
   },
   "outputs": [
    {
     "data": {
      "text/html": [
       "<table>\n",
       "<thead><tr><th></th><th scope=col>mpg</th><th scope=col>cyl</th><th scope=col>disp</th><th scope=col>hp</th><th scope=col>drat</th><th scope=col>wt</th><th scope=col>qsec</th><th scope=col>gear</th><th scope=col>carb</th></tr></thead>\n",
       "<tbody>\n",
       "\t<tr><th scope=row>Mazda RX4</th><td>21.0 </td><td>6    </td><td>160.0</td><td>110  </td><td>3.90 </td><td>2.620</td><td>16.46</td><td>4    </td><td>4    </td></tr>\n",
       "\t<tr><th scope=row>Mazda RX4 Wag</th><td>21.0 </td><td>6    </td><td>160.0</td><td>110  </td><td>3.90 </td><td>2.875</td><td>17.02</td><td>4    </td><td>4    </td></tr>\n",
       "\t<tr><th scope=row>Datsun 710</th><td>22.8 </td><td>4    </td><td>108.0</td><td> 93  </td><td>3.85 </td><td>2.320</td><td>18.61</td><td>4    </td><td>1    </td></tr>\n",
       "\t<tr><th scope=row>Hornet 4 Drive</th><td>21.4 </td><td>6    </td><td>258.0</td><td>110  </td><td>3.08 </td><td>3.215</td><td>19.44</td><td>3    </td><td>1    </td></tr>\n",
       "\t<tr><th scope=row>Hornet Sportabout</th><td>18.7 </td><td>8    </td><td>360.0</td><td>175  </td><td>3.15 </td><td>3.440</td><td>17.02</td><td>3    </td><td>2    </td></tr>\n",
       "\t<tr><th scope=row>Valiant</th><td>18.1 </td><td>6    </td><td>225.0</td><td>105  </td><td>2.76 </td><td>3.460</td><td>20.22</td><td>3    </td><td>1    </td></tr>\n",
       "\t<tr><th scope=row>Duster 360</th><td>14.3 </td><td>8    </td><td>360.0</td><td>245  </td><td>3.21 </td><td>3.570</td><td>15.84</td><td>3    </td><td>4    </td></tr>\n",
       "\t<tr><th scope=row>Merc 240D</th><td>24.4 </td><td>4    </td><td>146.7</td><td> 62  </td><td>3.69 </td><td>3.190</td><td>20.00</td><td>4    </td><td>2    </td></tr>\n",
       "\t<tr><th scope=row>Merc 230</th><td>22.8 </td><td>4    </td><td>140.8</td><td> 95  </td><td>3.92 </td><td>3.150</td><td>22.90</td><td>4    </td><td>2    </td></tr>\n",
       "\t<tr><th scope=row>Merc 280</th><td>19.2 </td><td>6    </td><td>167.6</td><td>123  </td><td>3.92 </td><td>3.440</td><td>18.30</td><td>4    </td><td>4    </td></tr>\n",
       "\t<tr><th scope=row>Merc 280C</th><td>17.8 </td><td>6    </td><td>167.6</td><td>123  </td><td>3.92 </td><td>3.440</td><td>18.90</td><td>4    </td><td>4    </td></tr>\n",
       "\t<tr><th scope=row>Merc 450SE</th><td>16.4 </td><td>8    </td><td>275.8</td><td>180  </td><td>3.07 </td><td>4.070</td><td>17.40</td><td>3    </td><td>3    </td></tr>\n",
       "\t<tr><th scope=row>Merc 450SL</th><td>17.3 </td><td>8    </td><td>275.8</td><td>180  </td><td>3.07 </td><td>3.730</td><td>17.60</td><td>3    </td><td>3    </td></tr>\n",
       "\t<tr><th scope=row>Merc 450SLC</th><td>15.2 </td><td>8    </td><td>275.8</td><td>180  </td><td>3.07 </td><td>3.780</td><td>18.00</td><td>3    </td><td>3    </td></tr>\n",
       "\t<tr><th scope=row>Cadillac Fleetwood</th><td>10.4 </td><td>8    </td><td>472.0</td><td>205  </td><td>2.93 </td><td>5.250</td><td>17.98</td><td>3    </td><td>4    </td></tr>\n",
       "\t<tr><th scope=row>Lincoln Continental</th><td>10.4 </td><td>8    </td><td>460.0</td><td>215  </td><td>3.00 </td><td>5.424</td><td>17.82</td><td>3    </td><td>4    </td></tr>\n",
       "\t<tr><th scope=row>Chrysler Imperial</th><td>14.7 </td><td>8    </td><td>440.0</td><td>230  </td><td>3.23 </td><td>5.345</td><td>17.42</td><td>3    </td><td>4    </td></tr>\n",
       "\t<tr><th scope=row>Fiat 128</th><td>32.4 </td><td>4    </td><td> 78.7</td><td> 66  </td><td>4.08 </td><td>2.200</td><td>19.47</td><td>4    </td><td>1    </td></tr>\n",
       "\t<tr><th scope=row>Honda Civic</th><td>30.4 </td><td>4    </td><td> 75.7</td><td> 52  </td><td>4.93 </td><td>1.615</td><td>18.52</td><td>4    </td><td>2    </td></tr>\n",
       "\t<tr><th scope=row>Toyota Corolla</th><td>33.9 </td><td>4    </td><td> 71.1</td><td> 65  </td><td>4.22 </td><td>1.835</td><td>19.90</td><td>4    </td><td>1    </td></tr>\n",
       "\t<tr><th scope=row>Toyota Corona</th><td>21.5 </td><td>4    </td><td>120.1</td><td> 97  </td><td>3.70 </td><td>2.465</td><td>20.01</td><td>3    </td><td>1    </td></tr>\n",
       "\t<tr><th scope=row>Dodge Challenger</th><td>15.5 </td><td>8    </td><td>318.0</td><td>150  </td><td>2.76 </td><td>3.520</td><td>16.87</td><td>3    </td><td>2    </td></tr>\n",
       "\t<tr><th scope=row>AMC Javelin</th><td>15.2 </td><td>8    </td><td>304.0</td><td>150  </td><td>3.15 </td><td>3.435</td><td>17.30</td><td>3    </td><td>2    </td></tr>\n",
       "\t<tr><th scope=row>Camaro Z28</th><td>13.3 </td><td>8    </td><td>350.0</td><td>245  </td><td>3.73 </td><td>3.840</td><td>15.41</td><td>3    </td><td>4    </td></tr>\n",
       "\t<tr><th scope=row>Pontiac Firebird</th><td>19.2 </td><td>8    </td><td>400.0</td><td>175  </td><td>3.08 </td><td>3.845</td><td>17.05</td><td>3    </td><td>2    </td></tr>\n",
       "\t<tr><th scope=row>Fiat X1-9</th><td>27.3 </td><td>4    </td><td> 79.0</td><td> 66  </td><td>4.08 </td><td>1.935</td><td>18.90</td><td>4    </td><td>1    </td></tr>\n",
       "\t<tr><th scope=row>Porsche 914-2</th><td>26.0 </td><td>4    </td><td>120.3</td><td> 91  </td><td>4.43 </td><td>2.140</td><td>16.70</td><td>5    </td><td>2    </td></tr>\n",
       "\t<tr><th scope=row>Lotus Europa</th><td>30.4 </td><td>4    </td><td> 95.1</td><td>113  </td><td>3.77 </td><td>1.513</td><td>16.90</td><td>5    </td><td>2    </td></tr>\n",
       "\t<tr><th scope=row>Ford Pantera L</th><td>15.8 </td><td>8    </td><td>351.0</td><td>264  </td><td>4.22 </td><td>3.170</td><td>14.50</td><td>5    </td><td>4    </td></tr>\n",
       "\t<tr><th scope=row>Ferrari Dino</th><td>19.7 </td><td>6    </td><td>145.0</td><td>175  </td><td>3.62 </td><td>2.770</td><td>15.50</td><td>5    </td><td>6    </td></tr>\n",
       "\t<tr><th scope=row>Maserati Bora</th><td>15.0 </td><td>8    </td><td>301.0</td><td>335  </td><td>3.54 </td><td>3.570</td><td>14.60</td><td>5    </td><td>8    </td></tr>\n",
       "\t<tr><th scope=row>Volvo 142E</th><td>21.4 </td><td>4    </td><td>121.0</td><td>109  </td><td>4.11 </td><td>2.780</td><td>18.60</td><td>4    </td><td>2    </td></tr>\n",
       "</tbody>\n",
       "</table>\n"
      ],
      "text/latex": [
       "\\begin{tabular}{r|lllllllll}\n",
       "  & mpg & cyl & disp & hp & drat & wt & qsec & gear & carb\\\\\n",
       "\\hline\n",
       "\tMazda RX4 & 21.0  & 6     & 160.0 & 110   & 3.90  & 2.620 & 16.46 & 4     & 4    \\\\\n",
       "\tMazda RX4 Wag & 21.0  & 6     & 160.0 & 110   & 3.90  & 2.875 & 17.02 & 4     & 4    \\\\\n",
       "\tDatsun 710 & 22.8  & 4     & 108.0 &  93   & 3.85  & 2.320 & 18.61 & 4     & 1    \\\\\n",
       "\tHornet 4 Drive & 21.4  & 6     & 258.0 & 110   & 3.08  & 3.215 & 19.44 & 3     & 1    \\\\\n",
       "\tHornet Sportabout & 18.7  & 8     & 360.0 & 175   & 3.15  & 3.440 & 17.02 & 3     & 2    \\\\\n",
       "\tValiant & 18.1  & 6     & 225.0 & 105   & 2.76  & 3.460 & 20.22 & 3     & 1    \\\\\n",
       "\tDuster 360 & 14.3  & 8     & 360.0 & 245   & 3.21  & 3.570 & 15.84 & 3     & 4    \\\\\n",
       "\tMerc 240D & 24.4  & 4     & 146.7 &  62   & 3.69  & 3.190 & 20.00 & 4     & 2    \\\\\n",
       "\tMerc 230 & 22.8  & 4     & 140.8 &  95   & 3.92  & 3.150 & 22.90 & 4     & 2    \\\\\n",
       "\tMerc 280 & 19.2  & 6     & 167.6 & 123   & 3.92  & 3.440 & 18.30 & 4     & 4    \\\\\n",
       "\tMerc 280C & 17.8  & 6     & 167.6 & 123   & 3.92  & 3.440 & 18.90 & 4     & 4    \\\\\n",
       "\tMerc 450SE & 16.4  & 8     & 275.8 & 180   & 3.07  & 4.070 & 17.40 & 3     & 3    \\\\\n",
       "\tMerc 450SL & 17.3  & 8     & 275.8 & 180   & 3.07  & 3.730 & 17.60 & 3     & 3    \\\\\n",
       "\tMerc 450SLC & 15.2  & 8     & 275.8 & 180   & 3.07  & 3.780 & 18.00 & 3     & 3    \\\\\n",
       "\tCadillac Fleetwood & 10.4  & 8     & 472.0 & 205   & 2.93  & 5.250 & 17.98 & 3     & 4    \\\\\n",
       "\tLincoln Continental & 10.4  & 8     & 460.0 & 215   & 3.00  & 5.424 & 17.82 & 3     & 4    \\\\\n",
       "\tChrysler Imperial & 14.7  & 8     & 440.0 & 230   & 3.23  & 5.345 & 17.42 & 3     & 4    \\\\\n",
       "\tFiat 128 & 32.4  & 4     &  78.7 &  66   & 4.08  & 2.200 & 19.47 & 4     & 1    \\\\\n",
       "\tHonda Civic & 30.4  & 4     &  75.7 &  52   & 4.93  & 1.615 & 18.52 & 4     & 2    \\\\\n",
       "\tToyota Corolla & 33.9  & 4     &  71.1 &  65   & 4.22  & 1.835 & 19.90 & 4     & 1    \\\\\n",
       "\tToyota Corona & 21.5  & 4     & 120.1 &  97   & 3.70  & 2.465 & 20.01 & 3     & 1    \\\\\n",
       "\tDodge Challenger & 15.5  & 8     & 318.0 & 150   & 2.76  & 3.520 & 16.87 & 3     & 2    \\\\\n",
       "\tAMC Javelin & 15.2  & 8     & 304.0 & 150   & 3.15  & 3.435 & 17.30 & 3     & 2    \\\\\n",
       "\tCamaro Z28 & 13.3  & 8     & 350.0 & 245   & 3.73  & 3.840 & 15.41 & 3     & 4    \\\\\n",
       "\tPontiac Firebird & 19.2  & 8     & 400.0 & 175   & 3.08  & 3.845 & 17.05 & 3     & 2    \\\\\n",
       "\tFiat X1-9 & 27.3  & 4     &  79.0 &  66   & 4.08  & 1.935 & 18.90 & 4     & 1    \\\\\n",
       "\tPorsche 914-2 & 26.0  & 4     & 120.3 &  91   & 4.43  & 2.140 & 16.70 & 5     & 2    \\\\\n",
       "\tLotus Europa & 30.4  & 4     &  95.1 & 113   & 3.77  & 1.513 & 16.90 & 5     & 2    \\\\\n",
       "\tFord Pantera L & 15.8  & 8     & 351.0 & 264   & 4.22  & 3.170 & 14.50 & 5     & 4    \\\\\n",
       "\tFerrari Dino & 19.7  & 6     & 145.0 & 175   & 3.62  & 2.770 & 15.50 & 5     & 6    \\\\\n",
       "\tMaserati Bora & 15.0  & 8     & 301.0 & 335   & 3.54  & 3.570 & 14.60 & 5     & 8    \\\\\n",
       "\tVolvo 142E & 21.4  & 4     & 121.0 & 109   & 4.11  & 2.780 & 18.60 & 4     & 2    \\\\\n",
       "\\end{tabular}\n"
      ],
      "text/markdown": [
       "\n",
       "| <!--/--> | mpg | cyl | disp | hp | drat | wt | qsec | gear | carb | \n",
       "|---|---|---|---|---|---|---|---|---|---|---|---|---|---|---|---|---|---|---|---|---|---|---|---|---|---|---|---|---|---|---|---|\n",
       "| Mazda RX4 | 21.0  | 6     | 160.0 | 110   | 3.90  | 2.620 | 16.46 | 4     | 4     | \n",
       "| Mazda RX4 Wag | 21.0  | 6     | 160.0 | 110   | 3.90  | 2.875 | 17.02 | 4     | 4     | \n",
       "| Datsun 710 | 22.8  | 4     | 108.0 |  93   | 3.85  | 2.320 | 18.61 | 4     | 1     | \n",
       "| Hornet 4 Drive | 21.4  | 6     | 258.0 | 110   | 3.08  | 3.215 | 19.44 | 3     | 1     | \n",
       "| Hornet Sportabout | 18.7  | 8     | 360.0 | 175   | 3.15  | 3.440 | 17.02 | 3     | 2     | \n",
       "| Valiant | 18.1  | 6     | 225.0 | 105   | 2.76  | 3.460 | 20.22 | 3     | 1     | \n",
       "| Duster 360 | 14.3  | 8     | 360.0 | 245   | 3.21  | 3.570 | 15.84 | 3     | 4     | \n",
       "| Merc 240D | 24.4  | 4     | 146.7 |  62   | 3.69  | 3.190 | 20.00 | 4     | 2     | \n",
       "| Merc 230 | 22.8  | 4     | 140.8 |  95   | 3.92  | 3.150 | 22.90 | 4     | 2     | \n",
       "| Merc 280 | 19.2  | 6     | 167.6 | 123   | 3.92  | 3.440 | 18.30 | 4     | 4     | \n",
       "| Merc 280C | 17.8  | 6     | 167.6 | 123   | 3.92  | 3.440 | 18.90 | 4     | 4     | \n",
       "| Merc 450SE | 16.4  | 8     | 275.8 | 180   | 3.07  | 4.070 | 17.40 | 3     | 3     | \n",
       "| Merc 450SL | 17.3  | 8     | 275.8 | 180   | 3.07  | 3.730 | 17.60 | 3     | 3     | \n",
       "| Merc 450SLC | 15.2  | 8     | 275.8 | 180   | 3.07  | 3.780 | 18.00 | 3     | 3     | \n",
       "| Cadillac Fleetwood | 10.4  | 8     | 472.0 | 205   | 2.93  | 5.250 | 17.98 | 3     | 4     | \n",
       "| Lincoln Continental | 10.4  | 8     | 460.0 | 215   | 3.00  | 5.424 | 17.82 | 3     | 4     | \n",
       "| Chrysler Imperial | 14.7  | 8     | 440.0 | 230   | 3.23  | 5.345 | 17.42 | 3     | 4     | \n",
       "| Fiat 128 | 32.4  | 4     |  78.7 |  66   | 4.08  | 2.200 | 19.47 | 4     | 1     | \n",
       "| Honda Civic | 30.4  | 4     |  75.7 |  52   | 4.93  | 1.615 | 18.52 | 4     | 2     | \n",
       "| Toyota Corolla | 33.9  | 4     |  71.1 |  65   | 4.22  | 1.835 | 19.90 | 4     | 1     | \n",
       "| Toyota Corona | 21.5  | 4     | 120.1 |  97   | 3.70  | 2.465 | 20.01 | 3     | 1     | \n",
       "| Dodge Challenger | 15.5  | 8     | 318.0 | 150   | 2.76  | 3.520 | 16.87 | 3     | 2     | \n",
       "| AMC Javelin | 15.2  | 8     | 304.0 | 150   | 3.15  | 3.435 | 17.30 | 3     | 2     | \n",
       "| Camaro Z28 | 13.3  | 8     | 350.0 | 245   | 3.73  | 3.840 | 15.41 | 3     | 4     | \n",
       "| Pontiac Firebird | 19.2  | 8     | 400.0 | 175   | 3.08  | 3.845 | 17.05 | 3     | 2     | \n",
       "| Fiat X1-9 | 27.3  | 4     |  79.0 |  66   | 4.08  | 1.935 | 18.90 | 4     | 1     | \n",
       "| Porsche 914-2 | 26.0  | 4     | 120.3 |  91   | 4.43  | 2.140 | 16.70 | 5     | 2     | \n",
       "| Lotus Europa | 30.4  | 4     |  95.1 | 113   | 3.77  | 1.513 | 16.90 | 5     | 2     | \n",
       "| Ford Pantera L | 15.8  | 8     | 351.0 | 264   | 4.22  | 3.170 | 14.50 | 5     | 4     | \n",
       "| Ferrari Dino | 19.7  | 6     | 145.0 | 175   | 3.62  | 2.770 | 15.50 | 5     | 6     | \n",
       "| Maserati Bora | 15.0  | 8     | 301.0 | 335   | 3.54  | 3.570 | 14.60 | 5     | 8     | \n",
       "| Volvo 142E | 21.4  | 4     | 121.0 | 109   | 4.11  | 2.780 | 18.60 | 4     | 2     | \n",
       "\n",
       "\n"
      ],
      "text/plain": [
       "                    mpg  cyl disp  hp  drat wt    qsec  gear carb\n",
       "Mazda RX4           21.0 6   160.0 110 3.90 2.620 16.46 4    4   \n",
       "Mazda RX4 Wag       21.0 6   160.0 110 3.90 2.875 17.02 4    4   \n",
       "Datsun 710          22.8 4   108.0  93 3.85 2.320 18.61 4    1   \n",
       "Hornet 4 Drive      21.4 6   258.0 110 3.08 3.215 19.44 3    1   \n",
       "Hornet Sportabout   18.7 8   360.0 175 3.15 3.440 17.02 3    2   \n",
       "Valiant             18.1 6   225.0 105 2.76 3.460 20.22 3    1   \n",
       "Duster 360          14.3 8   360.0 245 3.21 3.570 15.84 3    4   \n",
       "Merc 240D           24.4 4   146.7  62 3.69 3.190 20.00 4    2   \n",
       "Merc 230            22.8 4   140.8  95 3.92 3.150 22.90 4    2   \n",
       "Merc 280            19.2 6   167.6 123 3.92 3.440 18.30 4    4   \n",
       "Merc 280C           17.8 6   167.6 123 3.92 3.440 18.90 4    4   \n",
       "Merc 450SE          16.4 8   275.8 180 3.07 4.070 17.40 3    3   \n",
       "Merc 450SL          17.3 8   275.8 180 3.07 3.730 17.60 3    3   \n",
       "Merc 450SLC         15.2 8   275.8 180 3.07 3.780 18.00 3    3   \n",
       "Cadillac Fleetwood  10.4 8   472.0 205 2.93 5.250 17.98 3    4   \n",
       "Lincoln Continental 10.4 8   460.0 215 3.00 5.424 17.82 3    4   \n",
       "Chrysler Imperial   14.7 8   440.0 230 3.23 5.345 17.42 3    4   \n",
       "Fiat 128            32.4 4    78.7  66 4.08 2.200 19.47 4    1   \n",
       "Honda Civic         30.4 4    75.7  52 4.93 1.615 18.52 4    2   \n",
       "Toyota Corolla      33.9 4    71.1  65 4.22 1.835 19.90 4    1   \n",
       "Toyota Corona       21.5 4   120.1  97 3.70 2.465 20.01 3    1   \n",
       "Dodge Challenger    15.5 8   318.0 150 2.76 3.520 16.87 3    2   \n",
       "AMC Javelin         15.2 8   304.0 150 3.15 3.435 17.30 3    2   \n",
       "Camaro Z28          13.3 8   350.0 245 3.73 3.840 15.41 3    4   \n",
       "Pontiac Firebird    19.2 8   400.0 175 3.08 3.845 17.05 3    2   \n",
       "Fiat X1-9           27.3 4    79.0  66 4.08 1.935 18.90 4    1   \n",
       "Porsche 914-2       26.0 4   120.3  91 4.43 2.140 16.70 5    2   \n",
       "Lotus Europa        30.4 4    95.1 113 3.77 1.513 16.90 5    2   \n",
       "Ford Pantera L      15.8 8   351.0 264 4.22 3.170 14.50 5    4   \n",
       "Ferrari Dino        19.7 6   145.0 175 3.62 2.770 15.50 5    6   \n",
       "Maserati Bora       15.0 8   301.0 335 3.54 3.570 14.60 5    8   \n",
       "Volvo 142E          21.4 4   121.0 109 4.11 2.780 18.60 4    2   "
      ]
     },
     "metadata": {},
     "output_type": "display_data"
    }
   ],
   "source": [
    "# select everything except these columns\n",
    "select(carData, -vs, -am)"
   ]
  },
  {
   "cell_type": "code",
   "execution_count": 6,
   "metadata": {
    "collapsed": false
   },
   "outputs": [
    {
     "data": {
      "text/html": [
       "<table>\n",
       "<thead><tr><th scope=col>mpg</th><th scope=col>cyl</th><th scope=col>disp</th><th scope=col>hp</th><th scope=col>drat</th><th scope=col>wt</th><th scope=col>qsec</th><th scope=col>vs</th><th scope=col>am</th><th scope=col>gear</th><th scope=col>carb</th><th scope=col>type</th><th scope=col>pwr2wt</th></tr></thead>\n",
       "<tbody>\n",
       "\t<tr><td>21.0               </td><td>6                  </td><td>160.0              </td><td>110                </td><td>3.90               </td><td>2.620              </td><td>16.46              </td><td>0                  </td><td>1                  </td><td>4                  </td><td>4                  </td><td>Mazda RX4          </td><td>41.98473           </td></tr>\n",
       "\t<tr><td>21.0               </td><td>6                  </td><td>160.0              </td><td>110                </td><td>3.90               </td><td>2.875              </td><td>17.02              </td><td>0                  </td><td>1                  </td><td>4                  </td><td>4                  </td><td>Mazda RX4 Wag      </td><td>38.26087           </td></tr>\n",
       "\t<tr><td>22.8               </td><td>4                  </td><td>108.0              </td><td> 93                </td><td>3.85               </td><td>2.320              </td><td>18.61              </td><td>1                  </td><td>1                  </td><td>4                  </td><td>1                  </td><td>Datsun 710         </td><td>40.08621           </td></tr>\n",
       "\t<tr><td>21.4               </td><td>6                  </td><td>258.0              </td><td>110                </td><td>3.08               </td><td>3.215              </td><td>19.44              </td><td>1                  </td><td>0                  </td><td>3                  </td><td>1                  </td><td>Hornet 4 Drive     </td><td>34.21462           </td></tr>\n",
       "\t<tr><td>18.7               </td><td>8                  </td><td>360.0              </td><td>175                </td><td>3.15               </td><td>3.440              </td><td>17.02              </td><td>0                  </td><td>0                  </td><td>3                  </td><td>2                  </td><td>Hornet Sportabout  </td><td>50.87209           </td></tr>\n",
       "\t<tr><td>18.1               </td><td>6                  </td><td>225.0              </td><td>105                </td><td>2.76               </td><td>3.460              </td><td>20.22              </td><td>1                  </td><td>0                  </td><td>3                  </td><td>1                  </td><td>Valiant            </td><td>30.34682           </td></tr>\n",
       "\t<tr><td>14.3               </td><td>8                  </td><td>360.0              </td><td>245                </td><td>3.21               </td><td>3.570              </td><td>15.84              </td><td>0                  </td><td>0                  </td><td>3                  </td><td>4                  </td><td>Duster 360         </td><td>68.62745           </td></tr>\n",
       "\t<tr><td>24.4               </td><td>4                  </td><td>146.7              </td><td> 62                </td><td>3.69               </td><td>3.190              </td><td>20.00              </td><td>1                  </td><td>0                  </td><td>4                  </td><td>2                  </td><td>Merc 240D          </td><td>19.43574           </td></tr>\n",
       "\t<tr><td>22.8               </td><td>4                  </td><td>140.8              </td><td> 95                </td><td>3.92               </td><td>3.150              </td><td>22.90              </td><td>1                  </td><td>0                  </td><td>4                  </td><td>2                  </td><td>Merc 230           </td><td>30.15873           </td></tr>\n",
       "\t<tr><td>19.2               </td><td>6                  </td><td>167.6              </td><td>123                </td><td>3.92               </td><td>3.440              </td><td>18.30              </td><td>1                  </td><td>0                  </td><td>4                  </td><td>4                  </td><td>Merc 280           </td><td>35.75581           </td></tr>\n",
       "\t<tr><td>17.8               </td><td>6                  </td><td>167.6              </td><td>123                </td><td>3.92               </td><td>3.440              </td><td>18.90              </td><td>1                  </td><td>0                  </td><td>4                  </td><td>4                  </td><td>Merc 280C          </td><td>35.75581           </td></tr>\n",
       "\t<tr><td>16.4               </td><td>8                  </td><td>275.8              </td><td>180                </td><td>3.07               </td><td>4.070              </td><td>17.40              </td><td>0                  </td><td>0                  </td><td>3                  </td><td>3                  </td><td>Merc 450SE         </td><td>44.22604           </td></tr>\n",
       "\t<tr><td>17.3               </td><td>8                  </td><td>275.8              </td><td>180                </td><td>3.07               </td><td>3.730              </td><td>17.60              </td><td>0                  </td><td>0                  </td><td>3                  </td><td>3                  </td><td>Merc 450SL         </td><td>48.25737           </td></tr>\n",
       "\t<tr><td>15.2               </td><td>8                  </td><td>275.8              </td><td>180                </td><td>3.07               </td><td>3.780              </td><td>18.00              </td><td>0                  </td><td>0                  </td><td>3                  </td><td>3                  </td><td>Merc 450SLC        </td><td>47.61905           </td></tr>\n",
       "\t<tr><td>10.4               </td><td>8                  </td><td>472.0              </td><td>205                </td><td>2.93               </td><td>5.250              </td><td>17.98              </td><td>0                  </td><td>0                  </td><td>3                  </td><td>4                  </td><td>Cadillac Fleetwood </td><td>39.04762           </td></tr>\n",
       "\t<tr><td>10.4               </td><td>8                  </td><td>460.0              </td><td>215                </td><td>3.00               </td><td>5.424              </td><td>17.82              </td><td>0                  </td><td>0                  </td><td>3                  </td><td>4                  </td><td>Lincoln Continental</td><td>39.63864           </td></tr>\n",
       "\t<tr><td>14.7               </td><td>8                  </td><td>440.0              </td><td>230                </td><td>3.23               </td><td>5.345              </td><td>17.42              </td><td>0                  </td><td>0                  </td><td>3                  </td><td>4                  </td><td>Chrysler Imperial  </td><td>43.03087           </td></tr>\n",
       "\t<tr><td>32.4               </td><td>4                  </td><td> 78.7              </td><td> 66                </td><td>4.08               </td><td>2.200              </td><td>19.47              </td><td>1                  </td><td>1                  </td><td>4                  </td><td>1                  </td><td>Fiat 128           </td><td>30.00000           </td></tr>\n",
       "\t<tr><td>30.4               </td><td>4                  </td><td> 75.7              </td><td> 52                </td><td>4.93               </td><td>1.615              </td><td>18.52              </td><td>1                  </td><td>1                  </td><td>4                  </td><td>2                  </td><td>Honda Civic        </td><td>32.19814           </td></tr>\n",
       "\t<tr><td>33.9               </td><td>4                  </td><td> 71.1              </td><td> 65                </td><td>4.22               </td><td>1.835              </td><td>19.90              </td><td>1                  </td><td>1                  </td><td>4                  </td><td>1                  </td><td>Toyota Corolla     </td><td>35.42234           </td></tr>\n",
       "\t<tr><td>21.5               </td><td>4                  </td><td>120.1              </td><td> 97                </td><td>3.70               </td><td>2.465              </td><td>20.01              </td><td>1                  </td><td>0                  </td><td>3                  </td><td>1                  </td><td>Toyota Corona      </td><td>39.35091           </td></tr>\n",
       "\t<tr><td>15.5               </td><td>8                  </td><td>318.0              </td><td>150                </td><td>2.76               </td><td>3.520              </td><td>16.87              </td><td>0                  </td><td>0                  </td><td>3                  </td><td>2                  </td><td>Dodge Challenger   </td><td>42.61364           </td></tr>\n",
       "\t<tr><td>15.2               </td><td>8                  </td><td>304.0              </td><td>150                </td><td>3.15               </td><td>3.435              </td><td>17.30              </td><td>0                  </td><td>0                  </td><td>3                  </td><td>2                  </td><td>AMC Javelin        </td><td>43.66812           </td></tr>\n",
       "\t<tr><td>13.3               </td><td>8                  </td><td>350.0              </td><td>245                </td><td>3.73               </td><td>3.840              </td><td>15.41              </td><td>0                  </td><td>0                  </td><td>3                  </td><td>4                  </td><td>Camaro Z28         </td><td>63.80208           </td></tr>\n",
       "\t<tr><td>19.2               </td><td>8                  </td><td>400.0              </td><td>175                </td><td>3.08               </td><td>3.845              </td><td>17.05              </td><td>0                  </td><td>0                  </td><td>3                  </td><td>2                  </td><td>Pontiac Firebird   </td><td>45.51365           </td></tr>\n",
       "\t<tr><td>27.3               </td><td>4                  </td><td> 79.0              </td><td> 66                </td><td>4.08               </td><td>1.935              </td><td>18.90              </td><td>1                  </td><td>1                  </td><td>4                  </td><td>1                  </td><td>Fiat X1-9          </td><td>34.10853           </td></tr>\n",
       "\t<tr><td>26.0               </td><td>4                  </td><td>120.3              </td><td> 91                </td><td>4.43               </td><td>2.140              </td><td>16.70              </td><td>0                  </td><td>1                  </td><td>5                  </td><td>2                  </td><td>Porsche 914-2      </td><td>42.52336           </td></tr>\n",
       "\t<tr><td>30.4               </td><td>4                  </td><td> 95.1              </td><td>113                </td><td>3.77               </td><td>1.513              </td><td>16.90              </td><td>1                  </td><td>1                  </td><td>5                  </td><td>2                  </td><td>Lotus Europa       </td><td>74.68605           </td></tr>\n",
       "\t<tr><td>15.8               </td><td>8                  </td><td>351.0              </td><td>264                </td><td>4.22               </td><td>3.170              </td><td>14.50              </td><td>0                  </td><td>1                  </td><td>5                  </td><td>4                  </td><td>Ford Pantera L     </td><td>83.28076           </td></tr>\n",
       "\t<tr><td>19.7               </td><td>6                  </td><td>145.0              </td><td>175                </td><td>3.62               </td><td>2.770              </td><td>15.50              </td><td>0                  </td><td>1                  </td><td>5                  </td><td>6                  </td><td>Ferrari Dino       </td><td>63.17690           </td></tr>\n",
       "\t<tr><td>15.0               </td><td>8                  </td><td>301.0              </td><td>335                </td><td>3.54               </td><td>3.570              </td><td>14.60              </td><td>0                  </td><td>1                  </td><td>5                  </td><td>8                  </td><td>Maserati Bora      </td><td>93.83754           </td></tr>\n",
       "\t<tr><td>21.4               </td><td>4                  </td><td>121.0              </td><td>109                </td><td>4.11               </td><td>2.780              </td><td>18.60              </td><td>1                  </td><td>1                  </td><td>4                  </td><td>2                  </td><td>Volvo 142E         </td><td>39.20863           </td></tr>\n",
       "</tbody>\n",
       "</table>\n"
      ],
      "text/latex": [
       "\\begin{tabular}{r|lllllllllllll}\n",
       " mpg & cyl & disp & hp & drat & wt & qsec & vs & am & gear & carb & type & pwr2wt\\\\\n",
       "\\hline\n",
       "\t 21.0                & 6                   & 160.0               & 110                 & 3.90                & 2.620               & 16.46               & 0                   & 1                   & 4                   & 4                   & Mazda RX4           & 41.98473           \\\\\n",
       "\t 21.0                & 6                   & 160.0               & 110                 & 3.90                & 2.875               & 17.02               & 0                   & 1                   & 4                   & 4                   & Mazda RX4 Wag       & 38.26087           \\\\\n",
       "\t 22.8                & 4                   & 108.0               &  93                 & 3.85                & 2.320               & 18.61               & 1                   & 1                   & 4                   & 1                   & Datsun 710          & 40.08621           \\\\\n",
       "\t 21.4                & 6                   & 258.0               & 110                 & 3.08                & 3.215               & 19.44               & 1                   & 0                   & 3                   & 1                   & Hornet 4 Drive      & 34.21462           \\\\\n",
       "\t 18.7                & 8                   & 360.0               & 175                 & 3.15                & 3.440               & 17.02               & 0                   & 0                   & 3                   & 2                   & Hornet Sportabout   & 50.87209           \\\\\n",
       "\t 18.1                & 6                   & 225.0               & 105                 & 2.76                & 3.460               & 20.22               & 1                   & 0                   & 3                   & 1                   & Valiant             & 30.34682           \\\\\n",
       "\t 14.3                & 8                   & 360.0               & 245                 & 3.21                & 3.570               & 15.84               & 0                   & 0                   & 3                   & 4                   & Duster 360          & 68.62745           \\\\\n",
       "\t 24.4                & 4                   & 146.7               &  62                 & 3.69                & 3.190               & 20.00               & 1                   & 0                   & 4                   & 2                   & Merc 240D           & 19.43574           \\\\\n",
       "\t 22.8                & 4                   & 140.8               &  95                 & 3.92                & 3.150               & 22.90               & 1                   & 0                   & 4                   & 2                   & Merc 230            & 30.15873           \\\\\n",
       "\t 19.2                & 6                   & 167.6               & 123                 & 3.92                & 3.440               & 18.30               & 1                   & 0                   & 4                   & 4                   & Merc 280            & 35.75581           \\\\\n",
       "\t 17.8                & 6                   & 167.6               & 123                 & 3.92                & 3.440               & 18.90               & 1                   & 0                   & 4                   & 4                   & Merc 280C           & 35.75581           \\\\\n",
       "\t 16.4                & 8                   & 275.8               & 180                 & 3.07                & 4.070               & 17.40               & 0                   & 0                   & 3                   & 3                   & Merc 450SE          & 44.22604           \\\\\n",
       "\t 17.3                & 8                   & 275.8               & 180                 & 3.07                & 3.730               & 17.60               & 0                   & 0                   & 3                   & 3                   & Merc 450SL          & 48.25737           \\\\\n",
       "\t 15.2                & 8                   & 275.8               & 180                 & 3.07                & 3.780               & 18.00               & 0                   & 0                   & 3                   & 3                   & Merc 450SLC         & 47.61905           \\\\\n",
       "\t 10.4                & 8                   & 472.0               & 205                 & 2.93                & 5.250               & 17.98               & 0                   & 0                   & 3                   & 4                   & Cadillac Fleetwood  & 39.04762           \\\\\n",
       "\t 10.4                & 8                   & 460.0               & 215                 & 3.00                & 5.424               & 17.82               & 0                   & 0                   & 3                   & 4                   & Lincoln Continental & 39.63864           \\\\\n",
       "\t 14.7                & 8                   & 440.0               & 230                 & 3.23                & 5.345               & 17.42               & 0                   & 0                   & 3                   & 4                   & Chrysler Imperial   & 43.03087           \\\\\n",
       "\t 32.4                & 4                   &  78.7               &  66                 & 4.08                & 2.200               & 19.47               & 1                   & 1                   & 4                   & 1                   & Fiat 128            & 30.00000           \\\\\n",
       "\t 30.4                & 4                   &  75.7               &  52                 & 4.93                & 1.615               & 18.52               & 1                   & 1                   & 4                   & 2                   & Honda Civic         & 32.19814           \\\\\n",
       "\t 33.9                & 4                   &  71.1               &  65                 & 4.22                & 1.835               & 19.90               & 1                   & 1                   & 4                   & 1                   & Toyota Corolla      & 35.42234           \\\\\n",
       "\t 21.5                & 4                   & 120.1               &  97                 & 3.70                & 2.465               & 20.01               & 1                   & 0                   & 3                   & 1                   & Toyota Corona       & 39.35091           \\\\\n",
       "\t 15.5                & 8                   & 318.0               & 150                 & 2.76                & 3.520               & 16.87               & 0                   & 0                   & 3                   & 2                   & Dodge Challenger    & 42.61364           \\\\\n",
       "\t 15.2                & 8                   & 304.0               & 150                 & 3.15                & 3.435               & 17.30               & 0                   & 0                   & 3                   & 2                   & AMC Javelin         & 43.66812           \\\\\n",
       "\t 13.3                & 8                   & 350.0               & 245                 & 3.73                & 3.840               & 15.41               & 0                   & 0                   & 3                   & 4                   & Camaro Z28          & 63.80208           \\\\\n",
       "\t 19.2                & 8                   & 400.0               & 175                 & 3.08                & 3.845               & 17.05               & 0                   & 0                   & 3                   & 2                   & Pontiac Firebird    & 45.51365           \\\\\n",
       "\t 27.3                & 4                   &  79.0               &  66                 & 4.08                & 1.935               & 18.90               & 1                   & 1                   & 4                   & 1                   & Fiat X1-9           & 34.10853           \\\\\n",
       "\t 26.0                & 4                   & 120.3               &  91                 & 4.43                & 2.140               & 16.70               & 0                   & 1                   & 5                   & 2                   & Porsche 914-2       & 42.52336           \\\\\n",
       "\t 30.4                & 4                   &  95.1               & 113                 & 3.77                & 1.513               & 16.90               & 1                   & 1                   & 5                   & 2                   & Lotus Europa        & 74.68605           \\\\\n",
       "\t 15.8                & 8                   & 351.0               & 264                 & 4.22                & 3.170               & 14.50               & 0                   & 1                   & 5                   & 4                   & Ford Pantera L      & 83.28076           \\\\\n",
       "\t 19.7                & 6                   & 145.0               & 175                 & 3.62                & 2.770               & 15.50               & 0                   & 1                   & 5                   & 6                   & Ferrari Dino        & 63.17690           \\\\\n",
       "\t 15.0                & 8                   & 301.0               & 335                 & 3.54                & 3.570               & 14.60               & 0                   & 1                   & 5                   & 8                   & Maserati Bora       & 93.83754           \\\\\n",
       "\t 21.4                & 4                   & 121.0               & 109                 & 4.11                & 2.780               & 18.60               & 1                   & 1                   & 4                   & 2                   & Volvo 142E          & 39.20863           \\\\\n",
       "\\end{tabular}\n"
      ],
      "text/markdown": [
       "\n",
       "mpg | cyl | disp | hp | drat | wt | qsec | vs | am | gear | carb | type | pwr2wt | \n",
       "|---|---|---|---|---|---|---|---|---|---|---|---|---|---|---|---|---|---|---|---|---|---|---|---|---|---|---|---|---|---|---|---|\n",
       "| 21.0                | 6                   | 160.0               | 110                 | 3.90                | 2.620               | 16.46               | 0                   | 1                   | 4                   | 4                   | Mazda RX4           | 41.98473            | \n",
       "| 21.0                | 6                   | 160.0               | 110                 | 3.90                | 2.875               | 17.02               | 0                   | 1                   | 4                   | 4                   | Mazda RX4 Wag       | 38.26087            | \n",
       "| 22.8                | 4                   | 108.0               |  93                 | 3.85                | 2.320               | 18.61               | 1                   | 1                   | 4                   | 1                   | Datsun 710          | 40.08621            | \n",
       "| 21.4                | 6                   | 258.0               | 110                 | 3.08                | 3.215               | 19.44               | 1                   | 0                   | 3                   | 1                   | Hornet 4 Drive      | 34.21462            | \n",
       "| 18.7                | 8                   | 360.0               | 175                 | 3.15                | 3.440               | 17.02               | 0                   | 0                   | 3                   | 2                   | Hornet Sportabout   | 50.87209            | \n",
       "| 18.1                | 6                   | 225.0               | 105                 | 2.76                | 3.460               | 20.22               | 1                   | 0                   | 3                   | 1                   | Valiant             | 30.34682            | \n",
       "| 14.3                | 8                   | 360.0               | 245                 | 3.21                | 3.570               | 15.84               | 0                   | 0                   | 3                   | 4                   | Duster 360          | 68.62745            | \n",
       "| 24.4                | 4                   | 146.7               |  62                 | 3.69                | 3.190               | 20.00               | 1                   | 0                   | 4                   | 2                   | Merc 240D           | 19.43574            | \n",
       "| 22.8                | 4                   | 140.8               |  95                 | 3.92                | 3.150               | 22.90               | 1                   | 0                   | 4                   | 2                   | Merc 230            | 30.15873            | \n",
       "| 19.2                | 6                   | 167.6               | 123                 | 3.92                | 3.440               | 18.30               | 1                   | 0                   | 4                   | 4                   | Merc 280            | 35.75581            | \n",
       "| 17.8                | 6                   | 167.6               | 123                 | 3.92                | 3.440               | 18.90               | 1                   | 0                   | 4                   | 4                   | Merc 280C           | 35.75581            | \n",
       "| 16.4                | 8                   | 275.8               | 180                 | 3.07                | 4.070               | 17.40               | 0                   | 0                   | 3                   | 3                   | Merc 450SE          | 44.22604            | \n",
       "| 17.3                | 8                   | 275.8               | 180                 | 3.07                | 3.730               | 17.60               | 0                   | 0                   | 3                   | 3                   | Merc 450SL          | 48.25737            | \n",
       "| 15.2                | 8                   | 275.8               | 180                 | 3.07                | 3.780               | 18.00               | 0                   | 0                   | 3                   | 3                   | Merc 450SLC         | 47.61905            | \n",
       "| 10.4                | 8                   | 472.0               | 205                 | 2.93                | 5.250               | 17.98               | 0                   | 0                   | 3                   | 4                   | Cadillac Fleetwood  | 39.04762            | \n",
       "| 10.4                | 8                   | 460.0               | 215                 | 3.00                | 5.424               | 17.82               | 0                   | 0                   | 3                   | 4                   | Lincoln Continental | 39.63864            | \n",
       "| 14.7                | 8                   | 440.0               | 230                 | 3.23                | 5.345               | 17.42               | 0                   | 0                   | 3                   | 4                   | Chrysler Imperial   | 43.03087            | \n",
       "| 32.4                | 4                   |  78.7               |  66                 | 4.08                | 2.200               | 19.47               | 1                   | 1                   | 4                   | 1                   | Fiat 128            | 30.00000            | \n",
       "| 30.4                | 4                   |  75.7               |  52                 | 4.93                | 1.615               | 18.52               | 1                   | 1                   | 4                   | 2                   | Honda Civic         | 32.19814            | \n",
       "| 33.9                | 4                   |  71.1               |  65                 | 4.22                | 1.835               | 19.90               | 1                   | 1                   | 4                   | 1                   | Toyota Corolla      | 35.42234            | \n",
       "| 21.5                | 4                   | 120.1               |  97                 | 3.70                | 2.465               | 20.01               | 1                   | 0                   | 3                   | 1                   | Toyota Corona       | 39.35091            | \n",
       "| 15.5                | 8                   | 318.0               | 150                 | 2.76                | 3.520               | 16.87               | 0                   | 0                   | 3                   | 2                   | Dodge Challenger    | 42.61364            | \n",
       "| 15.2                | 8                   | 304.0               | 150                 | 3.15                | 3.435               | 17.30               | 0                   | 0                   | 3                   | 2                   | AMC Javelin         | 43.66812            | \n",
       "| 13.3                | 8                   | 350.0               | 245                 | 3.73                | 3.840               | 15.41               | 0                   | 0                   | 3                   | 4                   | Camaro Z28          | 63.80208            | \n",
       "| 19.2                | 8                   | 400.0               | 175                 | 3.08                | 3.845               | 17.05               | 0                   | 0                   | 3                   | 2                   | Pontiac Firebird    | 45.51365            | \n",
       "| 27.3                | 4                   |  79.0               |  66                 | 4.08                | 1.935               | 18.90               | 1                   | 1                   | 4                   | 1                   | Fiat X1-9           | 34.10853            | \n",
       "| 26.0                | 4                   | 120.3               |  91                 | 4.43                | 2.140               | 16.70               | 0                   | 1                   | 5                   | 2                   | Porsche 914-2       | 42.52336            | \n",
       "| 30.4                | 4                   |  95.1               | 113                 | 3.77                | 1.513               | 16.90               | 1                   | 1                   | 5                   | 2                   | Lotus Europa        | 74.68605            | \n",
       "| 15.8                | 8                   | 351.0               | 264                 | 4.22                | 3.170               | 14.50               | 0                   | 1                   | 5                   | 4                   | Ford Pantera L      | 83.28076            | \n",
       "| 19.7                | 6                   | 145.0               | 175                 | 3.62                | 2.770               | 15.50               | 0                   | 1                   | 5                   | 6                   | Ferrari Dino        | 63.17690            | \n",
       "| 15.0                | 8                   | 301.0               | 335                 | 3.54                | 3.570               | 14.60               | 0                   | 1                   | 5                   | 8                   | Maserati Bora       | 93.83754            | \n",
       "| 21.4                | 4                   | 121.0               | 109                 | 4.11                | 2.780               | 18.60               | 1                   | 1                   | 4                   | 2                   | Volvo 142E          | 39.20863            | \n",
       "\n",
       "\n"
      ],
      "text/plain": [
       "   mpg  cyl disp  hp  drat wt    qsec  vs am gear carb type               \n",
       "1  21.0 6   160.0 110 3.90 2.620 16.46 0  1  4    4    Mazda RX4          \n",
       "2  21.0 6   160.0 110 3.90 2.875 17.02 0  1  4    4    Mazda RX4 Wag      \n",
       "3  22.8 4   108.0  93 3.85 2.320 18.61 1  1  4    1    Datsun 710         \n",
       "4  21.4 6   258.0 110 3.08 3.215 19.44 1  0  3    1    Hornet 4 Drive     \n",
       "5  18.7 8   360.0 175 3.15 3.440 17.02 0  0  3    2    Hornet Sportabout  \n",
       "6  18.1 6   225.0 105 2.76 3.460 20.22 1  0  3    1    Valiant            \n",
       "7  14.3 8   360.0 245 3.21 3.570 15.84 0  0  3    4    Duster 360         \n",
       "8  24.4 4   146.7  62 3.69 3.190 20.00 1  0  4    2    Merc 240D          \n",
       "9  22.8 4   140.8  95 3.92 3.150 22.90 1  0  4    2    Merc 230           \n",
       "10 19.2 6   167.6 123 3.92 3.440 18.30 1  0  4    4    Merc 280           \n",
       "11 17.8 6   167.6 123 3.92 3.440 18.90 1  0  4    4    Merc 280C          \n",
       "12 16.4 8   275.8 180 3.07 4.070 17.40 0  0  3    3    Merc 450SE         \n",
       "13 17.3 8   275.8 180 3.07 3.730 17.60 0  0  3    3    Merc 450SL         \n",
       "14 15.2 8   275.8 180 3.07 3.780 18.00 0  0  3    3    Merc 450SLC        \n",
       "15 10.4 8   472.0 205 2.93 5.250 17.98 0  0  3    4    Cadillac Fleetwood \n",
       "16 10.4 8   460.0 215 3.00 5.424 17.82 0  0  3    4    Lincoln Continental\n",
       "17 14.7 8   440.0 230 3.23 5.345 17.42 0  0  3    4    Chrysler Imperial  \n",
       "18 32.4 4    78.7  66 4.08 2.200 19.47 1  1  4    1    Fiat 128           \n",
       "19 30.4 4    75.7  52 4.93 1.615 18.52 1  1  4    2    Honda Civic        \n",
       "20 33.9 4    71.1  65 4.22 1.835 19.90 1  1  4    1    Toyota Corolla     \n",
       "21 21.5 4   120.1  97 3.70 2.465 20.01 1  0  3    1    Toyota Corona      \n",
       "22 15.5 8   318.0 150 2.76 3.520 16.87 0  0  3    2    Dodge Challenger   \n",
       "23 15.2 8   304.0 150 3.15 3.435 17.30 0  0  3    2    AMC Javelin        \n",
       "24 13.3 8   350.0 245 3.73 3.840 15.41 0  0  3    4    Camaro Z28         \n",
       "25 19.2 8   400.0 175 3.08 3.845 17.05 0  0  3    2    Pontiac Firebird   \n",
       "26 27.3 4    79.0  66 4.08 1.935 18.90 1  1  4    1    Fiat X1-9          \n",
       "27 26.0 4   120.3  91 4.43 2.140 16.70 0  1  5    2    Porsche 914-2      \n",
       "28 30.4 4    95.1 113 3.77 1.513 16.90 1  1  5    2    Lotus Europa       \n",
       "29 15.8 8   351.0 264 4.22 3.170 14.50 0  1  5    4    Ford Pantera L     \n",
       "30 19.7 6   145.0 175 3.62 2.770 15.50 0  1  5    6    Ferrari Dino       \n",
       "31 15.0 8   301.0 335 3.54 3.570 14.60 0  1  5    8    Maserati Bora      \n",
       "32 21.4 4   121.0 109 4.11 2.780 18.60 1  1  4    2    Volvo 142E         \n",
       "   pwr2wt  \n",
       "1  41.98473\n",
       "2  38.26087\n",
       "3  40.08621\n",
       "4  34.21462\n",
       "5  50.87209\n",
       "6  30.34682\n",
       "7  68.62745\n",
       "8  19.43574\n",
       "9  30.15873\n",
       "10 35.75581\n",
       "11 35.75581\n",
       "12 44.22604\n",
       "13 48.25737\n",
       "14 47.61905\n",
       "15 39.04762\n",
       "16 39.63864\n",
       "17 43.03087\n",
       "18 30.00000\n",
       "19 32.19814\n",
       "20 35.42234\n",
       "21 39.35091\n",
       "22 42.61364\n",
       "23 43.66812\n",
       "24 63.80208\n",
       "25 45.51365\n",
       "26 34.10853\n",
       "27 42.52336\n",
       "28 74.68605\n",
       "29 83.28076\n",
       "30 63.17690\n",
       "31 93.83754\n",
       "32 39.20863"
      ]
     },
     "metadata": {},
     "output_type": "display_data"
    }
   ],
   "source": [
    "# adding new columns\n",
    "fullCarData <- mutate(carData, type=rownames(mtcars), pwr2wt=hp/wt)\n",
    "fullCarData"
   ]
  },
  {
   "cell_type": "code",
   "execution_count": 7,
   "metadata": {
    "collapsed": false
   },
   "outputs": [
    {
     "name": "stdout",
     "output_type": "stream",
     "text": [
      "  ID Beer\n",
      "1  1   75\n",
      "2  2   64\n",
      "3  3   92\n",
      "  ID Diapers\n",
      "1  1      51\n",
      "2  3      68\n",
      "3  4      32\n"
     ]
    }
   ],
   "source": [
    "#Merging with dplyr\n",
    "beerData <-data.frame(ID=c(1,2,3), Beer=c(75,64,92))\n",
    "diaperData <-data.frame(ID=c(1,3,4), Diapers=c(51,68,32))\n",
    "print(beerData)\n",
    "print(diaperData)"
   ]
  },
  {
   "cell_type": "code",
   "execution_count": 8,
   "metadata": {
    "collapsed": false
   },
   "outputs": [
    {
     "data": {
      "text/html": [
       "<table>\n",
       "<thead><tr><th scope=col>ID</th><th scope=col>Beer</th></tr></thead>\n",
       "<tbody>\n",
       "\t<tr><td>1 </td><td>75</td></tr>\n",
       "\t<tr><td>3 </td><td>92</td></tr>\n",
       "</tbody>\n",
       "</table>\n"
      ],
      "text/latex": [
       "\\begin{tabular}{r|ll}\n",
       " ID & Beer\\\\\n",
       "\\hline\n",
       "\t 1  & 75\\\\\n",
       "\t 3  & 92\\\\\n",
       "\\end{tabular}\n"
      ],
      "text/markdown": [
       "\n",
       "ID | Beer | \n",
       "|---|---|\n",
       "| 1  | 75 | \n",
       "| 3  | 92 | \n",
       "\n",
       "\n"
      ],
      "text/plain": [
       "  ID Beer\n",
       "1 1  75  \n",
       "2 3  92  "
      ]
     },
     "metadata": {},
     "output_type": "display_data"
    }
   ],
   "source": [
    "# Rows of Beer that have a corresponding row inDiaper\n",
    "semi_join(beerData, diaperData, by=\"ID\")"
   ]
  },
  {
   "cell_type": "code",
   "execution_count": 9,
   "metadata": {
    "collapsed": false
   },
   "outputs": [
    {
     "data": {
      "text/html": [
       "<table>\n",
       "<thead><tr><th scope=col>ID</th><th scope=col>Beer</th></tr></thead>\n",
       "<tbody>\n",
       "\t<tr><td>2 </td><td>64</td></tr>\n",
       "</tbody>\n",
       "</table>\n"
      ],
      "text/latex": [
       "\\begin{tabular}{r|ll}\n",
       " ID & Beer\\\\\n",
       "\\hline\n",
       "\t 2  & 64\\\\\n",
       "\\end{tabular}\n"
      ],
      "text/markdown": [
       "\n",
       "ID | Beer | \n",
       "|---|\n",
       "| 2  | 64 | \n",
       "\n",
       "\n"
      ],
      "text/plain": [
       "  ID Beer\n",
       "1 2  64  "
      ]
     },
     "metadata": {},
     "output_type": "display_data"
    }
   ],
   "source": [
    "# Rows of Beer that DO NOT have a corresponding row in Diaper\n",
    "anti_join(beerData, diaperData, by=\"ID\")"
   ]
  },
  {
   "cell_type": "code",
   "execution_count": 10,
   "metadata": {
    "collapsed": false
   },
   "outputs": [
    {
     "data": {
      "text/html": [
       "<table>\n",
       "<thead><tr><th scope=col>ID</th><th scope=col>Beer</th><th scope=col>Diapers</th></tr></thead>\n",
       "<tbody>\n",
       "\t<tr><td>1 </td><td>75</td><td>51</td></tr>\n",
       "\t<tr><td>3 </td><td>92</td><td>68</td></tr>\n",
       "</tbody>\n",
       "</table>\n"
      ],
      "text/latex": [
       "\\begin{tabular}{r|lll}\n",
       " ID & Beer & Diapers\\\\\n",
       "\\hline\n",
       "\t 1  & 75 & 51\\\\\n",
       "\t 3  & 92 & 68\\\\\n",
       "\\end{tabular}\n"
      ],
      "text/markdown": [
       "\n",
       "ID | Beer | Diapers | \n",
       "|---|---|\n",
       "| 1  | 75 | 51 | \n",
       "| 3  | 92 | 68 | \n",
       "\n",
       "\n"
      ],
      "text/plain": [
       "  ID Beer Diapers\n",
       "1 1  75   51     \n",
       "2 3  92   68     "
      ]
     },
     "metadata": {},
     "output_type": "display_data"
    }
   ],
   "source": [
    "# An inner join of the two datasets\n",
    "inner_join(beerData, diaperData, by=\"ID\")"
   ]
  },
  {
   "cell_type": "code",
   "execution_count": 11,
   "metadata": {
    "collapsed": false
   },
   "outputs": [
    {
     "data": {
      "text/html": [
       "<table>\n",
       "<thead><tr><th scope=col>mean(mpg)</th></tr></thead>\n",
       "<tbody>\n",
       "\t<tr><td>20.09062</td></tr>\n",
       "</tbody>\n",
       "</table>\n"
      ],
      "text/latex": [
       "\\begin{tabular}{r|l}\n",
       " mean(mpg)\\\\\n",
       "\\hline\n",
       "\t 20.09062\\\\\n",
       "\\end{tabular}\n"
      ],
      "text/markdown": [
       "\n",
       "mean(mpg) | \n",
       "|---|\n",
       "| 20.09062 | \n",
       "\n",
       "\n"
      ],
      "text/plain": [
       "  mean(mpg)\n",
       "1 20.09062 "
      ]
     },
     "metadata": {},
     "output_type": "display_data"
    }
   ],
   "source": [
    "# Data Aggregation\n",
    "summarize(carData, mean(mpg))"
   ]
  },
  {
   "cell_type": "code",
   "execution_count": 12,
   "metadata": {
    "collapsed": false
   },
   "outputs": [
    {
     "data": {
      "text/html": [
       "<table>\n",
       "<thead><tr><th scope=col>min(mpg)</th><th scope=col>max(mpg)</th><th scope=col>mean(mpg)</th></tr></thead>\n",
       "<tbody>\n",
       "\t<tr><td>10.4    </td><td>33.9    </td><td>20.09062</td></tr>\n",
       "</tbody>\n",
       "</table>\n"
      ],
      "text/latex": [
       "\\begin{tabular}{r|lll}\n",
       " min(mpg) & max(mpg) & mean(mpg)\\\\\n",
       "\\hline\n",
       "\t 10.4     & 33.9     & 20.09062\\\\\n",
       "\\end{tabular}\n"
      ],
      "text/markdown": [
       "\n",
       "min(mpg) | max(mpg) | mean(mpg) | \n",
       "|---|\n",
       "| 10.4     | 33.9     | 20.09062 | \n",
       "\n",
       "\n"
      ],
      "text/plain": [
       "  min(mpg) max(mpg) mean(mpg)\n",
       "1 10.4     33.9     20.09062 "
      ]
     },
     "metadata": {},
     "output_type": "display_data"
    }
   ],
   "source": [
    "summarize(carData, min(mpg), max(mpg), mean(mpg))"
   ]
  },
  {
   "cell_type": "code",
   "execution_count": 13,
   "metadata": {
    "collapsed": false
   },
   "outputs": [
    {
     "data": {
      "text/html": [
       "<table>\n",
       "<thead><tr><th scope=col>mpg</th><th scope=col>cyl</th><th scope=col>disp</th><th scope=col>hp</th><th scope=col>drat</th><th scope=col>wt</th><th scope=col>qsec</th><th scope=col>vs</th><th scope=col>am</th><th scope=col>gear</th><th scope=col>carb</th></tr></thead>\n",
       "<tbody>\n",
       "\t<tr><td>21.0 </td><td>6    </td><td>160  </td><td>110  </td><td>3.90 </td><td>2.620</td><td>16.46</td><td>0    </td><td>1    </td><td>4    </td><td>4    </td></tr>\n",
       "\t<tr><td>21.0 </td><td>6    </td><td>160  </td><td>110  </td><td>3.90 </td><td>2.875</td><td>17.02</td><td>0    </td><td>1    </td><td>4    </td><td>4    </td></tr>\n",
       "\t<tr><td>22.8 </td><td>4    </td><td>108  </td><td> 93  </td><td>3.85 </td><td>2.320</td><td>18.61</td><td>1    </td><td>1    </td><td>4    </td><td>1    </td></tr>\n",
       "\t<tr><td>21.4 </td><td>6    </td><td>258  </td><td>110  </td><td>3.08 </td><td>3.215</td><td>19.44</td><td>1    </td><td>0    </td><td>3    </td><td>1    </td></tr>\n",
       "\t<tr><td>18.7 </td><td>8    </td><td>360  </td><td>175  </td><td>3.15 </td><td>3.440</td><td>17.02</td><td>0    </td><td>0    </td><td>3    </td><td>2    </td></tr>\n",
       "\t<tr><td>18.1 </td><td>6    </td><td>225  </td><td>105  </td><td>2.76 </td><td>3.460</td><td>20.22</td><td>1    </td><td>0    </td><td>3    </td><td>1    </td></tr>\n",
       "</tbody>\n",
       "</table>\n"
      ],
      "text/latex": [
       "\\begin{tabular}{r|lllllllllll}\n",
       " mpg & cyl & disp & hp & drat & wt & qsec & vs & am & gear & carb\\\\\n",
       "\\hline\n",
       "\t 21.0  & 6     & 160   & 110   & 3.90  & 2.620 & 16.46 & 0     & 1     & 4     & 4    \\\\\n",
       "\t 21.0  & 6     & 160   & 110   & 3.90  & 2.875 & 17.02 & 0     & 1     & 4     & 4    \\\\\n",
       "\t 22.8  & 4     & 108   &  93   & 3.85  & 2.320 & 18.61 & 1     & 1     & 4     & 1    \\\\\n",
       "\t 21.4  & 6     & 258   & 110   & 3.08  & 3.215 & 19.44 & 1     & 0     & 3     & 1    \\\\\n",
       "\t 18.7  & 8     & 360   & 175   & 3.15  & 3.440 & 17.02 & 0     & 0     & 3     & 2    \\\\\n",
       "\t 18.1  & 6     & 225   & 105   & 2.76  & 3.460 & 20.22 & 1     & 0     & 3     & 1    \\\\\n",
       "\\end{tabular}\n"
      ],
      "text/markdown": [
       "\n",
       "mpg | cyl | disp | hp | drat | wt | qsec | vs | am | gear | carb | \n",
       "|---|---|---|---|---|---|\n",
       "| 21.0  | 6     | 160   | 110   | 3.90  | 2.620 | 16.46 | 0     | 1     | 4     | 4     | \n",
       "| 21.0  | 6     | 160   | 110   | 3.90  | 2.875 | 17.02 | 0     | 1     | 4     | 4     | \n",
       "| 22.8  | 4     | 108   |  93   | 3.85  | 2.320 | 18.61 | 1     | 1     | 4     | 1     | \n",
       "| 21.4  | 6     | 258   | 110   | 3.08  | 3.215 | 19.44 | 1     | 0     | 3     | 1     | \n",
       "| 18.7  | 8     | 360   | 175   | 3.15  | 3.440 | 17.02 | 0     | 0     | 3     | 2     | \n",
       "| 18.1  | 6     | 225   | 105   | 2.76  | 3.460 | 20.22 | 1     | 0     | 3     | 1     | \n",
       "\n",
       "\n"
      ],
      "text/plain": [
       "  mpg  cyl disp hp  drat wt    qsec  vs am gear carb\n",
       "1 21.0 6   160  110 3.90 2.620 16.46 0  1  4    4   \n",
       "2 21.0 6   160  110 3.90 2.875 17.02 0  1  4    4   \n",
       "3 22.8 4   108   93 3.85 2.320 18.61 1  1  4    1   \n",
       "4 21.4 6   258  110 3.08 3.215 19.44 1  0  3    1   \n",
       "5 18.7 8   360  175 3.15 3.440 17.02 0  0  3    2   \n",
       "6 18.1 6   225  105 2.76 3.460 20.22 1  0  3    1   "
      ]
     },
     "metadata": {},
     "output_type": "display_data"
    }
   ],
   "source": [
    "#Groupby\n",
    "cylGrouping <-group_by(carData, cyl)\n",
    "head(cylGrouping)"
   ]
  },
  {
   "cell_type": "code",
   "execution_count": 14,
   "metadata": {
    "collapsed": false
   },
   "outputs": [
    {
     "data": {
      "text/html": [
       "<table>\n",
       "<thead><tr><th scope=col>mpg</th><th scope=col>cyl</th><th scope=col>disp</th><th scope=col>hp</th><th scope=col>drat</th><th scope=col>wt</th><th scope=col>qsec</th><th scope=col>vs</th><th scope=col>am</th><th scope=col>gear</th><th scope=col>carb</th></tr></thead>\n",
       "<tbody>\n",
       "\t<tr><td>21.0 </td><td>6    </td><td>160.0</td><td>110  </td><td>3.90 </td><td>2.620</td><td>16.46</td><td>0    </td><td>1    </td><td>4    </td><td>4    </td></tr>\n",
       "\t<tr><td>21.0 </td><td>6    </td><td>160.0</td><td>110  </td><td>3.90 </td><td>2.875</td><td>17.02</td><td>0    </td><td>1    </td><td>4    </td><td>4    </td></tr>\n",
       "\t<tr><td>14.3 </td><td>8    </td><td>360.0</td><td>245  </td><td>3.21 </td><td>3.570</td><td>15.84</td><td>0    </td><td>0    </td><td>3    </td><td>4    </td></tr>\n",
       "\t<tr><td>19.2 </td><td>6    </td><td>167.6</td><td>123  </td><td>3.92 </td><td>3.440</td><td>18.30</td><td>1    </td><td>0    </td><td>4    </td><td>4    </td></tr>\n",
       "\t<tr><td>17.8 </td><td>6    </td><td>167.6</td><td>123  </td><td>3.92 </td><td>3.440</td><td>18.90</td><td>1    </td><td>0    </td><td>4    </td><td>4    </td></tr>\n",
       "\t<tr><td>10.4 </td><td>8    </td><td>472.0</td><td>205  </td><td>2.93 </td><td>5.250</td><td>17.98</td><td>0    </td><td>0    </td><td>3    </td><td>4    </td></tr>\n",
       "\t<tr><td>10.4 </td><td>8    </td><td>460.0</td><td>215  </td><td>3.00 </td><td>5.424</td><td>17.82</td><td>0    </td><td>0    </td><td>3    </td><td>4    </td></tr>\n",
       "\t<tr><td>14.7 </td><td>8    </td><td>440.0</td><td>230  </td><td>3.23 </td><td>5.345</td><td>17.42</td><td>0    </td><td>0    </td><td>3    </td><td>4    </td></tr>\n",
       "\t<tr><td>13.3 </td><td>8    </td><td>350.0</td><td>245  </td><td>3.73 </td><td>3.840</td><td>15.41</td><td>0    </td><td>0    </td><td>3    </td><td>4    </td></tr>\n",
       "\t<tr><td>15.8 </td><td>8    </td><td>351.0</td><td>264  </td><td>4.22 </td><td>3.170</td><td>14.50</td><td>0    </td><td>1    </td><td>5    </td><td>4    </td></tr>\n",
       "</tbody>\n",
       "</table>\n"
      ],
      "text/latex": [
       "\\begin{tabular}{r|lllllllllll}\n",
       " mpg & cyl & disp & hp & drat & wt & qsec & vs & am & gear & carb\\\\\n",
       "\\hline\n",
       "\t 21.0  & 6     & 160.0 & 110   & 3.90  & 2.620 & 16.46 & 0     & 1     & 4     & 4    \\\\\n",
       "\t 21.0  & 6     & 160.0 & 110   & 3.90  & 2.875 & 17.02 & 0     & 1     & 4     & 4    \\\\\n",
       "\t 14.3  & 8     & 360.0 & 245   & 3.21  & 3.570 & 15.84 & 0     & 0     & 3     & 4    \\\\\n",
       "\t 19.2  & 6     & 167.6 & 123   & 3.92  & 3.440 & 18.30 & 1     & 0     & 4     & 4    \\\\\n",
       "\t 17.8  & 6     & 167.6 & 123   & 3.92  & 3.440 & 18.90 & 1     & 0     & 4     & 4    \\\\\n",
       "\t 10.4  & 8     & 472.0 & 205   & 2.93  & 5.250 & 17.98 & 0     & 0     & 3     & 4    \\\\\n",
       "\t 10.4  & 8     & 460.0 & 215   & 3.00  & 5.424 & 17.82 & 0     & 0     & 3     & 4    \\\\\n",
       "\t 14.7  & 8     & 440.0 & 230   & 3.23  & 5.345 & 17.42 & 0     & 0     & 3     & 4    \\\\\n",
       "\t 13.3  & 8     & 350.0 & 245   & 3.73  & 3.840 & 15.41 & 0     & 0     & 3     & 4    \\\\\n",
       "\t 15.8  & 8     & 351.0 & 264   & 4.22  & 3.170 & 14.50 & 0     & 1     & 5     & 4    \\\\\n",
       "\\end{tabular}\n"
      ],
      "text/markdown": [
       "\n",
       "mpg | cyl | disp | hp | drat | wt | qsec | vs | am | gear | carb | \n",
       "|---|---|---|---|---|---|---|---|---|---|\n",
       "| 21.0  | 6     | 160.0 | 110   | 3.90  | 2.620 | 16.46 | 0     | 1     | 4     | 4     | \n",
       "| 21.0  | 6     | 160.0 | 110   | 3.90  | 2.875 | 17.02 | 0     | 1     | 4     | 4     | \n",
       "| 14.3  | 8     | 360.0 | 245   | 3.21  | 3.570 | 15.84 | 0     | 0     | 3     | 4     | \n",
       "| 19.2  | 6     | 167.6 | 123   | 3.92  | 3.440 | 18.30 | 1     | 0     | 4     | 4     | \n",
       "| 17.8  | 6     | 167.6 | 123   | 3.92  | 3.440 | 18.90 | 1     | 0     | 4     | 4     | \n",
       "| 10.4  | 8     | 472.0 | 205   | 2.93  | 5.250 | 17.98 | 0     | 0     | 3     | 4     | \n",
       "| 10.4  | 8     | 460.0 | 215   | 3.00  | 5.424 | 17.82 | 0     | 0     | 3     | 4     | \n",
       "| 14.7  | 8     | 440.0 | 230   | 3.23  | 5.345 | 17.42 | 0     | 0     | 3     | 4     | \n",
       "| 13.3  | 8     | 350.0 | 245   | 3.73  | 3.840 | 15.41 | 0     | 0     | 3     | 4     | \n",
       "| 15.8  | 8     | 351.0 | 264   | 4.22  | 3.170 | 14.50 | 0     | 1     | 5     | 4     | \n",
       "\n",
       "\n"
      ],
      "text/plain": [
       "   mpg  cyl disp  hp  drat wt    qsec  vs am gear carb\n",
       "1  21.0 6   160.0 110 3.90 2.620 16.46 0  1  4    4   \n",
       "2  21.0 6   160.0 110 3.90 2.875 17.02 0  1  4    4   \n",
       "3  14.3 8   360.0 245 3.21 3.570 15.84 0  0  3    4   \n",
       "4  19.2 6   167.6 123 3.92 3.440 18.30 1  0  4    4   \n",
       "5  17.8 6   167.6 123 3.92 3.440 18.90 1  0  4    4   \n",
       "6  10.4 8   472.0 205 2.93 5.250 17.98 0  0  3    4   \n",
       "7  10.4 8   460.0 215 3.00 5.424 17.82 0  0  3    4   \n",
       "8  14.7 8   440.0 230 3.23 5.345 17.42 0  0  3    4   \n",
       "9  13.3 8   350.0 245 3.73 3.840 15.41 0  0  3    4   \n",
       "10 15.8 8   351.0 264 4.22 3.170 14.50 0  1  5    4   "
      ]
     },
     "metadata": {},
     "output_type": "display_data"
    }
   ],
   "source": [
    "filter(cylGrouping, carb==4)"
   ]
  },
  {
   "cell_type": "code",
   "execution_count": 15,
   "metadata": {
    "collapsed": false
   },
   "outputs": [
    {
     "data": {
      "text/html": [
       "<table>\n",
       "<thead><tr><th scope=col>cyl</th><th scope=col>min(mpg)</th><th scope=col>median(mpg)</th><th scope=col>max(mpg)</th></tr></thead>\n",
       "<tbody>\n",
       "\t<tr><td>4   </td><td>21.4</td><td>26.0</td><td>33.9</td></tr>\n",
       "\t<tr><td>6   </td><td>17.8</td><td>19.7</td><td>21.4</td></tr>\n",
       "\t<tr><td>8   </td><td>10.4</td><td>15.2</td><td>19.2</td></tr>\n",
       "</tbody>\n",
       "</table>\n"
      ],
      "text/latex": [
       "\\begin{tabular}{r|llll}\n",
       " cyl & min(mpg) & median(mpg) & max(mpg)\\\\\n",
       "\\hline\n",
       "\t 4    & 21.4 & 26.0 & 33.9\\\\\n",
       "\t 6    & 17.8 & 19.7 & 21.4\\\\\n",
       "\t 8    & 10.4 & 15.2 & 19.2\\\\\n",
       "\\end{tabular}\n"
      ],
      "text/markdown": [
       "\n",
       "cyl | min(mpg) | median(mpg) | max(mpg) | \n",
       "|---|---|---|\n",
       "| 4    | 21.4 | 26.0 | 33.9 | \n",
       "| 6    | 17.8 | 19.7 | 21.4 | \n",
       "| 8    | 10.4 | 15.2 | 19.2 | \n",
       "\n",
       "\n"
      ],
      "text/plain": [
       "  cyl min(mpg) median(mpg) max(mpg)\n",
       "1 4   21.4     26.0        33.9    \n",
       "2 6   17.8     19.7        21.4    \n",
       "3 8   10.4     15.2        19.2    "
      ]
     },
     "metadata": {},
     "output_type": "display_data"
    }
   ],
   "source": [
    "mpgSummaryByCyl <- summarize(cylGrouping, min(mpg), median(mpg), max(mpg))\n",
    "mpgSummaryByCyl"
   ]
  },
  {
   "cell_type": "code",
   "execution_count": 16,
   "metadata": {
    "collapsed": false
   },
   "outputs": [
    {
     "data": {
      "text/html": [
       "<table>\n",
       "<thead><tr><th scope=col>mpg</th><th scope=col>cyl</th><th scope=col>disp</th><th scope=col>hp</th><th scope=col>drat</th><th scope=col>wt</th><th scope=col>qsec</th><th scope=col>vs</th><th scope=col>am</th><th scope=col>gear</th><th scope=col>carb</th></tr></thead>\n",
       "<tbody>\n",
       "\t<tr><td>21.4 </td><td>6    </td><td>258.0</td><td>110  </td><td>3.08 </td><td>3.215</td><td>19.44</td><td>1    </td><td>0    </td><td>3    </td><td>1    </td></tr>\n",
       "\t<tr><td>33.9 </td><td>4    </td><td> 71.1</td><td> 65  </td><td>4.22 </td><td>1.835</td><td>19.90</td><td>1    </td><td>1    </td><td>4    </td><td>1    </td></tr>\n",
       "\t<tr><td>19.2 </td><td>8    </td><td>400.0</td><td>175  </td><td>3.08 </td><td>3.845</td><td>17.05</td><td>0    </td><td>0    </td><td>3    </td><td>2    </td></tr>\n",
       "</tbody>\n",
       "</table>\n"
      ],
      "text/latex": [
       "\\begin{tabular}{r|lllllllllll}\n",
       " mpg & cyl & disp & hp & drat & wt & qsec & vs & am & gear & carb\\\\\n",
       "\\hline\n",
       "\t 21.4  & 6     & 258.0 & 110   & 3.08  & 3.215 & 19.44 & 1     & 0     & 3     & 1    \\\\\n",
       "\t 33.9  & 4     &  71.1 &  65   & 4.22  & 1.835 & 19.90 & 1     & 1     & 4     & 1    \\\\\n",
       "\t 19.2  & 8     & 400.0 & 175   & 3.08  & 3.845 & 17.05 & 0     & 0     & 3     & 2    \\\\\n",
       "\\end{tabular}\n"
      ],
      "text/markdown": [
       "\n",
       "mpg | cyl | disp | hp | drat | wt | qsec | vs | am | gear | carb | \n",
       "|---|---|---|\n",
       "| 21.4  | 6     | 258.0 | 110   | 3.08  | 3.215 | 19.44 | 1     | 0     | 3     | 1     | \n",
       "| 33.9  | 4     |  71.1 |  65   | 4.22  | 1.835 | 19.90 | 1     | 1     | 4     | 1     | \n",
       "| 19.2  | 8     | 400.0 | 175   | 3.08  | 3.845 | 17.05 | 0     | 0     | 3     | 2     | \n",
       "\n",
       "\n"
      ],
      "text/plain": [
       "  mpg  cyl disp  hp  drat wt    qsec  vs am gear carb\n",
       "1 21.4 6   258.0 110 3.08 3.215 19.44 1  0  3    1   \n",
       "2 33.9 4    71.1  65 4.22 1.835 19.90 1  1  4    1   \n",
       "3 19.2 8   400.0 175 3.08 3.845 17.05 0  0  3    2   "
      ]
     },
     "metadata": {},
     "output_type": "display_data"
    }
   ],
   "source": [
    "# extract maximum mpg for each cyl grouping\n",
    "cylGrouping <-group_by(carData, cyl)\n",
    "filter(cylGrouping, mpg==max(mpg))"
   ]
  },
  {
   "cell_type": "code",
   "execution_count": 17,
   "metadata": {
    "collapsed": false
   },
   "outputs": [
    {
     "data": {
      "text/html": [
       "<table>\n",
       "<thead><tr><th scope=col>mpg</th><th scope=col>cyl</th><th scope=col>disp</th><th scope=col>hp</th><th scope=col>drat</th><th scope=col>wt</th><th scope=col>qsec</th><th scope=col>vs</th><th scope=col>am</th><th scope=col>gear</th><th scope=col>carb</th><th scope=col>meanMPGbyCyl</th></tr></thead>\n",
       "<tbody>\n",
       "\t<tr><td>21.0    </td><td>6       </td><td>160.0   </td><td>110     </td><td>3.90    </td><td>2.620   </td><td>16.46   </td><td>0       </td><td>1       </td><td>4       </td><td>4       </td><td>19.74286</td></tr>\n",
       "\t<tr><td>21.0    </td><td>6       </td><td>160.0   </td><td>110     </td><td>3.90    </td><td>2.875   </td><td>17.02   </td><td>0       </td><td>1       </td><td>4       </td><td>4       </td><td>19.74286</td></tr>\n",
       "\t<tr><td>22.8    </td><td>4       </td><td>108.0   </td><td> 93     </td><td>3.85    </td><td>2.320   </td><td>18.61   </td><td>1       </td><td>1       </td><td>4       </td><td>1       </td><td>26.66364</td></tr>\n",
       "\t<tr><td>21.4    </td><td>6       </td><td>258.0   </td><td>110     </td><td>3.08    </td><td>3.215   </td><td>19.44   </td><td>1       </td><td>0       </td><td>3       </td><td>1       </td><td>19.74286</td></tr>\n",
       "\t<tr><td>18.7    </td><td>8       </td><td>360.0   </td><td>175     </td><td>3.15    </td><td>3.440   </td><td>17.02   </td><td>0       </td><td>0       </td><td>3       </td><td>2       </td><td>15.10000</td></tr>\n",
       "\t<tr><td>18.1    </td><td>6       </td><td>225.0   </td><td>105     </td><td>2.76    </td><td>3.460   </td><td>20.22   </td><td>1       </td><td>0       </td><td>3       </td><td>1       </td><td>19.74286</td></tr>\n",
       "\t<tr><td>14.3    </td><td>8       </td><td>360.0   </td><td>245     </td><td>3.21    </td><td>3.570   </td><td>15.84   </td><td>0       </td><td>0       </td><td>3       </td><td>4       </td><td>15.10000</td></tr>\n",
       "\t<tr><td>24.4    </td><td>4       </td><td>146.7   </td><td> 62     </td><td>3.69    </td><td>3.190   </td><td>20.00   </td><td>1       </td><td>0       </td><td>4       </td><td>2       </td><td>26.66364</td></tr>\n",
       "\t<tr><td>22.8    </td><td>4       </td><td>140.8   </td><td> 95     </td><td>3.92    </td><td>3.150   </td><td>22.90   </td><td>1       </td><td>0       </td><td>4       </td><td>2       </td><td>26.66364</td></tr>\n",
       "\t<tr><td>19.2    </td><td>6       </td><td>167.6   </td><td>123     </td><td>3.92    </td><td>3.440   </td><td>18.30   </td><td>1       </td><td>0       </td><td>4       </td><td>4       </td><td>19.74286</td></tr>\n",
       "\t<tr><td>17.8    </td><td>6       </td><td>167.6   </td><td>123     </td><td>3.92    </td><td>3.440   </td><td>18.90   </td><td>1       </td><td>0       </td><td>4       </td><td>4       </td><td>19.74286</td></tr>\n",
       "\t<tr><td>16.4    </td><td>8       </td><td>275.8   </td><td>180     </td><td>3.07    </td><td>4.070   </td><td>17.40   </td><td>0       </td><td>0       </td><td>3       </td><td>3       </td><td>15.10000</td></tr>\n",
       "\t<tr><td>17.3    </td><td>8       </td><td>275.8   </td><td>180     </td><td>3.07    </td><td>3.730   </td><td>17.60   </td><td>0       </td><td>0       </td><td>3       </td><td>3       </td><td>15.10000</td></tr>\n",
       "\t<tr><td>15.2    </td><td>8       </td><td>275.8   </td><td>180     </td><td>3.07    </td><td>3.780   </td><td>18.00   </td><td>0       </td><td>0       </td><td>3       </td><td>3       </td><td>15.10000</td></tr>\n",
       "\t<tr><td>10.4    </td><td>8       </td><td>472.0   </td><td>205     </td><td>2.93    </td><td>5.250   </td><td>17.98   </td><td>0       </td><td>0       </td><td>3       </td><td>4       </td><td>15.10000</td></tr>\n",
       "\t<tr><td>10.4    </td><td>8       </td><td>460.0   </td><td>215     </td><td>3.00    </td><td>5.424   </td><td>17.82   </td><td>0       </td><td>0       </td><td>3       </td><td>4       </td><td>15.10000</td></tr>\n",
       "\t<tr><td>14.7    </td><td>8       </td><td>440.0   </td><td>230     </td><td>3.23    </td><td>5.345   </td><td>17.42   </td><td>0       </td><td>0       </td><td>3       </td><td>4       </td><td>15.10000</td></tr>\n",
       "\t<tr><td>32.4    </td><td>4       </td><td> 78.7   </td><td> 66     </td><td>4.08    </td><td>2.200   </td><td>19.47   </td><td>1       </td><td>1       </td><td>4       </td><td>1       </td><td>26.66364</td></tr>\n",
       "\t<tr><td>30.4    </td><td>4       </td><td> 75.7   </td><td> 52     </td><td>4.93    </td><td>1.615   </td><td>18.52   </td><td>1       </td><td>1       </td><td>4       </td><td>2       </td><td>26.66364</td></tr>\n",
       "\t<tr><td>33.9    </td><td>4       </td><td> 71.1   </td><td> 65     </td><td>4.22    </td><td>1.835   </td><td>19.90   </td><td>1       </td><td>1       </td><td>4       </td><td>1       </td><td>26.66364</td></tr>\n",
       "\t<tr><td>21.5    </td><td>4       </td><td>120.1   </td><td> 97     </td><td>3.70    </td><td>2.465   </td><td>20.01   </td><td>1       </td><td>0       </td><td>3       </td><td>1       </td><td>26.66364</td></tr>\n",
       "\t<tr><td>15.5    </td><td>8       </td><td>318.0   </td><td>150     </td><td>2.76    </td><td>3.520   </td><td>16.87   </td><td>0       </td><td>0       </td><td>3       </td><td>2       </td><td>15.10000</td></tr>\n",
       "\t<tr><td>15.2    </td><td>8       </td><td>304.0   </td><td>150     </td><td>3.15    </td><td>3.435   </td><td>17.30   </td><td>0       </td><td>0       </td><td>3       </td><td>2       </td><td>15.10000</td></tr>\n",
       "\t<tr><td>13.3    </td><td>8       </td><td>350.0   </td><td>245     </td><td>3.73    </td><td>3.840   </td><td>15.41   </td><td>0       </td><td>0       </td><td>3       </td><td>4       </td><td>15.10000</td></tr>\n",
       "\t<tr><td>19.2    </td><td>8       </td><td>400.0   </td><td>175     </td><td>3.08    </td><td>3.845   </td><td>17.05   </td><td>0       </td><td>0       </td><td>3       </td><td>2       </td><td>15.10000</td></tr>\n",
       "\t<tr><td>27.3    </td><td>4       </td><td> 79.0   </td><td> 66     </td><td>4.08    </td><td>1.935   </td><td>18.90   </td><td>1       </td><td>1       </td><td>4       </td><td>1       </td><td>26.66364</td></tr>\n",
       "\t<tr><td>26.0    </td><td>4       </td><td>120.3   </td><td> 91     </td><td>4.43    </td><td>2.140   </td><td>16.70   </td><td>0       </td><td>1       </td><td>5       </td><td>2       </td><td>26.66364</td></tr>\n",
       "\t<tr><td>30.4    </td><td>4       </td><td> 95.1   </td><td>113     </td><td>3.77    </td><td>1.513   </td><td>16.90   </td><td>1       </td><td>1       </td><td>5       </td><td>2       </td><td>26.66364</td></tr>\n",
       "\t<tr><td>15.8    </td><td>8       </td><td>351.0   </td><td>264     </td><td>4.22    </td><td>3.170   </td><td>14.50   </td><td>0       </td><td>1       </td><td>5       </td><td>4       </td><td>15.10000</td></tr>\n",
       "\t<tr><td>19.7    </td><td>6       </td><td>145.0   </td><td>175     </td><td>3.62    </td><td>2.770   </td><td>15.50   </td><td>0       </td><td>1       </td><td>5       </td><td>6       </td><td>19.74286</td></tr>\n",
       "\t<tr><td>15.0    </td><td>8       </td><td>301.0   </td><td>335     </td><td>3.54    </td><td>3.570   </td><td>14.60   </td><td>0       </td><td>1       </td><td>5       </td><td>8       </td><td>15.10000</td></tr>\n",
       "\t<tr><td>21.4    </td><td>4       </td><td>121.0   </td><td>109     </td><td>4.11    </td><td>2.780   </td><td>18.60   </td><td>1       </td><td>1       </td><td>4       </td><td>2       </td><td>26.66364</td></tr>\n",
       "</tbody>\n",
       "</table>\n"
      ],
      "text/latex": [
       "\\begin{tabular}{r|llllllllllll}\n",
       " mpg & cyl & disp & hp & drat & wt & qsec & vs & am & gear & carb & meanMPGbyCyl\\\\\n",
       "\\hline\n",
       "\t 21.0     & 6        & 160.0    & 110      & 3.90     & 2.620    & 16.46    & 0        & 1        & 4        & 4        & 19.74286\\\\\n",
       "\t 21.0     & 6        & 160.0    & 110      & 3.90     & 2.875    & 17.02    & 0        & 1        & 4        & 4        & 19.74286\\\\\n",
       "\t 22.8     & 4        & 108.0    &  93      & 3.85     & 2.320    & 18.61    & 1        & 1        & 4        & 1        & 26.66364\\\\\n",
       "\t 21.4     & 6        & 258.0    & 110      & 3.08     & 3.215    & 19.44    & 1        & 0        & 3        & 1        & 19.74286\\\\\n",
       "\t 18.7     & 8        & 360.0    & 175      & 3.15     & 3.440    & 17.02    & 0        & 0        & 3        & 2        & 15.10000\\\\\n",
       "\t 18.1     & 6        & 225.0    & 105      & 2.76     & 3.460    & 20.22    & 1        & 0        & 3        & 1        & 19.74286\\\\\n",
       "\t 14.3     & 8        & 360.0    & 245      & 3.21     & 3.570    & 15.84    & 0        & 0        & 3        & 4        & 15.10000\\\\\n",
       "\t 24.4     & 4        & 146.7    &  62      & 3.69     & 3.190    & 20.00    & 1        & 0        & 4        & 2        & 26.66364\\\\\n",
       "\t 22.8     & 4        & 140.8    &  95      & 3.92     & 3.150    & 22.90    & 1        & 0        & 4        & 2        & 26.66364\\\\\n",
       "\t 19.2     & 6        & 167.6    & 123      & 3.92     & 3.440    & 18.30    & 1        & 0        & 4        & 4        & 19.74286\\\\\n",
       "\t 17.8     & 6        & 167.6    & 123      & 3.92     & 3.440    & 18.90    & 1        & 0        & 4        & 4        & 19.74286\\\\\n",
       "\t 16.4     & 8        & 275.8    & 180      & 3.07     & 4.070    & 17.40    & 0        & 0        & 3        & 3        & 15.10000\\\\\n",
       "\t 17.3     & 8        & 275.8    & 180      & 3.07     & 3.730    & 17.60    & 0        & 0        & 3        & 3        & 15.10000\\\\\n",
       "\t 15.2     & 8        & 275.8    & 180      & 3.07     & 3.780    & 18.00    & 0        & 0        & 3        & 3        & 15.10000\\\\\n",
       "\t 10.4     & 8        & 472.0    & 205      & 2.93     & 5.250    & 17.98    & 0        & 0        & 3        & 4        & 15.10000\\\\\n",
       "\t 10.4     & 8        & 460.0    & 215      & 3.00     & 5.424    & 17.82    & 0        & 0        & 3        & 4        & 15.10000\\\\\n",
       "\t 14.7     & 8        & 440.0    & 230      & 3.23     & 5.345    & 17.42    & 0        & 0        & 3        & 4        & 15.10000\\\\\n",
       "\t 32.4     & 4        &  78.7    &  66      & 4.08     & 2.200    & 19.47    & 1        & 1        & 4        & 1        & 26.66364\\\\\n",
       "\t 30.4     & 4        &  75.7    &  52      & 4.93     & 1.615    & 18.52    & 1        & 1        & 4        & 2        & 26.66364\\\\\n",
       "\t 33.9     & 4        &  71.1    &  65      & 4.22     & 1.835    & 19.90    & 1        & 1        & 4        & 1        & 26.66364\\\\\n",
       "\t 21.5     & 4        & 120.1    &  97      & 3.70     & 2.465    & 20.01    & 1        & 0        & 3        & 1        & 26.66364\\\\\n",
       "\t 15.5     & 8        & 318.0    & 150      & 2.76     & 3.520    & 16.87    & 0        & 0        & 3        & 2        & 15.10000\\\\\n",
       "\t 15.2     & 8        & 304.0    & 150      & 3.15     & 3.435    & 17.30    & 0        & 0        & 3        & 2        & 15.10000\\\\\n",
       "\t 13.3     & 8        & 350.0    & 245      & 3.73     & 3.840    & 15.41    & 0        & 0        & 3        & 4        & 15.10000\\\\\n",
       "\t 19.2     & 8        & 400.0    & 175      & 3.08     & 3.845    & 17.05    & 0        & 0        & 3        & 2        & 15.10000\\\\\n",
       "\t 27.3     & 4        &  79.0    &  66      & 4.08     & 1.935    & 18.90    & 1        & 1        & 4        & 1        & 26.66364\\\\\n",
       "\t 26.0     & 4        & 120.3    &  91      & 4.43     & 2.140    & 16.70    & 0        & 1        & 5        & 2        & 26.66364\\\\\n",
       "\t 30.4     & 4        &  95.1    & 113      & 3.77     & 1.513    & 16.90    & 1        & 1        & 5        & 2        & 26.66364\\\\\n",
       "\t 15.8     & 8        & 351.0    & 264      & 4.22     & 3.170    & 14.50    & 0        & 1        & 5        & 4        & 15.10000\\\\\n",
       "\t 19.7     & 6        & 145.0    & 175      & 3.62     & 2.770    & 15.50    & 0        & 1        & 5        & 6        & 19.74286\\\\\n",
       "\t 15.0     & 8        & 301.0    & 335      & 3.54     & 3.570    & 14.60    & 0        & 1        & 5        & 8        & 15.10000\\\\\n",
       "\t 21.4     & 4        & 121.0    & 109      & 4.11     & 2.780    & 18.60    & 1        & 1        & 4        & 2        & 26.66364\\\\\n",
       "\\end{tabular}\n"
      ],
      "text/markdown": [
       "\n",
       "mpg | cyl | disp | hp | drat | wt | qsec | vs | am | gear | carb | meanMPGbyCyl | \n",
       "|---|---|---|---|---|---|---|---|---|---|---|---|---|---|---|---|---|---|---|---|---|---|---|---|---|---|---|---|---|---|---|---|\n",
       "| 21.0     | 6        | 160.0    | 110      | 3.90     | 2.620    | 16.46    | 0        | 1        | 4        | 4        | 19.74286 | \n",
       "| 21.0     | 6        | 160.0    | 110      | 3.90     | 2.875    | 17.02    | 0        | 1        | 4        | 4        | 19.74286 | \n",
       "| 22.8     | 4        | 108.0    |  93      | 3.85     | 2.320    | 18.61    | 1        | 1        | 4        | 1        | 26.66364 | \n",
       "| 21.4     | 6        | 258.0    | 110      | 3.08     | 3.215    | 19.44    | 1        | 0        | 3        | 1        | 19.74286 | \n",
       "| 18.7     | 8        | 360.0    | 175      | 3.15     | 3.440    | 17.02    | 0        | 0        | 3        | 2        | 15.10000 | \n",
       "| 18.1     | 6        | 225.0    | 105      | 2.76     | 3.460    | 20.22    | 1        | 0        | 3        | 1        | 19.74286 | \n",
       "| 14.3     | 8        | 360.0    | 245      | 3.21     | 3.570    | 15.84    | 0        | 0        | 3        | 4        | 15.10000 | \n",
       "| 24.4     | 4        | 146.7    |  62      | 3.69     | 3.190    | 20.00    | 1        | 0        | 4        | 2        | 26.66364 | \n",
       "| 22.8     | 4        | 140.8    |  95      | 3.92     | 3.150    | 22.90    | 1        | 0        | 4        | 2        | 26.66364 | \n",
       "| 19.2     | 6        | 167.6    | 123      | 3.92     | 3.440    | 18.30    | 1        | 0        | 4        | 4        | 19.74286 | \n",
       "| 17.8     | 6        | 167.6    | 123      | 3.92     | 3.440    | 18.90    | 1        | 0        | 4        | 4        | 19.74286 | \n",
       "| 16.4     | 8        | 275.8    | 180      | 3.07     | 4.070    | 17.40    | 0        | 0        | 3        | 3        | 15.10000 | \n",
       "| 17.3     | 8        | 275.8    | 180      | 3.07     | 3.730    | 17.60    | 0        | 0        | 3        | 3        | 15.10000 | \n",
       "| 15.2     | 8        | 275.8    | 180      | 3.07     | 3.780    | 18.00    | 0        | 0        | 3        | 3        | 15.10000 | \n",
       "| 10.4     | 8        | 472.0    | 205      | 2.93     | 5.250    | 17.98    | 0        | 0        | 3        | 4        | 15.10000 | \n",
       "| 10.4     | 8        | 460.0    | 215      | 3.00     | 5.424    | 17.82    | 0        | 0        | 3        | 4        | 15.10000 | \n",
       "| 14.7     | 8        | 440.0    | 230      | 3.23     | 5.345    | 17.42    | 0        | 0        | 3        | 4        | 15.10000 | \n",
       "| 32.4     | 4        |  78.7    |  66      | 4.08     | 2.200    | 19.47    | 1        | 1        | 4        | 1        | 26.66364 | \n",
       "| 30.4     | 4        |  75.7    |  52      | 4.93     | 1.615    | 18.52    | 1        | 1        | 4        | 2        | 26.66364 | \n",
       "| 33.9     | 4        |  71.1    |  65      | 4.22     | 1.835    | 19.90    | 1        | 1        | 4        | 1        | 26.66364 | \n",
       "| 21.5     | 4        | 120.1    |  97      | 3.70     | 2.465    | 20.01    | 1        | 0        | 3        | 1        | 26.66364 | \n",
       "| 15.5     | 8        | 318.0    | 150      | 2.76     | 3.520    | 16.87    | 0        | 0        | 3        | 2        | 15.10000 | \n",
       "| 15.2     | 8        | 304.0    | 150      | 3.15     | 3.435    | 17.30    | 0        | 0        | 3        | 2        | 15.10000 | \n",
       "| 13.3     | 8        | 350.0    | 245      | 3.73     | 3.840    | 15.41    | 0        | 0        | 3        | 4        | 15.10000 | \n",
       "| 19.2     | 8        | 400.0    | 175      | 3.08     | 3.845    | 17.05    | 0        | 0        | 3        | 2        | 15.10000 | \n",
       "| 27.3     | 4        |  79.0    |  66      | 4.08     | 1.935    | 18.90    | 1        | 1        | 4        | 1        | 26.66364 | \n",
       "| 26.0     | 4        | 120.3    |  91      | 4.43     | 2.140    | 16.70    | 0        | 1        | 5        | 2        | 26.66364 | \n",
       "| 30.4     | 4        |  95.1    | 113      | 3.77     | 1.513    | 16.90    | 1        | 1        | 5        | 2        | 26.66364 | \n",
       "| 15.8     | 8        | 351.0    | 264      | 4.22     | 3.170    | 14.50    | 0        | 1        | 5        | 4        | 15.10000 | \n",
       "| 19.7     | 6        | 145.0    | 175      | 3.62     | 2.770    | 15.50    | 0        | 1        | 5        | 6        | 19.74286 | \n",
       "| 15.0     | 8        | 301.0    | 335      | 3.54     | 3.570    | 14.60    | 0        | 1        | 5        | 8        | 15.10000 | \n",
       "| 21.4     | 4        | 121.0    | 109      | 4.11     | 2.780    | 18.60    | 1        | 1        | 4        | 2        | 26.66364 | \n",
       "\n",
       "\n"
      ],
      "text/plain": [
       "   mpg  cyl disp  hp  drat wt    qsec  vs am gear carb meanMPGbyCyl\n",
       "1  21.0 6   160.0 110 3.90 2.620 16.46 0  1  4    4    19.74286    \n",
       "2  21.0 6   160.0 110 3.90 2.875 17.02 0  1  4    4    19.74286    \n",
       "3  22.8 4   108.0  93 3.85 2.320 18.61 1  1  4    1    26.66364    \n",
       "4  21.4 6   258.0 110 3.08 3.215 19.44 1  0  3    1    19.74286    \n",
       "5  18.7 8   360.0 175 3.15 3.440 17.02 0  0  3    2    15.10000    \n",
       "6  18.1 6   225.0 105 2.76 3.460 20.22 1  0  3    1    19.74286    \n",
       "7  14.3 8   360.0 245 3.21 3.570 15.84 0  0  3    4    15.10000    \n",
       "8  24.4 4   146.7  62 3.69 3.190 20.00 1  0  4    2    26.66364    \n",
       "9  22.8 4   140.8  95 3.92 3.150 22.90 1  0  4    2    26.66364    \n",
       "10 19.2 6   167.6 123 3.92 3.440 18.30 1  0  4    4    19.74286    \n",
       "11 17.8 6   167.6 123 3.92 3.440 18.90 1  0  4    4    19.74286    \n",
       "12 16.4 8   275.8 180 3.07 4.070 17.40 0  0  3    3    15.10000    \n",
       "13 17.3 8   275.8 180 3.07 3.730 17.60 0  0  3    3    15.10000    \n",
       "14 15.2 8   275.8 180 3.07 3.780 18.00 0  0  3    3    15.10000    \n",
       "15 10.4 8   472.0 205 2.93 5.250 17.98 0  0  3    4    15.10000    \n",
       "16 10.4 8   460.0 215 3.00 5.424 17.82 0  0  3    4    15.10000    \n",
       "17 14.7 8   440.0 230 3.23 5.345 17.42 0  0  3    4    15.10000    \n",
       "18 32.4 4    78.7  66 4.08 2.200 19.47 1  1  4    1    26.66364    \n",
       "19 30.4 4    75.7  52 4.93 1.615 18.52 1  1  4    2    26.66364    \n",
       "20 33.9 4    71.1  65 4.22 1.835 19.90 1  1  4    1    26.66364    \n",
       "21 21.5 4   120.1  97 3.70 2.465 20.01 1  0  3    1    26.66364    \n",
       "22 15.5 8   318.0 150 2.76 3.520 16.87 0  0  3    2    15.10000    \n",
       "23 15.2 8   304.0 150 3.15 3.435 17.30 0  0  3    2    15.10000    \n",
       "24 13.3 8   350.0 245 3.73 3.840 15.41 0  0  3    4    15.10000    \n",
       "25 19.2 8   400.0 175 3.08 3.845 17.05 0  0  3    2    15.10000    \n",
       "26 27.3 4    79.0  66 4.08 1.935 18.90 1  1  4    1    26.66364    \n",
       "27 26.0 4   120.3  91 4.43 2.140 16.70 0  1  5    2    26.66364    \n",
       "28 30.4 4    95.1 113 3.77 1.513 16.90 1  1  5    2    26.66364    \n",
       "29 15.8 8   351.0 264 4.22 3.170 14.50 0  1  5    4    15.10000    \n",
       "30 19.7 6   145.0 175 3.62 2.770 15.50 0  1  5    6    19.74286    \n",
       "31 15.0 8   301.0 335 3.54 3.570 14.60 0  1  5    8    15.10000    \n",
       "32 21.4 4   121.0 109 4.11 2.780 18.60 1  1  4    2    26.66364    "
      ]
     },
     "metadata": {},
     "output_type": "display_data"
    }
   ],
   "source": [
    "# New variable meanMPGbyCyl that is a mean of mpg column for each value of Cyl\n",
    "mutate(cylGrouping, meanMPGbyCyl = mean(mpg))"
   ]
  },
  {
   "cell_type": "markdown",
   "metadata": {},
   "source": [
    "## Using the pipe operator to summarize"
   ]
  },
  {
   "cell_type": "code",
   "execution_count": 18,
   "metadata": {
    "collapsed": false
   },
   "outputs": [
    {
     "data": {
      "text/html": [
       "<table>\n",
       "<thead><tr><th scope=col>cyl</th><th scope=col>mean.MPG</th></tr></thead>\n",
       "<tbody>\n",
       "\t<tr><td>4       </td><td>28.07500</td></tr>\n",
       "\t<tr><td>6       </td><td>20.56667</td></tr>\n",
       "\t<tr><td>8       </td><td>15.40000</td></tr>\n",
       "</tbody>\n",
       "</table>\n"
      ],
      "text/latex": [
       "\\begin{tabular}{r|ll}\n",
       " cyl & mean.MPG\\\\\n",
       "\\hline\n",
       "\t 4        & 28.07500\\\\\n",
       "\t 6        & 20.56667\\\\\n",
       "\t 8        & 15.40000\\\\\n",
       "\\end{tabular}\n"
      ],
      "text/markdown": [
       "\n",
       "cyl | mean.MPG | \n",
       "|---|---|---|\n",
       "| 4        | 28.07500 | \n",
       "| 6        | 20.56667 | \n",
       "| 8        | 15.40000 | \n",
       "\n",
       "\n"
      ],
      "text/plain": [
       "  cyl mean.MPG\n",
       "1 4   28.07500\n",
       "2 6   20.56667\n",
       "3 8   15.40000"
      ]
     },
     "metadata": {},
     "output_type": "display_data"
    }
   ],
   "source": [
    "# Mean MPG by cycl for manual cars\n",
    "mtcars %>% arrange(cyl) %>% group_by(cyl) %>% filter(am==1) %>% summarize(mean.MPG=mean(mpg))"
   ]
  },
  {
   "cell_type": "markdown",
   "metadata": {},
   "source": [
    "## data.table Command"
   ]
  },
  {
   "cell_type": "code",
   "execution_count": 21,
   "metadata": {
    "collapsed": false
   },
   "outputs": [
    {
     "name": "stderr",
     "output_type": "stream",
     "text": [
      "------------------------------------------------------------------------------\n",
      "data.table + dplyr code now lives in dtplyr.\n",
      "Please library(dtplyr)!\n",
      "------------------------------------------------------------------------------\n",
      "\n",
      "Attaching package: 'data.table'\n",
      "\n",
      "The following objects are masked from 'package:dplyr':\n",
      "\n",
      "    between, first, last\n",
      "\n"
     ]
    }
   ],
   "source": [
    "library(mangoTraining)\n",
    "library(data.table)\n",
    "demoDt <- data.table(demoData)"
   ]
  },
  {
   "cell_type": "markdown",
   "metadata": {},
   "source": [
    "## creating table and defining a key"
   ]
  },
  {
   "cell_type": "code",
   "execution_count": 23,
   "metadata": {
    "collapsed": false
   },
   "outputs": [
    {
     "data": {
      "text/html": [
       "<table>\n",
       "<thead><tr><th scope=col>Subject</th><th scope=col>Sex</th><th scope=col>Age</th><th scope=col>Weight</th><th scope=col>Height</th><th scope=col>BMI</th><th scope=col>Smokes</th></tr></thead>\n",
       "<tbody>\n",
       "\t<tr><td> 3  </td><td>F   </td><td>23  </td><td>72  </td><td>170 </td><td>25.1</td><td>No  </td></tr>\n",
       "\t<tr><td> 6  </td><td>F   </td><td>29  </td><td>67  </td><td>169 </td><td>23.5</td><td>No  </td></tr>\n",
       "\t<tr><td>12  </td><td>F   </td><td>32  </td><td>77  </td><td>182 </td><td>23.1</td><td>No  </td></tr>\n",
       "\t<tr><td>15  </td><td>F   </td><td>27  </td><td>73  </td><td>172 </td><td>24.8</td><td>No  </td></tr>\n",
       "\t<tr><td>23  </td><td>F   </td><td>26  </td><td>82  </td><td>175 </td><td>26.8</td><td>No  </td></tr>\n",
       "\t<tr><td>26  </td><td>F   </td><td>25  </td><td>58  </td><td>175 </td><td>18.9</td><td>No  </td></tr>\n",
       "</tbody>\n",
       "</table>\n"
      ],
      "text/latex": [
       "\\begin{tabular}{r|lllllll}\n",
       " Subject & Sex & Age & Weight & Height & BMI & Smokes\\\\\n",
       "\\hline\n",
       "\t  3   & F    & 23   & 72   & 170  & 25.1 & No  \\\\\n",
       "\t  6   & F    & 29   & 67   & 169  & 23.5 & No  \\\\\n",
       "\t 12   & F    & 32   & 77   & 182  & 23.1 & No  \\\\\n",
       "\t 15   & F    & 27   & 73   & 172  & 24.8 & No  \\\\\n",
       "\t 23   & F    & 26   & 82   & 175  & 26.8 & No  \\\\\n",
       "\t 26   & F    & 25   & 58   & 175  & 18.9 & No  \\\\\n",
       "\\end{tabular}\n"
      ],
      "text/markdown": [
       "\n",
       "Subject | Sex | Age | Weight | Height | BMI | Smokes | \n",
       "|---|---|---|---|---|---|\n",
       "|  3   | F    | 23   | 72   | 170  | 25.1 | No   | \n",
       "|  6   | F    | 29   | 67   | 169  | 23.5 | No   | \n",
       "| 12   | F    | 32   | 77   | 182  | 23.1 | No   | \n",
       "| 15   | F    | 27   | 73   | 172  | 24.8 | No   | \n",
       "| 23   | F    | 26   | 82   | 175  | 26.8 | No   | \n",
       "| 26   | F    | 25   | 58   | 175  | 18.9 | No   | \n",
       "\n",
       "\n"
      ],
      "text/plain": [
       "  Subject Sex Age Weight Height BMI  Smokes\n",
       "1  3      F   23  72     170    25.1 No    \n",
       "2  6      F   29  67     169    23.5 No    \n",
       "3 12      F   32  77     182    23.1 No    \n",
       "4 15      F   27  73     172    24.8 No    \n",
       "5 23      F   26  82     175    26.8 No    \n",
       "6 26      F   25  58     175    18.9 No    "
      ]
     },
     "metadata": {},
     "output_type": "display_data"
    }
   ],
   "source": [
    "setkey(demoDt, Sex, Smokes)\n",
    "head(demoDt)"
   ]
  },
  {
   "cell_type": "markdown",
   "metadata": {},
   "source": [
    "## Referencing columns using data.table"
   ]
  },
  {
   "cell_type": "code",
   "execution_count": 30,
   "metadata": {
    "collapsed": false
   },
   "outputs": [
    {
     "name": "stdout",
     "output_type": "stream",
     "text": [
      "    Subject Sex Age Weight Height  BMI Smokes\n",
      " 1:       3   F  23     72    170 25.1     No\n",
      " 2:       6   F  29     67    169 23.5     No\n",
      " 3:      12   F  32     77    182 23.1     No\n",
      " 4:      15   F  27     73    172 24.8     No\n",
      " 5:      23   F  26     82    175 26.8     No\n",
      " 6:      26   F  25     58    175 18.9     No\n",
      " 7:      28   F  28     69    172 23.4     No\n",
      " 8:      30   F  33     61    175 19.9     No\n",
      " 9:      17   F  41     62    172 20.9    Yes\n",
      "10:      27   F  36     82    190 22.6    Yes\n"
     ]
    }
   ],
   "source": [
    "print(demoDt[Sex==\"F\",])"
   ]
  },
  {
   "cell_type": "markdown",
   "metadata": {},
   "source": [
    "## subsetting with multiple values using the join command"
   ]
  },
  {
   "cell_type": "code",
   "execution_count": 31,
   "metadata": {
    "collapsed": false
   },
   "outputs": [
    {
     "data": {
      "text/html": [
       "<ol class=list-inline>\n",
       "\t<li>'Sex'</li>\n",
       "\t<li>'Smokes'</li>\n",
       "</ol>\n"
      ],
      "text/latex": [
       "\\begin{enumerate*}\n",
       "\\item 'Sex'\n",
       "\\item 'Smokes'\n",
       "\\end{enumerate*}\n"
      ],
      "text/markdown": [
       "1. 'Sex'\n",
       "2. 'Smokes'\n",
       "\n",
       "\n"
      ],
      "text/plain": [
       "[1] \"Sex\"    \"Smokes\""
      ]
     },
     "metadata": {},
     "output_type": "display_data"
    }
   ],
   "source": [
    "key(demoDt)"
   ]
  },
  {
   "cell_type": "code",
   "execution_count": 33,
   "metadata": {
    "collapsed": false
   },
   "outputs": [
    {
     "data": {
      "text/html": [
       "<table>\n",
       "<thead><tr><th scope=col>Subject</th><th scope=col>Sex</th><th scope=col>Age</th><th scope=col>Weight</th><th scope=col>Height</th><th scope=col>BMI</th><th scope=col>Smokes</th></tr></thead>\n",
       "<tbody>\n",
       "\t<tr><td>17  </td><td>F   </td><td>41  </td><td>62  </td><td>172 </td><td>20.9</td><td>Yes </td></tr>\n",
       "\t<tr><td>27  </td><td>F   </td><td>36  </td><td>82  </td><td>190 </td><td>22.6</td><td>Yes </td></tr>\n",
       "</tbody>\n",
       "</table>\n"
      ],
      "text/latex": [
       "\\begin{tabular}{r|lllllll}\n",
       " Subject & Sex & Age & Weight & Height & BMI & Smokes\\\\\n",
       "\\hline\n",
       "\t 17   & F    & 41   & 62   & 172  & 20.9 & Yes \\\\\n",
       "\t 27   & F    & 36   & 82   & 190  & 22.6 & Yes \\\\\n",
       "\\end{tabular}\n"
      ],
      "text/markdown": [
       "\n",
       "Subject | Sex | Age | Weight | Height | BMI | Smokes | \n",
       "|---|---|\n",
       "| 17   | F    | 41   | 62   | 172  | 20.9 | Yes  | \n",
       "| 27   | F    | 36   | 82   | 190  | 22.6 | Yes  | \n",
       "\n",
       "\n"
      ],
      "text/plain": [
       "  Subject Sex Age Weight Height BMI  Smokes\n",
       "1 17      F   41  62     172    20.9 Yes   \n",
       "2 27      F   36  82     190    22.6 Yes   "
      ]
     },
     "metadata": {},
     "output_type": "display_data"
    }
   ],
   "source": [
    "demoDt[J(\"F\", \"Yes\"), ]  # J stands for join"
   ]
  },
  {
   "cell_type": "code",
   "execution_count": 40,
   "metadata": {
    "collapsed": false
   },
   "outputs": [
    {
     "data": {
      "text/html": [
       "<table>\n",
       "<thead><tr><th scope=col>Subject</th><th scope=col>Sex</th><th scope=col>Age</th><th scope=col>Weight</th><th scope=col>Height</th><th scope=col>BMI</th><th scope=col>Smokes</th></tr></thead>\n",
       "<tbody>\n",
       "\t<tr><td> 4  </td><td>M   </td><td>25  </td><td>76  </td><td>188 </td><td>21.4</td><td>No  </td></tr>\n",
       "\t<tr><td>31  </td><td>M   </td><td>25  </td><td>76  </td><td>174 </td><td>25.1</td><td>No  </td></tr>\n",
       "\t<tr><td>13  </td><td>M   </td><td>21  </td><td>77  </td><td>180 </td><td>23.6</td><td>No  </td></tr>\n",
       "\t<tr><td>20  </td><td>M   </td><td>22  </td><td>77  </td><td>183 </td><td>23.1</td><td>No  </td></tr>\n",
       "</tbody>\n",
       "</table>\n"
      ],
      "text/latex": [
       "\\begin{tabular}{r|lllllll}\n",
       " Subject & Sex & Age & Weight & Height & BMI & Smokes\\\\\n",
       "\\hline\n",
       "\t  4   & M    & 25   & 76   & 188  & 21.4 & No  \\\\\n",
       "\t 31   & M    & 25   & 76   & 174  & 25.1 & No  \\\\\n",
       "\t 13   & M    & 21   & 77   & 180  & 23.6 & No  \\\\\n",
       "\t 20   & M    & 22   & 77   & 183  & 23.1 & No  \\\\\n",
       "\\end{tabular}\n"
      ],
      "text/markdown": [
       "\n",
       "Subject | Sex | Age | Weight | Height | BMI | Smokes | \n",
       "|---|---|---|---|\n",
       "|  4   | M    | 25   | 76   | 188  | 21.4 | No   | \n",
       "| 31   | M    | 25   | 76   | 174  | 25.1 | No   | \n",
       "| 13   | M    | 21   | 77   | 180  | 23.6 | No   | \n",
       "| 20   | M    | 22   | 77   | 183  | 23.1 | No   | \n",
       "\n",
       "\n"
      ],
      "text/plain": [
       "  Subject Sex Age Weight Height BMI  Smokes\n",
       "1  4      M   25  76     188    21.4 No    \n",
       "2 31      M   25  76     174    25.1 No    \n",
       "3 13      M   21  77     180    23.6 No    \n",
       "4 20      M   22  77     183    23.1 No    "
      ]
     },
     "metadata": {},
     "output_type": "display_data"
    }
   ],
   "source": [
    "setkey(demoDt, Sex, Weight)\n",
    "demoDt[J(\"M\", c(76, 77))]"
   ]
  },
  {
   "cell_type": "markdown",
   "metadata": {},
   "source": [
    "## Returning numerical rows with the . Notation"
   ]
  },
  {
   "cell_type": "code",
   "execution_count": 44,
   "metadata": {
    "collapsed": false
   },
   "outputs": [
    {
     "data": {
      "text/html": [
       "<table>\n",
       "<thead><tr><th scope=col>Subject</th><th scope=col>Sex</th><th scope=col>Age</th><th scope=col>Weight</th><th scope=col>Height</th><th scope=col>BMI</th><th scope=col>Smokes</th></tr></thead>\n",
       "<tbody>\n",
       "\t<tr><td>3   </td><td>F   </td><td>23  </td><td>72  </td><td>170 </td><td>25.1</td><td>No  </td></tr>\n",
       "</tbody>\n",
       "</table>\n"
      ],
      "text/latex": [
       "\\begin{tabular}{r|lllllll}\n",
       " Subject & Sex & Age & Weight & Height & BMI & Smokes\\\\\n",
       "\\hline\n",
       "\t 3    & F    & 23   & 72   & 170  & 25.1 & No  \\\\\n",
       "\\end{tabular}\n"
      ],
      "text/markdown": [
       "\n",
       "Subject | Sex | Age | Weight | Height | BMI | Smokes | \n",
       "|---|\n",
       "| 3    | F    | 23   | 72   | 170  | 25.1 | No   | \n",
       "\n",
       "\n"
      ],
      "text/plain": [
       "  Subject Sex Age Weight Height BMI  Smokes\n",
       "1 3       F   23  72     170    25.1 No    "
      ]
     },
     "metadata": {},
     "output_type": "display_data"
    }
   ],
   "source": [
    "setkey(demoDt, Weight) # return rows with weight equal to 72\n",
    "demoDt[.(72), ]"
   ]
  },
  {
   "cell_type": "markdown",
   "metadata": {},
   "source": [
    "## Adding and renaming columns"
   ]
  },
  {
   "cell_type": "code",
   "execution_count": 55,
   "metadata": {
    "collapsed": false
   },
   "outputs": [
    {
     "data": {
      "text/html": [
       "<table>\n",
       "<thead><tr><th scope=col>Subject</th><th scope=col>Sex</th><th scope=col>Age</th><th scope=col>Weight</th><th scope=col>Height</th><th scope=col>BMI</th><th scope=col>Smokes</th><th scope=col>HeightInM.sq</th></tr></thead>\n",
       "<tbody>\n",
       "\t<tr><td> 1    </td><td>M     </td><td>43    </td><td>57    </td><td>166   </td><td>20.7  </td><td>No    </td><td>2.7556</td></tr>\n",
       "\t<tr><td>26    </td><td>F     </td><td>25    </td><td>58    </td><td>175   </td><td>18.9  </td><td>No    </td><td>3.0625</td></tr>\n",
       "\t<tr><td>30    </td><td>F     </td><td>33    </td><td>61    </td><td>175   </td><td>19.9  </td><td>No    </td><td>3.0625</td></tr>\n",
       "\t<tr><td>22    </td><td>M     </td><td>27    </td><td>61    </td><td>170   </td><td>21.0  </td><td>No    </td><td>2.8900</td></tr>\n",
       "\t<tr><td>17    </td><td>F     </td><td>41    </td><td>62    </td><td>172   </td><td>20.9  </td><td>Yes   </td><td>2.9584</td></tr>\n",
       "\t<tr><td>14    </td><td>M     </td><td>26    </td><td>64    </td><td>170   </td><td>22.0  </td><td>No    </td><td>2.8900</td></tr>\n",
       "\t<tr><td>18    </td><td>M     </td><td>29    </td><td>66    </td><td>168   </td><td>23.2  </td><td>No    </td><td>2.8224</td></tr>\n",
       "\t<tr><td> 6    </td><td>F     </td><td>29    </td><td>67    </td><td>169   </td><td>23.5  </td><td>No    </td><td>2.8561</td></tr>\n",
       "\t<tr><td>19    </td><td>M     </td><td>25    </td><td>67    </td><td>171   </td><td>23.0  </td><td>Yes   </td><td>2.9241</td></tr>\n",
       "\t<tr><td>28    </td><td>F     </td><td>28    </td><td>69    </td><td>172   </td><td>23.4  </td><td>No    </td><td>2.9584</td></tr>\n",
       "\t<tr><td> 7    </td><td>M     </td><td>28    </td><td>69    </td><td>166   </td><td>25.0  </td><td>Yes   </td><td>2.7556</td></tr>\n",
       "\t<tr><td> 2    </td><td>M     </td><td>22    </td><td>71    </td><td>179   </td><td>22.2  </td><td>No    </td><td>3.2041</td></tr>\n",
       "\t<tr><td>10    </td><td>M     </td><td>23    </td><td>71    </td><td>188   </td><td>20.1  </td><td>No    </td><td>3.5344</td></tr>\n",
       "\t<tr><td> 3    </td><td>F     </td><td>23    </td><td>72    </td><td>170   </td><td>25.1  </td><td>No    </td><td>2.8900</td></tr>\n",
       "\t<tr><td>15    </td><td>F     </td><td>27    </td><td>73    </td><td>172   </td><td>24.8  </td><td>No    </td><td>2.9584</td></tr>\n",
       "\t<tr><td> 8    </td><td>M     </td><td>23    </td><td>73    </td><td>183   </td><td>21.9  </td><td>No    </td><td>3.3489</td></tr>\n",
       "\t<tr><td>16    </td><td>M     </td><td>29    </td><td>73    </td><td>169   </td><td>25.6  </td><td>No    </td><td>2.8561</td></tr>\n",
       "\t<tr><td>32    </td><td>M     </td><td>25    </td><td>75    </td><td>177   </td><td>24.1  </td><td>No    </td><td>3.1329</td></tr>\n",
       "\t<tr><td> 4    </td><td>M     </td><td>25    </td><td>76    </td><td>188   </td><td>21.4  </td><td>No    </td><td>3.5344</td></tr>\n",
       "\t<tr><td>31    </td><td>M     </td><td>25    </td><td>76    </td><td>174   </td><td>25.1  </td><td>No    </td><td>3.0276</td></tr>\n",
       "\t<tr><td>12    </td><td>F     </td><td>32    </td><td>77    </td><td>182   </td><td>23.1  </td><td>No    </td><td>3.3124</td></tr>\n",
       "\t<tr><td>13    </td><td>M     </td><td>21    </td><td>77    </td><td>180   </td><td>23.6  </td><td>No    </td><td>3.2400</td></tr>\n",
       "\t<tr><td>20    </td><td>M     </td><td>22    </td><td>77    </td><td>183   </td><td>23.1  </td><td>No    </td><td>3.3489</td></tr>\n",
       "\t<tr><td> 9    </td><td>M     </td><td>40    </td><td>79    </td><td>187   </td><td>22.6  </td><td>No    </td><td>3.4969</td></tr>\n",
       "\t<tr><td>33    </td><td>M     </td><td>30    </td><td>80    </td><td>180   </td><td>24.8  </td><td>No    </td><td>3.2400</td></tr>\n",
       "\t<tr><td>24    </td><td>M     </td><td>21    </td><td>80    </td><td>180   </td><td>24.8  </td><td>Yes   </td><td>3.2400</td></tr>\n",
       "\t<tr><td>11    </td><td>M     </td><td>38    </td><td>81    </td><td>174   </td><td>26.8  </td><td>No    </td><td>3.0276</td></tr>\n",
       "\t<tr><td>29    </td><td>M     </td><td>44    </td><td>81    </td><td>175   </td><td>26.4  </td><td>Yes   </td><td>3.0625</td></tr>\n",
       "\t<tr><td>23    </td><td>F     </td><td>26    </td><td>82    </td><td>175   </td><td>26.8  </td><td>No    </td><td>3.0625</td></tr>\n",
       "\t<tr><td>27    </td><td>F     </td><td>36    </td><td>82    </td><td>190   </td><td>22.6  </td><td>Yes   </td><td>3.6100</td></tr>\n",
       "\t<tr><td> 5    </td><td>M     </td><td>29    </td><td>82    </td><td>175   </td><td>26.8  </td><td>No    </td><td>3.0625</td></tr>\n",
       "\t<tr><td>21    </td><td>M     </td><td>26    </td><td>84    </td><td>183   </td><td>25.0  </td><td>No    </td><td>3.3489</td></tr>\n",
       "\t<tr><td>25    </td><td>M     </td><td>35    </td><td>85    </td><td>175   </td><td>27.7  </td><td>No    </td><td>3.0625</td></tr>\n",
       "</tbody>\n",
       "</table>\n"
      ],
      "text/latex": [
       "\\begin{tabular}{r|llllllll}\n",
       " Subject & Sex & Age & Weight & Height & BMI & Smokes & HeightInM.sq\\\\\n",
       "\\hline\n",
       "\t  1     & M      & 43     & 57     & 166    & 20.7   & No     & 2.7556\\\\\n",
       "\t 26     & F      & 25     & 58     & 175    & 18.9   & No     & 3.0625\\\\\n",
       "\t 30     & F      & 33     & 61     & 175    & 19.9   & No     & 3.0625\\\\\n",
       "\t 22     & M      & 27     & 61     & 170    & 21.0   & No     & 2.8900\\\\\n",
       "\t 17     & F      & 41     & 62     & 172    & 20.9   & Yes    & 2.9584\\\\\n",
       "\t 14     & M      & 26     & 64     & 170    & 22.0   & No     & 2.8900\\\\\n",
       "\t 18     & M      & 29     & 66     & 168    & 23.2   & No     & 2.8224\\\\\n",
       "\t  6     & F      & 29     & 67     & 169    & 23.5   & No     & 2.8561\\\\\n",
       "\t 19     & M      & 25     & 67     & 171    & 23.0   & Yes    & 2.9241\\\\\n",
       "\t 28     & F      & 28     & 69     & 172    & 23.4   & No     & 2.9584\\\\\n",
       "\t  7     & M      & 28     & 69     & 166    & 25.0   & Yes    & 2.7556\\\\\n",
       "\t  2     & M      & 22     & 71     & 179    & 22.2   & No     & 3.2041\\\\\n",
       "\t 10     & M      & 23     & 71     & 188    & 20.1   & No     & 3.5344\\\\\n",
       "\t  3     & F      & 23     & 72     & 170    & 25.1   & No     & 2.8900\\\\\n",
       "\t 15     & F      & 27     & 73     & 172    & 24.8   & No     & 2.9584\\\\\n",
       "\t  8     & M      & 23     & 73     & 183    & 21.9   & No     & 3.3489\\\\\n",
       "\t 16     & M      & 29     & 73     & 169    & 25.6   & No     & 2.8561\\\\\n",
       "\t 32     & M      & 25     & 75     & 177    & 24.1   & No     & 3.1329\\\\\n",
       "\t  4     & M      & 25     & 76     & 188    & 21.4   & No     & 3.5344\\\\\n",
       "\t 31     & M      & 25     & 76     & 174    & 25.1   & No     & 3.0276\\\\\n",
       "\t 12     & F      & 32     & 77     & 182    & 23.1   & No     & 3.3124\\\\\n",
       "\t 13     & M      & 21     & 77     & 180    & 23.6   & No     & 3.2400\\\\\n",
       "\t 20     & M      & 22     & 77     & 183    & 23.1   & No     & 3.3489\\\\\n",
       "\t  9     & M      & 40     & 79     & 187    & 22.6   & No     & 3.4969\\\\\n",
       "\t 33     & M      & 30     & 80     & 180    & 24.8   & No     & 3.2400\\\\\n",
       "\t 24     & M      & 21     & 80     & 180    & 24.8   & Yes    & 3.2400\\\\\n",
       "\t 11     & M      & 38     & 81     & 174    & 26.8   & No     & 3.0276\\\\\n",
       "\t 29     & M      & 44     & 81     & 175    & 26.4   & Yes    & 3.0625\\\\\n",
       "\t 23     & F      & 26     & 82     & 175    & 26.8   & No     & 3.0625\\\\\n",
       "\t 27     & F      & 36     & 82     & 190    & 22.6   & Yes    & 3.6100\\\\\n",
       "\t  5     & M      & 29     & 82     & 175    & 26.8   & No     & 3.0625\\\\\n",
       "\t 21     & M      & 26     & 84     & 183    & 25.0   & No     & 3.3489\\\\\n",
       "\t 25     & M      & 35     & 85     & 175    & 27.7   & No     & 3.0625\\\\\n",
       "\\end{tabular}\n"
      ],
      "text/markdown": [
       "\n",
       "Subject | Sex | Age | Weight | Height | BMI | Smokes | HeightInM.sq | \n",
       "|---|---|---|---|---|---|---|---|---|---|---|---|---|---|---|---|---|---|---|---|---|---|---|---|---|---|---|---|---|---|---|---|---|\n",
       "|  1     | M      | 43     | 57     | 166    | 20.7   | No     | 2.7556 | \n",
       "| 26     | F      | 25     | 58     | 175    | 18.9   | No     | 3.0625 | \n",
       "| 30     | F      | 33     | 61     | 175    | 19.9   | No     | 3.0625 | \n",
       "| 22     | M      | 27     | 61     | 170    | 21.0   | No     | 2.8900 | \n",
       "| 17     | F      | 41     | 62     | 172    | 20.9   | Yes    | 2.9584 | \n",
       "| 14     | M      | 26     | 64     | 170    | 22.0   | No     | 2.8900 | \n",
       "| 18     | M      | 29     | 66     | 168    | 23.2   | No     | 2.8224 | \n",
       "|  6     | F      | 29     | 67     | 169    | 23.5   | No     | 2.8561 | \n",
       "| 19     | M      | 25     | 67     | 171    | 23.0   | Yes    | 2.9241 | \n",
       "| 28     | F      | 28     | 69     | 172    | 23.4   | No     | 2.9584 | \n",
       "|  7     | M      | 28     | 69     | 166    | 25.0   | Yes    | 2.7556 | \n",
       "|  2     | M      | 22     | 71     | 179    | 22.2   | No     | 3.2041 | \n",
       "| 10     | M      | 23     | 71     | 188    | 20.1   | No     | 3.5344 | \n",
       "|  3     | F      | 23     | 72     | 170    | 25.1   | No     | 2.8900 | \n",
       "| 15     | F      | 27     | 73     | 172    | 24.8   | No     | 2.9584 | \n",
       "|  8     | M      | 23     | 73     | 183    | 21.9   | No     | 3.3489 | \n",
       "| 16     | M      | 29     | 73     | 169    | 25.6   | No     | 2.8561 | \n",
       "| 32     | M      | 25     | 75     | 177    | 24.1   | No     | 3.1329 | \n",
       "|  4     | M      | 25     | 76     | 188    | 21.4   | No     | 3.5344 | \n",
       "| 31     | M      | 25     | 76     | 174    | 25.1   | No     | 3.0276 | \n",
       "| 12     | F      | 32     | 77     | 182    | 23.1   | No     | 3.3124 | \n",
       "| 13     | M      | 21     | 77     | 180    | 23.6   | No     | 3.2400 | \n",
       "| 20     | M      | 22     | 77     | 183    | 23.1   | No     | 3.3489 | \n",
       "|  9     | M      | 40     | 79     | 187    | 22.6   | No     | 3.4969 | \n",
       "| 33     | M      | 30     | 80     | 180    | 24.8   | No     | 3.2400 | \n",
       "| 24     | M      | 21     | 80     | 180    | 24.8   | Yes    | 3.2400 | \n",
       "| 11     | M      | 38     | 81     | 174    | 26.8   | No     | 3.0276 | \n",
       "| 29     | M      | 44     | 81     | 175    | 26.4   | Yes    | 3.0625 | \n",
       "| 23     | F      | 26     | 82     | 175    | 26.8   | No     | 3.0625 | \n",
       "| 27     | F      | 36     | 82     | 190    | 22.6   | Yes    | 3.6100 | \n",
       "|  5     | M      | 29     | 82     | 175    | 26.8   | No     | 3.0625 | \n",
       "| 21     | M      | 26     | 84     | 183    | 25.0   | No     | 3.3489 | \n",
       "| 25     | M      | 35     | 85     | 175    | 27.7   | No     | 3.0625 | \n",
       "\n",
       "\n"
      ],
      "text/plain": [
       "   Subject Sex Age Weight Height BMI  Smokes HeightInM.sq\n",
       "1   1      M   43  57     166    20.7 No     2.7556      \n",
       "2  26      F   25  58     175    18.9 No     3.0625      \n",
       "3  30      F   33  61     175    19.9 No     3.0625      \n",
       "4  22      M   27  61     170    21.0 No     2.8900      \n",
       "5  17      F   41  62     172    20.9 Yes    2.9584      \n",
       "6  14      M   26  64     170    22.0 No     2.8900      \n",
       "7  18      M   29  66     168    23.2 No     2.8224      \n",
       "8   6      F   29  67     169    23.5 No     2.8561      \n",
       "9  19      M   25  67     171    23.0 Yes    2.9241      \n",
       "10 28      F   28  69     172    23.4 No     2.9584      \n",
       "11  7      M   28  69     166    25.0 Yes    2.7556      \n",
       "12  2      M   22  71     179    22.2 No     3.2041      \n",
       "13 10      M   23  71     188    20.1 No     3.5344      \n",
       "14  3      F   23  72     170    25.1 No     2.8900      \n",
       "15 15      F   27  73     172    24.8 No     2.9584      \n",
       "16  8      M   23  73     183    21.9 No     3.3489      \n",
       "17 16      M   29  73     169    25.6 No     2.8561      \n",
       "18 32      M   25  75     177    24.1 No     3.1329      \n",
       "19  4      M   25  76     188    21.4 No     3.5344      \n",
       "20 31      M   25  76     174    25.1 No     3.0276      \n",
       "21 12      F   32  77     182    23.1 No     3.3124      \n",
       "22 13      M   21  77     180    23.6 No     3.2400      \n",
       "23 20      M   22  77     183    23.1 No     3.3489      \n",
       "24  9      M   40  79     187    22.6 No     3.4969      \n",
       "25 33      M   30  80     180    24.8 No     3.2400      \n",
       "26 24      M   21  80     180    24.8 Yes    3.2400      \n",
       "27 11      M   38  81     174    26.8 No     3.0276      \n",
       "28 29      M   44  81     175    26.4 Yes    3.0625      \n",
       "29 23      F   26  82     175    26.8 No     3.0625      \n",
       "30 27      F   36  82     190    22.6 Yes    3.6100      \n",
       "31  5      M   29  82     175    26.8 No     3.0625      \n",
       "32 21      M   26  84     183    25.0 No     3.3489      \n",
       "33 25      M   35  85     175    27.7 No     3.0625      "
      ]
     },
     "metadata": {},
     "output_type": "display_data"
    },
    {
     "data": {
      "text/html": [
       "<table>\n",
       "<thead><tr><th scope=col>Subject</th><th scope=col>Sex</th><th scope=col>Age</th><th scope=col>Weight</th><th scope=col>Height</th><th scope=col>BMI</th><th scope=col>Smokes</th><th scope=col>HeightInM.sq</th></tr></thead>\n",
       "<tbody>\n",
       "\t<tr><td> 1    </td><td>M     </td><td>43    </td><td>57    </td><td>166   </td><td>20.7  </td><td>No    </td><td>2.7556</td></tr>\n",
       "\t<tr><td>26    </td><td>F     </td><td>25    </td><td>58    </td><td>175   </td><td>18.9  </td><td>No    </td><td>3.0625</td></tr>\n",
       "\t<tr><td>30    </td><td>F     </td><td>33    </td><td>61    </td><td>175   </td><td>19.9  </td><td>No    </td><td>3.0625</td></tr>\n",
       "\t<tr><td>22    </td><td>M     </td><td>27    </td><td>61    </td><td>170   </td><td>21.0  </td><td>No    </td><td>2.8900</td></tr>\n",
       "\t<tr><td>17    </td><td>F     </td><td>41    </td><td>62    </td><td>172   </td><td>20.9  </td><td>Yes   </td><td>2.9584</td></tr>\n",
       "\t<tr><td>14    </td><td>M     </td><td>26    </td><td>64    </td><td>170   </td><td>22.0  </td><td>No    </td><td>2.8900</td></tr>\n",
       "</tbody>\n",
       "</table>\n"
      ],
      "text/latex": [
       "\\begin{tabular}{r|llllllll}\n",
       " Subject & Sex & Age & Weight & Height & BMI & Smokes & HeightInM.sq\\\\\n",
       "\\hline\n",
       "\t  1     & M      & 43     & 57     & 166    & 20.7   & No     & 2.7556\\\\\n",
       "\t 26     & F      & 25     & 58     & 175    & 18.9   & No     & 3.0625\\\\\n",
       "\t 30     & F      & 33     & 61     & 175    & 19.9   & No     & 3.0625\\\\\n",
       "\t 22     & M      & 27     & 61     & 170    & 21.0   & No     & 2.8900\\\\\n",
       "\t 17     & F      & 41     & 62     & 172    & 20.9   & Yes    & 2.9584\\\\\n",
       "\t 14     & M      & 26     & 64     & 170    & 22.0   & No     & 2.8900\\\\\n",
       "\\end{tabular}\n"
      ],
      "text/markdown": [
       "\n",
       "Subject | Sex | Age | Weight | Height | BMI | Smokes | HeightInM.sq | \n",
       "|---|---|---|---|---|---|\n",
       "|  1     | M      | 43     | 57     | 166    | 20.7   | No     | 2.7556 | \n",
       "| 26     | F      | 25     | 58     | 175    | 18.9   | No     | 3.0625 | \n",
       "| 30     | F      | 33     | 61     | 175    | 19.9   | No     | 3.0625 | \n",
       "| 22     | M      | 27     | 61     | 170    | 21.0   | No     | 2.8900 | \n",
       "| 17     | F      | 41     | 62     | 172    | 20.9   | Yes    | 2.9584 | \n",
       "| 14     | M      | 26     | 64     | 170    | 22.0   | No     | 2.8900 | \n",
       "\n",
       "\n"
      ],
      "text/plain": [
       "  Subject Sex Age Weight Height BMI  Smokes HeightInM.sq\n",
       "1  1      M   43  57     166    20.7 No     2.7556      \n",
       "2 26      F   25  58     175    18.9 No     3.0625      \n",
       "3 30      F   33  61     175    19.9 No     3.0625      \n",
       "4 22      M   27  61     170    21.0 No     2.8900      \n",
       "5 17      F   41  62     172    20.9 Yes    2.9584      \n",
       "6 14      M   26  64     170    22.0 No     2.8900      "
      ]
     },
     "metadata": {},
     "output_type": "display_data"
    }
   ],
   "source": [
    "demoDt[, HeightInM.sq :=  (Height^2)/10000]\n",
    "head(demoDt)"
   ]
  },
  {
   "cell_type": "markdown",
   "metadata": {},
   "source": [
    "## Creating new columns"
   ]
  },
  {
   "cell_type": "code",
   "execution_count": 56,
   "metadata": {
    "collapsed": false
   },
   "outputs": [
    {
     "data": {
      "text/html": [
       "<table>\n",
       "<thead><tr><th scope=col>Subject</th><th scope=col>Sex</th><th scope=col>Age</th><th scope=col>Weight</th><th scope=col>Height</th><th scope=col>BMI</th><th scope=col>Smokes</th><th scope=col>HeightInM.sq</th><th scope=col>sexNum</th><th scope=col>smokesNum</th></tr></thead>\n",
       "<tbody>\n",
       "\t<tr><td> 1                                                                                               </td><td>M                                                                                                </td><td>43                                                                                               </td><td>57                                                                                               </td><td>166                                                                                              </td><td>20.7                                                                                             </td><td>No                                                                                               </td><td>2.7556                                                                                           </td><td>2                                                                                                </td><td>1, 1, 1, 1, 2, 1, 1, 1, 2, 1, 2, 1, 1, 1, 1, 1, 1, 1, 1, 1, 1, 1, 1, 1, 1, 2, 1, 2, 1, 2, 1, 1, 1</td></tr>\n",
       "\t<tr><td>26                                                                                               </td><td>F                                                                                                </td><td>25                                                                                               </td><td>58                                                                                               </td><td>175                                                                                              </td><td>18.9                                                                                             </td><td>No                                                                                               </td><td>3.0625                                                                                           </td><td>1                                                                                                </td><td>1, 1, 1, 1, 2, 1, 1, 1, 2, 1, 2, 1, 1, 1, 1, 1, 1, 1, 1, 1, 1, 1, 1, 1, 1, 2, 1, 2, 1, 2, 1, 1, 1</td></tr>\n",
       "\t<tr><td>30                                                                                               </td><td>F                                                                                                </td><td>33                                                                                               </td><td>61                                                                                               </td><td>175                                                                                              </td><td>19.9                                                                                             </td><td>No                                                                                               </td><td>3.0625                                                                                           </td><td>1                                                                                                </td><td>1, 1, 1, 1, 2, 1, 1, 1, 2, 1, 2, 1, 1, 1, 1, 1, 1, 1, 1, 1, 1, 1, 1, 1, 1, 2, 1, 2, 1, 2, 1, 1, 1</td></tr>\n",
       "\t<tr><td>22                                                                                               </td><td>M                                                                                                </td><td>27                                                                                               </td><td>61                                                                                               </td><td>170                                                                                              </td><td>21.0                                                                                             </td><td>No                                                                                               </td><td>2.8900                                                                                           </td><td>2                                                                                                </td><td>1, 1, 1, 1, 2, 1, 1, 1, 2, 1, 2, 1, 1, 1, 1, 1, 1, 1, 1, 1, 1, 1, 1, 1, 1, 2, 1, 2, 1, 2, 1, 1, 1</td></tr>\n",
       "\t<tr><td>17                                                                                               </td><td>F                                                                                                </td><td>41                                                                                               </td><td>62                                                                                               </td><td>172                                                                                              </td><td>20.9                                                                                             </td><td>Yes                                                                                              </td><td>2.9584                                                                                           </td><td>1                                                                                                </td><td>1, 1, 1, 1, 2, 1, 1, 1, 2, 1, 2, 1, 1, 1, 1, 1, 1, 1, 1, 1, 1, 1, 1, 1, 1, 2, 1, 2, 1, 2, 1, 1, 1</td></tr>\n",
       "\t<tr><td>14                                                                                               </td><td>M                                                                                                </td><td>26                                                                                               </td><td>64                                                                                               </td><td>170                                                                                              </td><td>22.0                                                                                             </td><td>No                                                                                               </td><td>2.8900                                                                                           </td><td>2                                                                                                </td><td>1, 1, 1, 1, 2, 1, 1, 1, 2, 1, 2, 1, 1, 1, 1, 1, 1, 1, 1, 1, 1, 1, 1, 1, 1, 2, 1, 2, 1, 2, 1, 1, 1</td></tr>\n",
       "\t<tr><td>18                                                                                               </td><td>M                                                                                                </td><td>29                                                                                               </td><td>66                                                                                               </td><td>168                                                                                              </td><td>23.2                                                                                             </td><td>No                                                                                               </td><td>2.8224                                                                                           </td><td>2                                                                                                </td><td>1, 1, 1, 1, 2, 1, 1, 1, 2, 1, 2, 1, 1, 1, 1, 1, 1, 1, 1, 1, 1, 1, 1, 1, 1, 2, 1, 2, 1, 2, 1, 1, 1</td></tr>\n",
       "\t<tr><td> 6                                                                                               </td><td>F                                                                                                </td><td>29                                                                                               </td><td>67                                                                                               </td><td>169                                                                                              </td><td>23.5                                                                                             </td><td>No                                                                                               </td><td>2.8561                                                                                           </td><td>1                                                                                                </td><td>1, 1, 1, 1, 2, 1, 1, 1, 2, 1, 2, 1, 1, 1, 1, 1, 1, 1, 1, 1, 1, 1, 1, 1, 1, 2, 1, 2, 1, 2, 1, 1, 1</td></tr>\n",
       "\t<tr><td>19                                                                                               </td><td>M                                                                                                </td><td>25                                                                                               </td><td>67                                                                                               </td><td>171                                                                                              </td><td>23.0                                                                                             </td><td>Yes                                                                                              </td><td>2.9241                                                                                           </td><td>2                                                                                                </td><td>1, 1, 1, 1, 2, 1, 1, 1, 2, 1, 2, 1, 1, 1, 1, 1, 1, 1, 1, 1, 1, 1, 1, 1, 1, 2, 1, 2, 1, 2, 1, 1, 1</td></tr>\n",
       "\t<tr><td>28                                                                                               </td><td>F                                                                                                </td><td>28                                                                                               </td><td>69                                                                                               </td><td>172                                                                                              </td><td>23.4                                                                                             </td><td>No                                                                                               </td><td>2.9584                                                                                           </td><td>1                                                                                                </td><td>1, 1, 1, 1, 2, 1, 1, 1, 2, 1, 2, 1, 1, 1, 1, 1, 1, 1, 1, 1, 1, 1, 1, 1, 1, 2, 1, 2, 1, 2, 1, 1, 1</td></tr>\n",
       "\t<tr><td> 7                                                                                               </td><td>M                                                                                                </td><td>28                                                                                               </td><td>69                                                                                               </td><td>166                                                                                              </td><td>25.0                                                                                             </td><td>Yes                                                                                              </td><td>2.7556                                                                                           </td><td>2                                                                                                </td><td>1, 1, 1, 1, 2, 1, 1, 1, 2, 1, 2, 1, 1, 1, 1, 1, 1, 1, 1, 1, 1, 1, 1, 1, 1, 2, 1, 2, 1, 2, 1, 1, 1</td></tr>\n",
       "\t<tr><td> 2                                                                                               </td><td>M                                                                                                </td><td>22                                                                                               </td><td>71                                                                                               </td><td>179                                                                                              </td><td>22.2                                                                                             </td><td>No                                                                                               </td><td>3.2041                                                                                           </td><td>2                                                                                                </td><td>1, 1, 1, 1, 2, 1, 1, 1, 2, 1, 2, 1, 1, 1, 1, 1, 1, 1, 1, 1, 1, 1, 1, 1, 1, 2, 1, 2, 1, 2, 1, 1, 1</td></tr>\n",
       "\t<tr><td>10                                                                                               </td><td>M                                                                                                </td><td>23                                                                                               </td><td>71                                                                                               </td><td>188                                                                                              </td><td>20.1                                                                                             </td><td>No                                                                                               </td><td>3.5344                                                                                           </td><td>2                                                                                                </td><td>1, 1, 1, 1, 2, 1, 1, 1, 2, 1, 2, 1, 1, 1, 1, 1, 1, 1, 1, 1, 1, 1, 1, 1, 1, 2, 1, 2, 1, 2, 1, 1, 1</td></tr>\n",
       "\t<tr><td> 3                                                                                               </td><td>F                                                                                                </td><td>23                                                                                               </td><td>72                                                                                               </td><td>170                                                                                              </td><td>25.1                                                                                             </td><td>No                                                                                               </td><td>2.8900                                                                                           </td><td>1                                                                                                </td><td>1, 1, 1, 1, 2, 1, 1, 1, 2, 1, 2, 1, 1, 1, 1, 1, 1, 1, 1, 1, 1, 1, 1, 1, 1, 2, 1, 2, 1, 2, 1, 1, 1</td></tr>\n",
       "\t<tr><td>15                                                                                               </td><td>F                                                                                                </td><td>27                                                                                               </td><td>73                                                                                               </td><td>172                                                                                              </td><td>24.8                                                                                             </td><td>No                                                                                               </td><td>2.9584                                                                                           </td><td>1                                                                                                </td><td>1, 1, 1, 1, 2, 1, 1, 1, 2, 1, 2, 1, 1, 1, 1, 1, 1, 1, 1, 1, 1, 1, 1, 1, 1, 2, 1, 2, 1, 2, 1, 1, 1</td></tr>\n",
       "\t<tr><td> 8                                                                                               </td><td>M                                                                                                </td><td>23                                                                                               </td><td>73                                                                                               </td><td>183                                                                                              </td><td>21.9                                                                                             </td><td>No                                                                                               </td><td>3.3489                                                                                           </td><td>2                                                                                                </td><td>1, 1, 1, 1, 2, 1, 1, 1, 2, 1, 2, 1, 1, 1, 1, 1, 1, 1, 1, 1, 1, 1, 1, 1, 1, 2, 1, 2, 1, 2, 1, 1, 1</td></tr>\n",
       "\t<tr><td>16                                                                                               </td><td>M                                                                                                </td><td>29                                                                                               </td><td>73                                                                                               </td><td>169                                                                                              </td><td>25.6                                                                                             </td><td>No                                                                                               </td><td>2.8561                                                                                           </td><td>2                                                                                                </td><td>1, 1, 1, 1, 2, 1, 1, 1, 2, 1, 2, 1, 1, 1, 1, 1, 1, 1, 1, 1, 1, 1, 1, 1, 1, 2, 1, 2, 1, 2, 1, 1, 1</td></tr>\n",
       "\t<tr><td>32                                                                                               </td><td>M                                                                                                </td><td>25                                                                                               </td><td>75                                                                                               </td><td>177                                                                                              </td><td>24.1                                                                                             </td><td>No                                                                                               </td><td>3.1329                                                                                           </td><td>2                                                                                                </td><td>1, 1, 1, 1, 2, 1, 1, 1, 2, 1, 2, 1, 1, 1, 1, 1, 1, 1, 1, 1, 1, 1, 1, 1, 1, 2, 1, 2, 1, 2, 1, 1, 1</td></tr>\n",
       "\t<tr><td> 4                                                                                               </td><td>M                                                                                                </td><td>25                                                                                               </td><td>76                                                                                               </td><td>188                                                                                              </td><td>21.4                                                                                             </td><td>No                                                                                               </td><td>3.5344                                                                                           </td><td>2                                                                                                </td><td>1, 1, 1, 1, 2, 1, 1, 1, 2, 1, 2, 1, 1, 1, 1, 1, 1, 1, 1, 1, 1, 1, 1, 1, 1, 2, 1, 2, 1, 2, 1, 1, 1</td></tr>\n",
       "\t<tr><td>31                                                                                               </td><td>M                                                                                                </td><td>25                                                                                               </td><td>76                                                                                               </td><td>174                                                                                              </td><td>25.1                                                                                             </td><td>No                                                                                               </td><td>3.0276                                                                                           </td><td>2                                                                                                </td><td>1, 1, 1, 1, 2, 1, 1, 1, 2, 1, 2, 1, 1, 1, 1, 1, 1, 1, 1, 1, 1, 1, 1, 1, 1, 2, 1, 2, 1, 2, 1, 1, 1</td></tr>\n",
       "\t<tr><td>12                                                                                               </td><td>F                                                                                                </td><td>32                                                                                               </td><td>77                                                                                               </td><td>182                                                                                              </td><td>23.1                                                                                             </td><td>No                                                                                               </td><td>3.3124                                                                                           </td><td>1                                                                                                </td><td>1, 1, 1, 1, 2, 1, 1, 1, 2, 1, 2, 1, 1, 1, 1, 1, 1, 1, 1, 1, 1, 1, 1, 1, 1, 2, 1, 2, 1, 2, 1, 1, 1</td></tr>\n",
       "\t<tr><td>13                                                                                               </td><td>M                                                                                                </td><td>21                                                                                               </td><td>77                                                                                               </td><td>180                                                                                              </td><td>23.6                                                                                             </td><td>No                                                                                               </td><td>3.2400                                                                                           </td><td>2                                                                                                </td><td>1, 1, 1, 1, 2, 1, 1, 1, 2, 1, 2, 1, 1, 1, 1, 1, 1, 1, 1, 1, 1, 1, 1, 1, 1, 2, 1, 2, 1, 2, 1, 1, 1</td></tr>\n",
       "\t<tr><td>20                                                                                               </td><td>M                                                                                                </td><td>22                                                                                               </td><td>77                                                                                               </td><td>183                                                                                              </td><td>23.1                                                                                             </td><td>No                                                                                               </td><td>3.3489                                                                                           </td><td>2                                                                                                </td><td>1, 1, 1, 1, 2, 1, 1, 1, 2, 1, 2, 1, 1, 1, 1, 1, 1, 1, 1, 1, 1, 1, 1, 1, 1, 2, 1, 2, 1, 2, 1, 1, 1</td></tr>\n",
       "\t<tr><td> 9                                                                                               </td><td>M                                                                                                </td><td>40                                                                                               </td><td>79                                                                                               </td><td>187                                                                                              </td><td>22.6                                                                                             </td><td>No                                                                                               </td><td>3.4969                                                                                           </td><td>2                                                                                                </td><td>1, 1, 1, 1, 2, 1, 1, 1, 2, 1, 2, 1, 1, 1, 1, 1, 1, 1, 1, 1, 1, 1, 1, 1, 1, 2, 1, 2, 1, 2, 1, 1, 1</td></tr>\n",
       "\t<tr><td>33                                                                                               </td><td>M                                                                                                </td><td>30                                                                                               </td><td>80                                                                                               </td><td>180                                                                                              </td><td>24.8                                                                                             </td><td>No                                                                                               </td><td>3.2400                                                                                           </td><td>2                                                                                                </td><td>1, 1, 1, 1, 2, 1, 1, 1, 2, 1, 2, 1, 1, 1, 1, 1, 1, 1, 1, 1, 1, 1, 1, 1, 1, 2, 1, 2, 1, 2, 1, 1, 1</td></tr>\n",
       "\t<tr><td>24                                                                                               </td><td>M                                                                                                </td><td>21                                                                                               </td><td>80                                                                                               </td><td>180                                                                                              </td><td>24.8                                                                                             </td><td>Yes                                                                                              </td><td>3.2400                                                                                           </td><td>2                                                                                                </td><td>1, 1, 1, 1, 2, 1, 1, 1, 2, 1, 2, 1, 1, 1, 1, 1, 1, 1, 1, 1, 1, 1, 1, 1, 1, 2, 1, 2, 1, 2, 1, 1, 1</td></tr>\n",
       "\t<tr><td>11                                                                                               </td><td>M                                                                                                </td><td>38                                                                                               </td><td>81                                                                                               </td><td>174                                                                                              </td><td>26.8                                                                                             </td><td>No                                                                                               </td><td>3.0276                                                                                           </td><td>2                                                                                                </td><td>1, 1, 1, 1, 2, 1, 1, 1, 2, 1, 2, 1, 1, 1, 1, 1, 1, 1, 1, 1, 1, 1, 1, 1, 1, 2, 1, 2, 1, 2, 1, 1, 1</td></tr>\n",
       "\t<tr><td>29                                                                                               </td><td>M                                                                                                </td><td>44                                                                                               </td><td>81                                                                                               </td><td>175                                                                                              </td><td>26.4                                                                                             </td><td>Yes                                                                                              </td><td>3.0625                                                                                           </td><td>2                                                                                                </td><td>1, 1, 1, 1, 2, 1, 1, 1, 2, 1, 2, 1, 1, 1, 1, 1, 1, 1, 1, 1, 1, 1, 1, 1, 1, 2, 1, 2, 1, 2, 1, 1, 1</td></tr>\n",
       "\t<tr><td>23                                                                                               </td><td>F                                                                                                </td><td>26                                                                                               </td><td>82                                                                                               </td><td>175                                                                                              </td><td>26.8                                                                                             </td><td>No                                                                                               </td><td>3.0625                                                                                           </td><td>1                                                                                                </td><td>1, 1, 1, 1, 2, 1, 1, 1, 2, 1, 2, 1, 1, 1, 1, 1, 1, 1, 1, 1, 1, 1, 1, 1, 1, 2, 1, 2, 1, 2, 1, 1, 1</td></tr>\n",
       "\t<tr><td>27                                                                                               </td><td>F                                                                                                </td><td>36                                                                                               </td><td>82                                                                                               </td><td>190                                                                                              </td><td>22.6                                                                                             </td><td>Yes                                                                                              </td><td>3.6100                                                                                           </td><td>1                                                                                                </td><td>1, 1, 1, 1, 2, 1, 1, 1, 2, 1, 2, 1, 1, 1, 1, 1, 1, 1, 1, 1, 1, 1, 1, 1, 1, 2, 1, 2, 1, 2, 1, 1, 1</td></tr>\n",
       "\t<tr><td> 5                                                                                               </td><td>M                                                                                                </td><td>29                                                                                               </td><td>82                                                                                               </td><td>175                                                                                              </td><td>26.8                                                                                             </td><td>No                                                                                               </td><td>3.0625                                                                                           </td><td>2                                                                                                </td><td>1, 1, 1, 1, 2, 1, 1, 1, 2, 1, 2, 1, 1, 1, 1, 1, 1, 1, 1, 1, 1, 1, 1, 1, 1, 2, 1, 2, 1, 2, 1, 1, 1</td></tr>\n",
       "\t<tr><td>21                                                                                               </td><td>M                                                                                                </td><td>26                                                                                               </td><td>84                                                                                               </td><td>183                                                                                              </td><td>25.0                                                                                             </td><td>No                                                                                               </td><td>3.3489                                                                                           </td><td>2                                                                                                </td><td>1, 1, 1, 1, 2, 1, 1, 1, 2, 1, 2, 1, 1, 1, 1, 1, 1, 1, 1, 1, 1, 1, 1, 1, 1, 2, 1, 2, 1, 2, 1, 1, 1</td></tr>\n",
       "\t<tr><td>25                                                                                               </td><td>M                                                                                                </td><td>35                                                                                               </td><td>85                                                                                               </td><td>175                                                                                              </td><td>27.7                                                                                             </td><td>No                                                                                               </td><td>3.0625                                                                                           </td><td>2                                                                                                </td><td>1, 1, 1, 1, 2, 1, 1, 1, 2, 1, 2, 1, 1, 1, 1, 1, 1, 1, 1, 1, 1, 1, 1, 1, 1, 2, 1, 2, 1, 2, 1, 1, 1</td></tr>\n",
       "</tbody>\n",
       "</table>\n"
      ],
      "text/latex": [
       "\\begin{tabular}{r|llllllllll}\n",
       " Subject & Sex & Age & Weight & Height & BMI & Smokes & HeightInM.sq & sexNum & smokesNum\\\\\n",
       "\\hline\n",
       "\t  1                                                                                                & M                                                                                                 & 43                                                                                                & 57                                                                                                & 166                                                                                               & 20.7                                                                                              & No                                                                                                & 2.7556                                                                                            & 2                                                                                                 & 1, 1, 1, 1, 2, 1, 1, 1, 2, 1, 2, 1, 1, 1, 1, 1, 1, 1, 1, 1, 1, 1, 1, 1, 1, 2, 1, 2, 1, 2, 1, 1, 1\\\\\n",
       "\t 26                                                                                                & F                                                                                                 & 25                                                                                                & 58                                                                                                & 175                                                                                               & 18.9                                                                                              & No                                                                                                & 3.0625                                                                                            & 1                                                                                                 & 1, 1, 1, 1, 2, 1, 1, 1, 2, 1, 2, 1, 1, 1, 1, 1, 1, 1, 1, 1, 1, 1, 1, 1, 1, 2, 1, 2, 1, 2, 1, 1, 1\\\\\n",
       "\t 30                                                                                                & F                                                                                                 & 33                                                                                                & 61                                                                                                & 175                                                                                               & 19.9                                                                                              & No                                                                                                & 3.0625                                                                                            & 1                                                                                                 & 1, 1, 1, 1, 2, 1, 1, 1, 2, 1, 2, 1, 1, 1, 1, 1, 1, 1, 1, 1, 1, 1, 1, 1, 1, 2, 1, 2, 1, 2, 1, 1, 1\\\\\n",
       "\t 22                                                                                                & M                                                                                                 & 27                                                                                                & 61                                                                                                & 170                                                                                               & 21.0                                                                                              & No                                                                                                & 2.8900                                                                                            & 2                                                                                                 & 1, 1, 1, 1, 2, 1, 1, 1, 2, 1, 2, 1, 1, 1, 1, 1, 1, 1, 1, 1, 1, 1, 1, 1, 1, 2, 1, 2, 1, 2, 1, 1, 1\\\\\n",
       "\t 17                                                                                                & F                                                                                                 & 41                                                                                                & 62                                                                                                & 172                                                                                               & 20.9                                                                                              & Yes                                                                                               & 2.9584                                                                                            & 1                                                                                                 & 1, 1, 1, 1, 2, 1, 1, 1, 2, 1, 2, 1, 1, 1, 1, 1, 1, 1, 1, 1, 1, 1, 1, 1, 1, 2, 1, 2, 1, 2, 1, 1, 1\\\\\n",
       "\t 14                                                                                                & M                                                                                                 & 26                                                                                                & 64                                                                                                & 170                                                                                               & 22.0                                                                                              & No                                                                                                & 2.8900                                                                                            & 2                                                                                                 & 1, 1, 1, 1, 2, 1, 1, 1, 2, 1, 2, 1, 1, 1, 1, 1, 1, 1, 1, 1, 1, 1, 1, 1, 1, 2, 1, 2, 1, 2, 1, 1, 1\\\\\n",
       "\t 18                                                                                                & M                                                                                                 & 29                                                                                                & 66                                                                                                & 168                                                                                               & 23.2                                                                                              & No                                                                                                & 2.8224                                                                                            & 2                                                                                                 & 1, 1, 1, 1, 2, 1, 1, 1, 2, 1, 2, 1, 1, 1, 1, 1, 1, 1, 1, 1, 1, 1, 1, 1, 1, 2, 1, 2, 1, 2, 1, 1, 1\\\\\n",
       "\t  6                                                                                                & F                                                                                                 & 29                                                                                                & 67                                                                                                & 169                                                                                               & 23.5                                                                                              & No                                                                                                & 2.8561                                                                                            & 1                                                                                                 & 1, 1, 1, 1, 2, 1, 1, 1, 2, 1, 2, 1, 1, 1, 1, 1, 1, 1, 1, 1, 1, 1, 1, 1, 1, 2, 1, 2, 1, 2, 1, 1, 1\\\\\n",
       "\t 19                                                                                                & M                                                                                                 & 25                                                                                                & 67                                                                                                & 171                                                                                               & 23.0                                                                                              & Yes                                                                                               & 2.9241                                                                                            & 2                                                                                                 & 1, 1, 1, 1, 2, 1, 1, 1, 2, 1, 2, 1, 1, 1, 1, 1, 1, 1, 1, 1, 1, 1, 1, 1, 1, 2, 1, 2, 1, 2, 1, 1, 1\\\\\n",
       "\t 28                                                                                                & F                                                                                                 & 28                                                                                                & 69                                                                                                & 172                                                                                               & 23.4                                                                                              & No                                                                                                & 2.9584                                                                                            & 1                                                                                                 & 1, 1, 1, 1, 2, 1, 1, 1, 2, 1, 2, 1, 1, 1, 1, 1, 1, 1, 1, 1, 1, 1, 1, 1, 1, 2, 1, 2, 1, 2, 1, 1, 1\\\\\n",
       "\t  7                                                                                                & M                                                                                                 & 28                                                                                                & 69                                                                                                & 166                                                                                               & 25.0                                                                                              & Yes                                                                                               & 2.7556                                                                                            & 2                                                                                                 & 1, 1, 1, 1, 2, 1, 1, 1, 2, 1, 2, 1, 1, 1, 1, 1, 1, 1, 1, 1, 1, 1, 1, 1, 1, 2, 1, 2, 1, 2, 1, 1, 1\\\\\n",
       "\t  2                                                                                                & M                                                                                                 & 22                                                                                                & 71                                                                                                & 179                                                                                               & 22.2                                                                                              & No                                                                                                & 3.2041                                                                                            & 2                                                                                                 & 1, 1, 1, 1, 2, 1, 1, 1, 2, 1, 2, 1, 1, 1, 1, 1, 1, 1, 1, 1, 1, 1, 1, 1, 1, 2, 1, 2, 1, 2, 1, 1, 1\\\\\n",
       "\t 10                                                                                                & M                                                                                                 & 23                                                                                                & 71                                                                                                & 188                                                                                               & 20.1                                                                                              & No                                                                                                & 3.5344                                                                                            & 2                                                                                                 & 1, 1, 1, 1, 2, 1, 1, 1, 2, 1, 2, 1, 1, 1, 1, 1, 1, 1, 1, 1, 1, 1, 1, 1, 1, 2, 1, 2, 1, 2, 1, 1, 1\\\\\n",
       "\t  3                                                                                                & F                                                                                                 & 23                                                                                                & 72                                                                                                & 170                                                                                               & 25.1                                                                                              & No                                                                                                & 2.8900                                                                                            & 1                                                                                                 & 1, 1, 1, 1, 2, 1, 1, 1, 2, 1, 2, 1, 1, 1, 1, 1, 1, 1, 1, 1, 1, 1, 1, 1, 1, 2, 1, 2, 1, 2, 1, 1, 1\\\\\n",
       "\t 15                                                                                                & F                                                                                                 & 27                                                                                                & 73                                                                                                & 172                                                                                               & 24.8                                                                                              & No                                                                                                & 2.9584                                                                                            & 1                                                                                                 & 1, 1, 1, 1, 2, 1, 1, 1, 2, 1, 2, 1, 1, 1, 1, 1, 1, 1, 1, 1, 1, 1, 1, 1, 1, 2, 1, 2, 1, 2, 1, 1, 1\\\\\n",
       "\t  8                                                                                                & M                                                                                                 & 23                                                                                                & 73                                                                                                & 183                                                                                               & 21.9                                                                                              & No                                                                                                & 3.3489                                                                                            & 2                                                                                                 & 1, 1, 1, 1, 2, 1, 1, 1, 2, 1, 2, 1, 1, 1, 1, 1, 1, 1, 1, 1, 1, 1, 1, 1, 1, 2, 1, 2, 1, 2, 1, 1, 1\\\\\n",
       "\t 16                                                                                                & M                                                                                                 & 29                                                                                                & 73                                                                                                & 169                                                                                               & 25.6                                                                                              & No                                                                                                & 2.8561                                                                                            & 2                                                                                                 & 1, 1, 1, 1, 2, 1, 1, 1, 2, 1, 2, 1, 1, 1, 1, 1, 1, 1, 1, 1, 1, 1, 1, 1, 1, 2, 1, 2, 1, 2, 1, 1, 1\\\\\n",
       "\t 32                                                                                                & M                                                                                                 & 25                                                                                                & 75                                                                                                & 177                                                                                               & 24.1                                                                                              & No                                                                                                & 3.1329                                                                                            & 2                                                                                                 & 1, 1, 1, 1, 2, 1, 1, 1, 2, 1, 2, 1, 1, 1, 1, 1, 1, 1, 1, 1, 1, 1, 1, 1, 1, 2, 1, 2, 1, 2, 1, 1, 1\\\\\n",
       "\t  4                                                                                                & M                                                                                                 & 25                                                                                                & 76                                                                                                & 188                                                                                               & 21.4                                                                                              & No                                                                                                & 3.5344                                                                                            & 2                                                                                                 & 1, 1, 1, 1, 2, 1, 1, 1, 2, 1, 2, 1, 1, 1, 1, 1, 1, 1, 1, 1, 1, 1, 1, 1, 1, 2, 1, 2, 1, 2, 1, 1, 1\\\\\n",
       "\t 31                                                                                                & M                                                                                                 & 25                                                                                                & 76                                                                                                & 174                                                                                               & 25.1                                                                                              & No                                                                                                & 3.0276                                                                                            & 2                                                                                                 & 1, 1, 1, 1, 2, 1, 1, 1, 2, 1, 2, 1, 1, 1, 1, 1, 1, 1, 1, 1, 1, 1, 1, 1, 1, 2, 1, 2, 1, 2, 1, 1, 1\\\\\n",
       "\t 12                                                                                                & F                                                                                                 & 32                                                                                                & 77                                                                                                & 182                                                                                               & 23.1                                                                                              & No                                                                                                & 3.3124                                                                                            & 1                                                                                                 & 1, 1, 1, 1, 2, 1, 1, 1, 2, 1, 2, 1, 1, 1, 1, 1, 1, 1, 1, 1, 1, 1, 1, 1, 1, 2, 1, 2, 1, 2, 1, 1, 1\\\\\n",
       "\t 13                                                                                                & M                                                                                                 & 21                                                                                                & 77                                                                                                & 180                                                                                               & 23.6                                                                                              & No                                                                                                & 3.2400                                                                                            & 2                                                                                                 & 1, 1, 1, 1, 2, 1, 1, 1, 2, 1, 2, 1, 1, 1, 1, 1, 1, 1, 1, 1, 1, 1, 1, 1, 1, 2, 1, 2, 1, 2, 1, 1, 1\\\\\n",
       "\t 20                                                                                                & M                                                                                                 & 22                                                                                                & 77                                                                                                & 183                                                                                               & 23.1                                                                                              & No                                                                                                & 3.3489                                                                                            & 2                                                                                                 & 1, 1, 1, 1, 2, 1, 1, 1, 2, 1, 2, 1, 1, 1, 1, 1, 1, 1, 1, 1, 1, 1, 1, 1, 1, 2, 1, 2, 1, 2, 1, 1, 1\\\\\n",
       "\t  9                                                                                                & M                                                                                                 & 40                                                                                                & 79                                                                                                & 187                                                                                               & 22.6                                                                                              & No                                                                                                & 3.4969                                                                                            & 2                                                                                                 & 1, 1, 1, 1, 2, 1, 1, 1, 2, 1, 2, 1, 1, 1, 1, 1, 1, 1, 1, 1, 1, 1, 1, 1, 1, 2, 1, 2, 1, 2, 1, 1, 1\\\\\n",
       "\t 33                                                                                                & M                                                                                                 & 30                                                                                                & 80                                                                                                & 180                                                                                               & 24.8                                                                                              & No                                                                                                & 3.2400                                                                                            & 2                                                                                                 & 1, 1, 1, 1, 2, 1, 1, 1, 2, 1, 2, 1, 1, 1, 1, 1, 1, 1, 1, 1, 1, 1, 1, 1, 1, 2, 1, 2, 1, 2, 1, 1, 1\\\\\n",
       "\t 24                                                                                                & M                                                                                                 & 21                                                                                                & 80                                                                                                & 180                                                                                               & 24.8                                                                                              & Yes                                                                                               & 3.2400                                                                                            & 2                                                                                                 & 1, 1, 1, 1, 2, 1, 1, 1, 2, 1, 2, 1, 1, 1, 1, 1, 1, 1, 1, 1, 1, 1, 1, 1, 1, 2, 1, 2, 1, 2, 1, 1, 1\\\\\n",
       "\t 11                                                                                                & M                                                                                                 & 38                                                                                                & 81                                                                                                & 174                                                                                               & 26.8                                                                                              & No                                                                                                & 3.0276                                                                                            & 2                                                                                                 & 1, 1, 1, 1, 2, 1, 1, 1, 2, 1, 2, 1, 1, 1, 1, 1, 1, 1, 1, 1, 1, 1, 1, 1, 1, 2, 1, 2, 1, 2, 1, 1, 1\\\\\n",
       "\t 29                                                                                                & M                                                                                                 & 44                                                                                                & 81                                                                                                & 175                                                                                               & 26.4                                                                                              & Yes                                                                                               & 3.0625                                                                                            & 2                                                                                                 & 1, 1, 1, 1, 2, 1, 1, 1, 2, 1, 2, 1, 1, 1, 1, 1, 1, 1, 1, 1, 1, 1, 1, 1, 1, 2, 1, 2, 1, 2, 1, 1, 1\\\\\n",
       "\t 23                                                                                                & F                                                                                                 & 26                                                                                                & 82                                                                                                & 175                                                                                               & 26.8                                                                                              & No                                                                                                & 3.0625                                                                                            & 1                                                                                                 & 1, 1, 1, 1, 2, 1, 1, 1, 2, 1, 2, 1, 1, 1, 1, 1, 1, 1, 1, 1, 1, 1, 1, 1, 1, 2, 1, 2, 1, 2, 1, 1, 1\\\\\n",
       "\t 27                                                                                                & F                                                                                                 & 36                                                                                                & 82                                                                                                & 190                                                                                               & 22.6                                                                                              & Yes                                                                                               & 3.6100                                                                                            & 1                                                                                                 & 1, 1, 1, 1, 2, 1, 1, 1, 2, 1, 2, 1, 1, 1, 1, 1, 1, 1, 1, 1, 1, 1, 1, 1, 1, 2, 1, 2, 1, 2, 1, 1, 1\\\\\n",
       "\t  5                                                                                                & M                                                                                                 & 29                                                                                                & 82                                                                                                & 175                                                                                               & 26.8                                                                                              & No                                                                                                & 3.0625                                                                                            & 2                                                                                                 & 1, 1, 1, 1, 2, 1, 1, 1, 2, 1, 2, 1, 1, 1, 1, 1, 1, 1, 1, 1, 1, 1, 1, 1, 1, 2, 1, 2, 1, 2, 1, 1, 1\\\\\n",
       "\t 21                                                                                                & M                                                                                                 & 26                                                                                                & 84                                                                                                & 183                                                                                               & 25.0                                                                                              & No                                                                                                & 3.3489                                                                                            & 2                                                                                                 & 1, 1, 1, 1, 2, 1, 1, 1, 2, 1, 2, 1, 1, 1, 1, 1, 1, 1, 1, 1, 1, 1, 1, 1, 1, 2, 1, 2, 1, 2, 1, 1, 1\\\\\n",
       "\t 25                                                                                                & M                                                                                                 & 35                                                                                                & 85                                                                                                & 175                                                                                               & 27.7                                                                                              & No                                                                                                & 3.0625                                                                                            & 2                                                                                                 & 1, 1, 1, 1, 2, 1, 1, 1, 2, 1, 2, 1, 1, 1, 1, 1, 1, 1, 1, 1, 1, 1, 1, 1, 1, 2, 1, 2, 1, 2, 1, 1, 1\\\\\n",
       "\\end{tabular}\n"
      ],
      "text/markdown": [
       "\n",
       "Subject | Sex | Age | Weight | Height | BMI | Smokes | HeightInM.sq | sexNum | smokesNum | \n",
       "|---|---|---|---|---|---|---|---|---|---|---|---|---|---|---|---|---|---|---|---|---|---|---|---|---|---|---|---|---|---|---|---|---|\n",
       "|  1                                                                                                | M                                                                                                 | 43                                                                                                | 57                                                                                                | 166                                                                                               | 20.7                                                                                              | No                                                                                                | 2.7556                                                                                            | 2                                                                                                 | 1, 1, 1, 1, 2, 1, 1, 1, 2, 1, 2, 1, 1, 1, 1, 1, 1, 1, 1, 1, 1, 1, 1, 1, 1, 2, 1, 2, 1, 2, 1, 1, 1 | \n",
       "| 26                                                                                                | F                                                                                                 | 25                                                                                                | 58                                                                                                | 175                                                                                               | 18.9                                                                                              | No                                                                                                | 3.0625                                                                                            | 1                                                                                                 | 1, 1, 1, 1, 2, 1, 1, 1, 2, 1, 2, 1, 1, 1, 1, 1, 1, 1, 1, 1, 1, 1, 1, 1, 1, 2, 1, 2, 1, 2, 1, 1, 1 | \n",
       "| 30                                                                                                | F                                                                                                 | 33                                                                                                | 61                                                                                                | 175                                                                                               | 19.9                                                                                              | No                                                                                                | 3.0625                                                                                            | 1                                                                                                 | 1, 1, 1, 1, 2, 1, 1, 1, 2, 1, 2, 1, 1, 1, 1, 1, 1, 1, 1, 1, 1, 1, 1, 1, 1, 2, 1, 2, 1, 2, 1, 1, 1 | \n",
       "| 22                                                                                                | M                                                                                                 | 27                                                                                                | 61                                                                                                | 170                                                                                               | 21.0                                                                                              | No                                                                                                | 2.8900                                                                                            | 2                                                                                                 | 1, 1, 1, 1, 2, 1, 1, 1, 2, 1, 2, 1, 1, 1, 1, 1, 1, 1, 1, 1, 1, 1, 1, 1, 1, 2, 1, 2, 1, 2, 1, 1, 1 | \n",
       "| 17                                                                                                | F                                                                                                 | 41                                                                                                | 62                                                                                                | 172                                                                                               | 20.9                                                                                              | Yes                                                                                               | 2.9584                                                                                            | 1                                                                                                 | 1, 1, 1, 1, 2, 1, 1, 1, 2, 1, 2, 1, 1, 1, 1, 1, 1, 1, 1, 1, 1, 1, 1, 1, 1, 2, 1, 2, 1, 2, 1, 1, 1 | \n",
       "| 14                                                                                                | M                                                                                                 | 26                                                                                                | 64                                                                                                | 170                                                                                               | 22.0                                                                                              | No                                                                                                | 2.8900                                                                                            | 2                                                                                                 | 1, 1, 1, 1, 2, 1, 1, 1, 2, 1, 2, 1, 1, 1, 1, 1, 1, 1, 1, 1, 1, 1, 1, 1, 1, 2, 1, 2, 1, 2, 1, 1, 1 | \n",
       "| 18                                                                                                | M                                                                                                 | 29                                                                                                | 66                                                                                                | 168                                                                                               | 23.2                                                                                              | No                                                                                                | 2.8224                                                                                            | 2                                                                                                 | 1, 1, 1, 1, 2, 1, 1, 1, 2, 1, 2, 1, 1, 1, 1, 1, 1, 1, 1, 1, 1, 1, 1, 1, 1, 2, 1, 2, 1, 2, 1, 1, 1 | \n",
       "|  6                                                                                                | F                                                                                                 | 29                                                                                                | 67                                                                                                | 169                                                                                               | 23.5                                                                                              | No                                                                                                | 2.8561                                                                                            | 1                                                                                                 | 1, 1, 1, 1, 2, 1, 1, 1, 2, 1, 2, 1, 1, 1, 1, 1, 1, 1, 1, 1, 1, 1, 1, 1, 1, 2, 1, 2, 1, 2, 1, 1, 1 | \n",
       "| 19                                                                                                | M                                                                                                 | 25                                                                                                | 67                                                                                                | 171                                                                                               | 23.0                                                                                              | Yes                                                                                               | 2.9241                                                                                            | 2                                                                                                 | 1, 1, 1, 1, 2, 1, 1, 1, 2, 1, 2, 1, 1, 1, 1, 1, 1, 1, 1, 1, 1, 1, 1, 1, 1, 2, 1, 2, 1, 2, 1, 1, 1 | \n",
       "| 28                                                                                                | F                                                                                                 | 28                                                                                                | 69                                                                                                | 172                                                                                               | 23.4                                                                                              | No                                                                                                | 2.9584                                                                                            | 1                                                                                                 | 1, 1, 1, 1, 2, 1, 1, 1, 2, 1, 2, 1, 1, 1, 1, 1, 1, 1, 1, 1, 1, 1, 1, 1, 1, 2, 1, 2, 1, 2, 1, 1, 1 | \n",
       "|  7                                                                                                | M                                                                                                 | 28                                                                                                | 69                                                                                                | 166                                                                                               | 25.0                                                                                              | Yes                                                                                               | 2.7556                                                                                            | 2                                                                                                 | 1, 1, 1, 1, 2, 1, 1, 1, 2, 1, 2, 1, 1, 1, 1, 1, 1, 1, 1, 1, 1, 1, 1, 1, 1, 2, 1, 2, 1, 2, 1, 1, 1 | \n",
       "|  2                                                                                                | M                                                                                                 | 22                                                                                                | 71                                                                                                | 179                                                                                               | 22.2                                                                                              | No                                                                                                | 3.2041                                                                                            | 2                                                                                                 | 1, 1, 1, 1, 2, 1, 1, 1, 2, 1, 2, 1, 1, 1, 1, 1, 1, 1, 1, 1, 1, 1, 1, 1, 1, 2, 1, 2, 1, 2, 1, 1, 1 | \n",
       "| 10                                                                                                | M                                                                                                 | 23                                                                                                | 71                                                                                                | 188                                                                                               | 20.1                                                                                              | No                                                                                                | 3.5344                                                                                            | 2                                                                                                 | 1, 1, 1, 1, 2, 1, 1, 1, 2, 1, 2, 1, 1, 1, 1, 1, 1, 1, 1, 1, 1, 1, 1, 1, 1, 2, 1, 2, 1, 2, 1, 1, 1 | \n",
       "|  3                                                                                                | F                                                                                                 | 23                                                                                                | 72                                                                                                | 170                                                                                               | 25.1                                                                                              | No                                                                                                | 2.8900                                                                                            | 1                                                                                                 | 1, 1, 1, 1, 2, 1, 1, 1, 2, 1, 2, 1, 1, 1, 1, 1, 1, 1, 1, 1, 1, 1, 1, 1, 1, 2, 1, 2, 1, 2, 1, 1, 1 | \n",
       "| 15                                                                                                | F                                                                                                 | 27                                                                                                | 73                                                                                                | 172                                                                                               | 24.8                                                                                              | No                                                                                                | 2.9584                                                                                            | 1                                                                                                 | 1, 1, 1, 1, 2, 1, 1, 1, 2, 1, 2, 1, 1, 1, 1, 1, 1, 1, 1, 1, 1, 1, 1, 1, 1, 2, 1, 2, 1, 2, 1, 1, 1 | \n",
       "|  8                                                                                                | M                                                                                                 | 23                                                                                                | 73                                                                                                | 183                                                                                               | 21.9                                                                                              | No                                                                                                | 3.3489                                                                                            | 2                                                                                                 | 1, 1, 1, 1, 2, 1, 1, 1, 2, 1, 2, 1, 1, 1, 1, 1, 1, 1, 1, 1, 1, 1, 1, 1, 1, 2, 1, 2, 1, 2, 1, 1, 1 | \n",
       "| 16                                                                                                | M                                                                                                 | 29                                                                                                | 73                                                                                                | 169                                                                                               | 25.6                                                                                              | No                                                                                                | 2.8561                                                                                            | 2                                                                                                 | 1, 1, 1, 1, 2, 1, 1, 1, 2, 1, 2, 1, 1, 1, 1, 1, 1, 1, 1, 1, 1, 1, 1, 1, 1, 2, 1, 2, 1, 2, 1, 1, 1 | \n",
       "| 32                                                                                                | M                                                                                                 | 25                                                                                                | 75                                                                                                | 177                                                                                               | 24.1                                                                                              | No                                                                                                | 3.1329                                                                                            | 2                                                                                                 | 1, 1, 1, 1, 2, 1, 1, 1, 2, 1, 2, 1, 1, 1, 1, 1, 1, 1, 1, 1, 1, 1, 1, 1, 1, 2, 1, 2, 1, 2, 1, 1, 1 | \n",
       "|  4                                                                                                | M                                                                                                 | 25                                                                                                | 76                                                                                                | 188                                                                                               | 21.4                                                                                              | No                                                                                                | 3.5344                                                                                            | 2                                                                                                 | 1, 1, 1, 1, 2, 1, 1, 1, 2, 1, 2, 1, 1, 1, 1, 1, 1, 1, 1, 1, 1, 1, 1, 1, 1, 2, 1, 2, 1, 2, 1, 1, 1 | \n",
       "| 31                                                                                                | M                                                                                                 | 25                                                                                                | 76                                                                                                | 174                                                                                               | 25.1                                                                                              | No                                                                                                | 3.0276                                                                                            | 2                                                                                                 | 1, 1, 1, 1, 2, 1, 1, 1, 2, 1, 2, 1, 1, 1, 1, 1, 1, 1, 1, 1, 1, 1, 1, 1, 1, 2, 1, 2, 1, 2, 1, 1, 1 | \n",
       "| 12                                                                                                | F                                                                                                 | 32                                                                                                | 77                                                                                                | 182                                                                                               | 23.1                                                                                              | No                                                                                                | 3.3124                                                                                            | 1                                                                                                 | 1, 1, 1, 1, 2, 1, 1, 1, 2, 1, 2, 1, 1, 1, 1, 1, 1, 1, 1, 1, 1, 1, 1, 1, 1, 2, 1, 2, 1, 2, 1, 1, 1 | \n",
       "| 13                                                                                                | M                                                                                                 | 21                                                                                                | 77                                                                                                | 180                                                                                               | 23.6                                                                                              | No                                                                                                | 3.2400                                                                                            | 2                                                                                                 | 1, 1, 1, 1, 2, 1, 1, 1, 2, 1, 2, 1, 1, 1, 1, 1, 1, 1, 1, 1, 1, 1, 1, 1, 1, 2, 1, 2, 1, 2, 1, 1, 1 | \n",
       "| 20                                                                                                | M                                                                                                 | 22                                                                                                | 77                                                                                                | 183                                                                                               | 23.1                                                                                              | No                                                                                                | 3.3489                                                                                            | 2                                                                                                 | 1, 1, 1, 1, 2, 1, 1, 1, 2, 1, 2, 1, 1, 1, 1, 1, 1, 1, 1, 1, 1, 1, 1, 1, 1, 2, 1, 2, 1, 2, 1, 1, 1 | \n",
       "|  9                                                                                                | M                                                                                                 | 40                                                                                                | 79                                                                                                | 187                                                                                               | 22.6                                                                                              | No                                                                                                | 3.4969                                                                                            | 2                                                                                                 | 1, 1, 1, 1, 2, 1, 1, 1, 2, 1, 2, 1, 1, 1, 1, 1, 1, 1, 1, 1, 1, 1, 1, 1, 1, 2, 1, 2, 1, 2, 1, 1, 1 | \n",
       "| 33                                                                                                | M                                                                                                 | 30                                                                                                | 80                                                                                                | 180                                                                                               | 24.8                                                                                              | No                                                                                                | 3.2400                                                                                            | 2                                                                                                 | 1, 1, 1, 1, 2, 1, 1, 1, 2, 1, 2, 1, 1, 1, 1, 1, 1, 1, 1, 1, 1, 1, 1, 1, 1, 2, 1, 2, 1, 2, 1, 1, 1 | \n",
       "| 24                                                                                                | M                                                                                                 | 21                                                                                                | 80                                                                                                | 180                                                                                               | 24.8                                                                                              | Yes                                                                                               | 3.2400                                                                                            | 2                                                                                                 | 1, 1, 1, 1, 2, 1, 1, 1, 2, 1, 2, 1, 1, 1, 1, 1, 1, 1, 1, 1, 1, 1, 1, 1, 1, 2, 1, 2, 1, 2, 1, 1, 1 | \n",
       "| 11                                                                                                | M                                                                                                 | 38                                                                                                | 81                                                                                                | 174                                                                                               | 26.8                                                                                              | No                                                                                                | 3.0276                                                                                            | 2                                                                                                 | 1, 1, 1, 1, 2, 1, 1, 1, 2, 1, 2, 1, 1, 1, 1, 1, 1, 1, 1, 1, 1, 1, 1, 1, 1, 2, 1, 2, 1, 2, 1, 1, 1 | \n",
       "| 29                                                                                                | M                                                                                                 | 44                                                                                                | 81                                                                                                | 175                                                                                               | 26.4                                                                                              | Yes                                                                                               | 3.0625                                                                                            | 2                                                                                                 | 1, 1, 1, 1, 2, 1, 1, 1, 2, 1, 2, 1, 1, 1, 1, 1, 1, 1, 1, 1, 1, 1, 1, 1, 1, 2, 1, 2, 1, 2, 1, 1, 1 | \n",
       "| 23                                                                                                | F                                                                                                 | 26                                                                                                | 82                                                                                                | 175                                                                                               | 26.8                                                                                              | No                                                                                                | 3.0625                                                                                            | 1                                                                                                 | 1, 1, 1, 1, 2, 1, 1, 1, 2, 1, 2, 1, 1, 1, 1, 1, 1, 1, 1, 1, 1, 1, 1, 1, 1, 2, 1, 2, 1, 2, 1, 1, 1 | \n",
       "| 27                                                                                                | F                                                                                                 | 36                                                                                                | 82                                                                                                | 190                                                                                               | 22.6                                                                                              | Yes                                                                                               | 3.6100                                                                                            | 1                                                                                                 | 1, 1, 1, 1, 2, 1, 1, 1, 2, 1, 2, 1, 1, 1, 1, 1, 1, 1, 1, 1, 1, 1, 1, 1, 1, 2, 1, 2, 1, 2, 1, 1, 1 | \n",
       "|  5                                                                                                | M                                                                                                 | 29                                                                                                | 82                                                                                                | 175                                                                                               | 26.8                                                                                              | No                                                                                                | 3.0625                                                                                            | 2                                                                                                 | 1, 1, 1, 1, 2, 1, 1, 1, 2, 1, 2, 1, 1, 1, 1, 1, 1, 1, 1, 1, 1, 1, 1, 1, 1, 2, 1, 2, 1, 2, 1, 1, 1 | \n",
       "| 21                                                                                                | M                                                                                                 | 26                                                                                                | 84                                                                                                | 183                                                                                               | 25.0                                                                                              | No                                                                                                | 3.3489                                                                                            | 2                                                                                                 | 1, 1, 1, 1, 2, 1, 1, 1, 2, 1, 2, 1, 1, 1, 1, 1, 1, 1, 1, 1, 1, 1, 1, 1, 1, 2, 1, 2, 1, 2, 1, 1, 1 | \n",
       "| 25                                                                                                | M                                                                                                 | 35                                                                                                | 85                                                                                                | 175                                                                                               | 27.7                                                                                              | No                                                                                                | 3.0625                                                                                            | 2                                                                                                 | 1, 1, 1, 1, 2, 1, 1, 1, 2, 1, 2, 1, 1, 1, 1, 1, 1, 1, 1, 1, 1, 1, 1, 1, 1, 2, 1, 2, 1, 2, 1, 1, 1 | \n",
       "\n",
       "\n"
      ],
      "text/plain": [
       "   Subject Sex Age Weight Height BMI  Smokes HeightInM.sq sexNum\n",
       "1   1      M   43  57     166    20.7 No     2.7556       2     \n",
       "2  26      F   25  58     175    18.9 No     3.0625       1     \n",
       "3  30      F   33  61     175    19.9 No     3.0625       1     \n",
       "4  22      M   27  61     170    21.0 No     2.8900       2     \n",
       "5  17      F   41  62     172    20.9 Yes    2.9584       1     \n",
       "6  14      M   26  64     170    22.0 No     2.8900       2     \n",
       "7  18      M   29  66     168    23.2 No     2.8224       2     \n",
       "8   6      F   29  67     169    23.5 No     2.8561       1     \n",
       "9  19      M   25  67     171    23.0 Yes    2.9241       2     \n",
       "10 28      F   28  69     172    23.4 No     2.9584       1     \n",
       "11  7      M   28  69     166    25.0 Yes    2.7556       2     \n",
       "12  2      M   22  71     179    22.2 No     3.2041       2     \n",
       "13 10      M   23  71     188    20.1 No     3.5344       2     \n",
       "14  3      F   23  72     170    25.1 No     2.8900       1     \n",
       "15 15      F   27  73     172    24.8 No     2.9584       1     \n",
       "16  8      M   23  73     183    21.9 No     3.3489       2     \n",
       "17 16      M   29  73     169    25.6 No     2.8561       2     \n",
       "18 32      M   25  75     177    24.1 No     3.1329       2     \n",
       "19  4      M   25  76     188    21.4 No     3.5344       2     \n",
       "20 31      M   25  76     174    25.1 No     3.0276       2     \n",
       "21 12      F   32  77     182    23.1 No     3.3124       1     \n",
       "22 13      M   21  77     180    23.6 No     3.2400       2     \n",
       "23 20      M   22  77     183    23.1 No     3.3489       2     \n",
       "24  9      M   40  79     187    22.6 No     3.4969       2     \n",
       "25 33      M   30  80     180    24.8 No     3.2400       2     \n",
       "26 24      M   21  80     180    24.8 Yes    3.2400       2     \n",
       "27 11      M   38  81     174    26.8 No     3.0276       2     \n",
       "28 29      M   44  81     175    26.4 Yes    3.0625       2     \n",
       "29 23      F   26  82     175    26.8 No     3.0625       1     \n",
       "30 27      F   36  82     190    22.6 Yes    3.6100       1     \n",
       "31  5      M   29  82     175    26.8 No     3.0625       2     \n",
       "32 21      M   26  84     183    25.0 No     3.3489       2     \n",
       "33 25      M   35  85     175    27.7 No     3.0625       2     \n",
       "   smokesNum                                                                                        \n",
       "1  1, 1, 1, 1, 2, 1, 1, 1, 2, 1, 2, 1, 1, 1, 1, 1, 1, 1, 1, 1, 1, 1, 1, 1, 1, 2, 1, 2, 1, 2, 1, 1, 1\n",
       "2  1, 1, 1, 1, 2, 1, 1, 1, 2, 1, 2, 1, 1, 1, 1, 1, 1, 1, 1, 1, 1, 1, 1, 1, 1, 2, 1, 2, 1, 2, 1, 1, 1\n",
       "3  1, 1, 1, 1, 2, 1, 1, 1, 2, 1, 2, 1, 1, 1, 1, 1, 1, 1, 1, 1, 1, 1, 1, 1, 1, 2, 1, 2, 1, 2, 1, 1, 1\n",
       "4  1, 1, 1, 1, 2, 1, 1, 1, 2, 1, 2, 1, 1, 1, 1, 1, 1, 1, 1, 1, 1, 1, 1, 1, 1, 2, 1, 2, 1, 2, 1, 1, 1\n",
       "5  1, 1, 1, 1, 2, 1, 1, 1, 2, 1, 2, 1, 1, 1, 1, 1, 1, 1, 1, 1, 1, 1, 1, 1, 1, 2, 1, 2, 1, 2, 1, 1, 1\n",
       "6  1, 1, 1, 1, 2, 1, 1, 1, 2, 1, 2, 1, 1, 1, 1, 1, 1, 1, 1, 1, 1, 1, 1, 1, 1, 2, 1, 2, 1, 2, 1, 1, 1\n",
       "7  1, 1, 1, 1, 2, 1, 1, 1, 2, 1, 2, 1, 1, 1, 1, 1, 1, 1, 1, 1, 1, 1, 1, 1, 1, 2, 1, 2, 1, 2, 1, 1, 1\n",
       "8  1, 1, 1, 1, 2, 1, 1, 1, 2, 1, 2, 1, 1, 1, 1, 1, 1, 1, 1, 1, 1, 1, 1, 1, 1, 2, 1, 2, 1, 2, 1, 1, 1\n",
       "9  1, 1, 1, 1, 2, 1, 1, 1, 2, 1, 2, 1, 1, 1, 1, 1, 1, 1, 1, 1, 1, 1, 1, 1, 1, 2, 1, 2, 1, 2, 1, 1, 1\n",
       "10 1, 1, 1, 1, 2, 1, 1, 1, 2, 1, 2, 1, 1, 1, 1, 1, 1, 1, 1, 1, 1, 1, 1, 1, 1, 2, 1, 2, 1, 2, 1, 1, 1\n",
       "11 1, 1, 1, 1, 2, 1, 1, 1, 2, 1, 2, 1, 1, 1, 1, 1, 1, 1, 1, 1, 1, 1, 1, 1, 1, 2, 1, 2, 1, 2, 1, 1, 1\n",
       "12 1, 1, 1, 1, 2, 1, 1, 1, 2, 1, 2, 1, 1, 1, 1, 1, 1, 1, 1, 1, 1, 1, 1, 1, 1, 2, 1, 2, 1, 2, 1, 1, 1\n",
       "13 1, 1, 1, 1, 2, 1, 1, 1, 2, 1, 2, 1, 1, 1, 1, 1, 1, 1, 1, 1, 1, 1, 1, 1, 1, 2, 1, 2, 1, 2, 1, 1, 1\n",
       "14 1, 1, 1, 1, 2, 1, 1, 1, 2, 1, 2, 1, 1, 1, 1, 1, 1, 1, 1, 1, 1, 1, 1, 1, 1, 2, 1, 2, 1, 2, 1, 1, 1\n",
       "15 1, 1, 1, 1, 2, 1, 1, 1, 2, 1, 2, 1, 1, 1, 1, 1, 1, 1, 1, 1, 1, 1, 1, 1, 1, 2, 1, 2, 1, 2, 1, 1, 1\n",
       "16 1, 1, 1, 1, 2, 1, 1, 1, 2, 1, 2, 1, 1, 1, 1, 1, 1, 1, 1, 1, 1, 1, 1, 1, 1, 2, 1, 2, 1, 2, 1, 1, 1\n",
       "17 1, 1, 1, 1, 2, 1, 1, 1, 2, 1, 2, 1, 1, 1, 1, 1, 1, 1, 1, 1, 1, 1, 1, 1, 1, 2, 1, 2, 1, 2, 1, 1, 1\n",
       "18 1, 1, 1, 1, 2, 1, 1, 1, 2, 1, 2, 1, 1, 1, 1, 1, 1, 1, 1, 1, 1, 1, 1, 1, 1, 2, 1, 2, 1, 2, 1, 1, 1\n",
       "19 1, 1, 1, 1, 2, 1, 1, 1, 2, 1, 2, 1, 1, 1, 1, 1, 1, 1, 1, 1, 1, 1, 1, 1, 1, 2, 1, 2, 1, 2, 1, 1, 1\n",
       "20 1, 1, 1, 1, 2, 1, 1, 1, 2, 1, 2, 1, 1, 1, 1, 1, 1, 1, 1, 1, 1, 1, 1, 1, 1, 2, 1, 2, 1, 2, 1, 1, 1\n",
       "21 1, 1, 1, 1, 2, 1, 1, 1, 2, 1, 2, 1, 1, 1, 1, 1, 1, 1, 1, 1, 1, 1, 1, 1, 1, 2, 1, 2, 1, 2, 1, 1, 1\n",
       "22 1, 1, 1, 1, 2, 1, 1, 1, 2, 1, 2, 1, 1, 1, 1, 1, 1, 1, 1, 1, 1, 1, 1, 1, 1, 2, 1, 2, 1, 2, 1, 1, 1\n",
       "23 1, 1, 1, 1, 2, 1, 1, 1, 2, 1, 2, 1, 1, 1, 1, 1, 1, 1, 1, 1, 1, 1, 1, 1, 1, 2, 1, 2, 1, 2, 1, 1, 1\n",
       "24 1, 1, 1, 1, 2, 1, 1, 1, 2, 1, 2, 1, 1, 1, 1, 1, 1, 1, 1, 1, 1, 1, 1, 1, 1, 2, 1, 2, 1, 2, 1, 1, 1\n",
       "25 1, 1, 1, 1, 2, 1, 1, 1, 2, 1, 2, 1, 1, 1, 1, 1, 1, 1, 1, 1, 1, 1, 1, 1, 1, 2, 1, 2, 1, 2, 1, 1, 1\n",
       "26 1, 1, 1, 1, 2, 1, 1, 1, 2, 1, 2, 1, 1, 1, 1, 1, 1, 1, 1, 1, 1, 1, 1, 1, 1, 2, 1, 2, 1, 2, 1, 1, 1\n",
       "27 1, 1, 1, 1, 2, 1, 1, 1, 2, 1, 2, 1, 1, 1, 1, 1, 1, 1, 1, 1, 1, 1, 1, 1, 1, 2, 1, 2, 1, 2, 1, 1, 1\n",
       "28 1, 1, 1, 1, 2, 1, 1, 1, 2, 1, 2, 1, 1, 1, 1, 1, 1, 1, 1, 1, 1, 1, 1, 1, 1, 2, 1, 2, 1, 2, 1, 1, 1\n",
       "29 1, 1, 1, 1, 2, 1, 1, 1, 2, 1, 2, 1, 1, 1, 1, 1, 1, 1, 1, 1, 1, 1, 1, 1, 1, 2, 1, 2, 1, 2, 1, 1, 1\n",
       "30 1, 1, 1, 1, 2, 1, 1, 1, 2, 1, 2, 1, 1, 1, 1, 1, 1, 1, 1, 1, 1, 1, 1, 1, 1, 2, 1, 2, 1, 2, 1, 1, 1\n",
       "31 1, 1, 1, 1, 2, 1, 1, 1, 2, 1, 2, 1, 1, 1, 1, 1, 1, 1, 1, 1, 1, 1, 1, 1, 1, 2, 1, 2, 1, 2, 1, 1, 1\n",
       "32 1, 1, 1, 1, 2, 1, 1, 1, 2, 1, 2, 1, 1, 1, 1, 1, 1, 1, 1, 1, 1, 1, 1, 1, 1, 2, 1, 2, 1, 2, 1, 1, 1\n",
       "33 1, 1, 1, 1, 2, 1, 1, 1, 2, 1, 2, 1, 1, 1, 1, 1, 1, 1, 1, 1, 1, 1, 1, 1, 1, 2, 1, 2, 1, 2, 1, 1, 1"
      ]
     },
     "metadata": {},
     "output_type": "display_data"
    },
    {
     "data": {
      "text/html": [
       "<table>\n",
       "<thead><tr><th scope=col>Subject</th><th scope=col>Sex</th><th scope=col>Age</th><th scope=col>Weight</th><th scope=col>Height</th><th scope=col>BMI</th><th scope=col>Smokes</th><th scope=col>HeightInM.sq</th><th scope=col>sexNum</th><th scope=col>smokesNum</th></tr></thead>\n",
       "<tbody>\n",
       "\t<tr><td> 1                                                                                               </td><td>M                                                                                                </td><td>43                                                                                               </td><td>57                                                                                               </td><td>166                                                                                              </td><td>20.7                                                                                             </td><td>No                                                                                               </td><td>2.7556                                                                                           </td><td>2                                                                                                </td><td>1, 1, 1, 1, 2, 1, 1, 1, 2, 1, 2, 1, 1, 1, 1, 1, 1, 1, 1, 1, 1, 1, 1, 1, 1, 2, 1, 2, 1, 2, 1, 1, 1</td></tr>\n",
       "\t<tr><td>26                                                                                               </td><td>F                                                                                                </td><td>25                                                                                               </td><td>58                                                                                               </td><td>175                                                                                              </td><td>18.9                                                                                             </td><td>No                                                                                               </td><td>3.0625                                                                                           </td><td>1                                                                                                </td><td>1, 1, 1, 1, 2, 1, 1, 1, 2, 1, 2, 1, 1, 1, 1, 1, 1, 1, 1, 1, 1, 1, 1, 1, 1, 2, 1, 2, 1, 2, 1, 1, 1</td></tr>\n",
       "\t<tr><td>30                                                                                               </td><td>F                                                                                                </td><td>33                                                                                               </td><td>61                                                                                               </td><td>175                                                                                              </td><td>19.9                                                                                             </td><td>No                                                                                               </td><td>3.0625                                                                                           </td><td>1                                                                                                </td><td>1, 1, 1, 1, 2, 1, 1, 1, 2, 1, 2, 1, 1, 1, 1, 1, 1, 1, 1, 1, 1, 1, 1, 1, 1, 2, 1, 2, 1, 2, 1, 1, 1</td></tr>\n",
       "\t<tr><td>22                                                                                               </td><td>M                                                                                                </td><td>27                                                                                               </td><td>61                                                                                               </td><td>170                                                                                              </td><td>21.0                                                                                             </td><td>No                                                                                               </td><td>2.8900                                                                                           </td><td>2                                                                                                </td><td>1, 1, 1, 1, 2, 1, 1, 1, 2, 1, 2, 1, 1, 1, 1, 1, 1, 1, 1, 1, 1, 1, 1, 1, 1, 2, 1, 2, 1, 2, 1, 1, 1</td></tr>\n",
       "\t<tr><td>17                                                                                               </td><td>F                                                                                                </td><td>41                                                                                               </td><td>62                                                                                               </td><td>172                                                                                              </td><td>20.9                                                                                             </td><td>Yes                                                                                              </td><td>2.9584                                                                                           </td><td>1                                                                                                </td><td>1, 1, 1, 1, 2, 1, 1, 1, 2, 1, 2, 1, 1, 1, 1, 1, 1, 1, 1, 1, 1, 1, 1, 1, 1, 2, 1, 2, 1, 2, 1, 1, 1</td></tr>\n",
       "\t<tr><td>14                                                                                               </td><td>M                                                                                                </td><td>26                                                                                               </td><td>64                                                                                               </td><td>170                                                                                              </td><td>22.0                                                                                             </td><td>No                                                                                               </td><td>2.8900                                                                                           </td><td>2                                                                                                </td><td>1, 1, 1, 1, 2, 1, 1, 1, 2, 1, 2, 1, 1, 1, 1, 1, 1, 1, 1, 1, 1, 1, 1, 1, 1, 2, 1, 2, 1, 2, 1, 1, 1</td></tr>\n",
       "</tbody>\n",
       "</table>\n"
      ],
      "text/latex": [
       "\\begin{tabular}{r|llllllllll}\n",
       " Subject & Sex & Age & Weight & Height & BMI & Smokes & HeightInM.sq & sexNum & smokesNum\\\\\n",
       "\\hline\n",
       "\t  1                                                                                                & M                                                                                                 & 43                                                                                                & 57                                                                                                & 166                                                                                               & 20.7                                                                                              & No                                                                                                & 2.7556                                                                                            & 2                                                                                                 & 1, 1, 1, 1, 2, 1, 1, 1, 2, 1, 2, 1, 1, 1, 1, 1, 1, 1, 1, 1, 1, 1, 1, 1, 1, 2, 1, 2, 1, 2, 1, 1, 1\\\\\n",
       "\t 26                                                                                                & F                                                                                                 & 25                                                                                                & 58                                                                                                & 175                                                                                               & 18.9                                                                                              & No                                                                                                & 3.0625                                                                                            & 1                                                                                                 & 1, 1, 1, 1, 2, 1, 1, 1, 2, 1, 2, 1, 1, 1, 1, 1, 1, 1, 1, 1, 1, 1, 1, 1, 1, 2, 1, 2, 1, 2, 1, 1, 1\\\\\n",
       "\t 30                                                                                                & F                                                                                                 & 33                                                                                                & 61                                                                                                & 175                                                                                               & 19.9                                                                                              & No                                                                                                & 3.0625                                                                                            & 1                                                                                                 & 1, 1, 1, 1, 2, 1, 1, 1, 2, 1, 2, 1, 1, 1, 1, 1, 1, 1, 1, 1, 1, 1, 1, 1, 1, 2, 1, 2, 1, 2, 1, 1, 1\\\\\n",
       "\t 22                                                                                                & M                                                                                                 & 27                                                                                                & 61                                                                                                & 170                                                                                               & 21.0                                                                                              & No                                                                                                & 2.8900                                                                                            & 2                                                                                                 & 1, 1, 1, 1, 2, 1, 1, 1, 2, 1, 2, 1, 1, 1, 1, 1, 1, 1, 1, 1, 1, 1, 1, 1, 1, 2, 1, 2, 1, 2, 1, 1, 1\\\\\n",
       "\t 17                                                                                                & F                                                                                                 & 41                                                                                                & 62                                                                                                & 172                                                                                               & 20.9                                                                                              & Yes                                                                                               & 2.9584                                                                                            & 1                                                                                                 & 1, 1, 1, 1, 2, 1, 1, 1, 2, 1, 2, 1, 1, 1, 1, 1, 1, 1, 1, 1, 1, 1, 1, 1, 1, 2, 1, 2, 1, 2, 1, 1, 1\\\\\n",
       "\t 14                                                                                                & M                                                                                                 & 26                                                                                                & 64                                                                                                & 170                                                                                               & 22.0                                                                                              & No                                                                                                & 2.8900                                                                                            & 2                                                                                                 & 1, 1, 1, 1, 2, 1, 1, 1, 2, 1, 2, 1, 1, 1, 1, 1, 1, 1, 1, 1, 1, 1, 1, 1, 1, 2, 1, 2, 1, 2, 1, 1, 1\\\\\n",
       "\\end{tabular}\n"
      ],
      "text/markdown": [
       "\n",
       "Subject | Sex | Age | Weight | Height | BMI | Smokes | HeightInM.sq | sexNum | smokesNum | \n",
       "|---|---|---|---|---|---|\n",
       "|  1                                                                                                | M                                                                                                 | 43                                                                                                | 57                                                                                                | 166                                                                                               | 20.7                                                                                              | No                                                                                                | 2.7556                                                                                            | 2                                                                                                 | 1, 1, 1, 1, 2, 1, 1, 1, 2, 1, 2, 1, 1, 1, 1, 1, 1, 1, 1, 1, 1, 1, 1, 1, 1, 2, 1, 2, 1, 2, 1, 1, 1 | \n",
       "| 26                                                                                                | F                                                                                                 | 25                                                                                                | 58                                                                                                | 175                                                                                               | 18.9                                                                                              | No                                                                                                | 3.0625                                                                                            | 1                                                                                                 | 1, 1, 1, 1, 2, 1, 1, 1, 2, 1, 2, 1, 1, 1, 1, 1, 1, 1, 1, 1, 1, 1, 1, 1, 1, 2, 1, 2, 1, 2, 1, 1, 1 | \n",
       "| 30                                                                                                | F                                                                                                 | 33                                                                                                | 61                                                                                                | 175                                                                                               | 19.9                                                                                              | No                                                                                                | 3.0625                                                                                            | 1                                                                                                 | 1, 1, 1, 1, 2, 1, 1, 1, 2, 1, 2, 1, 1, 1, 1, 1, 1, 1, 1, 1, 1, 1, 1, 1, 1, 2, 1, 2, 1, 2, 1, 1, 1 | \n",
       "| 22                                                                                                | M                                                                                                 | 27                                                                                                | 61                                                                                                | 170                                                                                               | 21.0                                                                                              | No                                                                                                | 2.8900                                                                                            | 2                                                                                                 | 1, 1, 1, 1, 2, 1, 1, 1, 2, 1, 2, 1, 1, 1, 1, 1, 1, 1, 1, 1, 1, 1, 1, 1, 1, 2, 1, 2, 1, 2, 1, 1, 1 | \n",
       "| 17                                                                                                | F                                                                                                 | 41                                                                                                | 62                                                                                                | 172                                                                                               | 20.9                                                                                              | Yes                                                                                               | 2.9584                                                                                            | 1                                                                                                 | 1, 1, 1, 1, 2, 1, 1, 1, 2, 1, 2, 1, 1, 1, 1, 1, 1, 1, 1, 1, 1, 1, 1, 1, 1, 2, 1, 2, 1, 2, 1, 1, 1 | \n",
       "| 14                                                                                                | M                                                                                                 | 26                                                                                                | 64                                                                                                | 170                                                                                               | 22.0                                                                                              | No                                                                                                | 2.8900                                                                                            | 2                                                                                                 | 1, 1, 1, 1, 2, 1, 1, 1, 2, 1, 2, 1, 1, 1, 1, 1, 1, 1, 1, 1, 1, 1, 1, 1, 1, 2, 1, 2, 1, 2, 1, 1, 1 | \n",
       "\n",
       "\n"
      ],
      "text/plain": [
       "  Subject Sex Age Weight Height BMI  Smokes HeightInM.sq sexNum\n",
       "1  1      M   43  57     166    20.7 No     2.7556       2     \n",
       "2 26      F   25  58     175    18.9 No     3.0625       1     \n",
       "3 30      F   33  61     175    19.9 No     3.0625       1     \n",
       "4 22      M   27  61     170    21.0 No     2.8900       2     \n",
       "5 17      F   41  62     172    20.9 Yes    2.9584       1     \n",
       "6 14      M   26  64     170    22.0 No     2.8900       2     \n",
       "  smokesNum                                                                                        \n",
       "1 1, 1, 1, 1, 2, 1, 1, 1, 2, 1, 2, 1, 1, 1, 1, 1, 1, 1, 1, 1, 1, 1, 1, 1, 1, 2, 1, 2, 1, 2, 1, 1, 1\n",
       "2 1, 1, 1, 1, 2, 1, 1, 1, 2, 1, 2, 1, 1, 1, 1, 1, 1, 1, 1, 1, 1, 1, 1, 1, 1, 2, 1, 2, 1, 2, 1, 1, 1\n",
       "3 1, 1, 1, 1, 2, 1, 1, 1, 2, 1, 2, 1, 1, 1, 1, 1, 1, 1, 1, 1, 1, 1, 1, 1, 1, 2, 1, 2, 1, 2, 1, 1, 1\n",
       "4 1, 1, 1, 1, 2, 1, 1, 1, 2, 1, 2, 1, 1, 1, 1, 1, 1, 1, 1, 1, 1, 1, 1, 1, 1, 2, 1, 2, 1, 2, 1, 1, 1\n",
       "5 1, 1, 1, 1, 2, 1, 1, 1, 2, 1, 2, 1, 1, 1, 1, 1, 1, 1, 1, 1, 1, 1, 1, 1, 1, 2, 1, 2, 1, 2, 1, 1, 1\n",
       "6 1, 1, 1, 1, 2, 1, 1, 1, 2, 1, 2, 1, 1, 1, 1, 1, 1, 1, 1, 1, 1, 1, 1, 1, 1, 2, 1, 2, 1, 2, 1, 1, 1"
      ]
     },
     "metadata": {},
     "output_type": "display_data"
    }
   ],
   "source": [
    "demoDt[, c(\"sexNum\", \"smokesNum\") := list(as.numeric(Sex), list(as.numeric(Smokes)))]\n",
    "head(demoDt)\n",
    "       "
   ]
  },
  {
   "cell_type": "markdown",
   "metadata": {},
   "source": [
    "## merging datasets with data.table"
   ]
  },
  {
   "cell_type": "code",
   "execution_count": 58,
   "metadata": {
    "collapsed": false
   },
   "outputs": [],
   "source": [
    "demoDT <- data.table(demoData)\n",
    "setkey(demoDT, Subject)\n",
    "pkDT <- data.table(pkData)\n",
    "setkey(pkDT, Subject)"
   ]
  },
  {
   "cell_type": "code",
   "execution_count": 60,
   "metadata": {
    "collapsed": false
   },
   "outputs": [
    {
     "data": {
      "text/html": [
       "<table>\n",
       "<thead><tr><th scope=col>Subject</th><th scope=col>Sex</th><th scope=col>Age</th><th scope=col>Weight</th><th scope=col>Height</th><th scope=col>BMI</th><th scope=col>Smokes</th><th scope=col>Dose</th><th scope=col>Time</th><th scope=col>Conc</th></tr></thead>\n",
       "<tbody>\n",
       "\t<tr><td>1      </td><td>M      </td><td>43     </td><td>57     </td><td>166    </td><td>20.7   </td><td>No     </td><td>25     </td><td> 0     </td><td>   0.00</td></tr>\n",
       "\t<tr><td>1      </td><td>M      </td><td>43     </td><td>57     </td><td>166    </td><td>20.7   </td><td>No     </td><td>25     </td><td> 1     </td><td> 660.13</td></tr>\n",
       "\t<tr><td>1      </td><td>M      </td><td>43     </td><td>57     </td><td>166    </td><td>20.7   </td><td>No     </td><td>25     </td><td> 6     </td><td> 178.92</td></tr>\n",
       "\t<tr><td>1      </td><td>M      </td><td>43     </td><td>57     </td><td>166    </td><td>20.7   </td><td>No     </td><td>25     </td><td>12     </td><td>  88.99</td></tr>\n",
       "\t<tr><td>1      </td><td>M      </td><td>43     </td><td>57     </td><td>166    </td><td>20.7   </td><td>No     </td><td>25     </td><td>24     </td><td>  42.71</td></tr>\n",
       "\t<tr><td>2      </td><td>M      </td><td>22     </td><td>71     </td><td>179    </td><td>22.2   </td><td>No     </td><td>25     </td><td> 0     </td><td>   0.00</td></tr>\n",
       "\t<tr><td>2      </td><td>M      </td><td>22     </td><td>71     </td><td>179    </td><td>22.2   </td><td>No     </td><td>25     </td><td> 1     </td><td> 445.55</td></tr>\n",
       "\t<tr><td>2      </td><td>M      </td><td>22     </td><td>71     </td><td>179    </td><td>22.2   </td><td>No     </td><td>25     </td><td> 6     </td><td> 129.31</td></tr>\n",
       "\t<tr><td>2      </td><td>M      </td><td>22     </td><td>71     </td><td>179    </td><td>22.2   </td><td>No     </td><td>25     </td><td>12     </td><td>  93.33</td></tr>\n",
       "\t<tr><td>2      </td><td>M      </td><td>22     </td><td>71     </td><td>179    </td><td>22.2   </td><td>No     </td><td>25     </td><td>24     </td><td>  46.11</td></tr>\n",
       "\t<tr><td>3      </td><td>F      </td><td>23     </td><td>72     </td><td>170    </td><td>25.1   </td><td>No     </td><td>25     </td><td> 0     </td><td>   0.00</td></tr>\n",
       "\t<tr><td>3      </td><td>F      </td><td>23     </td><td>72     </td><td>170    </td><td>25.1   </td><td>No     </td><td>25     </td><td> 1     </td><td> 500.65</td></tr>\n",
       "\t<tr><td>3      </td><td>F      </td><td>23     </td><td>72     </td><td>170    </td><td>25.1   </td><td>No     </td><td>25     </td><td> 6     </td><td> 146.04</td></tr>\n",
       "\t<tr><td>3      </td><td>F      </td><td>23     </td><td>72     </td><td>170    </td><td>25.1   </td><td>No     </td><td>25     </td><td>12     </td><td> 116.93</td></tr>\n",
       "\t<tr><td>3      </td><td>F      </td><td>23     </td><td>72     </td><td>170    </td><td>25.1   </td><td>No     </td><td>25     </td><td>24     </td><td>  68.25</td></tr>\n",
       "\t<tr><td>4      </td><td>M      </td><td>25     </td><td>76     </td><td>188    </td><td>21.4   </td><td>No     </td><td>25     </td><td> 0     </td><td>   0.00</td></tr>\n",
       "\t<tr><td>4      </td><td>M      </td><td>25     </td><td>76     </td><td>188    </td><td>21.4   </td><td>No     </td><td>25     </td><td> 1     </td><td> 533.65</td></tr>\n",
       "\t<tr><td>4      </td><td>M      </td><td>25     </td><td>76     </td><td>188    </td><td>21.4   </td><td>No     </td><td>25     </td><td> 6     </td><td> 179.55</td></tr>\n",
       "\t<tr><td>4      </td><td>M      </td><td>25     </td><td>76     </td><td>188    </td><td>21.4   </td><td>No     </td><td>25     </td><td>12     </td><td> 123.07</td></tr>\n",
       "\t<tr><td>4      </td><td>M      </td><td>25     </td><td>76     </td><td>188    </td><td>21.4   </td><td>No     </td><td>25     </td><td>24     </td><td>  47.45</td></tr>\n",
       "\t<tr><td>5      </td><td>M      </td><td>29     </td><td>82     </td><td>175    </td><td>26.8   </td><td>No     </td><td>25     </td><td> 0     </td><td>   0.00</td></tr>\n",
       "\t<tr><td>5      </td><td>M      </td><td>29     </td><td>82     </td><td>175    </td><td>26.8   </td><td>No     </td><td>25     </td><td> 1     </td><td> 458.33</td></tr>\n",
       "\t<tr><td>5      </td><td>M      </td><td>29     </td><td>82     </td><td>175    </td><td>26.8   </td><td>No     </td><td>25     </td><td> 6     </td><td> 144.73</td></tr>\n",
       "\t<tr><td>5      </td><td>M      </td><td>29     </td><td>82     </td><td>175    </td><td>26.8   </td><td>No     </td><td>25     </td><td>12     </td><td>  97.18</td></tr>\n",
       "\t<tr><td>5      </td><td>M      </td><td>29     </td><td>82     </td><td>175    </td><td>26.8   </td><td>No     </td><td>25     </td><td>24     </td><td>  45.34</td></tr>\n",
       "\t<tr><td>6      </td><td>F      </td><td>29     </td><td>67     </td><td>169    </td><td>23.5   </td><td>No     </td><td>50     </td><td> 0     </td><td>   0.00</td></tr>\n",
       "\t<tr><td>6      </td><td>F      </td><td>29     </td><td>67     </td><td>169    </td><td>23.5   </td><td>No     </td><td>50     </td><td> 1     </td><td>1100.57</td></tr>\n",
       "\t<tr><td>6      </td><td>F      </td><td>29     </td><td>67     </td><td>169    </td><td>23.5   </td><td>No     </td><td>50     </td><td> 6     </td><td> 274.80</td></tr>\n",
       "\t<tr><td>6      </td><td>F      </td><td>29     </td><td>67     </td><td>169    </td><td>23.5   </td><td>No     </td><td>50     </td><td>12     </td><td> 139.53</td></tr>\n",
       "\t<tr><td>6      </td><td>F      </td><td>29     </td><td>67     </td><td>169    </td><td>23.5   </td><td>No     </td><td>50     </td><td>24     </td><td>  97.79</td></tr>\n",
       "\t<tr><td>...</td><td>...</td><td>...</td><td>...</td><td>...</td><td>...</td><td>...</td><td>...</td><td>...</td><td>...</td></tr>\n",
       "\t<tr><td>28     </td><td>F      </td><td>28     </td><td>69     </td><td>172    </td><td>23.4   </td><td>No     </td><td>100    </td><td> 0     </td><td>   0.00</td></tr>\n",
       "\t<tr><td>28     </td><td>F      </td><td>28     </td><td>69     </td><td>172    </td><td>23.4   </td><td>No     </td><td>100    </td><td> 1     </td><td>1330.19</td></tr>\n",
       "\t<tr><td>28     </td><td>F      </td><td>28     </td><td>69     </td><td>172    </td><td>23.4   </td><td>No     </td><td>100    </td><td> 6     </td><td> 443.00</td></tr>\n",
       "\t<tr><td>28     </td><td>F      </td><td>28     </td><td>69     </td><td>172    </td><td>23.4   </td><td>No     </td><td>100    </td><td>12     </td><td> 376.16</td></tr>\n",
       "\t<tr><td>28     </td><td>F      </td><td>28     </td><td>69     </td><td>172    </td><td>23.4   </td><td>No     </td><td>100    </td><td>24     </td><td> 209.43</td></tr>\n",
       "\t<tr><td>29     </td><td>M      </td><td>44     </td><td>81     </td><td>175    </td><td>26.4   </td><td>Yes    </td><td>100    </td><td> 0     </td><td>   0.00</td></tr>\n",
       "\t<tr><td>29     </td><td>M      </td><td>44     </td><td>81     </td><td>175    </td><td>26.4   </td><td>Yes    </td><td>100    </td><td> 1     </td><td> 949.49</td></tr>\n",
       "\t<tr><td>29     </td><td>M      </td><td>44     </td><td>81     </td><td>175    </td><td>26.4   </td><td>Yes    </td><td>100    </td><td> 6     </td><td> 740.44</td></tr>\n",
       "\t<tr><td>29     </td><td>M      </td><td>44     </td><td>81     </td><td>175    </td><td>26.4   </td><td>Yes    </td><td>100    </td><td>12     </td><td> 533.18</td></tr>\n",
       "\t<tr><td>29     </td><td>M      </td><td>44     </td><td>81     </td><td>175    </td><td>26.4   </td><td>Yes    </td><td>100    </td><td>24     </td><td> 309.15</td></tr>\n",
       "\t<tr><td>30     </td><td>F      </td><td>33     </td><td>61     </td><td>175    </td><td>19.9   </td><td>No     </td><td>100    </td><td> 0     </td><td>   0.00</td></tr>\n",
       "\t<tr><td>30     </td><td>F      </td><td>33     </td><td>61     </td><td>175    </td><td>19.9   </td><td>No     </td><td>100    </td><td> 1     </td><td>1917.33</td></tr>\n",
       "\t<tr><td>30     </td><td>F      </td><td>33     </td><td>61     </td><td>175    </td><td>19.9   </td><td>No     </td><td>100    </td><td> 6     </td><td> 610.28</td></tr>\n",
       "\t<tr><td>30     </td><td>F      </td><td>33     </td><td>61     </td><td>175    </td><td>19.9   </td><td>No     </td><td>100    </td><td>12     </td><td> 544.72</td></tr>\n",
       "\t<tr><td>30     </td><td>F      </td><td>33     </td><td>61     </td><td>175    </td><td>19.9   </td><td>No     </td><td>100    </td><td>24     </td><td> 202.65</td></tr>\n",
       "\t<tr><td>31     </td><td>M      </td><td>25     </td><td>76     </td><td>174    </td><td>25.1   </td><td>No     </td><td>100    </td><td> 0     </td><td>   0.00</td></tr>\n",
       "\t<tr><td>31     </td><td>M      </td><td>25     </td><td>76     </td><td>174    </td><td>25.1   </td><td>No     </td><td>100    </td><td> 1     </td><td>2025.85</td></tr>\n",
       "\t<tr><td>31     </td><td>M      </td><td>25     </td><td>76     </td><td>174    </td><td>25.1   </td><td>No     </td><td>100    </td><td> 6     </td><td> 892.14</td></tr>\n",
       "\t<tr><td>31     </td><td>M      </td><td>25     </td><td>76     </td><td>174    </td><td>25.1   </td><td>No     </td><td>100    </td><td>12     </td><td> 505.96</td></tr>\n",
       "\t<tr><td>31     </td><td>M      </td><td>25     </td><td>76     </td><td>174    </td><td>25.1   </td><td>No     </td><td>100    </td><td>24     </td><td> 310.79</td></tr>\n",
       "\t<tr><td>32     </td><td>M      </td><td>25     </td><td>75     </td><td>177    </td><td>24.1   </td><td>No     </td><td>100    </td><td> 0     </td><td>   0.00</td></tr>\n",
       "\t<tr><td>32     </td><td>M      </td><td>25     </td><td>75     </td><td>177    </td><td>24.1   </td><td>No     </td><td>100    </td><td> 1     </td><td>1257.80</td></tr>\n",
       "\t<tr><td>32     </td><td>M      </td><td>25     </td><td>75     </td><td>177    </td><td>24.1   </td><td>No     </td><td>100    </td><td> 6     </td><td> 625.96</td></tr>\n",
       "\t<tr><td>32     </td><td>M      </td><td>25     </td><td>75     </td><td>177    </td><td>24.1   </td><td>No     </td><td>100    </td><td>12     </td><td> 507.09</td></tr>\n",
       "\t<tr><td>32     </td><td>M      </td><td>25     </td><td>75     </td><td>177    </td><td>24.1   </td><td>No     </td><td>100    </td><td>24     </td><td> 204.11</td></tr>\n",
       "\t<tr><td>33     </td><td>M      </td><td>30     </td><td>80     </td><td>180    </td><td>24.8   </td><td>No     </td><td> 25    </td><td> 0     </td><td>   0.00</td></tr>\n",
       "\t<tr><td>33     </td><td>M      </td><td>30     </td><td>80     </td><td>180    </td><td>24.8   </td><td>No     </td><td> 25    </td><td> 1     </td><td> 453.13</td></tr>\n",
       "\t<tr><td>33     </td><td>M      </td><td>30     </td><td>80     </td><td>180    </td><td>24.8   </td><td>No     </td><td> 25    </td><td> 6     </td><td> 205.30</td></tr>\n",
       "\t<tr><td>33     </td><td>M      </td><td>30     </td><td>80     </td><td>180    </td><td>24.8   </td><td>No     </td><td> 25    </td><td>12     </td><td> 146.69</td></tr>\n",
       "\t<tr><td>33     </td><td>M      </td><td>30     </td><td>80     </td><td>180    </td><td>24.8   </td><td>No     </td><td> 25    </td><td>24     </td><td>  46.84</td></tr>\n",
       "</tbody>\n",
       "</table>\n"
      ],
      "text/latex": [
       "\\begin{tabular}{r|llllllllll}\n",
       " Subject & Sex & Age & Weight & Height & BMI & Smokes & Dose & Time & Conc\\\\\n",
       "\\hline\n",
       "\t 1       & M       & 43      & 57      & 166     & 20.7    & No      & 25      &  0      &    0.00\\\\\n",
       "\t 1       & M       & 43      & 57      & 166     & 20.7    & No      & 25      &  1      &  660.13\\\\\n",
       "\t 1       & M       & 43      & 57      & 166     & 20.7    & No      & 25      &  6      &  178.92\\\\\n",
       "\t 1       & M       & 43      & 57      & 166     & 20.7    & No      & 25      & 12      &   88.99\\\\\n",
       "\t 1       & M       & 43      & 57      & 166     & 20.7    & No      & 25      & 24      &   42.71\\\\\n",
       "\t 2       & M       & 22      & 71      & 179     & 22.2    & No      & 25      &  0      &    0.00\\\\\n",
       "\t 2       & M       & 22      & 71      & 179     & 22.2    & No      & 25      &  1      &  445.55\\\\\n",
       "\t 2       & M       & 22      & 71      & 179     & 22.2    & No      & 25      &  6      &  129.31\\\\\n",
       "\t 2       & M       & 22      & 71      & 179     & 22.2    & No      & 25      & 12      &   93.33\\\\\n",
       "\t 2       & M       & 22      & 71      & 179     & 22.2    & No      & 25      & 24      &   46.11\\\\\n",
       "\t 3       & F       & 23      & 72      & 170     & 25.1    & No      & 25      &  0      &    0.00\\\\\n",
       "\t 3       & F       & 23      & 72      & 170     & 25.1    & No      & 25      &  1      &  500.65\\\\\n",
       "\t 3       & F       & 23      & 72      & 170     & 25.1    & No      & 25      &  6      &  146.04\\\\\n",
       "\t 3       & F       & 23      & 72      & 170     & 25.1    & No      & 25      & 12      &  116.93\\\\\n",
       "\t 3       & F       & 23      & 72      & 170     & 25.1    & No      & 25      & 24      &   68.25\\\\\n",
       "\t 4       & M       & 25      & 76      & 188     & 21.4    & No      & 25      &  0      &    0.00\\\\\n",
       "\t 4       & M       & 25      & 76      & 188     & 21.4    & No      & 25      &  1      &  533.65\\\\\n",
       "\t 4       & M       & 25      & 76      & 188     & 21.4    & No      & 25      &  6      &  179.55\\\\\n",
       "\t 4       & M       & 25      & 76      & 188     & 21.4    & No      & 25      & 12      &  123.07\\\\\n",
       "\t 4       & M       & 25      & 76      & 188     & 21.4    & No      & 25      & 24      &   47.45\\\\\n",
       "\t 5       & M       & 29      & 82      & 175     & 26.8    & No      & 25      &  0      &    0.00\\\\\n",
       "\t 5       & M       & 29      & 82      & 175     & 26.8    & No      & 25      &  1      &  458.33\\\\\n",
       "\t 5       & M       & 29      & 82      & 175     & 26.8    & No      & 25      &  6      &  144.73\\\\\n",
       "\t 5       & M       & 29      & 82      & 175     & 26.8    & No      & 25      & 12      &   97.18\\\\\n",
       "\t 5       & M       & 29      & 82      & 175     & 26.8    & No      & 25      & 24      &   45.34\\\\\n",
       "\t 6       & F       & 29      & 67      & 169     & 23.5    & No      & 50      &  0      &    0.00\\\\\n",
       "\t 6       & F       & 29      & 67      & 169     & 23.5    & No      & 50      &  1      & 1100.57\\\\\n",
       "\t 6       & F       & 29      & 67      & 169     & 23.5    & No      & 50      &  6      &  274.80\\\\\n",
       "\t 6       & F       & 29      & 67      & 169     & 23.5    & No      & 50      & 12      &  139.53\\\\\n",
       "\t 6       & F       & 29      & 67      & 169     & 23.5    & No      & 50      & 24      &   97.79\\\\\n",
       "\t ... & ... & ... & ... & ... & ... & ... & ... & ... & ...\\\\\n",
       "\t 28      & F       & 28      & 69      & 172     & 23.4    & No      & 100     &  0      &    0.00\\\\\n",
       "\t 28      & F       & 28      & 69      & 172     & 23.4    & No      & 100     &  1      & 1330.19\\\\\n",
       "\t 28      & F       & 28      & 69      & 172     & 23.4    & No      & 100     &  6      &  443.00\\\\\n",
       "\t 28      & F       & 28      & 69      & 172     & 23.4    & No      & 100     & 12      &  376.16\\\\\n",
       "\t 28      & F       & 28      & 69      & 172     & 23.4    & No      & 100     & 24      &  209.43\\\\\n",
       "\t 29      & M       & 44      & 81      & 175     & 26.4    & Yes     & 100     &  0      &    0.00\\\\\n",
       "\t 29      & M       & 44      & 81      & 175     & 26.4    & Yes     & 100     &  1      &  949.49\\\\\n",
       "\t 29      & M       & 44      & 81      & 175     & 26.4    & Yes     & 100     &  6      &  740.44\\\\\n",
       "\t 29      & M       & 44      & 81      & 175     & 26.4    & Yes     & 100     & 12      &  533.18\\\\\n",
       "\t 29      & M       & 44      & 81      & 175     & 26.4    & Yes     & 100     & 24      &  309.15\\\\\n",
       "\t 30      & F       & 33      & 61      & 175     & 19.9    & No      & 100     &  0      &    0.00\\\\\n",
       "\t 30      & F       & 33      & 61      & 175     & 19.9    & No      & 100     &  1      & 1917.33\\\\\n",
       "\t 30      & F       & 33      & 61      & 175     & 19.9    & No      & 100     &  6      &  610.28\\\\\n",
       "\t 30      & F       & 33      & 61      & 175     & 19.9    & No      & 100     & 12      &  544.72\\\\\n",
       "\t 30      & F       & 33      & 61      & 175     & 19.9    & No      & 100     & 24      &  202.65\\\\\n",
       "\t 31      & M       & 25      & 76      & 174     & 25.1    & No      & 100     &  0      &    0.00\\\\\n",
       "\t 31      & M       & 25      & 76      & 174     & 25.1    & No      & 100     &  1      & 2025.85\\\\\n",
       "\t 31      & M       & 25      & 76      & 174     & 25.1    & No      & 100     &  6      &  892.14\\\\\n",
       "\t 31      & M       & 25      & 76      & 174     & 25.1    & No      & 100     & 12      &  505.96\\\\\n",
       "\t 31      & M       & 25      & 76      & 174     & 25.1    & No      & 100     & 24      &  310.79\\\\\n",
       "\t 32      & M       & 25      & 75      & 177     & 24.1    & No      & 100     &  0      &    0.00\\\\\n",
       "\t 32      & M       & 25      & 75      & 177     & 24.1    & No      & 100     &  1      & 1257.80\\\\\n",
       "\t 32      & M       & 25      & 75      & 177     & 24.1    & No      & 100     &  6      &  625.96\\\\\n",
       "\t 32      & M       & 25      & 75      & 177     & 24.1    & No      & 100     & 12      &  507.09\\\\\n",
       "\t 32      & M       & 25      & 75      & 177     & 24.1    & No      & 100     & 24      &  204.11\\\\\n",
       "\t 33      & M       & 30      & 80      & 180     & 24.8    & No      &  25     &  0      &    0.00\\\\\n",
       "\t 33      & M       & 30      & 80      & 180     & 24.8    & No      &  25     &  1      &  453.13\\\\\n",
       "\t 33      & M       & 30      & 80      & 180     & 24.8    & No      &  25     &  6      &  205.30\\\\\n",
       "\t 33      & M       & 30      & 80      & 180     & 24.8    & No      &  25     & 12      &  146.69\\\\\n",
       "\t 33      & M       & 30      & 80      & 180     & 24.8    & No      &  25     & 24      &   46.84\\\\\n",
       "\\end{tabular}\n"
      ],
      "text/markdown": [
       "\n",
       "Subject | Sex | Age | Weight | Height | BMI | Smokes | Dose | Time | Conc | \n",
       "|---|---|---|---|---|---|---|---|---|---|---|---|---|---|---|---|---|---|---|---|---|---|---|---|---|---|---|---|---|---|---|---|---|---|---|---|---|---|---|---|---|---|---|---|---|---|---|---|---|---|---|---|---|---|---|---|---|---|---|---|---|\n",
       "| 1       | M       | 43      | 57      | 166     | 20.7    | No      | 25      |  0      |    0.00 | \n",
       "| 1       | M       | 43      | 57      | 166     | 20.7    | No      | 25      |  1      |  660.13 | \n",
       "| 1       | M       | 43      | 57      | 166     | 20.7    | No      | 25      |  6      |  178.92 | \n",
       "| 1       | M       | 43      | 57      | 166     | 20.7    | No      | 25      | 12      |   88.99 | \n",
       "| 1       | M       | 43      | 57      | 166     | 20.7    | No      | 25      | 24      |   42.71 | \n",
       "| 2       | M       | 22      | 71      | 179     | 22.2    | No      | 25      |  0      |    0.00 | \n",
       "| 2       | M       | 22      | 71      | 179     | 22.2    | No      | 25      |  1      |  445.55 | \n",
       "| 2       | M       | 22      | 71      | 179     | 22.2    | No      | 25      |  6      |  129.31 | \n",
       "| 2       | M       | 22      | 71      | 179     | 22.2    | No      | 25      | 12      |   93.33 | \n",
       "| 2       | M       | 22      | 71      | 179     | 22.2    | No      | 25      | 24      |   46.11 | \n",
       "| 3       | F       | 23      | 72      | 170     | 25.1    | No      | 25      |  0      |    0.00 | \n",
       "| 3       | F       | 23      | 72      | 170     | 25.1    | No      | 25      |  1      |  500.65 | \n",
       "| 3       | F       | 23      | 72      | 170     | 25.1    | No      | 25      |  6      |  146.04 | \n",
       "| 3       | F       | 23      | 72      | 170     | 25.1    | No      | 25      | 12      |  116.93 | \n",
       "| 3       | F       | 23      | 72      | 170     | 25.1    | No      | 25      | 24      |   68.25 | \n",
       "| 4       | M       | 25      | 76      | 188     | 21.4    | No      | 25      |  0      |    0.00 | \n",
       "| 4       | M       | 25      | 76      | 188     | 21.4    | No      | 25      |  1      |  533.65 | \n",
       "| 4       | M       | 25      | 76      | 188     | 21.4    | No      | 25      |  6      |  179.55 | \n",
       "| 4       | M       | 25      | 76      | 188     | 21.4    | No      | 25      | 12      |  123.07 | \n",
       "| 4       | M       | 25      | 76      | 188     | 21.4    | No      | 25      | 24      |   47.45 | \n",
       "| 5       | M       | 29      | 82      | 175     | 26.8    | No      | 25      |  0      |    0.00 | \n",
       "| 5       | M       | 29      | 82      | 175     | 26.8    | No      | 25      |  1      |  458.33 | \n",
       "| 5       | M       | 29      | 82      | 175     | 26.8    | No      | 25      |  6      |  144.73 | \n",
       "| 5       | M       | 29      | 82      | 175     | 26.8    | No      | 25      | 12      |   97.18 | \n",
       "| 5       | M       | 29      | 82      | 175     | 26.8    | No      | 25      | 24      |   45.34 | \n",
       "| 6       | F       | 29      | 67      | 169     | 23.5    | No      | 50      |  0      |    0.00 | \n",
       "| 6       | F       | 29      | 67      | 169     | 23.5    | No      | 50      |  1      | 1100.57 | \n",
       "| 6       | F       | 29      | 67      | 169     | 23.5    | No      | 50      |  6      |  274.80 | \n",
       "| 6       | F       | 29      | 67      | 169     | 23.5    | No      | 50      | 12      |  139.53 | \n",
       "| 6       | F       | 29      | 67      | 169     | 23.5    | No      | 50      | 24      |   97.79 | \n",
       "| ... | ... | ... | ... | ... | ... | ... | ... | ... | ... | \n",
       "| 28      | F       | 28      | 69      | 172     | 23.4    | No      | 100     |  0      |    0.00 | \n",
       "| 28      | F       | 28      | 69      | 172     | 23.4    | No      | 100     |  1      | 1330.19 | \n",
       "| 28      | F       | 28      | 69      | 172     | 23.4    | No      | 100     |  6      |  443.00 | \n",
       "| 28      | F       | 28      | 69      | 172     | 23.4    | No      | 100     | 12      |  376.16 | \n",
       "| 28      | F       | 28      | 69      | 172     | 23.4    | No      | 100     | 24      |  209.43 | \n",
       "| 29      | M       | 44      | 81      | 175     | 26.4    | Yes     | 100     |  0      |    0.00 | \n",
       "| 29      | M       | 44      | 81      | 175     | 26.4    | Yes     | 100     |  1      |  949.49 | \n",
       "| 29      | M       | 44      | 81      | 175     | 26.4    | Yes     | 100     |  6      |  740.44 | \n",
       "| 29      | M       | 44      | 81      | 175     | 26.4    | Yes     | 100     | 12      |  533.18 | \n",
       "| 29      | M       | 44      | 81      | 175     | 26.4    | Yes     | 100     | 24      |  309.15 | \n",
       "| 30      | F       | 33      | 61      | 175     | 19.9    | No      | 100     |  0      |    0.00 | \n",
       "| 30      | F       | 33      | 61      | 175     | 19.9    | No      | 100     |  1      | 1917.33 | \n",
       "| 30      | F       | 33      | 61      | 175     | 19.9    | No      | 100     |  6      |  610.28 | \n",
       "| 30      | F       | 33      | 61      | 175     | 19.9    | No      | 100     | 12      |  544.72 | \n",
       "| 30      | F       | 33      | 61      | 175     | 19.9    | No      | 100     | 24      |  202.65 | \n",
       "| 31      | M       | 25      | 76      | 174     | 25.1    | No      | 100     |  0      |    0.00 | \n",
       "| 31      | M       | 25      | 76      | 174     | 25.1    | No      | 100     |  1      | 2025.85 | \n",
       "| 31      | M       | 25      | 76      | 174     | 25.1    | No      | 100     |  6      |  892.14 | \n",
       "| 31      | M       | 25      | 76      | 174     | 25.1    | No      | 100     | 12      |  505.96 | \n",
       "| 31      | M       | 25      | 76      | 174     | 25.1    | No      | 100     | 24      |  310.79 | \n",
       "| 32      | M       | 25      | 75      | 177     | 24.1    | No      | 100     |  0      |    0.00 | \n",
       "| 32      | M       | 25      | 75      | 177     | 24.1    | No      | 100     |  1      | 1257.80 | \n",
       "| 32      | M       | 25      | 75      | 177     | 24.1    | No      | 100     |  6      |  625.96 | \n",
       "| 32      | M       | 25      | 75      | 177     | 24.1    | No      | 100     | 12      |  507.09 | \n",
       "| 32      | M       | 25      | 75      | 177     | 24.1    | No      | 100     | 24      |  204.11 | \n",
       "| 33      | M       | 30      | 80      | 180     | 24.8    | No      |  25     |  0      |    0.00 | \n",
       "| 33      | M       | 30      | 80      | 180     | 24.8    | No      |  25     |  1      |  453.13 | \n",
       "| 33      | M       | 30      | 80      | 180     | 24.8    | No      |  25     |  6      |  205.30 | \n",
       "| 33      | M       | 30      | 80      | 180     | 24.8    | No      |  25     | 12      |  146.69 | \n",
       "| 33      | M       | 30      | 80      | 180     | 24.8    | No      |  25     | 24      |   46.84 | \n",
       "\n",
       "\n"
      ],
      "text/plain": [
       "    Subject Sex Age Weight Height BMI  Smokes Dose Time Conc   \n",
       "1   1       M   43  57     166    20.7 No     25    0      0.00\n",
       "2   1       M   43  57     166    20.7 No     25    1    660.13\n",
       "3   1       M   43  57     166    20.7 No     25    6    178.92\n",
       "4   1       M   43  57     166    20.7 No     25   12     88.99\n",
       "5   1       M   43  57     166    20.7 No     25   24     42.71\n",
       "6   2       M   22  71     179    22.2 No     25    0      0.00\n",
       "7   2       M   22  71     179    22.2 No     25    1    445.55\n",
       "8   2       M   22  71     179    22.2 No     25    6    129.31\n",
       "9   2       M   22  71     179    22.2 No     25   12     93.33\n",
       "10  2       M   22  71     179    22.2 No     25   24     46.11\n",
       "11  3       F   23  72     170    25.1 No     25    0      0.00\n",
       "12  3       F   23  72     170    25.1 No     25    1    500.65\n",
       "13  3       F   23  72     170    25.1 No     25    6    146.04\n",
       "14  3       F   23  72     170    25.1 No     25   12    116.93\n",
       "15  3       F   23  72     170    25.1 No     25   24     68.25\n",
       "16  4       M   25  76     188    21.4 No     25    0      0.00\n",
       "17  4       M   25  76     188    21.4 No     25    1    533.65\n",
       "18  4       M   25  76     188    21.4 No     25    6    179.55\n",
       "19  4       M   25  76     188    21.4 No     25   12    123.07\n",
       "20  4       M   25  76     188    21.4 No     25   24     47.45\n",
       "21  5       M   29  82     175    26.8 No     25    0      0.00\n",
       "22  5       M   29  82     175    26.8 No     25    1    458.33\n",
       "23  5       M   29  82     175    26.8 No     25    6    144.73\n",
       "24  5       M   29  82     175    26.8 No     25   12     97.18\n",
       "25  5       M   29  82     175    26.8 No     25   24     45.34\n",
       "26  6       F   29  67     169    23.5 No     50    0      0.00\n",
       "27  6       F   29  67     169    23.5 No     50    1   1100.57\n",
       "28  6       F   29  67     169    23.5 No     50    6    274.80\n",
       "29  6       F   29  67     169    23.5 No     50   12    139.53\n",
       "30  6       F   29  67     169    23.5 No     50   24     97.79\n",
       "... ...     ... ... ...    ...    ...  ...    ...  ...  ...    \n",
       "136 28      F   28  69     172    23.4 No     100   0      0.00\n",
       "137 28      F   28  69     172    23.4 No     100   1   1330.19\n",
       "138 28      F   28  69     172    23.4 No     100   6    443.00\n",
       "139 28      F   28  69     172    23.4 No     100  12    376.16\n",
       "140 28      F   28  69     172    23.4 No     100  24    209.43\n",
       "141 29      M   44  81     175    26.4 Yes    100   0      0.00\n",
       "142 29      M   44  81     175    26.4 Yes    100   1    949.49\n",
       "143 29      M   44  81     175    26.4 Yes    100   6    740.44\n",
       "144 29      M   44  81     175    26.4 Yes    100  12    533.18\n",
       "145 29      M   44  81     175    26.4 Yes    100  24    309.15\n",
       "146 30      F   33  61     175    19.9 No     100   0      0.00\n",
       "147 30      F   33  61     175    19.9 No     100   1   1917.33\n",
       "148 30      F   33  61     175    19.9 No     100   6    610.28\n",
       "149 30      F   33  61     175    19.9 No     100  12    544.72\n",
       "150 30      F   33  61     175    19.9 No     100  24    202.65\n",
       "151 31      M   25  76     174    25.1 No     100   0      0.00\n",
       "152 31      M   25  76     174    25.1 No     100   1   2025.85\n",
       "153 31      M   25  76     174    25.1 No     100   6    892.14\n",
       "154 31      M   25  76     174    25.1 No     100  12    505.96\n",
       "155 31      M   25  76     174    25.1 No     100  24    310.79\n",
       "156 32      M   25  75     177    24.1 No     100   0      0.00\n",
       "157 32      M   25  75     177    24.1 No     100   1   1257.80\n",
       "158 32      M   25  75     177    24.1 No     100   6    625.96\n",
       "159 32      M   25  75     177    24.1 No     100  12    507.09\n",
       "160 32      M   25  75     177    24.1 No     100  24    204.11\n",
       "161 33      M   30  80     180    24.8 No      25   0      0.00\n",
       "162 33      M   30  80     180    24.8 No      25   1    453.13\n",
       "163 33      M   30  80     180    24.8 No      25   6    205.30\n",
       "164 33      M   30  80     180    24.8 No      25  12    146.69\n",
       "165 33      M   30  80     180    24.8 No      25  24     46.84"
      ]
     },
     "metadata": {},
     "output_type": "display_data"
    }
   ],
   "source": [
    "# merge the two data tables together\n",
    "allPKDT <- merge(demoDT, pkDT)\n",
    "allPKDT"
   ]
  },
  {
   "cell_type": "markdown",
   "metadata": {},
   "source": [
    "## standard Merge or inner join"
   ]
  },
  {
   "cell_type": "code",
   "execution_count": 61,
   "metadata": {
    "collapsed": false
   },
   "outputs": [
    {
     "data": {
      "text/html": [
       "<table>\n",
       "<thead><tr><th scope=col>Subject</th><th scope=col>Sex</th><th scope=col>Age</th><th scope=col>Weight</th><th scope=col>Height</th><th scope=col>BMI</th><th scope=col>Smokes</th><th scope=col>Dose</th><th scope=col>Time</th><th scope=col>Conc</th></tr></thead>\n",
       "<tbody>\n",
       "\t<tr><td>1      </td><td>M      </td><td>43     </td><td>57     </td><td>166    </td><td>20.7   </td><td>No     </td><td>25     </td><td> 0     </td><td>   0.00</td></tr>\n",
       "\t<tr><td>1      </td><td>M      </td><td>43     </td><td>57     </td><td>166    </td><td>20.7   </td><td>No     </td><td>25     </td><td> 1     </td><td> 660.13</td></tr>\n",
       "\t<tr><td>1      </td><td>M      </td><td>43     </td><td>57     </td><td>166    </td><td>20.7   </td><td>No     </td><td>25     </td><td> 6     </td><td> 178.92</td></tr>\n",
       "\t<tr><td>1      </td><td>M      </td><td>43     </td><td>57     </td><td>166    </td><td>20.7   </td><td>No     </td><td>25     </td><td>12     </td><td>  88.99</td></tr>\n",
       "\t<tr><td>1      </td><td>M      </td><td>43     </td><td>57     </td><td>166    </td><td>20.7   </td><td>No     </td><td>25     </td><td>24     </td><td>  42.71</td></tr>\n",
       "\t<tr><td>2      </td><td>M      </td><td>22     </td><td>71     </td><td>179    </td><td>22.2   </td><td>No     </td><td>25     </td><td> 0     </td><td>   0.00</td></tr>\n",
       "\t<tr><td>2      </td><td>M      </td><td>22     </td><td>71     </td><td>179    </td><td>22.2   </td><td>No     </td><td>25     </td><td> 1     </td><td> 445.55</td></tr>\n",
       "\t<tr><td>2      </td><td>M      </td><td>22     </td><td>71     </td><td>179    </td><td>22.2   </td><td>No     </td><td>25     </td><td> 6     </td><td> 129.31</td></tr>\n",
       "\t<tr><td>2      </td><td>M      </td><td>22     </td><td>71     </td><td>179    </td><td>22.2   </td><td>No     </td><td>25     </td><td>12     </td><td>  93.33</td></tr>\n",
       "\t<tr><td>2      </td><td>M      </td><td>22     </td><td>71     </td><td>179    </td><td>22.2   </td><td>No     </td><td>25     </td><td>24     </td><td>  46.11</td></tr>\n",
       "\t<tr><td>3      </td><td>F      </td><td>23     </td><td>72     </td><td>170    </td><td>25.1   </td><td>No     </td><td>25     </td><td> 0     </td><td>   0.00</td></tr>\n",
       "\t<tr><td>3      </td><td>F      </td><td>23     </td><td>72     </td><td>170    </td><td>25.1   </td><td>No     </td><td>25     </td><td> 1     </td><td> 500.65</td></tr>\n",
       "\t<tr><td>3      </td><td>F      </td><td>23     </td><td>72     </td><td>170    </td><td>25.1   </td><td>No     </td><td>25     </td><td> 6     </td><td> 146.04</td></tr>\n",
       "\t<tr><td>3      </td><td>F      </td><td>23     </td><td>72     </td><td>170    </td><td>25.1   </td><td>No     </td><td>25     </td><td>12     </td><td> 116.93</td></tr>\n",
       "\t<tr><td>3      </td><td>F      </td><td>23     </td><td>72     </td><td>170    </td><td>25.1   </td><td>No     </td><td>25     </td><td>24     </td><td>  68.25</td></tr>\n",
       "\t<tr><td>4      </td><td>M      </td><td>25     </td><td>76     </td><td>188    </td><td>21.4   </td><td>No     </td><td>25     </td><td> 0     </td><td>   0.00</td></tr>\n",
       "\t<tr><td>4      </td><td>M      </td><td>25     </td><td>76     </td><td>188    </td><td>21.4   </td><td>No     </td><td>25     </td><td> 1     </td><td> 533.65</td></tr>\n",
       "\t<tr><td>4      </td><td>M      </td><td>25     </td><td>76     </td><td>188    </td><td>21.4   </td><td>No     </td><td>25     </td><td> 6     </td><td> 179.55</td></tr>\n",
       "\t<tr><td>4      </td><td>M      </td><td>25     </td><td>76     </td><td>188    </td><td>21.4   </td><td>No     </td><td>25     </td><td>12     </td><td> 123.07</td></tr>\n",
       "\t<tr><td>4      </td><td>M      </td><td>25     </td><td>76     </td><td>188    </td><td>21.4   </td><td>No     </td><td>25     </td><td>24     </td><td>  47.45</td></tr>\n",
       "\t<tr><td>5      </td><td>M      </td><td>29     </td><td>82     </td><td>175    </td><td>26.8   </td><td>No     </td><td>25     </td><td> 0     </td><td>   0.00</td></tr>\n",
       "\t<tr><td>5      </td><td>M      </td><td>29     </td><td>82     </td><td>175    </td><td>26.8   </td><td>No     </td><td>25     </td><td> 1     </td><td> 458.33</td></tr>\n",
       "\t<tr><td>5      </td><td>M      </td><td>29     </td><td>82     </td><td>175    </td><td>26.8   </td><td>No     </td><td>25     </td><td> 6     </td><td> 144.73</td></tr>\n",
       "\t<tr><td>5      </td><td>M      </td><td>29     </td><td>82     </td><td>175    </td><td>26.8   </td><td>No     </td><td>25     </td><td>12     </td><td>  97.18</td></tr>\n",
       "\t<tr><td>5      </td><td>M      </td><td>29     </td><td>82     </td><td>175    </td><td>26.8   </td><td>No     </td><td>25     </td><td>24     </td><td>  45.34</td></tr>\n",
       "\t<tr><td>6      </td><td>F      </td><td>29     </td><td>67     </td><td>169    </td><td>23.5   </td><td>No     </td><td>50     </td><td> 0     </td><td>   0.00</td></tr>\n",
       "\t<tr><td>6      </td><td>F      </td><td>29     </td><td>67     </td><td>169    </td><td>23.5   </td><td>No     </td><td>50     </td><td> 1     </td><td>1100.57</td></tr>\n",
       "\t<tr><td>6      </td><td>F      </td><td>29     </td><td>67     </td><td>169    </td><td>23.5   </td><td>No     </td><td>50     </td><td> 6     </td><td> 274.80</td></tr>\n",
       "\t<tr><td>6      </td><td>F      </td><td>29     </td><td>67     </td><td>169    </td><td>23.5   </td><td>No     </td><td>50     </td><td>12     </td><td> 139.53</td></tr>\n",
       "\t<tr><td>6      </td><td>F      </td><td>29     </td><td>67     </td><td>169    </td><td>23.5   </td><td>No     </td><td>50     </td><td>24     </td><td>  97.79</td></tr>\n",
       "\t<tr><td>...</td><td>...</td><td>...</td><td>...</td><td>...</td><td>...</td><td>...</td><td>...</td><td>...</td><td>...</td></tr>\n",
       "\t<tr><td>28     </td><td>F      </td><td>28     </td><td>69     </td><td>172    </td><td>23.4   </td><td>No     </td><td>100    </td><td> 0     </td><td>   0.00</td></tr>\n",
       "\t<tr><td>28     </td><td>F      </td><td>28     </td><td>69     </td><td>172    </td><td>23.4   </td><td>No     </td><td>100    </td><td> 1     </td><td>1330.19</td></tr>\n",
       "\t<tr><td>28     </td><td>F      </td><td>28     </td><td>69     </td><td>172    </td><td>23.4   </td><td>No     </td><td>100    </td><td> 6     </td><td> 443.00</td></tr>\n",
       "\t<tr><td>28     </td><td>F      </td><td>28     </td><td>69     </td><td>172    </td><td>23.4   </td><td>No     </td><td>100    </td><td>12     </td><td> 376.16</td></tr>\n",
       "\t<tr><td>28     </td><td>F      </td><td>28     </td><td>69     </td><td>172    </td><td>23.4   </td><td>No     </td><td>100    </td><td>24     </td><td> 209.43</td></tr>\n",
       "\t<tr><td>29     </td><td>M      </td><td>44     </td><td>81     </td><td>175    </td><td>26.4   </td><td>Yes    </td><td>100    </td><td> 0     </td><td>   0.00</td></tr>\n",
       "\t<tr><td>29     </td><td>M      </td><td>44     </td><td>81     </td><td>175    </td><td>26.4   </td><td>Yes    </td><td>100    </td><td> 1     </td><td> 949.49</td></tr>\n",
       "\t<tr><td>29     </td><td>M      </td><td>44     </td><td>81     </td><td>175    </td><td>26.4   </td><td>Yes    </td><td>100    </td><td> 6     </td><td> 740.44</td></tr>\n",
       "\t<tr><td>29     </td><td>M      </td><td>44     </td><td>81     </td><td>175    </td><td>26.4   </td><td>Yes    </td><td>100    </td><td>12     </td><td> 533.18</td></tr>\n",
       "\t<tr><td>29     </td><td>M      </td><td>44     </td><td>81     </td><td>175    </td><td>26.4   </td><td>Yes    </td><td>100    </td><td>24     </td><td> 309.15</td></tr>\n",
       "\t<tr><td>30     </td><td>F      </td><td>33     </td><td>61     </td><td>175    </td><td>19.9   </td><td>No     </td><td>100    </td><td> 0     </td><td>   0.00</td></tr>\n",
       "\t<tr><td>30     </td><td>F      </td><td>33     </td><td>61     </td><td>175    </td><td>19.9   </td><td>No     </td><td>100    </td><td> 1     </td><td>1917.33</td></tr>\n",
       "\t<tr><td>30     </td><td>F      </td><td>33     </td><td>61     </td><td>175    </td><td>19.9   </td><td>No     </td><td>100    </td><td> 6     </td><td> 610.28</td></tr>\n",
       "\t<tr><td>30     </td><td>F      </td><td>33     </td><td>61     </td><td>175    </td><td>19.9   </td><td>No     </td><td>100    </td><td>12     </td><td> 544.72</td></tr>\n",
       "\t<tr><td>30     </td><td>F      </td><td>33     </td><td>61     </td><td>175    </td><td>19.9   </td><td>No     </td><td>100    </td><td>24     </td><td> 202.65</td></tr>\n",
       "\t<tr><td>31     </td><td>M      </td><td>25     </td><td>76     </td><td>174    </td><td>25.1   </td><td>No     </td><td>100    </td><td> 0     </td><td>   0.00</td></tr>\n",
       "\t<tr><td>31     </td><td>M      </td><td>25     </td><td>76     </td><td>174    </td><td>25.1   </td><td>No     </td><td>100    </td><td> 1     </td><td>2025.85</td></tr>\n",
       "\t<tr><td>31     </td><td>M      </td><td>25     </td><td>76     </td><td>174    </td><td>25.1   </td><td>No     </td><td>100    </td><td> 6     </td><td> 892.14</td></tr>\n",
       "\t<tr><td>31     </td><td>M      </td><td>25     </td><td>76     </td><td>174    </td><td>25.1   </td><td>No     </td><td>100    </td><td>12     </td><td> 505.96</td></tr>\n",
       "\t<tr><td>31     </td><td>M      </td><td>25     </td><td>76     </td><td>174    </td><td>25.1   </td><td>No     </td><td>100    </td><td>24     </td><td> 310.79</td></tr>\n",
       "\t<tr><td>32     </td><td>M      </td><td>25     </td><td>75     </td><td>177    </td><td>24.1   </td><td>No     </td><td>100    </td><td> 0     </td><td>   0.00</td></tr>\n",
       "\t<tr><td>32     </td><td>M      </td><td>25     </td><td>75     </td><td>177    </td><td>24.1   </td><td>No     </td><td>100    </td><td> 1     </td><td>1257.80</td></tr>\n",
       "\t<tr><td>32     </td><td>M      </td><td>25     </td><td>75     </td><td>177    </td><td>24.1   </td><td>No     </td><td>100    </td><td> 6     </td><td> 625.96</td></tr>\n",
       "\t<tr><td>32     </td><td>M      </td><td>25     </td><td>75     </td><td>177    </td><td>24.1   </td><td>No     </td><td>100    </td><td>12     </td><td> 507.09</td></tr>\n",
       "\t<tr><td>32     </td><td>M      </td><td>25     </td><td>75     </td><td>177    </td><td>24.1   </td><td>No     </td><td>100    </td><td>24     </td><td> 204.11</td></tr>\n",
       "\t<tr><td>33     </td><td>M      </td><td>30     </td><td>80     </td><td>180    </td><td>24.8   </td><td>No     </td><td> 25    </td><td> 0     </td><td>   0.00</td></tr>\n",
       "\t<tr><td>33     </td><td>M      </td><td>30     </td><td>80     </td><td>180    </td><td>24.8   </td><td>No     </td><td> 25    </td><td> 1     </td><td> 453.13</td></tr>\n",
       "\t<tr><td>33     </td><td>M      </td><td>30     </td><td>80     </td><td>180    </td><td>24.8   </td><td>No     </td><td> 25    </td><td> 6     </td><td> 205.30</td></tr>\n",
       "\t<tr><td>33     </td><td>M      </td><td>30     </td><td>80     </td><td>180    </td><td>24.8   </td><td>No     </td><td> 25    </td><td>12     </td><td> 146.69</td></tr>\n",
       "\t<tr><td>33     </td><td>M      </td><td>30     </td><td>80     </td><td>180    </td><td>24.8   </td><td>No     </td><td> 25    </td><td>24     </td><td>  46.84</td></tr>\n",
       "</tbody>\n",
       "</table>\n"
      ],
      "text/latex": [
       "\\begin{tabular}{r|llllllllll}\n",
       " Subject & Sex & Age & Weight & Height & BMI & Smokes & Dose & Time & Conc\\\\\n",
       "\\hline\n",
       "\t 1       & M       & 43      & 57      & 166     & 20.7    & No      & 25      &  0      &    0.00\\\\\n",
       "\t 1       & M       & 43      & 57      & 166     & 20.7    & No      & 25      &  1      &  660.13\\\\\n",
       "\t 1       & M       & 43      & 57      & 166     & 20.7    & No      & 25      &  6      &  178.92\\\\\n",
       "\t 1       & M       & 43      & 57      & 166     & 20.7    & No      & 25      & 12      &   88.99\\\\\n",
       "\t 1       & M       & 43      & 57      & 166     & 20.7    & No      & 25      & 24      &   42.71\\\\\n",
       "\t 2       & M       & 22      & 71      & 179     & 22.2    & No      & 25      &  0      &    0.00\\\\\n",
       "\t 2       & M       & 22      & 71      & 179     & 22.2    & No      & 25      &  1      &  445.55\\\\\n",
       "\t 2       & M       & 22      & 71      & 179     & 22.2    & No      & 25      &  6      &  129.31\\\\\n",
       "\t 2       & M       & 22      & 71      & 179     & 22.2    & No      & 25      & 12      &   93.33\\\\\n",
       "\t 2       & M       & 22      & 71      & 179     & 22.2    & No      & 25      & 24      &   46.11\\\\\n",
       "\t 3       & F       & 23      & 72      & 170     & 25.1    & No      & 25      &  0      &    0.00\\\\\n",
       "\t 3       & F       & 23      & 72      & 170     & 25.1    & No      & 25      &  1      &  500.65\\\\\n",
       "\t 3       & F       & 23      & 72      & 170     & 25.1    & No      & 25      &  6      &  146.04\\\\\n",
       "\t 3       & F       & 23      & 72      & 170     & 25.1    & No      & 25      & 12      &  116.93\\\\\n",
       "\t 3       & F       & 23      & 72      & 170     & 25.1    & No      & 25      & 24      &   68.25\\\\\n",
       "\t 4       & M       & 25      & 76      & 188     & 21.4    & No      & 25      &  0      &    0.00\\\\\n",
       "\t 4       & M       & 25      & 76      & 188     & 21.4    & No      & 25      &  1      &  533.65\\\\\n",
       "\t 4       & M       & 25      & 76      & 188     & 21.4    & No      & 25      &  6      &  179.55\\\\\n",
       "\t 4       & M       & 25      & 76      & 188     & 21.4    & No      & 25      & 12      &  123.07\\\\\n",
       "\t 4       & M       & 25      & 76      & 188     & 21.4    & No      & 25      & 24      &   47.45\\\\\n",
       "\t 5       & M       & 29      & 82      & 175     & 26.8    & No      & 25      &  0      &    0.00\\\\\n",
       "\t 5       & M       & 29      & 82      & 175     & 26.8    & No      & 25      &  1      &  458.33\\\\\n",
       "\t 5       & M       & 29      & 82      & 175     & 26.8    & No      & 25      &  6      &  144.73\\\\\n",
       "\t 5       & M       & 29      & 82      & 175     & 26.8    & No      & 25      & 12      &   97.18\\\\\n",
       "\t 5       & M       & 29      & 82      & 175     & 26.8    & No      & 25      & 24      &   45.34\\\\\n",
       "\t 6       & F       & 29      & 67      & 169     & 23.5    & No      & 50      &  0      &    0.00\\\\\n",
       "\t 6       & F       & 29      & 67      & 169     & 23.5    & No      & 50      &  1      & 1100.57\\\\\n",
       "\t 6       & F       & 29      & 67      & 169     & 23.5    & No      & 50      &  6      &  274.80\\\\\n",
       "\t 6       & F       & 29      & 67      & 169     & 23.5    & No      & 50      & 12      &  139.53\\\\\n",
       "\t 6       & F       & 29      & 67      & 169     & 23.5    & No      & 50      & 24      &   97.79\\\\\n",
       "\t ... & ... & ... & ... & ... & ... & ... & ... & ... & ...\\\\\n",
       "\t 28      & F       & 28      & 69      & 172     & 23.4    & No      & 100     &  0      &    0.00\\\\\n",
       "\t 28      & F       & 28      & 69      & 172     & 23.4    & No      & 100     &  1      & 1330.19\\\\\n",
       "\t 28      & F       & 28      & 69      & 172     & 23.4    & No      & 100     &  6      &  443.00\\\\\n",
       "\t 28      & F       & 28      & 69      & 172     & 23.4    & No      & 100     & 12      &  376.16\\\\\n",
       "\t 28      & F       & 28      & 69      & 172     & 23.4    & No      & 100     & 24      &  209.43\\\\\n",
       "\t 29      & M       & 44      & 81      & 175     & 26.4    & Yes     & 100     &  0      &    0.00\\\\\n",
       "\t 29      & M       & 44      & 81      & 175     & 26.4    & Yes     & 100     &  1      &  949.49\\\\\n",
       "\t 29      & M       & 44      & 81      & 175     & 26.4    & Yes     & 100     &  6      &  740.44\\\\\n",
       "\t 29      & M       & 44      & 81      & 175     & 26.4    & Yes     & 100     & 12      &  533.18\\\\\n",
       "\t 29      & M       & 44      & 81      & 175     & 26.4    & Yes     & 100     & 24      &  309.15\\\\\n",
       "\t 30      & F       & 33      & 61      & 175     & 19.9    & No      & 100     &  0      &    0.00\\\\\n",
       "\t 30      & F       & 33      & 61      & 175     & 19.9    & No      & 100     &  1      & 1917.33\\\\\n",
       "\t 30      & F       & 33      & 61      & 175     & 19.9    & No      & 100     &  6      &  610.28\\\\\n",
       "\t 30      & F       & 33      & 61      & 175     & 19.9    & No      & 100     & 12      &  544.72\\\\\n",
       "\t 30      & F       & 33      & 61      & 175     & 19.9    & No      & 100     & 24      &  202.65\\\\\n",
       "\t 31      & M       & 25      & 76      & 174     & 25.1    & No      & 100     &  0      &    0.00\\\\\n",
       "\t 31      & M       & 25      & 76      & 174     & 25.1    & No      & 100     &  1      & 2025.85\\\\\n",
       "\t 31      & M       & 25      & 76      & 174     & 25.1    & No      & 100     &  6      &  892.14\\\\\n",
       "\t 31      & M       & 25      & 76      & 174     & 25.1    & No      & 100     & 12      &  505.96\\\\\n",
       "\t 31      & M       & 25      & 76      & 174     & 25.1    & No      & 100     & 24      &  310.79\\\\\n",
       "\t 32      & M       & 25      & 75      & 177     & 24.1    & No      & 100     &  0      &    0.00\\\\\n",
       "\t 32      & M       & 25      & 75      & 177     & 24.1    & No      & 100     &  1      & 1257.80\\\\\n",
       "\t 32      & M       & 25      & 75      & 177     & 24.1    & No      & 100     &  6      &  625.96\\\\\n",
       "\t 32      & M       & 25      & 75      & 177     & 24.1    & No      & 100     & 12      &  507.09\\\\\n",
       "\t 32      & M       & 25      & 75      & 177     & 24.1    & No      & 100     & 24      &  204.11\\\\\n",
       "\t 33      & M       & 30      & 80      & 180     & 24.8    & No      &  25     &  0      &    0.00\\\\\n",
       "\t 33      & M       & 30      & 80      & 180     & 24.8    & No      &  25     &  1      &  453.13\\\\\n",
       "\t 33      & M       & 30      & 80      & 180     & 24.8    & No      &  25     &  6      &  205.30\\\\\n",
       "\t 33      & M       & 30      & 80      & 180     & 24.8    & No      &  25     & 12      &  146.69\\\\\n",
       "\t 33      & M       & 30      & 80      & 180     & 24.8    & No      &  25     & 24      &   46.84\\\\\n",
       "\\end{tabular}\n"
      ],
      "text/markdown": [
       "\n",
       "Subject | Sex | Age | Weight | Height | BMI | Smokes | Dose | Time | Conc | \n",
       "|---|---|---|---|---|---|---|---|---|---|---|---|---|---|---|---|---|---|---|---|---|---|---|---|---|---|---|---|---|---|---|---|---|---|---|---|---|---|---|---|---|---|---|---|---|---|---|---|---|---|---|---|---|---|---|---|---|---|---|---|---|\n",
       "| 1       | M       | 43      | 57      | 166     | 20.7    | No      | 25      |  0      |    0.00 | \n",
       "| 1       | M       | 43      | 57      | 166     | 20.7    | No      | 25      |  1      |  660.13 | \n",
       "| 1       | M       | 43      | 57      | 166     | 20.7    | No      | 25      |  6      |  178.92 | \n",
       "| 1       | M       | 43      | 57      | 166     | 20.7    | No      | 25      | 12      |   88.99 | \n",
       "| 1       | M       | 43      | 57      | 166     | 20.7    | No      | 25      | 24      |   42.71 | \n",
       "| 2       | M       | 22      | 71      | 179     | 22.2    | No      | 25      |  0      |    0.00 | \n",
       "| 2       | M       | 22      | 71      | 179     | 22.2    | No      | 25      |  1      |  445.55 | \n",
       "| 2       | M       | 22      | 71      | 179     | 22.2    | No      | 25      |  6      |  129.31 | \n",
       "| 2       | M       | 22      | 71      | 179     | 22.2    | No      | 25      | 12      |   93.33 | \n",
       "| 2       | M       | 22      | 71      | 179     | 22.2    | No      | 25      | 24      |   46.11 | \n",
       "| 3       | F       | 23      | 72      | 170     | 25.1    | No      | 25      |  0      |    0.00 | \n",
       "| 3       | F       | 23      | 72      | 170     | 25.1    | No      | 25      |  1      |  500.65 | \n",
       "| 3       | F       | 23      | 72      | 170     | 25.1    | No      | 25      |  6      |  146.04 | \n",
       "| 3       | F       | 23      | 72      | 170     | 25.1    | No      | 25      | 12      |  116.93 | \n",
       "| 3       | F       | 23      | 72      | 170     | 25.1    | No      | 25      | 24      |   68.25 | \n",
       "| 4       | M       | 25      | 76      | 188     | 21.4    | No      | 25      |  0      |    0.00 | \n",
       "| 4       | M       | 25      | 76      | 188     | 21.4    | No      | 25      |  1      |  533.65 | \n",
       "| 4       | M       | 25      | 76      | 188     | 21.4    | No      | 25      |  6      |  179.55 | \n",
       "| 4       | M       | 25      | 76      | 188     | 21.4    | No      | 25      | 12      |  123.07 | \n",
       "| 4       | M       | 25      | 76      | 188     | 21.4    | No      | 25      | 24      |   47.45 | \n",
       "| 5       | M       | 29      | 82      | 175     | 26.8    | No      | 25      |  0      |    0.00 | \n",
       "| 5       | M       | 29      | 82      | 175     | 26.8    | No      | 25      |  1      |  458.33 | \n",
       "| 5       | M       | 29      | 82      | 175     | 26.8    | No      | 25      |  6      |  144.73 | \n",
       "| 5       | M       | 29      | 82      | 175     | 26.8    | No      | 25      | 12      |   97.18 | \n",
       "| 5       | M       | 29      | 82      | 175     | 26.8    | No      | 25      | 24      |   45.34 | \n",
       "| 6       | F       | 29      | 67      | 169     | 23.5    | No      | 50      |  0      |    0.00 | \n",
       "| 6       | F       | 29      | 67      | 169     | 23.5    | No      | 50      |  1      | 1100.57 | \n",
       "| 6       | F       | 29      | 67      | 169     | 23.5    | No      | 50      |  6      |  274.80 | \n",
       "| 6       | F       | 29      | 67      | 169     | 23.5    | No      | 50      | 12      |  139.53 | \n",
       "| 6       | F       | 29      | 67      | 169     | 23.5    | No      | 50      | 24      |   97.79 | \n",
       "| ... | ... | ... | ... | ... | ... | ... | ... | ... | ... | \n",
       "| 28      | F       | 28      | 69      | 172     | 23.4    | No      | 100     |  0      |    0.00 | \n",
       "| 28      | F       | 28      | 69      | 172     | 23.4    | No      | 100     |  1      | 1330.19 | \n",
       "| 28      | F       | 28      | 69      | 172     | 23.4    | No      | 100     |  6      |  443.00 | \n",
       "| 28      | F       | 28      | 69      | 172     | 23.4    | No      | 100     | 12      |  376.16 | \n",
       "| 28      | F       | 28      | 69      | 172     | 23.4    | No      | 100     | 24      |  209.43 | \n",
       "| 29      | M       | 44      | 81      | 175     | 26.4    | Yes     | 100     |  0      |    0.00 | \n",
       "| 29      | M       | 44      | 81      | 175     | 26.4    | Yes     | 100     |  1      |  949.49 | \n",
       "| 29      | M       | 44      | 81      | 175     | 26.4    | Yes     | 100     |  6      |  740.44 | \n",
       "| 29      | M       | 44      | 81      | 175     | 26.4    | Yes     | 100     | 12      |  533.18 | \n",
       "| 29      | M       | 44      | 81      | 175     | 26.4    | Yes     | 100     | 24      |  309.15 | \n",
       "| 30      | F       | 33      | 61      | 175     | 19.9    | No      | 100     |  0      |    0.00 | \n",
       "| 30      | F       | 33      | 61      | 175     | 19.9    | No      | 100     |  1      | 1917.33 | \n",
       "| 30      | F       | 33      | 61      | 175     | 19.9    | No      | 100     |  6      |  610.28 | \n",
       "| 30      | F       | 33      | 61      | 175     | 19.9    | No      | 100     | 12      |  544.72 | \n",
       "| 30      | F       | 33      | 61      | 175     | 19.9    | No      | 100     | 24      |  202.65 | \n",
       "| 31      | M       | 25      | 76      | 174     | 25.1    | No      | 100     |  0      |    0.00 | \n",
       "| 31      | M       | 25      | 76      | 174     | 25.1    | No      | 100     |  1      | 2025.85 | \n",
       "| 31      | M       | 25      | 76      | 174     | 25.1    | No      | 100     |  6      |  892.14 | \n",
       "| 31      | M       | 25      | 76      | 174     | 25.1    | No      | 100     | 12      |  505.96 | \n",
       "| 31      | M       | 25      | 76      | 174     | 25.1    | No      | 100     | 24      |  310.79 | \n",
       "| 32      | M       | 25      | 75      | 177     | 24.1    | No      | 100     |  0      |    0.00 | \n",
       "| 32      | M       | 25      | 75      | 177     | 24.1    | No      | 100     |  1      | 1257.80 | \n",
       "| 32      | M       | 25      | 75      | 177     | 24.1    | No      | 100     |  6      |  625.96 | \n",
       "| 32      | M       | 25      | 75      | 177     | 24.1    | No      | 100     | 12      |  507.09 | \n",
       "| 32      | M       | 25      | 75      | 177     | 24.1    | No      | 100     | 24      |  204.11 | \n",
       "| 33      | M       | 30      | 80      | 180     | 24.8    | No      |  25     |  0      |    0.00 | \n",
       "| 33      | M       | 30      | 80      | 180     | 24.8    | No      |  25     |  1      |  453.13 | \n",
       "| 33      | M       | 30      | 80      | 180     | 24.8    | No      |  25     |  6      |  205.30 | \n",
       "| 33      | M       | 30      | 80      | 180     | 24.8    | No      |  25     | 12      |  146.69 | \n",
       "| 33      | M       | 30      | 80      | 180     | 24.8    | No      |  25     | 24      |   46.84 | \n",
       "\n",
       "\n"
      ],
      "text/plain": [
       "    Subject Sex Age Weight Height BMI  Smokes Dose Time Conc   \n",
       "1   1       M   43  57     166    20.7 No     25    0      0.00\n",
       "2   1       M   43  57     166    20.7 No     25    1    660.13\n",
       "3   1       M   43  57     166    20.7 No     25    6    178.92\n",
       "4   1       M   43  57     166    20.7 No     25   12     88.99\n",
       "5   1       M   43  57     166    20.7 No     25   24     42.71\n",
       "6   2       M   22  71     179    22.2 No     25    0      0.00\n",
       "7   2       M   22  71     179    22.2 No     25    1    445.55\n",
       "8   2       M   22  71     179    22.2 No     25    6    129.31\n",
       "9   2       M   22  71     179    22.2 No     25   12     93.33\n",
       "10  2       M   22  71     179    22.2 No     25   24     46.11\n",
       "11  3       F   23  72     170    25.1 No     25    0      0.00\n",
       "12  3       F   23  72     170    25.1 No     25    1    500.65\n",
       "13  3       F   23  72     170    25.1 No     25    6    146.04\n",
       "14  3       F   23  72     170    25.1 No     25   12    116.93\n",
       "15  3       F   23  72     170    25.1 No     25   24     68.25\n",
       "16  4       M   25  76     188    21.4 No     25    0      0.00\n",
       "17  4       M   25  76     188    21.4 No     25    1    533.65\n",
       "18  4       M   25  76     188    21.4 No     25    6    179.55\n",
       "19  4       M   25  76     188    21.4 No     25   12    123.07\n",
       "20  4       M   25  76     188    21.4 No     25   24     47.45\n",
       "21  5       M   29  82     175    26.8 No     25    0      0.00\n",
       "22  5       M   29  82     175    26.8 No     25    1    458.33\n",
       "23  5       M   29  82     175    26.8 No     25    6    144.73\n",
       "24  5       M   29  82     175    26.8 No     25   12     97.18\n",
       "25  5       M   29  82     175    26.8 No     25   24     45.34\n",
       "26  6       F   29  67     169    23.5 No     50    0      0.00\n",
       "27  6       F   29  67     169    23.5 No     50    1   1100.57\n",
       "28  6       F   29  67     169    23.5 No     50    6    274.80\n",
       "29  6       F   29  67     169    23.5 No     50   12    139.53\n",
       "30  6       F   29  67     169    23.5 No     50   24     97.79\n",
       "... ...     ... ... ...    ...    ...  ...    ...  ...  ...    \n",
       "136 28      F   28  69     172    23.4 No     100   0      0.00\n",
       "137 28      F   28  69     172    23.4 No     100   1   1330.19\n",
       "138 28      F   28  69     172    23.4 No     100   6    443.00\n",
       "139 28      F   28  69     172    23.4 No     100  12    376.16\n",
       "140 28      F   28  69     172    23.4 No     100  24    209.43\n",
       "141 29      M   44  81     175    26.4 Yes    100   0      0.00\n",
       "142 29      M   44  81     175    26.4 Yes    100   1    949.49\n",
       "143 29      M   44  81     175    26.4 Yes    100   6    740.44\n",
       "144 29      M   44  81     175    26.4 Yes    100  12    533.18\n",
       "145 29      M   44  81     175    26.4 Yes    100  24    309.15\n",
       "146 30      F   33  61     175    19.9 No     100   0      0.00\n",
       "147 30      F   33  61     175    19.9 No     100   1   1917.33\n",
       "148 30      F   33  61     175    19.9 No     100   6    610.28\n",
       "149 30      F   33  61     175    19.9 No     100  12    544.72\n",
       "150 30      F   33  61     175    19.9 No     100  24    202.65\n",
       "151 31      M   25  76     174    25.1 No     100   0      0.00\n",
       "152 31      M   25  76     174    25.1 No     100   1   2025.85\n",
       "153 31      M   25  76     174    25.1 No     100   6    892.14\n",
       "154 31      M   25  76     174    25.1 No     100  12    505.96\n",
       "155 31      M   25  76     174    25.1 No     100  24    310.79\n",
       "156 32      M   25  75     177    24.1 No     100   0      0.00\n",
       "157 32      M   25  75     177    24.1 No     100   1   1257.80\n",
       "158 32      M   25  75     177    24.1 No     100   6    625.96\n",
       "159 32      M   25  75     177    24.1 No     100  12    507.09\n",
       "160 32      M   25  75     177    24.1 No     100  24    204.11\n",
       "161 33      M   30  80     180    24.8 No      25   0      0.00\n",
       "162 33      M   30  80     180    24.8 No      25   1    453.13\n",
       "163 33      M   30  80     180    24.8 No      25   6    205.30\n",
       "164 33      M   30  80     180    24.8 No      25  12    146.69\n",
       "165 33      M   30  80     180    24.8 No      25  24     46.84"
      ]
     },
     "metadata": {},
     "output_type": "display_data"
    }
   ],
   "source": [
    "demoDT[pkDT]"
   ]
  },
  {
   "cell_type": "markdown",
   "metadata": {},
   "source": [
    "## Aggregation"
   ]
  },
  {
   "cell_type": "code",
   "execution_count": 62,
   "metadata": {
    "collapsed": false
   },
   "outputs": [
    {
     "data": {
      "text/html": [
       "<table>\n",
       "<thead><tr><th scope=col>Sex</th><th scope=col>V1</th></tr></thead>\n",
       "<tbody>\n",
       "\t<tr><td>M       </td><td>176.5652</td></tr>\n",
       "\t<tr><td>F       </td><td>175.2000</td></tr>\n",
       "</tbody>\n",
       "</table>\n"
      ],
      "text/latex": [
       "\\begin{tabular}{r|ll}\n",
       " Sex & V1\\\\\n",
       "\\hline\n",
       "\t M        & 176.5652\\\\\n",
       "\t F        & 175.2000\\\\\n",
       "\\end{tabular}\n"
      ],
      "text/markdown": [
       "\n",
       "Sex | V1 | \n",
       "|---|---|\n",
       "| M        | 176.5652 | \n",
       "| F        | 175.2000 | \n",
       "\n",
       "\n"
      ],
      "text/plain": [
       "  Sex V1      \n",
       "1 M   176.5652\n",
       "2 F   175.2000"
      ]
     },
     "metadata": {},
     "output_type": "display_data"
    }
   ],
   "source": [
    "# Calculate the mean height\n",
    "demoDT[, mean(Height), by=Sex]"
   ]
  },
  {
   "cell_type": "code",
   "execution_count": 63,
   "metadata": {
    "collapsed": false
   },
   "outputs": [
    {
     "data": {
      "text/html": [
       "<table>\n",
       "<thead><tr><th scope=col>Sex</th><th scope=col>Smokes</th><th scope=col>V1</th></tr></thead>\n",
       "<tbody>\n",
       "\t<tr><td>M       </td><td>No      </td><td>177.3158</td></tr>\n",
       "\t<tr><td>F       </td><td>No      </td><td>173.7500</td></tr>\n",
       "\t<tr><td>M       </td><td>Yes     </td><td>173.0000</td></tr>\n",
       "\t<tr><td>F       </td><td>Yes     </td><td>181.0000</td></tr>\n",
       "</tbody>\n",
       "</table>\n"
      ],
      "text/latex": [
       "\\begin{tabular}{r|lll}\n",
       " Sex & Smokes & V1\\\\\n",
       "\\hline\n",
       "\t M        & No       & 177.3158\\\\\n",
       "\t F        & No       & 173.7500\\\\\n",
       "\t M        & Yes      & 173.0000\\\\\n",
       "\t F        & Yes      & 181.0000\\\\\n",
       "\\end{tabular}\n"
      ],
      "text/markdown": [
       "\n",
       "Sex | Smokes | V1 | \n",
       "|---|---|---|---|\n",
       "| M        | No       | 177.3158 | \n",
       "| F        | No       | 173.7500 | \n",
       "| M        | Yes      | 173.0000 | \n",
       "| F        | Yes      | 181.0000 | \n",
       "\n",
       "\n"
      ],
      "text/plain": [
       "  Sex Smokes V1      \n",
       "1 M   No     177.3158\n",
       "2 F   No     173.7500\n",
       "3 M   Yes    173.0000\n",
       "4 F   Yes    181.0000"
      ]
     },
     "metadata": {},
     "output_type": "display_data"
    }
   ],
   "source": [
    "# Counting records\n",
    "demoDT[,mean(Height), by=list(Sex, Smokes)]"
   ]
  },
  {
   "cell_type": "code",
   "execution_count": 65,
   "metadata": {
    "collapsed": false
   },
   "outputs": [
    {
     "name": "stdout",
     "output_type": "stream",
     "text": [
      "   Sex Smokes mean.Height mean.Weight\n",
      "1:   M     No    177.3158    74.10526\n",
      "2:   F     No    173.7500    69.87500\n",
      "3:   M    Yes    173.0000    74.25000\n",
      "4:   F    Yes    181.0000    72.00000\n"
     ]
    }
   ],
   "source": [
    "print(demoDT[,list(mean.Height=mean(Height), mean.Weight=mean(Weight)), by=list(Sex, Smokes)])"
   ]
  },
  {
   "cell_type": "code",
   "execution_count": 66,
   "metadata": {
    "collapsed": false
   },
   "outputs": [
    {
     "data": {
      "text/html": [
       "<table>\n",
       "<thead><tr><th scope=col>Subject</th><th scope=col>Sex</th><th scope=col>Age</th><th scope=col>Weight</th><th scope=col>Height</th><th scope=col>BMI</th><th scope=col>Smokes</th><th scope=col>MeanWeightBySex</th></tr></thead>\n",
       "<tbody>\n",
       "\t<tr><td> 1      </td><td>M       </td><td>43      </td><td>57      </td><td>166     </td><td>20.7    </td><td>No      </td><td>74.13043</td></tr>\n",
       "\t<tr><td> 2      </td><td>M       </td><td>22      </td><td>71      </td><td>179     </td><td>22.2    </td><td>No      </td><td>74.13043</td></tr>\n",
       "\t<tr><td> 3      </td><td>F       </td><td>23      </td><td>72      </td><td>170     </td><td>25.1    </td><td>No      </td><td>70.30000</td></tr>\n",
       "\t<tr><td> 4      </td><td>M       </td><td>25      </td><td>76      </td><td>188     </td><td>21.4    </td><td>No      </td><td>74.13043</td></tr>\n",
       "\t<tr><td> 5      </td><td>M       </td><td>29      </td><td>82      </td><td>175     </td><td>26.8    </td><td>No      </td><td>74.13043</td></tr>\n",
       "\t<tr><td> 6      </td><td>F       </td><td>29      </td><td>67      </td><td>169     </td><td>23.5    </td><td>No      </td><td>70.30000</td></tr>\n",
       "\t<tr><td> 7      </td><td>M       </td><td>28      </td><td>69      </td><td>166     </td><td>25.0    </td><td>Yes     </td><td>74.13043</td></tr>\n",
       "\t<tr><td> 8      </td><td>M       </td><td>23      </td><td>73      </td><td>183     </td><td>21.9    </td><td>No      </td><td>74.13043</td></tr>\n",
       "\t<tr><td> 9      </td><td>M       </td><td>40      </td><td>79      </td><td>187     </td><td>22.6    </td><td>No      </td><td>74.13043</td></tr>\n",
       "\t<tr><td>10      </td><td>M       </td><td>23      </td><td>71      </td><td>188     </td><td>20.1    </td><td>No      </td><td>74.13043</td></tr>\n",
       "\t<tr><td>11      </td><td>M       </td><td>38      </td><td>81      </td><td>174     </td><td>26.8    </td><td>No      </td><td>74.13043</td></tr>\n",
       "\t<tr><td>12      </td><td>F       </td><td>32      </td><td>77      </td><td>182     </td><td>23.1    </td><td>No      </td><td>70.30000</td></tr>\n",
       "\t<tr><td>13      </td><td>M       </td><td>21      </td><td>77      </td><td>180     </td><td>23.6    </td><td>No      </td><td>74.13043</td></tr>\n",
       "\t<tr><td>14      </td><td>M       </td><td>26      </td><td>64      </td><td>170     </td><td>22.0    </td><td>No      </td><td>74.13043</td></tr>\n",
       "\t<tr><td>15      </td><td>F       </td><td>27      </td><td>73      </td><td>172     </td><td>24.8    </td><td>No      </td><td>70.30000</td></tr>\n",
       "\t<tr><td>16      </td><td>M       </td><td>29      </td><td>73      </td><td>169     </td><td>25.6    </td><td>No      </td><td>74.13043</td></tr>\n",
       "\t<tr><td>17      </td><td>F       </td><td>41      </td><td>62      </td><td>172     </td><td>20.9    </td><td>Yes     </td><td>70.30000</td></tr>\n",
       "\t<tr><td>18      </td><td>M       </td><td>29      </td><td>66      </td><td>168     </td><td>23.2    </td><td>No      </td><td>74.13043</td></tr>\n",
       "\t<tr><td>19      </td><td>M       </td><td>25      </td><td>67      </td><td>171     </td><td>23.0    </td><td>Yes     </td><td>74.13043</td></tr>\n",
       "\t<tr><td>20      </td><td>M       </td><td>22      </td><td>77      </td><td>183     </td><td>23.1    </td><td>No      </td><td>74.13043</td></tr>\n",
       "\t<tr><td>21      </td><td>M       </td><td>26      </td><td>84      </td><td>183     </td><td>25.0    </td><td>No      </td><td>74.13043</td></tr>\n",
       "\t<tr><td>22      </td><td>M       </td><td>27      </td><td>61      </td><td>170     </td><td>21.0    </td><td>No      </td><td>74.13043</td></tr>\n",
       "\t<tr><td>23      </td><td>F       </td><td>26      </td><td>82      </td><td>175     </td><td>26.8    </td><td>No      </td><td>70.30000</td></tr>\n",
       "\t<tr><td>24      </td><td>M       </td><td>21      </td><td>80      </td><td>180     </td><td>24.8    </td><td>Yes     </td><td>74.13043</td></tr>\n",
       "\t<tr><td>25      </td><td>M       </td><td>35      </td><td>85      </td><td>175     </td><td>27.7    </td><td>No      </td><td>74.13043</td></tr>\n",
       "\t<tr><td>26      </td><td>F       </td><td>25      </td><td>58      </td><td>175     </td><td>18.9    </td><td>No      </td><td>70.30000</td></tr>\n",
       "\t<tr><td>27      </td><td>F       </td><td>36      </td><td>82      </td><td>190     </td><td>22.6    </td><td>Yes     </td><td>70.30000</td></tr>\n",
       "\t<tr><td>28      </td><td>F       </td><td>28      </td><td>69      </td><td>172     </td><td>23.4    </td><td>No      </td><td>70.30000</td></tr>\n",
       "\t<tr><td>29      </td><td>M       </td><td>44      </td><td>81      </td><td>175     </td><td>26.4    </td><td>Yes     </td><td>74.13043</td></tr>\n",
       "\t<tr><td>30      </td><td>F       </td><td>33      </td><td>61      </td><td>175     </td><td>19.9    </td><td>No      </td><td>70.30000</td></tr>\n",
       "\t<tr><td>31      </td><td>M       </td><td>25      </td><td>76      </td><td>174     </td><td>25.1    </td><td>No      </td><td>74.13043</td></tr>\n",
       "\t<tr><td>32      </td><td>M       </td><td>25      </td><td>75      </td><td>177     </td><td>24.1    </td><td>No      </td><td>74.13043</td></tr>\n",
       "\t<tr><td>33      </td><td>M       </td><td>30      </td><td>80      </td><td>180     </td><td>24.8    </td><td>No      </td><td>74.13043</td></tr>\n",
       "</tbody>\n",
       "</table>\n"
      ],
      "text/latex": [
       "\\begin{tabular}{r|llllllll}\n",
       " Subject & Sex & Age & Weight & Height & BMI & Smokes & MeanWeightBySex\\\\\n",
       "\\hline\n",
       "\t  1       & M        & 43       & 57       & 166      & 20.7     & No       & 74.13043\\\\\n",
       "\t  2       & M        & 22       & 71       & 179      & 22.2     & No       & 74.13043\\\\\n",
       "\t  3       & F        & 23       & 72       & 170      & 25.1     & No       & 70.30000\\\\\n",
       "\t  4       & M        & 25       & 76       & 188      & 21.4     & No       & 74.13043\\\\\n",
       "\t  5       & M        & 29       & 82       & 175      & 26.8     & No       & 74.13043\\\\\n",
       "\t  6       & F        & 29       & 67       & 169      & 23.5     & No       & 70.30000\\\\\n",
       "\t  7       & M        & 28       & 69       & 166      & 25.0     & Yes      & 74.13043\\\\\n",
       "\t  8       & M        & 23       & 73       & 183      & 21.9     & No       & 74.13043\\\\\n",
       "\t  9       & M        & 40       & 79       & 187      & 22.6     & No       & 74.13043\\\\\n",
       "\t 10       & M        & 23       & 71       & 188      & 20.1     & No       & 74.13043\\\\\n",
       "\t 11       & M        & 38       & 81       & 174      & 26.8     & No       & 74.13043\\\\\n",
       "\t 12       & F        & 32       & 77       & 182      & 23.1     & No       & 70.30000\\\\\n",
       "\t 13       & M        & 21       & 77       & 180      & 23.6     & No       & 74.13043\\\\\n",
       "\t 14       & M        & 26       & 64       & 170      & 22.0     & No       & 74.13043\\\\\n",
       "\t 15       & F        & 27       & 73       & 172      & 24.8     & No       & 70.30000\\\\\n",
       "\t 16       & M        & 29       & 73       & 169      & 25.6     & No       & 74.13043\\\\\n",
       "\t 17       & F        & 41       & 62       & 172      & 20.9     & Yes      & 70.30000\\\\\n",
       "\t 18       & M        & 29       & 66       & 168      & 23.2     & No       & 74.13043\\\\\n",
       "\t 19       & M        & 25       & 67       & 171      & 23.0     & Yes      & 74.13043\\\\\n",
       "\t 20       & M        & 22       & 77       & 183      & 23.1     & No       & 74.13043\\\\\n",
       "\t 21       & M        & 26       & 84       & 183      & 25.0     & No       & 74.13043\\\\\n",
       "\t 22       & M        & 27       & 61       & 170      & 21.0     & No       & 74.13043\\\\\n",
       "\t 23       & F        & 26       & 82       & 175      & 26.8     & No       & 70.30000\\\\\n",
       "\t 24       & M        & 21       & 80       & 180      & 24.8     & Yes      & 74.13043\\\\\n",
       "\t 25       & M        & 35       & 85       & 175      & 27.7     & No       & 74.13043\\\\\n",
       "\t 26       & F        & 25       & 58       & 175      & 18.9     & No       & 70.30000\\\\\n",
       "\t 27       & F        & 36       & 82       & 190      & 22.6     & Yes      & 70.30000\\\\\n",
       "\t 28       & F        & 28       & 69       & 172      & 23.4     & No       & 70.30000\\\\\n",
       "\t 29       & M        & 44       & 81       & 175      & 26.4     & Yes      & 74.13043\\\\\n",
       "\t 30       & F        & 33       & 61       & 175      & 19.9     & No       & 70.30000\\\\\n",
       "\t 31       & M        & 25       & 76       & 174      & 25.1     & No       & 74.13043\\\\\n",
       "\t 32       & M        & 25       & 75       & 177      & 24.1     & No       & 74.13043\\\\\n",
       "\t 33       & M        & 30       & 80       & 180      & 24.8     & No       & 74.13043\\\\\n",
       "\\end{tabular}\n"
      ],
      "text/markdown": [
       "\n",
       "Subject | Sex | Age | Weight | Height | BMI | Smokes | MeanWeightBySex | \n",
       "|---|---|---|---|---|---|---|---|---|---|---|---|---|---|---|---|---|---|---|---|---|---|---|---|---|---|---|---|---|---|---|---|---|\n",
       "|  1       | M        | 43       | 57       | 166      | 20.7     | No       | 74.13043 | \n",
       "|  2       | M        | 22       | 71       | 179      | 22.2     | No       | 74.13043 | \n",
       "|  3       | F        | 23       | 72       | 170      | 25.1     | No       | 70.30000 | \n",
       "|  4       | M        | 25       | 76       | 188      | 21.4     | No       | 74.13043 | \n",
       "|  5       | M        | 29       | 82       | 175      | 26.8     | No       | 74.13043 | \n",
       "|  6       | F        | 29       | 67       | 169      | 23.5     | No       | 70.30000 | \n",
       "|  7       | M        | 28       | 69       | 166      | 25.0     | Yes      | 74.13043 | \n",
       "|  8       | M        | 23       | 73       | 183      | 21.9     | No       | 74.13043 | \n",
       "|  9       | M        | 40       | 79       | 187      | 22.6     | No       | 74.13043 | \n",
       "| 10       | M        | 23       | 71       | 188      | 20.1     | No       | 74.13043 | \n",
       "| 11       | M        | 38       | 81       | 174      | 26.8     | No       | 74.13043 | \n",
       "| 12       | F        | 32       | 77       | 182      | 23.1     | No       | 70.30000 | \n",
       "| 13       | M        | 21       | 77       | 180      | 23.6     | No       | 74.13043 | \n",
       "| 14       | M        | 26       | 64       | 170      | 22.0     | No       | 74.13043 | \n",
       "| 15       | F        | 27       | 73       | 172      | 24.8     | No       | 70.30000 | \n",
       "| 16       | M        | 29       | 73       | 169      | 25.6     | No       | 74.13043 | \n",
       "| 17       | F        | 41       | 62       | 172      | 20.9     | Yes      | 70.30000 | \n",
       "| 18       | M        | 29       | 66       | 168      | 23.2     | No       | 74.13043 | \n",
       "| 19       | M        | 25       | 67       | 171      | 23.0     | Yes      | 74.13043 | \n",
       "| 20       | M        | 22       | 77       | 183      | 23.1     | No       | 74.13043 | \n",
       "| 21       | M        | 26       | 84       | 183      | 25.0     | No       | 74.13043 | \n",
       "| 22       | M        | 27       | 61       | 170      | 21.0     | No       | 74.13043 | \n",
       "| 23       | F        | 26       | 82       | 175      | 26.8     | No       | 70.30000 | \n",
       "| 24       | M        | 21       | 80       | 180      | 24.8     | Yes      | 74.13043 | \n",
       "| 25       | M        | 35       | 85       | 175      | 27.7     | No       | 74.13043 | \n",
       "| 26       | F        | 25       | 58       | 175      | 18.9     | No       | 70.30000 | \n",
       "| 27       | F        | 36       | 82       | 190      | 22.6     | Yes      | 70.30000 | \n",
       "| 28       | F        | 28       | 69       | 172      | 23.4     | No       | 70.30000 | \n",
       "| 29       | M        | 44       | 81       | 175      | 26.4     | Yes      | 74.13043 | \n",
       "| 30       | F        | 33       | 61       | 175      | 19.9     | No       | 70.30000 | \n",
       "| 31       | M        | 25       | 76       | 174      | 25.1     | No       | 74.13043 | \n",
       "| 32       | M        | 25       | 75       | 177      | 24.1     | No       | 74.13043 | \n",
       "| 33       | M        | 30       | 80       | 180      | 24.8     | No       | 74.13043 | \n",
       "\n",
       "\n"
      ],
      "text/plain": [
       "   Subject Sex Age Weight Height BMI  Smokes MeanWeightBySex\n",
       "1   1      M   43  57     166    20.7 No     74.13043       \n",
       "2   2      M   22  71     179    22.2 No     74.13043       \n",
       "3   3      F   23  72     170    25.1 No     70.30000       \n",
       "4   4      M   25  76     188    21.4 No     74.13043       \n",
       "5   5      M   29  82     175    26.8 No     74.13043       \n",
       "6   6      F   29  67     169    23.5 No     70.30000       \n",
       "7   7      M   28  69     166    25.0 Yes    74.13043       \n",
       "8   8      M   23  73     183    21.9 No     74.13043       \n",
       "9   9      M   40  79     187    22.6 No     74.13043       \n",
       "10 10      M   23  71     188    20.1 No     74.13043       \n",
       "11 11      M   38  81     174    26.8 No     74.13043       \n",
       "12 12      F   32  77     182    23.1 No     70.30000       \n",
       "13 13      M   21  77     180    23.6 No     74.13043       \n",
       "14 14      M   26  64     170    22.0 No     74.13043       \n",
       "15 15      F   27  73     172    24.8 No     70.30000       \n",
       "16 16      M   29  73     169    25.6 No     74.13043       \n",
       "17 17      F   41  62     172    20.9 Yes    70.30000       \n",
       "18 18      M   29  66     168    23.2 No     74.13043       \n",
       "19 19      M   25  67     171    23.0 Yes    74.13043       \n",
       "20 20      M   22  77     183    23.1 No     74.13043       \n",
       "21 21      M   26  84     183    25.0 No     74.13043       \n",
       "22 22      M   27  61     170    21.0 No     74.13043       \n",
       "23 23      F   26  82     175    26.8 No     70.30000       \n",
       "24 24      M   21  80     180    24.8 Yes    74.13043       \n",
       "25 25      M   35  85     175    27.7 No     74.13043       \n",
       "26 26      F   25  58     175    18.9 No     70.30000       \n",
       "27 27      F   36  82     190    22.6 Yes    70.30000       \n",
       "28 28      F   28  69     172    23.4 No     70.30000       \n",
       "29 29      M   44  81     175    26.4 Yes    74.13043       \n",
       "30 30      F   33  61     175    19.9 No     70.30000       \n",
       "31 31      M   25  76     174    25.1 No     74.13043       \n",
       "32 32      M   25  75     177    24.1 No     74.13043       \n",
       "33 33      M   30  80     180    24.8 No     74.13043       "
      ]
     },
     "metadata": {},
     "output_type": "display_data"
    }
   ],
   "source": [
    "demoDT[,MeanWeightBySex := mean(Weight), by=Sex]"
   ]
  },
  {
   "cell_type": "code",
   "execution_count": null,
   "metadata": {
    "collapsed": true
   },
   "outputs": [],
   "source": []
  }
 ],
 "metadata": {
  "kernelspec": {
   "display_name": "R",
   "language": "R",
   "name": "ir"
  },
  "language_info": {
   "codemirror_mode": "r",
   "file_extension": ".r",
   "mimetype": "text/x-r-source",
   "name": "R",
   "pygments_lexer": "r",
   "version": "3.3.2"
  }
 },
 "nbformat": 4,
 "nbformat_minor": 2
}
