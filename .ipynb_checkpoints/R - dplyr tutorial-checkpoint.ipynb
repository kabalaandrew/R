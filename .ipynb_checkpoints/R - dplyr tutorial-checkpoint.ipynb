{
 "cells": [
  {
   "cell_type": "code",
   "execution_count": 1,
   "metadata": {
    "collapsed": false
   },
   "outputs": [
    {
     "name": "stderr",
     "output_type": "stream",
     "text": [
      "\n",
      "Attaching package: 'dplyr'\n",
      "\n",
      "The following objects are masked from 'package:stats':\n",
      "\n",
      "    filter, lag\n",
      "\n",
      "The following objects are masked from 'package:base':\n",
      "\n",
      "    intersect, setdiff, setequal, union\n",
      "\n"
     ]
    }
   ],
   "source": [
    "library(dplyr)"
   ]
  },
  {
   "cell_type": "code",
   "execution_count": 2,
   "metadata": {
    "collapsed": false
   },
   "outputs": [
    {
     "data": {
      "text/html": [
       "<table>\n",
       "<thead><tr><th scope=col>name</th><th scope=col>genus</th><th scope=col>vore</th><th scope=col>order</th><th scope=col>conservation</th><th scope=col>sleep_total</th><th scope=col>sleep_rem</th><th scope=col>sleep_cycle</th><th scope=col>awake</th><th scope=col>brainwt</th><th scope=col>bodywt</th></tr></thead>\n",
       "<tbody>\n",
       "\t<tr><td>Cheetah                   </td><td>Acinonyx                  </td><td>carni                     </td><td>Carnivora                 </td><td>lc                        </td><td>12.1                      </td><td> NA                       </td><td>       NA                 </td><td>11.9                      </td><td>     NA                   </td><td> 50.000                   </td></tr>\n",
       "\t<tr><td>Owl monkey                </td><td>Aotus                     </td><td>omni                      </td><td>Primates                  </td><td>NA                        </td><td>17.0                      </td><td>1.8                       </td><td>       NA                 </td><td> 7.0                      </td><td>0.01550                   </td><td>  0.480                   </td></tr>\n",
       "\t<tr><td>Mountain beaver           </td><td>Aplodontia                </td><td>herbi                     </td><td>Rodentia                  </td><td>nt                        </td><td>14.4                      </td><td>2.4                       </td><td>       NA                 </td><td> 9.6                      </td><td>     NA                   </td><td>  1.350                   </td></tr>\n",
       "\t<tr><td>Greater short-tailed shrew</td><td>Blarina                   </td><td>omni                      </td><td>Soricomorpha              </td><td>lc                        </td><td>14.9                      </td><td>2.3                       </td><td>0.1333333                 </td><td> 9.1                      </td><td>0.00029                   </td><td>  0.019                   </td></tr>\n",
       "\t<tr><td>Cow                       </td><td>Bos                       </td><td>herbi                     </td><td>Artiodactyla              </td><td>domesticated              </td><td> 4.0                      </td><td>0.7                       </td><td>0.6666667                 </td><td>20.0                      </td><td>0.42300                   </td><td>600.000                   </td></tr>\n",
       "\t<tr><td>Three-toed sloth          </td><td>Bradypus                  </td><td>herbi                     </td><td>Pilosa                    </td><td>NA                        </td><td>14.4                      </td><td>2.2                       </td><td>0.7666667                 </td><td> 9.6                      </td><td>     NA                   </td><td>  3.850                   </td></tr>\n",
       "</tbody>\n",
       "</table>\n"
      ],
      "text/latex": [
       "\\begin{tabular}{r|lllllllllll}\n",
       " name & genus & vore & order & conservation & sleep\\_total & sleep\\_rem & sleep\\_cycle & awake & brainwt & bodywt\\\\\n",
       "\\hline\n",
       "\t Cheetah                    & Acinonyx                   & carni                      & Carnivora                  & lc                         & 12.1                       &  NA                        &        NA                  & 11.9                       &      NA                    &  50.000                   \\\\\n",
       "\t Owl monkey                 & Aotus                      & omni                       & Primates                   & NA                         & 17.0                       & 1.8                        &        NA                  &  7.0                       & 0.01550                    &   0.480                   \\\\\n",
       "\t Mountain beaver            & Aplodontia                 & herbi                      & Rodentia                   & nt                         & 14.4                       & 2.4                        &        NA                  &  9.6                       &      NA                    &   1.350                   \\\\\n",
       "\t Greater short-tailed shrew & Blarina                    & omni                       & Soricomorpha               & lc                         & 14.9                       & 2.3                        & 0.1333333                  &  9.1                       & 0.00029                    &   0.019                   \\\\\n",
       "\t Cow                        & Bos                        & herbi                      & Artiodactyla               & domesticated               &  4.0                       & 0.7                        & 0.6666667                  & 20.0                       & 0.42300                    & 600.000                   \\\\\n",
       "\t Three-toed sloth           & Bradypus                   & herbi                      & Pilosa                     & NA                         & 14.4                       & 2.2                        & 0.7666667                  &  9.6                       &      NA                    &   3.850                   \\\\\n",
       "\\end{tabular}\n"
      ],
      "text/markdown": [
       "\n",
       "name | genus | vore | order | conservation | sleep_total | sleep_rem | sleep_cycle | awake | brainwt | bodywt | \n",
       "|---|---|---|---|---|---|\n",
       "| Cheetah                    | Acinonyx                   | carni                      | Carnivora                  | lc                         | 12.1                       |  NA                        |        NA                  | 11.9                       |      NA                    |  50.000                    | \n",
       "| Owl monkey                 | Aotus                      | omni                       | Primates                   | NA                         | 17.0                       | 1.8                        |        NA                  |  7.0                       | 0.01550                    |   0.480                    | \n",
       "| Mountain beaver            | Aplodontia                 | herbi                      | Rodentia                   | nt                         | 14.4                       | 2.4                        |        NA                  |  9.6                       |      NA                    |   1.350                    | \n",
       "| Greater short-tailed shrew | Blarina                    | omni                       | Soricomorpha               | lc                         | 14.9                       | 2.3                        | 0.1333333                  |  9.1                       | 0.00029                    |   0.019                    | \n",
       "| Cow                        | Bos                        | herbi                      | Artiodactyla               | domesticated               |  4.0                       | 0.7                        | 0.6666667                  | 20.0                       | 0.42300                    | 600.000                    | \n",
       "| Three-toed sloth           | Bradypus                   | herbi                      | Pilosa                     | NA                         | 14.4                       | 2.2                        | 0.7666667                  |  9.6                       |      NA                    |   3.850                    | \n",
       "\n",
       "\n"
      ],
      "text/plain": [
       "  name                       genus      vore  order        conservation\n",
       "1 Cheetah                    Acinonyx   carni Carnivora    lc          \n",
       "2 Owl monkey                 Aotus      omni  Primates     NA          \n",
       "3 Mountain beaver            Aplodontia herbi Rodentia     nt          \n",
       "4 Greater short-tailed shrew Blarina    omni  Soricomorpha lc          \n",
       "5 Cow                        Bos        herbi Artiodactyla domesticated\n",
       "6 Three-toed sloth           Bradypus   herbi Pilosa       NA          \n",
       "  sleep_total sleep_rem sleep_cycle awake brainwt bodywt \n",
       "1 12.1         NA              NA   11.9       NA  50.000\n",
       "2 17.0        1.8              NA    7.0  0.01550   0.480\n",
       "3 14.4        2.4              NA    9.6       NA   1.350\n",
       "4 14.9        2.3       0.1333333    9.1  0.00029   0.019\n",
       "5  4.0        0.7       0.6666667   20.0  0.42300 600.000\n",
       "6 14.4        2.2       0.7666667    9.6       NA   3.850"
      ]
     },
     "metadata": {},
     "output_type": "display_data"
    }
   ],
   "source": [
    "# Download data from the web\n",
    "library(downloader)\n",
    "url <- \"https://raw.githubusercontent.com/genomicsclass/dagdata/master/inst/extdata/msleep_ggplot2.csv\"\n",
    "filename <- \"msleep_ggplot2.csv\"\n",
    "if (!file.exists(filename)) download(url,filename)\n",
    "msleep <- read.csv(\"msleep_ggplot2.csv\")\n",
    "head(msleep)"
   ]
  },
  {
   "cell_type": "code",
   "execution_count": 3,
   "metadata": {
    "collapsed": false
   },
   "outputs": [
    {
     "data": {
      "text/html": [
       "<table>\n",
       "<thead><tr><th scope=col>name</th><th scope=col>sleep_total</th></tr></thead>\n",
       "<tbody>\n",
       "\t<tr><td>Cheetah                   </td><td>12.1                      </td></tr>\n",
       "\t<tr><td>Owl monkey                </td><td>17.0                      </td></tr>\n",
       "\t<tr><td>Mountain beaver           </td><td>14.4                      </td></tr>\n",
       "\t<tr><td>Greater short-tailed shrew</td><td>14.9                      </td></tr>\n",
       "\t<tr><td>Cow                       </td><td> 4.0                      </td></tr>\n",
       "\t<tr><td>Three-toed sloth          </td><td>14.4                      </td></tr>\n",
       "</tbody>\n",
       "</table>\n"
      ],
      "text/latex": [
       "\\begin{tabular}{r|ll}\n",
       " name & sleep\\_total\\\\\n",
       "\\hline\n",
       "\t Cheetah                    & 12.1                      \\\\\n",
       "\t Owl monkey                 & 17.0                      \\\\\n",
       "\t Mountain beaver            & 14.4                      \\\\\n",
       "\t Greater short-tailed shrew & 14.9                      \\\\\n",
       "\t Cow                        &  4.0                      \\\\\n",
       "\t Three-toed sloth           & 14.4                      \\\\\n",
       "\\end{tabular}\n"
      ],
      "text/markdown": [
       "\n",
       "name | sleep_total | \n",
       "|---|---|---|---|---|---|\n",
       "| Cheetah                    | 12.1                       | \n",
       "| Owl monkey                 | 17.0                       | \n",
       "| Mountain beaver            | 14.4                       | \n",
       "| Greater short-tailed shrew | 14.9                       | \n",
       "| Cow                        |  4.0                       | \n",
       "| Three-toed sloth           | 14.4                       | \n",
       "\n",
       "\n"
      ],
      "text/plain": [
       "  name                       sleep_total\n",
       "1 Cheetah                    12.1       \n",
       "2 Owl monkey                 17.0       \n",
       "3 Mountain beaver            14.4       \n",
       "4 Greater short-tailed shrew 14.9       \n",
       "5 Cow                         4.0       \n",
       "6 Three-toed sloth           14.4       "
      ]
     },
     "metadata": {},
     "output_type": "display_data"
    }
   ],
   "source": [
    "# Selecting a set of columns\n",
    "# select(dataframe, column_name1, columnname2)\n",
    "sleepData <- select(msleep, name, sleep_total)\n",
    "head(sleepData)"
   ]
  },
  {
   "cell_type": "code",
   "execution_count": 4,
   "metadata": {
    "collapsed": false
   },
   "outputs": [
    {
     "data": {
      "text/html": [
       "<table>\n",
       "<thead><tr><th scope=col>genus</th><th scope=col>vore</th><th scope=col>order</th><th scope=col>conservation</th><th scope=col>sleep_total</th><th scope=col>sleep_rem</th><th scope=col>sleep_cycle</th><th scope=col>awake</th><th scope=col>brainwt</th><th scope=col>bodywt</th></tr></thead>\n",
       "<tbody>\n",
       "\t<tr><td>Acinonyx    </td><td>carni       </td><td>Carnivora   </td><td>lc          </td><td>12.1        </td><td> NA         </td><td>       NA   </td><td>11.9        </td><td>     NA     </td><td> 50.000     </td></tr>\n",
       "\t<tr><td>Aotus       </td><td>omni        </td><td>Primates    </td><td>NA          </td><td>17.0        </td><td>1.8         </td><td>       NA   </td><td> 7.0        </td><td>0.01550     </td><td>  0.480     </td></tr>\n",
       "\t<tr><td>Aplodontia  </td><td>herbi       </td><td>Rodentia    </td><td>nt          </td><td>14.4        </td><td>2.4         </td><td>       NA   </td><td> 9.6        </td><td>     NA     </td><td>  1.350     </td></tr>\n",
       "\t<tr><td>Blarina     </td><td>omni        </td><td>Soricomorpha</td><td>lc          </td><td>14.9        </td><td>2.3         </td><td>0.1333333   </td><td> 9.1        </td><td>0.00029     </td><td>  0.019     </td></tr>\n",
       "\t<tr><td>Bos         </td><td>herbi       </td><td>Artiodactyla</td><td>domesticated</td><td> 4.0        </td><td>0.7         </td><td>0.6666667   </td><td>20.0        </td><td>0.42300     </td><td>600.000     </td></tr>\n",
       "\t<tr><td>Bradypus    </td><td>herbi       </td><td>Pilosa      </td><td>NA          </td><td>14.4        </td><td>2.2         </td><td>0.7666667   </td><td> 9.6        </td><td>     NA     </td><td>  3.850     </td></tr>\n",
       "</tbody>\n",
       "</table>\n"
      ],
      "text/latex": [
       "\\begin{tabular}{r|llllllllll}\n",
       " genus & vore & order & conservation & sleep\\_total & sleep\\_rem & sleep\\_cycle & awake & brainwt & bodywt\\\\\n",
       "\\hline\n",
       "\t Acinonyx     & carni        & Carnivora    & lc           & 12.1         &  NA          &        NA    & 11.9         &      NA      &  50.000     \\\\\n",
       "\t Aotus        & omni         & Primates     & NA           & 17.0         & 1.8          &        NA    &  7.0         & 0.01550      &   0.480     \\\\\n",
       "\t Aplodontia   & herbi        & Rodentia     & nt           & 14.4         & 2.4          &        NA    &  9.6         &      NA      &   1.350     \\\\\n",
       "\t Blarina      & omni         & Soricomorpha & lc           & 14.9         & 2.3          & 0.1333333    &  9.1         & 0.00029      &   0.019     \\\\\n",
       "\t Bos          & herbi        & Artiodactyla & domesticated &  4.0         & 0.7          & 0.6666667    & 20.0         & 0.42300      & 600.000     \\\\\n",
       "\t Bradypus     & herbi        & Pilosa       & NA           & 14.4         & 2.2          & 0.7666667    &  9.6         &      NA      &   3.850     \\\\\n",
       "\\end{tabular}\n"
      ],
      "text/markdown": [
       "\n",
       "genus | vore | order | conservation | sleep_total | sleep_rem | sleep_cycle | awake | brainwt | bodywt | \n",
       "|---|---|---|---|---|---|\n",
       "| Acinonyx     | carni        | Carnivora    | lc           | 12.1         |  NA          |        NA    | 11.9         |      NA      |  50.000      | \n",
       "| Aotus        | omni         | Primates     | NA           | 17.0         | 1.8          |        NA    |  7.0         | 0.01550      |   0.480      | \n",
       "| Aplodontia   | herbi        | Rodentia     | nt           | 14.4         | 2.4          |        NA    |  9.6         |      NA      |   1.350      | \n",
       "| Blarina      | omni         | Soricomorpha | lc           | 14.9         | 2.3          | 0.1333333    |  9.1         | 0.00029      |   0.019      | \n",
       "| Bos          | herbi        | Artiodactyla | domesticated |  4.0         | 0.7          | 0.6666667    | 20.0         | 0.42300      | 600.000      | \n",
       "| Bradypus     | herbi        | Pilosa       | NA           | 14.4         | 2.2          | 0.7666667    |  9.6         |      NA      |   3.850      | \n",
       "\n",
       "\n"
      ],
      "text/plain": [
       "  genus      vore  order        conservation sleep_total sleep_rem sleep_cycle\n",
       "1 Acinonyx   carni Carnivora    lc           12.1         NA              NA  \n",
       "2 Aotus      omni  Primates     NA           17.0        1.8              NA  \n",
       "3 Aplodontia herbi Rodentia     nt           14.4        2.4              NA  \n",
       "4 Blarina    omni  Soricomorpha lc           14.9        2.3       0.1333333  \n",
       "5 Bos        herbi Artiodactyla domesticated  4.0        0.7       0.6666667  \n",
       "6 Bradypus   herbi Pilosa       NA           14.4        2.2       0.7666667  \n",
       "  awake brainwt bodywt \n",
       "1 11.9       NA  50.000\n",
       "2  7.0  0.01550   0.480\n",
       "3  9.6       NA   1.350\n",
       "4  9.1  0.00029   0.019\n",
       "5 20.0  0.42300 600.000\n",
       "6  9.6       NA   3.850"
      ]
     },
     "metadata": {},
     "output_type": "display_data"
    }
   ],
   "source": [
    "# Select all columns except the sleep column\n",
    "head(select(msleep, -name))"
   ]
  },
  {
   "cell_type": "code",
   "execution_count": 5,
   "metadata": {
    "collapsed": false
   },
   "outputs": [
    {
     "data": {
      "text/html": [
       "<table>\n",
       "<thead><tr><th scope=col>name</th><th scope=col>genus</th><th scope=col>vore</th><th scope=col>order</th></tr></thead>\n",
       "<tbody>\n",
       "\t<tr><td>Cheetah                   </td><td>Acinonyx                  </td><td>carni                     </td><td>Carnivora                 </td></tr>\n",
       "\t<tr><td>Owl monkey                </td><td>Aotus                     </td><td>omni                      </td><td>Primates                  </td></tr>\n",
       "\t<tr><td>Mountain beaver           </td><td>Aplodontia                </td><td>herbi                     </td><td>Rodentia                  </td></tr>\n",
       "\t<tr><td>Greater short-tailed shrew</td><td>Blarina                   </td><td>omni                      </td><td>Soricomorpha              </td></tr>\n",
       "\t<tr><td>Cow                       </td><td>Bos                       </td><td>herbi                     </td><td>Artiodactyla              </td></tr>\n",
       "\t<tr><td>Three-toed sloth          </td><td>Bradypus                  </td><td>herbi                     </td><td>Pilosa                    </td></tr>\n",
       "</tbody>\n",
       "</table>\n"
      ],
      "text/latex": [
       "\\begin{tabular}{r|llll}\n",
       " name & genus & vore & order\\\\\n",
       "\\hline\n",
       "\t Cheetah                    & Acinonyx                   & carni                      & Carnivora                 \\\\\n",
       "\t Owl monkey                 & Aotus                      & omni                       & Primates                  \\\\\n",
       "\t Mountain beaver            & Aplodontia                 & herbi                      & Rodentia                  \\\\\n",
       "\t Greater short-tailed shrew & Blarina                    & omni                       & Soricomorpha              \\\\\n",
       "\t Cow                        & Bos                        & herbi                      & Artiodactyla              \\\\\n",
       "\t Three-toed sloth           & Bradypus                   & herbi                      & Pilosa                    \\\\\n",
       "\\end{tabular}\n"
      ],
      "text/markdown": [
       "\n",
       "name | genus | vore | order | \n",
       "|---|---|---|---|---|---|\n",
       "| Cheetah                    | Acinonyx                   | carni                      | Carnivora                  | \n",
       "| Owl monkey                 | Aotus                      | omni                       | Primates                   | \n",
       "| Mountain beaver            | Aplodontia                 | herbi                      | Rodentia                   | \n",
       "| Greater short-tailed shrew | Blarina                    | omni                       | Soricomorpha               | \n",
       "| Cow                        | Bos                        | herbi                      | Artiodactyla               | \n",
       "| Three-toed sloth           | Bradypus                   | herbi                      | Pilosa                     | \n",
       "\n",
       "\n"
      ],
      "text/plain": [
       "  name                       genus      vore  order       \n",
       "1 Cheetah                    Acinonyx   carni Carnivora   \n",
       "2 Owl monkey                 Aotus      omni  Primates    \n",
       "3 Mountain beaver            Aplodontia herbi Rodentia    \n",
       "4 Greater short-tailed shrew Blarina    omni  Soricomorpha\n",
       "5 Cow                        Bos        herbi Artiodactyla\n",
       "6 Three-toed sloth           Bradypus   herbi Pilosa      "
      ]
     },
     "metadata": {},
     "output_type": "display_data"
    }
   ],
   "source": [
    "# To select a range of columns by name, use the “:” (colon) operator\n",
    "head(select(msleep, name:order))"
   ]
  },
  {
   "cell_type": "code",
   "execution_count": 6,
   "metadata": {
    "collapsed": false
   },
   "outputs": [
    {
     "data": {
      "text/html": [
       "<table>\n",
       "<thead><tr><th scope=col>sleep_total</th><th scope=col>sleep_rem</th><th scope=col>sleep_cycle</th></tr></thead>\n",
       "<tbody>\n",
       "\t<tr><td>12.1     </td><td> NA      </td><td>       NA</td></tr>\n",
       "\t<tr><td>17.0     </td><td>1.8      </td><td>       NA</td></tr>\n",
       "\t<tr><td>14.4     </td><td>2.4      </td><td>       NA</td></tr>\n",
       "\t<tr><td>14.9     </td><td>2.3      </td><td>0.1333333</td></tr>\n",
       "\t<tr><td> 4.0     </td><td>0.7      </td><td>0.6666667</td></tr>\n",
       "\t<tr><td>14.4     </td><td>2.2      </td><td>0.7666667</td></tr>\n",
       "</tbody>\n",
       "</table>\n"
      ],
      "text/latex": [
       "\\begin{tabular}{r|lll}\n",
       " sleep\\_total & sleep\\_rem & sleep\\_cycle\\\\\n",
       "\\hline\n",
       "\t 12.1      &  NA       &        NA\\\\\n",
       "\t 17.0      & 1.8       &        NA\\\\\n",
       "\t 14.4      & 2.4       &        NA\\\\\n",
       "\t 14.9      & 2.3       & 0.1333333\\\\\n",
       "\t  4.0      & 0.7       & 0.6666667\\\\\n",
       "\t 14.4      & 2.2       & 0.7666667\\\\\n",
       "\\end{tabular}\n"
      ],
      "text/markdown": [
       "\n",
       "sleep_total | sleep_rem | sleep_cycle | \n",
       "|---|---|---|---|---|---|\n",
       "| 12.1      |  NA       |        NA | \n",
       "| 17.0      | 1.8       |        NA | \n",
       "| 14.4      | 2.4       |        NA | \n",
       "| 14.9      | 2.3       | 0.1333333 | \n",
       "|  4.0      | 0.7       | 0.6666667 | \n",
       "| 14.4      | 2.2       | 0.7666667 | \n",
       "\n",
       "\n"
      ],
      "text/plain": [
       "  sleep_total sleep_rem sleep_cycle\n",
       "1 12.1         NA              NA  \n",
       "2 17.0        1.8              NA  \n",
       "3 14.4        2.4              NA  \n",
       "4 14.9        2.3       0.1333333  \n",
       "5  4.0        0.7       0.6666667  \n",
       "6 14.4        2.2       0.7666667  "
      ]
     },
     "metadata": {},
     "output_type": "display_data"
    }
   ],
   "source": [
    "# To select all columns that start with the character string “sl”, use the function starts_with()\n",
    "head(select(msleep, starts_with(\"sl\")))"
   ]
  },
  {
   "cell_type": "markdown",
   "metadata": {},
   "source": [
    "## Selecting rows using filter()"
   ]
  },
  {
   "cell_type": "code",
   "execution_count": 7,
   "metadata": {
    "collapsed": false
   },
   "outputs": [
    {
     "data": {
      "text/html": [
       "<table>\n",
       "<thead><tr><th scope=col>name</th><th scope=col>genus</th><th scope=col>vore</th><th scope=col>order</th><th scope=col>conservation</th><th scope=col>sleep_total</th><th scope=col>sleep_rem</th><th scope=col>sleep_cycle</th><th scope=col>awake</th><th scope=col>brainwt</th><th scope=col>bodywt</th></tr></thead>\n",
       "<tbody>\n",
       "\t<tr><td>Owl monkey            </td><td>Aotus                 </td><td>omni                  </td><td>Primates              </td><td>NA                    </td><td>17.0                  </td><td>1.8                   </td><td>       NA             </td><td>7.0                   </td><td>0.01550               </td><td> 0.480                </td></tr>\n",
       "\t<tr><td>Long-nosed armadillo  </td><td>Dasypus               </td><td>carni                 </td><td>Cingulata             </td><td>lc                    </td><td>17.4                  </td><td>3.1                   </td><td>0.3833333             </td><td>6.6                   </td><td>0.01080               </td><td> 3.500                </td></tr>\n",
       "\t<tr><td>North American Opossum</td><td>Didelphis             </td><td>omni                  </td><td>Didelphimorphia       </td><td>lc                    </td><td>18.0                  </td><td>4.9                   </td><td>0.3333333             </td><td>6.0                   </td><td>0.00630               </td><td> 1.700                </td></tr>\n",
       "\t<tr><td>Big brown bat         </td><td>Eptesicus             </td><td>insecti               </td><td>Chiroptera            </td><td>lc                    </td><td>19.7                  </td><td>3.9                   </td><td>0.1166667             </td><td>4.3                   </td><td>0.00030               </td><td> 0.023                </td></tr>\n",
       "\t<tr><td>Thick-tailed opposum  </td><td>Lutreolina            </td><td>carni                 </td><td>Didelphimorphia       </td><td>lc                    </td><td>19.4                  </td><td>6.6                   </td><td>       NA             </td><td>4.6                   </td><td>     NA               </td><td> 0.370                </td></tr>\n",
       "\t<tr><td>Little brown bat      </td><td>Myotis                </td><td>insecti               </td><td>Chiroptera            </td><td>NA                    </td><td>19.9                  </td><td>2.0                   </td><td>0.2000000             </td><td>4.1                   </td><td>0.00025               </td><td> 0.010                </td></tr>\n",
       "\t<tr><td>Giant armadillo       </td><td>Priodontes            </td><td>insecti               </td><td>Cingulata             </td><td>en                    </td><td>18.1                  </td><td>6.1                   </td><td>       NA             </td><td>5.9                   </td><td>0.08100               </td><td>60.000                </td></tr>\n",
       "\t<tr><td>Arctic ground squirrel</td><td>Spermophilus          </td><td>herbi                 </td><td>Rodentia              </td><td>lc                    </td><td>16.6                  </td><td> NA                   </td><td>       NA             </td><td>7.4                   </td><td>0.00570               </td><td> 0.920                </td></tr>\n",
       "</tbody>\n",
       "</table>\n"
      ],
      "text/latex": [
       "\\begin{tabular}{r|lllllllllll}\n",
       " name & genus & vore & order & conservation & sleep\\_total & sleep\\_rem & sleep\\_cycle & awake & brainwt & bodywt\\\\\n",
       "\\hline\n",
       "\t Owl monkey             & Aotus                  & omni                   & Primates               & NA                     & 17.0                   & 1.8                    &        NA              & 7.0                    & 0.01550                &  0.480                \\\\\n",
       "\t Long-nosed armadillo   & Dasypus                & carni                  & Cingulata              & lc                     & 17.4                   & 3.1                    & 0.3833333              & 6.6                    & 0.01080                &  3.500                \\\\\n",
       "\t North American Opossum & Didelphis              & omni                   & Didelphimorphia        & lc                     & 18.0                   & 4.9                    & 0.3333333              & 6.0                    & 0.00630                &  1.700                \\\\\n",
       "\t Big brown bat          & Eptesicus              & insecti                & Chiroptera             & lc                     & 19.7                   & 3.9                    & 0.1166667              & 4.3                    & 0.00030                &  0.023                \\\\\n",
       "\t Thick-tailed opposum   & Lutreolina             & carni                  & Didelphimorphia        & lc                     & 19.4                   & 6.6                    &        NA              & 4.6                    &      NA                &  0.370                \\\\\n",
       "\t Little brown bat       & Myotis                 & insecti                & Chiroptera             & NA                     & 19.9                   & 2.0                    & 0.2000000              & 4.1                    & 0.00025                &  0.010                \\\\\n",
       "\t Giant armadillo        & Priodontes             & insecti                & Cingulata              & en                     & 18.1                   & 6.1                    &        NA              & 5.9                    & 0.08100                & 60.000                \\\\\n",
       "\t Arctic ground squirrel & Spermophilus           & herbi                  & Rodentia               & lc                     & 16.6                   &  NA                    &        NA              & 7.4                    & 0.00570                &  0.920                \\\\\n",
       "\\end{tabular}\n"
      ],
      "text/markdown": [
       "\n",
       "name | genus | vore | order | conservation | sleep_total | sleep_rem | sleep_cycle | awake | brainwt | bodywt | \n",
       "|---|---|---|---|---|---|---|---|\n",
       "| Owl monkey             | Aotus                  | omni                   | Primates               | NA                     | 17.0                   | 1.8                    |        NA              | 7.0                    | 0.01550                |  0.480                 | \n",
       "| Long-nosed armadillo   | Dasypus                | carni                  | Cingulata              | lc                     | 17.4                   | 3.1                    | 0.3833333              | 6.6                    | 0.01080                |  3.500                 | \n",
       "| North American Opossum | Didelphis              | omni                   | Didelphimorphia        | lc                     | 18.0                   | 4.9                    | 0.3333333              | 6.0                    | 0.00630                |  1.700                 | \n",
       "| Big brown bat          | Eptesicus              | insecti                | Chiroptera             | lc                     | 19.7                   | 3.9                    | 0.1166667              | 4.3                    | 0.00030                |  0.023                 | \n",
       "| Thick-tailed opposum   | Lutreolina             | carni                  | Didelphimorphia        | lc                     | 19.4                   | 6.6                    |        NA              | 4.6                    |      NA                |  0.370                 | \n",
       "| Little brown bat       | Myotis                 | insecti                | Chiroptera             | NA                     | 19.9                   | 2.0                    | 0.2000000              | 4.1                    | 0.00025                |  0.010                 | \n",
       "| Giant armadillo        | Priodontes             | insecti                | Cingulata              | en                     | 18.1                   | 6.1                    |        NA              | 5.9                    | 0.08100                | 60.000                 | \n",
       "| Arctic ground squirrel | Spermophilus           | herbi                  | Rodentia               | lc                     | 16.6                   |  NA                    |        NA              | 7.4                    | 0.00570                |  0.920                 | \n",
       "\n",
       "\n"
      ],
      "text/plain": [
       "  name                   genus        vore    order           conservation\n",
       "1 Owl monkey             Aotus        omni    Primates        NA          \n",
       "2 Long-nosed armadillo   Dasypus      carni   Cingulata       lc          \n",
       "3 North American Opossum Didelphis    omni    Didelphimorphia lc          \n",
       "4 Big brown bat          Eptesicus    insecti Chiroptera      lc          \n",
       "5 Thick-tailed opposum   Lutreolina   carni   Didelphimorphia lc          \n",
       "6 Little brown bat       Myotis       insecti Chiroptera      NA          \n",
       "7 Giant armadillo        Priodontes   insecti Cingulata       en          \n",
       "8 Arctic ground squirrel Spermophilus herbi   Rodentia        lc          \n",
       "  sleep_total sleep_rem sleep_cycle awake brainwt bodywt\n",
       "1 17.0        1.8              NA   7.0   0.01550  0.480\n",
       "2 17.4        3.1       0.3833333   6.6   0.01080  3.500\n",
       "3 18.0        4.9       0.3333333   6.0   0.00630  1.700\n",
       "4 19.7        3.9       0.1166667   4.3   0.00030  0.023\n",
       "5 19.4        6.6              NA   4.6        NA  0.370\n",
       "6 19.9        2.0       0.2000000   4.1   0.00025  0.010\n",
       "7 18.1        6.1              NA   5.9   0.08100 60.000\n",
       "8 16.6         NA              NA   7.4   0.00570  0.920"
      ]
     },
     "metadata": {},
     "output_type": "display_data"
    }
   ],
   "source": [
    "filter(msleep, sleep_total >= 16)"
   ]
  },
  {
   "cell_type": "code",
   "execution_count": 8,
   "metadata": {
    "collapsed": false
   },
   "outputs": [
    {
     "data": {
      "text/html": [
       "<table>\n",
       "<thead><tr><th scope=col>name</th><th scope=col>genus</th><th scope=col>vore</th><th scope=col>order</th><th scope=col>conservation</th><th scope=col>sleep_total</th><th scope=col>sleep_rem</th><th scope=col>sleep_cycle</th><th scope=col>awake</th><th scope=col>brainwt</th><th scope=col>bodywt</th></tr></thead>\n",
       "<tbody>\n",
       "\t<tr><td>Long-nosed armadillo  </td><td>Dasypus               </td><td>carni                 </td><td>Cingulata             </td><td>lc                    </td><td>17.4                  </td><td>3.1                   </td><td>0.3833333             </td><td>6.6                   </td><td>0.0108                </td><td> 3.5                  </td></tr>\n",
       "\t<tr><td>North American Opossum</td><td>Didelphis             </td><td>omni                  </td><td>Didelphimorphia       </td><td>lc                    </td><td>18.0                  </td><td>4.9                   </td><td>0.3333333             </td><td>6.0                   </td><td>0.0063                </td><td> 1.7                  </td></tr>\n",
       "\t<tr><td>Giant armadillo       </td><td>Priodontes            </td><td>insecti               </td><td>Cingulata             </td><td>en                    </td><td>18.1                  </td><td>6.1                   </td><td>       NA             </td><td>5.9                   </td><td>0.0810                </td><td>60.0                  </td></tr>\n",
       "</tbody>\n",
       "</table>\n"
      ],
      "text/latex": [
       "\\begin{tabular}{r|lllllllllll}\n",
       " name & genus & vore & order & conservation & sleep\\_total & sleep\\_rem & sleep\\_cycle & awake & brainwt & bodywt\\\\\n",
       "\\hline\n",
       "\t Long-nosed armadillo   & Dasypus                & carni                  & Cingulata              & lc                     & 17.4                   & 3.1                    & 0.3833333              & 6.6                    & 0.0108                 &  3.5                  \\\\\n",
       "\t North American Opossum & Didelphis              & omni                   & Didelphimorphia        & lc                     & 18.0                   & 4.9                    & 0.3333333              & 6.0                    & 0.0063                 &  1.7                  \\\\\n",
       "\t Giant armadillo        & Priodontes             & insecti                & Cingulata              & en                     & 18.1                   & 6.1                    &        NA              & 5.9                    & 0.0810                 & 60.0                  \\\\\n",
       "\\end{tabular}\n"
      ],
      "text/markdown": [
       "\n",
       "name | genus | vore | order | conservation | sleep_total | sleep_rem | sleep_cycle | awake | brainwt | bodywt | \n",
       "|---|---|---|\n",
       "| Long-nosed armadillo   | Dasypus                | carni                  | Cingulata              | lc                     | 17.4                   | 3.1                    | 0.3833333              | 6.6                    | 0.0108                 |  3.5                   | \n",
       "| North American Opossum | Didelphis              | omni                   | Didelphimorphia        | lc                     | 18.0                   | 4.9                    | 0.3333333              | 6.0                    | 0.0063                 |  1.7                   | \n",
       "| Giant armadillo        | Priodontes             | insecti                | Cingulata              | en                     | 18.1                   | 6.1                    |        NA              | 5.9                    | 0.0810                 | 60.0                   | \n",
       "\n",
       "\n"
      ],
      "text/plain": [
       "  name                   genus      vore    order           conservation\n",
       "1 Long-nosed armadillo   Dasypus    carni   Cingulata       lc          \n",
       "2 North American Opossum Didelphis  omni    Didelphimorphia lc          \n",
       "3 Giant armadillo        Priodontes insecti Cingulata       en          \n",
       "  sleep_total sleep_rem sleep_cycle awake brainwt bodywt\n",
       "1 17.4        3.1       0.3833333   6.6   0.0108   3.5  \n",
       "2 18.0        4.9       0.3333333   6.0   0.0063   1.7  \n",
       "3 18.1        6.1              NA   5.9   0.0810  60.0  "
      ]
     },
     "metadata": {},
     "output_type": "display_data"
    }
   ],
   "source": [
    "# sleep total >=16 and body weight >=1\n",
    "filter(msleep, sleep_total >= 16, bodywt >= 1)"
   ]
  },
  {
   "cell_type": "code",
   "execution_count": 9,
   "metadata": {
    "collapsed": false
   },
   "outputs": [
    {
     "data": {
      "text/html": [
       "<table>\n",
       "<thead><tr><th scope=col>name</th><th scope=col>genus</th><th scope=col>vore</th><th scope=col>order</th><th scope=col>conservation</th><th scope=col>sleep_total</th><th scope=col>sleep_rem</th><th scope=col>sleep_cycle</th><th scope=col>awake</th><th scope=col>brainwt</th><th scope=col>bodywt</th></tr></thead>\n",
       "<tbody>\n",
       "\t<tr><td>Owl monkey     </td><td>Aotus          </td><td>omni           </td><td>Primates       </td><td>NA             </td><td>17.0           </td><td>1.8            </td><td>       NA      </td><td> 7.0           </td><td>0.0155         </td><td> 0.480         </td></tr>\n",
       "\t<tr><td>Grivet         </td><td>Cercopithecus  </td><td>omni           </td><td>Primates       </td><td>lc             </td><td>10.0           </td><td>0.7            </td><td>       NA      </td><td>14.0           </td><td>    NA         </td><td> 4.750         </td></tr>\n",
       "\t<tr><td>Patas monkey   </td><td>Erythrocebus   </td><td>omni           </td><td>Primates       </td><td>lc             </td><td>10.9           </td><td>1.1            </td><td>       NA      </td><td>13.1           </td><td>0.1150         </td><td>10.000         </td></tr>\n",
       "\t<tr><td>Galago         </td><td>Galago         </td><td>omni           </td><td>Primates       </td><td>NA             </td><td> 9.8           </td><td>1.1            </td><td>0.5500000      </td><td>14.2           </td><td>0.0050         </td><td> 0.200         </td></tr>\n",
       "\t<tr><td>Human          </td><td>Homo           </td><td>omni           </td><td>Primates       </td><td>NA             </td><td> 8.0           </td><td>1.9            </td><td>1.5000000      </td><td>16.0           </td><td>1.3200         </td><td>62.000         </td></tr>\n",
       "\t<tr><td>Mongoose lemur </td><td>Lemur          </td><td>herbi          </td><td>Primates       </td><td>vu             </td><td> 9.5           </td><td>0.9            </td><td>       NA      </td><td>14.5           </td><td>    NA         </td><td> 1.670         </td></tr>\n",
       "\t<tr><td>Macaque        </td><td>Macaca         </td><td>omni           </td><td>Primates       </td><td>NA             </td><td>10.1           </td><td>1.2            </td><td>0.7500000      </td><td>13.9           </td><td>0.1790         </td><td> 6.800         </td></tr>\n",
       "\t<tr><td>Slow loris     </td><td>Nyctibeus      </td><td>carni          </td><td>Primates       </td><td>NA             </td><td>11.0           </td><td> NA            </td><td>       NA      </td><td>13.0           </td><td>0.0125         </td><td> 1.400         </td></tr>\n",
       "\t<tr><td>Chimpanzee     </td><td>Pan            </td><td>omni           </td><td>Primates       </td><td>NA             </td><td> 9.7           </td><td>1.4            </td><td>1.4166667      </td><td>14.3           </td><td>0.4400         </td><td>52.200         </td></tr>\n",
       "\t<tr><td>Baboon         </td><td>Papio          </td><td>omni           </td><td>Primates       </td><td>NA             </td><td> 9.4           </td><td>1.0            </td><td>0.6666667      </td><td>14.6           </td><td>0.1800         </td><td>25.235         </td></tr>\n",
       "\t<tr><td>Potto          </td><td>Perodicticus   </td><td>omni           </td><td>Primates       </td><td>lc             </td><td>11.0           </td><td> NA            </td><td>       NA      </td><td>13.0           </td><td>    NA         </td><td> 1.100         </td></tr>\n",
       "\t<tr><td>Squirrel monkey</td><td>Saimiri        </td><td>omni           </td><td>Primates       </td><td>NA             </td><td> 9.6           </td><td>1.4            </td><td>       NA      </td><td>14.4           </td><td>0.0200         </td><td> 0.743         </td></tr>\n",
       "</tbody>\n",
       "</table>\n"
      ],
      "text/latex": [
       "\\begin{tabular}{r|lllllllllll}\n",
       " name & genus & vore & order & conservation & sleep\\_total & sleep\\_rem & sleep\\_cycle & awake & brainwt & bodywt\\\\\n",
       "\\hline\n",
       "\t Owl monkey      & Aotus           & omni            & Primates        & NA              & 17.0            & 1.8             &        NA       &  7.0            & 0.0155          &  0.480         \\\\\n",
       "\t Grivet          & Cercopithecus   & omni            & Primates        & lc              & 10.0            & 0.7             &        NA       & 14.0            &     NA          &  4.750         \\\\\n",
       "\t Patas monkey    & Erythrocebus    & omni            & Primates        & lc              & 10.9            & 1.1             &        NA       & 13.1            & 0.1150          & 10.000         \\\\\n",
       "\t Galago          & Galago          & omni            & Primates        & NA              &  9.8            & 1.1             & 0.5500000       & 14.2            & 0.0050          &  0.200         \\\\\n",
       "\t Human           & Homo            & omni            & Primates        & NA              &  8.0            & 1.9             & 1.5000000       & 16.0            & 1.3200          & 62.000         \\\\\n",
       "\t Mongoose lemur  & Lemur           & herbi           & Primates        & vu              &  9.5            & 0.9             &        NA       & 14.5            &     NA          &  1.670         \\\\\n",
       "\t Macaque         & Macaca          & omni            & Primates        & NA              & 10.1            & 1.2             & 0.7500000       & 13.9            & 0.1790          &  6.800         \\\\\n",
       "\t Slow loris      & Nyctibeus       & carni           & Primates        & NA              & 11.0            &  NA             &        NA       & 13.0            & 0.0125          &  1.400         \\\\\n",
       "\t Chimpanzee      & Pan             & omni            & Primates        & NA              &  9.7            & 1.4             & 1.4166667       & 14.3            & 0.4400          & 52.200         \\\\\n",
       "\t Baboon          & Papio           & omni            & Primates        & NA              &  9.4            & 1.0             & 0.6666667       & 14.6            & 0.1800          & 25.235         \\\\\n",
       "\t Potto           & Perodicticus    & omni            & Primates        & lc              & 11.0            &  NA             &        NA       & 13.0            &     NA          &  1.100         \\\\\n",
       "\t Squirrel monkey & Saimiri         & omni            & Primates        & NA              &  9.6            & 1.4             &        NA       & 14.4            & 0.0200          &  0.743         \\\\\n",
       "\\end{tabular}\n"
      ],
      "text/markdown": [
       "\n",
       "name | genus | vore | order | conservation | sleep_total | sleep_rem | sleep_cycle | awake | brainwt | bodywt | \n",
       "|---|---|---|---|---|---|---|---|---|---|---|---|\n",
       "| Owl monkey      | Aotus           | omni            | Primates        | NA              | 17.0            | 1.8             |        NA       |  7.0            | 0.0155          |  0.480          | \n",
       "| Grivet          | Cercopithecus   | omni            | Primates        | lc              | 10.0            | 0.7             |        NA       | 14.0            |     NA          |  4.750          | \n",
       "| Patas monkey    | Erythrocebus    | omni            | Primates        | lc              | 10.9            | 1.1             |        NA       | 13.1            | 0.1150          | 10.000          | \n",
       "| Galago          | Galago          | omni            | Primates        | NA              |  9.8            | 1.1             | 0.5500000       | 14.2            | 0.0050          |  0.200          | \n",
       "| Human           | Homo            | omni            | Primates        | NA              |  8.0            | 1.9             | 1.5000000       | 16.0            | 1.3200          | 62.000          | \n",
       "| Mongoose lemur  | Lemur           | herbi           | Primates        | vu              |  9.5            | 0.9             |        NA       | 14.5            |     NA          |  1.670          | \n",
       "| Macaque         | Macaca          | omni            | Primates        | NA              | 10.1            | 1.2             | 0.7500000       | 13.9            | 0.1790          |  6.800          | \n",
       "| Slow loris      | Nyctibeus       | carni           | Primates        | NA              | 11.0            |  NA             |        NA       | 13.0            | 0.0125          |  1.400          | \n",
       "| Chimpanzee      | Pan             | omni            | Primates        | NA              |  9.7            | 1.4             | 1.4166667       | 14.3            | 0.4400          | 52.200          | \n",
       "| Baboon          | Papio           | omni            | Primates        | NA              |  9.4            | 1.0             | 0.6666667       | 14.6            | 0.1800          | 25.235          | \n",
       "| Potto           | Perodicticus    | omni            | Primates        | lc              | 11.0            |  NA             |        NA       | 13.0            |     NA          |  1.100          | \n",
       "| Squirrel monkey | Saimiri         | omni            | Primates        | NA              |  9.6            | 1.4             |        NA       | 14.4            | 0.0200          |  0.743          | \n",
       "\n",
       "\n"
      ],
      "text/plain": [
       "   name            genus         vore  order    conservation sleep_total\n",
       "1  Owl monkey      Aotus         omni  Primates NA           17.0       \n",
       "2  Grivet          Cercopithecus omni  Primates lc           10.0       \n",
       "3  Patas monkey    Erythrocebus  omni  Primates lc           10.9       \n",
       "4  Galago          Galago        omni  Primates NA            9.8       \n",
       "5  Human           Homo          omni  Primates NA            8.0       \n",
       "6  Mongoose lemur  Lemur         herbi Primates vu            9.5       \n",
       "7  Macaque         Macaca        omni  Primates NA           10.1       \n",
       "8  Slow loris      Nyctibeus     carni Primates NA           11.0       \n",
       "9  Chimpanzee      Pan           omni  Primates NA            9.7       \n",
       "10 Baboon          Papio         omni  Primates NA            9.4       \n",
       "11 Potto           Perodicticus  omni  Primates lc           11.0       \n",
       "12 Squirrel monkey Saimiri       omni  Primates NA            9.6       \n",
       "   sleep_rem sleep_cycle awake brainwt bodywt\n",
       "1  1.8              NA    7.0  0.0155   0.480\n",
       "2  0.7              NA   14.0      NA   4.750\n",
       "3  1.1              NA   13.1  0.1150  10.000\n",
       "4  1.1       0.5500000   14.2  0.0050   0.200\n",
       "5  1.9       1.5000000   16.0  1.3200  62.000\n",
       "6  0.9              NA   14.5      NA   1.670\n",
       "7  1.2       0.7500000   13.9  0.1790   6.800\n",
       "8   NA              NA   13.0  0.0125   1.400\n",
       "9  1.4       1.4166667   14.3  0.4400  52.200\n",
       "10 1.0       0.6666667   14.6  0.1800  25.235\n",
       "11  NA              NA   13.0      NA   1.100\n",
       "12 1.4              NA   14.4  0.0200   0.743"
      ]
     },
     "metadata": {},
     "output_type": "display_data"
    }
   ],
   "source": [
    "# Filter the rows for mammals in the Perissodactyla and Primates taxonomic order\n",
    "filter(msleep, order %in% c(\"Perissodatctyla\", \"Primates\"))"
   ]
  },
  {
   "cell_type": "markdown",
   "metadata": {},
   "source": [
    "## Pipe Oprator %>%"
   ]
  },
  {
   "cell_type": "markdown",
   "metadata": {},
   "source": [
    "This operator allows you to pipe the output from one function to the input of another function. Instead of nesting functions (reading from the inside to the outside), the idea of of piping is to read the functions from left to right.\n",
    "\n",
    "Here’s an example you have seen:"
   ]
  },
  {
   "cell_type": "code",
   "execution_count": 10,
   "metadata": {
    "collapsed": false
   },
   "outputs": [
    {
     "data": {
      "text/html": [
       "<table>\n",
       "<thead><tr><th scope=col>name</th><th scope=col>sleep_total</th></tr></thead>\n",
       "<tbody>\n",
       "\t<tr><td>Cheetah                   </td><td>12.1                      </td></tr>\n",
       "\t<tr><td>Owl monkey                </td><td>17.0                      </td></tr>\n",
       "\t<tr><td>Mountain beaver           </td><td>14.4                      </td></tr>\n",
       "\t<tr><td>Greater short-tailed shrew</td><td>14.9                      </td></tr>\n",
       "\t<tr><td>Cow                       </td><td> 4.0                      </td></tr>\n",
       "\t<tr><td>Three-toed sloth          </td><td>14.4                      </td></tr>\n",
       "</tbody>\n",
       "</table>\n"
      ],
      "text/latex": [
       "\\begin{tabular}{r|ll}\n",
       " name & sleep\\_total\\\\\n",
       "\\hline\n",
       "\t Cheetah                    & 12.1                      \\\\\n",
       "\t Owl monkey                 & 17.0                      \\\\\n",
       "\t Mountain beaver            & 14.4                      \\\\\n",
       "\t Greater short-tailed shrew & 14.9                      \\\\\n",
       "\t Cow                        &  4.0                      \\\\\n",
       "\t Three-toed sloth           & 14.4                      \\\\\n",
       "\\end{tabular}\n"
      ],
      "text/markdown": [
       "\n",
       "name | sleep_total | \n",
       "|---|---|---|---|---|---|\n",
       "| Cheetah                    | 12.1                       | \n",
       "| Owl monkey                 | 17.0                       | \n",
       "| Mountain beaver            | 14.4                       | \n",
       "| Greater short-tailed shrew | 14.9                       | \n",
       "| Cow                        |  4.0                       | \n",
       "| Three-toed sloth           | 14.4                       | \n",
       "\n",
       "\n"
      ],
      "text/plain": [
       "  name                       sleep_total\n",
       "1 Cheetah                    12.1       \n",
       "2 Owl monkey                 17.0       \n",
       "3 Mountain beaver            14.4       \n",
       "4 Greater short-tailed shrew 14.9       \n",
       "5 Cow                         4.0       \n",
       "6 Three-toed sloth           14.4       "
      ]
     },
     "metadata": {},
     "output_type": "display_data"
    }
   ],
   "source": [
    "head(select(msleep, name, sleep_total))"
   ]
  },
  {
   "cell_type": "code",
   "execution_count": 11,
   "metadata": {
    "collapsed": false
   },
   "outputs": [
    {
     "data": {
      "text/html": [
       "<table>\n",
       "<thead><tr><th scope=col>name</th><th scope=col>sleep_total</th></tr></thead>\n",
       "<tbody>\n",
       "\t<tr><td>Cheetah                   </td><td>12.1                      </td></tr>\n",
       "\t<tr><td>Owl monkey                </td><td>17.0                      </td></tr>\n",
       "\t<tr><td>Mountain beaver           </td><td>14.4                      </td></tr>\n",
       "\t<tr><td>Greater short-tailed shrew</td><td>14.9                      </td></tr>\n",
       "\t<tr><td>Cow                       </td><td> 4.0                      </td></tr>\n",
       "\t<tr><td>Three-toed sloth          </td><td>14.4                      </td></tr>\n",
       "</tbody>\n",
       "</table>\n"
      ],
      "text/latex": [
       "\\begin{tabular}{r|ll}\n",
       " name & sleep\\_total\\\\\n",
       "\\hline\n",
       "\t Cheetah                    & 12.1                      \\\\\n",
       "\t Owl monkey                 & 17.0                      \\\\\n",
       "\t Mountain beaver            & 14.4                      \\\\\n",
       "\t Greater short-tailed shrew & 14.9                      \\\\\n",
       "\t Cow                        &  4.0                      \\\\\n",
       "\t Three-toed sloth           & 14.4                      \\\\\n",
       "\\end{tabular}\n"
      ],
      "text/markdown": [
       "\n",
       "name | sleep_total | \n",
       "|---|---|---|---|---|---|\n",
       "| Cheetah                    | 12.1                       | \n",
       "| Owl monkey                 | 17.0                       | \n",
       "| Mountain beaver            | 14.4                       | \n",
       "| Greater short-tailed shrew | 14.9                       | \n",
       "| Cow                        |  4.0                       | \n",
       "| Three-toed sloth           | 14.4                       | \n",
       "\n",
       "\n"
      ],
      "text/plain": [
       "  name                       sleep_total\n",
       "1 Cheetah                    12.1       \n",
       "2 Owl monkey                 17.0       \n",
       "3 Mountain beaver            14.4       \n",
       "4 Greater short-tailed shrew 14.9       \n",
       "5 Cow                         4.0       \n",
       "6 Three-toed sloth           14.4       "
      ]
     },
     "metadata": {},
     "output_type": "display_data"
    }
   ],
   "source": [
    "msleep %>% select(name, sleep_total) %>% head"
   ]
  },
  {
   "cell_type": "markdown",
   "metadata": {},
   "source": [
    "## Back to dplyr verbs in action"
   ]
  },
  {
   "cell_type": "markdown",
   "metadata": {},
   "source": [
    "Now that you know about the pipe operator (%>%), we will use it throughout the rest of this tutorial."
   ]
  },
  {
   "cell_type": "markdown",
   "metadata": {},
   "source": [
    "## Arrange or re-order rows using arrange()"
   ]
  },
  {
   "cell_type": "markdown",
   "metadata": {},
   "source": [
    "To arrange (or re-order) rows by a particular column such as the taxonomic order, list the name of the column you want to arrange the rows by"
   ]
  },
  {
   "cell_type": "code",
   "execution_count": 12,
   "metadata": {
    "collapsed": false
   },
   "outputs": [
    {
     "data": {
      "text/html": [
       "<table>\n",
       "<thead><tr><th scope=col>name</th><th scope=col>genus</th><th scope=col>vore</th><th scope=col>order</th><th scope=col>conservation</th><th scope=col>sleep_total</th><th scope=col>sleep_rem</th><th scope=col>sleep_cycle</th><th scope=col>awake</th><th scope=col>brainwt</th><th scope=col>bodywt</th></tr></thead>\n",
       "<tbody>\n",
       "\t<tr><td>Tenrec      </td><td>Tenrec      </td><td>omni        </td><td>Afrosoricida</td><td>NA          </td><td>15.6        </td><td>2.3         </td><td>       NA   </td><td> 8.4        </td><td>0.0026      </td><td>  0.900     </td></tr>\n",
       "\t<tr><td>Cow         </td><td>Bos         </td><td>herbi       </td><td>Artiodactyla</td><td>domesticated</td><td> 4.0        </td><td>0.7         </td><td>0.6666667   </td><td>20.0        </td><td>0.4230      </td><td>600.000     </td></tr>\n",
       "\t<tr><td>Roe deer    </td><td>Capreolus   </td><td>herbi       </td><td>Artiodactyla</td><td>lc          </td><td> 3.0        </td><td> NA         </td><td>       NA   </td><td>21.0        </td><td>0.0982      </td><td> 14.800     </td></tr>\n",
       "\t<tr><td>Goat        </td><td>Capri       </td><td>herbi       </td><td>Artiodactyla</td><td>lc          </td><td> 5.3        </td><td>0.6         </td><td>       NA   </td><td>18.7        </td><td>0.1150      </td><td> 33.500     </td></tr>\n",
       "\t<tr><td>Giraffe     </td><td>Giraffa     </td><td>herbi       </td><td>Artiodactyla</td><td>cd          </td><td> 1.9        </td><td>0.4         </td><td>       NA   </td><td>22.1        </td><td>    NA      </td><td>899.995     </td></tr>\n",
       "\t<tr><td>Sheep       </td><td>Ovis        </td><td>herbi       </td><td>Artiodactyla</td><td>domesticated</td><td> 3.8        </td><td>0.6         </td><td>       NA   </td><td>20.2        </td><td>0.1750      </td><td> 55.500     </td></tr>\n",
       "</tbody>\n",
       "</table>\n"
      ],
      "text/latex": [
       "\\begin{tabular}{r|lllllllllll}\n",
       " name & genus & vore & order & conservation & sleep\\_total & sleep\\_rem & sleep\\_cycle & awake & brainwt & bodywt\\\\\n",
       "\\hline\n",
       "\t Tenrec       & Tenrec       & omni         & Afrosoricida & NA           & 15.6         & 2.3          &        NA    &  8.4         & 0.0026       &   0.900     \\\\\n",
       "\t Cow          & Bos          & herbi        & Artiodactyla & domesticated &  4.0         & 0.7          & 0.6666667    & 20.0         & 0.4230       & 600.000     \\\\\n",
       "\t Roe deer     & Capreolus    & herbi        & Artiodactyla & lc           &  3.0         &  NA          &        NA    & 21.0         & 0.0982       &  14.800     \\\\\n",
       "\t Goat         & Capri        & herbi        & Artiodactyla & lc           &  5.3         & 0.6          &        NA    & 18.7         & 0.1150       &  33.500     \\\\\n",
       "\t Giraffe      & Giraffa      & herbi        & Artiodactyla & cd           &  1.9         & 0.4          &        NA    & 22.1         &     NA       & 899.995     \\\\\n",
       "\t Sheep        & Ovis         & herbi        & Artiodactyla & domesticated &  3.8         & 0.6          &        NA    & 20.2         & 0.1750       &  55.500     \\\\\n",
       "\\end{tabular}\n"
      ],
      "text/markdown": [
       "\n",
       "name | genus | vore | order | conservation | sleep_total | sleep_rem | sleep_cycle | awake | brainwt | bodywt | \n",
       "|---|---|---|---|---|---|\n",
       "| Tenrec       | Tenrec       | omni         | Afrosoricida | NA           | 15.6         | 2.3          |        NA    |  8.4         | 0.0026       |   0.900      | \n",
       "| Cow          | Bos          | herbi        | Artiodactyla | domesticated |  4.0         | 0.7          | 0.6666667    | 20.0         | 0.4230       | 600.000      | \n",
       "| Roe deer     | Capreolus    | herbi        | Artiodactyla | lc           |  3.0         |  NA          |        NA    | 21.0         | 0.0982       |  14.800      | \n",
       "| Goat         | Capri        | herbi        | Artiodactyla | lc           |  5.3         | 0.6          |        NA    | 18.7         | 0.1150       |  33.500      | \n",
       "| Giraffe      | Giraffa      | herbi        | Artiodactyla | cd           |  1.9         | 0.4          |        NA    | 22.1         |     NA       | 899.995      | \n",
       "| Sheep        | Ovis         | herbi        | Artiodactyla | domesticated |  3.8         | 0.6          |        NA    | 20.2         | 0.1750       |  55.500      | \n",
       "\n",
       "\n"
      ],
      "text/plain": [
       "  name     genus     vore  order        conservation sleep_total sleep_rem\n",
       "1 Tenrec   Tenrec    omni  Afrosoricida NA           15.6        2.3      \n",
       "2 Cow      Bos       herbi Artiodactyla domesticated  4.0        0.7      \n",
       "3 Roe deer Capreolus herbi Artiodactyla lc            3.0         NA      \n",
       "4 Goat     Capri     herbi Artiodactyla lc            5.3        0.6      \n",
       "5 Giraffe  Giraffa   herbi Artiodactyla cd            1.9        0.4      \n",
       "6 Sheep    Ovis      herbi Artiodactyla domesticated  3.8        0.6      \n",
       "  sleep_cycle awake brainwt bodywt \n",
       "1        NA    8.4  0.0026    0.900\n",
       "2 0.6666667   20.0  0.4230  600.000\n",
       "3        NA   21.0  0.0982   14.800\n",
       "4        NA   18.7  0.1150   33.500\n",
       "5        NA   22.1      NA  899.995\n",
       "6        NA   20.2  0.1750   55.500"
      ]
     },
     "metadata": {},
     "output_type": "display_data"
    }
   ],
   "source": [
    "msleep %>% arrange(order) %>% head"
   ]
  },
  {
   "cell_type": "markdown",
   "metadata": {},
   "source": [
    "Now, we will select three columns from msleep, arrange the rows by the taxonomic order and then arrange the rows by sleep_total. Finally show the head of the final data frame"
   ]
  },
  {
   "cell_type": "code",
   "execution_count": 13,
   "metadata": {
    "collapsed": false
   },
   "outputs": [
    {
     "data": {
      "text/html": [
       "<table>\n",
       "<thead><tr><th scope=col>name</th><th scope=col>order</th><th scope=col>sleep_total</th></tr></thead>\n",
       "<tbody>\n",
       "\t<tr><td>Tenrec      </td><td>Afrosoricida</td><td>15.6        </td></tr>\n",
       "\t<tr><td>Giraffe     </td><td>Artiodactyla</td><td> 1.9        </td></tr>\n",
       "\t<tr><td>Roe deer    </td><td>Artiodactyla</td><td> 3.0        </td></tr>\n",
       "\t<tr><td>Sheep       </td><td>Artiodactyla</td><td> 3.8        </td></tr>\n",
       "\t<tr><td>Cow         </td><td>Artiodactyla</td><td> 4.0        </td></tr>\n",
       "\t<tr><td>Goat        </td><td>Artiodactyla</td><td> 5.3        </td></tr>\n",
       "</tbody>\n",
       "</table>\n"
      ],
      "text/latex": [
       "\\begin{tabular}{r|lll}\n",
       " name & order & sleep\\_total\\\\\n",
       "\\hline\n",
       "\t Tenrec       & Afrosoricida & 15.6        \\\\\n",
       "\t Giraffe      & Artiodactyla &  1.9        \\\\\n",
       "\t Roe deer     & Artiodactyla &  3.0        \\\\\n",
       "\t Sheep        & Artiodactyla &  3.8        \\\\\n",
       "\t Cow          & Artiodactyla &  4.0        \\\\\n",
       "\t Goat         & Artiodactyla &  5.3        \\\\\n",
       "\\end{tabular}\n"
      ],
      "text/markdown": [
       "\n",
       "name | order | sleep_total | \n",
       "|---|---|---|---|---|---|\n",
       "| Tenrec       | Afrosoricida | 15.6         | \n",
       "| Giraffe      | Artiodactyla |  1.9         | \n",
       "| Roe deer     | Artiodactyla |  3.0         | \n",
       "| Sheep        | Artiodactyla |  3.8         | \n",
       "| Cow          | Artiodactyla |  4.0         | \n",
       "| Goat         | Artiodactyla |  5.3         | \n",
       "\n",
       "\n"
      ],
      "text/plain": [
       "  name     order        sleep_total\n",
       "1 Tenrec   Afrosoricida 15.6       \n",
       "2 Giraffe  Artiodactyla  1.9       \n",
       "3 Roe deer Artiodactyla  3.0       \n",
       "4 Sheep    Artiodactyla  3.8       \n",
       "5 Cow      Artiodactyla  4.0       \n",
       "6 Goat     Artiodactyla  5.3       "
      ]
     },
     "metadata": {},
     "output_type": "display_data"
    }
   ],
   "source": [
    "msleep %>% select(name, order, sleep_total) %>% arrange(order, sleep_total) %>% head"
   ]
  },
  {
   "cell_type": "markdown",
   "metadata": {},
   "source": [
    "Same as above, except here we filter the rows for mammals that sleep for 16 or more hours instead of showing the head of the final data frame"
   ]
  },
  {
   "cell_type": "code",
   "execution_count": 14,
   "metadata": {
    "collapsed": false
   },
   "outputs": [
    {
     "data": {
      "text/html": [
       "<table>\n",
       "<thead><tr><th scope=col>name</th><th scope=col>order</th><th scope=col>sleep_total</th></tr></thead>\n",
       "<tbody>\n",
       "\t<tr><td>Big brown bat         </td><td>Chiroptera            </td><td>19.7                  </td></tr>\n",
       "\t<tr><td>Little brown bat      </td><td>Chiroptera            </td><td>19.9                  </td></tr>\n",
       "\t<tr><td>Long-nosed armadillo  </td><td>Cingulata             </td><td>17.4                  </td></tr>\n",
       "\t<tr><td>Giant armadillo       </td><td>Cingulata             </td><td>18.1                  </td></tr>\n",
       "\t<tr><td>North American Opossum</td><td>Didelphimorphia       </td><td>18.0                  </td></tr>\n",
       "\t<tr><td>Thick-tailed opposum  </td><td>Didelphimorphia       </td><td>19.4                  </td></tr>\n",
       "\t<tr><td>Owl monkey            </td><td>Primates              </td><td>17.0                  </td></tr>\n",
       "\t<tr><td>Arctic ground squirrel</td><td>Rodentia              </td><td>16.6                  </td></tr>\n",
       "</tbody>\n",
       "</table>\n"
      ],
      "text/latex": [
       "\\begin{tabular}{r|lll}\n",
       " name & order & sleep\\_total\\\\\n",
       "\\hline\n",
       "\t Big brown bat          & Chiroptera             & 19.7                  \\\\\n",
       "\t Little brown bat       & Chiroptera             & 19.9                  \\\\\n",
       "\t Long-nosed armadillo   & Cingulata              & 17.4                  \\\\\n",
       "\t Giant armadillo        & Cingulata              & 18.1                  \\\\\n",
       "\t North American Opossum & Didelphimorphia        & 18.0                  \\\\\n",
       "\t Thick-tailed opposum   & Didelphimorphia        & 19.4                  \\\\\n",
       "\t Owl monkey             & Primates               & 17.0                  \\\\\n",
       "\t Arctic ground squirrel & Rodentia               & 16.6                  \\\\\n",
       "\\end{tabular}\n"
      ],
      "text/markdown": [
       "\n",
       "name | order | sleep_total | \n",
       "|---|---|---|---|---|---|---|---|\n",
       "| Big brown bat          | Chiroptera             | 19.7                   | \n",
       "| Little brown bat       | Chiroptera             | 19.9                   | \n",
       "| Long-nosed armadillo   | Cingulata              | 17.4                   | \n",
       "| Giant armadillo        | Cingulata              | 18.1                   | \n",
       "| North American Opossum | Didelphimorphia        | 18.0                   | \n",
       "| Thick-tailed opposum   | Didelphimorphia        | 19.4                   | \n",
       "| Owl monkey             | Primates               | 17.0                   | \n",
       "| Arctic ground squirrel | Rodentia               | 16.6                   | \n",
       "\n",
       "\n"
      ],
      "text/plain": [
       "  name                   order           sleep_total\n",
       "1 Big brown bat          Chiroptera      19.7       \n",
       "2 Little brown bat       Chiroptera      19.9       \n",
       "3 Long-nosed armadillo   Cingulata       17.4       \n",
       "4 Giant armadillo        Cingulata       18.1       \n",
       "5 North American Opossum Didelphimorphia 18.0       \n",
       "6 Thick-tailed opposum   Didelphimorphia 19.4       \n",
       "7 Owl monkey             Primates        17.0       \n",
       "8 Arctic ground squirrel Rodentia        16.6       "
      ]
     },
     "metadata": {},
     "output_type": "display_data"
    }
   ],
   "source": [
    "msleep %>% select(name, order, sleep_total) %>% arrange(order, sleep_total) %>% filter(sleep_total >=16)"
   ]
  },
  {
   "cell_type": "markdown",
   "metadata": {},
   "source": [
    "Something slightly more complicated: same as above, except arrange the rows in the sleep_total column in a descending order. For this, use the function desc()"
   ]
  },
  {
   "cell_type": "code",
   "execution_count": 15,
   "metadata": {
    "collapsed": false
   },
   "outputs": [
    {
     "data": {
      "text/html": [
       "<table>\n",
       "<thead><tr><th scope=col>name</th><th scope=col>order</th><th scope=col>sleep_total</th></tr></thead>\n",
       "<tbody>\n",
       "\t<tr><td>Little brown bat      </td><td>Chiroptera            </td><td>19.9                  </td></tr>\n",
       "\t<tr><td>Big brown bat         </td><td>Chiroptera            </td><td>19.7                  </td></tr>\n",
       "\t<tr><td>Giant armadillo       </td><td>Cingulata             </td><td>18.1                  </td></tr>\n",
       "\t<tr><td>Long-nosed armadillo  </td><td>Cingulata             </td><td>17.4                  </td></tr>\n",
       "\t<tr><td>Thick-tailed opposum  </td><td>Didelphimorphia       </td><td>19.4                  </td></tr>\n",
       "\t<tr><td>North American Opossum</td><td>Didelphimorphia       </td><td>18.0                  </td></tr>\n",
       "\t<tr><td>Owl monkey            </td><td>Primates              </td><td>17.0                  </td></tr>\n",
       "\t<tr><td>Arctic ground squirrel</td><td>Rodentia              </td><td>16.6                  </td></tr>\n",
       "</tbody>\n",
       "</table>\n"
      ],
      "text/latex": [
       "\\begin{tabular}{r|lll}\n",
       " name & order & sleep\\_total\\\\\n",
       "\\hline\n",
       "\t Little brown bat       & Chiroptera             & 19.9                  \\\\\n",
       "\t Big brown bat          & Chiroptera             & 19.7                  \\\\\n",
       "\t Giant armadillo        & Cingulata              & 18.1                  \\\\\n",
       "\t Long-nosed armadillo   & Cingulata              & 17.4                  \\\\\n",
       "\t Thick-tailed opposum   & Didelphimorphia        & 19.4                  \\\\\n",
       "\t North American Opossum & Didelphimorphia        & 18.0                  \\\\\n",
       "\t Owl monkey             & Primates               & 17.0                  \\\\\n",
       "\t Arctic ground squirrel & Rodentia               & 16.6                  \\\\\n",
       "\\end{tabular}\n"
      ],
      "text/markdown": [
       "\n",
       "name | order | sleep_total | \n",
       "|---|---|---|---|---|---|---|---|\n",
       "| Little brown bat       | Chiroptera             | 19.9                   | \n",
       "| Big brown bat          | Chiroptera             | 19.7                   | \n",
       "| Giant armadillo        | Cingulata              | 18.1                   | \n",
       "| Long-nosed armadillo   | Cingulata              | 17.4                   | \n",
       "| Thick-tailed opposum   | Didelphimorphia        | 19.4                   | \n",
       "| North American Opossum | Didelphimorphia        | 18.0                   | \n",
       "| Owl monkey             | Primates               | 17.0                   | \n",
       "| Arctic ground squirrel | Rodentia               | 16.6                   | \n",
       "\n",
       "\n"
      ],
      "text/plain": [
       "  name                   order           sleep_total\n",
       "1 Little brown bat       Chiroptera      19.9       \n",
       "2 Big brown bat          Chiroptera      19.7       \n",
       "3 Giant armadillo        Cingulata       18.1       \n",
       "4 Long-nosed armadillo   Cingulata       17.4       \n",
       "5 Thick-tailed opposum   Didelphimorphia 19.4       \n",
       "6 North American Opossum Didelphimorphia 18.0       \n",
       "7 Owl monkey             Primates        17.0       \n",
       "8 Arctic ground squirrel Rodentia        16.6       "
      ]
     },
     "metadata": {},
     "output_type": "display_data"
    }
   ],
   "source": [
    "msleep %>% select(name, order, sleep_total) %>% arrange(order, desc(sleep_total)) %>% filter(sleep_total >=16)"
   ]
  },
  {
   "cell_type": "markdown",
   "metadata": {},
   "source": [
    "# Create new columns using mutate()"
   ]
  },
  {
   "cell_type": "markdown",
   "metadata": {},
   "source": [
    "The mutate() function will add new columns to the data frame. Create a new column called rem_proportion which is the ratio of rem sleep to total amount of sleep."
   ]
  },
  {
   "cell_type": "code",
   "execution_count": 16,
   "metadata": {
    "collapsed": false
   },
   "outputs": [
    {
     "data": {
      "text/html": [
       "<table>\n",
       "<thead><tr><th scope=col>name</th><th scope=col>genus</th><th scope=col>vore</th><th scope=col>order</th><th scope=col>conservation</th><th scope=col>sleep_total</th><th scope=col>sleep_rem</th><th scope=col>sleep_cycle</th><th scope=col>awake</th><th scope=col>brainwt</th><th scope=col>bodywt</th><th scope=col>rem_proportion</th></tr></thead>\n",
       "<tbody>\n",
       "\t<tr><td>Cheetah                   </td><td>Acinonyx                  </td><td>carni                     </td><td>Carnivora                 </td><td>lc                        </td><td>12.1                      </td><td> NA                       </td><td>       NA                 </td><td>11.9                      </td><td>     NA                   </td><td> 50.000                   </td><td>       NA                 </td></tr>\n",
       "\t<tr><td>Owl monkey                </td><td>Aotus                     </td><td>omni                      </td><td>Primates                  </td><td>NA                        </td><td>17.0                      </td><td>1.8                       </td><td>       NA                 </td><td> 7.0                      </td><td>0.01550                   </td><td>  0.480                   </td><td>0.1058824                 </td></tr>\n",
       "\t<tr><td>Mountain beaver           </td><td>Aplodontia                </td><td>herbi                     </td><td>Rodentia                  </td><td>nt                        </td><td>14.4                      </td><td>2.4                       </td><td>       NA                 </td><td> 9.6                      </td><td>     NA                   </td><td>  1.350                   </td><td>0.1666667                 </td></tr>\n",
       "\t<tr><td>Greater short-tailed shrew</td><td>Blarina                   </td><td>omni                      </td><td>Soricomorpha              </td><td>lc                        </td><td>14.9                      </td><td>2.3                       </td><td>0.1333333                 </td><td> 9.1                      </td><td>0.00029                   </td><td>  0.019                   </td><td>0.1543624                 </td></tr>\n",
       "\t<tr><td>Cow                       </td><td>Bos                       </td><td>herbi                     </td><td>Artiodactyla              </td><td>domesticated              </td><td> 4.0                      </td><td>0.7                       </td><td>0.6666667                 </td><td>20.0                      </td><td>0.42300                   </td><td>600.000                   </td><td>0.1750000                 </td></tr>\n",
       "\t<tr><td>Three-toed sloth          </td><td>Bradypus                  </td><td>herbi                     </td><td>Pilosa                    </td><td>NA                        </td><td>14.4                      </td><td>2.2                       </td><td>0.7666667                 </td><td> 9.6                      </td><td>     NA                   </td><td>  3.850                   </td><td>0.1527778                 </td></tr>\n",
       "</tbody>\n",
       "</table>\n"
      ],
      "text/latex": [
       "\\begin{tabular}{r|llllllllllll}\n",
       " name & genus & vore & order & conservation & sleep\\_total & sleep\\_rem & sleep\\_cycle & awake & brainwt & bodywt & rem\\_proportion\\\\\n",
       "\\hline\n",
       "\t Cheetah                    & Acinonyx                   & carni                      & Carnivora                  & lc                         & 12.1                       &  NA                        &        NA                  & 11.9                       &      NA                    &  50.000                    &        NA                 \\\\\n",
       "\t Owl monkey                 & Aotus                      & omni                       & Primates                   & NA                         & 17.0                       & 1.8                        &        NA                  &  7.0                       & 0.01550                    &   0.480                    & 0.1058824                 \\\\\n",
       "\t Mountain beaver            & Aplodontia                 & herbi                      & Rodentia                   & nt                         & 14.4                       & 2.4                        &        NA                  &  9.6                       &      NA                    &   1.350                    & 0.1666667                 \\\\\n",
       "\t Greater short-tailed shrew & Blarina                    & omni                       & Soricomorpha               & lc                         & 14.9                       & 2.3                        & 0.1333333                  &  9.1                       & 0.00029                    &   0.019                    & 0.1543624                 \\\\\n",
       "\t Cow                        & Bos                        & herbi                      & Artiodactyla               & domesticated               &  4.0                       & 0.7                        & 0.6666667                  & 20.0                       & 0.42300                    & 600.000                    & 0.1750000                 \\\\\n",
       "\t Three-toed sloth           & Bradypus                   & herbi                      & Pilosa                     & NA                         & 14.4                       & 2.2                        & 0.7666667                  &  9.6                       &      NA                    &   3.850                    & 0.1527778                 \\\\\n",
       "\\end{tabular}\n"
      ],
      "text/markdown": [
       "\n",
       "name | genus | vore | order | conservation | sleep_total | sleep_rem | sleep_cycle | awake | brainwt | bodywt | rem_proportion | \n",
       "|---|---|---|---|---|---|\n",
       "| Cheetah                    | Acinonyx                   | carni                      | Carnivora                  | lc                         | 12.1                       |  NA                        |        NA                  | 11.9                       |      NA                    |  50.000                    |        NA                  | \n",
       "| Owl monkey                 | Aotus                      | omni                       | Primates                   | NA                         | 17.0                       | 1.8                        |        NA                  |  7.0                       | 0.01550                    |   0.480                    | 0.1058824                  | \n",
       "| Mountain beaver            | Aplodontia                 | herbi                      | Rodentia                   | nt                         | 14.4                       | 2.4                        |        NA                  |  9.6                       |      NA                    |   1.350                    | 0.1666667                  | \n",
       "| Greater short-tailed shrew | Blarina                    | omni                       | Soricomorpha               | lc                         | 14.9                       | 2.3                        | 0.1333333                  |  9.1                       | 0.00029                    |   0.019                    | 0.1543624                  | \n",
       "| Cow                        | Bos                        | herbi                      | Artiodactyla               | domesticated               |  4.0                       | 0.7                        | 0.6666667                  | 20.0                       | 0.42300                    | 600.000                    | 0.1750000                  | \n",
       "| Three-toed sloth           | Bradypus                   | herbi                      | Pilosa                     | NA                         | 14.4                       | 2.2                        | 0.7666667                  |  9.6                       |      NA                    |   3.850                    | 0.1527778                  | \n",
       "\n",
       "\n"
      ],
      "text/plain": [
       "  name                       genus      vore  order        conservation\n",
       "1 Cheetah                    Acinonyx   carni Carnivora    lc          \n",
       "2 Owl monkey                 Aotus      omni  Primates     NA          \n",
       "3 Mountain beaver            Aplodontia herbi Rodentia     nt          \n",
       "4 Greater short-tailed shrew Blarina    omni  Soricomorpha lc          \n",
       "5 Cow                        Bos        herbi Artiodactyla domesticated\n",
       "6 Three-toed sloth           Bradypus   herbi Pilosa       NA          \n",
       "  sleep_total sleep_rem sleep_cycle awake brainwt bodywt  rem_proportion\n",
       "1 12.1         NA              NA   11.9       NA  50.000        NA     \n",
       "2 17.0        1.8              NA    7.0  0.01550   0.480 0.1058824     \n",
       "3 14.4        2.4              NA    9.6       NA   1.350 0.1666667     \n",
       "4 14.9        2.3       0.1333333    9.1  0.00029   0.019 0.1543624     \n",
       "5  4.0        0.7       0.6666667   20.0  0.42300 600.000 0.1750000     \n",
       "6 14.4        2.2       0.7666667    9.6       NA   3.850 0.1527778     "
      ]
     },
     "metadata": {},
     "output_type": "display_data"
    }
   ],
   "source": [
    "msleep %>% mutate(rem_proportion = sleep_rem/sleep_total) %>% head"
   ]
  },
  {
   "cell_type": "markdown",
   "metadata": {},
   "source": [
    "You can many new columns using mutate (separated by commas). Here we add a second column called bodywt_grams which is the bodywt column in grams."
   ]
  },
  {
   "cell_type": "code",
   "execution_count": 17,
   "metadata": {
    "collapsed": false
   },
   "outputs": [
    {
     "data": {
      "text/html": [
       "<table>\n",
       "<thead><tr><th scope=col>name</th><th scope=col>genus</th><th scope=col>vore</th><th scope=col>order</th><th scope=col>conservation</th><th scope=col>sleep_total</th><th scope=col>sleep_rem</th><th scope=col>sleep_cycle</th><th scope=col>awake</th><th scope=col>brainwt</th><th scope=col>bodywt</th><th scope=col>rem_proportion</th><th scope=col>bodywt_grams</th></tr></thead>\n",
       "<tbody>\n",
       "\t<tr><td>Cheetah                   </td><td>Acinonyx                  </td><td>carni                     </td><td>Carnivora                 </td><td>lc                        </td><td>12.1                      </td><td> NA                       </td><td>       NA                 </td><td>11.9                      </td><td>     NA                   </td><td> 50.000                   </td><td>       NA                 </td><td> 50000                    </td></tr>\n",
       "\t<tr><td>Owl monkey                </td><td>Aotus                     </td><td>omni                      </td><td>Primates                  </td><td>NA                        </td><td>17.0                      </td><td>1.8                       </td><td>       NA                 </td><td> 7.0                      </td><td>0.01550                   </td><td>  0.480                   </td><td>0.1058824                 </td><td>   480                    </td></tr>\n",
       "\t<tr><td>Mountain beaver           </td><td>Aplodontia                </td><td>herbi                     </td><td>Rodentia                  </td><td>nt                        </td><td>14.4                      </td><td>2.4                       </td><td>       NA                 </td><td> 9.6                      </td><td>     NA                   </td><td>  1.350                   </td><td>0.1666667                 </td><td>  1350                    </td></tr>\n",
       "\t<tr><td>Greater short-tailed shrew</td><td>Blarina                   </td><td>omni                      </td><td>Soricomorpha              </td><td>lc                        </td><td>14.9                      </td><td>2.3                       </td><td>0.1333333                 </td><td> 9.1                      </td><td>0.00029                   </td><td>  0.019                   </td><td>0.1543624                 </td><td>    19                    </td></tr>\n",
       "\t<tr><td>Cow                       </td><td>Bos                       </td><td>herbi                     </td><td>Artiodactyla              </td><td>domesticated              </td><td> 4.0                      </td><td>0.7                       </td><td>0.6666667                 </td><td>20.0                      </td><td>0.42300                   </td><td>600.000                   </td><td>0.1750000                 </td><td>600000                    </td></tr>\n",
       "\t<tr><td>Three-toed sloth          </td><td>Bradypus                  </td><td>herbi                     </td><td>Pilosa                    </td><td>NA                        </td><td>14.4                      </td><td>2.2                       </td><td>0.7666667                 </td><td> 9.6                      </td><td>     NA                   </td><td>  3.850                   </td><td>0.1527778                 </td><td>  3850                    </td></tr>\n",
       "</tbody>\n",
       "</table>\n"
      ],
      "text/latex": [
       "\\begin{tabular}{r|lllllllllllll}\n",
       " name & genus & vore & order & conservation & sleep\\_total & sleep\\_rem & sleep\\_cycle & awake & brainwt & bodywt & rem\\_proportion & bodywt\\_grams\\\\\n",
       "\\hline\n",
       "\t Cheetah                    & Acinonyx                   & carni                      & Carnivora                  & lc                         & 12.1                       &  NA                        &        NA                  & 11.9                       &      NA                    &  50.000                    &        NA                  &  50000                    \\\\\n",
       "\t Owl monkey                 & Aotus                      & omni                       & Primates                   & NA                         & 17.0                       & 1.8                        &        NA                  &  7.0                       & 0.01550                    &   0.480                    & 0.1058824                  &    480                    \\\\\n",
       "\t Mountain beaver            & Aplodontia                 & herbi                      & Rodentia                   & nt                         & 14.4                       & 2.4                        &        NA                  &  9.6                       &      NA                    &   1.350                    & 0.1666667                  &   1350                    \\\\\n",
       "\t Greater short-tailed shrew & Blarina                    & omni                       & Soricomorpha               & lc                         & 14.9                       & 2.3                        & 0.1333333                  &  9.1                       & 0.00029                    &   0.019                    & 0.1543624                  &     19                    \\\\\n",
       "\t Cow                        & Bos                        & herbi                      & Artiodactyla               & domesticated               &  4.0                       & 0.7                        & 0.6666667                  & 20.0                       & 0.42300                    & 600.000                    & 0.1750000                  & 600000                    \\\\\n",
       "\t Three-toed sloth           & Bradypus                   & herbi                      & Pilosa                     & NA                         & 14.4                       & 2.2                        & 0.7666667                  &  9.6                       &      NA                    &   3.850                    & 0.1527778                  &   3850                    \\\\\n",
       "\\end{tabular}\n"
      ],
      "text/markdown": [
       "\n",
       "name | genus | vore | order | conservation | sleep_total | sleep_rem | sleep_cycle | awake | brainwt | bodywt | rem_proportion | bodywt_grams | \n",
       "|---|---|---|---|---|---|\n",
       "| Cheetah                    | Acinonyx                   | carni                      | Carnivora                  | lc                         | 12.1                       |  NA                        |        NA                  | 11.9                       |      NA                    |  50.000                    |        NA                  |  50000                     | \n",
       "| Owl monkey                 | Aotus                      | omni                       | Primates                   | NA                         | 17.0                       | 1.8                        |        NA                  |  7.0                       | 0.01550                    |   0.480                    | 0.1058824                  |    480                     | \n",
       "| Mountain beaver            | Aplodontia                 | herbi                      | Rodentia                   | nt                         | 14.4                       | 2.4                        |        NA                  |  9.6                       |      NA                    |   1.350                    | 0.1666667                  |   1350                     | \n",
       "| Greater short-tailed shrew | Blarina                    | omni                       | Soricomorpha               | lc                         | 14.9                       | 2.3                        | 0.1333333                  |  9.1                       | 0.00029                    |   0.019                    | 0.1543624                  |     19                     | \n",
       "| Cow                        | Bos                        | herbi                      | Artiodactyla               | domesticated               |  4.0                       | 0.7                        | 0.6666667                  | 20.0                       | 0.42300                    | 600.000                    | 0.1750000                  | 600000                     | \n",
       "| Three-toed sloth           | Bradypus                   | herbi                      | Pilosa                     | NA                         | 14.4                       | 2.2                        | 0.7666667                  |  9.6                       |      NA                    |   3.850                    | 0.1527778                  |   3850                     | \n",
       "\n",
       "\n"
      ],
      "text/plain": [
       "  name                       genus      vore  order        conservation\n",
       "1 Cheetah                    Acinonyx   carni Carnivora    lc          \n",
       "2 Owl monkey                 Aotus      omni  Primates     NA          \n",
       "3 Mountain beaver            Aplodontia herbi Rodentia     nt          \n",
       "4 Greater short-tailed shrew Blarina    omni  Soricomorpha lc          \n",
       "5 Cow                        Bos        herbi Artiodactyla domesticated\n",
       "6 Three-toed sloth           Bradypus   herbi Pilosa       NA          \n",
       "  sleep_total sleep_rem sleep_cycle awake brainwt bodywt  rem_proportion\n",
       "1 12.1         NA              NA   11.9       NA  50.000        NA     \n",
       "2 17.0        1.8              NA    7.0  0.01550   0.480 0.1058824     \n",
       "3 14.4        2.4              NA    9.6       NA   1.350 0.1666667     \n",
       "4 14.9        2.3       0.1333333    9.1  0.00029   0.019 0.1543624     \n",
       "5  4.0        0.7       0.6666667   20.0  0.42300 600.000 0.1750000     \n",
       "6 14.4        2.2       0.7666667    9.6       NA   3.850 0.1527778     \n",
       "  bodywt_grams\n",
       "1  50000      \n",
       "2    480      \n",
       "3   1350      \n",
       "4     19      \n",
       "5 600000      \n",
       "6   3850      "
      ]
     },
     "metadata": {},
     "output_type": "display_data"
    }
   ],
   "source": [
    "msleep %>% mutate(rem_proportion = sleep_rem/sleep_total, bodywt_grams = bodywt*1000) %>% head"
   ]
  },
  {
   "cell_type": "markdown",
   "metadata": {},
   "source": [
    "# Create summaries of the data frame using summarise()"
   ]
  },
  {
   "cell_type": "markdown",
   "metadata": {},
   "source": [
    "The summarise() function will create summary statistics for a given column in the data frame such as finding the mean. For example, to compute the average number of hours of sleep, apply the mean() function to the column sleep_total and call the summary value avg_sleep."
   ]
  },
  {
   "cell_type": "code",
   "execution_count": 18,
   "metadata": {
    "collapsed": false
   },
   "outputs": [
    {
     "name": "stdout",
     "output_type": "stream",
     "text": [
      "  avg_sleep\n",
      "1  10.43373\n"
     ]
    }
   ],
   "source": [
    "print(msleep %>% summarize(avg_sleep = mean(sleep_total)))"
   ]
  },
  {
   "cell_type": "code",
   "execution_count": 19,
   "metadata": {
    "collapsed": false
   },
   "outputs": [
    {
     "data": {
      "text/html": [
       "<table>\n",
       "<thead><tr><th scope=col>avg_sleep</th><th scope=col>min_sleep</th><th scope=col>max_sleep</th><th scope=col>total</th></tr></thead>\n",
       "<tbody>\n",
       "\t<tr><td>10.43373</td><td>1.9     </td><td>19.9    </td><td>83      </td></tr>\n",
       "</tbody>\n",
       "</table>\n"
      ],
      "text/latex": [
       "\\begin{tabular}{r|llll}\n",
       " avg\\_sleep & min\\_sleep & max\\_sleep & total\\\\\n",
       "\\hline\n",
       "\t 10.43373 & 1.9      & 19.9     & 83      \\\\\n",
       "\\end{tabular}\n"
      ],
      "text/markdown": [
       "\n",
       "avg_sleep | min_sleep | max_sleep | total | \n",
       "|---|\n",
       "| 10.43373 | 1.9      | 19.9     | 83       | \n",
       "\n",
       "\n"
      ],
      "text/plain": [
       "  avg_sleep min_sleep max_sleep total\n",
       "1 10.43373  1.9       19.9      83   "
      ]
     },
     "metadata": {},
     "output_type": "display_data"
    }
   ],
   "source": [
    "msleep %>% summarize(avg_sleep = mean(sleep_total), min_sleep=min(sleep_total), max_sleep=max(sleep_total), total =n())"
   ]
  },
  {
   "cell_type": "markdown",
   "metadata": {},
   "source": [
    "## Group operations using group_by()"
   ]
  },
  {
   "cell_type": "code",
   "execution_count": 20,
   "metadata": {
    "collapsed": false
   },
   "outputs": [
    {
     "data": {
      "text/html": [
       "<table>\n",
       "<thead><tr><th scope=col>order</th><th scope=col>avg_sleep</th><th scope=col>min_sleep</th><th scope=col>max_sleep</th><th scope=col>total</th></tr></thead>\n",
       "<tbody>\n",
       "\t<tr><td>Afrosoricida   </td><td>15.600000      </td><td>15.6           </td><td>15.6           </td><td> 1             </td></tr>\n",
       "\t<tr><td>Artiodactyla   </td><td> 4.516667      </td><td> 1.9           </td><td> 9.1           </td><td> 6             </td></tr>\n",
       "\t<tr><td>Carnivora      </td><td>10.116667      </td><td> 3.5           </td><td>15.8           </td><td>12             </td></tr>\n",
       "\t<tr><td>Cetacea        </td><td> 4.500000      </td><td> 2.7           </td><td> 5.6           </td><td> 3             </td></tr>\n",
       "\t<tr><td>Chiroptera     </td><td>19.800000      </td><td>19.7           </td><td>19.9           </td><td> 2             </td></tr>\n",
       "\t<tr><td>Cingulata      </td><td>17.750000      </td><td>17.4           </td><td>18.1           </td><td> 2             </td></tr>\n",
       "\t<tr><td>Didelphimorphia</td><td>18.700000      </td><td>18.0           </td><td>19.4           </td><td> 2             </td></tr>\n",
       "\t<tr><td>Diprotodontia  </td><td>12.400000      </td><td>11.1           </td><td>13.7           </td><td> 2             </td></tr>\n",
       "\t<tr><td>Erinaceomorpha </td><td>10.200000      </td><td>10.1           </td><td>10.3           </td><td> 2             </td></tr>\n",
       "\t<tr><td>Hyracoidea     </td><td> 5.666667      </td><td> 5.3           </td><td> 6.3           </td><td> 3             </td></tr>\n",
       "\t<tr><td>Lagomorpha     </td><td> 8.400000      </td><td> 8.4           </td><td> 8.4           </td><td> 1             </td></tr>\n",
       "\t<tr><td>Monotremata    </td><td> 8.600000      </td><td> 8.6           </td><td> 8.6           </td><td> 1             </td></tr>\n",
       "\t<tr><td>Perissodactyla </td><td> 3.466667      </td><td> 2.9           </td><td> 4.4           </td><td> 3             </td></tr>\n",
       "\t<tr><td>Pilosa         </td><td>14.400000      </td><td>14.4           </td><td>14.4           </td><td> 1             </td></tr>\n",
       "\t<tr><td>Primates       </td><td>10.500000      </td><td> 8.0           </td><td>17.0           </td><td>12             </td></tr>\n",
       "\t<tr><td>Proboscidea    </td><td> 3.600000      </td><td> 3.3           </td><td> 3.9           </td><td> 2             </td></tr>\n",
       "\t<tr><td>Rodentia       </td><td>12.468182      </td><td> 7.0           </td><td>16.6           </td><td>22             </td></tr>\n",
       "\t<tr><td>Scandentia     </td><td> 8.900000      </td><td> 8.9           </td><td> 8.9           </td><td> 1             </td></tr>\n",
       "\t<tr><td>Soricomorpha   </td><td>11.100000      </td><td> 8.4           </td><td>14.9           </td><td> 5             </td></tr>\n",
       "</tbody>\n",
       "</table>\n"
      ],
      "text/latex": [
       "\\begin{tabular}{r|lllll}\n",
       " order & avg\\_sleep & min\\_sleep & max\\_sleep & total\\\\\n",
       "\\hline\n",
       "\t Afrosoricida    & 15.600000       & 15.6            & 15.6            &  1             \\\\\n",
       "\t Artiodactyla    &  4.516667       &  1.9            &  9.1            &  6             \\\\\n",
       "\t Carnivora       & 10.116667       &  3.5            & 15.8            & 12             \\\\\n",
       "\t Cetacea         &  4.500000       &  2.7            &  5.6            &  3             \\\\\n",
       "\t Chiroptera      & 19.800000       & 19.7            & 19.9            &  2             \\\\\n",
       "\t Cingulata       & 17.750000       & 17.4            & 18.1            &  2             \\\\\n",
       "\t Didelphimorphia & 18.700000       & 18.0            & 19.4            &  2             \\\\\n",
       "\t Diprotodontia   & 12.400000       & 11.1            & 13.7            &  2             \\\\\n",
       "\t Erinaceomorpha  & 10.200000       & 10.1            & 10.3            &  2             \\\\\n",
       "\t Hyracoidea      &  5.666667       &  5.3            &  6.3            &  3             \\\\\n",
       "\t Lagomorpha      &  8.400000       &  8.4            &  8.4            &  1             \\\\\n",
       "\t Monotremata     &  8.600000       &  8.6            &  8.6            &  1             \\\\\n",
       "\t Perissodactyla  &  3.466667       &  2.9            &  4.4            &  3             \\\\\n",
       "\t Pilosa          & 14.400000       & 14.4            & 14.4            &  1             \\\\\n",
       "\t Primates        & 10.500000       &  8.0            & 17.0            & 12             \\\\\n",
       "\t Proboscidea     &  3.600000       &  3.3            &  3.9            &  2             \\\\\n",
       "\t Rodentia        & 12.468182       &  7.0            & 16.6            & 22             \\\\\n",
       "\t Scandentia      &  8.900000       &  8.9            &  8.9            &  1             \\\\\n",
       "\t Soricomorpha    & 11.100000       &  8.4            & 14.9            &  5             \\\\\n",
       "\\end{tabular}\n"
      ],
      "text/markdown": [
       "\n",
       "order | avg_sleep | min_sleep | max_sleep | total | \n",
       "|---|---|---|---|---|---|---|---|---|---|---|---|---|---|---|---|---|---|---|\n",
       "| Afrosoricida    | 15.600000       | 15.6            | 15.6            |  1              | \n",
       "| Artiodactyla    |  4.516667       |  1.9            |  9.1            |  6              | \n",
       "| Carnivora       | 10.116667       |  3.5            | 15.8            | 12              | \n",
       "| Cetacea         |  4.500000       |  2.7            |  5.6            |  3              | \n",
       "| Chiroptera      | 19.800000       | 19.7            | 19.9            |  2              | \n",
       "| Cingulata       | 17.750000       | 17.4            | 18.1            |  2              | \n",
       "| Didelphimorphia | 18.700000       | 18.0            | 19.4            |  2              | \n",
       "| Diprotodontia   | 12.400000       | 11.1            | 13.7            |  2              | \n",
       "| Erinaceomorpha  | 10.200000       | 10.1            | 10.3            |  2              | \n",
       "| Hyracoidea      |  5.666667       |  5.3            |  6.3            |  3              | \n",
       "| Lagomorpha      |  8.400000       |  8.4            |  8.4            |  1              | \n",
       "| Monotremata     |  8.600000       |  8.6            |  8.6            |  1              | \n",
       "| Perissodactyla  |  3.466667       |  2.9            |  4.4            |  3              | \n",
       "| Pilosa          | 14.400000       | 14.4            | 14.4            |  1              | \n",
       "| Primates        | 10.500000       |  8.0            | 17.0            | 12              | \n",
       "| Proboscidea     |  3.600000       |  3.3            |  3.9            |  2              | \n",
       "| Rodentia        | 12.468182       |  7.0            | 16.6            | 22              | \n",
       "| Scandentia      |  8.900000       |  8.9            |  8.9            |  1              | \n",
       "| Soricomorpha    | 11.100000       |  8.4            | 14.9            |  5              | \n",
       "\n",
       "\n"
      ],
      "text/plain": [
       "   order           avg_sleep min_sleep max_sleep total\n",
       "1  Afrosoricida    15.600000 15.6      15.6       1   \n",
       "2  Artiodactyla     4.516667  1.9       9.1       6   \n",
       "3  Carnivora       10.116667  3.5      15.8      12   \n",
       "4  Cetacea          4.500000  2.7       5.6       3   \n",
       "5  Chiroptera      19.800000 19.7      19.9       2   \n",
       "6  Cingulata       17.750000 17.4      18.1       2   \n",
       "7  Didelphimorphia 18.700000 18.0      19.4       2   \n",
       "8  Diprotodontia   12.400000 11.1      13.7       2   \n",
       "9  Erinaceomorpha  10.200000 10.1      10.3       2   \n",
       "10 Hyracoidea       5.666667  5.3       6.3       3   \n",
       "11 Lagomorpha       8.400000  8.4       8.4       1   \n",
       "12 Monotremata      8.600000  8.6       8.6       1   \n",
       "13 Perissodactyla   3.466667  2.9       4.4       3   \n",
       "14 Pilosa          14.400000 14.4      14.4       1   \n",
       "15 Primates        10.500000  8.0      17.0      12   \n",
       "16 Proboscidea      3.600000  3.3       3.9       2   \n",
       "17 Rodentia        12.468182  7.0      16.6      22   \n",
       "18 Scandentia       8.900000  8.9       8.9       1   \n",
       "19 Soricomorpha    11.100000  8.4      14.9       5   "
      ]
     },
     "metadata": {},
     "output_type": "display_data"
    }
   ],
   "source": [
    "msleep %>% group_by(order) %>% summarize(avg_sleep = mean(sleep_total),\n",
    "                                       min_sleep = min(sleep_total),\n",
    "                                       max_sleep = max(sleep_total),\n",
    "                                       total = n())"
   ]
  },
  {
   "cell_type": "markdown",
   "metadata": {},
   "source": [
    "## Renaming Columns"
   ]
  },
  {
   "cell_type": "code",
   "execution_count": 21,
   "metadata": {
    "collapsed": false
   },
   "outputs": [
    {
     "data": {
      "text/html": [
       "<table>\n",
       "<thead><tr><th scope=col>year</th><th scope=col>month</th><th scope=col>day</th><th scope=col>dep_time</th><th scope=col>sched_dep_time</th><th scope=col>dep_delay</th><th scope=col>arr_time</th><th scope=col>sched_arr_time</th><th scope=col>arr_delay</th><th scope=col>carrier</th><th scope=col>flight</th><th scope=col>tailnum</th><th scope=col>origin</th><th scope=col>dest</th><th scope=col>air_time</th><th scope=col>distance</th><th scope=col>hour</th><th scope=col>minute</th><th scope=col>time_hour</th></tr></thead>\n",
       "<tbody>\n",
       "\t<tr><td>2013               </td><td>1                  </td><td>1                  </td><td>517                </td><td>515                </td><td> 2                 </td><td> 830               </td><td> 819               </td><td> 11                </td><td>UA                 </td><td>1545               </td><td>N14228             </td><td>EWR                </td><td>IAH                </td><td>227                </td><td>1400               </td><td>5                  </td><td>15                 </td><td>2013-01-01 05:00:00</td></tr>\n",
       "\t<tr><td>2013               </td><td>1                  </td><td>1                  </td><td>533                </td><td>529                </td><td> 4                 </td><td> 850               </td><td> 830               </td><td> 20                </td><td>UA                 </td><td>1714               </td><td>N24211             </td><td>LGA                </td><td>IAH                </td><td>227                </td><td>1416               </td><td>5                  </td><td>29                 </td><td>2013-01-01 05:00:00</td></tr>\n",
       "\t<tr><td>2013               </td><td>1                  </td><td>1                  </td><td>542                </td><td>540                </td><td> 2                 </td><td> 923               </td><td> 850               </td><td> 33                </td><td>AA                 </td><td>1141               </td><td>N619AA             </td><td>JFK                </td><td>MIA                </td><td>160                </td><td>1089               </td><td>5                  </td><td>40                 </td><td>2013-01-01 05:00:00</td></tr>\n",
       "\t<tr><td>2013               </td><td>1                  </td><td>1                  </td><td>544                </td><td>545                </td><td>-1                 </td><td>1004               </td><td>1022               </td><td>-18                </td><td>B6                 </td><td> 725               </td><td>N804JB             </td><td>JFK                </td><td>BQN                </td><td>183                </td><td>1576               </td><td>5                  </td><td>45                 </td><td>2013-01-01 05:00:00</td></tr>\n",
       "\t<tr><td>2013               </td><td>1                  </td><td>1                  </td><td>554                </td><td>600                </td><td>-6                 </td><td> 812               </td><td> 837               </td><td>-25                </td><td>DL                 </td><td> 461               </td><td>N668DN             </td><td>LGA                </td><td>ATL                </td><td>116                </td><td> 762               </td><td>6                  </td><td> 0                 </td><td>2013-01-01 06:00:00</td></tr>\n",
       "\t<tr><td>2013               </td><td>1                  </td><td>1                  </td><td>554                </td><td>558                </td><td>-4                 </td><td> 740               </td><td> 728               </td><td> 12                </td><td>UA                 </td><td>1696               </td><td>N39463             </td><td>EWR                </td><td>ORD                </td><td>150                </td><td> 719               </td><td>5                  </td><td>58                 </td><td>2013-01-01 05:00:00</td></tr>\n",
       "</tbody>\n",
       "</table>\n"
      ],
      "text/latex": [
       "\\begin{tabular}{r|lllllllllllllllllll}\n",
       " year & month & day & dep\\_time & sched\\_dep\\_time & dep\\_delay & arr\\_time & sched\\_arr\\_time & arr\\_delay & carrier & flight & tailnum & origin & dest & air\\_time & distance & hour & minute & time\\_hour\\\\\n",
       "\\hline\n",
       "\t 2013                & 1                   & 1                   & 517                 & 515                 &  2                  &  830                &  819                &  11                 & UA                  & 1545                & N14228              & EWR                 & IAH                 & 227                 & 1400                & 5                   & 15                  & 2013-01-01 05:00:00\\\\\n",
       "\t 2013                & 1                   & 1                   & 533                 & 529                 &  4                  &  850                &  830                &  20                 & UA                  & 1714                & N24211              & LGA                 & IAH                 & 227                 & 1416                & 5                   & 29                  & 2013-01-01 05:00:00\\\\\n",
       "\t 2013                & 1                   & 1                   & 542                 & 540                 &  2                  &  923                &  850                &  33                 & AA                  & 1141                & N619AA              & JFK                 & MIA                 & 160                 & 1089                & 5                   & 40                  & 2013-01-01 05:00:00\\\\\n",
       "\t 2013                & 1                   & 1                   & 544                 & 545                 & -1                  & 1004                & 1022                & -18                 & B6                  &  725                & N804JB              & JFK                 & BQN                 & 183                 & 1576                & 5                   & 45                  & 2013-01-01 05:00:00\\\\\n",
       "\t 2013                & 1                   & 1                   & 554                 & 600                 & -6                  &  812                &  837                & -25                 & DL                  &  461                & N668DN              & LGA                 & ATL                 & 116                 &  762                & 6                   &  0                  & 2013-01-01 06:00:00\\\\\n",
       "\t 2013                & 1                   & 1                   & 554                 & 558                 & -4                  &  740                &  728                &  12                 & UA                  & 1696                & N39463              & EWR                 & ORD                 & 150                 &  719                & 5                   & 58                  & 2013-01-01 05:00:00\\\\\n",
       "\\end{tabular}\n"
      ],
      "text/markdown": [
       "\n",
       "year | month | day | dep_time | sched_dep_time | dep_delay | arr_time | sched_arr_time | arr_delay | carrier | flight | tailnum | origin | dest | air_time | distance | hour | minute | time_hour | \n",
       "|---|---|---|---|---|---|\n",
       "| 2013                | 1                   | 1                   | 517                 | 515                 |  2                  |  830                |  819                |  11                 | UA                  | 1545                | N14228              | EWR                 | IAH                 | 227                 | 1400                | 5                   | 15                  | 2013-01-01 05:00:00 | \n",
       "| 2013                | 1                   | 1                   | 533                 | 529                 |  4                  |  850                |  830                |  20                 | UA                  | 1714                | N24211              | LGA                 | IAH                 | 227                 | 1416                | 5                   | 29                  | 2013-01-01 05:00:00 | \n",
       "| 2013                | 1                   | 1                   | 542                 | 540                 |  2                  |  923                |  850                |  33                 | AA                  | 1141                | N619AA              | JFK                 | MIA                 | 160                 | 1089                | 5                   | 40                  | 2013-01-01 05:00:00 | \n",
       "| 2013                | 1                   | 1                   | 544                 | 545                 | -1                  | 1004                | 1022                | -18                 | B6                  |  725                | N804JB              | JFK                 | BQN                 | 183                 | 1576                | 5                   | 45                  | 2013-01-01 05:00:00 | \n",
       "| 2013                | 1                   | 1                   | 554                 | 600                 | -6                  |  812                |  837                | -25                 | DL                  |  461                | N668DN              | LGA                 | ATL                 | 116                 |  762                | 6                   |  0                  | 2013-01-01 06:00:00 | \n",
       "| 2013                | 1                   | 1                   | 554                 | 558                 | -4                  |  740                |  728                |  12                 | UA                  | 1696                | N39463              | EWR                 | ORD                 | 150                 |  719                | 5                   | 58                  | 2013-01-01 05:00:00 | \n",
       "\n",
       "\n"
      ],
      "text/plain": [
       "  year month day dep_time sched_dep_time dep_delay arr_time sched_arr_time\n",
       "1 2013 1     1   517      515             2         830      819          \n",
       "2 2013 1     1   533      529             4         850      830          \n",
       "3 2013 1     1   542      540             2         923      850          \n",
       "4 2013 1     1   544      545            -1        1004     1022          \n",
       "5 2013 1     1   554      600            -6         812      837          \n",
       "6 2013 1     1   554      558            -4         740      728          \n",
       "  arr_delay carrier flight tailnum origin dest air_time distance hour minute\n",
       "1  11       UA      1545   N14228  EWR    IAH  227      1400     5    15    \n",
       "2  20       UA      1714   N24211  LGA    IAH  227      1416     5    29    \n",
       "3  33       AA      1141   N619AA  JFK    MIA  160      1089     5    40    \n",
       "4 -18       B6       725   N804JB  JFK    BQN  183      1576     5    45    \n",
       "5 -25       DL       461   N668DN  LGA    ATL  116       762     6     0    \n",
       "6  12       UA      1696   N39463  EWR    ORD  150       719     5    58    \n",
       "  time_hour          \n",
       "1 2013-01-01 05:00:00\n",
       "2 2013-01-01 05:00:00\n",
       "3 2013-01-01 05:00:00\n",
       "4 2013-01-01 05:00:00\n",
       "5 2013-01-01 06:00:00\n",
       "6 2013-01-01 05:00:00"
      ]
     },
     "metadata": {},
     "output_type": "display_data"
    }
   ],
   "source": [
    "library(nycflights13)\n",
    "flights <- tbl_df(flights)\n",
    "head(flights)"
   ]
  },
  {
   "cell_type": "code",
   "execution_count": 22,
   "metadata": {
    "collapsed": false
   },
   "outputs": [],
   "source": [
    "## renaming columns\n",
    "# rename(flights, tailnum = tail_num)\n",
    "# head(flights)"
   ]
  },
  {
   "cell_type": "markdown",
   "metadata": {},
   "source": [
    "## Distinct"
   ]
  },
  {
   "cell_type": "markdown",
   "metadata": {},
   "source": [
    "A common use of select() is to find out which values a set of variables takes.\n",
    "\n",
    "This is particularly useful in conjunction with the distinct() verb which only returns the unique values in a table."
   ]
  },
  {
   "cell_type": "code",
   "execution_count": 23,
   "metadata": {
    "collapsed": false
   },
   "outputs": [
    {
     "data": {
      "text/html": [
       "<table>\n",
       "<thead><tr><th scope=col>tailnum</th></tr></thead>\n",
       "<tbody>\n",
       "\t<tr><td>N14228</td></tr>\n",
       "\t<tr><td>N24211</td></tr>\n",
       "\t<tr><td>N619AA</td></tr>\n",
       "\t<tr><td>N804JB</td></tr>\n",
       "\t<tr><td>N668DN</td></tr>\n",
       "\t<tr><td>N39463</td></tr>\n",
       "\t<tr><td>N516JB</td></tr>\n",
       "\t<tr><td>N829AS</td></tr>\n",
       "\t<tr><td>N593JB</td></tr>\n",
       "\t<tr><td>N3ALAA</td></tr>\n",
       "\t<tr><td>N793JB</td></tr>\n",
       "\t<tr><td>N657JB</td></tr>\n",
       "\t<tr><td>N29129</td></tr>\n",
       "\t<tr><td>N53441</td></tr>\n",
       "\t<tr><td>N3DUAA</td></tr>\n",
       "\t<tr><td>N708JB</td></tr>\n",
       "\t<tr><td>N76515</td></tr>\n",
       "\t<tr><td>N595JB</td></tr>\n",
       "\t<tr><td>N542MQ</td></tr>\n",
       "\t<tr><td>N644JB</td></tr>\n",
       "\t<tr><td>N971DL</td></tr>\n",
       "\t<tr><td>N730MQ</td></tr>\n",
       "\t<tr><td>N633AA</td></tr>\n",
       "\t<tr><td>N3739P</td></tr>\n",
       "\t<tr><td>N53442</td></tr>\n",
       "\t<tr><td>N9EAMQ</td></tr>\n",
       "\t<tr><td>N532UA</td></tr>\n",
       "\t<tr><td>N635JB</td></tr>\n",
       "\t<tr><td>N794JB</td></tr>\n",
       "\t<tr><td>N326NB</td></tr>\n",
       "\t<tr><td>...</td></tr>\n",
       "\t<tr><td>N152DL</td></tr>\n",
       "\t<tr><td>N790SK</td></tr>\n",
       "\t<tr><td>N843MH</td></tr>\n",
       "\t<tr><td>N797SK</td></tr>\n",
       "\t<tr><td>N762SK</td></tr>\n",
       "\t<tr><td>N933DN</td></tr>\n",
       "\t<tr><td>N768SK</td></tr>\n",
       "\t<tr><td>N795SK</td></tr>\n",
       "\t<tr><td>N780SK</td></tr>\n",
       "\t<tr><td>N143DA</td></tr>\n",
       "\t<tr><td>N740SK</td></tr>\n",
       "\t<tr><td>N726SK</td></tr>\n",
       "\t<tr><td>N705SK</td></tr>\n",
       "\t<tr><td>N728SK</td></tr>\n",
       "\t<tr><td>N824AS</td></tr>\n",
       "\t<tr><td>N702SK</td></tr>\n",
       "\t<tr><td>N560AS</td></tr>\n",
       "\t<tr><td>N778SK</td></tr>\n",
       "\t<tr><td>N922EV</td></tr>\n",
       "\t<tr><td>N710SK</td></tr>\n",
       "\t<tr><td>N647MQ</td></tr>\n",
       "\t<tr><td>N794SK</td></tr>\n",
       "\t<tr><td>N636WN</td></tr>\n",
       "\t<tr><td>N701SK</td></tr>\n",
       "\t<tr><td>N760SK</td></tr>\n",
       "\t<tr><td>N766SK</td></tr>\n",
       "\t<tr><td>N772SK</td></tr>\n",
       "\t<tr><td>N776SK</td></tr>\n",
       "\t<tr><td>N785SK</td></tr>\n",
       "\t<tr><td>N557AS</td></tr>\n",
       "</tbody>\n",
       "</table>\n"
      ],
      "text/latex": [
       "\\begin{tabular}{r|l}\n",
       " tailnum\\\\\n",
       "\\hline\n",
       "\t N14228\\\\\n",
       "\t N24211\\\\\n",
       "\t N619AA\\\\\n",
       "\t N804JB\\\\\n",
       "\t N668DN\\\\\n",
       "\t N39463\\\\\n",
       "\t N516JB\\\\\n",
       "\t N829AS\\\\\n",
       "\t N593JB\\\\\n",
       "\t N3ALAA\\\\\n",
       "\t N793JB\\\\\n",
       "\t N657JB\\\\\n",
       "\t N29129\\\\\n",
       "\t N53441\\\\\n",
       "\t N3DUAA\\\\\n",
       "\t N708JB\\\\\n",
       "\t N76515\\\\\n",
       "\t N595JB\\\\\n",
       "\t N542MQ\\\\\n",
       "\t N644JB\\\\\n",
       "\t N971DL\\\\\n",
       "\t N730MQ\\\\\n",
       "\t N633AA\\\\\n",
       "\t N3739P\\\\\n",
       "\t N53442\\\\\n",
       "\t N9EAMQ\\\\\n",
       "\t N532UA\\\\\n",
       "\t N635JB\\\\\n",
       "\t N794JB\\\\\n",
       "\t N326NB\\\\\n",
       "\t ...\\\\\n",
       "\t N152DL\\\\\n",
       "\t N790SK\\\\\n",
       "\t N843MH\\\\\n",
       "\t N797SK\\\\\n",
       "\t N762SK\\\\\n",
       "\t N933DN\\\\\n",
       "\t N768SK\\\\\n",
       "\t N795SK\\\\\n",
       "\t N780SK\\\\\n",
       "\t N143DA\\\\\n",
       "\t N740SK\\\\\n",
       "\t N726SK\\\\\n",
       "\t N705SK\\\\\n",
       "\t N728SK\\\\\n",
       "\t N824AS\\\\\n",
       "\t N702SK\\\\\n",
       "\t N560AS\\\\\n",
       "\t N778SK\\\\\n",
       "\t N922EV\\\\\n",
       "\t N710SK\\\\\n",
       "\t N647MQ\\\\\n",
       "\t N794SK\\\\\n",
       "\t N636WN\\\\\n",
       "\t N701SK\\\\\n",
       "\t N760SK\\\\\n",
       "\t N766SK\\\\\n",
       "\t N772SK\\\\\n",
       "\t N776SK\\\\\n",
       "\t N785SK\\\\\n",
       "\t N557AS\\\\\n",
       "\\end{tabular}\n"
      ],
      "text/markdown": [
       "\n",
       "tailnum | \n",
       "|---|---|---|---|---|---|---|---|---|---|---|---|---|---|---|---|---|---|---|---|---|---|---|---|---|---|---|---|---|---|---|---|---|---|---|---|---|---|---|---|---|---|---|---|---|---|---|---|---|---|---|---|---|---|---|---|---|---|---|---|---|\n",
       "| N14228 | \n",
       "| N24211 | \n",
       "| N619AA | \n",
       "| N804JB | \n",
       "| N668DN | \n",
       "| N39463 | \n",
       "| N516JB | \n",
       "| N829AS | \n",
       "| N593JB | \n",
       "| N3ALAA | \n",
       "| N793JB | \n",
       "| N657JB | \n",
       "| N29129 | \n",
       "| N53441 | \n",
       "| N3DUAA | \n",
       "| N708JB | \n",
       "| N76515 | \n",
       "| N595JB | \n",
       "| N542MQ | \n",
       "| N644JB | \n",
       "| N971DL | \n",
       "| N730MQ | \n",
       "| N633AA | \n",
       "| N3739P | \n",
       "| N53442 | \n",
       "| N9EAMQ | \n",
       "| N532UA | \n",
       "| N635JB | \n",
       "| N794JB | \n",
       "| N326NB | \n",
       "| ... | \n",
       "| N152DL | \n",
       "| N790SK | \n",
       "| N843MH | \n",
       "| N797SK | \n",
       "| N762SK | \n",
       "| N933DN | \n",
       "| N768SK | \n",
       "| N795SK | \n",
       "| N780SK | \n",
       "| N143DA | \n",
       "| N740SK | \n",
       "| N726SK | \n",
       "| N705SK | \n",
       "| N728SK | \n",
       "| N824AS | \n",
       "| N702SK | \n",
       "| N560AS | \n",
       "| N778SK | \n",
       "| N922EV | \n",
       "| N710SK | \n",
       "| N647MQ | \n",
       "| N794SK | \n",
       "| N636WN | \n",
       "| N701SK | \n",
       "| N760SK | \n",
       "| N766SK | \n",
       "| N772SK | \n",
       "| N776SK | \n",
       "| N785SK | \n",
       "| N557AS | \n",
       "\n",
       "\n"
      ],
      "text/plain": [
       "     tailnum\n",
       "1    N14228 \n",
       "2    N24211 \n",
       "3    N619AA \n",
       "4    N804JB \n",
       "5    N668DN \n",
       "6    N39463 \n",
       "7    N516JB \n",
       "8    N829AS \n",
       "9    N593JB \n",
       "10   N3ALAA \n",
       "11   N793JB \n",
       "12   N657JB \n",
       "13   N29129 \n",
       "14   N53441 \n",
       "15   N3DUAA \n",
       "16   N708JB \n",
       "17   N76515 \n",
       "18   N595JB \n",
       "19   N542MQ \n",
       "20   N644JB \n",
       "21   N971DL \n",
       "22   N730MQ \n",
       "23   N633AA \n",
       "24   N3739P \n",
       "25   N53442 \n",
       "26   N9EAMQ \n",
       "27   N532UA \n",
       "28   N635JB \n",
       "29   N794JB \n",
       "30   N326NB \n",
       "...  ...    \n",
       "4015 N152DL \n",
       "4016 N790SK \n",
       "4017 N843MH \n",
       "4018 N797SK \n",
       "4019 N762SK \n",
       "4020 N933DN \n",
       "4021 N768SK \n",
       "4022 N795SK \n",
       "4023 N780SK \n",
       "4024 N143DA \n",
       "4025 N740SK \n",
       "4026 N726SK \n",
       "4027 N705SK \n",
       "4028 N728SK \n",
       "4029 N824AS \n",
       "4030 N702SK \n",
       "4031 N560AS \n",
       "4032 N778SK \n",
       "4033 N922EV \n",
       "4034 N710SK \n",
       "4035 N647MQ \n",
       "4036 N794SK \n",
       "4037 N636WN \n",
       "4038 N701SK \n",
       "4039 N760SK \n",
       "4040 N766SK \n",
       "4041 N772SK \n",
       "4042 N776SK \n",
       "4043 N785SK \n",
       "4044 N557AS "
      ]
     },
     "metadata": {},
     "output_type": "display_data"
    }
   ],
   "source": [
    "distinct(select(flights, tailnum))"
   ]
  },
  {
   "cell_type": "code",
   "execution_count": 24,
   "metadata": {
    "collapsed": false
   },
   "outputs": [
    {
     "data": {
      "text/html": [
       "<table>\n",
       "<thead><tr><th scope=col>origin</th><th scope=col>dest</th></tr></thead>\n",
       "<tbody>\n",
       "\t<tr><td>EWR</td><td>IAH</td></tr>\n",
       "\t<tr><td>LGA</td><td>IAH</td></tr>\n",
       "\t<tr><td>JFK</td><td>MIA</td></tr>\n",
       "\t<tr><td>JFK</td><td>BQN</td></tr>\n",
       "\t<tr><td>LGA</td><td>ATL</td></tr>\n",
       "\t<tr><td>EWR</td><td>ORD</td></tr>\n",
       "\t<tr><td>EWR</td><td>FLL</td></tr>\n",
       "\t<tr><td>LGA</td><td>IAD</td></tr>\n",
       "\t<tr><td>JFK</td><td>MCO</td></tr>\n",
       "\t<tr><td>LGA</td><td>ORD</td></tr>\n",
       "\t<tr><td>JFK</td><td>PBI</td></tr>\n",
       "\t<tr><td>JFK</td><td>TPA</td></tr>\n",
       "\t<tr><td>JFK</td><td>LAX</td></tr>\n",
       "\t<tr><td>EWR</td><td>SFO</td></tr>\n",
       "\t<tr><td>LGA</td><td>DFW</td></tr>\n",
       "\t<tr><td>JFK</td><td>BOS</td></tr>\n",
       "\t<tr><td>EWR</td><td>LAS</td></tr>\n",
       "\t<tr><td>LGA</td><td>FLL</td></tr>\n",
       "\t<tr><td>EWR</td><td>PBI</td></tr>\n",
       "\t<tr><td>LGA</td><td>MSP</td></tr>\n",
       "\t<tr><td>LGA</td><td>DTW</td></tr>\n",
       "\t<tr><td>EWR</td><td>MIA</td></tr>\n",
       "\t<tr><td>JFK</td><td>ATL</td></tr>\n",
       "\t<tr><td>JFK</td><td>SFO</td></tr>\n",
       "\t<tr><td>JFK</td><td>RSW</td></tr>\n",
       "\t<tr><td>JFK</td><td>SJU</td></tr>\n",
       "\t<tr><td>EWR</td><td>ATL</td></tr>\n",
       "\t<tr><td>EWR</td><td>PHX</td></tr>\n",
       "\t<tr><td>LGA</td><td>MIA</td></tr>\n",
       "\t<tr><td>EWR</td><td>MSP</td></tr>\n",
       "\t<tr><td>...</td><td>...</td></tr>\n",
       "\t<tr><td>JFK</td><td>ACK</td></tr>\n",
       "\t<tr><td>LGA</td><td>BGR</td></tr>\n",
       "\t<tr><td>LGA</td><td>MSN</td></tr>\n",
       "\t<tr><td>LGA</td><td>ORF</td></tr>\n",
       "\t<tr><td>JFK</td><td>IAH</td></tr>\n",
       "\t<tr><td>JFK</td><td>MCI</td></tr>\n",
       "\t<tr><td>LGA</td><td>OMA</td></tr>\n",
       "\t<tr><td>LGA</td><td>DSM</td></tr>\n",
       "\t<tr><td>LGA</td><td>GSP</td></tr>\n",
       "\t<tr><td>JFK</td><td>ABQ</td></tr>\n",
       "\t<tr><td>LGA</td><td>ILM</td></tr>\n",
       "\t<tr><td>LGA</td><td>SYR</td></tr>\n",
       "\t<tr><td>JFK</td><td>MVY</td></tr>\n",
       "\t<tr><td>LGA</td><td>SBN</td></tr>\n",
       "\t<tr><td>JFK</td><td>STL</td></tr>\n",
       "\t<tr><td>LGA</td><td>LEX</td></tr>\n",
       "\t<tr><td>EWR</td><td>SBN</td></tr>\n",
       "\t<tr><td>LGA</td><td>MHT</td></tr>\n",
       "\t<tr><td>LGA</td><td>CAE</td></tr>\n",
       "\t<tr><td>JFK</td><td>JAC</td></tr>\n",
       "\t<tr><td>JFK</td><td>SDF</td></tr>\n",
       "\t<tr><td>LGA</td><td>CHO</td></tr>\n",
       "\t<tr><td>JFK</td><td>MKE</td></tr>\n",
       "\t<tr><td>LGA</td><td>AVL</td></tr>\n",
       "\t<tr><td>JFK</td><td>BHM</td></tr>\n",
       "\t<tr><td>LGA</td><td>TVC</td></tr>\n",
       "\t<tr><td>LGA</td><td>MYR</td></tr>\n",
       "\t<tr><td>EWR</td><td>TVC</td></tr>\n",
       "\t<tr><td>EWR</td><td>ANC</td></tr>\n",
       "\t<tr><td>EWR</td><td>LGA</td></tr>\n",
       "</tbody>\n",
       "</table>\n"
      ],
      "text/latex": [
       "\\begin{tabular}{r|ll}\n",
       " origin & dest\\\\\n",
       "\\hline\n",
       "\t EWR & IAH\\\\\n",
       "\t LGA & IAH\\\\\n",
       "\t JFK & MIA\\\\\n",
       "\t JFK & BQN\\\\\n",
       "\t LGA & ATL\\\\\n",
       "\t EWR & ORD\\\\\n",
       "\t EWR & FLL\\\\\n",
       "\t LGA & IAD\\\\\n",
       "\t JFK & MCO\\\\\n",
       "\t LGA & ORD\\\\\n",
       "\t JFK & PBI\\\\\n",
       "\t JFK & TPA\\\\\n",
       "\t JFK & LAX\\\\\n",
       "\t EWR & SFO\\\\\n",
       "\t LGA & DFW\\\\\n",
       "\t JFK & BOS\\\\\n",
       "\t EWR & LAS\\\\\n",
       "\t LGA & FLL\\\\\n",
       "\t EWR & PBI\\\\\n",
       "\t LGA & MSP\\\\\n",
       "\t LGA & DTW\\\\\n",
       "\t EWR & MIA\\\\\n",
       "\t JFK & ATL\\\\\n",
       "\t JFK & SFO\\\\\n",
       "\t JFK & RSW\\\\\n",
       "\t JFK & SJU\\\\\n",
       "\t EWR & ATL\\\\\n",
       "\t EWR & PHX\\\\\n",
       "\t LGA & MIA\\\\\n",
       "\t EWR & MSP\\\\\n",
       "\t ... & ...\\\\\n",
       "\t JFK & ACK\\\\\n",
       "\t LGA & BGR\\\\\n",
       "\t LGA & MSN\\\\\n",
       "\t LGA & ORF\\\\\n",
       "\t JFK & IAH\\\\\n",
       "\t JFK & MCI\\\\\n",
       "\t LGA & OMA\\\\\n",
       "\t LGA & DSM\\\\\n",
       "\t LGA & GSP\\\\\n",
       "\t JFK & ABQ\\\\\n",
       "\t LGA & ILM\\\\\n",
       "\t LGA & SYR\\\\\n",
       "\t JFK & MVY\\\\\n",
       "\t LGA & SBN\\\\\n",
       "\t JFK & STL\\\\\n",
       "\t LGA & LEX\\\\\n",
       "\t EWR & SBN\\\\\n",
       "\t LGA & MHT\\\\\n",
       "\t LGA & CAE\\\\\n",
       "\t JFK & JAC\\\\\n",
       "\t JFK & SDF\\\\\n",
       "\t LGA & CHO\\\\\n",
       "\t JFK & MKE\\\\\n",
       "\t LGA & AVL\\\\\n",
       "\t JFK & BHM\\\\\n",
       "\t LGA & TVC\\\\\n",
       "\t LGA & MYR\\\\\n",
       "\t EWR & TVC\\\\\n",
       "\t EWR & ANC\\\\\n",
       "\t EWR & LGA\\\\\n",
       "\\end{tabular}\n"
      ],
      "text/markdown": [
       "\n",
       "origin | dest | \n",
       "|---|---|---|---|---|---|---|---|---|---|---|---|---|---|---|---|---|---|---|---|---|---|---|---|---|---|---|---|---|---|---|---|---|---|---|---|---|---|---|---|---|---|---|---|---|---|---|---|---|---|---|---|---|---|---|---|---|---|---|---|---|\n",
       "| EWR | IAH | \n",
       "| LGA | IAH | \n",
       "| JFK | MIA | \n",
       "| JFK | BQN | \n",
       "| LGA | ATL | \n",
       "| EWR | ORD | \n",
       "| EWR | FLL | \n",
       "| LGA | IAD | \n",
       "| JFK | MCO | \n",
       "| LGA | ORD | \n",
       "| JFK | PBI | \n",
       "| JFK | TPA | \n",
       "| JFK | LAX | \n",
       "| EWR | SFO | \n",
       "| LGA | DFW | \n",
       "| JFK | BOS | \n",
       "| EWR | LAS | \n",
       "| LGA | FLL | \n",
       "| EWR | PBI | \n",
       "| LGA | MSP | \n",
       "| LGA | DTW | \n",
       "| EWR | MIA | \n",
       "| JFK | ATL | \n",
       "| JFK | SFO | \n",
       "| JFK | RSW | \n",
       "| JFK | SJU | \n",
       "| EWR | ATL | \n",
       "| EWR | PHX | \n",
       "| LGA | MIA | \n",
       "| EWR | MSP | \n",
       "| ... | ... | \n",
       "| JFK | ACK | \n",
       "| LGA | BGR | \n",
       "| LGA | MSN | \n",
       "| LGA | ORF | \n",
       "| JFK | IAH | \n",
       "| JFK | MCI | \n",
       "| LGA | OMA | \n",
       "| LGA | DSM | \n",
       "| LGA | GSP | \n",
       "| JFK | ABQ | \n",
       "| LGA | ILM | \n",
       "| LGA | SYR | \n",
       "| JFK | MVY | \n",
       "| LGA | SBN | \n",
       "| JFK | STL | \n",
       "| LGA | LEX | \n",
       "| EWR | SBN | \n",
       "| LGA | MHT | \n",
       "| LGA | CAE | \n",
       "| JFK | JAC | \n",
       "| JFK | SDF | \n",
       "| LGA | CHO | \n",
       "| JFK | MKE | \n",
       "| LGA | AVL | \n",
       "| JFK | BHM | \n",
       "| LGA | TVC | \n",
       "| LGA | MYR | \n",
       "| EWR | TVC | \n",
       "| EWR | ANC | \n",
       "| EWR | LGA | \n",
       "\n",
       "\n"
      ],
      "text/plain": [
       "    origin dest\n",
       "1   EWR    IAH \n",
       "2   LGA    IAH \n",
       "3   JFK    MIA \n",
       "4   JFK    BQN \n",
       "5   LGA    ATL \n",
       "6   EWR    ORD \n",
       "7   EWR    FLL \n",
       "8   LGA    IAD \n",
       "9   JFK    MCO \n",
       "10  LGA    ORD \n",
       "11  JFK    PBI \n",
       "12  JFK    TPA \n",
       "13  JFK    LAX \n",
       "14  EWR    SFO \n",
       "15  LGA    DFW \n",
       "16  JFK    BOS \n",
       "17  EWR    LAS \n",
       "18  LGA    FLL \n",
       "19  EWR    PBI \n",
       "20  LGA    MSP \n",
       "21  LGA    DTW \n",
       "22  EWR    MIA \n",
       "23  JFK    ATL \n",
       "24  JFK    SFO \n",
       "25  JFK    RSW \n",
       "26  JFK    SJU \n",
       "27  EWR    ATL \n",
       "28  EWR    PHX \n",
       "29  LGA    MIA \n",
       "30  EWR    MSP \n",
       "... ...    ... \n",
       "195 JFK    ACK \n",
       "196 LGA    BGR \n",
       "197 LGA    MSN \n",
       "198 LGA    ORF \n",
       "199 JFK    IAH \n",
       "200 JFK    MCI \n",
       "201 LGA    OMA \n",
       "202 LGA    DSM \n",
       "203 LGA    GSP \n",
       "204 JFK    ABQ \n",
       "205 LGA    ILM \n",
       "206 LGA    SYR \n",
       "207 JFK    MVY \n",
       "208 LGA    SBN \n",
       "209 JFK    STL \n",
       "210 LGA    LEX \n",
       "211 EWR    SBN \n",
       "212 LGA    MHT \n",
       "213 LGA    CAE \n",
       "214 JFK    JAC \n",
       "215 JFK    SDF \n",
       "216 LGA    CHO \n",
       "217 JFK    MKE \n",
       "218 LGA    AVL \n",
       "219 JFK    BHM \n",
       "220 LGA    TVC \n",
       "221 LGA    MYR \n",
       "222 EWR    TVC \n",
       "223 EWR    ANC \n",
       "224 EWR    LGA "
      ]
     },
     "metadata": {},
     "output_type": "display_data"
    }
   ],
   "source": [
    "distinct(select(flights, origin, dest))"
   ]
  },
  {
   "cell_type": "markdown",
   "metadata": {},
   "source": [
    "## Randomly sample rows"
   ]
  },
  {
   "cell_type": "markdown",
   "metadata": {},
   "source": [
    "You can use either sample_n() to sample a fixed number or sample_frac() to sample a fixed fraction."
   ]
  },
  {
   "cell_type": "code",
   "execution_count": 25,
   "metadata": {
    "collapsed": false
   },
   "outputs": [
    {
     "data": {
      "text/html": [
       "<table>\n",
       "<thead><tr><th scope=col>year</th><th scope=col>month</th><th scope=col>day</th><th scope=col>dep_time</th><th scope=col>sched_dep_time</th><th scope=col>dep_delay</th><th scope=col>arr_time</th><th scope=col>sched_arr_time</th><th scope=col>arr_delay</th><th scope=col>carrier</th><th scope=col>flight</th><th scope=col>tailnum</th><th scope=col>origin</th><th scope=col>dest</th><th scope=col>air_time</th><th scope=col>distance</th><th scope=col>hour</th><th scope=col>minute</th><th scope=col>time_hour</th></tr></thead>\n",
       "<tbody>\n",
       "\t<tr><td>2013               </td><td>10                 </td><td>17                 </td><td>1727               </td><td>1710               </td><td>17                 </td><td>1900               </td><td>1829               </td><td> 31                </td><td>EV                 </td><td>4113               </td><td>N16961             </td><td>EWR                </td><td>RIC                </td><td> 59                </td><td> 277               </td><td>17                 </td><td>10                 </td><td>2013-10-17 17:00:00</td></tr>\n",
       "\t<tr><td>2013               </td><td>12                 </td><td> 4                 </td><td> 625               </td><td> 630               </td><td>-5                 </td><td> 920               </td><td> 830               </td><td> 50                </td><td>MQ                 </td><td>3599               </td><td>N520MQ             </td><td>LGA                </td><td>MSP                </td><td>202                </td><td>1020               </td><td> 6                 </td><td>30                 </td><td>2013-12-04 06:00:00</td></tr>\n",
       "\t<tr><td>2013               </td><td>10                 </td><td>16                 </td><td>1258               </td><td>1300               </td><td>-2                 </td><td>1558               </td><td>1610               </td><td>-12                </td><td>VX                 </td><td> 411               </td><td>N626VA             </td><td>JFK                </td><td>LAX                </td><td>335                </td><td>2475               </td><td>13                 </td><td> 0                 </td><td>2013-10-16 13:00:00</td></tr>\n",
       "\t<tr><td>2013               </td><td>12                 </td><td>14                 </td><td> 801               </td><td> 800               </td><td> 1                 </td><td>1033               </td><td>1029               </td><td>  4                </td><td>UA                 </td><td> 561               </td><td>N567UA             </td><td>LGA                </td><td>DEN                </td><td>225                </td><td>1620               </td><td> 8                 </td><td> 0                 </td><td>2013-12-14 08:00:00</td></tr>\n",
       "\t<tr><td>2013               </td><td> 7                 </td><td>17                 </td><td> 702               </td><td> 705               </td><td>-3                 </td><td> 759               </td><td> 820               </td><td>-21                </td><td>EV                 </td><td>4522               </td><td>N16183             </td><td>EWR                </td><td>BNA                </td><td> 99                </td><td> 748               </td><td> 7                 </td><td> 5                 </td><td>2013-07-17 07:00:00</td></tr>\n",
       "\t<tr><td>2013               </td><td> 5                 </td><td>27                 </td><td> 724               </td><td> 730               </td><td>-6                 </td><td>1057               </td><td>1128               </td><td>-31                </td><td>B6                 </td><td> 215               </td><td>N612JB             </td><td>EWR                </td><td>SJU                </td><td>191                </td><td>1608               </td><td> 7                 </td><td>30                 </td><td>2013-05-27 07:00:00</td></tr>\n",
       "\t<tr><td>2013               </td><td> 7                 </td><td>31                 </td><td> 459               </td><td> 500               </td><td>-1                 </td><td> 633               </td><td> 640               </td><td> -7                </td><td>US                 </td><td>1431               </td><td>N563UW             </td><td>EWR                </td><td>CLT                </td><td> 75                </td><td> 529               </td><td> 5                 </td><td> 0                 </td><td>2013-07-31 05:00:00</td></tr>\n",
       "\t<tr><td>2013               </td><td>10                 </td><td>24                 </td><td>1750               </td><td>1730               </td><td>20                 </td><td>1859               </td><td>1847               </td><td> 12                </td><td>B6                 </td><td>1516               </td><td>N328JB             </td><td>JFK                </td><td>SYR                </td><td> 46                </td><td> 209               </td><td>17                 </td><td>30                 </td><td>2013-10-24 17:00:00</td></tr>\n",
       "\t<tr><td>2013               </td><td>10                 </td><td>21                 </td><td> 637               </td><td> 640               </td><td>-3                 </td><td> 911               </td><td> 907               </td><td>  4                </td><td>B6                 </td><td> 211               </td><td>N652JB             </td><td>JFK                </td><td>LAS                </td><td>308                </td><td>2248               </td><td> 6                 </td><td>40                 </td><td>2013-10-21 06:00:00</td></tr>\n",
       "\t<tr><td>2013               </td><td> 8                 </td><td> 7                 </td><td>1023               </td><td>1025               </td><td>-2                 </td><td>1251               </td><td>1308               </td><td>-17                </td><td>B6                 </td><td> 925               </td><td>N569JB             </td><td>JFK                </td><td>TPA                </td><td>132                </td><td>1005               </td><td>10                 </td><td>25                 </td><td>2013-08-07 10:00:00</td></tr>\n",
       "</tbody>\n",
       "</table>\n"
      ],
      "text/latex": [
       "\\begin{tabular}{r|lllllllllllllllllll}\n",
       " year & month & day & dep\\_time & sched\\_dep\\_time & dep\\_delay & arr\\_time & sched\\_arr\\_time & arr\\_delay & carrier & flight & tailnum & origin & dest & air\\_time & distance & hour & minute & time\\_hour\\\\\n",
       "\\hline\n",
       "\t 2013                & 10                  & 17                  & 1727                & 1710                & 17                  & 1900                & 1829                &  31                 & EV                  & 4113                & N16961              & EWR                 & RIC                 &  59                 &  277                & 17                  & 10                  & 2013-10-17 17:00:00\\\\\n",
       "\t 2013                & 12                  &  4                  &  625                &  630                & -5                  &  920                &  830                &  50                 & MQ                  & 3599                & N520MQ              & LGA                 & MSP                 & 202                 & 1020                &  6                  & 30                  & 2013-12-04 06:00:00\\\\\n",
       "\t 2013                & 10                  & 16                  & 1258                & 1300                & -2                  & 1558                & 1610                & -12                 & VX                  &  411                & N626VA              & JFK                 & LAX                 & 335                 & 2475                & 13                  &  0                  & 2013-10-16 13:00:00\\\\\n",
       "\t 2013                & 12                  & 14                  &  801                &  800                &  1                  & 1033                & 1029                &   4                 & UA                  &  561                & N567UA              & LGA                 & DEN                 & 225                 & 1620                &  8                  &  0                  & 2013-12-14 08:00:00\\\\\n",
       "\t 2013                &  7                  & 17                  &  702                &  705                & -3                  &  759                &  820                & -21                 & EV                  & 4522                & N16183              & EWR                 & BNA                 &  99                 &  748                &  7                  &  5                  & 2013-07-17 07:00:00\\\\\n",
       "\t 2013                &  5                  & 27                  &  724                &  730                & -6                  & 1057                & 1128                & -31                 & B6                  &  215                & N612JB              & EWR                 & SJU                 & 191                 & 1608                &  7                  & 30                  & 2013-05-27 07:00:00\\\\\n",
       "\t 2013                &  7                  & 31                  &  459                &  500                & -1                  &  633                &  640                &  -7                 & US                  & 1431                & N563UW              & EWR                 & CLT                 &  75                 &  529                &  5                  &  0                  & 2013-07-31 05:00:00\\\\\n",
       "\t 2013                & 10                  & 24                  & 1750                & 1730                & 20                  & 1859                & 1847                &  12                 & B6                  & 1516                & N328JB              & JFK                 & SYR                 &  46                 &  209                & 17                  & 30                  & 2013-10-24 17:00:00\\\\\n",
       "\t 2013                & 10                  & 21                  &  637                &  640                & -3                  &  911                &  907                &   4                 & B6                  &  211                & N652JB              & JFK                 & LAS                 & 308                 & 2248                &  6                  & 40                  & 2013-10-21 06:00:00\\\\\n",
       "\t 2013                &  8                  &  7                  & 1023                & 1025                & -2                  & 1251                & 1308                & -17                 & B6                  &  925                & N569JB              & JFK                 & TPA                 & 132                 & 1005                & 10                  & 25                  & 2013-08-07 10:00:00\\\\\n",
       "\\end{tabular}\n"
      ],
      "text/markdown": [
       "\n",
       "year | month | day | dep_time | sched_dep_time | dep_delay | arr_time | sched_arr_time | arr_delay | carrier | flight | tailnum | origin | dest | air_time | distance | hour | minute | time_hour | \n",
       "|---|---|---|---|---|---|---|---|---|---|\n",
       "| 2013                | 10                  | 17                  | 1727                | 1710                | 17                  | 1900                | 1829                |  31                 | EV                  | 4113                | N16961              | EWR                 | RIC                 |  59                 |  277                | 17                  | 10                  | 2013-10-17 17:00:00 | \n",
       "| 2013                | 12                  |  4                  |  625                |  630                | -5                  |  920                |  830                |  50                 | MQ                  | 3599                | N520MQ              | LGA                 | MSP                 | 202                 | 1020                |  6                  | 30                  | 2013-12-04 06:00:00 | \n",
       "| 2013                | 10                  | 16                  | 1258                | 1300                | -2                  | 1558                | 1610                | -12                 | VX                  |  411                | N626VA              | JFK                 | LAX                 | 335                 | 2475                | 13                  |  0                  | 2013-10-16 13:00:00 | \n",
       "| 2013                | 12                  | 14                  |  801                |  800                |  1                  | 1033                | 1029                |   4                 | UA                  |  561                | N567UA              | LGA                 | DEN                 | 225                 | 1620                |  8                  |  0                  | 2013-12-14 08:00:00 | \n",
       "| 2013                |  7                  | 17                  |  702                |  705                | -3                  |  759                |  820                | -21                 | EV                  | 4522                | N16183              | EWR                 | BNA                 |  99                 |  748                |  7                  |  5                  | 2013-07-17 07:00:00 | \n",
       "| 2013                |  5                  | 27                  |  724                |  730                | -6                  | 1057                | 1128                | -31                 | B6                  |  215                | N612JB              | EWR                 | SJU                 | 191                 | 1608                |  7                  | 30                  | 2013-05-27 07:00:00 | \n",
       "| 2013                |  7                  | 31                  |  459                |  500                | -1                  |  633                |  640                |  -7                 | US                  | 1431                | N563UW              | EWR                 | CLT                 |  75                 |  529                |  5                  |  0                  | 2013-07-31 05:00:00 | \n",
       "| 2013                | 10                  | 24                  | 1750                | 1730                | 20                  | 1859                | 1847                |  12                 | B6                  | 1516                | N328JB              | JFK                 | SYR                 |  46                 |  209                | 17                  | 30                  | 2013-10-24 17:00:00 | \n",
       "| 2013                | 10                  | 21                  |  637                |  640                | -3                  |  911                |  907                |   4                 | B6                  |  211                | N652JB              | JFK                 | LAS                 | 308                 | 2248                |  6                  | 40                  | 2013-10-21 06:00:00 | \n",
       "| 2013                |  8                  |  7                  | 1023                | 1025                | -2                  | 1251                | 1308                | -17                 | B6                  |  925                | N569JB              | JFK                 | TPA                 | 132                 | 1005                | 10                  | 25                  | 2013-08-07 10:00:00 | \n",
       "\n",
       "\n"
      ],
      "text/plain": [
       "   year month day dep_time sched_dep_time dep_delay arr_time sched_arr_time\n",
       "1  2013 10    17  1727     1710           17        1900     1829          \n",
       "2  2013 12     4   625      630           -5         920      830          \n",
       "3  2013 10    16  1258     1300           -2        1558     1610          \n",
       "4  2013 12    14   801      800            1        1033     1029          \n",
       "5  2013  7    17   702      705           -3         759      820          \n",
       "6  2013  5    27   724      730           -6        1057     1128          \n",
       "7  2013  7    31   459      500           -1         633      640          \n",
       "8  2013 10    24  1750     1730           20        1859     1847          \n",
       "9  2013 10    21   637      640           -3         911      907          \n",
       "10 2013  8     7  1023     1025           -2        1251     1308          \n",
       "   arr_delay carrier flight tailnum origin dest air_time distance hour minute\n",
       "1   31       EV      4113   N16961  EWR    RIC   59       277     17   10    \n",
       "2   50       MQ      3599   N520MQ  LGA    MSP  202      1020      6   30    \n",
       "3  -12       VX       411   N626VA  JFK    LAX  335      2475     13    0    \n",
       "4    4       UA       561   N567UA  LGA    DEN  225      1620      8    0    \n",
       "5  -21       EV      4522   N16183  EWR    BNA   99       748      7    5    \n",
       "6  -31       B6       215   N612JB  EWR    SJU  191      1608      7   30    \n",
       "7   -7       US      1431   N563UW  EWR    CLT   75       529      5    0    \n",
       "8   12       B6      1516   N328JB  JFK    SYR   46       209     17   30    \n",
       "9    4       B6       211   N652JB  JFK    LAS  308      2248      6   40    \n",
       "10 -17       B6       925   N569JB  JFK    TPA  132      1005     10   25    \n",
       "   time_hour          \n",
       "1  2013-10-17 17:00:00\n",
       "2  2013-12-04 06:00:00\n",
       "3  2013-10-16 13:00:00\n",
       "4  2013-12-14 08:00:00\n",
       "5  2013-07-17 07:00:00\n",
       "6  2013-05-27 07:00:00\n",
       "7  2013-07-31 05:00:00\n",
       "8  2013-10-24 17:00:00\n",
       "9  2013-10-21 06:00:00\n",
       "10 2013-08-07 10:00:00"
      ]
     },
     "metadata": {},
     "output_type": "display_data"
    }
   ],
   "source": [
    "sample_n(flights, 10)"
   ]
  },
  {
   "cell_type": "code",
   "execution_count": 26,
   "metadata": {
    "collapsed": false
   },
   "outputs": [
    {
     "data": {
      "text/html": [
       "<table>\n",
       "<thead><tr><th scope=col>year</th><th scope=col>month</th><th scope=col>day</th><th scope=col>dep_time</th><th scope=col>sched_dep_time</th><th scope=col>dep_delay</th><th scope=col>arr_time</th><th scope=col>sched_arr_time</th><th scope=col>arr_delay</th><th scope=col>carrier</th><th scope=col>flight</th><th scope=col>tailnum</th><th scope=col>origin</th><th scope=col>dest</th><th scope=col>air_time</th><th scope=col>distance</th><th scope=col>hour</th><th scope=col>minute</th><th scope=col>time_hour</th></tr></thead>\n",
       "<tbody>\n",
       "\t<tr><td>2013               </td><td>12                 </td><td>21                 </td><td>1401               </td><td>1317               </td><td>44                 </td><td>1641               </td><td>1613               </td><td> 28                </td><td>UA                 </td><td>1641               </td><td>N34455             </td><td>EWR                </td><td>MCO                </td><td>139                </td><td> 937               </td><td>13                 </td><td>17                 </td><td>2013-12-21 13:00:00</td></tr>\n",
       "\t<tr><td>2013               </td><td> 9                 </td><td> 4                 </td><td>1254               </td><td>1300               </td><td>-6                 </td><td>1359               </td><td>1409               </td><td>-10                </td><td>US                 </td><td>2148               </td><td>N948UW             </td><td>LGA                </td><td>BOS                </td><td> 43                </td><td> 184               </td><td>13                 </td><td> 0                 </td><td>2013-09-04 13:00:00</td></tr>\n",
       "\t<tr><td>2013               </td><td> 9                 </td><td>17                 </td><td>1015               </td><td>1020               </td><td>-5                 </td><td>1250               </td><td>1310               </td><td>-20                </td><td>B6                 </td><td> 925               </td><td>N633JB             </td><td>JFK                </td><td>TPA                </td><td>135                </td><td>1005               </td><td>10                 </td><td>20                 </td><td>2013-09-17 10:00:00</td></tr>\n",
       "\t<tr><td>2013               </td><td> 8                 </td><td>22                 </td><td> 732               </td><td> 735               </td><td>-3                 </td><td>1057               </td><td>1005               </td><td> 52                </td><td>AA                 </td><td>1949               </td><td>N3BRAA             </td><td>JFK                </td><td>LAS                </td><td>294                </td><td>2248               </td><td> 7                 </td><td>35                 </td><td>2013-08-22 07:00:00</td></tr>\n",
       "\t<tr><td>2013               </td><td> 6                 </td><td>12                 </td><td>1457               </td><td>1500               </td><td>-3                 </td><td>1627               </td><td>1652               </td><td>-25                </td><td>US                 </td><td> 802               </td><td>N564UW             </td><td>EWR                </td><td>CLT                </td><td> 73                </td><td> 529               </td><td>15                 </td><td> 0                 </td><td>2013-06-12 15:00:00</td></tr>\n",
       "\t<tr><td>2013               </td><td> 8                 </td><td>18                 </td><td>1906               </td><td>1855               </td><td>11                 </td><td>2234               </td><td>2225               </td><td>  9                </td><td>VX                 </td><td>  29               </td><td>N844VA             </td><td>JFK                </td><td>SFO                </td><td>327                </td><td>2586               </td><td>18                 </td><td>55                 </td><td>2013-08-18 18:00:00</td></tr>\n",
       "\t<tr><td>2013               </td><td>12                 </td><td>15                 </td><td>1515               </td><td>1520               </td><td>-5                 </td><td>1837               </td><td>1848               </td><td>-11                </td><td>DL                 </td><td>1982               </td><td>N314NB             </td><td>LGA                </td><td>MIA                </td><td>168                </td><td>1096               </td><td>15                 </td><td>20                 </td><td>2013-12-15 15:00:00</td></tr>\n",
       "\t<tr><td>2013               </td><td>12                 </td><td> 2                 </td><td> 602               </td><td> 600               </td><td> 2                 </td><td> 722               </td><td> 735               </td><td>-13                </td><td>UA                 </td><td> 219               </td><td>N514UA             </td><td>LGA                </td><td>ORD                </td><td>117                </td><td> 733               </td><td> 6                 </td><td> 0                 </td><td>2013-12-02 06:00:00</td></tr>\n",
       "\t<tr><td>2013               </td><td> 1                 </td><td>19                 </td><td>1023               </td><td>1020               </td><td> 3                 </td><td>1320               </td><td>1330               </td><td>-10                </td><td>AA                 </td><td> 731               </td><td>N3ELAA             </td><td>LGA                </td><td>DFW                </td><td>203                </td><td>1389               </td><td>10                 </td><td>20                 </td><td>2013-01-19 10:00:00</td></tr>\n",
       "\t<tr><td>2013               </td><td>10                 </td><td> 3                 </td><td>1616               </td><td>1620               </td><td>-4                 </td><td>1727               </td><td>1755               </td><td>-28                </td><td>DL                 </td><td>2443               </td><td>N315NB             </td><td>JFK                </td><td>BOS                </td><td> 41                </td><td> 187               </td><td>16                 </td><td>20                 </td><td>2013-10-03 16:00:00</td></tr>\n",
       "\t<tr><td>2013               </td><td> 6                 </td><td> 5                 </td><td>1357               </td><td>1355               </td><td> 2                 </td><td>1642               </td><td>1643               </td><td> -1                </td><td>B6                 </td><td>1783               </td><td>N564JB             </td><td>JFK                </td><td>MCO                </td><td>136                </td><td> 944               </td><td>13                 </td><td>55                 </td><td>2013-06-05 13:00:00</td></tr>\n",
       "\t<tr><td>2013               </td><td>12                 </td><td> 6                 </td><td> 635               </td><td> 640               </td><td>-5                 </td><td> 822               </td><td> 805               </td><td> 17                </td><td>WN                 </td><td>1121               </td><td>N712SW             </td><td>LGA                </td><td>MKE                </td><td>129                </td><td> 738               </td><td> 6                 </td><td>40                 </td><td>2013-12-06 06:00:00</td></tr>\n",
       "\t<tr><td>2013               </td><td> 4                 </td><td>19                 </td><td>1707               </td><td>1708               </td><td>-1                 </td><td>1931               </td><td>1932               </td><td> -1                </td><td>UA                 </td><td> 792               </td><td>N516UA             </td><td>EWR                </td><td>LAS                </td><td>301                </td><td>2227               </td><td>17                 </td><td> 8                 </td><td>2013-04-19 17:00:00</td></tr>\n",
       "\t<tr><td>2013               </td><td> 4                 </td><td>23                 </td><td>1905               </td><td>1755               </td><td>70                 </td><td>2041               </td><td>1930               </td><td> 71                </td><td>MQ                 </td><td>4601               </td><td>N542MQ             </td><td>LGA                </td><td>RDU                </td><td> 66                </td><td> 431               </td><td>17                 </td><td>55                 </td><td>2013-04-23 17:00:00</td></tr>\n",
       "\t<tr><td>2013               </td><td> 3                 </td><td> 2                 </td><td>1412               </td><td>1415               </td><td>-3                 </td><td>1636               </td><td>1630               </td><td>  6                </td><td>DL                 </td><td> 935               </td><td>N368NB             </td><td>EWR                </td><td>ATL                </td><td>108                </td><td> 746               </td><td>14                 </td><td>15                 </td><td>2013-03-02 14:00:00</td></tr>\n",
       "\t<tr><td>2013               </td><td> 1                 </td><td> 3                 </td><td>1915               </td><td>1830               </td><td>45                 </td><td>2212               </td><td>2202               </td><td> 10                </td><td>UA                 </td><td> 272               </td><td>N505UA             </td><td>JFK                </td><td>SFO                </td><td>333                </td><td>2586               </td><td>18                 </td><td>30                 </td><td>2013-01-03 18:00:00</td></tr>\n",
       "\t<tr><td>2013               </td><td> 8                 </td><td>22                 </td><td>1726               </td><td>1724               </td><td> 2                 </td><td>1949               </td><td>2015               </td><td>-26                </td><td>UA                 </td><td>1109               </td><td>N33132             </td><td>EWR                </td><td>MCO                </td><td>120                </td><td> 937               </td><td>17                 </td><td>24                 </td><td>2013-08-22 17:00:00</td></tr>\n",
       "\t<tr><td>2013               </td><td> 2                 </td><td> 8                 </td><td>1316               </td><td>1251               </td><td>25                 </td><td>1703               </td><td>1602               </td><td> 61                </td><td>UA                 </td><td> 317               </td><td>N453UA             </td><td>LGA                </td><td>IAH                </td><td>201                </td><td>1416               </td><td>12                 </td><td>51                 </td><td>2013-02-08 12:00:00</td></tr>\n",
       "\t<tr><td>2013               </td><td> 3                 </td><td> 4                 </td><td>1135               </td><td>1135               </td><td> 0                 </td><td>1453               </td><td>1447               </td><td>  6                </td><td>DL                 </td><td>1552               </td><td>N336NB             </td><td>LGA                </td><td>RSW                </td><td>152                </td><td>1080               </td><td>11                 </td><td>35                 </td><td>2013-03-04 11:00:00</td></tr>\n",
       "\t<tr><td>2013               </td><td> 5                 </td><td>23                 </td><td>1414               </td><td>1359               </td><td>15                 </td><td>1718               </td><td>1630               </td><td> 48                </td><td>DL                 </td><td>2247               </td><td>N660DL             </td><td>LGA                </td><td>ATL                </td><td>107                </td><td> 762               </td><td>13                 </td><td>59                 </td><td>2013-05-23 13:00:00</td></tr>\n",
       "\t<tr><td>2013               </td><td> 6                 </td><td> 4                 </td><td>1811               </td><td>1805               </td><td> 6                 </td><td>2111               </td><td>2128               </td><td>-17                </td><td>B6                 </td><td> 217               </td><td>N583JB             </td><td>JFK                </td><td>LGB                </td><td>326                </td><td>2465               </td><td>18                 </td><td> 5                 </td><td>2013-06-04 18:00:00</td></tr>\n",
       "\t<tr><td>2013               </td><td> 9                 </td><td>12                 </td><td>1034               </td><td>1029               </td><td> 5                 </td><td>1237               </td><td>1239               </td><td> -2                </td><td>US                 </td><td> 604               </td><td>N668AW             </td><td>EWR                </td><td>PHX                </td><td>275                </td><td>2133               </td><td>10                 </td><td>29                 </td><td>2013-09-12 10:00:00</td></tr>\n",
       "\t<tr><td>2013               </td><td>12                 </td><td>12                 </td><td> 736               </td><td> 740               </td><td>-4                 </td><td> 939               </td><td> 942               </td><td> -3                </td><td>EV                 </td><td>4297               </td><td>N19554             </td><td>EWR                </td><td>DTW                </td><td> 92                </td><td> 488               </td><td> 7                 </td><td>40                 </td><td>2013-12-12 07:00:00</td></tr>\n",
       "\t<tr><td>2013               </td><td> 1                 </td><td>24                 </td><td>1635               </td><td>1635               </td><td> 0                 </td><td>1815               </td><td>1816               </td><td> -1                </td><td>UA                 </td><td>1638               </td><td>N68453             </td><td>EWR                </td><td>CLE                </td><td> 76                </td><td> 404               </td><td>16                 </td><td>35                 </td><td>2013-01-24 16:00:00</td></tr>\n",
       "\t<tr><td>2013               </td><td> 8                 </td><td>12                 </td><td>1246               </td><td>1250               </td><td>-4                 </td><td>1414               </td><td>1425               </td><td>-11                </td><td>MQ                 </td><td>3361               </td><td>N807MQ             </td><td>JFK                </td><td>RDU                </td><td> 68                </td><td> 427               </td><td>12                 </td><td>50                 </td><td>2013-08-12 12:00:00</td></tr>\n",
       "\t<tr><td>2013               </td><td> 4                 </td><td>30                 </td><td>2110               </td><td>2110               </td><td> 0                 </td><td>2226               </td><td>2242               </td><td>-16                </td><td>EV                 </td><td>5212               </td><td>N371CA             </td><td>LGA                </td><td>RIC                </td><td> 48                </td><td> 292               </td><td>21                 </td><td>10                 </td><td>2013-04-30 21:00:00</td></tr>\n",
       "\t<tr><td>2013               </td><td> 7                 </td><td> 7                 </td><td>1803               </td><td>1720               </td><td>43                 </td><td>2202               </td><td>2025               </td><td> 97                </td><td>AA                 </td><td> 695               </td><td>N3CLAA             </td><td>JFK                </td><td>AUS                </td><td>202                </td><td>1521               </td><td>17                 </td><td>20                 </td><td>2013-07-07 17:00:00</td></tr>\n",
       "\t<tr><td>2013               </td><td>12                 </td><td>22                 </td><td> 848               </td><td> 850               </td><td>-2                 </td><td>1026               </td><td>1035               </td><td> -9                </td><td>AA                 </td><td> 313               </td><td>N3KAAA             </td><td>LGA                </td><td>ORD                </td><td>133                </td><td> 733               </td><td> 8                 </td><td>50                 </td><td>2013-12-22 08:00:00</td></tr>\n",
       "\t<tr><td>2013               </td><td> 7                 </td><td> 4                 </td><td> 924               </td><td> 930               </td><td>-6                 </td><td>1026               </td><td>1039               </td><td>-13                </td><td>B6                 </td><td> 116               </td><td>N184JB             </td><td>JFK                </td><td>SYR                </td><td> 43                </td><td> 209               </td><td> 9                 </td><td>30                 </td><td>2013-07-04 09:00:00</td></tr>\n",
       "\t<tr><td>2013               </td><td> 2                 </td><td>18                 </td><td>1532               </td><td>1530               </td><td> 2                 </td><td>1859               </td><td>1855               </td><td>  4                </td><td>AA                 </td><td>1039               </td><td>N3JKAA             </td><td>JFK                </td><td>FLL                </td><td>183                </td><td>1069               </td><td>15                 </td><td>30                 </td><td>2013-02-18 15:00:00</td></tr>\n",
       "\t<tr><td>...</td><td>...</td><td>...</td><td>...</td><td>...</td><td>...</td><td>...</td><td>...</td><td>...</td><td>...</td><td>...</td><td>...</td><td>...</td><td>...</td><td>...</td><td>...</td><td>...</td><td>...</td><td>...</td></tr>\n",
       "\t<tr><td>2013               </td><td> 3                 </td><td>14                 </td><td> 533               </td><td> 530               </td><td>  3                </td><td> 801               </td><td> 824               </td><td>-23                </td><td>UA                 </td><td> 792               </td><td>N576UA             </td><td>LGA                </td><td>IAH                </td><td>188                </td><td>1416               </td><td> 5                 </td><td>30                 </td><td>2013-03-14 05:00:00</td></tr>\n",
       "\t<tr><td>2013               </td><td>10                 </td><td> 2                 </td><td>1822               </td><td>1829               </td><td> -7                </td><td>2015               </td><td>2031               </td><td>-16                </td><td>US                 </td><td>2094               </td><td>N194UW             </td><td>EWR                </td><td>CLT                </td><td> 81                </td><td> 529               </td><td>18                 </td><td>29                 </td><td>2013-10-02 18:00:00</td></tr>\n",
       "\t<tr><td>2013               </td><td> 8                 </td><td>12                 </td><td>1655               </td><td>1700               </td><td> -5                </td><td>2041               </td><td>2018               </td><td> 23                </td><td>DL                 </td><td>1163               </td><td>N718TW             </td><td>JFK                </td><td>LAX                </td><td>363                </td><td>2475               </td><td>17                 </td><td> 0                 </td><td>2013-08-12 17:00:00</td></tr>\n",
       "\t<tr><td>2013               </td><td> 3                 </td><td>29                 </td><td>1239               </td><td>1240               </td><td> -1                </td><td>1532               </td><td>1555               </td><td>-23                </td><td>AA                 </td><td>2041               </td><td>N612AA             </td><td>JFK                </td><td>MIA                </td><td>150                </td><td>1089               </td><td>12                 </td><td>40                 </td><td>2013-03-29 12:00:00</td></tr>\n",
       "\t<tr><td>2013               </td><td> 7                 </td><td>30                 </td><td> 811               </td><td> 815               </td><td> -4                </td><td>1034               </td><td>1110               </td><td>-36                </td><td>DL                 </td><td>1167               </td><td>N307DQ             </td><td>JFK                </td><td>TPA                </td><td>126                </td><td>1005               </td><td> 8                 </td><td>15                 </td><td>2013-07-30 08:00:00</td></tr>\n",
       "\t<tr><td>2013               </td><td> 5                 </td><td> 6                 </td><td> 854               </td><td> 900               </td><td> -6                </td><td>1131               </td><td>1120               </td><td> 11                </td><td>EV                 </td><td>4940               </td><td>N707EV             </td><td>LGA                </td><td>CHS                </td><td> 91                </td><td> 641               </td><td> 9                 </td><td> 0                 </td><td>2013-05-06 09:00:00</td></tr>\n",
       "\t<tr><td>2013               </td><td> 3                 </td><td> 7                 </td><td> 836               </td><td> 830               </td><td>  6                </td><td>1151               </td><td>1142               </td><td>  9                </td><td>UA                 </td><td> 999               </td><td>N564UA             </td><td>EWR                </td><td>SAN                </td><td>333                </td><td>2425               </td><td> 8                 </td><td>30                 </td><td>2013-03-07 08:00:00</td></tr>\n",
       "\t<tr><td>2013               </td><td> 6                 </td><td>18                 </td><td> 901               </td><td> 800               </td><td> 61                </td><td>1121               </td><td>1016               </td><td> 65                </td><td>DL                 </td><td>2457               </td><td>N354NB             </td><td>LGA                </td><td>MSY                </td><td>162                </td><td>1183               </td><td> 8                 </td><td> 0                 </td><td>2013-06-18 08:00:00</td></tr>\n",
       "\t<tr><td>2013               </td><td> 3                 </td><td>10                 </td><td>2132               </td><td>2112               </td><td> 20                </td><td>  14               </td><td>  14               </td><td>  0                </td><td>UA                 </td><td>1225               </td><td>N39728             </td><td>EWR                </td><td>PBI                </td><td>133                </td><td>1023               </td><td>21                 </td><td>12                 </td><td>2013-03-10 21:00:00</td></tr>\n",
       "\t<tr><td>2013               </td><td>10                 </td><td>24                 </td><td>1026               </td><td>1029               </td><td> -3                </td><td>1255               </td><td>1249               </td><td>  6                </td><td>US                 </td><td> 625               </td><td>N550UW             </td><td>JFK                </td><td>PHX                </td><td>306                </td><td>2153               </td><td>10                 </td><td>29                 </td><td>2013-10-24 10:00:00</td></tr>\n",
       "\t<tr><td>2013               </td><td> 6                 </td><td>20                 </td><td> 610               </td><td> 620               </td><td>-10                </td><td> 810               </td><td> 822               </td><td>-12                </td><td>EV                 </td><td>4372               </td><td>N14188             </td><td>EWR                </td><td>MSP                </td><td>159                </td><td>1008               </td><td> 6                 </td><td>20                 </td><td>2013-06-20 06:00:00</td></tr>\n",
       "\t<tr><td>2013               </td><td> 6                 </td><td> 4                 </td><td> 854               </td><td> 855               </td><td> -1                </td><td>1049               </td><td>1100               </td><td>-11                </td><td>DL                 </td><td>2179               </td><td>N600TR             </td><td>EWR                </td><td>DTW                </td><td> 84                </td><td> 488               </td><td> 8                 </td><td>55                 </td><td>2013-06-04 08:00:00</td></tr>\n",
       "\t<tr><td>2013               </td><td> 3                 </td><td> 9                 </td><td> 559               </td><td> 600               </td><td> -1                </td><td> 832               </td><td> 856               </td><td>-24                </td><td>UA                 </td><td> 543               </td><td>N556UA             </td><td>EWR                </td><td>PBI                </td><td>134                </td><td>1023               </td><td> 6                 </td><td> 0                 </td><td>2013-03-09 06:00:00</td></tr>\n",
       "\t<tr><td>2013               </td><td> 6                 </td><td>26                 </td><td>1448               </td><td>1455               </td><td> -7                </td><td>1617               </td><td>1645               </td><td>-28                </td><td>MQ                 </td><td>3359               </td><td>N807MQ             </td><td>JFK                </td><td>RDU                </td><td> 67                </td><td> 427               </td><td>14                 </td><td>55                 </td><td>2013-06-26 14:00:00</td></tr>\n",
       "\t<tr><td>2013               </td><td> 5                 </td><td> 5                 </td><td>1446               </td><td>1448               </td><td> -2                </td><td>1554               </td><td>1602               </td><td> -8                </td><td>EV                 </td><td>3854               </td><td>N15980             </td><td>EWR                </td><td>IAD                </td><td> 40                </td><td> 212               </td><td>14                 </td><td>48                 </td><td>2013-05-05 14:00:00</td></tr>\n",
       "\t<tr><td>2013               </td><td> 9                 </td><td>21                 </td><td>2029               </td><td>2022               </td><td>  7                </td><td>2255               </td><td>2246               </td><td>  9                </td><td>B6                 </td><td> 135               </td><td>N606JB             </td><td>JFK                </td><td>PHX                </td><td>281                </td><td>2153               </td><td>20                 </td><td>22                 </td><td>2013-09-21 20:00:00</td></tr>\n",
       "\t<tr><td>2013               </td><td> 6                 </td><td> 7                 </td><td>1229               </td><td>1238               </td><td> -9                </td><td>1425               </td><td>1428               </td><td> -3                </td><td>EV                 </td><td>5796               </td><td>N14558             </td><td>EWR                </td><td>CLT                </td><td> 98                </td><td> 529               </td><td>12                 </td><td>38                 </td><td>2013-06-07 12:00:00</td></tr>\n",
       "\t<tr><td>2013               </td><td>12                 </td><td>23                 </td><td>2011               </td><td>2000               </td><td> 11                </td><td>2320               </td><td>2325               </td><td> -5                </td><td>VX                 </td><td> 415               </td><td>N361VA             </td><td>JFK                </td><td>LAX                </td><td>345                </td><td>2475               </td><td>20                 </td><td> 0                 </td><td>2013-12-23 20:00:00</td></tr>\n",
       "\t<tr><td>2013               </td><td> 8                 </td><td> 5                 </td><td>1549               </td><td>1559               </td><td>-10                </td><td>1726               </td><td>1730               </td><td> -4                </td><td>B6                 </td><td>1734               </td><td>N216JB             </td><td>JFK                </td><td>BTV                </td><td> 52                </td><td> 266               </td><td>15                 </td><td>59                 </td><td>2013-08-05 15:00:00</td></tr>\n",
       "\t<tr><td>2013               </td><td> 9                 </td><td>13                 </td><td>2110               </td><td>2100               </td><td> 10                </td><td>2341               </td><td>  14               </td><td>-33                </td><td>DL                 </td><td>2363               </td><td>N198DN             </td><td>JFK                </td><td>LAX                </td><td>304                </td><td>2475               </td><td>21                 </td><td> 0                 </td><td>2013-09-13 21:00:00</td></tr>\n",
       "\t<tr><td>2013               </td><td>12                 </td><td> 7                 </td><td>1013               </td><td>1015               </td><td> -2                </td><td>1412               </td><td>1342               </td><td> 30                </td><td>US                 </td><td> 604               </td><td>N669AW             </td><td>EWR                </td><td>PHX                </td><td>344                </td><td>2133               </td><td>10                 </td><td>15                 </td><td>2013-12-07 10:00:00</td></tr>\n",
       "\t<tr><td>2013               </td><td> 8                 </td><td>15                 </td><td>1106               </td><td>1055               </td><td> 11                </td><td>1525               </td><td>1445               </td><td> 40                </td><td>B6                 </td><td> 403               </td><td>N556JB             </td><td>JFK                </td><td>SJU                </td><td>232                </td><td>1598               </td><td>10                 </td><td>55                 </td><td>2013-08-15 10:00:00</td></tr>\n",
       "\t<tr><td>2013               </td><td>10                 </td><td>24                 </td><td>1828               </td><td>1829               </td><td> -1                </td><td>1933               </td><td>1939               </td><td> -6                </td><td>MQ                 </td><td>3044               </td><td>N631MQ             </td><td>JFK                </td><td>BWI                </td><td> 43                </td><td> 184               </td><td>18                 </td><td>29                 </td><td>2013-10-24 18:00:00</td></tr>\n",
       "\t<tr><td>2013               </td><td> 7                 </td><td>26                 </td><td>1929               </td><td>1920               </td><td>  9                </td><td>2302               </td><td>2238               </td><td> 24                </td><td>UA                 </td><td> 312               </td><td>N825UA             </td><td>EWR                </td><td>PDX                </td><td>351                </td><td>2434               </td><td>19                 </td><td>20                 </td><td>2013-07-26 19:00:00</td></tr>\n",
       "\t<tr><td>2013               </td><td> 9                 </td><td> 9                 </td><td>1434               </td><td>1439               </td><td> -5                </td><td>1537               </td><td>1607               </td><td>-30                </td><td>9E                 </td><td>3712               </td><td>N8423C             </td><td>JFK                </td><td>BWI                </td><td> 39                </td><td> 184               </td><td>14                 </td><td>39                 </td><td>2013-09-09 14:00:00</td></tr>\n",
       "\t<tr><td>2013               </td><td> 4                 </td><td> 5                 </td><td>2054               </td><td>2050               </td><td>  4                </td><td>2153               </td><td>2221               </td><td>-28                </td><td>B6                 </td><td>1020               </td><td>N613JB             </td><td>JFK                </td><td>BOS                </td><td> 38                </td><td> 187               </td><td>20                 </td><td>50                 </td><td>2013-04-05 20:00:00</td></tr>\n",
       "\t<tr><td>2013               </td><td>11                 </td><td>27                 </td><td>1351               </td><td>1359               </td><td> -8                </td><td>1502               </td><td>1508               </td><td> -6                </td><td>B6                 </td><td> 118               </td><td>N183JB             </td><td>JFK                </td><td>BOS                </td><td> 46                </td><td> 187               </td><td>13                 </td><td>59                 </td><td>2013-11-27 13:00:00</td></tr>\n",
       "\t<tr><td>2013               </td><td> 1                 </td><td>29                 </td><td> 922               </td><td> 924               </td><td> -2                </td><td>1113               </td><td>1118               </td><td> -5                </td><td>EV                 </td><td>4711               </td><td>N13908             </td><td>EWR                </td><td>STL                </td><td>145                </td><td> 872               </td><td> 9                 </td><td>24                 </td><td>2013-01-29 09:00:00</td></tr>\n",
       "\t<tr><td>2013               </td><td> 8                 </td><td> 6                 </td><td>1914               </td><td>1859               </td><td> 15                </td><td>2158               </td><td>2147               </td><td> 11                </td><td>B6                 </td><td> 711               </td><td>N607JB             </td><td>JFK                </td><td>LAS                </td><td>309                </td><td>2248               </td><td>18                 </td><td>59                 </td><td>2013-08-06 18:00:00</td></tr>\n",
       "\t<tr><td>2013               </td><td> 4                 </td><td>20                 </td><td>1341               </td><td>1330               </td><td> 11                </td><td>1658               </td><td>1606               </td><td> 52                </td><td>B6                 </td><td> 127               </td><td>N258JB             </td><td>EWR                </td><td>MCO                </td><td>171                </td><td> 937               </td><td>13                 </td><td>30                 </td><td>2013-04-20 13:00:00</td></tr>\n",
       "</tbody>\n",
       "</table>\n"
      ],
      "text/latex": [
       "\\begin{tabular}{r|lllllllllllllllllll}\n",
       " year & month & day & dep\\_time & sched\\_dep\\_time & dep\\_delay & arr\\_time & sched\\_arr\\_time & arr\\_delay & carrier & flight & tailnum & origin & dest & air\\_time & distance & hour & minute & time\\_hour\\\\\n",
       "\\hline\n",
       "\t 2013                & 12                  & 21                  & 1401                & 1317                & 44                  & 1641                & 1613                &  28                 & UA                  & 1641                & N34455              & EWR                 & MCO                 & 139                 &  937                & 13                  & 17                  & 2013-12-21 13:00:00\\\\\n",
       "\t 2013                &  9                  &  4                  & 1254                & 1300                & -6                  & 1359                & 1409                & -10                 & US                  & 2148                & N948UW              & LGA                 & BOS                 &  43                 &  184                & 13                  &  0                  & 2013-09-04 13:00:00\\\\\n",
       "\t 2013                &  9                  & 17                  & 1015                & 1020                & -5                  & 1250                & 1310                & -20                 & B6                  &  925                & N633JB              & JFK                 & TPA                 & 135                 & 1005                & 10                  & 20                  & 2013-09-17 10:00:00\\\\\n",
       "\t 2013                &  8                  & 22                  &  732                &  735                & -3                  & 1057                & 1005                &  52                 & AA                  & 1949                & N3BRAA              & JFK                 & LAS                 & 294                 & 2248                &  7                  & 35                  & 2013-08-22 07:00:00\\\\\n",
       "\t 2013                &  6                  & 12                  & 1457                & 1500                & -3                  & 1627                & 1652                & -25                 & US                  &  802                & N564UW              & EWR                 & CLT                 &  73                 &  529                & 15                  &  0                  & 2013-06-12 15:00:00\\\\\n",
       "\t 2013                &  8                  & 18                  & 1906                & 1855                & 11                  & 2234                & 2225                &   9                 & VX                  &   29                & N844VA              & JFK                 & SFO                 & 327                 & 2586                & 18                  & 55                  & 2013-08-18 18:00:00\\\\\n",
       "\t 2013                & 12                  & 15                  & 1515                & 1520                & -5                  & 1837                & 1848                & -11                 & DL                  & 1982                & N314NB              & LGA                 & MIA                 & 168                 & 1096                & 15                  & 20                  & 2013-12-15 15:00:00\\\\\n",
       "\t 2013                & 12                  &  2                  &  602                &  600                &  2                  &  722                &  735                & -13                 & UA                  &  219                & N514UA              & LGA                 & ORD                 & 117                 &  733                &  6                  &  0                  & 2013-12-02 06:00:00\\\\\n",
       "\t 2013                &  1                  & 19                  & 1023                & 1020                &  3                  & 1320                & 1330                & -10                 & AA                  &  731                & N3ELAA              & LGA                 & DFW                 & 203                 & 1389                & 10                  & 20                  & 2013-01-19 10:00:00\\\\\n",
       "\t 2013                & 10                  &  3                  & 1616                & 1620                & -4                  & 1727                & 1755                & -28                 & DL                  & 2443                & N315NB              & JFK                 & BOS                 &  41                 &  187                & 16                  & 20                  & 2013-10-03 16:00:00\\\\\n",
       "\t 2013                &  6                  &  5                  & 1357                & 1355                &  2                  & 1642                & 1643                &  -1                 & B6                  & 1783                & N564JB              & JFK                 & MCO                 & 136                 &  944                & 13                  & 55                  & 2013-06-05 13:00:00\\\\\n",
       "\t 2013                & 12                  &  6                  &  635                &  640                & -5                  &  822                &  805                &  17                 & WN                  & 1121                & N712SW              & LGA                 & MKE                 & 129                 &  738                &  6                  & 40                  & 2013-12-06 06:00:00\\\\\n",
       "\t 2013                &  4                  & 19                  & 1707                & 1708                & -1                  & 1931                & 1932                &  -1                 & UA                  &  792                & N516UA              & EWR                 & LAS                 & 301                 & 2227                & 17                  &  8                  & 2013-04-19 17:00:00\\\\\n",
       "\t 2013                &  4                  & 23                  & 1905                & 1755                & 70                  & 2041                & 1930                &  71                 & MQ                  & 4601                & N542MQ              & LGA                 & RDU                 &  66                 &  431                & 17                  & 55                  & 2013-04-23 17:00:00\\\\\n",
       "\t 2013                &  3                  &  2                  & 1412                & 1415                & -3                  & 1636                & 1630                &   6                 & DL                  &  935                & N368NB              & EWR                 & ATL                 & 108                 &  746                & 14                  & 15                  & 2013-03-02 14:00:00\\\\\n",
       "\t 2013                &  1                  &  3                  & 1915                & 1830                & 45                  & 2212                & 2202                &  10                 & UA                  &  272                & N505UA              & JFK                 & SFO                 & 333                 & 2586                & 18                  & 30                  & 2013-01-03 18:00:00\\\\\n",
       "\t 2013                &  8                  & 22                  & 1726                & 1724                &  2                  & 1949                & 2015                & -26                 & UA                  & 1109                & N33132              & EWR                 & MCO                 & 120                 &  937                & 17                  & 24                  & 2013-08-22 17:00:00\\\\\n",
       "\t 2013                &  2                  &  8                  & 1316                & 1251                & 25                  & 1703                & 1602                &  61                 & UA                  &  317                & N453UA              & LGA                 & IAH                 & 201                 & 1416                & 12                  & 51                  & 2013-02-08 12:00:00\\\\\n",
       "\t 2013                &  3                  &  4                  & 1135                & 1135                &  0                  & 1453                & 1447                &   6                 & DL                  & 1552                & N336NB              & LGA                 & RSW                 & 152                 & 1080                & 11                  & 35                  & 2013-03-04 11:00:00\\\\\n",
       "\t 2013                &  5                  & 23                  & 1414                & 1359                & 15                  & 1718                & 1630                &  48                 & DL                  & 2247                & N660DL              & LGA                 & ATL                 & 107                 &  762                & 13                  & 59                  & 2013-05-23 13:00:00\\\\\n",
       "\t 2013                &  6                  &  4                  & 1811                & 1805                &  6                  & 2111                & 2128                & -17                 & B6                  &  217                & N583JB              & JFK                 & LGB                 & 326                 & 2465                & 18                  &  5                  & 2013-06-04 18:00:00\\\\\n",
       "\t 2013                &  9                  & 12                  & 1034                & 1029                &  5                  & 1237                & 1239                &  -2                 & US                  &  604                & N668AW              & EWR                 & PHX                 & 275                 & 2133                & 10                  & 29                  & 2013-09-12 10:00:00\\\\\n",
       "\t 2013                & 12                  & 12                  &  736                &  740                & -4                  &  939                &  942                &  -3                 & EV                  & 4297                & N19554              & EWR                 & DTW                 &  92                 &  488                &  7                  & 40                  & 2013-12-12 07:00:00\\\\\n",
       "\t 2013                &  1                  & 24                  & 1635                & 1635                &  0                  & 1815                & 1816                &  -1                 & UA                  & 1638                & N68453              & EWR                 & CLE                 &  76                 &  404                & 16                  & 35                  & 2013-01-24 16:00:00\\\\\n",
       "\t 2013                &  8                  & 12                  & 1246                & 1250                & -4                  & 1414                & 1425                & -11                 & MQ                  & 3361                & N807MQ              & JFK                 & RDU                 &  68                 &  427                & 12                  & 50                  & 2013-08-12 12:00:00\\\\\n",
       "\t 2013                &  4                  & 30                  & 2110                & 2110                &  0                  & 2226                & 2242                & -16                 & EV                  & 5212                & N371CA              & LGA                 & RIC                 &  48                 &  292                & 21                  & 10                  & 2013-04-30 21:00:00\\\\\n",
       "\t 2013                &  7                  &  7                  & 1803                & 1720                & 43                  & 2202                & 2025                &  97                 & AA                  &  695                & N3CLAA              & JFK                 & AUS                 & 202                 & 1521                & 17                  & 20                  & 2013-07-07 17:00:00\\\\\n",
       "\t 2013                & 12                  & 22                  &  848                &  850                & -2                  & 1026                & 1035                &  -9                 & AA                  &  313                & N3KAAA              & LGA                 & ORD                 & 133                 &  733                &  8                  & 50                  & 2013-12-22 08:00:00\\\\\n",
       "\t 2013                &  7                  &  4                  &  924                &  930                & -6                  & 1026                & 1039                & -13                 & B6                  &  116                & N184JB              & JFK                 & SYR                 &  43                 &  209                &  9                  & 30                  & 2013-07-04 09:00:00\\\\\n",
       "\t 2013                &  2                  & 18                  & 1532                & 1530                &  2                  & 1859                & 1855                &   4                 & AA                  & 1039                & N3JKAA              & JFK                 & FLL                 & 183                 & 1069                & 15                  & 30                  & 2013-02-18 15:00:00\\\\\n",
       "\t ... & ... & ... & ... & ... & ... & ... & ... & ... & ... & ... & ... & ... & ... & ... & ... & ... & ... & ...\\\\\n",
       "\t 2013                &  3                  & 14                  &  533                &  530                &   3                 &  801                &  824                & -23                 & UA                  &  792                & N576UA              & LGA                 & IAH                 & 188                 & 1416                &  5                  & 30                  & 2013-03-14 05:00:00\\\\\n",
       "\t 2013                & 10                  &  2                  & 1822                & 1829                &  -7                 & 2015                & 2031                & -16                 & US                  & 2094                & N194UW              & EWR                 & CLT                 &  81                 &  529                & 18                  & 29                  & 2013-10-02 18:00:00\\\\\n",
       "\t 2013                &  8                  & 12                  & 1655                & 1700                &  -5                 & 2041                & 2018                &  23                 & DL                  & 1163                & N718TW              & JFK                 & LAX                 & 363                 & 2475                & 17                  &  0                  & 2013-08-12 17:00:00\\\\\n",
       "\t 2013                &  3                  & 29                  & 1239                & 1240                &  -1                 & 1532                & 1555                & -23                 & AA                  & 2041                & N612AA              & JFK                 & MIA                 & 150                 & 1089                & 12                  & 40                  & 2013-03-29 12:00:00\\\\\n",
       "\t 2013                &  7                  & 30                  &  811                &  815                &  -4                 & 1034                & 1110                & -36                 & DL                  & 1167                & N307DQ              & JFK                 & TPA                 & 126                 & 1005                &  8                  & 15                  & 2013-07-30 08:00:00\\\\\n",
       "\t 2013                &  5                  &  6                  &  854                &  900                &  -6                 & 1131                & 1120                &  11                 & EV                  & 4940                & N707EV              & LGA                 & CHS                 &  91                 &  641                &  9                  &  0                  & 2013-05-06 09:00:00\\\\\n",
       "\t 2013                &  3                  &  7                  &  836                &  830                &   6                 & 1151                & 1142                &   9                 & UA                  &  999                & N564UA              & EWR                 & SAN                 & 333                 & 2425                &  8                  & 30                  & 2013-03-07 08:00:00\\\\\n",
       "\t 2013                &  6                  & 18                  &  901                &  800                &  61                 & 1121                & 1016                &  65                 & DL                  & 2457                & N354NB              & LGA                 & MSY                 & 162                 & 1183                &  8                  &  0                  & 2013-06-18 08:00:00\\\\\n",
       "\t 2013                &  3                  & 10                  & 2132                & 2112                &  20                 &   14                &   14                &   0                 & UA                  & 1225                & N39728              & EWR                 & PBI                 & 133                 & 1023                & 21                  & 12                  & 2013-03-10 21:00:00\\\\\n",
       "\t 2013                & 10                  & 24                  & 1026                & 1029                &  -3                 & 1255                & 1249                &   6                 & US                  &  625                & N550UW              & JFK                 & PHX                 & 306                 & 2153                & 10                  & 29                  & 2013-10-24 10:00:00\\\\\n",
       "\t 2013                &  6                  & 20                  &  610                &  620                & -10                 &  810                &  822                & -12                 & EV                  & 4372                & N14188              & EWR                 & MSP                 & 159                 & 1008                &  6                  & 20                  & 2013-06-20 06:00:00\\\\\n",
       "\t 2013                &  6                  &  4                  &  854                &  855                &  -1                 & 1049                & 1100                & -11                 & DL                  & 2179                & N600TR              & EWR                 & DTW                 &  84                 &  488                &  8                  & 55                  & 2013-06-04 08:00:00\\\\\n",
       "\t 2013                &  3                  &  9                  &  559                &  600                &  -1                 &  832                &  856                & -24                 & UA                  &  543                & N556UA              & EWR                 & PBI                 & 134                 & 1023                &  6                  &  0                  & 2013-03-09 06:00:00\\\\\n",
       "\t 2013                &  6                  & 26                  & 1448                & 1455                &  -7                 & 1617                & 1645                & -28                 & MQ                  & 3359                & N807MQ              & JFK                 & RDU                 &  67                 &  427                & 14                  & 55                  & 2013-06-26 14:00:00\\\\\n",
       "\t 2013                &  5                  &  5                  & 1446                & 1448                &  -2                 & 1554                & 1602                &  -8                 & EV                  & 3854                & N15980              & EWR                 & IAD                 &  40                 &  212                & 14                  & 48                  & 2013-05-05 14:00:00\\\\\n",
       "\t 2013                &  9                  & 21                  & 2029                & 2022                &   7                 & 2255                & 2246                &   9                 & B6                  &  135                & N606JB              & JFK                 & PHX                 & 281                 & 2153                & 20                  & 22                  & 2013-09-21 20:00:00\\\\\n",
       "\t 2013                &  6                  &  7                  & 1229                & 1238                &  -9                 & 1425                & 1428                &  -3                 & EV                  & 5796                & N14558              & EWR                 & CLT                 &  98                 &  529                & 12                  & 38                  & 2013-06-07 12:00:00\\\\\n",
       "\t 2013                & 12                  & 23                  & 2011                & 2000                &  11                 & 2320                & 2325                &  -5                 & VX                  &  415                & N361VA              & JFK                 & LAX                 & 345                 & 2475                & 20                  &  0                  & 2013-12-23 20:00:00\\\\\n",
       "\t 2013                &  8                  &  5                  & 1549                & 1559                & -10                 & 1726                & 1730                &  -4                 & B6                  & 1734                & N216JB              & JFK                 & BTV                 &  52                 &  266                & 15                  & 59                  & 2013-08-05 15:00:00\\\\\n",
       "\t 2013                &  9                  & 13                  & 2110                & 2100                &  10                 & 2341                &   14                & -33                 & DL                  & 2363                & N198DN              & JFK                 & LAX                 & 304                 & 2475                & 21                  &  0                  & 2013-09-13 21:00:00\\\\\n",
       "\t 2013                & 12                  &  7                  & 1013                & 1015                &  -2                 & 1412                & 1342                &  30                 & US                  &  604                & N669AW              & EWR                 & PHX                 & 344                 & 2133                & 10                  & 15                  & 2013-12-07 10:00:00\\\\\n",
       "\t 2013                &  8                  & 15                  & 1106                & 1055                &  11                 & 1525                & 1445                &  40                 & B6                  &  403                & N556JB              & JFK                 & SJU                 & 232                 & 1598                & 10                  & 55                  & 2013-08-15 10:00:00\\\\\n",
       "\t 2013                & 10                  & 24                  & 1828                & 1829                &  -1                 & 1933                & 1939                &  -6                 & MQ                  & 3044                & N631MQ              & JFK                 & BWI                 &  43                 &  184                & 18                  & 29                  & 2013-10-24 18:00:00\\\\\n",
       "\t 2013                &  7                  & 26                  & 1929                & 1920                &   9                 & 2302                & 2238                &  24                 & UA                  &  312                & N825UA              & EWR                 & PDX                 & 351                 & 2434                & 19                  & 20                  & 2013-07-26 19:00:00\\\\\n",
       "\t 2013                &  9                  &  9                  & 1434                & 1439                &  -5                 & 1537                & 1607                & -30                 & 9E                  & 3712                & N8423C              & JFK                 & BWI                 &  39                 &  184                & 14                  & 39                  & 2013-09-09 14:00:00\\\\\n",
       "\t 2013                &  4                  &  5                  & 2054                & 2050                &   4                 & 2153                & 2221                & -28                 & B6                  & 1020                & N613JB              & JFK                 & BOS                 &  38                 &  187                & 20                  & 50                  & 2013-04-05 20:00:00\\\\\n",
       "\t 2013                & 11                  & 27                  & 1351                & 1359                &  -8                 & 1502                & 1508                &  -6                 & B6                  &  118                & N183JB              & JFK                 & BOS                 &  46                 &  187                & 13                  & 59                  & 2013-11-27 13:00:00\\\\\n",
       "\t 2013                &  1                  & 29                  &  922                &  924                &  -2                 & 1113                & 1118                &  -5                 & EV                  & 4711                & N13908              & EWR                 & STL                 & 145                 &  872                &  9                  & 24                  & 2013-01-29 09:00:00\\\\\n",
       "\t 2013                &  8                  &  6                  & 1914                & 1859                &  15                 & 2158                & 2147                &  11                 & B6                  &  711                & N607JB              & JFK                 & LAS                 & 309                 & 2248                & 18                  & 59                  & 2013-08-06 18:00:00\\\\\n",
       "\t 2013                &  4                  & 20                  & 1341                & 1330                &  11                 & 1658                & 1606                &  52                 & B6                  &  127                & N258JB              & EWR                 & MCO                 & 171                 &  937                & 13                  & 30                  & 2013-04-20 13:00:00\\\\\n",
       "\\end{tabular}\n"
      ],
      "text/markdown": [
       "\n",
       "year | month | day | dep_time | sched_dep_time | dep_delay | arr_time | sched_arr_time | arr_delay | carrier | flight | tailnum | origin | dest | air_time | distance | hour | minute | time_hour | \n",
       "|---|---|---|---|---|---|---|---|---|---|---|---|---|---|---|---|---|---|---|---|---|---|---|---|---|---|---|---|---|---|---|---|---|---|---|---|---|---|---|---|---|---|---|---|---|---|---|---|---|---|---|---|---|---|---|---|---|---|---|---|---|\n",
       "| 2013                | 12                  | 21                  | 1401                | 1317                | 44                  | 1641                | 1613                |  28                 | UA                  | 1641                | N34455              | EWR                 | MCO                 | 139                 |  937                | 13                  | 17                  | 2013-12-21 13:00:00 | \n",
       "| 2013                |  9                  |  4                  | 1254                | 1300                | -6                  | 1359                | 1409                | -10                 | US                  | 2148                | N948UW              | LGA                 | BOS                 |  43                 |  184                | 13                  |  0                  | 2013-09-04 13:00:00 | \n",
       "| 2013                |  9                  | 17                  | 1015                | 1020                | -5                  | 1250                | 1310                | -20                 | B6                  |  925                | N633JB              | JFK                 | TPA                 | 135                 | 1005                | 10                  | 20                  | 2013-09-17 10:00:00 | \n",
       "| 2013                |  8                  | 22                  |  732                |  735                | -3                  | 1057                | 1005                |  52                 | AA                  | 1949                | N3BRAA              | JFK                 | LAS                 | 294                 | 2248                |  7                  | 35                  | 2013-08-22 07:00:00 | \n",
       "| 2013                |  6                  | 12                  | 1457                | 1500                | -3                  | 1627                | 1652                | -25                 | US                  |  802                | N564UW              | EWR                 | CLT                 |  73                 |  529                | 15                  |  0                  | 2013-06-12 15:00:00 | \n",
       "| 2013                |  8                  | 18                  | 1906                | 1855                | 11                  | 2234                | 2225                |   9                 | VX                  |   29                | N844VA              | JFK                 | SFO                 | 327                 | 2586                | 18                  | 55                  | 2013-08-18 18:00:00 | \n",
       "| 2013                | 12                  | 15                  | 1515                | 1520                | -5                  | 1837                | 1848                | -11                 | DL                  | 1982                | N314NB              | LGA                 | MIA                 | 168                 | 1096                | 15                  | 20                  | 2013-12-15 15:00:00 | \n",
       "| 2013                | 12                  |  2                  |  602                |  600                |  2                  |  722                |  735                | -13                 | UA                  |  219                | N514UA              | LGA                 | ORD                 | 117                 |  733                |  6                  |  0                  | 2013-12-02 06:00:00 | \n",
       "| 2013                |  1                  | 19                  | 1023                | 1020                |  3                  | 1320                | 1330                | -10                 | AA                  |  731                | N3ELAA              | LGA                 | DFW                 | 203                 | 1389                | 10                  | 20                  | 2013-01-19 10:00:00 | \n",
       "| 2013                | 10                  |  3                  | 1616                | 1620                | -4                  | 1727                | 1755                | -28                 | DL                  | 2443                | N315NB              | JFK                 | BOS                 |  41                 |  187                | 16                  | 20                  | 2013-10-03 16:00:00 | \n",
       "| 2013                |  6                  |  5                  | 1357                | 1355                |  2                  | 1642                | 1643                |  -1                 | B6                  | 1783                | N564JB              | JFK                 | MCO                 | 136                 |  944                | 13                  | 55                  | 2013-06-05 13:00:00 | \n",
       "| 2013                | 12                  |  6                  |  635                |  640                | -5                  |  822                |  805                |  17                 | WN                  | 1121                | N712SW              | LGA                 | MKE                 | 129                 |  738                |  6                  | 40                  | 2013-12-06 06:00:00 | \n",
       "| 2013                |  4                  | 19                  | 1707                | 1708                | -1                  | 1931                | 1932                |  -1                 | UA                  |  792                | N516UA              | EWR                 | LAS                 | 301                 | 2227                | 17                  |  8                  | 2013-04-19 17:00:00 | \n",
       "| 2013                |  4                  | 23                  | 1905                | 1755                | 70                  | 2041                | 1930                |  71                 | MQ                  | 4601                | N542MQ              | LGA                 | RDU                 |  66                 |  431                | 17                  | 55                  | 2013-04-23 17:00:00 | \n",
       "| 2013                |  3                  |  2                  | 1412                | 1415                | -3                  | 1636                | 1630                |   6                 | DL                  |  935                | N368NB              | EWR                 | ATL                 | 108                 |  746                | 14                  | 15                  | 2013-03-02 14:00:00 | \n",
       "| 2013                |  1                  |  3                  | 1915                | 1830                | 45                  | 2212                | 2202                |  10                 | UA                  |  272                | N505UA              | JFK                 | SFO                 | 333                 | 2586                | 18                  | 30                  | 2013-01-03 18:00:00 | \n",
       "| 2013                |  8                  | 22                  | 1726                | 1724                |  2                  | 1949                | 2015                | -26                 | UA                  | 1109                | N33132              | EWR                 | MCO                 | 120                 |  937                | 17                  | 24                  | 2013-08-22 17:00:00 | \n",
       "| 2013                |  2                  |  8                  | 1316                | 1251                | 25                  | 1703                | 1602                |  61                 | UA                  |  317                | N453UA              | LGA                 | IAH                 | 201                 | 1416                | 12                  | 51                  | 2013-02-08 12:00:00 | \n",
       "| 2013                |  3                  |  4                  | 1135                | 1135                |  0                  | 1453                | 1447                |   6                 | DL                  | 1552                | N336NB              | LGA                 | RSW                 | 152                 | 1080                | 11                  | 35                  | 2013-03-04 11:00:00 | \n",
       "| 2013                |  5                  | 23                  | 1414                | 1359                | 15                  | 1718                | 1630                |  48                 | DL                  | 2247                | N660DL              | LGA                 | ATL                 | 107                 |  762                | 13                  | 59                  | 2013-05-23 13:00:00 | \n",
       "| 2013                |  6                  |  4                  | 1811                | 1805                |  6                  | 2111                | 2128                | -17                 | B6                  |  217                | N583JB              | JFK                 | LGB                 | 326                 | 2465                | 18                  |  5                  | 2013-06-04 18:00:00 | \n",
       "| 2013                |  9                  | 12                  | 1034                | 1029                |  5                  | 1237                | 1239                |  -2                 | US                  |  604                | N668AW              | EWR                 | PHX                 | 275                 | 2133                | 10                  | 29                  | 2013-09-12 10:00:00 | \n",
       "| 2013                | 12                  | 12                  |  736                |  740                | -4                  |  939                |  942                |  -3                 | EV                  | 4297                | N19554              | EWR                 | DTW                 |  92                 |  488                |  7                  | 40                  | 2013-12-12 07:00:00 | \n",
       "| 2013                |  1                  | 24                  | 1635                | 1635                |  0                  | 1815                | 1816                |  -1                 | UA                  | 1638                | N68453              | EWR                 | CLE                 |  76                 |  404                | 16                  | 35                  | 2013-01-24 16:00:00 | \n",
       "| 2013                |  8                  | 12                  | 1246                | 1250                | -4                  | 1414                | 1425                | -11                 | MQ                  | 3361                | N807MQ              | JFK                 | RDU                 |  68                 |  427                | 12                  | 50                  | 2013-08-12 12:00:00 | \n",
       "| 2013                |  4                  | 30                  | 2110                | 2110                |  0                  | 2226                | 2242                | -16                 | EV                  | 5212                | N371CA              | LGA                 | RIC                 |  48                 |  292                | 21                  | 10                  | 2013-04-30 21:00:00 | \n",
       "| 2013                |  7                  |  7                  | 1803                | 1720                | 43                  | 2202                | 2025                |  97                 | AA                  |  695                | N3CLAA              | JFK                 | AUS                 | 202                 | 1521                | 17                  | 20                  | 2013-07-07 17:00:00 | \n",
       "| 2013                | 12                  | 22                  |  848                |  850                | -2                  | 1026                | 1035                |  -9                 | AA                  |  313                | N3KAAA              | LGA                 | ORD                 | 133                 |  733                |  8                  | 50                  | 2013-12-22 08:00:00 | \n",
       "| 2013                |  7                  |  4                  |  924                |  930                | -6                  | 1026                | 1039                | -13                 | B6                  |  116                | N184JB              | JFK                 | SYR                 |  43                 |  209                |  9                  | 30                  | 2013-07-04 09:00:00 | \n",
       "| 2013                |  2                  | 18                  | 1532                | 1530                |  2                  | 1859                | 1855                |   4                 | AA                  | 1039                | N3JKAA              | JFK                 | FLL                 | 183                 | 1069                | 15                  | 30                  | 2013-02-18 15:00:00 | \n",
       "| ... | ... | ... | ... | ... | ... | ... | ... | ... | ... | ... | ... | ... | ... | ... | ... | ... | ... | ... | \n",
       "| 2013                |  3                  | 14                  |  533                |  530                |   3                 |  801                |  824                | -23                 | UA                  |  792                | N576UA              | LGA                 | IAH                 | 188                 | 1416                |  5                  | 30                  | 2013-03-14 05:00:00 | \n",
       "| 2013                | 10                  |  2                  | 1822                | 1829                |  -7                 | 2015                | 2031                | -16                 | US                  | 2094                | N194UW              | EWR                 | CLT                 |  81                 |  529                | 18                  | 29                  | 2013-10-02 18:00:00 | \n",
       "| 2013                |  8                  | 12                  | 1655                | 1700                |  -5                 | 2041                | 2018                |  23                 | DL                  | 1163                | N718TW              | JFK                 | LAX                 | 363                 | 2475                | 17                  |  0                  | 2013-08-12 17:00:00 | \n",
       "| 2013                |  3                  | 29                  | 1239                | 1240                |  -1                 | 1532                | 1555                | -23                 | AA                  | 2041                | N612AA              | JFK                 | MIA                 | 150                 | 1089                | 12                  | 40                  | 2013-03-29 12:00:00 | \n",
       "| 2013                |  7                  | 30                  |  811                |  815                |  -4                 | 1034                | 1110                | -36                 | DL                  | 1167                | N307DQ              | JFK                 | TPA                 | 126                 | 1005                |  8                  | 15                  | 2013-07-30 08:00:00 | \n",
       "| 2013                |  5                  |  6                  |  854                |  900                |  -6                 | 1131                | 1120                |  11                 | EV                  | 4940                | N707EV              | LGA                 | CHS                 |  91                 |  641                |  9                  |  0                  | 2013-05-06 09:00:00 | \n",
       "| 2013                |  3                  |  7                  |  836                |  830                |   6                 | 1151                | 1142                |   9                 | UA                  |  999                | N564UA              | EWR                 | SAN                 | 333                 | 2425                |  8                  | 30                  | 2013-03-07 08:00:00 | \n",
       "| 2013                |  6                  | 18                  |  901                |  800                |  61                 | 1121                | 1016                |  65                 | DL                  | 2457                | N354NB              | LGA                 | MSY                 | 162                 | 1183                |  8                  |  0                  | 2013-06-18 08:00:00 | \n",
       "| 2013                |  3                  | 10                  | 2132                | 2112                |  20                 |   14                |   14                |   0                 | UA                  | 1225                | N39728              | EWR                 | PBI                 | 133                 | 1023                | 21                  | 12                  | 2013-03-10 21:00:00 | \n",
       "| 2013                | 10                  | 24                  | 1026                | 1029                |  -3                 | 1255                | 1249                |   6                 | US                  |  625                | N550UW              | JFK                 | PHX                 | 306                 | 2153                | 10                  | 29                  | 2013-10-24 10:00:00 | \n",
       "| 2013                |  6                  | 20                  |  610                |  620                | -10                 |  810                |  822                | -12                 | EV                  | 4372                | N14188              | EWR                 | MSP                 | 159                 | 1008                |  6                  | 20                  | 2013-06-20 06:00:00 | \n",
       "| 2013                |  6                  |  4                  |  854                |  855                |  -1                 | 1049                | 1100                | -11                 | DL                  | 2179                | N600TR              | EWR                 | DTW                 |  84                 |  488                |  8                  | 55                  | 2013-06-04 08:00:00 | \n",
       "| 2013                |  3                  |  9                  |  559                |  600                |  -1                 |  832                |  856                | -24                 | UA                  |  543                | N556UA              | EWR                 | PBI                 | 134                 | 1023                |  6                  |  0                  | 2013-03-09 06:00:00 | \n",
       "| 2013                |  6                  | 26                  | 1448                | 1455                |  -7                 | 1617                | 1645                | -28                 | MQ                  | 3359                | N807MQ              | JFK                 | RDU                 |  67                 |  427                | 14                  | 55                  | 2013-06-26 14:00:00 | \n",
       "| 2013                |  5                  |  5                  | 1446                | 1448                |  -2                 | 1554                | 1602                |  -8                 | EV                  | 3854                | N15980              | EWR                 | IAD                 |  40                 |  212                | 14                  | 48                  | 2013-05-05 14:00:00 | \n",
       "| 2013                |  9                  | 21                  | 2029                | 2022                |   7                 | 2255                | 2246                |   9                 | B6                  |  135                | N606JB              | JFK                 | PHX                 | 281                 | 2153                | 20                  | 22                  | 2013-09-21 20:00:00 | \n",
       "| 2013                |  6                  |  7                  | 1229                | 1238                |  -9                 | 1425                | 1428                |  -3                 | EV                  | 5796                | N14558              | EWR                 | CLT                 |  98                 |  529                | 12                  | 38                  | 2013-06-07 12:00:00 | \n",
       "| 2013                | 12                  | 23                  | 2011                | 2000                |  11                 | 2320                | 2325                |  -5                 | VX                  |  415                | N361VA              | JFK                 | LAX                 | 345                 | 2475                | 20                  |  0                  | 2013-12-23 20:00:00 | \n",
       "| 2013                |  8                  |  5                  | 1549                | 1559                | -10                 | 1726                | 1730                |  -4                 | B6                  | 1734                | N216JB              | JFK                 | BTV                 |  52                 |  266                | 15                  | 59                  | 2013-08-05 15:00:00 | \n",
       "| 2013                |  9                  | 13                  | 2110                | 2100                |  10                 | 2341                |   14                | -33                 | DL                  | 2363                | N198DN              | JFK                 | LAX                 | 304                 | 2475                | 21                  |  0                  | 2013-09-13 21:00:00 | \n",
       "| 2013                | 12                  |  7                  | 1013                | 1015                |  -2                 | 1412                | 1342                |  30                 | US                  |  604                | N669AW              | EWR                 | PHX                 | 344                 | 2133                | 10                  | 15                  | 2013-12-07 10:00:00 | \n",
       "| 2013                |  8                  | 15                  | 1106                | 1055                |  11                 | 1525                | 1445                |  40                 | B6                  |  403                | N556JB              | JFK                 | SJU                 | 232                 | 1598                | 10                  | 55                  | 2013-08-15 10:00:00 | \n",
       "| 2013                | 10                  | 24                  | 1828                | 1829                |  -1                 | 1933                | 1939                |  -6                 | MQ                  | 3044                | N631MQ              | JFK                 | BWI                 |  43                 |  184                | 18                  | 29                  | 2013-10-24 18:00:00 | \n",
       "| 2013                |  7                  | 26                  | 1929                | 1920                |   9                 | 2302                | 2238                |  24                 | UA                  |  312                | N825UA              | EWR                 | PDX                 | 351                 | 2434                | 19                  | 20                  | 2013-07-26 19:00:00 | \n",
       "| 2013                |  9                  |  9                  | 1434                | 1439                |  -5                 | 1537                | 1607                | -30                 | 9E                  | 3712                | N8423C              | JFK                 | BWI                 |  39                 |  184                | 14                  | 39                  | 2013-09-09 14:00:00 | \n",
       "| 2013                |  4                  |  5                  | 2054                | 2050                |   4                 | 2153                | 2221                | -28                 | B6                  | 1020                | N613JB              | JFK                 | BOS                 |  38                 |  187                | 20                  | 50                  | 2013-04-05 20:00:00 | \n",
       "| 2013                | 11                  | 27                  | 1351                | 1359                |  -8                 | 1502                | 1508                |  -6                 | B6                  |  118                | N183JB              | JFK                 | BOS                 |  46                 |  187                | 13                  | 59                  | 2013-11-27 13:00:00 | \n",
       "| 2013                |  1                  | 29                  |  922                |  924                |  -2                 | 1113                | 1118                |  -5                 | EV                  | 4711                | N13908              | EWR                 | STL                 | 145                 |  872                |  9                  | 24                  | 2013-01-29 09:00:00 | \n",
       "| 2013                |  8                  |  6                  | 1914                | 1859                |  15                 | 2158                | 2147                |  11                 | B6                  |  711                | N607JB              | JFK                 | LAS                 | 309                 | 2248                | 18                  | 59                  | 2013-08-06 18:00:00 | \n",
       "| 2013                |  4                  | 20                  | 1341                | 1330                |  11                 | 1658                | 1606                |  52                 | B6                  |  127                | N258JB              | EWR                 | MCO                 | 171                 |  937                | 13                  | 30                  | 2013-04-20 13:00:00 | \n",
       "\n",
       "\n"
      ],
      "text/plain": [
       "     year month day dep_time sched_dep_time dep_delay arr_time sched_arr_time\n",
       "1    2013 12    21  1401     1317           44        1641     1613          \n",
       "2    2013  9     4  1254     1300           -6        1359     1409          \n",
       "3    2013  9    17  1015     1020           -5        1250     1310          \n",
       "4    2013  8    22   732      735           -3        1057     1005          \n",
       "5    2013  6    12  1457     1500           -3        1627     1652          \n",
       "6    2013  8    18  1906     1855           11        2234     2225          \n",
       "7    2013 12    15  1515     1520           -5        1837     1848          \n",
       "8    2013 12     2   602      600            2         722      735          \n",
       "9    2013  1    19  1023     1020            3        1320     1330          \n",
       "10   2013 10     3  1616     1620           -4        1727     1755          \n",
       "11   2013  6     5  1357     1355            2        1642     1643          \n",
       "12   2013 12     6   635      640           -5         822      805          \n",
       "13   2013  4    19  1707     1708           -1        1931     1932          \n",
       "14   2013  4    23  1905     1755           70        2041     1930          \n",
       "15   2013  3     2  1412     1415           -3        1636     1630          \n",
       "16   2013  1     3  1915     1830           45        2212     2202          \n",
       "17   2013  8    22  1726     1724            2        1949     2015          \n",
       "18   2013  2     8  1316     1251           25        1703     1602          \n",
       "19   2013  3     4  1135     1135            0        1453     1447          \n",
       "20   2013  5    23  1414     1359           15        1718     1630          \n",
       "21   2013  6     4  1811     1805            6        2111     2128          \n",
       "22   2013  9    12  1034     1029            5        1237     1239          \n",
       "23   2013 12    12   736      740           -4         939      942          \n",
       "24   2013  1    24  1635     1635            0        1815     1816          \n",
       "25   2013  8    12  1246     1250           -4        1414     1425          \n",
       "26   2013  4    30  2110     2110            0        2226     2242          \n",
       "27   2013  7     7  1803     1720           43        2202     2025          \n",
       "28   2013 12    22   848      850           -2        1026     1035          \n",
       "29   2013  7     4   924      930           -6        1026     1039          \n",
       "30   2013  2    18  1532     1530            2        1859     1855          \n",
       "...  ...  ...   ... ...      ...            ...       ...      ...           \n",
       "3339 2013  3    14   533      530             3        801      824          \n",
       "3340 2013 10     2  1822     1829            -7       2015     2031          \n",
       "3341 2013  8    12  1655     1700            -5       2041     2018          \n",
       "3342 2013  3    29  1239     1240            -1       1532     1555          \n",
       "3343 2013  7    30   811      815            -4       1034     1110          \n",
       "3344 2013  5     6   854      900            -6       1131     1120          \n",
       "3345 2013  3     7   836      830             6       1151     1142          \n",
       "3346 2013  6    18   901      800            61       1121     1016          \n",
       "3347 2013  3    10  2132     2112            20         14       14          \n",
       "3348 2013 10    24  1026     1029            -3       1255     1249          \n",
       "3349 2013  6    20   610      620           -10        810      822          \n",
       "3350 2013  6     4   854      855            -1       1049     1100          \n",
       "3351 2013  3     9   559      600            -1        832      856          \n",
       "3352 2013  6    26  1448     1455            -7       1617     1645          \n",
       "3353 2013  5     5  1446     1448            -2       1554     1602          \n",
       "3354 2013  9    21  2029     2022             7       2255     2246          \n",
       "3355 2013  6     7  1229     1238            -9       1425     1428          \n",
       "3356 2013 12    23  2011     2000            11       2320     2325          \n",
       "3357 2013  8     5  1549     1559           -10       1726     1730          \n",
       "3358 2013  9    13  2110     2100            10       2341       14          \n",
       "3359 2013 12     7  1013     1015            -2       1412     1342          \n",
       "3360 2013  8    15  1106     1055            11       1525     1445          \n",
       "3361 2013 10    24  1828     1829            -1       1933     1939          \n",
       "3362 2013  7    26  1929     1920             9       2302     2238          \n",
       "3363 2013  9     9  1434     1439            -5       1537     1607          \n",
       "3364 2013  4     5  2054     2050             4       2153     2221          \n",
       "3365 2013 11    27  1351     1359            -8       1502     1508          \n",
       "3366 2013  1    29   922      924            -2       1113     1118          \n",
       "3367 2013  8     6  1914     1859            15       2158     2147          \n",
       "3368 2013  4    20  1341     1330            11       1658     1606          \n",
       "     arr_delay carrier flight tailnum origin dest air_time distance hour minute\n",
       "1     28       UA      1641   N34455  EWR    MCO  139       937     13   17    \n",
       "2    -10       US      2148   N948UW  LGA    BOS   43       184     13    0    \n",
       "3    -20       B6       925   N633JB  JFK    TPA  135      1005     10   20    \n",
       "4     52       AA      1949   N3BRAA  JFK    LAS  294      2248      7   35    \n",
       "5    -25       US       802   N564UW  EWR    CLT   73       529     15    0    \n",
       "6      9       VX        29   N844VA  JFK    SFO  327      2586     18   55    \n",
       "7    -11       DL      1982   N314NB  LGA    MIA  168      1096     15   20    \n",
       "8    -13       UA       219   N514UA  LGA    ORD  117       733      6    0    \n",
       "9    -10       AA       731   N3ELAA  LGA    DFW  203      1389     10   20    \n",
       "10   -28       DL      2443   N315NB  JFK    BOS   41       187     16   20    \n",
       "11    -1       B6      1783   N564JB  JFK    MCO  136       944     13   55    \n",
       "12    17       WN      1121   N712SW  LGA    MKE  129       738      6   40    \n",
       "13    -1       UA       792   N516UA  EWR    LAS  301      2227     17    8    \n",
       "14    71       MQ      4601   N542MQ  LGA    RDU   66       431     17   55    \n",
       "15     6       DL       935   N368NB  EWR    ATL  108       746     14   15    \n",
       "16    10       UA       272   N505UA  JFK    SFO  333      2586     18   30    \n",
       "17   -26       UA      1109   N33132  EWR    MCO  120       937     17   24    \n",
       "18    61       UA       317   N453UA  LGA    IAH  201      1416     12   51    \n",
       "19     6       DL      1552   N336NB  LGA    RSW  152      1080     11   35    \n",
       "20    48       DL      2247   N660DL  LGA    ATL  107       762     13   59    \n",
       "21   -17       B6       217   N583JB  JFK    LGB  326      2465     18    5    \n",
       "22    -2       US       604   N668AW  EWR    PHX  275      2133     10   29    \n",
       "23    -3       EV      4297   N19554  EWR    DTW   92       488      7   40    \n",
       "24    -1       UA      1638   N68453  EWR    CLE   76       404     16   35    \n",
       "25   -11       MQ      3361   N807MQ  JFK    RDU   68       427     12   50    \n",
       "26   -16       EV      5212   N371CA  LGA    RIC   48       292     21   10    \n",
       "27    97       AA       695   N3CLAA  JFK    AUS  202      1521     17   20    \n",
       "28    -9       AA       313   N3KAAA  LGA    ORD  133       733      8   50    \n",
       "29   -13       B6       116   N184JB  JFK    SYR   43       209      9   30    \n",
       "30     4       AA      1039   N3JKAA  JFK    FLL  183      1069     15   30    \n",
       "...  ...       ...     ...    ...     ...    ...  ...      ...      ...  ...   \n",
       "3339 -23       UA       792   N576UA  LGA    IAH  188      1416      5   30    \n",
       "3340 -16       US      2094   N194UW  EWR    CLT   81       529     18   29    \n",
       "3341  23       DL      1163   N718TW  JFK    LAX  363      2475     17    0    \n",
       "3342 -23       AA      2041   N612AA  JFK    MIA  150      1089     12   40    \n",
       "3343 -36       DL      1167   N307DQ  JFK    TPA  126      1005      8   15    \n",
       "3344  11       EV      4940   N707EV  LGA    CHS   91       641      9    0    \n",
       "3345   9       UA       999   N564UA  EWR    SAN  333      2425      8   30    \n",
       "3346  65       DL      2457   N354NB  LGA    MSY  162      1183      8    0    \n",
       "3347   0       UA      1225   N39728  EWR    PBI  133      1023     21   12    \n",
       "3348   6       US       625   N550UW  JFK    PHX  306      2153     10   29    \n",
       "3349 -12       EV      4372   N14188  EWR    MSP  159      1008      6   20    \n",
       "3350 -11       DL      2179   N600TR  EWR    DTW   84       488      8   55    \n",
       "3351 -24       UA       543   N556UA  EWR    PBI  134      1023      6    0    \n",
       "3352 -28       MQ      3359   N807MQ  JFK    RDU   67       427     14   55    \n",
       "3353  -8       EV      3854   N15980  EWR    IAD   40       212     14   48    \n",
       "3354   9       B6       135   N606JB  JFK    PHX  281      2153     20   22    \n",
       "3355  -3       EV      5796   N14558  EWR    CLT   98       529     12   38    \n",
       "3356  -5       VX       415   N361VA  JFK    LAX  345      2475     20    0    \n",
       "3357  -4       B6      1734   N216JB  JFK    BTV   52       266     15   59    \n",
       "3358 -33       DL      2363   N198DN  JFK    LAX  304      2475     21    0    \n",
       "3359  30       US       604   N669AW  EWR    PHX  344      2133     10   15    \n",
       "3360  40       B6       403   N556JB  JFK    SJU  232      1598     10   55    \n",
       "3361  -6       MQ      3044   N631MQ  JFK    BWI   43       184     18   29    \n",
       "3362  24       UA       312   N825UA  EWR    PDX  351      2434     19   20    \n",
       "3363 -30       9E      3712   N8423C  JFK    BWI   39       184     14   39    \n",
       "3364 -28       B6      1020   N613JB  JFK    BOS   38       187     20   50    \n",
       "3365  -6       B6       118   N183JB  JFK    BOS   46       187     13   59    \n",
       "3366  -5       EV      4711   N13908  EWR    STL  145       872      9   24    \n",
       "3367  11       B6       711   N607JB  JFK    LAS  309      2248     18   59    \n",
       "3368  52       B6       127   N258JB  EWR    MCO  171       937     13   30    \n",
       "     time_hour          \n",
       "1    2013-12-21 13:00:00\n",
       "2    2013-09-04 13:00:00\n",
       "3    2013-09-17 10:00:00\n",
       "4    2013-08-22 07:00:00\n",
       "5    2013-06-12 15:00:00\n",
       "6    2013-08-18 18:00:00\n",
       "7    2013-12-15 15:00:00\n",
       "8    2013-12-02 06:00:00\n",
       "9    2013-01-19 10:00:00\n",
       "10   2013-10-03 16:00:00\n",
       "11   2013-06-05 13:00:00\n",
       "12   2013-12-06 06:00:00\n",
       "13   2013-04-19 17:00:00\n",
       "14   2013-04-23 17:00:00\n",
       "15   2013-03-02 14:00:00\n",
       "16   2013-01-03 18:00:00\n",
       "17   2013-08-22 17:00:00\n",
       "18   2013-02-08 12:00:00\n",
       "19   2013-03-04 11:00:00\n",
       "20   2013-05-23 13:00:00\n",
       "21   2013-06-04 18:00:00\n",
       "22   2013-09-12 10:00:00\n",
       "23   2013-12-12 07:00:00\n",
       "24   2013-01-24 16:00:00\n",
       "25   2013-08-12 12:00:00\n",
       "26   2013-04-30 21:00:00\n",
       "27   2013-07-07 17:00:00\n",
       "28   2013-12-22 08:00:00\n",
       "29   2013-07-04 09:00:00\n",
       "30   2013-02-18 15:00:00\n",
       "...  ...                \n",
       "3339 2013-03-14 05:00:00\n",
       "3340 2013-10-02 18:00:00\n",
       "3341 2013-08-12 17:00:00\n",
       "3342 2013-03-29 12:00:00\n",
       "3343 2013-07-30 08:00:00\n",
       "3344 2013-05-06 09:00:00\n",
       "3345 2013-03-07 08:00:00\n",
       "3346 2013-06-18 08:00:00\n",
       "3347 2013-03-10 21:00:00\n",
       "3348 2013-10-24 10:00:00\n",
       "3349 2013-06-20 06:00:00\n",
       "3350 2013-06-04 08:00:00\n",
       "3351 2013-03-09 06:00:00\n",
       "3352 2013-06-26 14:00:00\n",
       "3353 2013-05-05 14:00:00\n",
       "3354 2013-09-21 20:00:00\n",
       "3355 2013-06-07 12:00:00\n",
       "3356 2013-12-23 20:00:00\n",
       "3357 2013-08-05 15:00:00\n",
       "3358 2013-09-13 21:00:00\n",
       "3359 2013-12-07 10:00:00\n",
       "3360 2013-08-15 10:00:00\n",
       "3361 2013-10-24 18:00:00\n",
       "3362 2013-07-26 19:00:00\n",
       "3363 2013-09-09 14:00:00\n",
       "3364 2013-04-05 20:00:00\n",
       "3365 2013-11-27 13:00:00\n",
       "3366 2013-01-29 09:00:00\n",
       "3367 2013-08-06 18:00:00\n",
       "3368 2013-04-20 13:00:00"
      ]
     },
     "metadata": {},
     "output_type": "display_data"
    }
   ],
   "source": [
    "sample_frac(flights, 0.01)"
   ]
  },
  {
   "cell_type": "markdown",
   "metadata": {
    "collapsed": true
   },
   "source": [
    "## Multiple operations: step-by-step"
   ]
  },
  {
   "cell_type": "code",
   "execution_count": 29,
   "metadata": {
    "collapsed": false
   },
   "outputs": [
    {
     "name": "stderr",
     "output_type": "stream",
     "text": [
      "Adding missing grouping variables: `year`, `month`, `day`\n"
     ]
    },
    {
     "data": {
      "text/html": [
       "<table>\n",
       "<thead><tr><th scope=col>year</th><th scope=col>month</th><th scope=col>day</th><th scope=col>arr</th><th scope=col>dep</th></tr></thead>\n",
       "<tbody>\n",
       "\t<tr><td>2013    </td><td> 1      </td><td>16      </td><td>34.24736</td><td>24.61287</td></tr>\n",
       "\t<tr><td>2013    </td><td> 1      </td><td>31      </td><td>32.60285</td><td>28.65836</td></tr>\n",
       "\t<tr><td>2013    </td><td> 2      </td><td>11      </td><td>36.29009</td><td>39.07360</td></tr>\n",
       "\t<tr><td>2013    </td><td> 2      </td><td>27      </td><td>31.25249</td><td>37.76327</td></tr>\n",
       "\t<tr><td>2013    </td><td> 3      </td><td> 8      </td><td>85.86216</td><td>83.53692</td></tr>\n",
       "\t<tr><td>2013    </td><td> 3      </td><td>18      </td><td>41.29189</td><td>30.11796</td></tr>\n",
       "\t<tr><td>2013    </td><td> 4      </td><td>10      </td><td>38.41231</td><td>33.02368</td></tr>\n",
       "\t<tr><td>2013    </td><td> 4      </td><td>12      </td><td>36.04814</td><td>34.83843</td></tr>\n",
       "\t<tr><td>2013    </td><td> 4      </td><td>18      </td><td>36.02848</td><td>34.91536</td></tr>\n",
       "\t<tr><td>2013    </td><td> 4      </td><td>19      </td><td>47.91170</td><td>46.12783</td></tr>\n",
       "\t<tr><td>2013    </td><td> 4      </td><td>22      </td><td>37.81217</td><td>30.64255</td></tr>\n",
       "\t<tr><td>2013    </td><td> 4      </td><td>25      </td><td>33.68125</td><td>23.33956</td></tr>\n",
       "\t<tr><td>2013    </td><td> 5      </td><td> 8      </td><td>39.60918</td><td>43.21778</td></tr>\n",
       "\t<tr><td>2013    </td><td> 5      </td><td>23      </td><td>61.97090</td><td>51.14472</td></tr>\n",
       "\t<tr><td>2013    </td><td> 5      </td><td>24      </td><td>24.25742</td><td>30.34072</td></tr>\n",
       "\t<tr><td>2013    </td><td> 6      </td><td> 2      </td><td>26.07552</td><td>34.01337</td></tr>\n",
       "\t<tr><td>2013    </td><td> 6      </td><td>10      </td><td>28.02229</td><td>30.61945</td></tr>\n",
       "\t<tr><td>2013    </td><td> 6      </td><td>13      </td><td>63.75369</td><td>45.79083</td></tr>\n",
       "\t<tr><td>2013    </td><td> 6      </td><td>18      </td><td>37.64803</td><td>35.95077</td></tr>\n",
       "\t<tr><td>2013    </td><td> 6      </td><td>24      </td><td>51.17681</td><td>47.15742</td></tr>\n",
       "\t<tr><td>2013    </td><td> 6      </td><td>25      </td><td>41.51368</td><td>43.06303</td></tr>\n",
       "\t<tr><td>2013    </td><td> 6      </td><td>26      </td><td>27.31741</td><td>30.61175</td></tr>\n",
       "\t<tr><td>2013    </td><td> 6      </td><td>27      </td><td>44.78330</td><td>40.89123</td></tr>\n",
       "\t<tr><td>2013    </td><td> 6      </td><td>28      </td><td>44.97685</td><td>48.82778</td></tr>\n",
       "\t<tr><td>2013    </td><td> 6      </td><td>30      </td><td>43.51028</td><td>44.18818</td></tr>\n",
       "\t<tr><td>2013    </td><td> 7      </td><td> 1      </td><td>58.28050</td><td>56.23383</td></tr>\n",
       "\t<tr><td>2013    </td><td> 7      </td><td> 7      </td><td>40.30638</td><td>36.61745</td></tr>\n",
       "\t<tr><td>2013    </td><td> 7      </td><td> 8      </td><td>29.64885</td><td>37.29665</td></tr>\n",
       "\t<tr><td>2013    </td><td> 7      </td><td> 9      </td><td>31.33437</td><td>30.71150</td></tr>\n",
       "\t<tr><td>2013    </td><td> 7      </td><td>10      </td><td>59.62648</td><td>52.86070</td></tr>\n",
       "\t<tr><td>2013    </td><td> 7      </td><td>22      </td><td>62.76340</td><td>46.66705</td></tr>\n",
       "\t<tr><td>2013    </td><td> 7      </td><td>23      </td><td>44.95982</td><td>44.74169</td></tr>\n",
       "\t<tr><td>2013    </td><td> 7      </td><td>28      </td><td>49.83178</td><td>37.71016</td></tr>\n",
       "\t<tr><td>2013    </td><td> 8      </td><td> 1      </td><td>35.98926</td><td>34.57403</td></tr>\n",
       "\t<tr><td>2013    </td><td> 8      </td><td> 8      </td><td>55.48116</td><td>43.34995</td></tr>\n",
       "\t<tr><td>2013    </td><td> 8      </td><td> 9      </td><td>43.31364</td><td>34.69190</td></tr>\n",
       "\t<tr><td>2013    </td><td> 8      </td><td>22      </td><td>29.97674</td><td>33.60042</td></tr>\n",
       "\t<tr><td>2013    </td><td> 8      </td><td>28      </td><td>35.20307</td><td>40.52689</td></tr>\n",
       "\t<tr><td>2013    </td><td> 9      </td><td> 2      </td><td>45.51843</td><td>53.02955</td></tr>\n",
       "\t<tr><td>2013    </td><td> 9      </td><td>12      </td><td>58.91242</td><td>49.95875</td></tr>\n",
       "\t<tr><td>2013    </td><td>10      </td><td> 7      </td><td>39.01726</td><td>39.14671</td></tr>\n",
       "\t<tr><td>2013    </td><td>10      </td><td>11      </td><td>18.92299</td><td>31.23184</td></tr>\n",
       "\t<tr><td>2013    </td><td>12      </td><td> 5      </td><td>51.66625</td><td>52.32799</td></tr>\n",
       "\t<tr><td>2013    </td><td>12      </td><td> 8      </td><td>36.91180</td><td>21.51534</td></tr>\n",
       "\t<tr><td>2013    </td><td>12      </td><td> 9      </td><td>42.57556</td><td>34.80022</td></tr>\n",
       "\t<tr><td>2013    </td><td>12      </td><td>10      </td><td>44.50880</td><td>26.46549</td></tr>\n",
       "\t<tr><td>2013    </td><td>12      </td><td>14      </td><td>46.39750</td><td>28.36155</td></tr>\n",
       "\t<tr><td>2013    </td><td>12      </td><td>17      </td><td>55.87186</td><td>40.70560</td></tr>\n",
       "\t<tr><td>2013    </td><td>12      </td><td>23      </td><td>32.22604</td><td>32.25415</td></tr>\n",
       "</tbody>\n",
       "</table>\n"
      ],
      "text/latex": [
       "\\begin{tabular}{r|lllll}\n",
       " year & month & day & arr & dep\\\\\n",
       "\\hline\n",
       "\t 2013     &  1       & 16       & 34.24736 & 24.61287\\\\\n",
       "\t 2013     &  1       & 31       & 32.60285 & 28.65836\\\\\n",
       "\t 2013     &  2       & 11       & 36.29009 & 39.07360\\\\\n",
       "\t 2013     &  2       & 27       & 31.25249 & 37.76327\\\\\n",
       "\t 2013     &  3       &  8       & 85.86216 & 83.53692\\\\\n",
       "\t 2013     &  3       & 18       & 41.29189 & 30.11796\\\\\n",
       "\t 2013     &  4       & 10       & 38.41231 & 33.02368\\\\\n",
       "\t 2013     &  4       & 12       & 36.04814 & 34.83843\\\\\n",
       "\t 2013     &  4       & 18       & 36.02848 & 34.91536\\\\\n",
       "\t 2013     &  4       & 19       & 47.91170 & 46.12783\\\\\n",
       "\t 2013     &  4       & 22       & 37.81217 & 30.64255\\\\\n",
       "\t 2013     &  4       & 25       & 33.68125 & 23.33956\\\\\n",
       "\t 2013     &  5       &  8       & 39.60918 & 43.21778\\\\\n",
       "\t 2013     &  5       & 23       & 61.97090 & 51.14472\\\\\n",
       "\t 2013     &  5       & 24       & 24.25742 & 30.34072\\\\\n",
       "\t 2013     &  6       &  2       & 26.07552 & 34.01337\\\\\n",
       "\t 2013     &  6       & 10       & 28.02229 & 30.61945\\\\\n",
       "\t 2013     &  6       & 13       & 63.75369 & 45.79083\\\\\n",
       "\t 2013     &  6       & 18       & 37.64803 & 35.95077\\\\\n",
       "\t 2013     &  6       & 24       & 51.17681 & 47.15742\\\\\n",
       "\t 2013     &  6       & 25       & 41.51368 & 43.06303\\\\\n",
       "\t 2013     &  6       & 26       & 27.31741 & 30.61175\\\\\n",
       "\t 2013     &  6       & 27       & 44.78330 & 40.89123\\\\\n",
       "\t 2013     &  6       & 28       & 44.97685 & 48.82778\\\\\n",
       "\t 2013     &  6       & 30       & 43.51028 & 44.18818\\\\\n",
       "\t 2013     &  7       &  1       & 58.28050 & 56.23383\\\\\n",
       "\t 2013     &  7       &  7       & 40.30638 & 36.61745\\\\\n",
       "\t 2013     &  7       &  8       & 29.64885 & 37.29665\\\\\n",
       "\t 2013     &  7       &  9       & 31.33437 & 30.71150\\\\\n",
       "\t 2013     &  7       & 10       & 59.62648 & 52.86070\\\\\n",
       "\t 2013     &  7       & 22       & 62.76340 & 46.66705\\\\\n",
       "\t 2013     &  7       & 23       & 44.95982 & 44.74169\\\\\n",
       "\t 2013     &  7       & 28       & 49.83178 & 37.71016\\\\\n",
       "\t 2013     &  8       &  1       & 35.98926 & 34.57403\\\\\n",
       "\t 2013     &  8       &  8       & 55.48116 & 43.34995\\\\\n",
       "\t 2013     &  8       &  9       & 43.31364 & 34.69190\\\\\n",
       "\t 2013     &  8       & 22       & 29.97674 & 33.60042\\\\\n",
       "\t 2013     &  8       & 28       & 35.20307 & 40.52689\\\\\n",
       "\t 2013     &  9       &  2       & 45.51843 & 53.02955\\\\\n",
       "\t 2013     &  9       & 12       & 58.91242 & 49.95875\\\\\n",
       "\t 2013     & 10       &  7       & 39.01726 & 39.14671\\\\\n",
       "\t 2013     & 10       & 11       & 18.92299 & 31.23184\\\\\n",
       "\t 2013     & 12       &  5       & 51.66625 & 52.32799\\\\\n",
       "\t 2013     & 12       &  8       & 36.91180 & 21.51534\\\\\n",
       "\t 2013     & 12       &  9       & 42.57556 & 34.80022\\\\\n",
       "\t 2013     & 12       & 10       & 44.50880 & 26.46549\\\\\n",
       "\t 2013     & 12       & 14       & 46.39750 & 28.36155\\\\\n",
       "\t 2013     & 12       & 17       & 55.87186 & 40.70560\\\\\n",
       "\t 2013     & 12       & 23       & 32.22604 & 32.25415\\\\\n",
       "\\end{tabular}\n"
      ],
      "text/markdown": [
       "\n",
       "year | month | day | arr | dep | \n",
       "|---|---|---|---|---|---|---|---|---|---|---|---|---|---|---|---|---|---|---|---|---|---|---|---|---|---|---|---|---|---|---|---|---|---|---|---|---|---|---|---|---|---|---|---|---|---|---|---|---|\n",
       "| 2013     |  1       | 16       | 34.24736 | 24.61287 | \n",
       "| 2013     |  1       | 31       | 32.60285 | 28.65836 | \n",
       "| 2013     |  2       | 11       | 36.29009 | 39.07360 | \n",
       "| 2013     |  2       | 27       | 31.25249 | 37.76327 | \n",
       "| 2013     |  3       |  8       | 85.86216 | 83.53692 | \n",
       "| 2013     |  3       | 18       | 41.29189 | 30.11796 | \n",
       "| 2013     |  4       | 10       | 38.41231 | 33.02368 | \n",
       "| 2013     |  4       | 12       | 36.04814 | 34.83843 | \n",
       "| 2013     |  4       | 18       | 36.02848 | 34.91536 | \n",
       "| 2013     |  4       | 19       | 47.91170 | 46.12783 | \n",
       "| 2013     |  4       | 22       | 37.81217 | 30.64255 | \n",
       "| 2013     |  4       | 25       | 33.68125 | 23.33956 | \n",
       "| 2013     |  5       |  8       | 39.60918 | 43.21778 | \n",
       "| 2013     |  5       | 23       | 61.97090 | 51.14472 | \n",
       "| 2013     |  5       | 24       | 24.25742 | 30.34072 | \n",
       "| 2013     |  6       |  2       | 26.07552 | 34.01337 | \n",
       "| 2013     |  6       | 10       | 28.02229 | 30.61945 | \n",
       "| 2013     |  6       | 13       | 63.75369 | 45.79083 | \n",
       "| 2013     |  6       | 18       | 37.64803 | 35.95077 | \n",
       "| 2013     |  6       | 24       | 51.17681 | 47.15742 | \n",
       "| 2013     |  6       | 25       | 41.51368 | 43.06303 | \n",
       "| 2013     |  6       | 26       | 27.31741 | 30.61175 | \n",
       "| 2013     |  6       | 27       | 44.78330 | 40.89123 | \n",
       "| 2013     |  6       | 28       | 44.97685 | 48.82778 | \n",
       "| 2013     |  6       | 30       | 43.51028 | 44.18818 | \n",
       "| 2013     |  7       |  1       | 58.28050 | 56.23383 | \n",
       "| 2013     |  7       |  7       | 40.30638 | 36.61745 | \n",
       "| 2013     |  7       |  8       | 29.64885 | 37.29665 | \n",
       "| 2013     |  7       |  9       | 31.33437 | 30.71150 | \n",
       "| 2013     |  7       | 10       | 59.62648 | 52.86070 | \n",
       "| 2013     |  7       | 22       | 62.76340 | 46.66705 | \n",
       "| 2013     |  7       | 23       | 44.95982 | 44.74169 | \n",
       "| 2013     |  7       | 28       | 49.83178 | 37.71016 | \n",
       "| 2013     |  8       |  1       | 35.98926 | 34.57403 | \n",
       "| 2013     |  8       |  8       | 55.48116 | 43.34995 | \n",
       "| 2013     |  8       |  9       | 43.31364 | 34.69190 | \n",
       "| 2013     |  8       | 22       | 29.97674 | 33.60042 | \n",
       "| 2013     |  8       | 28       | 35.20307 | 40.52689 | \n",
       "| 2013     |  9       |  2       | 45.51843 | 53.02955 | \n",
       "| 2013     |  9       | 12       | 58.91242 | 49.95875 | \n",
       "| 2013     | 10       |  7       | 39.01726 | 39.14671 | \n",
       "| 2013     | 10       | 11       | 18.92299 | 31.23184 | \n",
       "| 2013     | 12       |  5       | 51.66625 | 52.32799 | \n",
       "| 2013     | 12       |  8       | 36.91180 | 21.51534 | \n",
       "| 2013     | 12       |  9       | 42.57556 | 34.80022 | \n",
       "| 2013     | 12       | 10       | 44.50880 | 26.46549 | \n",
       "| 2013     | 12       | 14       | 46.39750 | 28.36155 | \n",
       "| 2013     | 12       | 17       | 55.87186 | 40.70560 | \n",
       "| 2013     | 12       | 23       | 32.22604 | 32.25415 | \n",
       "\n",
       "\n"
      ],
      "text/plain": [
       "   year month day arr      dep     \n",
       "1  2013  1    16  34.24736 24.61287\n",
       "2  2013  1    31  32.60285 28.65836\n",
       "3  2013  2    11  36.29009 39.07360\n",
       "4  2013  2    27  31.25249 37.76327\n",
       "5  2013  3     8  85.86216 83.53692\n",
       "6  2013  3    18  41.29189 30.11796\n",
       "7  2013  4    10  38.41231 33.02368\n",
       "8  2013  4    12  36.04814 34.83843\n",
       "9  2013  4    18  36.02848 34.91536\n",
       "10 2013  4    19  47.91170 46.12783\n",
       "11 2013  4    22  37.81217 30.64255\n",
       "12 2013  4    25  33.68125 23.33956\n",
       "13 2013  5     8  39.60918 43.21778\n",
       "14 2013  5    23  61.97090 51.14472\n",
       "15 2013  5    24  24.25742 30.34072\n",
       "16 2013  6     2  26.07552 34.01337\n",
       "17 2013  6    10  28.02229 30.61945\n",
       "18 2013  6    13  63.75369 45.79083\n",
       "19 2013  6    18  37.64803 35.95077\n",
       "20 2013  6    24  51.17681 47.15742\n",
       "21 2013  6    25  41.51368 43.06303\n",
       "22 2013  6    26  27.31741 30.61175\n",
       "23 2013  6    27  44.78330 40.89123\n",
       "24 2013  6    28  44.97685 48.82778\n",
       "25 2013  6    30  43.51028 44.18818\n",
       "26 2013  7     1  58.28050 56.23383\n",
       "27 2013  7     7  40.30638 36.61745\n",
       "28 2013  7     8  29.64885 37.29665\n",
       "29 2013  7     9  31.33437 30.71150\n",
       "30 2013  7    10  59.62648 52.86070\n",
       "31 2013  7    22  62.76340 46.66705\n",
       "32 2013  7    23  44.95982 44.74169\n",
       "33 2013  7    28  49.83178 37.71016\n",
       "34 2013  8     1  35.98926 34.57403\n",
       "35 2013  8     8  55.48116 43.34995\n",
       "36 2013  8     9  43.31364 34.69190\n",
       "37 2013  8    22  29.97674 33.60042\n",
       "38 2013  8    28  35.20307 40.52689\n",
       "39 2013  9     2  45.51843 53.02955\n",
       "40 2013  9    12  58.91242 49.95875\n",
       "41 2013 10     7  39.01726 39.14671\n",
       "42 2013 10    11  18.92299 31.23184\n",
       "43 2013 12     5  51.66625 52.32799\n",
       "44 2013 12     8  36.91180 21.51534\n",
       "45 2013 12     9  42.57556 34.80022\n",
       "46 2013 12    10  44.50880 26.46549\n",
       "47 2013 12    14  46.39750 28.36155\n",
       "48 2013 12    17  55.87186 40.70560\n",
       "49 2013 12    23  32.22604 32.25415"
      ]
     },
     "metadata": {},
     "output_type": "display_data"
    }
   ],
   "source": [
    "a1 <- group_by(flights, year, month, day)\n",
    "a2 <- select(a1, arr_delay, dep_delay)\n",
    "a3 <- summarise(a2, arr = mean(arr_delay, na.rm=TRUE),\n",
    "               dep = mean(dep_delay, na.rm=TRUE))\n",
    "a4 <- filter(a3, arr>30 | dep>30)\n",
    "a4"
   ]
  },
  {
   "cell_type": "code",
   "execution_count": null,
   "metadata": {
    "collapsed": true
   },
   "outputs": [],
   "source": []
  }
 ],
 "metadata": {
  "kernelspec": {
   "display_name": "R",
   "language": "R",
   "name": "ir"
  },
  "language_info": {
   "codemirror_mode": "r",
   "file_extension": ".r",
   "mimetype": "text/x-r-source",
   "name": "R",
   "pygments_lexer": "r",
   "version": "3.3.2"
  }
 },
 "nbformat": 4,
 "nbformat_minor": 2
}
