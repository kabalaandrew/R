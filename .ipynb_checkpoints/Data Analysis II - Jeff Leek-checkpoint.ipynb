{
 "cells": [
  {
   "cell_type": "code",
   "execution_count": 6,
   "metadata": {
    "collapsed": false
   },
   "outputs": [
    {
     "data": {
      "text/html": [
       "<ol class=list-inline>\n",
       "\t<li>'cameras.csv'</li>\n",
       "\t<li>'carPlot.jpg'</li>\n",
       "\t<li>'Control_structures.R'</li>\n",
       "\t<li>'Courtney Brown R - Statistics Using R studio.ipynb'</li>\n",
       "\t<li>'currency.csv'</li>\n",
       "\t<li>'Data Analysis - Jeff Leek.ipynb'</li>\n",
       "\t<li>'Data Analysis II - Jeff Leek.ipynb'</li>\n",
       "\t<li>'dates_and_times.R'</li>\n",
       "\t<li>'demoData.csv'</li>\n",
       "\t<li>'dji.csv'</li>\n",
       "\t<li>'functions.R'</li>\n",
       "\t<li>'ggplot and dplyr - R - Part 1.ipynb'</li>\n",
       "\t<li>'ggplot and dplyr - R - Part 2.ipynb'</li>\n",
       "\t<li>'ggplot2_data_cleaning.R'</li>\n",
       "\t<li>'land.csv'</li>\n",
       "\t<li>'msleep_ggplot2.csv'</li>\n",
       "\t<li>'MT- cars data analysis.ipynb'</li>\n",
       "\t<li>'MyFirstGraphic.pdf'</li>\n",
       "\t<li>'panel80.txt'</li>\n",
       "\t<li>'R-Effecient Data Handling in R.ipynb'</li>\n",
       "\t<li>'R-GRAPHICS.ipynb'</li>\n",
       "\t<li>'R - Data Manipulation &amp; Transformation.ipynb'</li>\n",
       "\t<li>'R - dplyr tutorial.ipynb'</li>\n",
       "\t<li>'R - ggplot Package.ipynb'</li>\n",
       "\t<li>'R - Lattice Graphics.ipynb'</li>\n",
       "\t<li>'R models and Object Orientation.ipynb'</li>\n",
       "\t<li>'reading_data.R'</li>\n",
       "\t<li>'README.md'</li>\n",
       "\t<li>'Regression &amp; ANOVA using R.ipynb'</li>\n",
       "\t<li>'Regression.R'</li>\n",
       "\t<li>'Regression2.R'</li>\n",
       "\t<li>'Regression3.R'</li>\n",
       "\t<li>'spam.R'</li>\n",
       "\t<li>'stocks.R'</li>\n",
       "\t<li>'Subsetting.R'</li>\n",
       "\t<li>'Untitled.ipynb'</li>\n",
       "\t<li>'usparty.txt'</li>\n",
       "</ol>\n"
      ],
      "text/latex": [
       "\\begin{enumerate*}\n",
       "\\item 'cameras.csv'\n",
       "\\item 'carPlot.jpg'\n",
       "\\item 'Control\\_structures.R'\n",
       "\\item 'Courtney Brown R - Statistics Using R studio.ipynb'\n",
       "\\item 'currency.csv'\n",
       "\\item 'Data Analysis - Jeff Leek.ipynb'\n",
       "\\item 'Data Analysis II - Jeff Leek.ipynb'\n",
       "\\item 'dates\\_and\\_times.R'\n",
       "\\item 'demoData.csv'\n",
       "\\item 'dji.csv'\n",
       "\\item 'functions.R'\n",
       "\\item 'ggplot and dplyr - R - Part 1.ipynb'\n",
       "\\item 'ggplot and dplyr - R - Part 2.ipynb'\n",
       "\\item 'ggplot2\\_data\\_cleaning.R'\n",
       "\\item 'land.csv'\n",
       "\\item 'msleep\\_ggplot2.csv'\n",
       "\\item 'MT- cars data analysis.ipynb'\n",
       "\\item 'MyFirstGraphic.pdf'\n",
       "\\item 'panel80.txt'\n",
       "\\item 'R-Effecient Data Handling in R.ipynb'\n",
       "\\item 'R-GRAPHICS.ipynb'\n",
       "\\item 'R - Data Manipulation \\& Transformation.ipynb'\n",
       "\\item 'R - dplyr tutorial.ipynb'\n",
       "\\item 'R - ggplot Package.ipynb'\n",
       "\\item 'R - Lattice Graphics.ipynb'\n",
       "\\item 'R models and Object Orientation.ipynb'\n",
       "\\item 'reading\\_data.R'\n",
       "\\item 'README.md'\n",
       "\\item 'Regression \\& ANOVA using R.ipynb'\n",
       "\\item 'Regression.R'\n",
       "\\item 'Regression2.R'\n",
       "\\item 'Regression3.R'\n",
       "\\item 'spam.R'\n",
       "\\item 'stocks.R'\n",
       "\\item 'Subsetting.R'\n",
       "\\item 'Untitled.ipynb'\n",
       "\\item 'usparty.txt'\n",
       "\\end{enumerate*}\n"
      ],
      "text/markdown": [
       "1. 'cameras.csv'\n",
       "2. 'carPlot.jpg'\n",
       "3. 'Control_structures.R'\n",
       "4. 'Courtney Brown R - Statistics Using R studio.ipynb'\n",
       "5. 'currency.csv'\n",
       "6. 'Data Analysis - Jeff Leek.ipynb'\n",
       "7. 'Data Analysis II - Jeff Leek.ipynb'\n",
       "8. 'dates_and_times.R'\n",
       "9. 'demoData.csv'\n",
       "10. 'dji.csv'\n",
       "11. 'functions.R'\n",
       "12. 'ggplot and dplyr - R - Part 1.ipynb'\n",
       "13. 'ggplot and dplyr - R - Part 2.ipynb'\n",
       "14. 'ggplot2_data_cleaning.R'\n",
       "15. 'land.csv'\n",
       "16. 'msleep_ggplot2.csv'\n",
       "17. 'MT- cars data analysis.ipynb'\n",
       "18. 'MyFirstGraphic.pdf'\n",
       "19. 'panel80.txt'\n",
       "20. 'R-Effecient Data Handling in R.ipynb'\n",
       "21. 'R-GRAPHICS.ipynb'\n",
       "22. 'R - Data Manipulation &amp; Transformation.ipynb'\n",
       "23. 'R - dplyr tutorial.ipynb'\n",
       "24. 'R - ggplot Package.ipynb'\n",
       "25. 'R - Lattice Graphics.ipynb'\n",
       "26. 'R models and Object Orientation.ipynb'\n",
       "27. 'reading_data.R'\n",
       "28. 'README.md'\n",
       "29. 'Regression &amp; ANOVA using R.ipynb'\n",
       "30. 'Regression.R'\n",
       "31. 'Regression2.R'\n",
       "32. 'Regression3.R'\n",
       "33. 'spam.R'\n",
       "34. 'stocks.R'\n",
       "35. 'Subsetting.R'\n",
       "36. 'Untitled.ipynb'\n",
       "37. 'usparty.txt'\n",
       "\n",
       "\n"
      ],
      "text/plain": [
       " [1] \"cameras.csv\"                                       \n",
       " [2] \"carPlot.jpg\"                                       \n",
       " [3] \"Control_structures.R\"                              \n",
       " [4] \"Courtney Brown R - Statistics Using R studio.ipynb\"\n",
       " [5] \"currency.csv\"                                      \n",
       " [6] \"Data Analysis - Jeff Leek.ipynb\"                   \n",
       " [7] \"Data Analysis II - Jeff Leek.ipynb\"                \n",
       " [8] \"dates_and_times.R\"                                 \n",
       " [9] \"demoData.csv\"                                      \n",
       "[10] \"dji.csv\"                                           \n",
       "[11] \"functions.R\"                                       \n",
       "[12] \"ggplot and dplyr - R - Part 1.ipynb\"               \n",
       "[13] \"ggplot and dplyr - R - Part 2.ipynb\"               \n",
       "[14] \"ggplot2_data_cleaning.R\"                           \n",
       "[15] \"land.csv\"                                          \n",
       "[16] \"msleep_ggplot2.csv\"                                \n",
       "[17] \"MT- cars data analysis.ipynb\"                      \n",
       "[18] \"MyFirstGraphic.pdf\"                                \n",
       "[19] \"panel80.txt\"                                       \n",
       "[20] \"R-Effecient Data Handling in R.ipynb\"              \n",
       "[21] \"R-GRAPHICS.ipynb\"                                  \n",
       "[22] \"R - Data Manipulation & Transformation.ipynb\"      \n",
       "[23] \"R - dplyr tutorial.ipynb\"                          \n",
       "[24] \"R - ggplot Package.ipynb\"                          \n",
       "[25] \"R - Lattice Graphics.ipynb\"                        \n",
       "[26] \"R models and Object Orientation.ipynb\"             \n",
       "[27] \"reading_data.R\"                                    \n",
       "[28] \"README.md\"                                         \n",
       "[29] \"Regression & ANOVA using R.ipynb\"                  \n",
       "[30] \"Regression.R\"                                      \n",
       "[31] \"Regression2.R\"                                     \n",
       "[32] \"Regression3.R\"                                     \n",
       "[33] \"spam.R\"                                            \n",
       "[34] \"stocks.R\"                                          \n",
       "[35] \"Subsetting.R\"                                      \n",
       "[36] \"Untitled.ipynb\"                                    \n",
       "[37] \"usparty.txt\"                                       "
      ]
     },
     "metadata": {},
     "output_type": "display_data"
    }
   ],
   "source": [
    "# Downloading a file from the internet\n",
    "fileUrl <- \"https://data.baltimorecity.gov/api/views/dz54-2aru/rows.csv?accessType=DOWNLOAD\"\n",
    "download.file(fileUrl, destfile=\"C:\\\\Users\\\\USER\\\\Documents\\\\GitHub\\\\R\\\\cameras.csv\")\n",
    "list.files(\"C:\\\\Users\\\\USER\\\\Documents\\\\GitHub\\\\R\")"
   ]
  },
  {
   "cell_type": "code",
   "execution_count": 7,
   "metadata": {
    "collapsed": false
   },
   "outputs": [
    {
     "data": {
      "text/html": [
       "'Wed Jul 26 14:10:14 2017'"
      ],
      "text/latex": [
       "'Wed Jul 26 14:10:14 2017'"
      ],
      "text/markdown": [
       "'Wed Jul 26 14:10:14 2017'"
      ],
      "text/plain": [
       "[1] \"Wed Jul 26 14:10:14 2017\""
      ]
     },
     "metadata": {},
     "output_type": "display_data"
    }
   ],
   "source": [
    "dateDownloaded <- date()\n",
    "dateDownloaded"
   ]
  },
  {
   "cell_type": "code",
   "execution_count": 11,
   "metadata": {
    "collapsed": false
   },
   "outputs": [
    {
     "data": {
      "text/html": [
       "<table>\n",
       "<thead><tr><th scope=col>address</th><th scope=col>direction</th><th scope=col>street</th><th scope=col>crossStreet</th><th scope=col>intersection</th><th scope=col>Location.1</th></tr></thead>\n",
       "<tbody>\n",
       "\t<tr><td><span style=white-space:pre-wrap>S CATON AVE &amp; BENSON AVE      </span></td><td>N/B                                                                       </td><td><span style=white-space:pre-wrap>Caton Ave  </span>                       </td><td><span style=white-space:pre-wrap>Benson Ave  </span>                      </td><td><span style=white-space:pre-wrap>Caton Ave &amp; Benson Ave    </span>    </td><td>(39.2693779962, -76.6688185297)                                           </td></tr>\n",
       "\t<tr><td><span style=white-space:pre-wrap>S CATON AVE &amp; BENSON AVE      </span></td><td>S/B                                                                       </td><td><span style=white-space:pre-wrap>Caton Ave  </span>                       </td><td><span style=white-space:pre-wrap>Benson Ave  </span>                      </td><td><span style=white-space:pre-wrap>Caton Ave &amp; Benson Ave    </span>    </td><td>(39.2693157898, -76.6689698176)                                           </td></tr>\n",
       "\t<tr><td>WILKENS AVE &amp; PINE HEIGHTS AVE</td><td>E/B                               </td><td>Wilkens Ave                       </td><td>Pine Heights                      </td><td>Wilkens Ave &amp; Pine Heights    </td><td>(39.2720252302, -76.676960806)    </td></tr>\n",
       "</tbody>\n",
       "</table>\n"
      ],
      "text/latex": [
       "\\begin{tabular}{r|llllll}\n",
       " address & direction & street & crossStreet & intersection & Location.1\\\\\n",
       "\\hline\n",
       "\t S CATON AVE \\& BENSON AVE       & N/B                              & Caton Ave                        & Benson Ave                       & Caton Ave \\& Benson Ave         & (39.2693779962, -76.6688185297) \\\\\n",
       "\t S CATON AVE \\& BENSON AVE       & S/B                              & Caton Ave                        & Benson Ave                       & Caton Ave \\& Benson Ave         & (39.2693157898, -76.6689698176) \\\\\n",
       "\t WILKENS AVE \\& PINE HEIGHTS AVE & E/B                              & Wilkens Ave                      & Pine Heights                     & Wilkens Ave \\& Pine Heights     & (39.2720252302, -76.676960806)  \\\\\n",
       "\\end{tabular}\n"
      ],
      "text/markdown": [
       "\n",
       "address | direction | street | crossStreet | intersection | Location.1 | \n",
       "|---|---|---|\n",
       "| S CATON AVE & BENSON AVE        | N/B                             | Caton Ave                       | Benson Ave                      | Caton Ave & Benson Ave          | (39.2693779962, -76.6688185297) | \n",
       "| S CATON AVE & BENSON AVE        | S/B                             | Caton Ave                       | Benson Ave                      | Caton Ave & Benson Ave          | (39.2693157898, -76.6689698176) | \n",
       "| WILKENS AVE & PINE HEIGHTS AVE  | E/B                             | Wilkens Ave                     | Pine Heights                    | Wilkens Ave & Pine Heights      | (39.2720252302, -76.676960806)  | \n",
       "\n",
       "\n"
      ],
      "text/plain": [
       "  address                        direction street      crossStreet \n",
       "1 S CATON AVE & BENSON AVE       N/B       Caton Ave   Benson Ave  \n",
       "2 S CATON AVE & BENSON AVE       S/B       Caton Ave   Benson Ave  \n",
       "3 WILKENS AVE & PINE HEIGHTS AVE E/B       Wilkens Ave Pine Heights\n",
       "  intersection               Location.1                     \n",
       "1 Caton Ave & Benson Ave     (39.2693779962, -76.6688185297)\n",
       "2 Caton Ave & Benson Ave     (39.2693157898, -76.6689698176)\n",
       "3 Wilkens Ave & Pine Heights (39.2720252302, -76.676960806) "
      ]
     },
     "metadata": {},
     "output_type": "display_data"
    }
   ],
   "source": [
    "cameraData <- read.table(\"C:\\\\Users\\\\USER\\\\Documents\\\\GitHub\\\\R\\\\cameras.csv\", sep=\",\", header=TRUE)\n",
    "head(cameraData,3)"
   ]
  },
  {
   "cell_type": "code",
   "execution_count": 10,
   "metadata": {
    "collapsed": false
   },
   "outputs": [
    {
     "data": {
      "text/html": [
       "<table>\n",
       "<thead><tr><th scope=col>address</th><th scope=col>direction</th><th scope=col>street</th><th scope=col>crossStreet</th><th scope=col>intersection</th><th scope=col>Location.1</th></tr></thead>\n",
       "<tbody>\n",
       "\t<tr><td>S CATON AVE &amp; BENSON AVE   </td><td>N/B                            </td><td>Caton Ave                      </td><td>Benson Ave                     </td><td>Caton Ave &amp; Benson Ave     </td><td>(39.2693779962, -76.6688185297)</td></tr>\n",
       "\t<tr><td>S CATON AVE &amp; BENSON AVE   </td><td>S/B                            </td><td>Caton Ave                      </td><td>Benson Ave                     </td><td>Caton Ave &amp; Benson Ave     </td><td>(39.2693157898, -76.6689698176)</td></tr>\n",
       "</tbody>\n",
       "</table>\n"
      ],
      "text/latex": [
       "\\begin{tabular}{r|llllll}\n",
       " address & direction & street & crossStreet & intersection & Location.1\\\\\n",
       "\\hline\n",
       "\t S CATON AVE \\& BENSON AVE      & N/B                             & Caton Ave                       & Benson Ave                      & Caton Ave \\& Benson Ave        & (39.2693779962, -76.6688185297)\\\\\n",
       "\t S CATON AVE \\& BENSON AVE      & S/B                             & Caton Ave                       & Benson Ave                      & Caton Ave \\& Benson Ave        & (39.2693157898, -76.6689698176)\\\\\n",
       "\\end{tabular}\n"
      ],
      "text/markdown": [
       "\n",
       "address | direction | street | crossStreet | intersection | Location.1 | \n",
       "|---|---|\n",
       "| S CATON AVE & BENSON AVE        | N/B                             | Caton Ave                       | Benson Ave                      | Caton Ave & Benson Ave          | (39.2693779962, -76.6688185297) | \n",
       "| S CATON AVE & BENSON AVE        | S/B                             | Caton Ave                       | Benson Ave                      | Caton Ave & Benson Ave          | (39.2693157898, -76.6689698176) | \n",
       "\n",
       "\n"
      ],
      "text/plain": [
       "  address                  direction street    crossStreet\n",
       "1 S CATON AVE & BENSON AVE N/B       Caton Ave Benson Ave \n",
       "2 S CATON AVE & BENSON AVE S/B       Caton Ave Benson Ave \n",
       "  intersection           Location.1                     \n",
       "1 Caton Ave & Benson Ave (39.2693779962, -76.6688185297)\n",
       "2 Caton Ave & Benson Ave (39.2693157898, -76.6689698176)"
      ]
     },
     "metadata": {},
     "output_type": "display_data"
    }
   ],
   "source": [
    "# read.csv uses fewer parameters\n",
    "cameraData <- read.csv(\"C:\\\\Users\\\\USER\\\\Documents\\\\GitHub\\\\R\\\\cameras.csv\")\n",
    "head(cameraData,2)"
   ]
  },
  {
   "cell_type": "markdown",
   "metadata": {},
   "source": [
    "## Summarizing Data"
   ]
  },
  {
   "cell_type": "code",
   "execution_count": null,
   "metadata": {
    "collapsed": true
   },
   "outputs": [],
   "source": []
  }
 ],
 "metadata": {
  "kernelspec": {
   "display_name": "R",
   "language": "R",
   "name": "ir"
  },
  "language_info": {
   "codemirror_mode": "r",
   "file_extension": ".r",
   "mimetype": "text/x-r-source",
   "name": "R",
   "pygments_lexer": "r",
   "version": "3.3.2"
  }
 },
 "nbformat": 4,
 "nbformat_minor": 2
}
