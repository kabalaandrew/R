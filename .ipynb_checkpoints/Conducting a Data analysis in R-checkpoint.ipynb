{
 "cells": [
  {
   "cell_type": "code",
   "execution_count": 2,
   "metadata": {
    "collapsed": false
   },
   "outputs": [
    {
     "name": "stderr",
     "output_type": "stream",
     "text": [
      "Loading required package: xml2\n",
      "Warning message:\n",
      "“package ‘xml2’ was built under R version 3.3.2”\n",
      "Attaching package: ‘rvest’\n",
      "\n",
      "The following object is masked from ‘package:purrr’:\n",
      "\n",
      "    pluck\n",
      "\n",
      "The following object is masked from ‘package:readr’:\n",
      "\n",
      "    guess_encoding\n",
      "\n"
     ]
    }
   ],
   "source": [
    "## Getting the data and loading packages\n",
    "library(tidyverse)\n",
    "library(stringr)\n",
    "library(ggmap)\n",
    "library(forcats)\n",
    "library(rvest)"
   ]
  },
  {
   "cell_type": "code",
   "execution_count": 9,
   "metadata": {
    "collapsed": false
   },
   "outputs": [],
   "source": [
    "## Scraping data from Wikipedia\n",
    "html.world_ports <- read_html(\"https://en.wikipedia.org/wiki/List_of_busiest_container_ports\")\n",
    "df.world_ports <- html_table(html_nodes(html.world_ports, \"table\")[[1]], fill=TRUE)"
   ]
  },
  {
   "cell_type": "code",
   "execution_count": 10,
   "metadata": {
    "collapsed": false
   },
   "outputs": [
    {
     "name": "stdout",
     "output_type": "stream",
     "text": [
      "Observations: 50\n",
      "Variables: 18\n",
      "$ `#`          <int> 1, 2, 3, 4, 5, 6, 7, 8, 9, 10, 11, 12, 13, 14, 15, 16,...\n",
      "$ Port         <chr> \"Shanghai\", \"Singapore\", \"Shenzhen\", \"Ningbo-Zhoushan\"...\n",
      "$ Jurisdiction <chr> \"China\", \"Singapore\", \"China\", \"China\", \"South Korea\",...\n",
      "$ Region       <chr> \"East Asia\", \"Southeast Asia\", \"East Asia\", \"East Asia...\n",
      "$ Location     <chr> \"Yangtze Delta\", \"Malacca Strait\", \"Pearl River Delta\"...\n",
      "$ `2016`       <chr> \"37,133[12]\", \"30,904[13]\", \"23,979[14]\", \"21,560[15]\"...\n",
      "$ `2015[1]`    <chr> \"36,537[12]\", \"30,922[13]\", \"24,204[14]\", \"20,620[15]\"...\n",
      "$ `2014[1]`    <chr> \"35,268\", \"33,869\", \"23,798\", \"19,450\", \"18,423\", \"22,...\n",
      "$ `2013[2]`    <chr> \"33,617\", \"32,240\", \"23,280\", \"17,351\", \"17,690\", \"22,...\n",
      "$ `2012[3]`    <chr> \"32,529\", \"31,649\", \"22,940\", \"16,670\", \"17,046\", \"23,...\n",
      "$ `2011[4]`    <chr> \"31,700\", \"29,937\", \"22,570\", \"14,686\", \"16,185\", \"24,...\n",
      "$ `2010[5]`    <chr> \"29,069\", \"28,431\", \"22,510\", \"13,144\", \"14,157\", \"23,...\n",
      "$ `2009[6]`    <chr> \"25,002\", \"25,866\", \"18,250\", \"10,502\", \"11,954\", \"20,...\n",
      "$ `2008[7]`    <chr> \"27,980\", \"29,918\", \"21,414\", \"11,226\", \"13,425\", \"24,...\n",
      "$ `2007[8]`    <chr> \"26,150\", \"27,932\", \"21,099\", \"9,349\", \"13,270\", \"23,8...\n",
      "$ `2006[9]`    <chr> \"21,710\", \"24,792\", \"18,469\", \"7,068\", \"12,039\", \"23,5...\n",
      "$ `2005[10]`   <chr> \"18,084\", \"23,192\", \"16,197\", \"5,208\", \"11,843\", \"22,4...\n",
      "$ `2004[11]`   <chr> \"14,557\", \"21,329\", \"13,615\", \"4,006\", \"11,430\", \"21,9...\n"
     ]
    }
   ],
   "source": [
    "## inspecting\n",
    "glimpse(df.world_ports)"
   ]
  },
  {
   "cell_type": "code",
   "execution_count": 12,
   "metadata": {
    "collapsed": false
   },
   "outputs": [
    {
     "data": {
      "text/html": [
       "<ol class=list-inline>\n",
       "\t<li>'#'</li>\n",
       "\t<li>'port'</li>\n",
       "\t<li>'jurisdiction'</li>\n",
       "\t<li>'region'</li>\n",
       "\t<li>'location'</li>\n",
       "\t<li>'2016'</li>\n",
       "\t<li>'2015[1]'</li>\n",
       "\t<li>'2014[1]'</li>\n",
       "\t<li>'2013[2]'</li>\n",
       "\t<li>'2012[3]'</li>\n",
       "\t<li>'2011[4]'</li>\n",
       "\t<li>'2010[5]'</li>\n",
       "\t<li>'2009[6]'</li>\n",
       "\t<li>'2008[7]'</li>\n",
       "\t<li>'2007[8]'</li>\n",
       "\t<li>'2006[9]'</li>\n",
       "\t<li>'2005[10]'</li>\n",
       "\t<li>'2004[11]'</li>\n",
       "</ol>\n"
      ],
      "text/latex": [
       "\\begin{enumerate*}\n",
       "\\item '\\#'\n",
       "\\item 'port'\n",
       "\\item 'jurisdiction'\n",
       "\\item 'region'\n",
       "\\item 'location'\n",
       "\\item '2016'\n",
       "\\item '2015{[}1{]}'\n",
       "\\item '2014{[}1{]}'\n",
       "\\item '2013{[}2{]}'\n",
       "\\item '2012{[}3{]}'\n",
       "\\item '2011{[}4{]}'\n",
       "\\item '2010{[}5{]}'\n",
       "\\item '2009{[}6{]}'\n",
       "\\item '2008{[}7{]}'\n",
       "\\item '2007{[}8{]}'\n",
       "\\item '2006{[}9{]}'\n",
       "\\item '2005{[}10{]}'\n",
       "\\item '2004{[}11{]}'\n",
       "\\end{enumerate*}\n"
      ],
      "text/markdown": [
       "1. '#'\n",
       "2. 'port'\n",
       "3. 'jurisdiction'\n",
       "4. 'region'\n",
       "5. 'location'\n",
       "6. '2016'\n",
       "7. '2015[1]'\n",
       "8. '2014[1]'\n",
       "9. '2013[2]'\n",
       "10. '2012[3]'\n",
       "11. '2011[4]'\n",
       "12. '2010[5]'\n",
       "13. '2009[6]'\n",
       "14. '2008[7]'\n",
       "15. '2007[8]'\n",
       "16. '2006[9]'\n",
       "17. '2005[10]'\n",
       "18. '2004[11]'\n",
       "\n",
       "\n"
      ],
      "text/plain": [
       " [1] \"#\"            \"port\"         \"jurisdiction\" \"region\"       \"location\"    \n",
       " [6] \"2016\"         \"2015[1]\"      \"2014[1]\"      \"2013[2]\"      \"2012[3]\"     \n",
       "[11] \"2011[4]\"      \"2010[5]\"      \"2009[6]\"      \"2008[7]\"      \"2007[8]\"     \n",
       "[16] \"2006[9]\"      \"2005[10]\"     \"2004[11]\"    "
      ]
     },
     "metadata": {},
     "output_type": "display_data"
    }
   ],
   "source": [
    "## Renaming the variables\n",
    " # transform names to lowercase\n",
    "colnames(df.world_ports) <- colnames(df.world_ports) %>% tolower()\n",
    "\n",
    "# inspect\n",
    "colnames(df.world_ports)"
   ]
  },
  {
   "cell_type": "code",
   "execution_count": 18,
   "metadata": {
    "collapsed": false
   },
   "outputs": [
    {
     "name": "stderr",
     "output_type": "stream",
     "text": [
      "Information from URL : http://maps.googleapis.com/maps/api/geocode/json?address=Shanghai&sensor=false\n",
      "Information from URL : http://maps.googleapis.com/maps/api/geocode/json?address=Singapore&sensor=false\n",
      "Warning message:\n",
      "“geocode failed with status OVER_QUERY_LIMIT, location = \"Singapore\"”Information from URL : http://maps.googleapis.com/maps/api/geocode/json?address=Shenzhen&sensor=false\n",
      "Warning message:\n",
      "“geocode failed with status OVER_QUERY_LIMIT, location = \"Shenzhen\"”Information from URL : http://maps.googleapis.com/maps/api/geocode/json?address=Ningbo-Zhoushan&sensor=false\n",
      "Information from URL : http://maps.googleapis.com/maps/api/geocode/json?address=Busan&sensor=false\n",
      "Information from URL : http://maps.googleapis.com/maps/api/geocode/json?address=Hong%20Kong&sensor=false\n",
      "Warning message:\n",
      "“geocode failed with status OVER_QUERY_LIMIT, location = \"Hong Kong\"”Information from URL : http://maps.googleapis.com/maps/api/geocode/json?address=Guangzhou&sensor=false\n",
      "Warning message:\n",
      "“geocode failed with status OVER_QUERY_LIMIT, location = \"Guangzhou\"”Information from URL : http://maps.googleapis.com/maps/api/geocode/json?address=Qingdao&sensor=false\n",
      "Information from URL : http://maps.googleapis.com/maps/api/geocode/json?address=Dubai&sensor=false\n",
      "Warning message:\n",
      "“geocode failed with status OVER_QUERY_LIMIT, location = \"Dubai\"”Information from URL : http://maps.googleapis.com/maps/api/geocode/json?address=Tianjin&sensor=false\n",
      ".Information from URL : http://maps.googleapis.com/maps/api/geocode/json?address=Port%20Klang&sensor=false\n",
      "Information from URL : http://maps.googleapis.com/maps/api/geocode/json?address=Rotterdam&sensor=false\n",
      "Information from URL : http://maps.googleapis.com/maps/api/geocode/json?address=Kaohsiung&sensor=false\n",
      "Information from URL : http://maps.googleapis.com/maps/api/geocode/json?address=Antwerp&sensor=false\n",
      "Warning message:\n",
      "“geocode failed with status OVER_QUERY_LIMIT, location = \"Antwerp\"”Information from URL : http://maps.googleapis.com/maps/api/geocode/json?address=Dalian&sensor=false\n",
      "Information from URL : http://maps.googleapis.com/maps/api/geocode/json?address=Xiamen&sensor=false\n",
      "Warning message:\n",
      "“geocode failed with status OVER_QUERY_LIMIT, location = \"Xiamen\"”Information from URL : http://maps.googleapis.com/maps/api/geocode/json?address=Hamburg&sensor=false\n",
      "Warning message:\n",
      "“geocode failed with status OVER_QUERY_LIMIT, location = \"Hamburg\"”Information from URL : http://maps.googleapis.com/maps/api/geocode/json?address=Los%20Angeles&sensor=false\n",
      "Warning message:\n",
      "“geocode failed with status OVER_QUERY_LIMIT, location = \"Los Angeles\"”Information from URL : http://maps.googleapis.com/maps/api/geocode/json?address=Tanjung%20Pelepas&sensor=false\n",
      "Information from URL : http://maps.googleapis.com/maps/api/geocode/json?address=Laem%20Chabang&sensor=false\n",
      "Information from URL : http://maps.googleapis.com/maps/api/geocode/json?address=Long%20Beach&sensor=false\n",
      "Information from URL : http://maps.googleapis.com/maps/api/geocode/json?address=New%20York&sensor=false\n",
      "Warning message:\n",
      "“geocode failed with status OVER_QUERY_LIMIT, location = \"New York\"”Information from URL : http://maps.googleapis.com/maps/api/geocode/json?address=Yingkou&sensor=false\n",
      "Information from URL : http://maps.googleapis.com/maps/api/geocode/json?address=Saigon&sensor=false\n",
      "Information from URL : http://maps.googleapis.com/maps/api/geocode/json?address=Colombo&sensor=false\n",
      "Information from URL : http://maps.googleapis.com/maps/api/geocode/json?address=Bremerhaven&sensor=false\n",
      "Warning message:\n",
      "“geocode failed with status OVER_QUERY_LIMIT, location = \"Bremerhaven\"”Information from URL : http://maps.googleapis.com/maps/api/geocode/json?address=Jakarta&sensor=false\n",
      "Warning message:\n",
      "“geocode failed with status OVER_QUERY_LIMIT, location = \"Jakarta\"”Information from URL : http://maps.googleapis.com/maps/api/geocode/json?address=Algeciras&sensor=false\n",
      "Warning message:\n",
      "“geocode failed with status OVER_QUERY_LIMIT, location = \"Algeciras\"”Information from URL : http://maps.googleapis.com/maps/api/geocode/json?address=Valencia&sensor=false\n",
      "Information from URL : http://maps.googleapis.com/maps/api/geocode/json?address=Lianyungun&sensor=false\n",
      "Information from URL : http://maps.googleapis.com/maps/api/geocode/json?address=Tokyo&sensor=false\n",
      "Information from URL : http://maps.googleapis.com/maps/api/geocode/json?address=Manila&sensor=false\n",
      "Warning message:\n",
      "“geocode failed with status OVER_QUERY_LIMIT, location = \"Manila\"”.Information from URL : http://maps.googleapis.com/maps/api/geocode/json?address=Jawaharlal%20Nehru&sensor=false\n",
      "Information from URL : http://maps.googleapis.com/maps/api/geocode/json?address=Khor%20Fakkan&sensor=false\n",
      "Information from URL : http://maps.googleapis.com/maps/api/geocode/json?address=Taicang&sensor=false\n",
      "Information from URL : http://maps.googleapis.com/maps/api/geocode/json?address=Felixstowe&sensor=false\n",
      "Information from URL : http://maps.googleapis.com/maps/api/geocode/json?address=Jeddah&sensor=false\n",
      "Information from URL : http://maps.googleapis.com/maps/api/geocode/json?address=Piraeus&sensor=false\n",
      "Information from URL : http://maps.googleapis.com/maps/api/geocode/json?address=Savannah&sensor=false\n",
      "Information from URL : http://maps.googleapis.com/maps/api/geocode/json?address=Dongguan&sensor=false\n",
      "Information from URL : http://maps.googleapis.com/maps/api/geocode/json?address=Seattle/Tacoma&sensor=false\n",
      "Information from URL : http://maps.googleapis.com/maps/api/geocode/json?address=Santos&sensor=false\n",
      "Information from URL : http://maps.googleapis.com/maps/api/geocode/json?address=Tanjung%20Perak&sensor=false\n",
      "Warning message:\n",
      "“geocode failed with status OVER_QUERY_LIMIT, location = \"Tanjung Perak\"”Information from URL : http://maps.googleapis.com/maps/api/geocode/json?address=Salalah&sensor=false\n",
      "Warning message:\n",
      "“geocode failed with status OVER_QUERY_LIMIT, location = \"Salalah\"”Information from URL : http://maps.googleapis.com/maps/api/geocode/json?address=Mundra&sensor=false\n",
      "Warning message:\n",
      "“geocode failed with status OVER_QUERY_LIMIT, location = \"Mundra\"”Information from URL : http://maps.googleapis.com/maps/api/geocode/json?address=Col%C3%B3n&sensor=false\n",
      "Warning message:\n",
      "“geocode failed with status OVER_QUERY_LIMIT, location = \"Colón\"”.Information from URL : http://maps.googleapis.com/maps/api/geocode/json?address=Marsaxlokk&sensor=false\n",
      "Information from URL : http://maps.googleapis.com/maps/api/geocode/json?address=Nanjing&sensor=false\n",
      "Warning message:\n",
      "“geocode failed with status OVER_QUERY_LIMIT, location = \"Nanjing\"”Information from URL : http://maps.googleapis.com/maps/api/geocode/json?address=Port%20Said&sensor=false\n",
      "Warning message:\n",
      "“geocode failed with status OVER_QUERY_LIMIT, location = \"Port Said\"”Information from URL : http://maps.googleapis.com/maps/api/geocode/json?address=Rizhao&sensor=false\n"
     ]
    }
   ],
   "source": [
    "# Get geospatial information (longitude/latitude)\n",
    "geocode.world_ports <- geocode(df.world_ports$port)"
   ]
  },
  {
   "cell_type": "code",
   "execution_count": 21,
   "metadata": {
    "collapsed": false
   },
   "outputs": [
    {
     "data": {
      "text/html": [
       "<table>\n",
       "<thead><tr><th scope=col>lon</th><th scope=col>lat</th></tr></thead>\n",
       "<tbody>\n",
       "\t<tr><td>121.4737</td><td>31.23039</td></tr>\n",
       "\t<tr><td>      NA</td><td>      NA</td></tr>\n",
       "\t<tr><td>      NA</td><td>      NA</td></tr>\n",
       "\t<tr><td>121.9878</td><td>29.90195</td></tr>\n",
       "\t<tr><td>129.0756</td><td>35.17955</td></tr>\n",
       "\t<tr><td>      NA</td><td>      NA</td></tr>\n",
       "</tbody>\n",
       "</table>\n"
      ],
      "text/latex": [
       "\\begin{tabular}{r|ll}\n",
       " lon & lat\\\\\n",
       "\\hline\n",
       "\t 121.4737 & 31.23039\\\\\n",
       "\t       NA &       NA\\\\\n",
       "\t       NA &       NA\\\\\n",
       "\t 121.9878 & 29.90195\\\\\n",
       "\t 129.0756 & 35.17955\\\\\n",
       "\t       NA &       NA\\\\\n",
       "\\end{tabular}\n"
      ],
      "text/markdown": [
       "\n",
       "lon | lat | \n",
       "|---|---|---|---|---|---|\n",
       "| 121.4737 | 31.23039 | \n",
       "|       NA |       NA | \n",
       "|       NA |       NA | \n",
       "| 121.9878 | 29.90195 | \n",
       "| 129.0756 | 35.17955 | \n",
       "|       NA |       NA | \n",
       "\n",
       "\n"
      ],
      "text/plain": [
       "  lon      lat     \n",
       "1 121.4737 31.23039\n",
       "2       NA       NA\n",
       "3       NA       NA\n",
       "4 121.9878 29.90195\n",
       "5 129.0756 35.17955\n",
       "6       NA       NA"
      ]
     },
     "metadata": {},
     "output_type": "display_data"
    }
   ],
   "source": [
    "head(geocode.world_ports)"
   ]
  },
  {
   "cell_type": "code",
   "execution_count": 22,
   "metadata": {
    "collapsed": false
   },
   "outputs": [
    {
     "data": {
      "text/html": [
       "<table>\n",
       "<thead><tr><th scope=col>#</th><th scope=col>port</th><th scope=col>jurisdiction</th><th scope=col>region</th><th scope=col>location</th><th scope=col>2016</th><th scope=col>2015[1]</th><th scope=col>2014[1]</th><th scope=col>2013[2]</th><th scope=col>2012[3]</th><th scope=col>2011[4]</th><th scope=col>2010[5]</th><th scope=col>2009[6]</th><th scope=col>2008[7]</th><th scope=col>2007[8]</th><th scope=col>2006[9]</th><th scope=col>2005[10]</th><th scope=col>2004[11]</th><th scope=col>lon</th><th scope=col>lat</th></tr></thead>\n",
       "<tbody>\n",
       "\t<tr><td>1                </td><td>Shanghai         </td><td>China            </td><td>East Asia        </td><td>Yangtze Delta    </td><td>37,133[12]       </td><td>36,537[12]       </td><td>35,268           </td><td>33,617           </td><td>32,529           </td><td>31,700           </td><td>29,069           </td><td>25,002           </td><td>27,980           </td><td>26,150           </td><td>21,710           </td><td>18,084           </td><td>14,557           </td><td>121.4737         </td><td>31.23039         </td></tr>\n",
       "\t<tr><td>2                </td><td>Singapore        </td><td>Singapore        </td><td>Southeast Asia   </td><td>Malacca Strait   </td><td>30,904[13]       </td><td>30,922[13]       </td><td>33,869           </td><td>32,240           </td><td>31,649           </td><td>29,937           </td><td>28,431           </td><td>25,866           </td><td>29,918           </td><td>27,932           </td><td>24,792           </td><td>23,192           </td><td>21,329           </td><td>      NA         </td><td>      NA         </td></tr>\n",
       "\t<tr><td>3                </td><td>Shenzhen         </td><td>China            </td><td>East Asia        </td><td>Pearl River Delta</td><td>23,979[14]       </td><td>24,204[14]       </td><td>23,798           </td><td>23,280           </td><td>22,940           </td><td>22,570           </td><td>22,510           </td><td>18,250           </td><td>21,414           </td><td>21,099           </td><td>18,469           </td><td>16,197           </td><td>13,615           </td><td>      NA         </td><td>      NA         </td></tr>\n",
       "\t<tr><td>4                </td><td>Ningbo-Zhoushan  </td><td>China            </td><td>East Asia        </td><td>Yangtze Delta    </td><td>21,560[15]       </td><td>20,620[15]       </td><td>19,450           </td><td>17,351           </td><td>16,670           </td><td>14,686           </td><td>13,144           </td><td>10,502           </td><td>11,226           </td><td>9,349            </td><td>7,068            </td><td>5,208            </td><td>4,006            </td><td>121.9878         </td><td>29.90195         </td></tr>\n",
       "\t<tr><td>5                </td><td>Busan            </td><td>South Korea      </td><td>East Asia        </td><td>Korean Strait    </td><td>19,850[16]       </td><td>19,469[16]       </td><td>18,423           </td><td>17,690           </td><td>17,046           </td><td>16,185           </td><td>14,157           </td><td>11,954           </td><td>13,425           </td><td>13,270           </td><td>12,039           </td><td>11,843           </td><td>11,430           </td><td>129.0756         </td><td>35.17955         </td></tr>\n",
       "\t<tr><td>6                </td><td>Hong Kong        </td><td>Hong Kong SAR    </td><td>East Asia        </td><td>Pearl River Delta</td><td>19,813[17]       </td><td>20,073[17]       </td><td>22,374           </td><td>22,352           </td><td>23,117           </td><td>24,384           </td><td>23,532           </td><td>20,983           </td><td>24,248           </td><td>23,881           </td><td>23,539           </td><td>22,427           </td><td>21,984           </td><td>      NA         </td><td>      NA         </td></tr>\n",
       "</tbody>\n",
       "</table>\n"
      ],
      "text/latex": [
       "\\begin{tabular}{r|llllllllllllllllllll}\n",
       " \\# & port & jurisdiction & region & location & 2016 & 2015{[}1{]} & 2014{[}1{]} & 2013{[}2{]} & 2012{[}3{]} & 2011{[}4{]} & 2010{[}5{]} & 2009{[}6{]} & 2008{[}7{]} & 2007{[}8{]} & 2006{[}9{]} & 2005{[}10{]} & 2004{[}11{]} & lon & lat\\\\\n",
       "\\hline\n",
       "\t 1                 & Shanghai          & China             & East Asia         & Yangtze Delta     & 37,133{[}12{]}    & 36,537{[}12{]}    & 35,268            & 33,617            & 32,529            & 31,700            & 29,069            & 25,002            & 27,980            & 26,150            & 21,710            & 18,084            & 14,557            & 121.4737          & 31.23039         \\\\\n",
       "\t 2                 & Singapore         & Singapore         & Southeast Asia    & Malacca Strait    & 30,904{[}13{]}    & 30,922{[}13{]}    & 33,869            & 32,240            & 31,649            & 29,937            & 28,431            & 25,866            & 29,918            & 27,932            & 24,792            & 23,192            & 21,329            &       NA          &       NA         \\\\\n",
       "\t 3                 & Shenzhen          & China             & East Asia         & Pearl River Delta & 23,979{[}14{]}    & 24,204{[}14{]}    & 23,798            & 23,280            & 22,940            & 22,570            & 22,510            & 18,250            & 21,414            & 21,099            & 18,469            & 16,197            & 13,615            &       NA          &       NA         \\\\\n",
       "\t 4                 & Ningbo-Zhoushan   & China             & East Asia         & Yangtze Delta     & 21,560{[}15{]}    & 20,620{[}15{]}    & 19,450            & 17,351            & 16,670            & 14,686            & 13,144            & 10,502            & 11,226            & 9,349             & 7,068             & 5,208             & 4,006             & 121.9878          & 29.90195         \\\\\n",
       "\t 5                 & Busan             & South Korea       & East Asia         & Korean Strait     & 19,850{[}16{]}    & 19,469{[}16{]}    & 18,423            & 17,690            & 17,046            & 16,185            & 14,157            & 11,954            & 13,425            & 13,270            & 12,039            & 11,843            & 11,430            & 129.0756          & 35.17955         \\\\\n",
       "\t 6                 & Hong Kong         & Hong Kong SAR     & East Asia         & Pearl River Delta & 19,813{[}17{]}    & 20,073{[}17{]}    & 22,374            & 22,352            & 23,117            & 24,384            & 23,532            & 20,983            & 24,248            & 23,881            & 23,539            & 22,427            & 21,984            &       NA          &       NA         \\\\\n",
       "\\end{tabular}\n"
      ],
      "text/markdown": [
       "\n",
       "# | port | jurisdiction | region | location | 2016 | 2015[1] | 2014[1] | 2013[2] | 2012[3] | 2011[4] | 2010[5] | 2009[6] | 2008[7] | 2007[8] | 2006[9] | 2005[10] | 2004[11] | lon | lat | \n",
       "|---|---|---|---|---|---|\n",
       "| 1                 | Shanghai          | China             | East Asia         | Yangtze Delta     | 37,133[12]        | 36,537[12]        | 35,268            | 33,617            | 32,529            | 31,700            | 29,069            | 25,002            | 27,980            | 26,150            | 21,710            | 18,084            | 14,557            | 121.4737          | 31.23039          | \n",
       "| 2                 | Singapore         | Singapore         | Southeast Asia    | Malacca Strait    | 30,904[13]        | 30,922[13]        | 33,869            | 32,240            | 31,649            | 29,937            | 28,431            | 25,866            | 29,918            | 27,932            | 24,792            | 23,192            | 21,329            |       NA          |       NA          | \n",
       "| 3                 | Shenzhen          | China             | East Asia         | Pearl River Delta | 23,979[14]        | 24,204[14]        | 23,798            | 23,280            | 22,940            | 22,570            | 22,510            | 18,250            | 21,414            | 21,099            | 18,469            | 16,197            | 13,615            |       NA          |       NA          | \n",
       "| 4                 | Ningbo-Zhoushan   | China             | East Asia         | Yangtze Delta     | 21,560[15]        | 20,620[15]        | 19,450            | 17,351            | 16,670            | 14,686            | 13,144            | 10,502            | 11,226            | 9,349             | 7,068             | 5,208             | 4,006             | 121.9878          | 29.90195          | \n",
       "| 5                 | Busan             | South Korea       | East Asia         | Korean Strait     | 19,850[16]        | 19,469[16]        | 18,423            | 17,690            | 17,046            | 16,185            | 14,157            | 11,954            | 13,425            | 13,270            | 12,039            | 11,843            | 11,430            | 129.0756          | 35.17955          | \n",
       "| 6                 | Hong Kong         | Hong Kong SAR     | East Asia         | Pearl River Delta | 19,813[17]        | 20,073[17]        | 22,374            | 22,352            | 23,117            | 24,384            | 23,532            | 20,983            | 24,248            | 23,881            | 23,539            | 22,427            | 21,984            |       NA          |       NA          | \n",
       "\n",
       "\n"
      ],
      "text/plain": [
       "  # port            jurisdiction  region         location          2016      \n",
       "1 1 Shanghai        China         East Asia      Yangtze Delta     37,133[12]\n",
       "2 2 Singapore       Singapore     Southeast Asia Malacca Strait    30,904[13]\n",
       "3 3 Shenzhen        China         East Asia      Pearl River Delta 23,979[14]\n",
       "4 4 Ningbo-Zhoushan China         East Asia      Yangtze Delta     21,560[15]\n",
       "5 5 Busan           South Korea   East Asia      Korean Strait     19,850[16]\n",
       "6 6 Hong Kong       Hong Kong SAR East Asia      Pearl River Delta 19,813[17]\n",
       "  2015[1]    2014[1] 2013[2] 2012[3] 2011[4] 2010[5] 2009[6] 2008[7] 2007[8]\n",
       "1 36,537[12] 35,268  33,617  32,529  31,700  29,069  25,002  27,980  26,150 \n",
       "2 30,922[13] 33,869  32,240  31,649  29,937  28,431  25,866  29,918  27,932 \n",
       "3 24,204[14] 23,798  23,280  22,940  22,570  22,510  18,250  21,414  21,099 \n",
       "4 20,620[15] 19,450  17,351  16,670  14,686  13,144  10,502  11,226  9,349  \n",
       "5 19,469[16] 18,423  17,690  17,046  16,185  14,157  11,954  13,425  13,270 \n",
       "6 20,073[17] 22,374  22,352  23,117  24,384  23,532  20,983  24,248  23,881 \n",
       "  2006[9] 2005[10] 2004[11] lon      lat     \n",
       "1 21,710  18,084   14,557   121.4737 31.23039\n",
       "2 24,792  23,192   21,329         NA       NA\n",
       "3 18,469  16,197   13,615         NA       NA\n",
       "4 7,068   5,208    4,006    121.9878 29.90195\n",
       "5 12,039  11,843   11,430   129.0756 35.17955\n",
       "6 23,539  22,427   21,984         NA       NA"
      ]
     },
     "metadata": {},
     "output_type": "display_data"
    }
   ],
   "source": [
    "#--------------------------------------------------------\n",
    "# COMBINE:\n",
    "# - bind the new lat/long data to df.world_ports data frame\n",
    "#--------------------------------------------------------\n",
    "df.world_ports <- cbind(df.world_ports, geocode.world_ports)\n",
    "head(df.world_ports)"
   ]
  },
  {
   "cell_type": "code",
   "execution_count": null,
   "metadata": {
    "collapsed": true
   },
   "outputs": [],
   "source": []
  }
 ],
 "metadata": {
  "kernelspec": {
   "display_name": "R",
   "language": "R",
   "name": "ir"
  },
  "language_info": {
   "codemirror_mode": "r",
   "file_extension": ".r",
   "mimetype": "text/x-r-source",
   "name": "R",
   "pygments_lexer": "r",
   "version": "3.3.0"
  }
 },
 "nbformat": 4,
 "nbformat_minor": 0
}
