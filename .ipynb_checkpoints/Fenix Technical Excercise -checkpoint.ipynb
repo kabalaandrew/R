{
 "cells": [
  {
   "cell_type": "code",
   "execution_count": 12,
   "metadata": {
    "collapsed": false
   },
   "outputs": [
    {
     "name": "stderr",
     "output_type": "stream",
     "text": [
      "\n",
      "Attaching package: 'dplyr'\n",
      "\n",
      "The following objects are masked from 'package:lubridate':\n",
      "\n",
      "    intersect, setdiff, union\n",
      "\n",
      "The following objects are masked from 'package:stats':\n",
      "\n",
      "    filter, lag\n",
      "\n",
      "The following objects are masked from 'package:base':\n",
      "\n",
      "    intersect, setdiff, setequal, union\n",
      "\n"
     ]
    },
    {
     "data": {
      "text/html": [
       "<ol class=list-inline>\n",
       "\t<li>32028</li>\n",
       "\t<li>14</li>\n",
       "</ol>\n"
      ],
      "text/latex": [
       "\\begin{enumerate*}\n",
       "\\item 32028\n",
       "\\item 14\n",
       "\\end{enumerate*}\n"
      ],
      "text/markdown": [
       "1. 32028\n",
       "2. 14\n",
       "\n",
       "\n"
      ],
      "text/plain": [
       "[1] 32028    14"
      ]
     },
     "metadata": {},
     "output_type": "display_data"
    }
   ],
   "source": [
    "library(lubridate)\n",
    "library(dplyr)\n",
    "# Reading the data from the CSV file\n",
    "df <- read.csv(file=\"fenix_call_records.csv\",header=TRUE,sep=\",\",stringsAsFactors = FALSE)\n",
    "# looking at the dimensions of the dataframe\n",
    "dim(df)"
   ]
  },
  {
   "cell_type": "code",
   "execution_count": 13,
   "metadata": {
    "collapsed": false
   },
   "outputs": [
    {
     "name": "stdout",
     "output_type": "stream",
     "text": [
      "'data.frame':\t32028 obs. of  14 variables:\n",
      " $ call_id              : int  2807990 2807991 2807992 2807993 2807994 2807995 2807996 2807997 2807998 2807999 ...\n",
      " $ destination_person_id: int  86394 86394 212967 114159 86394 77156 239005 114159 212967 114159 ...\n",
      " $ source_person_id     : int  269898 320367 129042 372282 366749 255608 354375 191685 245406 354282 ...\n",
      " $ account_age          : int  301 122 695 22 44 318 66 506 336 67 ...\n",
      " $ account_state        : chr  \"In Repayment\" \"In Repayment\" \"In Repayment\" \"In Repayment\" ...\n",
      " $ occupation           : chr  \"Farmer\" \"Other\" \"Mechanic / Technician\" \"Farmer\" ...\n",
      " $ language             : chr  \"Luganda\" \"Luganda\" \"Luganda\" \"Lango\" ...\n",
      " $ call_direction       : chr  \"Incoming\" \"Incoming\" \"Incoming\" \"Incoming\" ...\n",
      " $ call_duration        : num  0.78 1.93 4.9 3.77 2.62 2.83 1.1 0.75 4.27 0.55 ...\n",
      " $ call_outcome         : chr  \"Call Resolved\" \"Call Resolved\" \"Call Resolved\" \"Call Resolved\" ...\n",
      " $ call_start_date      : chr  \"2017-10-21 04:02:09\" \"2017-10-21 04:04:18\" \"2017-10-21 04:05:23\" \"2017-10-21 04:07:24\" ...\n",
      " $ call_end_date        : chr  \"2017-10-21 04:01:39\" \"2017-10-21 04:04:09\" \"2017-10-21 04:05:14\" \"2017-10-21 04:06:31\" ...\n",
      " $ call_topics          : chr  \"Call Dropped\" \"Code Not Received\" \"RP Remote Technical\" \"Code Not Received\" ...\n",
      " $ call_topic_group     : chr  \"Other\" \"Codes\" \"Accessory Technical Issue\" \"Codes\" ...\n"
     ]
    }
   ],
   "source": [
    "# investigating the internal structure (summary) of the dataframe\n",
    "str(df)"
   ]
  },
  {
   "cell_type": "code",
   "execution_count": 14,
   "metadata": {
    "collapsed": false
   },
   "outputs": [],
   "source": [
    "## converting some columns from characters to factors\n",
    "df[, c(\"account_state\",\"occupation\",\"language\",\"call_direction\",\"call_outcome\",\n",
    "       \"call_topics\", \"call_topic_group\")] <- lapply(df[, c(\"account_state\",\"occupation\",\"language\",\"call_direction\",\n",
    "                                                            \"call_outcome\",\"call_topics\", \"call_topic_group\")], factor)"
   ]
  },
  {
   "cell_type": "code",
   "execution_count": 15,
   "metadata": {
    "collapsed": true
   },
   "outputs": [],
   "source": [
    "## converting start_date and end_date into to POSIXlt date and time\n",
    "df$call_start_date <- as.POSIXlt(df$call_start_date)\n",
    "df$call_end_date <- as.POSIXlt(df$call_end_date)"
   ]
  },
  {
   "cell_type": "code",
   "execution_count": 16,
   "metadata": {
    "collapsed": false
   },
   "outputs": [
    {
     "name": "stdout",
     "output_type": "stream",
     "text": [
      "'data.frame':\t32028 obs. of  14 variables:\n",
      " $ call_id              : int  2807990 2807991 2807992 2807993 2807994 2807995 2807996 2807997 2807998 2807999 ...\n",
      " $ destination_person_id: int  86394 86394 212967 114159 86394 77156 239005 114159 212967 114159 ...\n",
      " $ source_person_id     : int  269898 320367 129042 372282 366749 255608 354375 191685 245406 354282 ...\n",
      " $ account_age          : int  301 122 695 22 44 318 66 506 336 67 ...\n",
      " $ account_state        : Factor w/ 4 levels \"Cancelled\",\"Complete\",..: 3 3 3 3 3 3 3 3 3 3 ...\n",
      " $ occupation           : Factor w/ 37 levels \"\",\"Accountant\",..: 13 26 20 13 11 20 26 31 13 14 ...\n",
      " $ language             : Factor w/ 30 levels \"\",\"Acholi\",\"Alur\",..: 14 14 14 12 14 14 12 2 14 3 ...\n",
      " $ call_direction       : Factor w/ 2 levels \"Incoming\",\"Outgoing\": 1 1 1 1 1 1 1 1 1 1 ...\n",
      " $ call_duration        : num  0.78 1.93 4.9 3.77 2.62 2.83 1.1 0.75 4.27 0.55 ...\n",
      " $ call_outcome         : Factor w/ 12 levels \"Call Resolved\",..: 1 1 1 1 1 1 1 1 1 1 ...\n",
      " $ call_start_date      : POSIXlt, format: \"2017-10-21 04:02:09\" \"2017-10-21 04:04:18\" ...\n",
      " $ call_end_date        : POSIXlt, format: \"2017-10-21 04:01:39\" \"2017-10-21 04:04:09\" ...\n",
      " $ call_topics          : Factor w/ 1210 levels \"10 Day Call\",..: 160 262 1039 262 262 220 533 197 262 197 ...\n",
      " $ call_topic_group     : Factor w/ 12 levels \"Accessory Non-Technical Issue\",..: 7 4 2 4 4 4 6 7 4 7 ...\n"
     ]
    }
   ],
   "source": [
    "# viewing the new structure of the dataFrame to check new datatypes\n",
    "str(df)"
   ]
  },
  {
   "cell_type": "code",
   "execution_count": 40,
   "metadata": {
    "collapsed": false
   },
   "outputs": [],
   "source": [
    "#creating a new column to split day of week and time of day\n",
    "df$call_hour <- df$call_start_date$hour\n",
    "df$call_day <- df$call_start_date$wday + 1\n",
    "df$call_month <- df$call_start_date$mon + 1\n"
   ]
  },
  {
   "cell_type": "code",
   "execution_count": 46,
   "metadata": {
    "collapsed": false
   },
   "outputs": [],
   "source": [
    "#str(df)\n",
    "# convert day of week into factor and month into factor\n",
    "df[, c(\"call_day\",\"call_month\")] <- lapply(df[, c(\"call_day\",\"call_month\")], factor)\n",
    "df$call_day <- factor(df$call_day, levels=c('1','2','3','4','5','6','7'),\n",
    "  labels=c('Sun','Mon','Tue','Wed','Thur','Fri','Sat'))\n",
    "df$call_month <- factor(df$call_month, levels=c(10,11), labels=c(\"Oct\", \"Nov\"))"
   ]
  },
  {
   "cell_type": "code",
   "execution_count": 63,
   "metadata": {
    "collapsed": false
   },
   "outputs": [
    {
     "data": {
      "text/html": [
       "<table>\n",
       "<thead><tr><th scope=col>call_direction</th><th scope=col>call_hour</th><th scope=col>no_of_calls</th></tr></thead>\n",
       "<tbody>\n",
       "\t<tr><td>Incoming</td><td> 4      </td><td> 819    </td></tr>\n",
       "\t<tr><td>Incoming</td><td> 5      </td><td> 794    </td></tr>\n",
       "\t<tr><td>Incoming</td><td> 6      </td><td>1189    </td></tr>\n",
       "\t<tr><td>Incoming</td><td> 7      </td><td>1165    </td></tr>\n",
       "\t<tr><td>Incoming</td><td> 8      </td><td>1528    </td></tr>\n",
       "\t<tr><td>Incoming</td><td> 9      </td><td>1462    </td></tr>\n",
       "\t<tr><td>Incoming</td><td>10      </td><td>1363    </td></tr>\n",
       "\t<tr><td>Incoming</td><td>11      </td><td>1810    </td></tr>\n",
       "\t<tr><td>Incoming</td><td>12      </td><td>2134    </td></tr>\n",
       "\t<tr><td>Incoming</td><td>13      </td><td>1854    </td></tr>\n",
       "\t<tr><td>Incoming</td><td>14      </td><td>1933    </td></tr>\n",
       "\t<tr><td>Incoming</td><td>15      </td><td>1749    </td></tr>\n",
       "\t<tr><td>Incoming</td><td>16      </td><td>2183    </td></tr>\n",
       "\t<tr><td>Incoming</td><td>17      </td><td>2110    </td></tr>\n",
       "\t<tr><td>Incoming</td><td>18      </td><td>1953    </td></tr>\n",
       "\t<tr><td>Incoming</td><td>19      </td><td> 240    </td></tr>\n",
       "\t<tr><td>Outgoing</td><td> 4      </td><td>  15    </td></tr>\n",
       "\t<tr><td>Outgoing</td><td> 5      </td><td>  20    </td></tr>\n",
       "\t<tr><td>Outgoing</td><td> 6      </td><td> 486    </td></tr>\n",
       "\t<tr><td>Outgoing</td><td> 7      </td><td> 950    </td></tr>\n",
       "\t<tr><td>Outgoing</td><td> 8      </td><td> 951    </td></tr>\n",
       "\t<tr><td>Outgoing</td><td> 9      </td><td> 671    </td></tr>\n",
       "\t<tr><td>Outgoing</td><td>10      </td><td> 483    </td></tr>\n",
       "\t<tr><td>Outgoing</td><td>11      </td><td> 831    </td></tr>\n",
       "\t<tr><td>Outgoing</td><td>12      </td><td>1409    </td></tr>\n",
       "\t<tr><td>Outgoing</td><td>13      </td><td> 878    </td></tr>\n",
       "\t<tr><td>Outgoing</td><td>14      </td><td> 740    </td></tr>\n",
       "\t<tr><td>Outgoing</td><td>15      </td><td> 119    </td></tr>\n",
       "\t<tr><td>Outgoing</td><td>16      </td><td>  69    </td></tr>\n",
       "\t<tr><td>Outgoing</td><td>17      </td><td>  60    </td></tr>\n",
       "\t<tr><td>Outgoing</td><td>18      </td><td>  49    </td></tr>\n",
       "\t<tr><td>Outgoing</td><td>19      </td><td>  11    </td></tr>\n",
       "</tbody>\n",
       "</table>\n"
      ],
      "text/latex": [
       "\\begin{tabular}{r|lll}\n",
       " call\\_direction & call\\_hour & no\\_of\\_calls\\\\\n",
       "\\hline\n",
       "\t Incoming &  4       &  819    \\\\\n",
       "\t Incoming &  5       &  794    \\\\\n",
       "\t Incoming &  6       & 1189    \\\\\n",
       "\t Incoming &  7       & 1165    \\\\\n",
       "\t Incoming &  8       & 1528    \\\\\n",
       "\t Incoming &  9       & 1462    \\\\\n",
       "\t Incoming & 10       & 1363    \\\\\n",
       "\t Incoming & 11       & 1810    \\\\\n",
       "\t Incoming & 12       & 2134    \\\\\n",
       "\t Incoming & 13       & 1854    \\\\\n",
       "\t Incoming & 14       & 1933    \\\\\n",
       "\t Incoming & 15       & 1749    \\\\\n",
       "\t Incoming & 16       & 2183    \\\\\n",
       "\t Incoming & 17       & 2110    \\\\\n",
       "\t Incoming & 18       & 1953    \\\\\n",
       "\t Incoming & 19       &  240    \\\\\n",
       "\t Outgoing &  4       &   15    \\\\\n",
       "\t Outgoing &  5       &   20    \\\\\n",
       "\t Outgoing &  6       &  486    \\\\\n",
       "\t Outgoing &  7       &  950    \\\\\n",
       "\t Outgoing &  8       &  951    \\\\\n",
       "\t Outgoing &  9       &  671    \\\\\n",
       "\t Outgoing & 10       &  483    \\\\\n",
       "\t Outgoing & 11       &  831    \\\\\n",
       "\t Outgoing & 12       & 1409    \\\\\n",
       "\t Outgoing & 13       &  878    \\\\\n",
       "\t Outgoing & 14       &  740    \\\\\n",
       "\t Outgoing & 15       &  119    \\\\\n",
       "\t Outgoing & 16       &   69    \\\\\n",
       "\t Outgoing & 17       &   60    \\\\\n",
       "\t Outgoing & 18       &   49    \\\\\n",
       "\t Outgoing & 19       &   11    \\\\\n",
       "\\end{tabular}\n"
      ],
      "text/markdown": [
       "\n",
       "call_direction | call_hour | no_of_calls | \n",
       "|---|---|---|---|---|---|---|---|---|---|---|---|---|---|---|---|---|---|---|---|---|---|---|---|---|---|---|---|---|---|---|---|\n",
       "| Incoming |  4       |  819     | \n",
       "| Incoming |  5       |  794     | \n",
       "| Incoming |  6       | 1189     | \n",
       "| Incoming |  7       | 1165     | \n",
       "| Incoming |  8       | 1528     | \n",
       "| Incoming |  9       | 1462     | \n",
       "| Incoming | 10       | 1363     | \n",
       "| Incoming | 11       | 1810     | \n",
       "| Incoming | 12       | 2134     | \n",
       "| Incoming | 13       | 1854     | \n",
       "| Incoming | 14       | 1933     | \n",
       "| Incoming | 15       | 1749     | \n",
       "| Incoming | 16       | 2183     | \n",
       "| Incoming | 17       | 2110     | \n",
       "| Incoming | 18       | 1953     | \n",
       "| Incoming | 19       |  240     | \n",
       "| Outgoing |  4       |   15     | \n",
       "| Outgoing |  5       |   20     | \n",
       "| Outgoing |  6       |  486     | \n",
       "| Outgoing |  7       |  950     | \n",
       "| Outgoing |  8       |  951     | \n",
       "| Outgoing |  9       |  671     | \n",
       "| Outgoing | 10       |  483     | \n",
       "| Outgoing | 11       |  831     | \n",
       "| Outgoing | 12       | 1409     | \n",
       "| Outgoing | 13       |  878     | \n",
       "| Outgoing | 14       |  740     | \n",
       "| Outgoing | 15       |  119     | \n",
       "| Outgoing | 16       |   69     | \n",
       "| Outgoing | 17       |   60     | \n",
       "| Outgoing | 18       |   49     | \n",
       "| Outgoing | 19       |   11     | \n",
       "\n",
       "\n"
      ],
      "text/plain": [
       "   call_direction call_hour no_of_calls\n",
       "1  Incoming        4         819       \n",
       "2  Incoming        5         794       \n",
       "3  Incoming        6        1189       \n",
       "4  Incoming        7        1165       \n",
       "5  Incoming        8        1528       \n",
       "6  Incoming        9        1462       \n",
       "7  Incoming       10        1363       \n",
       "8  Incoming       11        1810       \n",
       "9  Incoming       12        2134       \n",
       "10 Incoming       13        1854       \n",
       "11 Incoming       14        1933       \n",
       "12 Incoming       15        1749       \n",
       "13 Incoming       16        2183       \n",
       "14 Incoming       17        2110       \n",
       "15 Incoming       18        1953       \n",
       "16 Incoming       19         240       \n",
       "17 Outgoing        4          15       \n",
       "18 Outgoing        5          20       \n",
       "19 Outgoing        6         486       \n",
       "20 Outgoing        7         950       \n",
       "21 Outgoing        8         951       \n",
       "22 Outgoing        9         671       \n",
       "23 Outgoing       10         483       \n",
       "24 Outgoing       11         831       \n",
       "25 Outgoing       12        1409       \n",
       "26 Outgoing       13         878       \n",
       "27 Outgoing       14         740       \n",
       "28 Outgoing       15         119       \n",
       "29 Outgoing       16          69       \n",
       "30 Outgoing       17          60       \n",
       "31 Outgoing       18          49       \n",
       "32 Outgoing       19          11       "
      ]
     },
     "metadata": {},
     "output_type": "display_data"
    }
   ],
   "source": [
    "# When do we experience the most traffic\n",
    "# we group incoming call traffic by hour\n",
    "subset_df <- select(df, -(call_start_date:call_end_date), -(call_id:language), -(call_duration:call_topic_group))\n",
    "summary1 <- group_by(subset_df, call_direction, call_hour)\n",
    "summary1 <- summarize(summary1, no_of_calls=n())\n",
    "summary1"
   ]
  },
  {
   "cell_type": "code",
   "execution_count": 73,
   "metadata": {
    "collapsed": false
   },
   "outputs": [
    {
     "name": "stderr",
     "output_type": "stream",
     "text": [
      "The following objects are masked from summary1 (pos = 3):\n",
      "\n",
      "    call_direction, call_hour, no_of_calls\n",
      "\n",
      "The following objects are masked from summary1 (pos = 4):\n",
      "\n",
      "    call_direction, call_hour, no_of_calls\n",
      "\n",
      "The following objects are masked from summary1 (pos = 5):\n",
      "\n",
      "    call_direction, call_hour, no_of_calls\n",
      "\n",
      "The following objects are masked from summary1 (pos = 6):\n",
      "\n",
      "    call_direction, call_hour, no_of_calls\n",
      "\n",
      "The following objects are masked from summary1 (pos = 7):\n",
      "\n",
      "    call_direction, call_hour, no_of_calls\n",
      "\n",
      "The following objects are masked from summary1 (pos = 8):\n",
      "\n",
      "    call_direction, call_hour, no_of_calls\n",
      "\n",
      "The following objects are masked from summary1 (pos = 9):\n",
      "\n",
      "    call_direction, call_hour, no_of_calls\n",
      "\n",
      "The following objects are masked from summary1 (pos = 10):\n",
      "\n",
      "    call_direction, call_hour, no_of_calls\n",
      "\n",
      "The following objects are masked from summary1 (pos = 12):\n",
      "\n",
      "    call_direction, call_hour, no_of_calls\n",
      "\n"
     ]
    },
    {
     "data": {},
     "metadata": {},
     "output_type": "display_data"
    },
    {
     "data": {
      "image/png": "[encoded data removed]",
      "text/plain": [
       "plot without title"
      ]
     },
     "metadata": {},
     "output_type": "display_data"
    }
   ],
   "source": [
    "## loading ggplot for plotting graphs\n",
    "library(ggplot2)\n",
    "attach(summary1)\n",
    "# generating a quick plot to visualize data\n",
    "qplot(x=call_hour, y=no_of_calls, data=summary1, color=call_direction, geom=\"line\") +\n",
    "scale_x_continuous(breaks=c(5,7,9, 11,12,13,14,15,16,17,20,21,22,23))"
   ]
  },
  {
   "cell_type": "markdown",
   "metadata": {},
   "source": [
    "## Question 1 Solution:\n",
    "For the incoming calls, the most traffic is experienced at 16:00hrs. The number of incoming calls rises exponentially from 04:00hrs\n",
    "and peaks at 12:00hrs, thereafter experiencing a decline between 12hrs and 13 hrs, before peaking again at 14hrs and later \n",
    "experiencing a sharp decline during the next 4 hours.\n",
    "Whereas the pattern is similar for both the incoming and outgoing calls, on average the number of incoming calls is higher than the \n",
    "that of the outgoing calls.\n",
    "    \n"
   ]
  },
  {
   "cell_type": "markdown",
   "metadata": {},
   "source": [
    "## Solution to Question 3"
   ]
  },
  {
   "cell_type": "code",
   "execution_count": 80,
   "metadata": {
    "collapsed": false
   },
   "outputs": [
    {
     "data": {
      "text/html": [
       "<table>\n",
       "<thead><tr><th scope=col>call_duration</th><th scope=col>call_topics</th></tr></thead>\n",
       "<tbody>\n",
       "\t<tr><td>0.78               </td><td>Call Dropped       </td></tr>\n",
       "\t<tr><td>1.93               </td><td>Code Not Received  </td></tr>\n",
       "\t<tr><td>4.90               </td><td>RP Remote Technical</td></tr>\n",
       "\t<tr><td>3.77               </td><td>Code Not Received  </td></tr>\n",
       "\t<tr><td>2.62               </td><td>Code Not Received  </td></tr>\n",
       "</tbody>\n",
       "</table>\n"
      ],
      "text/latex": [
       "\\begin{tabular}{r|ll}\n",
       " call\\_duration & call\\_topics\\\\\n",
       "\\hline\n",
       "\t 0.78                & Call Dropped       \\\\\n",
       "\t 1.93                & Code Not Received  \\\\\n",
       "\t 4.90                & RP Remote Technical\\\\\n",
       "\t 3.77                & Code Not Received  \\\\\n",
       "\t 2.62                & Code Not Received  \\\\\n",
       "\\end{tabular}\n"
      ],
      "text/markdown": [
       "\n",
       "call_duration | call_topics | \n",
       "|---|---|---|---|---|\n",
       "| 0.78                | Call Dropped        | \n",
       "| 1.93                | Code Not Received   | \n",
       "| 4.90                | RP Remote Technical | \n",
       "| 3.77                | Code Not Received   | \n",
       "| 2.62                | Code Not Received   | \n",
       "\n",
       "\n"
      ],
      "text/plain": [
       "  call_duration call_topics        \n",
       "1 0.78          Call Dropped       \n",
       "2 1.93          Code Not Received  \n",
       "3 4.90          RP Remote Technical\n",
       "4 3.77          Code Not Received  \n",
       "5 2.62          Code Not Received  "
      ]
     },
     "metadata": {},
     "output_type": "display_data"
    }
   ],
   "source": [
    "## Retaining the call duration and call topic groups columns\n",
    "subset_df2 <- select(df, -(call_outcome:call_end_date), -(call_id:call_direction), -(call_day:call_hour), - call_topic_group)\n",
    "# obtaining the first 5 rows\n",
    "head(subset_df2,5)"
   ]
  },
  {
   "cell_type": "code",
   "execution_count": 124,
   "metadata": {
    "collapsed": false
   },
   "outputs": [
    {
     "data": {
      "text/html": [
       "4.20767599660729"
      ],
      "text/latex": [
       "4.20767599660729"
      ],
      "text/markdown": [
       "4.20767599660729"
      ],
      "text/plain": [
       "[1] 4.207676"
      ]
     },
     "metadata": {},
     "output_type": "display_data"
    }
   ],
   "source": [
    "# filter to retain 10 day call survey data and completion call survey topics\n",
    "#df3 <- subset_df2[grep(\"^10 Day Call$|^Completions Call$\", subset_df2$call_topics), ]\n",
    "## obtaining subset of 10 day calls\n",
    "df3 <- subset_df2[grep(\"^10 Day Call\", subset_df2$call_topics), ]\n",
    "\n",
    "# computing the mean of 10 day calls\n",
    "mean(df3$call_duration)"
   ]
  },
  {
   "cell_type": "code",
   "execution_count": 125,
   "metadata": {
    "collapsed": false
   },
   "outputs": [
    {
     "data": {
      "text/html": [
       "3.43780343007916"
      ],
      "text/latex": [
       "3.43780343007916"
      ],
      "text/markdown": [
       "3.43780343007916"
      ],
      "text/plain": [
       "[1] 3.437803"
      ]
     },
     "metadata": {},
     "output_type": "display_data"
    }
   ],
   "source": [
    "# Obtaining the subset for the Completions calls\n",
    "df4 <- subset_df2[grep(\"^Completions Call\", subset_df2$call_topics), ]\n",
    "\n",
    "# mean for the Completions calls\n",
    "mean(df4$call_duration)"
   ]
  },
  {
   "cell_type": "code",
   "execution_count": 126,
   "metadata": {
    "collapsed": false
   },
   "outputs": [
    {
     "name": "stderr",
     "output_type": "stream",
     "text": [
      "`stat_bin()` using `bins = 30`. Pick better value with `binwidth`.\n"
     ]
    },
    {
     "data": {},
     "metadata": {},
     "output_type": "display_data"
    },
    {
     "data": {
      "image/png": "[encoded data removed]",
      "text/plain": [
       "plot without title"
      ]
     },
     "metadata": {},
     "output_type": "display_data"
    }
   ],
   "source": [
    "## visualizing the distribution of the mean call_duration for Completions call\n",
    "qplot(df4$call_duration)"
   ]
  },
  {
   "cell_type": "code",
   "execution_count": 127,
   "metadata": {
    "collapsed": false
   },
   "outputs": [
    {
     "name": "stderr",
     "output_type": "stream",
     "text": [
      "`stat_bin()` using `bins = 30`. Pick better value with `binwidth`.\n"
     ]
    },
    {
     "data": {},
     "metadata": {},
     "output_type": "display_data"
    },
    {
     "data": {
      "image/png": "[encoded data removed]",
      "text/plain": [
       "plot without title"
      ]
     },
     "metadata": {},
     "output_type": "display_data"
    }
   ],
   "source": [
    "## Visualizing call durations for 10 day calls\n",
    "qplot(df3$call_duration)"
   ]
  },
  {
   "cell_type": "markdown",
   "metadata": {},
   "source": [
    "Both distributions are positively skewed. We will shall use the Wilcox test to determine in one group is different from the other"
   ]
  },
  {
   "cell_type": "code",
   "execution_count": 151,
   "metadata": {
    "collapsed": false
   },
   "outputs": [
    {
     "data": {
      "text/plain": [
       "\n",
       "\tWilcoxon rank sum test with continuity correction\n",
       "\n",
       "data:  df3$call_duration and df4$call_duration\n",
       "W = 2584900, p-value = 0.9713\n",
       "alternative hypothesis: true location shift is greater than 0\n"
      ]
     },
     "metadata": {},
     "output_type": "display_data"
    }
   ],
   "source": [
    "# using the wilcox test to test the two groups\n",
    "wilcox.test(df3$call_duration, df4$call_duration, alternative=\"greater\", paired=FALSE, conf.level=0.95)"
   ]
  },
  {
   "cell_type": "markdown",
   "metadata": {},
   "source": [
    "From the data, we don't have suffecient evidence to conclude that 10 Day call surveys take longer for our call representatives\n",
    "to complete than completion call surveys'"
   ]
  },
  {
   "cell_type": "code",
   "execution_count": 150,
   "metadata": {
    "collapsed": true
   },
   "outputs": [],
   "source": []
  },
  {
   "cell_type": "code",
   "execution_count": null,
   "metadata": {
    "collapsed": true
   },
   "outputs": [],
   "source": []
  }
 ],
 "metadata": {
  "kernelspec": {
   "display_name": "R",
   "language": "R",
   "name": "ir"
  },
  "language_info": {
   "codemirror_mode": "r",
   "file_extension": ".r",
   "mimetype": "text/x-r-source",
   "name": "R",
   "pygments_lexer": "r",
   "version": "3.3.2"
  }
 },
 "nbformat": 4,
 "nbformat_minor": 2
}
