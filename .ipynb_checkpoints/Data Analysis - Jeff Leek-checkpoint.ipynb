{
 "cells": [
  {
   "cell_type": "markdown",
   "metadata": {},
   "source": [
    "# Simulation Basics"
   ]
  },
  {
   "cell_type": "markdown",
   "metadata": {},
   "source": [
    "# Formatting with Ipython notebooks\n",
    "https://sourceforge.net/p/jupiter/wiki/markdown_syntax/#md_ex_lists"
   ]
  },
  {
   "cell_type": "code",
   "execution_count": 1,
   "metadata": {
    "collapsed": false
   },
   "outputs": [
    {
     "data": {
      "text/html": [
       "<pre class=language-r><code>function (n, mean = 0, sd = 1) \n",
       "NULL</code></pre>"
      ],
      "text/latex": [
       "\\begin{minted}{r}\n",
       "function (n, mean = 0, sd = 1) \n",
       "NULL\n",
       "\\end{minted}"
      ],
      "text/markdown": [
       "```r\n",
       "function (n, mean = 0, sd = 1) \n",
       "NULL\n",
       "```"
      ],
      "text/plain": [
       "function (n, mean = 0, sd = 1) \n",
       "NULL"
      ]
     },
     "metadata": {},
     "output_type": "display_data"
    }
   ],
   "source": [
    "args(rnorm)"
   ]
  },
  {
   "cell_type": "code",
   "execution_count": 2,
   "metadata": {
    "collapsed": false
   },
   "outputs": [
    {
     "data": {
      "text/html": [
       "<ol class=list-inline>\n",
       "\t<li>185.230957533975</li>\n",
       "\t<li>186.842792890485</li>\n",
       "\t<li>189.900096347994</li>\n",
       "\t<li>186.601455058978</li>\n",
       "\t<li>182.464022848081</li>\n",
       "\t<li>185.890928439971</li>\n",
       "\t<li>184.040996725165</li>\n",
       "\t<li>188.887773375377</li>\n",
       "\t<li>186.143703228122</li>\n",
       "\t<li>190.069461638249</li>\n",
       "</ol>\n"
      ],
      "text/latex": [
       "\\begin{enumerate*}\n",
       "\\item 185.230957533975\n",
       "\\item 186.842792890485\n",
       "\\item 189.900096347994\n",
       "\\item 186.601455058978\n",
       "\\item 182.464022848081\n",
       "\\item 185.890928439971\n",
       "\\item 184.040996725165\n",
       "\\item 188.887773375377\n",
       "\\item 186.143703228122\n",
       "\\item 190.069461638249\n",
       "\\end{enumerate*}\n"
      ],
      "text/markdown": [
       "1. 185.230957533975\n",
       "2. 186.842792890485\n",
       "3. 189.900096347994\n",
       "4. 186.601455058978\n",
       "5. 182.464022848081\n",
       "6. 185.890928439971\n",
       "7. 184.040996725165\n",
       "8. 188.887773375377\n",
       "9. 186.143703228122\n",
       "10. 190.069461638249\n",
       "\n",
       "\n"
      ],
      "text/plain": [
       " [1] 185.2310 186.8428 189.9001 186.6015 182.4640 185.8909 184.0410 188.8878\n",
       " [9] 186.1437 190.0695"
      ]
     },
     "metadata": {},
     "output_type": "display_data"
    }
   ],
   "source": [
    "# generate 10 heights with a mean of 188 and a Standard dev of 3\n",
    "heights = rnorm(10, mean=188, sd=3)\n",
    "heights"
   ]
  },
  {
   "cell_type": "code",
   "execution_count": 3,
   "metadata": {
    "collapsed": false
   },
   "outputs": [
    {
     "data": {
      "text/html": [
       "<pre class=language-r><code>function (x, mean = 0, sd = 1, log = FALSE) \n",
       "NULL</code></pre>"
      ],
      "text/latex": [
       "\\begin{minted}{r}\n",
       "function (x, mean = 0, sd = 1, log = FALSE) \n",
       "NULL\n",
       "\\end{minted}"
      ],
      "text/markdown": [
       "```r\n",
       "function (x, mean = 0, sd = 1, log = FALSE) \n",
       "NULL\n",
       "```"
      ],
      "text/plain": [
       "function (x, mean = 0, sd = 1, log = FALSE) \n",
       "NULL"
      ]
     },
     "metadata": {},
     "output_type": "display_data"
    }
   ],
   "source": [
    "# generating a density\n",
    "args(dnorm)"
   ]
  },
  {
   "cell_type": "code",
   "execution_count": 4,
   "metadata": {
    "collapsed": false
   },
   "outputs": [
    {
     "data": {
      "text/html": [
       "<ol class=list-inline>\n",
       "\t<li>0</li>\n",
       "\t<li>0</li>\n",
       "\t<li>0.01</li>\n",
       "\t<li>0.1</li>\n",
       "\t<li>0.34</li>\n",
       "\t<li>0.34</li>\n",
       "\t<li>0.1</li>\n",
       "\t<li>0.01</li>\n",
       "\t<li>0</li>\n",
       "\t<li>0</li>\n",
       "</ol>\n"
      ],
      "text/latex": [
       "\\begin{enumerate*}\n",
       "\\item 0\n",
       "\\item 0\n",
       "\\item 0.01\n",
       "\\item 0.1\n",
       "\\item 0.34\n",
       "\\item 0.34\n",
       "\\item 0.1\n",
       "\\item 0.01\n",
       "\\item 0\n",
       "\\item 0\n",
       "\\end{enumerate*}\n"
      ],
      "text/markdown": [
       "1. 0\n",
       "2. 0\n",
       "3. 0.01\n",
       "4. 0.1\n",
       "5. 0.34\n",
       "6. 0.34\n",
       "7. 0.1\n",
       "8. 0.01\n",
       "9. 0\n",
       "10. 0\n",
       "\n",
       "\n"
      ],
      "text/plain": [
       " [1] 0.00 0.00 0.01 0.10 0.34 0.34 0.10 0.01 0.00 0.00"
      ]
     },
     "metadata": {},
     "output_type": "display_data"
    }
   ],
   "source": [
    "x = seq(from=-5, to=5, length=10)\n",
    "normalDensity = dnorm(x, mean=0, sd=1)\n",
    "round(normalDensity, 2)"
   ]
  },
  {
   "cell_type": "code",
   "execution_count": 5,
   "metadata": {
    "collapsed": false
   },
   "outputs": [
    {
     "data": {
      "text/html": [
       "<pre class=language-r><code>function (x, size, replace = FALSE, prob = NULL) \n",
       "NULL</code></pre>"
      ],
      "text/latex": [
       "\\begin{minted}{r}\n",
       "function (x, size, replace = FALSE, prob = NULL) \n",
       "NULL\n",
       "\\end{minted}"
      ],
      "text/markdown": [
       "```r\n",
       "function (x, size, replace = FALSE, prob = NULL) \n",
       "NULL\n",
       "```"
      ],
      "text/plain": [
       "function (x, size, replace = FALSE, prob = NULL) \n",
       "NULL"
      ]
     },
     "metadata": {},
     "output_type": "display_data"
    }
   ],
   "source": [
    "# Sampled draws a random sample\n",
    "args(sample)"
   ]
  },
  {
   "cell_type": "code",
   "execution_count": 6,
   "metadata": {
    "collapsed": false
   },
   "outputs": [
    {
     "data": {
      "text/html": [
       "<ol class=list-inline>\n",
       "\t<li>186.143703228122</li>\n",
       "\t<li>182.464022848081</li>\n",
       "\t<li>184.040996725165</li>\n",
       "\t<li>185.230957533975</li>\n",
       "\t<li>186.143703228122</li>\n",
       "\t<li>182.464022848081</li>\n",
       "\t<li>185.230957533975</li>\n",
       "\t<li>184.040996725165</li>\n",
       "\t<li>189.900096347994</li>\n",
       "\t<li>189.900096347994</li>\n",
       "</ol>\n"
      ],
      "text/latex": [
       "\\begin{enumerate*}\n",
       "\\item 186.143703228122\n",
       "\\item 182.464022848081\n",
       "\\item 184.040996725165\n",
       "\\item 185.230957533975\n",
       "\\item 186.143703228122\n",
       "\\item 182.464022848081\n",
       "\\item 185.230957533975\n",
       "\\item 184.040996725165\n",
       "\\item 189.900096347994\n",
       "\\item 189.900096347994\n",
       "\\end{enumerate*}\n"
      ],
      "text/markdown": [
       "1. 186.143703228122\n",
       "2. 182.464022848081\n",
       "3. 184.040996725165\n",
       "4. 185.230957533975\n",
       "5. 186.143703228122\n",
       "6. 182.464022848081\n",
       "7. 185.230957533975\n",
       "8. 184.040996725165\n",
       "9. 189.900096347994\n",
       "10. 189.900096347994\n",
       "\n",
       "\n"
      ],
      "text/plain": [
       " [1] 186.1437 182.4640 184.0410 185.2310 186.1437 182.4640 185.2310 184.0410\n",
       " [9] 189.9001 189.9001"
      ]
     },
     "metadata": {},
     "output_type": "display_data"
    }
   ],
   "source": [
    "# sample with replacement\n",
    "sample(heights, size=10, replace=TRUE)"
   ]
  },
  {
   "cell_type": "code",
   "execution_count": 7,
   "metadata": {
    "collapsed": false
   },
   "outputs": [
    {
     "data": {
      "text/html": [
       "<ol class=list-inline>\n",
       "\t<li>182.464022848081</li>\n",
       "\t<li>185.230957533975</li>\n",
       "\t<li>186.842792890485</li>\n",
       "\t<li>186.601455058978</li>\n",
       "\t<li>186.143703228122</li>\n",
       "\t<li>189.900096347994</li>\n",
       "\t<li>185.890928439971</li>\n",
       "\t<li>184.040996725165</li>\n",
       "\t<li>190.069461638249</li>\n",
       "\t<li>188.887773375377</li>\n",
       "</ol>\n"
      ],
      "text/latex": [
       "\\begin{enumerate*}\n",
       "\\item 182.464022848081\n",
       "\\item 185.230957533975\n",
       "\\item 186.842792890485\n",
       "\\item 186.601455058978\n",
       "\\item 186.143703228122\n",
       "\\item 189.900096347994\n",
       "\\item 185.890928439971\n",
       "\\item 184.040996725165\n",
       "\\item 190.069461638249\n",
       "\\item 188.887773375377\n",
       "\\end{enumerate*}\n"
      ],
      "text/markdown": [
       "1. 182.464022848081\n",
       "2. 185.230957533975\n",
       "3. 186.842792890485\n",
       "4. 186.601455058978\n",
       "5. 186.143703228122\n",
       "6. 189.900096347994\n",
       "7. 185.890928439971\n",
       "8. 184.040996725165\n",
       "9. 190.069461638249\n",
       "10. 188.887773375377\n",
       "\n",
       "\n"
      ],
      "text/plain": [
       " [1] 182.4640 185.2310 186.8428 186.6015 186.1437 189.9001 185.8909 184.0410\n",
       " [9] 190.0695 188.8878"
      ]
     },
     "metadata": {},
     "output_type": "display_data"
    }
   ],
   "source": [
    "# sample without replacement\n",
    "sample(heights, size=10, replace=FALSE)"
   ]
  },
  {
   "cell_type": "code",
   "execution_count": 8,
   "metadata": {
    "collapsed": false
   },
   "outputs": [
    {
     "data": {
      "text/html": [
       "<ol class=list-inline>\n",
       "\t<li>185.230957533975</li>\n",
       "\t<li>186.842792890485</li>\n",
       "\t<li>189.900096347994</li>\n",
       "\t<li>186.601455058978</li>\n",
       "\t<li>182.464022848081</li>\n",
       "\t<li>185.890928439971</li>\n",
       "\t<li>184.040996725165</li>\n",
       "\t<li>188.887773375377</li>\n",
       "\t<li>186.143703228122</li>\n",
       "\t<li>190.069461638249</li>\n",
       "</ol>\n"
      ],
      "text/latex": [
       "\\begin{enumerate*}\n",
       "\\item 185.230957533975\n",
       "\\item 186.842792890485\n",
       "\\item 189.900096347994\n",
       "\\item 186.601455058978\n",
       "\\item 182.464022848081\n",
       "\\item 185.890928439971\n",
       "\\item 184.040996725165\n",
       "\\item 188.887773375377\n",
       "\\item 186.143703228122\n",
       "\\item 190.069461638249\n",
       "\\end{enumerate*}\n"
      ],
      "text/markdown": [
       "1. 185.230957533975\n",
       "2. 186.842792890485\n",
       "3. 189.900096347994\n",
       "4. 186.601455058978\n",
       "5. 182.464022848081\n",
       "6. 185.890928439971\n",
       "7. 184.040996725165\n",
       "8. 188.887773375377\n",
       "9. 186.143703228122\n",
       "10. 190.069461638249\n",
       "\n",
       "\n"
      ],
      "text/plain": [
       " [1] 185.2310 186.8428 189.9001 186.6015 182.4640 185.8909 184.0410 188.8878\n",
       " [9] 186.1437 190.0695"
      ]
     },
     "metadata": {},
     "output_type": "display_data"
    }
   ],
   "source": [
    "# Sample can be drawn according to a set of probabilities\n",
    "heights"
   ]
  },
  {
   "cell_type": "code",
   "execution_count": 9,
   "metadata": {
    "collapsed": false
   },
   "outputs": [
    {
     "data": {
      "text/html": [
       "1"
      ],
      "text/latex": [
       "1"
      ],
      "text/markdown": [
       "1"
      ],
      "text/plain": [
       "[1] 1"
      ]
     },
     "metadata": {},
     "output_type": "display_data"
    }
   ],
   "source": [
    "probs = c(0.4,0.3, 0.2, 0.1, 0,0,0,0,0,0)\n",
    "sum(probs)"
   ]
  },
  {
   "cell_type": "code",
   "execution_count": 10,
   "metadata": {
    "collapsed": false
   },
   "outputs": [
    {
     "data": {
      "text/html": [
       "<ol class=list-inline>\n",
       "\t<li>185.230957533975</li>\n",
       "\t<li>185.230957533975</li>\n",
       "\t<li>185.230957533975</li>\n",
       "\t<li>189.900096347994</li>\n",
       "\t<li>185.230957533975</li>\n",
       "\t<li>186.842792890485</li>\n",
       "\t<li>189.900096347994</li>\n",
       "\t<li>186.601455058978</li>\n",
       "\t<li>186.842792890485</li>\n",
       "\t<li>185.230957533975</li>\n",
       "</ol>\n"
      ],
      "text/latex": [
       "\\begin{enumerate*}\n",
       "\\item 185.230957533975\n",
       "\\item 185.230957533975\n",
       "\\item 185.230957533975\n",
       "\\item 189.900096347994\n",
       "\\item 185.230957533975\n",
       "\\item 186.842792890485\n",
       "\\item 189.900096347994\n",
       "\\item 186.601455058978\n",
       "\\item 186.842792890485\n",
       "\\item 185.230957533975\n",
       "\\end{enumerate*}\n"
      ],
      "text/markdown": [
       "1. 185.230957533975\n",
       "2. 185.230957533975\n",
       "3. 185.230957533975\n",
       "4. 189.900096347994\n",
       "5. 185.230957533975\n",
       "6. 186.842792890485\n",
       "7. 189.900096347994\n",
       "8. 186.601455058978\n",
       "9. 186.842792890485\n",
       "10. 185.230957533975\n",
       "\n",
       "\n"
      ],
      "text/plain": [
       " [1] 185.2310 185.2310 185.2310 189.9001 185.2310 186.8428 189.9001 186.6015\n",
       " [9] 186.8428 185.2310"
      ]
     },
     "metadata": {},
     "output_type": "display_data"
    }
   ],
   "source": [
    "sample(heights, size=10, replace=TRUE, prob=probs)"
   ]
  },
  {
   "cell_type": "markdown",
   "metadata": {},
   "source": [
    "## Setting a seed\n",
    "Setting a seed ensures reprodusible results from random processes in R"
   ]
  },
  {
   "cell_type": "code",
   "execution_count": 11,
   "metadata": {
    "collapsed": false
   },
   "outputs": [
    {
     "data": {
      "text/html": [
       "<ol class=list-inline>\n",
       "\t<li>0.585528817843856</li>\n",
       "\t<li>0.709466017509524</li>\n",
       "\t<li>-0.109303314681054</li>\n",
       "\t<li>-0.453497173462763</li>\n",
       "\t<li>0.605887455840394</li>\n",
       "</ol>\n"
      ],
      "text/latex": [
       "\\begin{enumerate*}\n",
       "\\item 0.585528817843856\n",
       "\\item 0.709466017509524\n",
       "\\item -0.109303314681054\n",
       "\\item -0.453497173462763\n",
       "\\item 0.605887455840394\n",
       "\\end{enumerate*}\n"
      ],
      "text/markdown": [
       "1. 0.585528817843856\n",
       "2. 0.709466017509524\n",
       "3. -0.109303314681054\n",
       "4. -0.453497173462763\n",
       "5. 0.605887455840394\n",
       "\n",
       "\n"
      ],
      "text/plain": [
       "[1]  0.5855288  0.7094660 -0.1093033 -0.4534972  0.6058875"
      ]
     },
     "metadata": {},
     "output_type": "display_data"
    }
   ],
   "source": [
    "set.seed(12345)\n",
    "rnorm(5, mean=0, sd=1)"
   ]
  },
  {
   "cell_type": "code",
   "execution_count": 12,
   "metadata": {
    "collapsed": false
   },
   "outputs": [
    {
     "data": {
      "text/html": [
       "<ol class=list-inline>\n",
       "\t<li>0.585528817843856</li>\n",
       "\t<li>0.709466017509524</li>\n",
       "\t<li>-0.109303314681054</li>\n",
       "\t<li>-0.453497173462763</li>\n",
       "\t<li>0.605887455840394</li>\n",
       "</ol>\n"
      ],
      "text/latex": [
       "\\begin{enumerate*}\n",
       "\\item 0.585528817843856\n",
       "\\item 0.709466017509524\n",
       "\\item -0.109303314681054\n",
       "\\item -0.453497173462763\n",
       "\\item 0.605887455840394\n",
       "\\end{enumerate*}\n"
      ],
      "text/markdown": [
       "1. 0.585528817843856\n",
       "2. 0.709466017509524\n",
       "3. -0.109303314681054\n",
       "4. -0.453497173462763\n",
       "5. 0.605887455840394\n",
       "\n",
       "\n"
      ],
      "text/plain": [
       "[1]  0.5855288  0.7094660 -0.1093033 -0.4534972  0.6058875"
      ]
     },
     "metadata": {},
     "output_type": "display_data"
    }
   ],
   "source": [
    "set.seed(12345)\n",
    "rnorm(5, mean=0, sd=1)"
   ]
  },
  {
   "cell_type": "markdown",
   "metadata": {},
   "source": [
    "# General functions"
   ]
  },
  {
   "cell_type": "markdown",
   "metadata": {},
   "source": [
    "* functions that start with **d** for probability density\n",
    "* functions that start with **r** for random number generation\n",
    "* functions that start with **p** for cummulative distribution\n",
    "* functions that start with **q** for quantile distribution"
   ]
  },
  {
   "cell_type": "markdown",
   "metadata": {},
   "source": [
    "Toss a coin 4 times, what is the probability of getting\n",
    "0,1,2,3 or 4 number of heads?"
   ]
  },
  {
   "cell_type": "code",
   "execution_count": 13,
   "metadata": {
    "collapsed": false
   },
   "outputs": [
    {
     "data": {
      "text/html": [
       "0.1296"
      ],
      "text/latex": [
       "0.1296"
      ],
      "text/markdown": [
       "0.1296"
      ],
      "text/plain": [
       "[1] 0.1296"
      ]
     },
     "metadata": {},
     "output_type": "display_data"
    }
   ],
   "source": [
    "dbinom(0, size=4, prob=.4)"
   ]
  },
  {
   "cell_type": "code",
   "execution_count": 14,
   "metadata": {
    "collapsed": false
   },
   "outputs": [
    {
     "data": {
      "text/html": [
       "0.3456"
      ],
      "text/latex": [
       "0.3456"
      ],
      "text/markdown": [
       "0.3456"
      ],
      "text/plain": [
       "[1] 0.3456"
      ]
     },
     "metadata": {},
     "output_type": "display_data"
    }
   ],
   "source": [
    "dbinom(1, size=4, prob=.4)"
   ]
  },
  {
   "cell_type": "code",
   "execution_count": 15,
   "metadata": {
    "collapsed": false
   },
   "outputs": [
    {
     "data": {
      "text/html": [
       "0.3456"
      ],
      "text/latex": [
       "0.3456"
      ],
      "text/markdown": [
       "0.3456"
      ],
      "text/plain": [
       "[1] 0.3456"
      ]
     },
     "metadata": {},
     "output_type": "display_data"
    }
   ],
   "source": [
    "dbinom(2, size=4, prob=.4)"
   ]
  },
  {
   "cell_type": "code",
   "execution_count": 16,
   "metadata": {
    "collapsed": false
   },
   "outputs": [
    {
     "data": {
      "text/html": [
       "0.1536"
      ],
      "text/latex": [
       "0.1536"
      ],
      "text/markdown": [
       "0.1536"
      ],
      "text/plain": [
       "[1] 0.1536"
      ]
     },
     "metadata": {},
     "output_type": "display_data"
    }
   ],
   "source": [
    "dbinom(3, size=4, prob=.4)"
   ]
  },
  {
   "cell_type": "code",
   "execution_count": 17,
   "metadata": {
    "collapsed": false
   },
   "outputs": [
    {
     "data": {
      "text/html": [
       "0.0256"
      ],
      "text/latex": [
       "0.0256"
      ],
      "text/markdown": [
       "0.0256"
      ],
      "text/plain": [
       "[1] 0.0256"
      ]
     },
     "metadata": {},
     "output_type": "display_data"
    }
   ],
   "source": [
    "dbinom(4, size=4, prob=.4)"
   ]
  },
  {
   "cell_type": "markdown",
   "metadata": {},
   "source": [
    "Consider 2 stones. Drop raindrops on them randomly"
   ]
  },
  {
   "cell_type": "code",
   "execution_count": 18,
   "metadata": {
    "collapsed": false
   },
   "outputs": [
    {
     "data": {
      "text/html": [
       "<ol class=list-inline>\n",
       "\t<li>0</li>\n",
       "\t<li>0</li>\n",
       "\t<li>1</li>\n",
       "\t<li>0</li>\n",
       "\t<li>0</li>\n",
       "\t<li>0</li>\n",
       "\t<li>0</li>\n",
       "\t<li>0</li>\n",
       "\t<li>0</li>\n",
       "\t<li>1</li>\n",
       "\t<li>0</li>\n",
       "\t<li>0</li>\n",
       "\t<li>1</li>\n",
       "\t<li>1</li>\n",
       "\t<li>1</li>\n",
       "\t<li>0</li>\n",
       "\t<li>1</li>\n",
       "\t<li>1</li>\n",
       "\t<li>0</li>\n",
       "\t<li>0</li>\n",
       "\t<li>1</li>\n",
       "\t<li>0</li>\n",
       "\t<li>0</li>\n",
       "\t<li>1</li>\n",
       "\t<li>0</li>\n",
       "\t<li>0</li>\n",
       "\t<li>1</li>\n",
       "\t<li>1</li>\n",
       "\t<li>1</li>\n",
       "\t<li>0</li>\n",
       "\t<li>1</li>\n",
       "\t<li>0</li>\n",
       "\t<li>1</li>\n",
       "\t<li>1</li>\n",
       "\t<li>0</li>\n",
       "\t<li>0</li>\n",
       "\t<li>0</li>\n",
       "\t<li>0</li>\n",
       "\t<li>0</li>\n",
       "\t<li>1</li>\n",
       "\t<li>1</li>\n",
       "\t<li>1</li>\n",
       "\t<li>0</li>\n",
       "\t<li>0</li>\n",
       "\t<li>1</li>\n",
       "\t<li>0</li>\n",
       "\t<li>1</li>\n",
       "\t<li>0</li>\n",
       "\t<li>0</li>\n",
       "\t<li>0</li>\n",
       "</ol>\n"
      ],
      "text/latex": [
       "\\begin{enumerate*}\n",
       "\\item 0\n",
       "\\item 0\n",
       "\\item 1\n",
       "\\item 0\n",
       "\\item 0\n",
       "\\item 0\n",
       "\\item 0\n",
       "\\item 0\n",
       "\\item 0\n",
       "\\item 1\n",
       "\\item 0\n",
       "\\item 0\n",
       "\\item 1\n",
       "\\item 1\n",
       "\\item 1\n",
       "\\item 0\n",
       "\\item 1\n",
       "\\item 1\n",
       "\\item 0\n",
       "\\item 0\n",
       "\\item 1\n",
       "\\item 0\n",
       "\\item 0\n",
       "\\item 1\n",
       "\\item 0\n",
       "\\item 0\n",
       "\\item 1\n",
       "\\item 1\n",
       "\\item 1\n",
       "\\item 0\n",
       "\\item 1\n",
       "\\item 0\n",
       "\\item 1\n",
       "\\item 1\n",
       "\\item 0\n",
       "\\item 0\n",
       "\\item 0\n",
       "\\item 0\n",
       "\\item 0\n",
       "\\item 1\n",
       "\\item 1\n",
       "\\item 1\n",
       "\\item 0\n",
       "\\item 0\n",
       "\\item 1\n",
       "\\item 0\n",
       "\\item 1\n",
       "\\item 0\n",
       "\\item 0\n",
       "\\item 0\n",
       "\\end{enumerate*}\n"
      ],
      "text/markdown": [
       "1. 0\n",
       "2. 0\n",
       "3. 1\n",
       "4. 0\n",
       "5. 0\n",
       "6. 0\n",
       "7. 0\n",
       "8. 0\n",
       "9. 0\n",
       "10. 1\n",
       "11. 0\n",
       "12. 0\n",
       "13. 1\n",
       "14. 1\n",
       "15. 1\n",
       "16. 0\n",
       "17. 1\n",
       "18. 1\n",
       "19. 0\n",
       "20. 0\n",
       "21. 1\n",
       "22. 0\n",
       "23. 0\n",
       "24. 1\n",
       "25. 0\n",
       "26. 0\n",
       "27. 1\n",
       "28. 1\n",
       "29. 1\n",
       "30. 0\n",
       "31. 1\n",
       "32. 0\n",
       "33. 1\n",
       "34. 1\n",
       "35. 0\n",
       "36. 0\n",
       "37. 0\n",
       "38. 0\n",
       "39. 0\n",
       "40. 1\n",
       "41. 1\n",
       "42. 1\n",
       "43. 0\n",
       "44. 0\n",
       "45. 1\n",
       "46. 0\n",
       "47. 1\n",
       "48. 0\n",
       "49. 0\n",
       "50. 0\n",
       "\n",
       "\n"
      ],
      "text/plain": [
       " [1] 0 0 1 0 0 0 0 0 0 1 0 0 1 1 1 0 1 1 0 0 1 0 0 1 0 0 1 1 1 0 1 0 1 1 0 0 0 0\n",
       "[39] 0 1 1 1 0 0 1 0 1 0 0 0"
      ]
     },
     "metadata": {},
     "output_type": "display_data"
    }
   ],
   "source": [
    "size <- 1\n",
    "p <- 0.5\n",
    "rain_drops <- rbinom(50, size, p)\n",
    "rain_drops"
   ]
  },
  {
   "cell_type": "code",
   "execution_count": 19,
   "metadata": {
    "collapsed": false
   },
   "outputs": [
    {
     "name": "stdout",
     "output_type": "stream",
     "text": [
      "[1] 20\n",
      "[1] 0.4\n"
     ]
    }
   ],
   "source": [
    "print(sum(rain_drops))\n",
    "\n",
    "print(sum(rain_drops)/50)"
   ]
  },
  {
   "cell_type": "markdown",
   "metadata": {},
   "source": [
    "Replicate it many times"
   ]
  },
  {
   "cell_type": "markdown",
   "metadata": {},
   "source": [
    "## Observational study"
   ]
  },
  {
   "cell_type": "code",
   "execution_count": 20,
   "metadata": {
    "collapsed": false
   },
   "outputs": [
    {
     "data": {
      "text/html": [
       "<ol class=list-inline>\n",
       "\t<li>2</li>\n",
       "\t<li>5</li>\n",
       "\t<li>6</li>\n",
       "\t<li>8</li>\n",
       "</ol>\n"
      ],
      "text/latex": [
       "\\begin{enumerate*}\n",
       "\\item 2\n",
       "\\item 5\n",
       "\\item 6\n",
       "\\item 8\n",
       "\\end{enumerate*}\n"
      ],
      "text/markdown": [
       "1. 2\n",
       "2. 5\n",
       "3. 6\n",
       "4. 8\n",
       "\n",
       "\n"
      ],
      "text/plain": [
       "[1] 2 5 6 8"
      ]
     },
     "metadata": {},
     "output_type": "display_data"
    }
   ],
   "source": [
    "set.seed(5)\n",
    "sample(1:8, size=4, replace=FALSE)"
   ]
  },
  {
   "cell_type": "markdown",
   "metadata": {},
   "source": [
    "## Convenience Sample"
   ]
  },
  {
   "cell_type": "code",
   "execution_count": 21,
   "metadata": {
    "collapsed": false
   },
   "outputs": [
    {
     "data": {
      "text/html": [
       "<ol class=list-inline>\n",
       "\t<li>4</li>\n",
       "\t<li>1</li>\n",
       "\t<li>2</li>\n",
       "\t<li>5</li>\n",
       "</ol>\n"
      ],
      "text/latex": [
       "\\begin{enumerate*}\n",
       "\\item 4\n",
       "\\item 1\n",
       "\\item 2\n",
       "\\item 5\n",
       "\\end{enumerate*}\n"
      ],
      "text/markdown": [
       "1. 4\n",
       "2. 1\n",
       "3. 2\n",
       "4. 5\n",
       "\n",
       "\n"
      ],
      "text/plain": [
       "[1] 4 1 2 5"
      ]
     },
     "metadata": {},
     "output_type": "display_data"
    }
   ],
   "source": [
    "probs = c(5,5,5,5,1,1,1,1)/16\n",
    "sample(1:8, size=4, replace=FALSE, prob=probs)"
   ]
  },
  {
   "cell_type": "markdown",
   "metadata": {},
   "source": [
    "## Randomized Trial"
   ]
  },
  {
   "cell_type": "code",
   "execution_count": 22,
   "metadata": {
    "collapsed": false
   },
   "outputs": [
    {
     "data": {
      "text/html": [
       "<ol class=list-inline>\n",
       "\t<li>8</li>\n",
       "\t<li>1</li>\n",
       "\t<li>3</li>\n",
       "\t<li>4</li>\n",
       "</ol>\n"
      ],
      "text/latex": [
       "\\begin{enumerate*}\n",
       "\\item 8\n",
       "\\item 1\n",
       "\\item 3\n",
       "\\item 4\n",
       "\\end{enumerate*}\n"
      ],
      "text/markdown": [
       "1. 8\n",
       "2. 1\n",
       "3. 3\n",
       "4. 4\n",
       "\n",
       "\n"
      ],
      "text/plain": [
       "[1] 8 1 3 4"
      ]
     },
     "metadata": {},
     "output_type": "display_data"
    }
   ],
   "source": [
    "treat1 = sample(1:8, size=2, replace=FALSE); treat2 = sample(2:7, size=2, replace=FALSE)\n",
    "c(treat1, treat2)"
   ]
  },
  {
   "cell_type": "markdown",
   "metadata": {},
   "source": [
    "## Structure of a data analysis\n",
    "\n",
    "* Define the question\n",
    "* Define the ideal dataset\n",
    "* Determine what data you can access\n",
    "* Obtain the data\n",
    "* Clean the data\n",
    "* Exploratory data analysis\n",
    "* Statistical prediction/modeling\n",
    "* Interpret results\n",
    "* Challenge results\n",
    "* Synthesize/write up results\n",
    "* Create reproducible code\n"
   ]
  },
  {
   "cell_type": "code",
   "execution_count": 23,
   "metadata": {
    "collapsed": false
   },
   "outputs": [
    {
     "data": {
      "text/html": [
       "<ol class=list-inline>\n",
       "\t<li>4601</li>\n",
       "\t<li>58</li>\n",
       "</ol>\n"
      ],
      "text/latex": [
       "\\begin{enumerate*}\n",
       "\\item 4601\n",
       "\\item 58\n",
       "\\end{enumerate*}\n"
      ],
      "text/markdown": [
       "1. 4601\n",
       "2. 58\n",
       "\n",
       "\n"
      ],
      "text/plain": [
       "[1] 4601   58"
      ]
     },
     "metadata": {},
     "output_type": "display_data"
    }
   ],
   "source": [
    "library(kernlab)\n",
    "data(spam)\n",
    "dim(spam)"
   ]
  },
  {
   "cell_type": "markdown",
   "metadata": {},
   "source": [
    "## Subsampling our dataset"
   ]
  },
  {
   "cell_type": "code",
   "execution_count": 27,
   "metadata": {
    "collapsed": false
   },
   "outputs": [
    {
     "data": {
      "text/plain": [
       "trainIndicator\n",
       "   0    1 \n",
       "2314 2287 "
      ]
     },
     "metadata": {},
     "output_type": "display_data"
    }
   ],
   "source": [
    "set.seed(3435)\n",
    "trainIndicator = rbinom(4601, size=1, prob=0.5)\n",
    "table(trainIndicator)"
   ]
  },
  {
   "cell_type": "code",
   "execution_count": 28,
   "metadata": {
    "collapsed": false
   },
   "outputs": [
    {
     "data": {
      "text/html": [
       "<ol class=list-inline>\n",
       "\t<li>2287</li>\n",
       "\t<li>58</li>\n",
       "</ol>\n"
      ],
      "text/latex": [
       "\\begin{enumerate*}\n",
       "\\item 2287\n",
       "\\item 58\n",
       "\\end{enumerate*}\n"
      ],
      "text/markdown": [
       "1. 2287\n",
       "2. 58\n",
       "\n",
       "\n"
      ],
      "text/plain": [
       "[1] 2287   58"
      ]
     },
     "metadata": {},
     "output_type": "display_data"
    }
   ],
   "source": [
    "trainSpam = spam[trainIndicator==1,]\n",
    "testSpam = spam[trainIndicator==0,]\n",
    "dim(trainSpam)"
   ]
  },
  {
   "cell_type": "markdown",
   "metadata": {},
   "source": [
    "## Exploratory Data analysis\n",
    "* Look at summaries of the data\n",
    "* Check for missing data\n",
    "* Create exploratory plots\n",
    "* Perform exploratory analyses (e.g clustering)"
   ]
  },
  {
   "cell_type": "code",
   "execution_count": 31,
   "metadata": {
    "collapsed": false
   },
   "outputs": [
    {
     "data": {
      "text/html": [
       "<ol class=list-inline>\n",
       "\t<li>'make'</li>\n",
       "\t<li>'address'</li>\n",
       "\t<li>'all'</li>\n",
       "\t<li>'num3d'</li>\n",
       "\t<li>'our'</li>\n",
       "\t<li>'over'</li>\n",
       "\t<li>'remove'</li>\n",
       "\t<li>'internet'</li>\n",
       "\t<li>'order'</li>\n",
       "\t<li>'mail'</li>\n",
       "\t<li>'receive'</li>\n",
       "\t<li>'will'</li>\n",
       "\t<li>'people'</li>\n",
       "\t<li>'report'</li>\n",
       "\t<li>'addresses'</li>\n",
       "\t<li>'free'</li>\n",
       "\t<li>'business'</li>\n",
       "\t<li>'email'</li>\n",
       "\t<li>'you'</li>\n",
       "\t<li>'credit'</li>\n",
       "\t<li>'your'</li>\n",
       "\t<li>'font'</li>\n",
       "\t<li>'num000'</li>\n",
       "\t<li>'money'</li>\n",
       "\t<li>'hp'</li>\n",
       "\t<li>'hpl'</li>\n",
       "\t<li>'george'</li>\n",
       "\t<li>'num650'</li>\n",
       "\t<li>'lab'</li>\n",
       "\t<li>'labs'</li>\n",
       "\t<li>'telnet'</li>\n",
       "\t<li>'num857'</li>\n",
       "\t<li>'data'</li>\n",
       "\t<li>'num415'</li>\n",
       "\t<li>'num85'</li>\n",
       "\t<li>'technology'</li>\n",
       "\t<li>'num1999'</li>\n",
       "\t<li>'parts'</li>\n",
       "\t<li>'pm'</li>\n",
       "\t<li>'direct'</li>\n",
       "\t<li>'cs'</li>\n",
       "\t<li>'meeting'</li>\n",
       "\t<li>'original'</li>\n",
       "\t<li>'project'</li>\n",
       "\t<li>'re'</li>\n",
       "\t<li>'edu'</li>\n",
       "\t<li>'table'</li>\n",
       "\t<li>'conference'</li>\n",
       "\t<li>'charSemicolon'</li>\n",
       "\t<li>'charRoundbracket'</li>\n",
       "\t<li>'charSquarebracket'</li>\n",
       "\t<li>'charExclamation'</li>\n",
       "\t<li>'charDollar'</li>\n",
       "\t<li>'charHash'</li>\n",
       "\t<li>'capitalAve'</li>\n",
       "\t<li>'capitalLong'</li>\n",
       "\t<li>'capitalTotal'</li>\n",
       "\t<li>'type'</li>\n",
       "</ol>\n"
      ],
      "text/latex": [
       "\\begin{enumerate*}\n",
       "\\item 'make'\n",
       "\\item 'address'\n",
       "\\item 'all'\n",
       "\\item 'num3d'\n",
       "\\item 'our'\n",
       "\\item 'over'\n",
       "\\item 'remove'\n",
       "\\item 'internet'\n",
       "\\item 'order'\n",
       "\\item 'mail'\n",
       "\\item 'receive'\n",
       "\\item 'will'\n",
       "\\item 'people'\n",
       "\\item 'report'\n",
       "\\item 'addresses'\n",
       "\\item 'free'\n",
       "\\item 'business'\n",
       "\\item 'email'\n",
       "\\item 'you'\n",
       "\\item 'credit'\n",
       "\\item 'your'\n",
       "\\item 'font'\n",
       "\\item 'num000'\n",
       "\\item 'money'\n",
       "\\item 'hp'\n",
       "\\item 'hpl'\n",
       "\\item 'george'\n",
       "\\item 'num650'\n",
       "\\item 'lab'\n",
       "\\item 'labs'\n",
       "\\item 'telnet'\n",
       "\\item 'num857'\n",
       "\\item 'data'\n",
       "\\item 'num415'\n",
       "\\item 'num85'\n",
       "\\item 'technology'\n",
       "\\item 'num1999'\n",
       "\\item 'parts'\n",
       "\\item 'pm'\n",
       "\\item 'direct'\n",
       "\\item 'cs'\n",
       "\\item 'meeting'\n",
       "\\item 'original'\n",
       "\\item 'project'\n",
       "\\item 're'\n",
       "\\item 'edu'\n",
       "\\item 'table'\n",
       "\\item 'conference'\n",
       "\\item 'charSemicolon'\n",
       "\\item 'charRoundbracket'\n",
       "\\item 'charSquarebracket'\n",
       "\\item 'charExclamation'\n",
       "\\item 'charDollar'\n",
       "\\item 'charHash'\n",
       "\\item 'capitalAve'\n",
       "\\item 'capitalLong'\n",
       "\\item 'capitalTotal'\n",
       "\\item 'type'\n",
       "\\end{enumerate*}\n"
      ],
      "text/markdown": [
       "1. 'make'\n",
       "2. 'address'\n",
       "3. 'all'\n",
       "4. 'num3d'\n",
       "5. 'our'\n",
       "6. 'over'\n",
       "7. 'remove'\n",
       "8. 'internet'\n",
       "9. 'order'\n",
       "10. 'mail'\n",
       "11. 'receive'\n",
       "12. 'will'\n",
       "13. 'people'\n",
       "14. 'report'\n",
       "15. 'addresses'\n",
       "16. 'free'\n",
       "17. 'business'\n",
       "18. 'email'\n",
       "19. 'you'\n",
       "20. 'credit'\n",
       "21. 'your'\n",
       "22. 'font'\n",
       "23. 'num000'\n",
       "24. 'money'\n",
       "25. 'hp'\n",
       "26. 'hpl'\n",
       "27. 'george'\n",
       "28. 'num650'\n",
       "29. 'lab'\n",
       "30. 'labs'\n",
       "31. 'telnet'\n",
       "32. 'num857'\n",
       "33. 'data'\n",
       "34. 'num415'\n",
       "35. 'num85'\n",
       "36. 'technology'\n",
       "37. 'num1999'\n",
       "38. 'parts'\n",
       "39. 'pm'\n",
       "40. 'direct'\n",
       "41. 'cs'\n",
       "42. 'meeting'\n",
       "43. 'original'\n",
       "44. 'project'\n",
       "45. 're'\n",
       "46. 'edu'\n",
       "47. 'table'\n",
       "48. 'conference'\n",
       "49. 'charSemicolon'\n",
       "50. 'charRoundbracket'\n",
       "51. 'charSquarebracket'\n",
       "52. 'charExclamation'\n",
       "53. 'charDollar'\n",
       "54. 'charHash'\n",
       "55. 'capitalAve'\n",
       "56. 'capitalLong'\n",
       "57. 'capitalTotal'\n",
       "58. 'type'\n",
       "\n",
       "\n"
      ],
      "text/plain": [
       " [1] \"make\"              \"address\"           \"all\"              \n",
       " [4] \"num3d\"             \"our\"               \"over\"             \n",
       " [7] \"remove\"            \"internet\"          \"order\"            \n",
       "[10] \"mail\"              \"receive\"           \"will\"             \n",
       "[13] \"people\"            \"report\"            \"addresses\"        \n",
       "[16] \"free\"              \"business\"          \"email\"            \n",
       "[19] \"you\"               \"credit\"            \"your\"             \n",
       "[22] \"font\"              \"num000\"            \"money\"            \n",
       "[25] \"hp\"                \"hpl\"               \"george\"           \n",
       "[28] \"num650\"            \"lab\"               \"labs\"             \n",
       "[31] \"telnet\"            \"num857\"            \"data\"             \n",
       "[34] \"num415\"            \"num85\"             \"technology\"       \n",
       "[37] \"num1999\"           \"parts\"             \"pm\"               \n",
       "[40] \"direct\"            \"cs\"                \"meeting\"          \n",
       "[43] \"original\"          \"project\"           \"re\"               \n",
       "[46] \"edu\"               \"table\"             \"conference\"       \n",
       "[49] \"charSemicolon\"     \"charRoundbracket\"  \"charSquarebracket\"\n",
       "[52] \"charExclamation\"   \"charDollar\"        \"charHash\"         \n",
       "[55] \"capitalAve\"        \"capitalLong\"       \"capitalTotal\"     \n",
       "[58] \"type\"             "
      ]
     },
     "metadata": {},
     "output_type": "display_data"
    }
   ],
   "source": [
    "names(trainSpam)"
   ]
  },
  {
   "cell_type": "code",
   "execution_count": 33,
   "metadata": {
    "collapsed": false
   },
   "outputs": [
    {
     "data": {
      "text/html": [
       "<table>\n",
       "<thead><tr><th></th><th scope=col>make</th><th scope=col>address</th><th scope=col>all</th><th scope=col>num3d</th><th scope=col>our</th><th scope=col>over</th><th scope=col>remove</th><th scope=col>internet</th><th scope=col>order</th><th scope=col>mail</th><th scope=col>...</th><th scope=col>charSemicolon</th><th scope=col>charRoundbracket</th><th scope=col>charSquarebracket</th><th scope=col>charExclamation</th><th scope=col>charDollar</th><th scope=col>charHash</th><th scope=col>capitalAve</th><th scope=col>capitalLong</th><th scope=col>capitalTotal</th><th scope=col>type</th></tr></thead>\n",
       "<tbody>\n",
       "\t<tr><th scope=row>1</th><td>0.00 </td><td>0.64 </td><td>0.64 </td><td>0    </td><td>0.32 </td><td>0.00 </td><td>0.00 </td><td>0    </td><td>0.00 </td><td>0.00 </td><td>...  </td><td>0.000</td><td>0.000</td><td>0    </td><td>0.778</td><td>0.000</td><td>0.000</td><td>3.756</td><td> 61  </td><td> 278 </td><td>spam </td></tr>\n",
       "\t<tr><th scope=row>7</th><td>0.00 </td><td>0.00 </td><td>0.00 </td><td>0    </td><td>1.92 </td><td>0.00 </td><td>0.00 </td><td>0    </td><td>0.00 </td><td>0.64 </td><td>...  </td><td>0.000</td><td>0.054</td><td>0    </td><td>0.164</td><td>0.054</td><td>0.000</td><td>1.671</td><td>  4  </td><td> 112 </td><td>spam </td></tr>\n",
       "\t<tr><th scope=row>9</th><td>0.15 </td><td>0.00 </td><td>0.46 </td><td>0    </td><td>0.61 </td><td>0.00 </td><td>0.30 </td><td>0    </td><td>0.92 </td><td>0.76 </td><td>...  </td><td>0.000</td><td>0.271</td><td>0    </td><td>0.181</td><td>0.203</td><td>0.022</td><td>9.744</td><td>445  </td><td>1257 </td><td>spam </td></tr>\n",
       "\t<tr><th scope=row>12</th><td>0.00 </td><td>0.00 </td><td>0.25 </td><td>0    </td><td>0.38 </td><td>0.25 </td><td>0.25 </td><td>0    </td><td>0.00 </td><td>0.00 </td><td>...  </td><td>0.022</td><td>0.044</td><td>0    </td><td>0.663</td><td>0.000</td><td>0.000</td><td>1.243</td><td> 11  </td><td> 184 </td><td>spam </td></tr>\n",
       "</tbody>\n",
       "</table>\n"
      ],
      "text/latex": [
       "\\begin{tabular}{r|llllllllllllllllllllllllllllllllllllllllllllllllllllllllll}\n",
       "  & make & address & all & num3d & our & over & remove & internet & order & mail & ... & charSemicolon & charRoundbracket & charSquarebracket & charExclamation & charDollar & charHash & capitalAve & capitalLong & capitalTotal & type\\\\\n",
       "\\hline\n",
       "\t1 & 0.00  & 0.64  & 0.64  & 0     & 0.32  & 0.00  & 0.00  & 0     & 0.00  & 0.00  & ...   & 0.000 & 0.000 & 0     & 0.778 & 0.000 & 0.000 & 3.756 &  61   &  278  & spam \\\\\n",
       "\t7 & 0.00  & 0.00  & 0.00  & 0     & 1.92  & 0.00  & 0.00  & 0     & 0.00  & 0.64  & ...   & 0.000 & 0.054 & 0     & 0.164 & 0.054 & 0.000 & 1.671 &   4   &  112  & spam \\\\\n",
       "\t9 & 0.15  & 0.00  & 0.46  & 0     & 0.61  & 0.00  & 0.30  & 0     & 0.92  & 0.76  & ...   & 0.000 & 0.271 & 0     & 0.181 & 0.203 & 0.022 & 9.744 & 445   & 1257  & spam \\\\\n",
       "\t12 & 0.00  & 0.00  & 0.25  & 0     & 0.38  & 0.25  & 0.25  & 0     & 0.00  & 0.00  & ...   & 0.022 & 0.044 & 0     & 0.663 & 0.000 & 0.000 & 1.243 &  11   &  184  & spam \\\\\n",
       "\\end{tabular}\n"
      ],
      "text/markdown": [
       "\n",
       "| <!--/--> | make | address | all | num3d | our | over | remove | internet | order | mail | ... | charSemicolon | charRoundbracket | charSquarebracket | charExclamation | charDollar | charHash | capitalAve | capitalLong | capitalTotal | type | \n",
       "|---|---|---|---|\n",
       "| 1 | 0.00  | 0.64  | 0.64  | 0     | 0.32  | 0.00  | 0.00  | 0     | 0.00  | 0.00  | ...   | 0.000 | 0.000 | 0     | 0.778 | 0.000 | 0.000 | 3.756 |  61   |  278  | spam  | \n",
       "| 7 | 0.00  | 0.00  | 0.00  | 0     | 1.92  | 0.00  | 0.00  | 0     | 0.00  | 0.64  | ...   | 0.000 | 0.054 | 0     | 0.164 | 0.054 | 0.000 | 1.671 |   4   |  112  | spam  | \n",
       "| 9 | 0.15  | 0.00  | 0.46  | 0     | 0.61  | 0.00  | 0.30  | 0     | 0.92  | 0.76  | ...   | 0.000 | 0.271 | 0     | 0.181 | 0.203 | 0.022 | 9.744 | 445   | 1257  | spam  | \n",
       "| 12 | 0.00  | 0.00  | 0.25  | 0     | 0.38  | 0.25  | 0.25  | 0     | 0.00  | 0.00  | ...   | 0.022 | 0.044 | 0     | 0.663 | 0.000 | 0.000 | 1.243 |  11   |  184  | spam  | \n",
       "\n",
       "\n"
      ],
      "text/plain": [
       "   make address all  num3d our  over remove internet order mail ...\n",
       "1  0.00 0.64    0.64 0     0.32 0.00 0.00   0        0.00  0.00 ...\n",
       "7  0.00 0.00    0.00 0     1.92 0.00 0.00   0        0.00  0.64 ...\n",
       "9  0.15 0.00    0.46 0     0.61 0.00 0.30   0        0.92  0.76 ...\n",
       "12 0.00 0.00    0.25 0     0.38 0.25 0.25   0        0.00  0.00 ...\n",
       "   charSemicolon charRoundbracket charSquarebracket charExclamation charDollar\n",
       "1  0.000         0.000            0                 0.778           0.000     \n",
       "7  0.000         0.054            0                 0.164           0.054     \n",
       "9  0.000         0.271            0                 0.181           0.203     \n",
       "12 0.022         0.044            0                 0.663           0.000     \n",
       "   charHash capitalAve capitalLong capitalTotal type\n",
       "1  0.000    3.756       61          278         spam\n",
       "7  0.000    1.671        4          112         spam\n",
       "9  0.022    9.744      445         1257         spam\n",
       "12 0.000    1.243       11          184         spam"
      ]
     },
     "metadata": {},
     "output_type": "display_data"
    }
   ],
   "source": [
    "head(trainSpam,4)"
   ]
  },
  {
   "cell_type": "code",
   "execution_count": 34,
   "metadata": {
    "collapsed": false
   },
   "outputs": [
    {
     "data": {
      "text/plain": [
       "\n",
       "nonspam    spam \n",
       "   1381     906 "
      ]
     },
     "metadata": {},
     "output_type": "display_data"
    }
   ],
   "source": [
    "table(trainSpam$type)"
   ]
  },
  {
   "cell_type": "code",
   "execution_count": 36,
   "metadata": {
    "collapsed": false
   },
   "outputs": [
    {
     "data": {
      "image/png": "[encoded data removed]",
      "text/plain": [
       "plot without title"
      ]
     },
     "metadata": {},
     "output_type": "display_data"
    }
   ],
   "source": [
    "plot(trainSpam$capitalAve ~ trainSpam$type)"
   ]
  },
  {
   "cell_type": "code",
   "execution_count": 37,
   "metadata": {
    "collapsed": false
   },
   "outputs": [
    {
     "data": {
      "image/png": "[encoded data removed]",
      "text/plain": [
       "plot without title"
      ]
     },
     "metadata": {},
     "output_type": "display_data"
    }
   ],
   "source": [
    "plot(log10(trainSpam$capitalAve + 1) ~ trainSpam$type)"
   ]
  },
  {
   "cell_type": "markdown",
   "metadata": {},
   "source": [
    "## Relationship between predictors"
   ]
  },
  {
   "cell_type": "code",
   "execution_count": 38,
   "metadata": {
    "collapsed": false
   },
   "outputs": [
    {
     "data": {
      "image/png": "[encoded data removed]",
      "text/plain": [
       "plot without title"
      ]
     },
     "metadata": {},
     "output_type": "display_data"
    }
   ],
   "source": [
    "plot(log10(trainSpam[,1:4]+1))"
   ]
  },
  {
   "cell_type": "markdown",
   "metadata": {},
   "source": [
    "## Clustering"
   ]
  },
  {
   "cell_type": "code",
   "execution_count": 39,
   "metadata": {
    "collapsed": false
   },
   "outputs": [
    {
     "data": {
      "image/png": "[encoded data removed]",
      "text/plain": [
       "Plot with title \"Cluster Dendrogram\""
      ]
     },
     "metadata": {},
     "output_type": "display_data"
    }
   ],
   "source": [
    "hCluster = hclust(dist(t(trainSpam[,1:57])))\n",
    "plot(hCluster)"
   ]
  },
  {
   "cell_type": "code",
   "execution_count": null,
   "metadata": {
    "collapsed": true
   },
   "outputs": [],
   "source": []
  }
 ],
 "metadata": {
  "kernelspec": {
   "display_name": "R",
   "language": "R",
   "name": "ir"
  },
  "language_info": {
   "codemirror_mode": "r",
   "file_extension": ".r",
   "mimetype": "text/x-r-source",
   "name": "R",
   "pygments_lexer": "r",
   "version": "3.3.2"
  }
 },
 "nbformat": 4,
 "nbformat_minor": 2
}
