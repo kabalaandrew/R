{
 "cells": [
  {
   "cell_type": "code",
   "execution_count": 2,
   "metadata": {
    "collapsed": false
   },
   "outputs": [
    {
     "name": "stdout",
     "output_type": "stream",
     "text": [
      "  pregnant glucose diastolic triceps insulin  bmi diabetes age test\n",
      "1        6     148        72      35       0 33.6    0.627  50    1\n",
      "2        1      85        66      29       0 26.6    0.351  31    0\n",
      "3        8     183        64       0       0 23.3    0.672  32    1\n",
      "4        1      89        66      23      94 28.1    0.167  21    0\n",
      "5        0     137        40      35     168 43.1    2.288  33    1\n",
      "6        5     116        74       0       0 25.6    0.201  30    0\n"
     ]
    }
   ],
   "source": [
    "library(faraway)\n",
    "data(pima)\n",
    "print(head(pima))"
   ]
  },
  {
   "cell_type": "code",
   "execution_count": 3,
   "metadata": {
    "collapsed": false
   },
   "outputs": [
    {
     "data": {
      "text/plain": [
       "    pregnant         glucose        diastolic         triceps     \n",
       " Min.   : 0.000   Min.   :  0.0   Min.   :  0.00   Min.   : 0.00  \n",
       " 1st Qu.: 1.000   1st Qu.: 99.0   1st Qu.: 62.00   1st Qu.: 0.00  \n",
       " Median : 3.000   Median :117.0   Median : 72.00   Median :23.00  \n",
       " Mean   : 3.845   Mean   :120.9   Mean   : 69.11   Mean   :20.54  \n",
       " 3rd Qu.: 6.000   3rd Qu.:140.2   3rd Qu.: 80.00   3rd Qu.:32.00  \n",
       " Max.   :17.000   Max.   :199.0   Max.   :122.00   Max.   :99.00  \n",
       "    insulin           bmi           diabetes           age       \n",
       " Min.   :  0.0   Min.   : 0.00   Min.   :0.0780   Min.   :21.00  \n",
       " 1st Qu.:  0.0   1st Qu.:27.30   1st Qu.:0.2437   1st Qu.:24.00  \n",
       " Median : 30.5   Median :32.00   Median :0.3725   Median :29.00  \n",
       " Mean   : 79.8   Mean   :31.99   Mean   :0.4719   Mean   :33.24  \n",
       " 3rd Qu.:127.2   3rd Qu.:36.60   3rd Qu.:0.6262   3rd Qu.:41.00  \n",
       " Max.   :846.0   Max.   :67.10   Max.   :2.4200   Max.   :81.00  \n",
       "      test      \n",
       " Min.   :0.000  \n",
       " 1st Qu.:0.000  \n",
       " Median :0.000  \n",
       " Mean   :0.349  \n",
       " 3rd Qu.:1.000  \n",
       " Max.   :1.000  "
      ]
     },
     "metadata": {},
     "output_type": "display_data"
    }
   ],
   "source": [
    "summary(pima)"
   ]
  },
  {
   "cell_type": "code",
   "execution_count": 4,
   "metadata": {
    "collapsed": false
   },
   "outputs": [
    {
     "data": {
      "text/html": [
       "<ol class=list-inline>\n",
       "\t<li>0</li>\n",
       "\t<li>0</li>\n",
       "\t<li>0</li>\n",
       "\t<li>0</li>\n",
       "\t<li>0</li>\n",
       "\t<li>0</li>\n",
       "\t<li>0</li>\n",
       "\t<li>0</li>\n",
       "\t<li>0</li>\n",
       "\t<li>0</li>\n",
       "\t<li>0</li>\n",
       "\t<li>0</li>\n",
       "\t<li>0</li>\n",
       "\t<li>0</li>\n",
       "\t<li>0</li>\n",
       "\t<li>0</li>\n",
       "\t<li>0</li>\n",
       "\t<li>0</li>\n",
       "\t<li>0</li>\n",
       "\t<li>0</li>\n",
       "\t<li>0</li>\n",
       "\t<li>0</li>\n",
       "\t<li>0</li>\n",
       "\t<li>0</li>\n",
       "\t<li>0</li>\n",
       "\t<li>0</li>\n",
       "\t<li>0</li>\n",
       "\t<li>0</li>\n",
       "\t<li>0</li>\n",
       "\t<li>0</li>\n",
       "\t<li>0</li>\n",
       "\t<li>0</li>\n",
       "\t<li>0</li>\n",
       "\t<li>0</li>\n",
       "\t<li>0</li>\n",
       "\t<li>24</li>\n",
       "\t<li>30</li>\n",
       "\t<li>30</li>\n",
       "\t<li>38</li>\n",
       "\t<li>40</li>\n",
       "\t<li>44</li>\n",
       "\t<li>44</li>\n",
       "\t<li>44</li>\n",
       "\t<li>44</li>\n",
       "\t<li>46</li>\n",
       "\t<li>46</li>\n",
       "\t<li>48</li>\n",
       "\t<li>48</li>\n",
       "\t<li>48</li>\n",
       "\t<li>48</li>\n",
       "</ol>\n"
      ],
      "text/latex": [
       "\\begin{enumerate*}\n",
       "\\item 0\n",
       "\\item 0\n",
       "\\item 0\n",
       "\\item 0\n",
       "\\item 0\n",
       "\\item 0\n",
       "\\item 0\n",
       "\\item 0\n",
       "\\item 0\n",
       "\\item 0\n",
       "\\item 0\n",
       "\\item 0\n",
       "\\item 0\n",
       "\\item 0\n",
       "\\item 0\n",
       "\\item 0\n",
       "\\item 0\n",
       "\\item 0\n",
       "\\item 0\n",
       "\\item 0\n",
       "\\item 0\n",
       "\\item 0\n",
       "\\item 0\n",
       "\\item 0\n",
       "\\item 0\n",
       "\\item 0\n",
       "\\item 0\n",
       "\\item 0\n",
       "\\item 0\n",
       "\\item 0\n",
       "\\item 0\n",
       "\\item 0\n",
       "\\item 0\n",
       "\\item 0\n",
       "\\item 0\n",
       "\\item 24\n",
       "\\item 30\n",
       "\\item 30\n",
       "\\item 38\n",
       "\\item 40\n",
       "\\item 44\n",
       "\\item 44\n",
       "\\item 44\n",
       "\\item 44\n",
       "\\item 46\n",
       "\\item 46\n",
       "\\item 48\n",
       "\\item 48\n",
       "\\item 48\n",
       "\\item 48\n",
       "\\end{enumerate*}\n"
      ],
      "text/markdown": [
       "1. 0\n",
       "2. 0\n",
       "3. 0\n",
       "4. 0\n",
       "5. 0\n",
       "6. 0\n",
       "7. 0\n",
       "8. 0\n",
       "9. 0\n",
       "10. 0\n",
       "11. 0\n",
       "12. 0\n",
       "13. 0\n",
       "14. 0\n",
       "15. 0\n",
       "16. 0\n",
       "17. 0\n",
       "18. 0\n",
       "19. 0\n",
       "20. 0\n",
       "21. 0\n",
       "22. 0\n",
       "23. 0\n",
       "24. 0\n",
       "25. 0\n",
       "26. 0\n",
       "27. 0\n",
       "28. 0\n",
       "29. 0\n",
       "30. 0\n",
       "31. 0\n",
       "32. 0\n",
       "33. 0\n",
       "34. 0\n",
       "35. 0\n",
       "36. 24\n",
       "37. 30\n",
       "38. 30\n",
       "39. 38\n",
       "40. 40\n",
       "41. 44\n",
       "42. 44\n",
       "43. 44\n",
       "44. 44\n",
       "45. 46\n",
       "46. 46\n",
       "47. 48\n",
       "48. 48\n",
       "49. 48\n",
       "50. 48\n",
       "\n",
       "\n"
      ],
      "text/plain": [
       " [1]  0  0  0  0  0  0  0  0  0  0  0  0  0  0  0  0  0  0  0  0  0  0  0  0  0\n",
       "[26]  0  0  0  0  0  0  0  0  0  0 24 30 30 38 40 44 44 44 44 46 46 48 48 48 48"
      ]
     },
     "metadata": {},
     "output_type": "display_data"
    }
   ],
   "source": [
    "head(sort(pima$diastolic), 50)"
   ]
  },
  {
   "cell_type": "code",
   "execution_count": 5,
   "metadata": {
    "collapsed": false
   },
   "outputs": [],
   "source": [
    "## Assigning values with zero to NA using \n",
    "pima$diastolic[pima$diastolic==0] <- NA\n",
    "pima$glucose[pima$glucose==0] <- NA\n",
    "pima$triceps[pima$triceps==0] <- NA\n",
    "pima$insulin[pima$insulin==0] <- NA\n",
    "pima$bmi[pima$bmi==0] <- NA"
   ]
  },
  {
   "cell_type": "code",
   "execution_count": 6,
   "metadata": {
    "collapsed": false
   },
   "outputs": [
    {
     "data": {
      "text/html": [
       "<ol class=list-inline>\n",
       "\t<li>72</li>\n",
       "\t<li>66</li>\n",
       "\t<li>64</li>\n",
       "\t<li>66</li>\n",
       "\t<li>40</li>\n",
       "\t<li>74</li>\n",
       "</ol>\n"
      ],
      "text/latex": [
       "\\begin{enumerate*}\n",
       "\\item 72\n",
       "\\item 66\n",
       "\\item 64\n",
       "\\item 66\n",
       "\\item 40\n",
       "\\item 74\n",
       "\\end{enumerate*}\n"
      ],
      "text/markdown": [
       "1. 72\n",
       "2. 66\n",
       "3. 64\n",
       "4. 66\n",
       "5. 40\n",
       "6. 74\n",
       "\n",
       "\n"
      ],
      "text/plain": [
       "[1] 72 66 64 66 40 74"
      ]
     },
     "metadata": {},
     "output_type": "display_data"
    }
   ],
   "source": [
    "head(pima$diastolic)"
   ]
  },
  {
   "cell_type": "code",
   "execution_count": 7,
   "metadata": {
    "collapsed": false
   },
   "outputs": [
    {
     "data": {
      "text/html": [
       "<dl class=dl-horizontal>\n",
       "\t<dt>0</dt>\n",
       "\t\t<dd>500</dd>\n",
       "\t<dt>1</dt>\n",
       "\t\t<dd>268</dd>\n",
       "</dl>\n"
      ],
      "text/latex": [
       "\\begin{description*}\n",
       "\\item[0] 500\n",
       "\\item[1] 268\n",
       "\\end{description*}\n"
      ],
      "text/markdown": [
       "0\n",
       ":   5001\n",
       ":   268\n",
       "\n"
      ],
      "text/plain": [
       "  0   1 \n",
       "500 268 "
      ]
     },
     "metadata": {},
     "output_type": "display_data"
    }
   ],
   "source": [
    "# changing test to factor\n",
    "pima$test <- factor(pima$test)\n",
    "summary(pima$test)"
   ]
  },
  {
   "cell_type": "code",
   "execution_count": 8,
   "metadata": {
    "collapsed": false
   },
   "outputs": [
    {
     "data": {
      "text/plain": [
       "    pregnant         glucose        diastolic         triceps     \n",
       " Min.   : 0.000   Min.   : 44.0   Min.   : 24.00   Min.   : 7.00  \n",
       " 1st Qu.: 1.000   1st Qu.: 99.0   1st Qu.: 64.00   1st Qu.:22.00  \n",
       " Median : 3.000   Median :117.0   Median : 72.00   Median :29.00  \n",
       " Mean   : 3.845   Mean   :121.7   Mean   : 72.41   Mean   :29.15  \n",
       " 3rd Qu.: 6.000   3rd Qu.:141.0   3rd Qu.: 80.00   3rd Qu.:36.00  \n",
       " Max.   :17.000   Max.   :199.0   Max.   :122.00   Max.   :99.00  \n",
       "                  NA's   :5       NA's   :35       NA's   :227    \n",
       "    insulin            bmi           diabetes           age       \n",
       " Min.   : 14.00   Min.   :18.20   Min.   :0.0780   Min.   :21.00  \n",
       " 1st Qu.: 76.25   1st Qu.:27.50   1st Qu.:0.2437   1st Qu.:24.00  \n",
       " Median :125.00   Median :32.30   Median :0.3725   Median :29.00  \n",
       " Mean   :155.55   Mean   :32.46   Mean   :0.4719   Mean   :33.24  \n",
       " 3rd Qu.:190.00   3rd Qu.:36.60   3rd Qu.:0.6262   3rd Qu.:41.00  \n",
       " Max.   :846.00   Max.   :67.10   Max.   :2.4200   Max.   :81.00  \n",
       " NA's   :374      NA's   :11                                      \n",
       "       test    \n",
       " Negative:500  \n",
       " Positive:268  \n",
       "               \n",
       "               \n",
       "               \n",
       "               \n",
       "               "
      ]
     },
     "metadata": {},
     "output_type": "display_data"
    }
   ],
   "source": [
    "levels(pima$test) <- c(\"Negative\", \"Positive\")\n",
    "summary(pima)"
   ]
  },
  {
   "cell_type": "code",
   "execution_count": null,
   "metadata": {
    "collapsed": true
   },
   "outputs": [],
   "source": []
  }
 ],
 "metadata": {
  "kernelspec": {
   "display_name": "R",
   "language": "R",
   "name": "ir"
  },
  "language_info": {
   "codemirror_mode": "r",
   "file_extension": ".r",
   "mimetype": "text/x-r-source",
   "name": "R",
   "pygments_lexer": "r",
   "version": "3.3.2"
  }
 },
 "nbformat": 4,
 "nbformat_minor": 2
}
