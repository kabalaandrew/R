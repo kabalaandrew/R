{
 "cells": [
  {
   "cell_type": "code",
   "execution_count": 2,
   "metadata": {
    "collapsed": false
   },
   "outputs": [
    {
     "name": "stdout",
     "output_type": "stream",
     "text": [
      "  pregnant glucose diastolic triceps insulin  bmi diabetes age test\n",
      "1        6     148        72      35       0 33.6    0.627  50    1\n",
      "2        1      85        66      29       0 26.6    0.351  31    0\n",
      "3        8     183        64       0       0 23.3    0.672  32    1\n",
      "4        1      89        66      23      94 28.1    0.167  21    0\n",
      "5        0     137        40      35     168 43.1    2.288  33    1\n",
      "6        5     116        74       0       0 25.6    0.201  30    0\n"
     ]
    }
   ],
   "source": [
    "library(faraway)\n",
    "data(pima)\n",
    "print(head(pima))"
   ]
  },
  {
   "cell_type": "code",
   "execution_count": 3,
   "metadata": {
    "collapsed": false
   },
   "outputs": [
    {
     "data": {
      "text/plain": [
       "    pregnant         glucose        diastolic         triceps     \n",
       " Min.   : 0.000   Min.   :  0.0   Min.   :  0.00   Min.   : 0.00  \n",
       " 1st Qu.: 1.000   1st Qu.: 99.0   1st Qu.: 62.00   1st Qu.: 0.00  \n",
       " Median : 3.000   Median :117.0   Median : 72.00   Median :23.00  \n",
       " Mean   : 3.845   Mean   :120.9   Mean   : 69.11   Mean   :20.54  \n",
       " 3rd Qu.: 6.000   3rd Qu.:140.2   3rd Qu.: 80.00   3rd Qu.:32.00  \n",
       " Max.   :17.000   Max.   :199.0   Max.   :122.00   Max.   :99.00  \n",
       "    insulin           bmi           diabetes           age       \n",
       " Min.   :  0.0   Min.   : 0.00   Min.   :0.0780   Min.   :21.00  \n",
       " 1st Qu.:  0.0   1st Qu.:27.30   1st Qu.:0.2437   1st Qu.:24.00  \n",
       " Median : 30.5   Median :32.00   Median :0.3725   Median :29.00  \n",
       " Mean   : 79.8   Mean   :31.99   Mean   :0.4719   Mean   :33.24  \n",
       " 3rd Qu.:127.2   3rd Qu.:36.60   3rd Qu.:0.6262   3rd Qu.:41.00  \n",
       " Max.   :846.0   Max.   :67.10   Max.   :2.4200   Max.   :81.00  \n",
       "      test      \n",
       " Min.   :0.000  \n",
       " 1st Qu.:0.000  \n",
       " Median :0.000  \n",
       " Mean   :0.349  \n",
       " 3rd Qu.:1.000  \n",
       " Max.   :1.000  "
      ]
     },
     "metadata": {},
     "output_type": "display_data"
    }
   ],
   "source": [
    "summary(pima)"
   ]
  },
  {
   "cell_type": "code",
   "execution_count": 4,
   "metadata": {
    "collapsed": false
   },
   "outputs": [
    {
     "data": {
      "text/html": [
       "<ol class=list-inline>\n",
       "\t<li>0</li>\n",
       "\t<li>0</li>\n",
       "\t<li>0</li>\n",
       "\t<li>0</li>\n",
       "\t<li>0</li>\n",
       "\t<li>0</li>\n",
       "\t<li>0</li>\n",
       "\t<li>0</li>\n",
       "\t<li>0</li>\n",
       "\t<li>0</li>\n",
       "\t<li>0</li>\n",
       "\t<li>0</li>\n",
       "\t<li>0</li>\n",
       "\t<li>0</li>\n",
       "\t<li>0</li>\n",
       "\t<li>0</li>\n",
       "\t<li>0</li>\n",
       "\t<li>0</li>\n",
       "\t<li>0</li>\n",
       "\t<li>0</li>\n",
       "\t<li>0</li>\n",
       "\t<li>0</li>\n",
       "\t<li>0</li>\n",
       "\t<li>0</li>\n",
       "\t<li>0</li>\n",
       "\t<li>0</li>\n",
       "\t<li>0</li>\n",
       "\t<li>0</li>\n",
       "\t<li>0</li>\n",
       "\t<li>0</li>\n",
       "\t<li>0</li>\n",
       "\t<li>0</li>\n",
       "\t<li>0</li>\n",
       "\t<li>0</li>\n",
       "\t<li>0</li>\n",
       "\t<li>24</li>\n",
       "\t<li>30</li>\n",
       "\t<li>30</li>\n",
       "\t<li>38</li>\n",
       "\t<li>40</li>\n",
       "\t<li>44</li>\n",
       "\t<li>44</li>\n",
       "\t<li>44</li>\n",
       "\t<li>44</li>\n",
       "\t<li>46</li>\n",
       "\t<li>46</li>\n",
       "\t<li>48</li>\n",
       "\t<li>48</li>\n",
       "\t<li>48</li>\n",
       "\t<li>48</li>\n",
       "</ol>\n"
      ],
      "text/latex": [
       "\\begin{enumerate*}\n",
       "\\item 0\n",
       "\\item 0\n",
       "\\item 0\n",
       "\\item 0\n",
       "\\item 0\n",
       "\\item 0\n",
       "\\item 0\n",
       "\\item 0\n",
       "\\item 0\n",
       "\\item 0\n",
       "\\item 0\n",
       "\\item 0\n",
       "\\item 0\n",
       "\\item 0\n",
       "\\item 0\n",
       "\\item 0\n",
       "\\item 0\n",
       "\\item 0\n",
       "\\item 0\n",
       "\\item 0\n",
       "\\item 0\n",
       "\\item 0\n",
       "\\item 0\n",
       "\\item 0\n",
       "\\item 0\n",
       "\\item 0\n",
       "\\item 0\n",
       "\\item 0\n",
       "\\item 0\n",
       "\\item 0\n",
       "\\item 0\n",
       "\\item 0\n",
       "\\item 0\n",
       "\\item 0\n",
       "\\item 0\n",
       "\\item 24\n",
       "\\item 30\n",
       "\\item 30\n",
       "\\item 38\n",
       "\\item 40\n",
       "\\item 44\n",
       "\\item 44\n",
       "\\item 44\n",
       "\\item 44\n",
       "\\item 46\n",
       "\\item 46\n",
       "\\item 48\n",
       "\\item 48\n",
       "\\item 48\n",
       "\\item 48\n",
       "\\end{enumerate*}\n"
      ],
      "text/markdown": [
       "1. 0\n",
       "2. 0\n",
       "3. 0\n",
       "4. 0\n",
       "5. 0\n",
       "6. 0\n",
       "7. 0\n",
       "8. 0\n",
       "9. 0\n",
       "10. 0\n",
       "11. 0\n",
       "12. 0\n",
       "13. 0\n",
       "14. 0\n",
       "15. 0\n",
       "16. 0\n",
       "17. 0\n",
       "18. 0\n",
       "19. 0\n",
       "20. 0\n",
       "21. 0\n",
       "22. 0\n",
       "23. 0\n",
       "24. 0\n",
       "25. 0\n",
       "26. 0\n",
       "27. 0\n",
       "28. 0\n",
       "29. 0\n",
       "30. 0\n",
       "31. 0\n",
       "32. 0\n",
       "33. 0\n",
       "34. 0\n",
       "35. 0\n",
       "36. 24\n",
       "37. 30\n",
       "38. 30\n",
       "39. 38\n",
       "40. 40\n",
       "41. 44\n",
       "42. 44\n",
       "43. 44\n",
       "44. 44\n",
       "45. 46\n",
       "46. 46\n",
       "47. 48\n",
       "48. 48\n",
       "49. 48\n",
       "50. 48\n",
       "\n",
       "\n"
      ],
      "text/plain": [
       " [1]  0  0  0  0  0  0  0  0  0  0  0  0  0  0  0  0  0  0  0  0  0  0  0  0  0\n",
       "[26]  0  0  0  0  0  0  0  0  0  0 24 30 30 38 40 44 44 44 44 46 46 48 48 48 48"
      ]
     },
     "metadata": {},
     "output_type": "display_data"
    }
   ],
   "source": [
    "head(sort(pima$diastolic), 50)"
   ]
  },
  {
   "cell_type": "code",
   "execution_count": 5,
   "metadata": {
    "collapsed": false
   },
   "outputs": [],
   "source": [
    "## Assigning values with zero to NA using \n",
    "pima$diastolic[pima$diastolic==0] <- NA\n",
    "pima$glucose[pima$glucose==0] <- NA\n",
    "pima$triceps[pima$triceps==0] <- NA\n",
    "pima$insulin[pima$insulin==0] <- NA\n",
    "pima$bmi[pima$bmi==0] <- NA"
   ]
  },
  {
   "cell_type": "code",
   "execution_count": 6,
   "metadata": {
    "collapsed": false
   },
   "outputs": [
    {
     "data": {
      "text/html": [
       "<ol class=list-inline>\n",
       "\t<li>72</li>\n",
       "\t<li>66</li>\n",
       "\t<li>64</li>\n",
       "\t<li>66</li>\n",
       "\t<li>40</li>\n",
       "\t<li>74</li>\n",
       "</ol>\n"
      ],
      "text/latex": [
       "\\begin{enumerate*}\n",
       "\\item 72\n",
       "\\item 66\n",
       "\\item 64\n",
       "\\item 66\n",
       "\\item 40\n",
       "\\item 74\n",
       "\\end{enumerate*}\n"
      ],
      "text/markdown": [
       "1. 72\n",
       "2. 66\n",
       "3. 64\n",
       "4. 66\n",
       "5. 40\n",
       "6. 74\n",
       "\n",
       "\n"
      ],
      "text/plain": [
       "[1] 72 66 64 66 40 74"
      ]
     },
     "metadata": {},
     "output_type": "display_data"
    }
   ],
   "source": [
    "head(pima$diastolic)"
   ]
  },
  {
   "cell_type": "code",
   "execution_count": 7,
   "metadata": {
    "collapsed": false
   },
   "outputs": [
    {
     "data": {
      "text/html": [
       "<dl class=dl-horizontal>\n",
       "\t<dt>0</dt>\n",
       "\t\t<dd>500</dd>\n",
       "\t<dt>1</dt>\n",
       "\t\t<dd>268</dd>\n",
       "</dl>\n"
      ],
      "text/latex": [
       "\\begin{description*}\n",
       "\\item[0] 500\n",
       "\\item[1] 268\n",
       "\\end{description*}\n"
      ],
      "text/markdown": [
       "0\n",
       ":   5001\n",
       ":   268\n",
       "\n"
      ],
      "text/plain": [
       "  0   1 \n",
       "500 268 "
      ]
     },
     "metadata": {},
     "output_type": "display_data"
    }
   ],
   "source": [
    "# changing test to factor\n",
    "pima$test <- factor(pima$test)\n",
    "summary(pima$test)"
   ]
  },
  {
   "cell_type": "code",
   "execution_count": 8,
   "metadata": {
    "collapsed": false
   },
   "outputs": [
    {
     "data": {
      "text/plain": [
       "    pregnant         glucose        diastolic         triceps     \n",
       " Min.   : 0.000   Min.   : 44.0   Min.   : 24.00   Min.   : 7.00  \n",
       " 1st Qu.: 1.000   1st Qu.: 99.0   1st Qu.: 64.00   1st Qu.:22.00  \n",
       " Median : 3.000   Median :117.0   Median : 72.00   Median :29.00  \n",
       " Mean   : 3.845   Mean   :121.7   Mean   : 72.41   Mean   :29.15  \n",
       " 3rd Qu.: 6.000   3rd Qu.:141.0   3rd Qu.: 80.00   3rd Qu.:36.00  \n",
       " Max.   :17.000   Max.   :199.0   Max.   :122.00   Max.   :99.00  \n",
       "                  NA's   :5       NA's   :35       NA's   :227    \n",
       "    insulin            bmi           diabetes           age       \n",
       " Min.   : 14.00   Min.   :18.20   Min.   :0.0780   Min.   :21.00  \n",
       " 1st Qu.: 76.25   1st Qu.:27.50   1st Qu.:0.2437   1st Qu.:24.00  \n",
       " Median :125.00   Median :32.30   Median :0.3725   Median :29.00  \n",
       " Mean   :155.55   Mean   :32.46   Mean   :0.4719   Mean   :33.24  \n",
       " 3rd Qu.:190.00   3rd Qu.:36.60   3rd Qu.:0.6262   3rd Qu.:41.00  \n",
       " Max.   :846.00   Max.   :67.10   Max.   :2.4200   Max.   :81.00  \n",
       " NA's   :374      NA's   :11                                      \n",
       "       test    \n",
       " Negative:500  \n",
       " Positive:268  \n",
       "               \n",
       "               \n",
       "               \n",
       "               \n",
       "               "
      ]
     },
     "metadata": {},
     "output_type": "display_data"
    }
   ],
   "source": [
    "levels(pima$test) <- c(\"Negative\", \"Positive\")\n",
    "summary(pima)"
   ]
  },
  {
   "cell_type": "code",
   "execution_count": 15,
   "metadata": {
    "collapsed": false
   },
   "outputs": [
    {
     "data": {
      "image/png": "[encoded data removed]",
      "text/plain": [
       "Plot with title \"density.default(x = pima$diastolic, na.rm = TRUE)\""
      ]
     },
     "metadata": {},
     "output_type": "display_data"
    }
   ],
   "source": [
    "par(mfrow=c(3, 1))\n",
    "hist(pima$diastolic)\n",
    "plot(density(pima$diastolic, na.rm=TRUE))\n",
    "plot(sort(pima$diastolic), pch=\".\")"
   ]
  },
  {
   "cell_type": "code",
   "execution_count": 16,
   "metadata": {
    "collapsed": false
   },
   "outputs": [
    {
     "data": {
      "image/png": "[encoded data removed]",
      "text/plain": [
       "plot without title"
      ]
     },
     "metadata": {},
     "output_type": "display_data"
    }
   ],
   "source": [
    "# Bivariate plots\n",
    "par(mfrow=c(1, 2))\n",
    "plot(diabetes ~ diastolic, pima)\n",
    "plot(diabetes ~ test, pima)"
   ]
  },
  {
   "cell_type": "code",
   "execution_count": 25,
   "metadata": {
    "collapsed": false
   },
   "outputs": [
    {
     "data": {
      "image/png": "[encoded data removed]",
      "text/plain": [
       "plot without title"
      ]
     },
     "metadata": {},
     "output_type": "display_data"
    }
   ],
   "source": [
    "## Correlation plots\n",
    "pairs(pima, lower.panel=panel.smooth)"
   ]
  },
  {
   "cell_type": "code",
   "execution_count": 30,
   "metadata": {
    "collapsed": false
   },
   "outputs": [
    {
     "data": {
      "text/html": [
       "<table>\n",
       "<thead><tr><th></th><th scope=col>Species</th><th scope=col>Endemics</th><th scope=col>Area</th><th scope=col>Elevation</th><th scope=col>Nearest</th><th scope=col>Scruz</th><th scope=col>Adjacent</th></tr></thead>\n",
       "<tbody>\n",
       "\t<tr><th scope=row>Baltra</th><td>58    </td><td>23    </td><td>25.09 </td><td>346   </td><td>0.6   </td><td> 0.6  </td><td>  1.84</td></tr>\n",
       "\t<tr><th scope=row>Bartolome</th><td>31    </td><td>21    </td><td> 1.24 </td><td>109   </td><td>0.6   </td><td>26.3  </td><td>572.33</td></tr>\n",
       "\t<tr><th scope=row>Caldwell</th><td> 3    </td><td> 3    </td><td> 0.21 </td><td>114   </td><td>2.8   </td><td>58.7  </td><td>  0.78</td></tr>\n",
       "\t<tr><th scope=row>Champion</th><td>25    </td><td> 9    </td><td> 0.10 </td><td> 46   </td><td>1.9   </td><td>47.4  </td><td>  0.18</td></tr>\n",
       "\t<tr><th scope=row>Coamano</th><td> 2    </td><td> 1    </td><td> 0.05 </td><td> 77   </td><td>1.9   </td><td> 1.9  </td><td>903.82</td></tr>\n",
       "\t<tr><th scope=row>Daphne.Major</th><td>18    </td><td>11    </td><td> 0.34 </td><td>119   </td><td>8.0   </td><td> 8.0  </td><td>  1.84</td></tr>\n",
       "</tbody>\n",
       "</table>\n"
      ],
      "text/latex": [
       "\\begin{tabular}{r|lllllll}\n",
       "  & Species & Endemics & Area & Elevation & Nearest & Scruz & Adjacent\\\\\n",
       "\\hline\n",
       "\tBaltra & 58     & 23     & 25.09  & 346    & 0.6    &  0.6   &   1.84\\\\\n",
       "\tBartolome & 31     & 21     &  1.24  & 109    & 0.6    & 26.3   & 572.33\\\\\n",
       "\tCaldwell &  3     &  3     &  0.21  & 114    & 2.8    & 58.7   &   0.78\\\\\n",
       "\tChampion & 25     &  9     &  0.10  &  46    & 1.9    & 47.4   &   0.18\\\\\n",
       "\tCoamano &  2     &  1     &  0.05  &  77    & 1.9    &  1.9   & 903.82\\\\\n",
       "\tDaphne.Major & 18     & 11     &  0.34  & 119    & 8.0    &  8.0   &   1.84\\\\\n",
       "\\end{tabular}\n"
      ],
      "text/markdown": [
       "\n",
       "| <!--/--> | Species | Endemics | Area | Elevation | Nearest | Scruz | Adjacent | \n",
       "|---|---|---|---|---|---|\n",
       "| Baltra | 58     | 23     | 25.09  | 346    | 0.6    |  0.6   |   1.84 | \n",
       "| Bartolome | 31     | 21     |  1.24  | 109    | 0.6    | 26.3   | 572.33 | \n",
       "| Caldwell |  3     |  3     |  0.21  | 114    | 2.8    | 58.7   |   0.78 | \n",
       "| Champion | 25     |  9     |  0.10  |  46    | 1.9    | 47.4   |   0.18 | \n",
       "| Coamano |  2     |  1     |  0.05  |  77    | 1.9    |  1.9   | 903.82 | \n",
       "| Daphne.Major | 18     | 11     |  0.34  | 119    | 8.0    |  8.0   |   1.84 | \n",
       "\n",
       "\n"
      ],
      "text/plain": [
       "             Species Endemics Area  Elevation Nearest Scruz Adjacent\n",
       "Baltra       58      23       25.09 346       0.6      0.6    1.84  \n",
       "Bartolome    31      21        1.24 109       0.6     26.3  572.33  \n",
       "Caldwell      3       3        0.21 114       2.8     58.7    0.78  \n",
       "Champion     25       9        0.10  46       1.9     47.4    0.18  \n",
       "Coamano       2       1        0.05  77       1.9      1.9  903.82  \n",
       "Daphne.Major 18      11        0.34 119       8.0      8.0    1.84  "
      ]
     },
     "metadata": {},
     "output_type": "display_data"
    }
   ],
   "source": [
    "data(gala)\n",
    "head(gala)"
   ]
  },
  {
   "cell_type": "code",
   "execution_count": 31,
   "metadata": {
    "collapsed": false
   },
   "outputs": [
    {
     "data": {
      "text/plain": [
       "\n",
       "Call:\n",
       "lm(formula = Species ~ Area + Elevation + Nearest + Scruz + Adjacent, \n",
       "    data = gala)\n",
       "\n",
       "Residuals:\n",
       "     Min       1Q   Median       3Q      Max \n",
       "-111.679  -34.898   -7.862   33.460  182.584 \n",
       "\n",
       "Coefficients:\n",
       "             Estimate Std. Error t value Pr(>|t|)    \n",
       "(Intercept)  7.068221  19.154198   0.369 0.715351    \n",
       "Area        -0.023938   0.022422  -1.068 0.296318    \n",
       "Elevation    0.319465   0.053663   5.953 3.82e-06 ***\n",
       "Nearest      0.009144   1.054136   0.009 0.993151    \n",
       "Scruz       -0.240524   0.215402  -1.117 0.275208    \n",
       "Adjacent    -0.074805   0.017700  -4.226 0.000297 ***\n",
       "---\n",
       "Signif. codes:  0 '***' 0.001 '**' 0.01 '*' 0.05 '.' 0.1 ' ' 1\n",
       "\n",
       "Residual standard error: 60.98 on 24 degrees of freedom\n",
       "Multiple R-squared:  0.7658,\tAdjusted R-squared:  0.7171 \n",
       "F-statistic:  15.7 on 5 and 24 DF,  p-value: 6.838e-07\n"
      ]
     },
     "metadata": {},
     "output_type": "display_data"
    }
   ],
   "source": [
    "gfit <- lm(Species ~ Area + Elevation + Nearest + Scruz + Adjacent, data=gala)\n",
    "summary(gfit)"
   ]
  },
  {
   "cell_type": "code",
   "execution_count": 32,
   "metadata": {
    "collapsed": false
   },
   "outputs": [
    {
     "data": {
      "text/html": [
       "<table>\n",
       "<thead><tr><th></th><th scope=col>(Intercept)</th><th scope=col>Area</th><th scope=col>Elevation</th><th scope=col>Nearest</th><th scope=col>Scruz</th><th scope=col>Adjacent</th></tr></thead>\n",
       "<tbody>\n",
       "\t<tr><th scope=row>(Intercept)</th><td> 9.867829e-02</td><td> 3.778242e-05</td><td>-1.561976e-04</td><td>-2.339027e-04</td><td>-3.760293e-04</td><td> 2.309832e-05</td></tr>\n",
       "\t<tr><th scope=row>Area</th><td> 3.778242e-05</td><td> 1.352247e-07</td><td>-2.593617e-07</td><td> 1.294003e-06</td><td>-4.913149e-08</td><td> 4.620303e-08</td></tr>\n",
       "\t<tr><th scope=row>Elevation</th><td>-1.561976e-04</td><td>-2.593617e-07</td><td> 7.745339e-07</td><td>-3.549366e-06</td><td> 3.080831e-07</td><td>-1.640241e-07</td></tr>\n",
       "\t<tr><th scope=row>Nearest</th><td>-2.339027e-04</td><td> 1.294003e-06</td><td>-3.549366e-06</td><td> 2.988732e-04</td><td>-3.821077e-05</td><td> 1.424729e-06</td></tr>\n",
       "\t<tr><th scope=row>Scruz</th><td>-3.760293e-04</td><td>-4.913149e-08</td><td> 3.080831e-07</td><td>-3.821077e-05</td><td> 1.247941e-05</td><td>-1.958356e-07</td></tr>\n",
       "\t<tr><th scope=row>Adjacent</th><td> 2.309832e-05</td><td> 4.620303e-08</td><td>-1.640241e-07</td><td> 1.424729e-06</td><td>-1.958356e-07</td><td> 8.426543e-08</td></tr>\n",
       "</tbody>\n",
       "</table>\n"
      ],
      "text/latex": [
       "\\begin{tabular}{r|llllll}\n",
       "  & (Intercept) & Area & Elevation & Nearest & Scruz & Adjacent\\\\\n",
       "\\hline\n",
       "\t(Intercept) &  9.867829e-02 &  3.778242e-05 & -1.561976e-04 & -2.339027e-04 & -3.760293e-04 &  2.309832e-05\\\\\n",
       "\tArea &  3.778242e-05 &  1.352247e-07 & -2.593617e-07 &  1.294003e-06 & -4.913149e-08 &  4.620303e-08\\\\\n",
       "\tElevation & -1.561976e-04 & -2.593617e-07 &  7.745339e-07 & -3.549366e-06 &  3.080831e-07 & -1.640241e-07\\\\\n",
       "\tNearest & -2.339027e-04 &  1.294003e-06 & -3.549366e-06 &  2.988732e-04 & -3.821077e-05 &  1.424729e-06\\\\\n",
       "\tScruz & -3.760293e-04 & -4.913149e-08 &  3.080831e-07 & -3.821077e-05 &  1.247941e-05 & -1.958356e-07\\\\\n",
       "\tAdjacent &  2.309832e-05 &  4.620303e-08 & -1.640241e-07 &  1.424729e-06 & -1.958356e-07 &  8.426543e-08\\\\\n",
       "\\end{tabular}\n"
      ],
      "text/markdown": [
       "\n",
       "| <!--/--> | (Intercept) | Area | Elevation | Nearest | Scruz | Adjacent | \n",
       "|---|---|---|---|---|---|\n",
       "| (Intercept) |  9.867829e-02 |  3.778242e-05 | -1.561976e-04 | -2.339027e-04 | -3.760293e-04 |  2.309832e-05 | \n",
       "| Area |  3.778242e-05 |  1.352247e-07 | -2.593617e-07 |  1.294003e-06 | -4.913149e-08 |  4.620303e-08 | \n",
       "| Elevation | -1.561976e-04 | -2.593617e-07 |  7.745339e-07 | -3.549366e-06 |  3.080831e-07 | -1.640241e-07 | \n",
       "| Nearest | -2.339027e-04 |  1.294003e-06 | -3.549366e-06 |  2.988732e-04 | -3.821077e-05 |  1.424729e-06 | \n",
       "| Scruz | -3.760293e-04 | -4.913149e-08 |  3.080831e-07 | -3.821077e-05 |  1.247941e-05 | -1.958356e-07 | \n",
       "| Adjacent |  2.309832e-05 |  4.620303e-08 | -1.640241e-07 |  1.424729e-06 | -1.958356e-07 |  8.426543e-08 | \n",
       "\n",
       "\n"
      ],
      "text/plain": [
       "            (Intercept)   Area          Elevation     Nearest      \n",
       "(Intercept)  9.867829e-02  3.778242e-05 -1.561976e-04 -2.339027e-04\n",
       "Area         3.778242e-05  1.352247e-07 -2.593617e-07  1.294003e-06\n",
       "Elevation   -1.561976e-04 -2.593617e-07  7.745339e-07 -3.549366e-06\n",
       "Nearest     -2.339027e-04  1.294003e-06 -3.549366e-06  2.988732e-04\n",
       "Scruz       -3.760293e-04 -4.913149e-08  3.080831e-07 -3.821077e-05\n",
       "Adjacent     2.309832e-05  4.620303e-08 -1.640241e-07  1.424729e-06\n",
       "            Scruz         Adjacent     \n",
       "(Intercept) -3.760293e-04  2.309832e-05\n",
       "Area        -4.913149e-08  4.620303e-08\n",
       "Elevation    3.080831e-07 -1.640241e-07\n",
       "Nearest     -3.821077e-05  1.424729e-06\n",
       "Scruz        1.247941e-05 -1.958356e-07\n",
       "Adjacent    -1.958356e-07  8.426543e-08"
      ]
     },
     "metadata": {},
     "output_type": "display_data"
    }
   ],
   "source": [
    "gs <- summary(gfit)\n",
    "gs$cov.unscaled"
   ]
  },
  {
   "cell_type": "code",
   "execution_count": 33,
   "metadata": {
    "collapsed": false
   },
   "outputs": [
    {
     "data": {
      "text/html": [
       "<ol class=list-inline>\n",
       "\t<li>'call'</li>\n",
       "\t<li>'terms'</li>\n",
       "\t<li>'residuals'</li>\n",
       "\t<li>'coefficients'</li>\n",
       "\t<li>'aliased'</li>\n",
       "\t<li>'sigma'</li>\n",
       "\t<li>'df'</li>\n",
       "\t<li>'r.squared'</li>\n",
       "\t<li>'adj.r.squared'</li>\n",
       "\t<li>'fstatistic'</li>\n",
       "\t<li>'cov.unscaled'</li>\n",
       "</ol>\n"
      ],
      "text/latex": [
       "\\begin{enumerate*}\n",
       "\\item 'call'\n",
       "\\item 'terms'\n",
       "\\item 'residuals'\n",
       "\\item 'coefficients'\n",
       "\\item 'aliased'\n",
       "\\item 'sigma'\n",
       "\\item 'df'\n",
       "\\item 'r.squared'\n",
       "\\item 'adj.r.squared'\n",
       "\\item 'fstatistic'\n",
       "\\item 'cov.unscaled'\n",
       "\\end{enumerate*}\n"
      ],
      "text/markdown": [
       "1. 'call'\n",
       "2. 'terms'\n",
       "3. 'residuals'\n",
       "4. 'coefficients'\n",
       "5. 'aliased'\n",
       "6. 'sigma'\n",
       "7. 'df'\n",
       "8. 'r.squared'\n",
       "9. 'adj.r.squared'\n",
       "10. 'fstatistic'\n",
       "11. 'cov.unscaled'\n",
       "\n",
       "\n"
      ],
      "text/plain": [
       " [1] \"call\"          \"terms\"         \"residuals\"     \"coefficients\" \n",
       " [5] \"aliased\"       \"sigma\"         \"df\"            \"r.squared\"    \n",
       " [9] \"adj.r.squared\" \"fstatistic\"    \"cov.unscaled\" "
      ]
     },
     "metadata": {},
     "output_type": "display_data"
    }
   ],
   "source": [
    "names(gs)"
   ]
  },
  {
   "cell_type": "code",
   "execution_count": 37,
   "metadata": {
    "collapsed": false
   },
   "outputs": [
    {
     "name": "stdout",
     "output_type": "stream",
     "text": [
      "      Baltra    Bartolome     Caldwell     Champion      Coamano Daphne.Major \n",
      " 116.7259460   -7.2731544   29.3306594   10.3642660  -36.3839155   43.0877052 \n",
      "Daphne.Minor       Darwin         Eden      Enderby     Espanola   Fernandina \n",
      "  33.9196678   -9.0189919   28.3142017   30.7859425   47.6564865   96.9895982 \n",
      "    Gardner1     Gardner2     Genovesa      Isabela     Marchena       Onslow \n",
      "  -4.0332759   64.6337956   -0.4971756  386.4035578   88.6945404    4.0372328 \n",
      "       Pinta       Pinzon   Las.Plazas       Rabida SanCristobal  SanSalvador \n",
      " 215.6794862  150.4753750   35.0758066   75.5531221  206.9518779  277.6763183 \n",
      "   SantaCruz      SantaFe   SantaMaria      Seymour      Tortuga         Wolf \n",
      " 261.4164131   85.3764857  195.6166286   49.8050946   52.9357316   26.7005735 \n",
      "      Baltra    Bartolome     Caldwell     Champion      Coamano Daphne.Major \n",
      "  -58.725946    38.273154   -26.330659    14.635734    38.383916   -25.087705 \n",
      "Daphne.Minor       Darwin         Eden      Enderby     Espanola   Fernandina \n",
      "   -9.919668    19.018992   -20.314202   -28.785943    49.343513    -3.989598 \n",
      "    Gardner1     Gardner2     Genovesa      Isabela     Marchena       Onslow \n",
      "   62.033276   -59.633796    40.497176   -39.403558   -37.694540    -2.037233 \n",
      "       Pinta       Pinzon   Las.Plazas       Rabida SanCristobal  SanSalvador \n",
      " -111.679486   -42.475375   -23.075807    -5.553122    73.048122   -40.676318 \n",
      "   SantaCruz      SantaFe   SantaMaria      Seymour      Tortuga         Wolf \n",
      "  182.583587   -23.376486    89.383371    -5.805095   -36.935732    -5.700573 \n"
     ]
    }
   ],
   "source": [
    "# fitted values\n",
    "print(gfit$fit)\n"
   ]
  },
  {
   "cell_type": "code",
   "execution_count": 38,
   "metadata": {
    "collapsed": false
   },
   "outputs": [
    {
     "name": "stdout",
     "output_type": "stream",
     "text": [
      "      Baltra    Bartolome     Caldwell     Champion      Coamano Daphne.Major \n",
      "  -58.725946    38.273154   -26.330659    14.635734    38.383916   -25.087705 \n",
      "Daphne.Minor       Darwin         Eden      Enderby     Espanola   Fernandina \n",
      "   -9.919668    19.018992   -20.314202   -28.785943    49.343513    -3.989598 \n",
      "    Gardner1     Gardner2     Genovesa      Isabela     Marchena       Onslow \n",
      "   62.033276   -59.633796    40.497176   -39.403558   -37.694540    -2.037233 \n",
      "       Pinta       Pinzon   Las.Plazas       Rabida SanCristobal  SanSalvador \n",
      " -111.679486   -42.475375   -23.075807    -5.553122    73.048122   -40.676318 \n",
      "   SantaCruz      SantaFe   SantaMaria      Seymour      Tortuga         Wolf \n",
      "  182.583587   -23.376486    89.383371    -5.805095   -36.935732    -5.700573 \n"
     ]
    }
   ],
   "source": [
    "# residuals\n",
    "print(gfit$res)"
   ]
  },
  {
   "cell_type": "code",
   "execution_count": null,
   "metadata": {
    "collapsed": true
   },
   "outputs": [],
   "source": []
  }
 ],
 "metadata": {
  "kernelspec": {
   "display_name": "R",
   "language": "R",
   "name": "ir"
  },
  "language_info": {
   "codemirror_mode": "r",
   "file_extension": ".r",
   "mimetype": "text/x-r-source",
   "name": "R",
   "pygments_lexer": "r",
   "version": "3.3.2"
  }
 },
 "nbformat": 4,
 "nbformat_minor": 2
}
