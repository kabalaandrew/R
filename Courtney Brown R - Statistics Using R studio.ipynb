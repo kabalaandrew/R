{
 "cells": [
  {
   "cell_type": "code",
   "execution_count": 1,
   "metadata": {
    "collapsed": false
   },
   "outputs": [],
   "source": [
    "# Variables\n",
    "# YEAR \n",
    "# RCONG= REPUBLICAN CONGRESSIONAL VOTE \n",
    "# DCONG= DEMOCRATIC CONGRESSIONAL VOTE \n",
    "# RPRES= REPUBLICAN PRESIDENTIAL VOTE \n",
    "# DPRES= DEMOCRATIC PRESIDENTIAL VOTE\n",
    "# G= 1 ON YEAR ELECTION, 0 OFF YEAR \n",
    "# PRCONT= 1 REP CONTROLS PRES., 0 DEM CONTROLS\n",
    "# PDCONT= 1 DEM CONTROLS PRES., 0 REP CONTROLS\n",
    "# TOTPRES= TOTAL PRESIDENTIAL VOTE\n",
    "# TOTCONG= TOTAL CONGRESSIONAL VOTE\n",
    "# RREP= NUMBER OF REPUBLICAN REPRESENTATIVES\n",
    "# DREP= NUMBER OF DEMOCRATIC REPRESENTATIVES\n",
    "# TR= VOTE FOR T. ROOSEVELT, BULL MOOSE, 1912\n",
    "# INFLAT= PRICE INDEX, 1967 IS 100\n",
    "# PREVINFL= PRICE INDEX FOR THE PREVIOUS YEAR\n",
    "# PREVGNP= GNP FOR THE PREVIOUS YEAR\n",
    "# GNP= GROSS NATIONAL PRODUCT IN 1958 DOLLARS\n",
    "# TOTPOP18= TOTAL POPULATION 18 YEARS OR OLDER\n",
    "# ELIGIBLE \n",
    "# MRCONG= MOBILIZED REP CONG VOTE PROP\n",
    "# MDCONG= MOBILIZED DEM CONG VOTE PROP\n",
    "# MRPRES= MOBILIZED REP PRES VOTE PROP\n",
    "# MDPRES= MOBILIZED DEM PRES VOTE PROP\n",
    "# MTOTCONG= MOBILIZED TOTAL CONG VOTE PROP\n",
    "# MTOTPRES= MOBILIZED TOTAL PRES VOTE PROP\n",
    "# MTR= \n",
    "# VRCONG= \n",
    "# VDCONG= \n",
    "# VRPRES= \n",
    "# VDPRES= \n",
    "# VTOTCONG= \n",
    "# VTOTPRES= \n",
    "# VTR= \n",
    "# LMRCONG= LAG OF MOBIL. REP CONG VOTE PROP\n",
    "# LMDCONG= LAG OF MOBIL. DEM CONG VOTE PROP\n",
    "# LRREP= \n",
    "# LDREP= \n",
    "# REPRATIO= \n",
    "# DRATIO= \n",
    "# RRATIO= \n",
    "# REPSHIFT= \n",
    "# MRATIO1= \n",
    "# MRATIO2= \n",
    "# ON= 1 FOR AN ON-YEAR ELECTION, 0 FOR AN OFF-YEAR ELECTION\n",
    "# ONR1= \n",
    "# ONR2= \n",
    "# OND1= \n",
    "# OND2= \n",
    "# ON1= \n",
    "# ON2= \n",
    "# OFF= \n",
    "# OFF1= \n",
    "# OFF2= \n",
    "# PRESDIF= \n",
    "# RPRESDIF= \n",
    "# LRPDIF= \n",
    "# LPRESDIF= \n",
    "# LMTCONG= \n",
    "# DIFOYTC= \n",
    "# SHIFT= \n",
    "# FDR= \n",
    "# CPOINT= \n",
    "# CPCGNP= CHANGE IN YEARLY PER CAPITA GNP\n",
    "# CGNP= CHANGE IN YEARLY GNP\n",
    "# LGNP= \n",
    "# LINFLAT= "
   ]
  },
  {
   "cell_type": "code",
   "execution_count": 2,
   "metadata": {
    "collapsed": false
   },
   "outputs": [
    {
     "data": {
      "text/html": [
       "<ol class=list-inline>\n",
       "\t<li>'YEAR'</li>\n",
       "\t<li>'RCONG'</li>\n",
       "\t<li>'DCONG'</li>\n",
       "\t<li>'RPRES'</li>\n",
       "\t<li>'DPRES'</li>\n",
       "\t<li>'G'</li>\n",
       "\t<li>'PRCONT'</li>\n",
       "\t<li>'PDCONT'</li>\n",
       "\t<li>'TOTPRES'</li>\n",
       "\t<li>'TOTCONG'</li>\n",
       "\t<li>'RREP'</li>\n",
       "\t<li>'DREP'</li>\n",
       "\t<li>'TR'</li>\n",
       "\t<li>'INFLAT'</li>\n",
       "\t<li>'PREVINFL'</li>\n",
       "\t<li>'PREVGNP'</li>\n",
       "\t<li>'GNP'</li>\n",
       "\t<li>'TOTPOP18'</li>\n",
       "\t<li>'ELIGIBLE'</li>\n",
       "\t<li>'MRCONG'</li>\n",
       "\t<li>'MDCONG'</li>\n",
       "\t<li>'MRPRES'</li>\n",
       "\t<li>'MDPRES'</li>\n",
       "\t<li>'MTOTCONG'</li>\n",
       "\t<li>'MTOTPRES'</li>\n",
       "\t<li>'MTR'</li>\n",
       "\t<li>'VRCONG'</li>\n",
       "\t<li>'VDCONG'</li>\n",
       "\t<li>'VRPRES'</li>\n",
       "\t<li>'VDPRES'</li>\n",
       "\t<li>'VTOTCONG'</li>\n",
       "\t<li>'VTOTPRES'</li>\n",
       "\t<li>'VTR'</li>\n",
       "\t<li>'LMRCONG'</li>\n",
       "\t<li>'LMDCONG'</li>\n",
       "\t<li>'LRREP'</li>\n",
       "\t<li>'LDREP'</li>\n",
       "\t<li>'REPRATIO'</li>\n",
       "\t<li>'DRATIO'</li>\n",
       "\t<li>'RRATIO'</li>\n",
       "\t<li>'REPSHIFT'</li>\n",
       "\t<li>'MRATIO1'</li>\n",
       "\t<li>'MRATIO2'</li>\n",
       "\t<li>'ON'</li>\n",
       "\t<li>'ONR1'</li>\n",
       "\t<li>'ONR2'</li>\n",
       "\t<li>'OND1'</li>\n",
       "\t<li>'OND2'</li>\n",
       "\t<li>'ON1'</li>\n",
       "\t<li>'ON2'</li>\n",
       "\t<li>'OFF'</li>\n",
       "\t<li>'OFF1'</li>\n",
       "\t<li>'OFF2'</li>\n",
       "\t<li>'PRESDIF'</li>\n",
       "\t<li>'RPRESDIF'</li>\n",
       "\t<li>'LRPDIF'</li>\n",
       "\t<li>'LPRESDIF'</li>\n",
       "\t<li>'LMTCONG'</li>\n",
       "\t<li>'DIFOYTC'</li>\n",
       "\t<li>'SHIFT'</li>\n",
       "\t<li>'FDR'</li>\n",
       "\t<li>'CPOINT'</li>\n",
       "\t<li>'CPCGNP'</li>\n",
       "\t<li>'CGNP'</li>\n",
       "\t<li>'LGNP'</li>\n",
       "\t<li>'LINFLAT'</li>\n",
       "</ol>\n"
      ],
      "text/latex": [
       "\\begin{enumerate*}\n",
       "\\item 'YEAR'\n",
       "\\item 'RCONG'\n",
       "\\item 'DCONG'\n",
       "\\item 'RPRES'\n",
       "\\item 'DPRES'\n",
       "\\item 'G'\n",
       "\\item 'PRCONT'\n",
       "\\item 'PDCONT'\n",
       "\\item 'TOTPRES'\n",
       "\\item 'TOTCONG'\n",
       "\\item 'RREP'\n",
       "\\item 'DREP'\n",
       "\\item 'TR'\n",
       "\\item 'INFLAT'\n",
       "\\item 'PREVINFL'\n",
       "\\item 'PREVGNP'\n",
       "\\item 'GNP'\n",
       "\\item 'TOTPOP18'\n",
       "\\item 'ELIGIBLE'\n",
       "\\item 'MRCONG'\n",
       "\\item 'MDCONG'\n",
       "\\item 'MRPRES'\n",
       "\\item 'MDPRES'\n",
       "\\item 'MTOTCONG'\n",
       "\\item 'MTOTPRES'\n",
       "\\item 'MTR'\n",
       "\\item 'VRCONG'\n",
       "\\item 'VDCONG'\n",
       "\\item 'VRPRES'\n",
       "\\item 'VDPRES'\n",
       "\\item 'VTOTCONG'\n",
       "\\item 'VTOTPRES'\n",
       "\\item 'VTR'\n",
       "\\item 'LMRCONG'\n",
       "\\item 'LMDCONG'\n",
       "\\item 'LRREP'\n",
       "\\item 'LDREP'\n",
       "\\item 'REPRATIO'\n",
       "\\item 'DRATIO'\n",
       "\\item 'RRATIO'\n",
       "\\item 'REPSHIFT'\n",
       "\\item 'MRATIO1'\n",
       "\\item 'MRATIO2'\n",
       "\\item 'ON'\n",
       "\\item 'ONR1'\n",
       "\\item 'ONR2'\n",
       "\\item 'OND1'\n",
       "\\item 'OND2'\n",
       "\\item 'ON1'\n",
       "\\item 'ON2'\n",
       "\\item 'OFF'\n",
       "\\item 'OFF1'\n",
       "\\item 'OFF2'\n",
       "\\item 'PRESDIF'\n",
       "\\item 'RPRESDIF'\n",
       "\\item 'LRPDIF'\n",
       "\\item 'LPRESDIF'\n",
       "\\item 'LMTCONG'\n",
       "\\item 'DIFOYTC'\n",
       "\\item 'SHIFT'\n",
       "\\item 'FDR'\n",
       "\\item 'CPOINT'\n",
       "\\item 'CPCGNP'\n",
       "\\item 'CGNP'\n",
       "\\item 'LGNP'\n",
       "\\item 'LINFLAT'\n",
       "\\end{enumerate*}\n"
      ],
      "text/markdown": [
       "1. 'YEAR'\n",
       "2. 'RCONG'\n",
       "3. 'DCONG'\n",
       "4. 'RPRES'\n",
       "5. 'DPRES'\n",
       "6. 'G'\n",
       "7. 'PRCONT'\n",
       "8. 'PDCONT'\n",
       "9. 'TOTPRES'\n",
       "10. 'TOTCONG'\n",
       "11. 'RREP'\n",
       "12. 'DREP'\n",
       "13. 'TR'\n",
       "14. 'INFLAT'\n",
       "15. 'PREVINFL'\n",
       "16. 'PREVGNP'\n",
       "17. 'GNP'\n",
       "18. 'TOTPOP18'\n",
       "19. 'ELIGIBLE'\n",
       "20. 'MRCONG'\n",
       "21. 'MDCONG'\n",
       "22. 'MRPRES'\n",
       "23. 'MDPRES'\n",
       "24. 'MTOTCONG'\n",
       "25. 'MTOTPRES'\n",
       "26. 'MTR'\n",
       "27. 'VRCONG'\n",
       "28. 'VDCONG'\n",
       "29. 'VRPRES'\n",
       "30. 'VDPRES'\n",
       "31. 'VTOTCONG'\n",
       "32. 'VTOTPRES'\n",
       "33. 'VTR'\n",
       "34. 'LMRCONG'\n",
       "35. 'LMDCONG'\n",
       "36. 'LRREP'\n",
       "37. 'LDREP'\n",
       "38. 'REPRATIO'\n",
       "39. 'DRATIO'\n",
       "40. 'RRATIO'\n",
       "41. 'REPSHIFT'\n",
       "42. 'MRATIO1'\n",
       "43. 'MRATIO2'\n",
       "44. 'ON'\n",
       "45. 'ONR1'\n",
       "46. 'ONR2'\n",
       "47. 'OND1'\n",
       "48. 'OND2'\n",
       "49. 'ON1'\n",
       "50. 'ON2'\n",
       "51. 'OFF'\n",
       "52. 'OFF1'\n",
       "53. 'OFF2'\n",
       "54. 'PRESDIF'\n",
       "55. 'RPRESDIF'\n",
       "56. 'LRPDIF'\n",
       "57. 'LPRESDIF'\n",
       "58. 'LMTCONG'\n",
       "59. 'DIFOYTC'\n",
       "60. 'SHIFT'\n",
       "61. 'FDR'\n",
       "62. 'CPOINT'\n",
       "63. 'CPCGNP'\n",
       "64. 'CGNP'\n",
       "65. 'LGNP'\n",
       "66. 'LINFLAT'\n",
       "\n",
       "\n"
      ],
      "text/plain": [
       " [1] \"YEAR\"     \"RCONG\"    \"DCONG\"    \"RPRES\"    \"DPRES\"    \"G\"       \n",
       " [7] \"PRCONT\"   \"PDCONT\"   \"TOTPRES\"  \"TOTCONG\"  \"RREP\"     \"DREP\"    \n",
       "[13] \"TR\"       \"INFLAT\"   \"PREVINFL\" \"PREVGNP\"  \"GNP\"      \"TOTPOP18\"\n",
       "[19] \"ELIGIBLE\" \"MRCONG\"   \"MDCONG\"   \"MRPRES\"   \"MDPRES\"   \"MTOTCONG\"\n",
       "[25] \"MTOTPRES\" \"MTR\"      \"VRCONG\"   \"VDCONG\"   \"VRPRES\"   \"VDPRES\"  \n",
       "[31] \"VTOTCONG\" \"VTOTPRES\" \"VTR\"      \"LMRCONG\"  \"LMDCONG\"  \"LRREP\"   \n",
       "[37] \"LDREP\"    \"REPRATIO\" \"DRATIO\"   \"RRATIO\"   \"REPSHIFT\" \"MRATIO1\" \n",
       "[43] \"MRATIO2\"  \"ON\"       \"ONR1\"     \"ONR2\"     \"OND1\"     \"OND2\"    \n",
       "[49] \"ON1\"      \"ON2\"      \"OFF\"      \"OFF1\"     \"OFF2\"     \"PRESDIF\" \n",
       "[55] \"RPRESDIF\" \"LRPDIF\"   \"LPRESDIF\" \"LMTCONG\"  \"DIFOYTC\"  \"SHIFT\"   \n",
       "[61] \"FDR\"      \"CPOINT\"   \"CPCGNP\"   \"CGNP\"     \"LGNP\"     \"LINFLAT\" "
      ]
     },
     "metadata": {},
     "output_type": "display_data"
    }
   ],
   "source": [
    "# Get our data\n",
    "mydata <- read.table(\"usparty.txt\")\n",
    "\n",
    "# lets us see all the variables\n",
    "names(mydata)  "
   ]
  },
  {
   "cell_type": "code",
   "execution_count": 3,
   "metadata": {
    "collapsed": false
   },
   "outputs": [
    {
     "data": {
      "text/plain": [
       "      YEAR         MTOTCONG     \n",
       " Min.   :1896   Min.   :0.2994  \n",
       " 1st Qu.:1919   1st Qu.:0.4130  \n",
       " Median :1942   Median :0.4638  \n",
       " Mean   :1942   Mean   :0.4677  \n",
       " 3rd Qu.:1965   3rd Qu.:0.5404  \n",
       " Max.   :1988   Max.   :0.7579  "
      ]
     },
     "metadata": {},
     "output_type": "display_data"
    }
   ],
   "source": [
    "# This keeps only the two variables we need\n",
    "mysubsetdata <- subset(mydata, select=c(YEAR, MTOTCONG))\n",
    "summary(mysubsetdata)"
   ]
  },
  {
   "cell_type": "code",
   "execution_count": 4,
   "metadata": {
    "collapsed": false
   },
   "outputs": [
    {
     "name": "stdout",
     "output_type": "stream",
     "text": [
      "  YEAR  MTOTCONG\n",
      "1 1896 0.7579143\n",
      "2 1898 0.5706568\n",
      "3 1900 0.6483015\n",
      "4 1902 0.4801695\n",
      "5 1904 0.5435825\n",
      "6 1906 0.4302022\n"
     ]
    }
   ],
   "source": [
    "print(head(mysubsetdata))"
   ]
  },
  {
   "cell_type": "code",
   "execution_count": 5,
   "metadata": {
    "collapsed": false
   },
   "outputs": [
    {
     "data": {
      "image/png": "[encoded data removed]",
      "text/plain": [
       "Plot with title \"Figure 1: Plot of US Congressional Mobilization\""
      ]
     },
     "metadata": {},
     "output_type": "display_data"
    }
   ],
   "source": [
    "# Investigating pattern Congretional mobilization\n",
    "plot(mysubsetdata$YEAR, mysubsetdata$MTOTCONG, xlab=\"\", ylab=\"\",\n",
    "    ylim=c(0.2,0.8), pch=19, type=\"o\", col=\"blue\")\n",
    "title(xlab=\"Year\", ylab=\"Congressional Mobilization\",\n",
    "      main=\"Figure 1: Plot of US Congressional Mobilization\",\n",
    "     cex=1.5, col=\"black\", font=2)"
   ]
  },
  {
   "cell_type": "code",
   "execution_count": 6,
   "metadata": {
    "collapsed": false
   },
   "outputs": [
    {
     "data": {
      "text/html": [
       "0.467712890033299"
      ],
      "text/latex": [
       "0.467712890033299"
      ],
      "text/markdown": [
       "0.467712890033299"
      ],
      "text/plain": [
       "[1] 0.4677129"
      ]
     },
     "metadata": {},
     "output_type": "display_data"
    }
   ],
   "source": [
    "#Now let us get the overall mean for the congressional mobilization\n",
    "mean(mysubsetdata$MTOTCONG)"
   ]
  },
  {
   "cell_type": "code",
   "execution_count": 7,
   "metadata": {
    "collapsed": false
   },
   "outputs": [
    {
     "name": "stdout",
     "output_type": "stream",
     "text": [
      "   YEAR  MTOTCONG\n",
      "28 1950 0.4116615\n",
      "29 1952 0.5746670\n",
      "30 1954 0.4172303\n",
      "31 1956 0.5608612\n",
      "32 1958 0.4228058\n",
      "33 1960 0.5797567\n",
      "34 1962 0.4559034\n",
      "35 1964 0.5898774\n",
      "36 1966 0.4560730\n",
      "37 1968 0.5519243\n",
      "38 1970 0.4364320\n"
     ]
    }
   ],
   "source": [
    "# Now let us work with just the years 1950 through 1970\n",
    "my5070data <- subset(mysubsetdata, YEAR>=1950 & YEAR<=1970)\n",
    "print(my5070data)"
   ]
  },
  {
   "cell_type": "code",
   "execution_count": 8,
   "metadata": {
    "collapsed": false
   },
   "outputs": [
    {
     "data": {
      "image/png": "[encoded data removed]",
      "text/plain": [
       "Plot with title \"Figure 2: Plot of US Congressional Mobilization 1950-70\""
      ]
     },
     "metadata": {},
     "output_type": "display_data"
    }
   ],
   "source": [
    "# Plotting data for 1950-1970\n",
    "plot(my5070data$YEAR, my5070data$MTOTCONG, xlab=\"\", ylab=\"\",\n",
    "    ylim=c(0.2,0.8), pch=19, type=\"o\", col=\"black\", axes=FALSE)\n",
    "\n",
    "# This defines the x-axis tick marks\n",
    "axis(1, at=c(1952, 1956, 1960, 1964, 1968))\n",
    "# This defines the y-axis \n",
    "axis(2, yaxs=\"r\")\n",
    "box()\n",
    "title(xlab=\"Year\", ylab=\"Congressional Mobilization\",\n",
    "      main=\"Figure 2: Plot of US Congressional Mobilization 1950-70\",\n",
    "     cex=1.5, col=\"black\", font=2)"
   ]
  },
  {
   "cell_type": "code",
   "execution_count": 9,
   "metadata": {
    "collapsed": false
   },
   "outputs": [
    {
     "data": {
      "text/html": [
       "0.496108424917445"
      ],
      "text/latex": [
       "0.496108424917445"
      ],
      "text/markdown": [
       "0.496108424917445"
      ],
      "text/plain": [
       "[1] 0.4961084"
      ]
     },
     "metadata": {},
     "output_type": "display_data"
    }
   ],
   "source": [
    "mean(my5070data$MTOTCONG)"
   ]
  },
  {
   "cell_type": "code",
   "execution_count": 10,
   "metadata": {
    "collapsed": false
   },
   "outputs": [
    {
     "name": "stdout",
     "output_type": "stream",
     "text": [
      "   YEAR  MTOTCONG\n",
      "39 1972 0.5057479\n",
      "40 1974 0.3574957\n",
      "41 1976 0.4879879\n",
      "42 1978 0.3506242\n",
      "43 1980 0.4754198\n",
      "44 1982 0.3806203\n",
      "45 1984 0.4757716\n",
      "46 1986 0.3340337\n",
      "47 1988 0.4478284\n"
     ]
    }
   ],
   "source": [
    "# using the 1988-1972 data\n",
    "my7288data <- subset(mysubsetdata, YEAR>=1972 & YEAR<=1988)\n",
    "print(my7288data)"
   ]
  },
  {
   "cell_type": "code",
   "execution_count": 11,
   "metadata": {
    "collapsed": false
   },
   "outputs": [
    {
     "data": {
      "image/png": "[encoded data removed]",
      "text/plain": [
       "Plot with title \"Figure 3: Plot of US Congressional Mobilization 1972-88\""
      ]
     },
     "metadata": {},
     "output_type": "display_data"
    }
   ],
   "source": [
    "# Plotting data for 1950-1970\n",
    "plot(my7288data$YEAR, my7288data$MTOTCONG, xlab=\"\", ylab=\"\",\n",
    "    ylim=c(0.2,0.8), pch=19, type=\"o\", col=\"black\", axes=FALSE)\n",
    "\n",
    "# This defines the x-axis tick marks\n",
    "axis(1, at=c(1972, 1976, 1980, 1984, 1988))\n",
    "# This defines the y-axis \n",
    "axis(2, yaxs=\"r\")\n",
    "box()\n",
    "title(xlab=\"Year\", ylab=\"Congressional Mobilization\",\n",
    "      main=\"Figure 3: Plot of US Congressional Mobilization 1972-88\",\n",
    "     cex=1.5, col=\"black\", font=2)"
   ]
  },
  {
   "cell_type": "code",
   "execution_count": 12,
   "metadata": {
    "collapsed": false
   },
   "outputs": [
    {
     "data": {
      "text/html": [
       "0.423947722281327"
      ],
      "text/latex": [
       "0.423947722281327"
      ],
      "text/markdown": [
       "0.423947722281327"
      ],
      "text/plain": [
       "[1] 0.4239477"
      ]
     },
     "metadata": {},
     "output_type": "display_data"
    }
   ],
   "source": [
    "mean(my7288data$MTOTCONG)"
   ]
  },
  {
   "cell_type": "code",
   "execution_count": 13,
   "metadata": {
    "collapsed": false
   },
   "outputs": [
    {
     "name": "stdout",
     "output_type": "stream",
     "text": [
      "[1] \"ON YEAR MEAN\"\n",
      "[1] 0.5714173\n",
      "[1] \"OFF YEAR MEAN\"\n",
      "[1] 0.433351\n"
     ]
    }
   ],
   "source": [
    "# Comparing on and off years 1950-1970\n",
    "myON5070data <- subset(mysubsetdata, YEAR==1952|YEAR==1956|YEAR==1960|YEAR==1964|YEAR==1968)\n",
    "print(\"ON YEAR MEAN\")\n",
    "print(mean(myON5070data$MTOTCONG))\n",
    "\n",
    "print(\"OFF YEAR MEAN\")\n",
    "myOFF5070data <- subset(mysubsetdata, YEAR==1950|YEAR==1954|YEAR==1958|YEAR==1962|YEAR==1966|YEAR==1970)\n",
    "print(mean(myOFF5070data$MTOTCONG))"
   ]
  },
  {
   "cell_type": "code",
   "execution_count": 14,
   "metadata": {
    "collapsed": false
   },
   "outputs": [
    {
     "name": "stdout",
     "output_type": "stream",
     "text": [
      "[1] \"ON YEAR MEAN\"\n",
      "[1] 0.4785511\n",
      "[1] \"OFF YEAR MEAN\"\n",
      "[1] 0.3556935\n"
     ]
    }
   ],
   "source": [
    "# Comparing on and off years 1972-1988\n",
    "myON7288data <- subset(mysubsetdata, YEAR==1972|YEAR==1976|YEAR==1980|YEAR==1984|YEAR==1988)\n",
    "print(\"ON YEAR MEAN\")\n",
    "print(mean(myON7288data$MTOTCONG))\n",
    "\n",
    "print(\"OFF YEAR MEAN\")\n",
    "myOFF7288data <- subset(mysubsetdata, YEAR==1974|YEAR==1978|YEAR==1982|YEAR==1986)\n",
    "print(mean(myOFF7288data$MTOTCONG))"
   ]
  },
  {
   "cell_type": "markdown",
   "metadata": {},
   "source": [
    "## Confidence Intervals"
   ]
  },
  {
   "cell_type": "code",
   "execution_count": null,
   "metadata": {
    "collapsed": true
   },
   "outputs": [],
   "source": []
  },
  {
   "cell_type": "markdown",
   "metadata": {},
   "source": [
    "## Cross Tabulations and Chi square tests"
   ]
  },
  {
   "cell_type": "code",
   "execution_count": null,
   "metadata": {
    "collapsed": true
   },
   "outputs": [],
   "source": []
  }
 ],
 "metadata": {
  "kernelspec": {
   "display_name": "R",
   "language": "R",
   "name": "ir"
  },
  "language_info": {
   "codemirror_mode": "r",
   "file_extension": ".r",
   "mimetype": "text/x-r-source",
   "name": "R",
   "pygments_lexer": "r",
   "version": "3.3.2"
  }
 },
 "nbformat": 4,
 "nbformat_minor": 2
}
